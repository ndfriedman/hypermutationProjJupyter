{
 "cells": [
  {
   "cell_type": "code",
   "execution_count": 3,
   "metadata": {},
   "outputs": [],
   "source": [
    "import sys\n",
    "import argparse\n",
    "import os\n",
    "import pandas as pd\n",
    "import numpy as np\n",
    "import math\n",
    "\n",
    "from collections import Counter\n",
    "\n",
    "pathPrefix = '/Users/friedman/Desktop/mnt'\n",
    "\n",
    "sys.path.append(pathPrefix + '/juno/work/taylorlab/friedman/myUtils')\n",
    "import analysis_utils \n",
    "import mutationSigUtils \n",
    "import maf_analysis_utils\n",
    "import clonality_analysis_util\n",
    "import get_gene_and_cohort_list_utils\n",
    "import mutationSigUtils"
   ]
  },
  {
   "cell_type": "code",
   "execution_count": 39,
   "metadata": {},
   "outputs": [],
   "source": [
    "multipleSampleSignatures = pd.read_table(pathPrefix + '/juno/work/taylorlab/friedman/myAdjustedDataFiles/HypermutantMultipleSamplesBranchMutationalSignatures.tsv')\n",
    "multipleSampleSignatures['Nmut'] = multipleSampleSignatures['Number of Mutations']"
   ]
  },
  {
   "cell_type": "code",
   "execution_count": 40,
   "metadata": {},
   "outputs": [],
   "source": [
    "multipleSampleSignatures = mutationSigUtils.merge_signature_columns(multipleSampleSignatures, mode='Stratton', drop=True, mmrAgingMerge=True, smokingMerge=False, confidence=False, mean=True, prefix='Signature.')\n"
   ]
  },
  {
   "cell_type": "code",
   "execution_count": 41,
   "metadata": {},
   "outputs": [],
   "source": [
    "multipleSampleSignatures['dominantSignature'] = multipleSampleSignatures.apply(lambda row: \n",
    "        mutationSigUtils.get_dominant_signature(row.to_dict(), cols=None, prefix='Signature.', notEnoughMuts= True), axis=1)"
   ]
  },
  {
   "cell_type": "code",
   "execution_count": 61,
   "metadata": {},
   "outputs": [],
   "source": [
    "#TODO decompose at least part of this into a function that can work for clonality too\n",
    "multipleSampleSignatures['pid'] = multipleSampleSignatures['Sample Name'].apply(lambda x: x[:9])\n",
    "for v in set(multipleSampleSignatures['pid']):\n",
    "    patients.add(v)\n",
    "\n",
    "#Enumerates how the trunk signature \n",
    "listOfDicts = []\n",
    "for patient in patients:\n",
    "    patientSigs = multipleSampleSignatures[multipleSampleSignatures['pid'] == patient]\n",
    "    patientSigsDict = dict(zip(patientSigs['Sample Name'], patientSigs['dominantSignature']))\n",
    "    trunkKey = patient + '_trunk'\n",
    "    if trunkKey in patientSigsDict:\n",
    "        trunkSig = patientSigsDict[trunkKey]\n",
    "        for sample, domSig in patientSigsDict.items():\n",
    "            if sample != trunkKey:\n",
    "                branchDomSig = patientSigs[patientSigs['Sample Name'] == sample]['dominantSignature'].iloc[0]\n",
    "                if branchDomSig != 'insufficientMutBurden':\n",
    "                #record how signatures change\n",
    "                    trunkSigMagnitudeInTrunk = patientSigs[patientSigs['Sample Name'] == trunkKey][trunkSig].iloc[0]\n",
    "                    trunkSigMagnitudeInBranch = patientSigs[patientSigs['Sample Name'] == sample][trunkSig].iloc[0]\n",
    "                    branchDomSig = patientSigs[patientSigs['Sample Name'] == sample]['dominantSignature'].iloc[0]\n",
    "                    branchSigMagnitudeInTrunk = patientSigs[patientSigs['Sample Name'] == trunkKey][branchDomSig].iloc[0]\n",
    "                    branchSigMagnitudeInBranch = patientSigs[patientSigs['Sample Name'] == sample][branchDomSig].iloc[0]\n",
    "\n",
    "                    transitionOccurred = 'None'\n",
    "                    if trunkSig != branchDomSig:\n",
    "                        transitionOccurred = trunkSig + '->' + branchDomSig\n",
    "                    listOfDicts.append(\n",
    "                    {'patient': patient, 'branch': sample, 'Transition': transitionOccurred, \n",
    "                    'trunkSigTMagnitude': trunkSigMagnitudeInTrunk, 'trunkSigBMagnitude': trunkSigMagnitudeInBranch,\n",
    "                    'branchSigTMagnitude': branchSigMagnitudeInTrunk, 'branchSigBMagnitude': branchSigMagnitudeInBranch})\n",
    "\n",
    "df = pd.DataFrame(listOfDicts)"
   ]
  },
  {
   "cell_type": "code",
   "execution_count": 63,
   "metadata": {},
   "outputs": [],
   "source": [
    "df.to_csv('/Users/friedman/Desktop/WORK/dataForLocalPlotting/privateVsSharedSigs.tsv', index=False, sep='\\t')"
   ]
  },
  {
   "cell_type": "code",
   "execution_count": null,
   "metadata": {},
   "outputs": [],
   "source": [
    "#\n",
    "#\n",
    "#Now look at differences in induction of mutations in truncal vs private"
   ]
  },
  {
   "cell_type": "code",
   "execution_count": null,
   "metadata": {},
   "outputs": [],
   "source": [
    "#exclude P-0003650"
   ]
  },
  {
   "cell_type": "markdown",
   "metadata": {},
   "source": [
    "*CLONAL/SUBCLONAL*<br><br><br><br><br><br>"
   ]
  },
  {
   "cell_type": "code",
   "execution_count": 103,
   "metadata": {},
   "outputs": [],
   "source": [
    "clonalSubclonalSignatures = pd.read_table(pathPrefix + '/juno/work/taylorlab/friedman/myAdjustedDataFiles/hypermutatorClonalVsSubclonalSignaturesmutationalSignatuesOutput.txt')"
   ]
  },
  {
   "cell_type": "code",
   "execution_count": 104,
   "metadata": {},
   "outputs": [],
   "source": [
    "clonalSubclonalSignatures['Nmut'] = clonalSubclonalSignatures['Number of Mutations']\n",
    "clonalSubclonalSignatures = mutationSigUtils.merge_signature_columns(clonalSubclonalSignatures, mode='Stratton', drop=True, mmrAgingMerge=True, smokingMerge=True, tmzMerge=True, confidence=False, mean=True, prefix='Signature.')\n",
    "clonalSubclonalSignatures['dominantSignature'] = clonalSubclonalSignatures.apply(lambda row: \n",
    "        mutationSigUtils.get_dominant_signature(row.to_dict(), cols=None, prefix='Signature.', notEnoughMuts= True), axis=1)\n"
   ]
  },
  {
   "cell_type": "code",
   "execution_count": 105,
   "metadata": {},
   "outputs": [],
   "source": [
    "clonalSubclonalSignatures['pid'] = clonalSubclonalSignatures['Sample Name'].apply(lambda x: x[:9])\n"
   ]
  },
  {
   "cell_type": "code",
   "execution_count": 106,
   "metadata": {},
   "outputs": [],
   "source": [
    "clonalSubclonalSignatures['Tumor_Sample_Barcode'] = clonalSubclonalSignatures['Sample Name'].apply(lambda x: x[:17])"
   ]
  },
  {
   "cell_type": "code",
   "execution_count": 174,
   "metadata": {},
   "outputs": [],
   "source": [
    "listOfDicts = []\n",
    "for sample in set(clonalSubclonalSignatures['Tumor_Sample_Barcode']):\n",
    "    sampleSigs = clonalSubclonalSignatures[clonalSubclonalSignatures['Tumor_Sample_Barcode'] == sample]\n",
    "    \n",
    "    if sample + '_clonal' in set(sampleSigs['Sample Name']) and sample + '_subclonal' in set(sampleSigs['Sample Name']):\n",
    "        clonalDominantSig =  sampleSigs[sampleSigs['Sample Name'] == sample + '_clonal']['dominantSignature'].iloc[0]\n",
    "        subclonalDominantSig = sampleSigs[sampleSigs['Sample Name'] == sample + '_subclonal']['dominantSignature'].iloc[0]\n",
    "        if subclonalDominantSig != 'insufficientMutBurden':\n",
    "            transitionOccurred = 'None'\n",
    "            \n",
    "            subclonalDomSigInClone = sampleSigs[sampleSigs['Sample Name'] == sample + '_clonal'][subclonalDominantSig].iloc[0]\n",
    "            subclonalDomSigInSubclone = sampleSigs[sampleSigs['Sample Name'] == sample + '_subclonal'][subclonalDominantSig].iloc[0]\n",
    "           \n",
    "            if clonalDominantSig != subclonalDominantSig:\n",
    "                if clonalDominantSig == 'insufficientMutBurden':\n",
    "                    transitionOccurred = 'fewClonalMutations'\n",
    "                else:\n",
    "                    transitionOccurred = clonalDominantSig + '->' + subclonalDominantSig\n",
    "            listOfDicts.append({'clonalDominantSig': clonalDominantSig, 'subclonalDominantSig': subclonalDominantSig,\n",
    "                                'subclonalDomSigInClone': subclonalDomSigInClone, 'subclonalDomSigInSubclone': subclonalDomSigInSubclone,\n",
    "                                'sample': sample, 'transition': transitionOccurred, 'pid': sample[:9]\n",
    "                               })\n",
    "    df = pd.DataFrame(listOfDicts)"
   ]
  },
  {
   "cell_type": "code",
   "execution_count": 175,
   "metadata": {},
   "outputs": [],
   "source": [
    "transitionsToMark = [transition for transition, count in Counter(df['transition']).items() if count > 1]\n",
    "df['transitionLabel'] = df['transition'].apply(lambda x: \n",
    "               x if x in transitionsToMark else 'other')\n",
    "#df = df[df['transitionLabel'] != 'fewClonalMutations']\n",
    "transitionCounter = Counter(df['transitionLabel'])\n",
    "df['transitionLabel'] = df['transitionLabel'].apply(lambda x: str(x) + '_n=' + str(transitionCounter[x]))\n"
   ]
  },
  {
   "cell_type": "code",
   "execution_count": 176,
   "metadata": {},
   "outputs": [],
   "source": [
    "df.to_csv('/Users/friedman/Desktop/WORK/dataForLocalPlotting/subclonalVsClonalSigs.tsv', sep='\\t', index=False)"
   ]
  },
  {
   "cell_type": "code",
   "execution_count": 178,
   "metadata": {},
   "outputs": [
    {
     "name": "stdout",
     "output_type": "stream",
     "text": [
      "P-0023479-T01-IM6\n",
      "P-0017697-T01-IM6\n",
      "P-0017299-T01-IM6\n",
      "P-0014258-T01-IM6\n",
      "P-0035468-T01-IM6\n",
      "P-0001229-T01-IM3\n",
      "P-0026440-T01-IM6\n",
      "P-0017986-T02-IM6\n",
      "P-0008401-T01-IM5\n",
      "P-0020069-T01-IM6\n",
      "P-0006265-T01-IM5\n",
      "P-0033503-T01-IM6\n",
      "P-0006269-T01-IM5\n",
      "P-0025735-T01-IM6\n",
      "P-0017385-T01-IM6\n",
      "P-0010765-T01-IM5\n",
      "P-0012047-T01-IM5\n",
      "P-0003182-T01-IM5\n",
      "P-0004754-T01-IM5\n",
      "P-0006170-T01-IM5\n",
      "P-0036505-T01-IM6\n",
      "P-0026678-T01-IM6\n",
      "P-0016341-T01-IM6\n",
      "P-0016904-T01-IM6\n",
      "P-0002075-T01-IM3\n",
      "P-0030708-T01-IM6\n",
      "P-0020850-T01-IM6\n",
      "P-0005823-T01-IM5\n",
      "P-0018353-T01-IM6\n",
      "P-0016247-T01-IM6\n",
      "P-0011239-T02-IM5\n",
      "P-0008226-T02-IM5\n",
      "P-0028600-T01-IM6\n",
      "P-0034095-T01-IM6\n",
      "P-0002186-T01-IM3\n",
      "P-0004423-T01-IM5\n",
      "P-0020633-T02-IM6\n",
      "P-0036924-T01-IM6\n",
      "P-0009484-T01-IM5\n",
      "P-0020356-T01-IM6\n",
      "P-0034671-T02-IM6\n",
      "P-0035180-T01-IM6\n",
      "P-0013218-T01-IM5\n",
      "P-0011068-T01-IM5\n",
      "P-0020227-T01-IM6\n",
      "P-0017841-T01-IM6\n",
      "P-0004614-T01-IM5\n",
      "P-0017839-T01-IM6\n",
      "P-0024488-T01-IM6\n",
      "P-0006753-T01-IM5\n",
      "P-0021769-T01-IM6\n",
      "P-0004255-T01-IM5\n",
      "P-0001420-T01-IM3\n"
     ]
    }
   ],
   "source": [
    "for i in df[df['transition'] == 'fewClonalMutations']['sample']:\n",
    "    print i"
   ]
  },
  {
   "cell_type": "code",
   "execution_count": 173,
   "metadata": {},
   "outputs": [
    {
     "data": {
      "text/html": [
       "<div>\n",
       "<style scoped>\n",
       "    .dataframe tbody tr th:only-of-type {\n",
       "        vertical-align: middle;\n",
       "    }\n",
       "\n",
       "    .dataframe tbody tr th {\n",
       "        vertical-align: top;\n",
       "    }\n",
       "\n",
       "    .dataframe thead th {\n",
       "        text-align: right;\n",
       "    }\n",
       "</style>\n",
       "<table border=\"1\" class=\"dataframe\">\n",
       "  <thead>\n",
       "    <tr style=\"text-align: right;\">\n",
       "      <th></th>\n",
       "      <th>Sample Name</th>\n",
       "      <th>Signature.MMR</th>\n",
       "      <th>Signature.7</th>\n",
       "      <th>dominantSignature</th>\n",
       "    </tr>\n",
       "  </thead>\n",
       "  <tbody>\n",
       "    <tr>\n",
       "      <th>221</th>\n",
       "      <td>P-0002998-T01-IM3_subclonal</td>\n",
       "      <td>0.126629</td>\n",
       "      <td>0.595993</td>\n",
       "      <td>Signature.7</td>\n",
       "    </tr>\n",
       "    <tr>\n",
       "      <th>523</th>\n",
       "      <td>P-0020042-T01-IM6_clonal</td>\n",
       "      <td>0.364789</td>\n",
       "      <td>0.126252</td>\n",
       "      <td>Signature.AGING/MMR</td>\n",
       "    </tr>\n",
       "    <tr>\n",
       "      <th>525</th>\n",
       "      <td>P-0020042-T01-IM6_subclonal</td>\n",
       "      <td>0.096229</td>\n",
       "      <td>0.436326</td>\n",
       "      <td>Signature.7</td>\n",
       "    </tr>\n",
       "    <tr>\n",
       "      <th>820</th>\n",
       "      <td>P-0002998-T01-IM3_clonal</td>\n",
       "      <td>0.147998</td>\n",
       "      <td>0.274868</td>\n",
       "      <td>Signature.AGING/MMR</td>\n",
       "    </tr>\n",
       "  </tbody>\n",
       "</table>\n",
       "</div>"
      ],
      "text/plain": [
       "                     Sample Name  Signature.MMR  Signature.7  \\\n",
       "221  P-0002998-T01-IM3_subclonal       0.126629     0.595993   \n",
       "523     P-0020042-T01-IM6_clonal       0.364789     0.126252   \n",
       "525  P-0020042-T01-IM6_subclonal       0.096229     0.436326   \n",
       "820     P-0002998-T01-IM3_clonal       0.147998     0.274868   \n",
       "\n",
       "       dominantSignature  \n",
       "221          Signature.7  \n",
       "523  Signature.AGING/MMR  \n",
       "525          Signature.7  \n",
       "820  Signature.AGING/MMR  "
      ]
     },
     "execution_count": 173,
     "metadata": {},
     "output_type": "execute_result"
    }
   ],
   "source": [
    "clonalSubclonalSignatures[clonalSubclonalSignatures['Tumor_Sample_Barcode'].isin(set(['P-0002998-T01-IM3',\n",
    "'P-0020042-T01-IM6']))][['Sample Name', 'Signature.MMR', 'Signature.7', 'dominantSignature']]\n"
   ]
  },
  {
   "cell_type": "code",
   "execution_count": null,
   "metadata": {},
   "outputs": [],
   "source": []
  },
  {
   "cell_type": "code",
   "execution_count": 190,
   "metadata": {},
   "outputs": [],
   "source": [
    "#\n",
    "#####\n",
    "###############\n",
    "#####################\n",
    "\n",
    "samDf = pd.read_table('/Users/friedman/Downloads/mut.temp.hyper.context.tsv')"
   ]
  },
  {
   "cell_type": "code",
   "execution_count": 202,
   "metadata": {},
   "outputs": [
    {
     "data": {
      "text/plain": [
       "[('TCTG', 10),\n",
       " ('TCAA', 6),\n",
       " ('CCTG', 6),\n",
       " ('CCTA', 5),\n",
       " ('GCTA', 3),\n",
       " ('ACTA', 3),\n",
       " ('TCAC', 2),\n",
       " ('CTCA', 2),\n",
       " ('TCTC', 2),\n",
       " ('ACTC', 1)]"
      ]
     },
     "execution_count": 202,
     "metadata": {},
     "output_type": "execute_result"
    }
   ],
   "source": [
    "#Counter(samDf['top_sig']).most_common(20)\n",
    "#samDf.columns.values\n",
    "Counter(samDf[samDf['top_sig'].isnull()]['tetanucleotideContext']).most_common(10)\n",
    "#samDf[samDf['top_sig'].isnull()][['tetanucleotideContext', 'top_sig', 'Hypermutated', 'signaturesPresentInCase', 'Nmut_Mb']]"
   ]
  }
 ],
 "metadata": {
  "kernelspec": {
   "display_name": "Python 2",
   "language": "python",
   "name": "python2"
  },
  "language_info": {
   "codemirror_mode": {
    "name": "ipython",
    "version": 2
   },
   "file_extension": ".py",
   "mimetype": "text/x-python",
   "name": "python",
   "nbconvert_exporter": "python",
   "pygments_lexer": "ipython2",
   "version": "2.7.15"
  }
 },
 "nbformat": 4,
 "nbformat_minor": 2
}
