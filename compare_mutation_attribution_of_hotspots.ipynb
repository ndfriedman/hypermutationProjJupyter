{
 "cells": [
  {
   "cell_type": "code",
   "execution_count": 4,
   "metadata": {},
   "outputs": [],
   "source": [
    "import sys\n",
    "import argparse\n",
    "import os\n",
    "import pandas as pd\n",
    "import numpy as np\n",
    "\n",
    "from collections import Counter\n",
    "\n",
    "from collections import Counter\n",
    "\n",
    "pathPrefix = '/Users/friedman/Desktop/mnt'\n",
    "sys.path.append(pathPrefix + '/ifs/work/taylorlab/friedman/myUtils')\n",
    "import analysis_utils \n",
    "import mutationSigUtils \n",
    "import maf_analysis_utils\n",
    "import mutation_modeling_util  \n",
    "import clonality_analysis_util"
   ]
  },
  {
   "cell_type": "code",
   "execution_count": 11,
   "metadata": {},
   "outputs": [],
   "source": [
    "#First load and reformat impact sigs so I can properly work with them\n",
    "#impactSigs = pd.read_table(pathPrefix + '/ifs/work/taylorlab/friedman/hypermutationAnalysisProj/projectDataAndConfigFiles/signatures_from_unfiltered_maf.txt')\n",
    "renameDict = dict([('mean_' + str(i), 'Signature.' + str(i)) for i in range(1,31)] +\n",
    "[('Tumor_Sample_Barcode', 'Sample Name'), ('Nmut', 'Number of Mutations')])\n",
    "impactSigs = impactSigs.rename(columns=renameDict)\n",
    "impactSigs = impactSigs[renameDict.values()]\n",
    "\n"
   ]
  },
  {
   "cell_type": "code",
   "execution_count": 14,
   "metadata": {},
   "outputs": [],
   "source": [
    "impactSigs.to_csv(pathPrefix + '/ifs/work/taylorlab/friedman/hypermutationAnalysisProj/impactSigsReformatted.tsv', index=False, sep='\\t')\n",
    "#TODO run the signature attribition script on this\n"
   ]
  },
  {
   "cell_type": "code",
   "execution_count": 35,
   "metadata": {},
   "outputs": [],
   "source": [
    "signatureAttribution = pd.read_table(pathPrefix + '/ifs/work/taylorlab/friedman/myAdjustedDataFiles/sigAttribution.tsv')\n"
   ]
  },
  {
   "cell_type": "code",
   "execution_count": 39,
   "metadata": {},
   "outputs": [],
   "source": [
    "#assign dicts of each quad nuc\n",
    "bigD = {}\n",
    "for col in signatureAttribution.columns.values:\n",
    "    d = {}\n",
    "    if col != 'signaturePresentInCase' and col != 'Sample Name':\n",
    "        d = dict(zip(signatureAttribution['Sample Name'], signatureAttribution[col]))\n",
    "        bigD[col] = d"
   ]
  },
  {
   "cell_type": "code",
   "execution_count": 40,
   "metadata": {
    "scrolled": true
   },
   "outputs": [],
   "source": [
    "allImpactMuts = analysis_utils.load_in_df_with_progress(filePath = pathPrefix + '/ifs/work/taylorlab/friedman/hypermutationAnalysisProj/projectDataAndConfigFiles/all_impact_mutations_annotated_cohort.maf', nLinesFile = 275000)\n",
    "allImpactMuts['quadNuc'] = allImpactMuts.apply(lambda row: mutationSigUtils.create_reference_four_nuc(row['Ref_Tri'], row['Reference_Allele'], row['Tumor_Seq_Allele2'], row['Variant_Type']), axis=1)"
   ]
  },
  {
   "cell_type": "code",
   "execution_count": 50,
   "metadata": {
    "scrolled": false
   },
   "outputs": [],
   "source": [
    "#hotspotMuts = allImpactMuts[allImpactMuts['is-a-hotspot'] == 'Y']\n",
    "signatureAttribution['APOBEC_present'] = signatureAttribution['signaturesPresentInCase'].apply(lambda x:\n",
    "                    True if 'APOBEC' in x else False)\n",
    "apobecCases = signatureAttribution[signatureAttribution['APOBEC_present'] == True]['Sample Name']\n"
   ]
  },
  {
   "cell_type": "code",
   "execution_count": 54,
   "metadata": {},
   "outputs": [
    {
     "name": "stderr",
     "output_type": "stream",
     "text": [
      "/anaconda2/lib/python2.7/site-packages/ipykernel_launcher.py:14: SettingWithCopyWarning: \n",
      "A value is trying to be set on a copy of a slice from a DataFrame.\n",
      "Try using .loc[row_indexer,col_indexer] = value instead\n",
      "\n",
      "See the caveats in the documentation: http://pandas.pydata.org/pandas-docs/stable/indexing.html#indexing-view-versus-copy\n",
      "  \n"
     ]
    }
   ],
   "source": [
    "def get_attribution(row):\n",
    "    if row['quadNuc'] not in bigD:\n",
    "        return None\n",
    "    littleD = bigD[row['quadNuc']]\n",
    "    v = littleD[row['Tumor_Sample_Barcode']]\n",
    "    return v\n",
    "    \n",
    "listOfDicts = []\n",
    "cntr = 0\n",
    "for case in apobecCases:\n",
    "    cntr += 1\n",
    "    caseMuts = allImpactMuts[allImpactMuts['Tumor_Sample_Barcode'] == case]\n",
    "    nmut = caseMuts.shape[0]\n",
    "    hotspotMuts = caseMuts[caseMuts['is-a-hotspot'] == 'Y']\n",
    "    if hotspotMuts.shape[0] > 0:\n",
    "        hotspotMuts['attribute'] = hotspotMuts.apply(lambda row: get_attribution(row), axis=1)\n",
    "        apobecAttributed = hotspotMuts[hotspotMuts['attribute'].isin(\n",
    "            ['Signature.APBOEC', 'Signature.APOBEC|Signature.7', 'Signature.7|Signature.APOBEC'])]    \n",
    "        listOfDicts.append({'nmut': nmut, 'case': case,\n",
    "                           'nHotspot': hotspotMuts.shape[0], 'nHotspotAPOBEC': apobecAttributed.shape[0]})\n",
    "  \n",
    "df = pd.DataFrame(listOfDicts)\n",
    "        \n",
    "        "
   ]
  },
  {
   "cell_type": "code",
   "execution_count": 56,
   "metadata": {},
   "outputs": [],
   "source": [
    "df.to_csv('~/Desktop/WORK/dataForLocalPlotting/hotspotDeterminism.tsv', index=False, sep='\\t')"
   ]
  }
 ],
 "metadata": {
  "kernelspec": {
   "display_name": "Python 2",
   "language": "python",
   "name": "python2"
  },
  "language_info": {
   "codemirror_mode": {
    "name": "ipython",
    "version": 2
   },
   "file_extension": ".py",
   "mimetype": "text/x-python",
   "name": "python",
   "nbconvert_exporter": "python",
   "pygments_lexer": "ipython2",
   "version": "2.7.15"
  }
 },
 "nbformat": 4,
 "nbformat_minor": 2
}
