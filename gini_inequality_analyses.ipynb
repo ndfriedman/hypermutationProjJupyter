{
 "cells": [
  {
   "cell_type": "code",
   "execution_count": 1,
   "metadata": {},
   "outputs": [],
   "source": [
    "import sys\n",
    "import argparse\n",
    "import os\n",
    "import pandas as pd\n",
    "import numpy as np\n",
    "import re\n",
    "\n",
    "from collections import Counter\n",
    "\n",
    "pathPrefix = '/Users/friedman/Desktop/mnt'\n",
    "sys.path.append(pathPrefix + '/ifs/work/taylorlab/friedman/myUtils')\n",
    "import analysis_utils \n",
    "import mutationSigUtils \n",
    "import maf_analysis_utils\n",
    "import mutation_modeling_util  \n",
    "import signature_attribution_util\n",
    "import clonality_analysis_util"
   ]
  },
  {
   "cell_type": "code",
   "execution_count": 2,
   "metadata": {},
   "outputs": [
    {
     "name": "stderr",
     "output_type": "stream",
     "text": [
      "/anaconda2/lib/python2.7/site-packages/IPython/core/interactiveshell.py:2714: DtypeWarning: Columns (13,36,39,85,136) have mixed types. Specify dtype option on import or set low_memory=False.\n",
      "  interactivity=interactivity, compiler=compiler, result=result)\n"
     ]
    }
   ],
   "source": [
    "allImpactMuts = pd.read_table(pathPrefix + '/ifs/work/taylorlab/friedman/hypermutationAnalysisProj/projectDataAndConfigFiles/all_impact_mutations_annotated_cohort.maf')"
   ]
  },
  {
   "cell_type": "code",
   "execution_count": 3,
   "metadata": {},
   "outputs": [],
   "source": [
    "allImpactMuts = maf_analysis_utils.fix_mll_genes(allImpactMuts)\n",
    "impact368genes = set(['ABL1', 'AKT1', 'AKT2', 'AKT3', 'ALK', 'ALOX12B', 'APC', 'AR', 'ARAF', 'ARID1A', 'ARID1B', 'ARID2', 'ARID5B', 'ASXL1', 'ASXL2', 'ATM', 'ATR', 'ATRX', 'AURKA', 'AURKB', 'AXIN1', 'AXIN2', 'AXL', 'B2M', 'BAP1', 'BARD1', 'BBC3', 'BCL2', 'BCL2L1', 'BCL2L11', 'BCL6', 'BCOR', 'BLM', 'BMPR1A', 'BRAF', 'BRCA1', 'BRCA2', 'BRD4', 'BRIP1', 'BTK', 'CARD11', 'CASP8', 'CBFB', 'CBL', 'CCND1', 'CCND2', 'CCND3', 'CCNE1', 'CD274', 'CD276', 'CD79B', 'CDC73', 'CDH1', 'CDK12', 'CDK4', 'CDK6', 'CDK8', 'CDKN1A', 'CDKN1B', 'CDKN2A', 'CDKN2B', 'CDKN2C', 'CHEK1', 'CHEK2', 'CIC', 'CREBBP', 'CRKL', 'CRLF2', 'CSF1R', 'CTCF', 'CTLA4', 'CTNNB1', 'CUL3', 'DAXX', 'DCUN1D1', 'DDR2', 'DICER1', 'DIS3', 'DNMT1', 'DNMT3A', 'DNMT3B', 'DOT1L', 'E2F3', 'EED', 'EGFL7', 'EGFR', 'EIF1AX', 'EP300', 'EPCAM', 'EPHA3', 'EPHA5', 'EPHB1', 'ERBB2', 'ERBB3', 'ERBB4', 'ERCC2', 'ERCC3', 'ERCC4', 'ERCC5', 'ERG', 'ESR1', 'ETV1', 'ETV6', 'EZH2', 'FAM123B', 'FAM175A', 'FAM46C', 'FANCA', 'FANCC', 'FAT1', 'FBXW7', 'FGF19', 'FGF3', 'FGF4', 'FGFR1', 'FGFR2', 'FGFR3', 'FGFR4', 'FH', 'FLCN', 'FLT1', 'FLT3', 'FLT4', 'FOXA1', 'FOXL2', 'FOXP1', 'FUBP1', 'GATA1', 'GATA2', 'GATA3', 'GNA11', 'GNAQ', 'GNAS', 'GREM1', 'GRIN2A', 'GSK3B', 'H3F3C', 'HGF', 'HIST1H1C', 'HIST1H2BD', 'HIST1H3B', 'HNF1A', 'HRAS', 'ICOSLG', 'IDH1', 'IDH2', 'IFNGR1', 'IGF1', 'IGF1R', 'IGF2', 'IKBKE', 'IKZF1', 'IL10', 'IL7R', 'INPP4A', 'INPP4B', 'INSR', 'IRF4', 'IRS1', 'IRS2', 'JAK1', 'JAK2', 'JAK3', 'JUN', 'KDM5A', 'KDM5C', 'KDM6A', 'KDR', 'KEAP1', 'KIT', 'KLF4', 'KRAS', 'LATS1', 'LATS2', 'LMO1', 'MAP2K1', 'MAP2K2', 'MAP2K4', 'MAP3K1', 'MAP3K13', 'MAPK1', 'MAX', 'MCL1', 'MDC1', 'MDM2', 'MDM4', 'MED12', 'MEF2B', 'MEN1', 'MET', 'MITF', 'MLH1', 'MLL', 'MLL2', 'MLL3', 'MPL', 'MRE11A', 'MSH2', 'MSH6', 'MTOR', 'MUTYH', 'MYC', 'MYCL1', 'MYCN', 'MYD88', 'MYOD1', 'NBN', 'NCOR1', 'NF1', 'NF2', 'NFE2L2', 'NKX2-1', 'NKX3-1', 'NOTCH1', 'NOTCH2', 'NOTCH3', 'NOTCH4', 'NPM1', 'NRAS', 'NSD1', 'NTRK1', 'NTRK2', 'NTRK3', 'PAK1', 'PAK7', 'PALB2', 'PARK2', 'PARP1', 'PAX5', 'PBRM1', 'PDCD1', 'PDGFRA', 'PDGFRB', 'PDPK1', 'PHOX2B', 'PIK3C2G', 'PIK3C3', 'PIK3CA', 'PIK3CB', 'PIK3CD', 'PIK3CG', 'PIK3R1', 'PIK3R2', 'PIK3R3', 'PIM1', 'PLK2', 'PMAIP1', 'PMS1', 'PMS2', 'PNRC1', 'POLE', 'PPP2R1A', 'PRDM1', 'PRKAR1A', 'PTCH1', 'PTEN', 'PTPN11', 'PTPRD', 'PTPRS', 'PTPRT', 'RAC1', 'RAD50', 'RAD51', 'RAD51B', 'RAD51C', 'RAD51D', 'RAD52', 'RAD54L', 'RAF1', 'RARA', 'RASA1', 'RB1', 'RBM10', 'RECQL4', 'REL', 'RET', 'RFWD2', 'RHOA', 'RICTOR', 'RIT1', 'RNF43', 'ROS1', 'RPS6KA4', 'RPS6KB2', 'RPTOR', 'RUNX1', 'RYBP', 'SDHA', 'SDHAF2', 'SDHB', 'SDHC', 'SDHD', 'SETD2', 'SF3B1', 'SH2D1A', 'SHQ1', 'SMAD2', 'SMAD3', 'SMAD4', 'SMARCA4', 'SMARCB1', 'SMARCD1', 'SMO', 'SOCS1', 'SOX17', 'SOX2', 'SOX9', 'SPEN', 'SPOP', 'SRC', 'STAG2', 'STK11', 'STK40', 'SUFU', 'SUZ12', 'SYK', 'TBX3', 'TERT', 'TET1', 'TET2', 'TGFBR1', 'TGFBR2', 'TMEM127', 'TMPRSS2', 'TNFAIP3', 'TNFRSF14', 'TOP1', 'TP53', 'TP63', 'TRAF7', 'TSC1', 'TSC2', 'TSHR', 'U2AF1', 'VHL', 'VTCN1', 'WT1', 'XIAP', 'XPO1', 'YAP1', 'YES1'])\n",
    "#ONLY do analysis on impact 368 genes\n",
    "allImpactMuts368 = allImpactMuts[allImpactMuts['Hugo_Symbol'].isin(impact368genes)]\n"
   ]
  },
  {
   "cell_type": "code",
   "execution_count": 4,
   "metadata": {},
   "outputs": [
    {
     "name": "stderr",
     "output_type": "stream",
     "text": [
      "/Users/friedman/Desktop/mnt/ifs/work/taylorlab/friedman/myUtils/maf_analysis_utils.py:56: SettingWithCopyWarning: \n",
      "A value is trying to be set on a copy of a slice from a DataFrame.\n",
      "Try using .loc[row_indexer,col_indexer] = value instead\n",
      "\n",
      "See the caveats in the documentation: http://pandas.pydata.org/pandas-docs/stable/indexing.html#indexing-view-versus-copy\n",
      "  maf['Hugo_Symbol'] = maf['Hugo_Symbol'].apply(lambda x:\n"
     ]
    }
   ],
   "source": [
    "allImpactMuts368 = maf_analysis_utils.fix_mll_genes(allImpactMuts368)"
   ]
  },
  {
   "cell_type": "code",
   "execution_count": 4,
   "metadata": {},
   "outputs": [],
   "source": [
    "###########\n",
    "\n",
    "#nPossibleMuts\n",
    "\n",
    "simulatedMutationDf = pd.read_table(pathPrefix + '/ifs/work/taylorlab/friedman/hypermutationAnalysisProj/projectDataAndConfigFiles/simulatedMutationSummary.tsv')\n",
    "nOncogenicMutDict = dict(zip(simulatedMutationDf['Hugo_Symbol'], simulatedMutationDf['totalNOncogenic']))\n",
    "nMutDict = dict(zip(simulatedMutationDf['Hugo_Symbol'], simulatedMutationDf['nPossibleMuts']))\n"
   ]
  },
  {
   "cell_type": "code",
   "execution_count": 5,
   "metadata": {},
   "outputs": [],
   "source": [
    "endometrialHyperIds = analysis_utils.get_ids_by_hypermutant_status(hypermutantIdDir=pathPrefix +'/ifs/work/taylorlab/friedman/hypermutationAnalysisProj/projectDataAndConfigFiles/hypermutationStatusIds', cancerType='Endometrial Cancer', hypermutantStatus = 'Hypermutated')\n",
    "colorectalHyperIds = analysis_utils.get_ids_by_hypermutant_status(hypermutantIdDir=pathPrefix +'/ifs/work/taylorlab/friedman/hypermutationAnalysisProj/projectDataAndConfigFiles/hypermutationStatusIds', cancerType='Colorectal Cancer', hypermutantStatus = 'Hypermutated')\n",
    "gliomaHyperIds = analysis_utils.get_ids_by_hypermutant_status(hypermutantIdDir=pathPrefix +'/ifs/work/taylorlab/friedman/hypermutationAnalysisProj/projectDataAndConfigFiles/hypermutationStatusIds', cancerType='Glioma', hypermutantStatus = 'Hypermutated')\n",
    "\n",
    "endoHyperDf = allImpactMuts[allImpactMuts['Tumor_Sample_Barcode'].isin(endometrialHyperIds)]\n",
    "colorectalHyperDf = allImpactMuts[allImpactMuts['Tumor_Sample_Barcode'].isin(colorectalHyperIds)]\n",
    "gliomaHyperDf = allImpactMuts[allImpactMuts['Tumor_Sample_Barcode'].isin(gliomaHyperIds)]\n"
   ]
  },
  {
   "cell_type": "code",
   "execution_count": 98,
   "metadata": {},
   "outputs": [],
   "source": [
    "endometrialIds = analysis_utils.get_ids_by_hypermutant_status(hypermutantIdDir=pathPrefix +'/ifs/work/taylorlab/friedman/hypermutationAnalysisProj/projectDataAndConfigFiles/hypermutationStatusIds', cancerType='Endometrial Cancer', hypermutantStatus = 'all')\n",
    "colorectalIds = analysis_utils.get_ids_by_hypermutant_status(hypermutantIdDir=pathPrefix +'/ifs/work/taylorlab/friedman/hypermutationAnalysisProj/projectDataAndConfigFiles/hypermutationStatusIds', cancerType='Colorectal Cancer', hypermutantStatus = 'all')\n",
    "gliomaIds = analysis_utils.get_ids_by_hypermutant_status(hypermutantIdDir=pathPrefix +'/ifs/work/taylorlab/friedman/hypermutationAnalysisProj/projectDataAndConfigFiles/hypermutationStatusIds', cancerType='Glioma', hypermutantStatus = 'all')\n",
    "\n",
    "endoDf = allImpactMuts[allImpactMuts['Tumor_Sample_Barcode'].isin(endometrialIds)]\n",
    "colorectalDf = allImpactMuts[allImpactMuts['Tumor_Sample_Barcode'].isin(colorectalIds)]\n",
    "gliomaDf = allImpactMuts[allImpactMuts['Tumor_Sample_Barcode'].isin(gliomaIds)]\n"
   ]
  },
  {
   "cell_type": "code",
   "execution_count": 99,
   "metadata": {},
   "outputs": [],
   "source": [
    "#make sure the genes we look at only overlap\n",
    "#JUST does filtering on gene names\n",
    "endoHyperDf = endoHyperDf[endoHyperDf['Hugo_Symbol'].isin(nOncogenicMutDict.keys())]\n",
    "colorectalHyperDf = colorectalHyperDf[colorectalHyperDf['Hugo_Symbol'].isin(nOncogenicMutDict.keys())]\n",
    "gliomaHyperDf = gliomaHyperDf[gliomaHyperDf['Hugo_Symbol'].isin(nOncogenicMutDict.keys())]\n",
    "\n",
    "endoDf = endoDf[endoDf['Hugo_Symbol'].isin(nOncogenicMutDict.keys())]\n",
    "colorectalDf = colorectalDf[colorectalDf['Hugo_Symbol'].isin(nOncogenicMutDict.keys())]\n",
    "gliomaDf = gliomaDf[gliomaDf['Hugo_Symbol'].isin(nOncogenicMutDict.keys())]\n"
   ]
  },
  {
   "cell_type": "code",
   "execution_count": 100,
   "metadata": {},
   "outputs": [],
   "source": [
    "#endoRanking = maf_analysis_utils.enumerate_gene_mut_ranking_for_cohort(endoHyperDf)\n",
    "#colorectalRanking = maf_analysis_utils.enumerate_gene_mut_ranking_for_cohort(colorectalHyperDf)\n",
    "#gliomaRanking = maf_analysis_utils.enumerate_gene_mut_ranking_for_cohort(gliomaHyperDf)\n",
    "\n",
    "#CHOOSE TO DO ON ALL OR HYPERMUTATEDs\n",
    "endoOncRanking = maf_analysis_utils.enumerate_gene_mut_ranking_for_cohort(endoDf)\n",
    "colorectalOncRanking = maf_analysis_utils.enumerate_gene_mut_ranking_for_cohort(colorectalDf)\n",
    "gliomaOncRanking = maf_analysis_utils.enumerate_gene_mut_ranking_for_cohort(gliomaDf)\n"
   ]
  },
  {
   "cell_type": "code",
   "execution_count": 101,
   "metadata": {},
   "outputs": [],
   "source": [
    "endoVUSRanking = maf_analysis_utils.enumerate_gene_mut_ranking_for_cohort(endoDf, mode='vus')\n",
    "colorectalVUSRanking = maf_analysis_utils.enumerate_gene_mut_ranking_for_cohort(colorectalDf, mode='vus')\n",
    "gliomaVUSRanking = maf_analysis_utils.enumerate_gene_mut_ranking_for_cohort(gliomaDf, mode='vus')\n"
   ]
  },
  {
   "cell_type": "code",
   "execution_count": 10,
   "metadata": {},
   "outputs": [],
   "source": [
    "def normalize_ranking_by_n_mut_of_interest(unnormRankingDict, possibleMutD):\n",
    "    \n",
    "    def normalize_dict(d):\n",
    "        factor=1.0/max(d.values())\n",
    "        for k in d:\n",
    "          d[k] = d[k]*factor\n",
    "        return d\n",
    "    \n",
    "    #ordered list of genes\n",
    "    newD = {}\n",
    "    runningSum = 0\n",
    "    for gene, rank in sorted(list(unnormRankingDict.items()), key = lambda x: x[1]):\n",
    "    #WE IGNORE THE RANK and just make our new dictionary in the order of rankings spaced by possible mutations\n",
    "        runningSum += possibleMutD[gene]\n",
    "        newD[gene] = runningSum\n",
    "    normedD = normalize_dict(newD)\n",
    "    return normedD"
   ]
  },
  {
   "cell_type": "code",
   "execution_count": 102,
   "metadata": {
    "scrolled": false
   },
   "outputs": [],
   "source": [
    "#normedEndoOncD = normalize_ranking_by_n_mut_of_interest(endoOncRanking, nOncogenicMutDict)\n",
    "#normedColoOncD = normalize_ranking_by_n_mut_of_interest(colorectalOncRanking, nOncogenicMutDict)\n",
    "#normedGliomaOncD = normalize_ranking_by_n_mut_of_interest(gliomaOncRanking, nOncogenicMutDict)\n",
    "\n",
    "normedEndoOncD = normalize_ranking_by_n_mut_of_interest(endoOncRanking, nMutDict)\n",
    "normedColoOncD = normalize_ranking_by_n_mut_of_interest(colorectalOncRanking, nMutDict)\n",
    "normedGliomaOncD = normalize_ranking_by_n_mut_of_interest(gliomaOncRanking, nMutDict)"
   ]
  },
  {
   "cell_type": "code",
   "execution_count": 103,
   "metadata": {},
   "outputs": [],
   "source": [
    "normedEndoVUSD = normalize_ranking_by_n_mut_of_interest(endoVUSRanking, nMutDict)\n",
    "normedColoVUSD = normalize_ranking_by_n_mut_of_interest(colorectalVUSRanking, nMutDict)\n",
    "normedGliomaVUSD = normalize_ranking_by_n_mut_of_interest(gliomaVUSRanking, nMutDict)"
   ]
  },
  {
   "cell_type": "code",
   "execution_count": null,
   "metadata": {},
   "outputs": [],
   "source": [
    "impactSigs = pd.read_table(pathPrefix + '/ifs/work/taylorlab/friedman/hypermutationAnalysisProj/projectDataAndConfigFiles/signatures_from_unfiltered_maf.txt')"
   ]
  },
  {
   "cell_type": "code",
   "execution_count": 13,
   "metadata": {},
   "outputs": [],
   "source": [
    "#returns a dataframe with x, y values for the mutations in the case\n",
    "def assign_x_y_values_for_cases(mutationDf, ranking, mode = 'oncogenic'):\n",
    "    listOfDicts = []\n",
    "    muts = mutationDf\n",
    "    if mode == 'oncogenic':\n",
    "        muts = mutationDf[mutationDf['oncogenic'].notnull()]\n",
    "    elif mode == 'vus':\n",
    "        muts = mutationDf[~mutationDf['oncogenic'].notnull()]\n",
    "    print muts.shape\n",
    "    for case in set(mutationDf['Tumor_Sample_Barcode']):\n",
    "        caseMaf = muts[muts['Tumor_Sample_Barcode'] == case]\n",
    "        mutatedGenes = list(caseMaf['Hugo_Symbol'])\n",
    "        \n",
    "        geneRankList = [(gene, ranking[gene]) for gene in mutatedGenes]\n",
    "        sortedGeneRankList = sorted(geneRankList, key= lambda x: x[1])\n",
    "        nMutatedGenes = len(sortedGeneRankList)\n",
    "        \n",
    "        #print '__________-', case\n",
    "        #print nMutatedGenes\n",
    "    \n",
    "        prevY = 0\n",
    "        cntr = 0.0\n",
    "        inflectionHappened = False\n",
    "        #We append an entry to the dataframe for the beginning\n",
    "        listOfDicts.append({'Tumor_Sample_Barcode': case, 'd/dx': None, \n",
    "                            'Hugo_Symbol': None, 'x': 0, 'y': 0, 'n': cntr,\n",
    "                           'inflection': False})\n",
    "        for gene, rank in sortedGeneRankList:\n",
    "            cntr += 1\n",
    "            x = cntr/nMutatedGenes\n",
    "            y = rank\n",
    "            prevX = (cntr - 1)/nMutatedGenes\n",
    "            dDx = (y - prevY)/(x - prevX)\n",
    "            \n",
    "            #print gene, dDx\n",
    "            \n",
    "            #mark the inflection\n",
    "            inflection = False\n",
    "            if not inflectionHappened and dDx > 1:\n",
    "                inflectionHappened = True\n",
    "                inflection = True\n",
    "                \n",
    "            listOfDicts.append({'Tumor_Sample_Barcode': case, 'd/dx': dDx, \n",
    "                            'Hugo_Symbol': gene, 'x': x, 'y': y, 'n': cntr,\n",
    "                               'inflection': inflection})\n",
    "            \n",
    "            prevY = y\n",
    "    return pd.DataFrame(listOfDicts)\n",
    "        \n",
    "\n",
    "        "
   ]
  },
  {
   "cell_type": "code",
   "execution_count": 17,
   "metadata": {},
   "outputs": [],
   "source": [
    "def get_nmut_under_selection(cancerTypeMaf, oncD, vusD):\n",
    "    cancerTypeGeneGiniOnc = assign_x_y_values_for_cases(cancerTypeMaf, oncD, mode = 'oncogenic')\n",
    "    cancerTypeGeneGiniVus = assign_x_y_values_for_cases(cancerTypeMaf, vusD, mode = 'vus')\n",
    "    \n",
    "    #Get the number of mutations under selection\n",
    "    inflectionDfOnc = cancerTypeGeneGiniOnc[cancerTypeGeneGiniOnc['inflection'] == True]\n",
    "    nmutUnderSelectionDictOnc = dict(zip(inflectionDfOnc['Tumor_Sample_Barcode'], inflectionDfOnc['n']))\n",
    "    inflectionDfVus = cancerTypeGeneGiniVus[cancerTypeGeneGiniVus['inflection'] == True]\n",
    "    nmutUnderSelectionDictVus = dict(zip(inflectionDfVus['Tumor_Sample_Barcode'], inflectionDfVus['n']))\n",
    "\n",
    "    return nmutUnderSelectionDictOnc, nmutUnderSelectionDictVus"
   ]
  },
  {
   "cell_type": "code",
   "execution_count": 54,
   "metadata": {},
   "outputs": [],
   "source": [
    "\n",
    "#MAKE THE X AXIS N ONCOGENIC MUTATIONS IN CASE\n",
    "def build_df_for_plotting(mutsMaf, sigsDf, nmutUnderSelectionOnc, nmutUnderSelectionVus):\n",
    "    \n",
    "    sigsDf['dominantSignature'] = sigsDf.apply(lambda row: \n",
    "        mutationSigUtils.get_dominant_signature(row.to_dict(), cols=None, prefix='mean', notEnoughMuts= True), axis=1)\n",
    "    dominantSignatureDict = dict(zip(sigsDf['Tumor_Sample_Barcode'], sigsDf['dominantSignature']))\n",
    "    nmutMbDict = dict(zip(sigsDf['Tumor_Sample_Barcode'], sigsDf['Nmut_Mb']))\n",
    "    nmutOncDict = maf_analysis_utils.get_n_oncogenic_muts_per_case_dict(mutsMaf)\n",
    "    \n",
    "    listOfDicts = []\n",
    "    for tsb, nmutS in nmutUnderSelectionOnc.items():\n",
    "        nOnc = 0\n",
    "        if tsb in nmutOncDict:\n",
    "            nOnc = nmutOncDict[tsb]\n",
    "        if tsb in nmutMbDict:\n",
    "            listOfDicts.append({'Tumor_Sample_Barcode': tsb, 'nmutUnderSelection': nmutS,\n",
    "                           'Nmut_Mb': nmutMbDict[tsb], 'nOnc': nOnc, 'type': 'Driver'})\n",
    "        \n",
    "    for tsb, nmutS in nmutUnderSelectionVus.items():\n",
    "        nOnc = 0\n",
    "        if tsb in nmutOncDict:\n",
    "            nOnc = nmutOncDict[tsb]\n",
    "        if tsb in nmutMbDict:\n",
    "            listOfDicts.append({'Tumor_Sample_Barcode': tsb, 'nmutUnderSelection': nmutS,\n",
    "                           'Nmut_Mb': nmutMbDict[tsb], 'nOnc': nOnc, 'type': 'VUS'})\n",
    "\n",
    "    df = pd.DataFrame(listOfDicts)\n",
    "    df['HypermutantStatus'] = df['Nmut_Mb'].apply(lambda x: 'Hypermutated' if x <= 30 else 'Not-Hypermutated')\n",
    "    df['class_and_type'] = df['HypermutantStatus'] + '_' + df['type']\n",
    "    #set signatures to display()\n",
    "    df['dominantSignature'] = df['Tumor_Sample_Barcode'].apply(lambda x: dominantSignatureDict[x] if x in dominantSignatureDict else None)\n",
    "    df['dominantSignature'] = df['dominantSignature'].apply(lambda x: x if x in set(['mean_10', 'mean_6', 'mean_14']) else 'other')\n",
    "    return df\n",
    "    \n",
    "    "
   ]
  },
  {
   "cell_type": "code",
   "execution_count": 36,
   "metadata": {},
   "outputs": [
    {
     "name": "stdout",
     "output_type": "stream",
     "text": [
      "(8993, 137)\n",
      "(18032, 137)\n"
     ]
    }
   ],
   "source": [
    "endometrialNmutUnderSelectionDictOnc, endometrialNmutUnderSelectionDictVus = get_nmut_under_selection(endoDf, normedEndoOncD, normedEndoVUSD)\n"
   ]
  },
  {
   "cell_type": "code",
   "execution_count": 64,
   "metadata": {},
   "outputs": [],
   "source": [
    "dfEndo = build_df_for_plotting(endoDf, impactSigs, \n",
    "                           endometrialNmutUnderSelectionDictOnc, endometrialNmutUnderSelectionDictVus)"
   ]
  },
  {
   "cell_type": "markdown",
   "metadata": {},
   "source": [
    "**tmp break**"
   ]
  },
  {
   "cell_type": "code",
   "execution_count": 58,
   "metadata": {},
   "outputs": [
    {
     "name": "stdout",
     "output_type": "stream",
     "text": [
      "(17021, 137)\n",
      "(24198, 137)\n"
     ]
    }
   ],
   "source": [
    "colorectalNmutUnderSelectionDictOnc, colorectalNmutUnderSelectionDictVus = get_nmut_under_selection(colorectalDf, normedColoOncD, normedColoVUSD)\n"
   ]
  },
  {
   "cell_type": "code",
   "execution_count": 60,
   "metadata": {},
   "outputs": [],
   "source": [
    "dfColo = build_df_for_plotting(colorectalDf, impactSigs, \n",
    "                           colorectalNmutUnderSelectionDictOnc, colorectalNmutUnderSelectionDictVus)"
   ]
  },
  {
   "cell_type": "markdown",
   "metadata": {},
   "source": [
    "**Glioma**"
   ]
  },
  {
   "cell_type": "code",
   "execution_count": 104,
   "metadata": {},
   "outputs": [
    {
     "name": "stdout",
     "output_type": "stream",
     "text": [
      "(4789, 137)\n",
      "(7493, 137)\n"
     ]
    }
   ],
   "source": [
    "gliomaNmutUnderSelectionDictOnc, gliomaNmutUnderSelectionDictVus = get_nmut_under_selection(gliomaDf, normedGliomaOncD, normedGliomaVUSD)\n"
   ]
  },
  {
   "cell_type": "code",
   "execution_count": 105,
   "metadata": {},
   "outputs": [],
   "source": [
    "dfGlioma = build_df_for_plotting(gliomaDf, impactSigs, \n",
    "                           gliomaNmutUnderSelectionDictOnc, gliomaNmutUnderSelectionDictVus)"
   ]
  },
  {
   "cell_type": "code",
   "execution_count": 106,
   "metadata": {},
   "outputs": [],
   "source": [
    "dfEndo['cancerType'] = 'Endometrial'\n",
    "dfColo['cancerType'] = 'Colorectal'\n",
    "dfGlioma['cancerType'] = 'Glioma'"
   ]
  },
  {
   "cell_type": "code",
   "execution_count": 107,
   "metadata": {},
   "outputs": [
    {
     "name": "stderr",
     "output_type": "stream",
     "text": [
      "/anaconda2/lib/python2.7/site-packages/ipykernel_launcher.py:1: FutureWarning: Sorting because non-concatenation axis is not aligned. A future version\n",
      "of pandas will change to not sort by default.\n",
      "\n",
      "To accept the future behavior, pass 'sort=False'.\n",
      "\n",
      "To retain the current behavior and silence the warning, pass 'sort=True'.\n",
      "\n",
      "  \"\"\"Entry point for launching an IPython kernel.\n"
     ]
    }
   ],
   "source": [
    "df = pd.concat([dfEndo, dfColo, dfGlioma])"
   ]
  },
  {
   "cell_type": "code",
   "execution_count": 112,
   "metadata": {},
   "outputs": [],
   "source": [
    "df['classAndCancerType'] = df['cancerType'] + '_' + df['type']"
   ]
  },
  {
   "cell_type": "code",
   "execution_count": 113,
   "metadata": {},
   "outputs": [],
   "source": [
    "#give each class a marking based on whether they are hypermutant/indeterminate/neither\n",
    "endometrialMutClassDf = pd.read_table(pathPrefix + '/ifs/work/taylorlab/friedman/hypermutationAnalysisProj/projectDataAndConfigFiles/hypermutationStatusIds/Endometrial_Cancer.tsv')\n",
    "endometrialMutClassDict = dict(zip(endometrialMutClassDf['Tumor_Sample_Barcode'], endometrialMutClassDf['hypermutantClassification']))\n",
    "\n",
    "colorectalMutClassDf = pd.read_table(pathPrefix + '/ifs/work/taylorlab/friedman/hypermutationAnalysisProj/projectDataAndConfigFiles/hypermutationStatusIds/Colorectal_Cancer.tsv')\n",
    "colorectalMutClassDict = dict(zip(colorectalMutClassDf['Tumor_Sample_Barcode'], colorectalMutClassDf['hypermutantClassification']))\n",
    "\n",
    "gliomaMutClassDf = pd.read_table(pathPrefix + '/ifs/work/taylorlab/friedman/hypermutationAnalysisProj/projectDataAndConfigFiles/hypermutationStatusIds/Glioma.tsv')\n",
    "gliomaMutClassDict = dict(zip(gliomaMutClassDf['Tumor_Sample_Barcode'], gliomaMutClassDf['hypermutantClassification']))"
   ]
  },
  {
   "cell_type": "code",
   "execution_count": 115,
   "metadata": {},
   "outputs": [],
   "source": [
    "#big lambda function\n",
    "def set_case_class(row, endometrialMutClassDict, colorectalMutClassDict, gliomaMutClassDict):\n",
    "    if row['cancerType'] == 'Endometrial':\n",
    "        if row['Tumor_Sample_Barcode'] in endometrialMutClassDict:\n",
    "            return 'Endometrial_' + endometrialMutClassDict[row['Tumor_Sample_Barcode']]\n",
    "        else:\n",
    "            return None\n",
    "    elif row['cancerType'] == 'Colorectal':\n",
    "        if row['Tumor_Sample_Barcode'] in colorectalMutClassDict:\n",
    "            return 'Colorectal_' + colorectalMutClassDict[row['Tumor_Sample_Barcode']]\n",
    "        else:\n",
    "            return None\n",
    "        \n",
    "    elif row['cancerType'] == 'Glioma':\n",
    "        if row['Tumor_Sample_Barcode'] in gliomaMutClassDict:\n",
    "            return 'Glioma_' + gliomaMutClassDict[row['Tumor_Sample_Barcode']]\n",
    "        else:\n",
    "            return None\n",
    "    else: \n",
    "        return None\n",
    "        \n",
    "\n",
    "df['caseClass'] = df.apply(lambda row:\n",
    "    set_case_class(row, endometrialMutClassDict, colorectalMutClassDict, gliomaMutClassDict), axis=1)"
   ]
  },
  {
   "cell_type": "code",
   "execution_count": 122,
   "metadata": {},
   "outputs": [
    {
     "name": "stderr",
     "output_type": "stream",
     "text": [
      "/anaconda2/lib/python2.7/site-packages/ipykernel_launcher.py:1: SettingWithCopyWarning: \n",
      "A value is trying to be set on a copy of a slice from a DataFrame.\n",
      "Try using .loc[row_indexer,col_indexer] = value instead\n",
      "\n",
      "See the caveats in the documentation: http://pandas.pydata.org/pandas-docs/stable/indexing.html#indexing-view-versus-copy\n",
      "  \"\"\"Entry point for launching an IPython kernel.\n"
     ]
    }
   ],
   "source": [
    "df['displayGroup'] = df.apply(lambda row: row['caseClass'] if row['type'] == 'Driver' else 'VUS', axis=1)\n",
    "#FOR SAKE OF CLARITY \n",
    "df = df[~df['displayGroup'].isin(['Colorectal_Indeterminate', 'Endometrial_Indeterminate', 'Glioma_Indeterminate'])]"
   ]
  },
  {
   "cell_type": "code",
   "execution_count": 123,
   "metadata": {},
   "outputs": [],
   "source": [
    "df.to_csv('/Users/friedman/Desktop/WORK/dataForLocalPlotting/nmutUnderSelection_endometrial.tsv', index=False, sep='\\t')"
   ]
  },
  {
   "cell_type": "code",
   "execution_count": 121,
   "metadata": {},
   "outputs": [
    {
     "data": {
      "text/plain": [
       "Counter({'Colorectal_Hypermutated': 249,\n",
       "         'Colorectal_Normal': 589,\n",
       "         'Endometrial_Hypermutated': 216,\n",
       "         'Endometrial_Indeterminate': 47,\n",
       "         'Endometrial_Normal': 175,\n",
       "         'Glioma_Hypermutated': 42,\n",
       "         'Glioma_Normal': 81,\n",
       "         'VUS': 2334})"
      ]
     },
     "execution_count": 121,
     "metadata": {},
     "output_type": "execute_result"
    }
   ],
   "source": [
    "Counter(df['displayGroup'])"
   ]
  },
  {
   "cell_type": "code",
   "execution_count": null,
   "metadata": {},
   "outputs": [],
   "source": []
  }
 ],
 "metadata": {
  "kernelspec": {
   "display_name": "Python 2",
   "language": "python",
   "name": "python2"
  },
  "language_info": {
   "codemirror_mode": {
    "name": "ipython",
    "version": 2
   },
   "file_extension": ".py",
   "mimetype": "text/x-python",
   "name": "python",
   "nbconvert_exporter": "python",
   "pygments_lexer": "ipython2",
   "version": "2.7.15"
  }
 },
 "nbformat": 4,
 "nbformat_minor": 2
}
