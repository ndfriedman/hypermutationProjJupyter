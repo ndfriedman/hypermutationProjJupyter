{
 "cells": [
  {
   "cell_type": "code",
   "execution_count": 1,
   "metadata": {},
   "outputs": [],
   "source": [
    "import sys\n",
    "import argparse\n",
    "import os\n",
    "import pandas as pd\n",
    "import numpy as np\n",
    "import re\n",
    "\n",
    "from collections import Counter\n",
    "\n",
    "pathPrefix = '/Users/friedman/Desktop/mnt'\n",
    "sys.path.append(pathPrefix + '/ifs/work/taylorlab/friedman/myUtils')\n",
    "import analysis_utils \n",
    "import mutationSigUtils \n",
    "import maf_analysis_utils\n",
    "import mutation_modeling_util  \n",
    "import signature_attribution_util\n",
    "import clonality_analysis_util"
   ]
  },
  {
   "cell_type": "code",
   "execution_count": 131,
   "metadata": {},
   "outputs": [],
   "source": [
    "def assign_hotspot_freq_dict(df):\n",
    "    d = {}\n",
    "    for index, row in df.iterrows():\n",
    "        \n",
    "        refAminoAcid = row['ref']\n",
    "        gene = row['Hugo_Symbol']\n",
    "        position = row['Amino_Acid_Position']\n",
    "        for entry in row['Var_AA'].split('|'):\n",
    "            fullAltName = ''\n",
    "            altAminoAcid, count = entry.split(':')\n",
    "            fullAltName = gene + ':' + refAminoAcid + position + altAminoAcid\n",
    "            d[fullAltName] = float(count)/47000\n",
    "    return d\n",
    "\n",
    "#def create_hotspot_ranking_df(hotspotD):\n",
    "#    listOfDicts = []\n",
    "#    for key, value in hotspotD.items():\n",
    "#        gene, allele = key.split(':')\n",
    "#        listOfDicts.append({\n",
    "#                'gene': gene,\n",
    "#                'allele': allele,\n",
    "#                'hotspot': key,\n",
    "#                'freq': value\n",
    "#        })\n",
    "#    return pd.DataFrame(listOfDicts)\n",
    "\n",
    "#returns a dictionary mapping a hotspot to its pancan rank order \n",
    "def rank_hotspots(hotspotIncidenceD):\n",
    "    d = {}\n",
    "    sortedHotspots = sorted(zip(hotspotIncidenceD.keys(), hotspotIncidenceD.values()), key= lambda x: x[1], reverse=True)\n",
    "    i = 0\n",
    "    for allele, freq in sortedHotspots:\n",
    "        d[allele] = i\n",
    "        i += 1\n",
    "    return d\n",
    "\n",
    "#given a df and hotspots, for the 3 hypermutator cancer types assigns hotspots percentiles\n",
    "def assign_percentiles_to_df(df):\n",
    "    for ct in ['Endometrial_Cancer', 'Colorectal_Cancer', 'Glioma']:\n",
    "        ctRelated = df[df[ct + '_RelatedHotspot'] == True]\n",
    "        ctNotRelated = df[df[ct + '_RelatedHotspot'] == False]\n",
    "        percentilesRelated = dict(zip(ctRelated['hotspot'], ctRelated['freq'].rank(pct=True)))\n",
    "        percentilesNotRelated = dict(zip(ctNotRelated['hotspot'], ctNotRelated['freq'].rank(pct=True)))\n",
    "        df[ct + '_related_percentile'] = df.apply(lambda row:\n",
    "                                               None if row[ct + '_RelatedHotspot'] == False\n",
    "                                               else percentilesRelated[row['hotspot']], axis=1)\n",
    "        df[ct + '_not_related_percentile'] = df.apply(lambda row:\n",
    "                                               None if row[ct + '_RelatedHotspot'] == True\n",
    "                                               else percentilesNotRelated[row['hotspot']], axis=1)\n",
    "    return df \n"
   ]
  },
  {
   "cell_type": "code",
   "execution_count": 3,
   "metadata": {},
   "outputs": [],
   "source": [
    "hotspotsDf = pd.read_table(pathPrefix + '/home/gavrilae/snp_output_final_pancan.txt')\n"
   ]
  },
  {
   "cell_type": "code",
   "execution_count": 4,
   "metadata": {},
   "outputs": [],
   "source": [
    "hotspotIncidenceD = assign_hotspot_freq_dict(hotspotsDf)"
   ]
  },
  {
   "cell_type": "code",
   "execution_count": 132,
   "metadata": {},
   "outputs": [],
   "source": [
    "hotspotRankingD = rank_hotspots(hotspotIncidenceD)"
   ]
  },
  {
   "cell_type": "code",
   "execution_count": 8,
   "metadata": {},
   "outputs": [],
   "source": [
    "df = create_hotspot_ranking_df(hotspotIncidenceD)"
   ]
  },
  {
   "cell_type": "code",
   "execution_count": null,
   "metadata": {
    "scrolled": true
   },
   "outputs": [],
   "source": [
    "filteredMafDf = analysis_utils.load_in_df_with_progress(pathPrefix + '/ifs/work/taylorlab/friedman/hypermutationAnalysisProj/projectDataAndConfigFiles/all_impact_mutations_annotated_cohort.maf', 275171)\n",
    "genesImplicatedInCancerTypes= maf_analysis_utils.create_dictionary_mapping_genes_to_cancer_types_with_implication(filteredMafDf, pathPrefix=pathPrefix, cancerTypes=['Endometrial Cancer', 'Colorectal Cancer', 'Glioma'], t=0.04)\n",
    "hypermutationInitiatingGenes = set(['MSH6', 'MLH1', 'MSH2', 'PMS2', 'POLE'])\n",
    "relatedGenesDict = {}\n",
    "for cancerType, genes in genesImplicatedInCancerTypes.items():\n",
    "    if cancerType == 'Colorectal Cancer' or 'Endometrial Cancer':\n",
    "        genes = genes | hypermutationInitiatingGenes\n",
    "        relatedGenesDict[cancerType] = genes\n",
    "    else:\n",
    "        relatedGenesDict[cancerType] = genes"
   ]
  },
  {
   "cell_type": "code",
   "execution_count": 232,
   "metadata": {},
   "outputs": [],
   "source": [
    "#manual adjustments\n",
    "relatedGenesDict['Glioma'] = relatedGenesDict['Glioma'] | set(['FUBP1', 'BRAF', 'CDKN2A']) - set(['POLE'])\n",
    "relatedGenesDict['Colorectal Cancer'] = relatedGenesDict['Colorectal Cancer'] | set(['CTNNB1', 'AKT1']) \n",
    "relatedGenesDict['Endometrial Cancer'] = relatedGenesDict['Endometrial Cancer'] | set(['ERBB2', 'ERBB3']) "
   ]
  },
  {
   "cell_type": "code",
   "execution_count": null,
   "metadata": {},
   "outputs": [],
   "source": [
    "#Run stuff on filtered maf df\n",
    "filteredMafDf['pid'] = filteredMafDf['Tumor_Sample_Barcode'].apply(lambda x: x[:9])\n",
    "ctDict = analysis_utils.get_cancer_type_information(cancerTypeDfPath = pathPrefix + '/ifs/work/taylorlab/friedman/mskImpactAsOfMarch2019/dmp/mskimpact/data_clinical_sample.txt', mode='pid')\n",
    "filteredMafDf['cancer_type'] = filteredMafDf['pid'].apply(lambda x: ctDict[x] if x in ctDict else None)"
   ]
  },
  {
   "cell_type": "code",
   "execution_count": 272,
   "metadata": {},
   "outputs": [],
   "source": [
    "def assign_hotspot_mutation_utilization_curves(hotspotMafDf, hotspotRankingD, cancerTypeName):\n",
    "    \n",
    "    def normalize_hotspot_rankings(df):\n",
    "        l = [] #create a list of tuples of percentiles and hotspots\n",
    "        n = 0\n",
    "        df = df.drop_duplicates(subset=['hotspotName'])\n",
    "        sortedHotspotRanks = sorted(zip(df['hotspotName'], df['hotspotRank']), key= lambda x: x[1])\n",
    "        nHotspotsUnderConsideration = len(sortedHotspotRanks)\n",
    "        cntr = 0\n",
    "        for name, rank in sortedHotspotRanks:\n",
    "            l.append((name, 1.0*cntr/nHotspotsUnderConsideration))\n",
    "            cntr += 1\n",
    "        return l\n",
    "    \n",
    "    relatedHotspotMaf = hotspotMafDf[hotspotMafDf['isCtypeCancerGene'] == True]\n",
    "    unrelatedHotspotMaf = hotspotMafDf[hotspotMafDf['isCtypeCancerGene'] == False]\n",
    "    \n",
    "    relatedHotspotMaf['hotspotRank'] = relatedHotspotMaf['hotspotName'].apply(lambda x: hotspotRankingD[x] if x in hotspotRankingD else None)\n",
    "    unrelatedHotspotMaf['hotspotRank'] = unrelatedHotspotMaf['hotspotName'].apply(lambda x: hotspotRankingD[x] if x in hotspotRankingD else None)\n",
    "    #FILTER out hotspots that we do not have a ranking for\n",
    "    relatedHotspotMaf = relatedHotspotMaf[relatedHotspotMaf['hotspotRank'].notnull()]\n",
    "    unrelatedHotspotMaf = unrelatedHotspotMaf[unrelatedHotspotMaf['hotspotRank'].notnull()]\n",
    "    \n",
    "    nRelatedHotspots = relatedHotspotMaf.shape[0]\n",
    "    nUnrelatedHotspots = unrelatedHotspotMaf.shape[0]\n",
    "    \n",
    "    relatedHotspotRankings = normalize_hotspot_rankings(relatedHotspotMaf)\n",
    "    unrelatedHotspotRankings = normalize_hotspot_rankings(unrelatedHotspotMaf)\n",
    "    \n",
    "    listOfDicts = [{'hotspot':'NA_origin_for_path_Related', 'class': 'related', 'val':0, 'percentile': 0},\n",
    "                  {'hotspot':'NA_origin_for_path_Unrelated', 'class': 'unrelated', 'val':0, 'percentile': 0}] #what we return\n",
    "    runningSum = 0\n",
    "    for hotspot, percentile in relatedHotspotRankings:\n",
    "        frac = 1.0*relatedHotspotMaf[relatedHotspotMaf['hotspotName'] == hotspot].shape[0]/nRelatedHotspots\n",
    "        runningSum += frac\n",
    "        listOfDicts.append({\n",
    "         'hotspot': hotspot,\n",
    "         'class': 'related',\n",
    "         'val': runningSum,\n",
    "         'percentile': percentile\n",
    "        })\n",
    "        \n",
    "    runningSum = 0\n",
    "    for hotspot, percentile in unrelatedHotspotRankings:\n",
    "        nTimesHotspotOccurs = unrelatedHotspotMaf[unrelatedHotspotMaf['hotspotName'] == hotspot].shape[0]\n",
    "        frac = 1.0*nTimesHotspotOccurs/nUnrelatedHotspots\n",
    "        runningSum += frac\n",
    "        listOfDicts.append({\n",
    "         'hotspot': hotspot,\n",
    "         'class': 'unrelated',\n",
    "        'val': runningSum,\n",
    "        'percentile': percentile\n",
    "        })\n",
    "      \n",
    "    return pd.DataFrame(listOfDicts)\n",
    "    "
   ]
  },
  {
   "cell_type": "code",
   "execution_count": 234,
   "metadata": {},
   "outputs": [],
   "source": [
    "def prepare_cancer_type_maf_for_analysis(maf, cType):\n",
    "    cancerTypeHypermutatorIds = analysis_utils.get_ids_by_hypermutant_status(hypermutantIdDir= pathPrefix + '/ifs/work/taylorlab/friedman/hypermutationAnalysisProj/projectDataAndConfigFiles/hypermutationStatusIds', cancerType=cType, hypermutantStatus = 'Hypermutated')\n",
    "    cancerTypeHypermutatorDf = filteredMafDf[filteredMafDf['Tumor_Sample_Barcode'].isin(cancerTypeHypermutatorIds)]\n",
    "    cancerTypeHypermutatorHotspots = cancerTypeHypermutatorDf[cancerTypeHypermutatorDf['is-a-hotspot'] == 'Y']\n",
    "    cancerTypeHypermutatorHotspots['hotspotName'] = cancerTypeHypermutatorHotspots.apply(lambda row:\n",
    "                                                                                     row['Hugo_Symbol'] + ':' + row['HGVSp_Short'].strip('p.'), axis=1)\n",
    "    cancerTypeHypermutatorHotspots['isCtypeCancerGene'] = cancerTypeHypermutatorHotspots['Hugo_Symbol'].apply(lambda x: True if x in relatedGenesDict[cType] else False)\n",
    "    return cancerTypeHypermutatorHotspots"
   ]
  },
  {
   "cell_type": "code",
   "execution_count": 273,
   "metadata": {
    "scrolled": true
   },
   "outputs": [
    {
     "name": "stderr",
     "output_type": "stream",
     "text": [
      "/anaconda2/lib/python2.7/site-packages/ipykernel_launcher.py:6: SettingWithCopyWarning: \n",
      "A value is trying to be set on a copy of a slice from a DataFrame.\n",
      "Try using .loc[row_indexer,col_indexer] = value instead\n",
      "\n",
      "See the caveats in the documentation: http://pandas.pydata.org/pandas-docs/stable/indexing.html#indexing-view-versus-copy\n",
      "  \n",
      "/anaconda2/lib/python2.7/site-packages/ipykernel_launcher.py:7: SettingWithCopyWarning: \n",
      "A value is trying to be set on a copy of a slice from a DataFrame.\n",
      "Try using .loc[row_indexer,col_indexer] = value instead\n",
      "\n",
      "See the caveats in the documentation: http://pandas.pydata.org/pandas-docs/stable/indexing.html#indexing-view-versus-copy\n",
      "  import sys\n"
     ]
    }
   ],
   "source": [
    "endometrialHypermutatorHotspots = prepare_cancer_type_maf_for_analysis(filteredMafDf, 'Endometrial Cancer')\n",
    "colorectalHypermutatorHotspots = prepare_cancer_type_maf_for_analysis(filteredMafDf, 'Colorectal Cancer')\n",
    "gliomaHypermutatorHotspots = prepare_cancer_type_maf_for_analysis(filteredMafDf, 'Glioma')"
   ]
  },
  {
   "cell_type": "code",
   "execution_count": 274,
   "metadata": {},
   "outputs": [
    {
     "name": "stderr",
     "output_type": "stream",
     "text": [
      "/anaconda2/lib/python2.7/site-packages/ipykernel_launcher.py:18: SettingWithCopyWarning: \n",
      "A value is trying to be set on a copy of a slice from a DataFrame.\n",
      "Try using .loc[row_indexer,col_indexer] = value instead\n",
      "\n",
      "See the caveats in the documentation: http://pandas.pydata.org/pandas-docs/stable/indexing.html#indexing-view-versus-copy\n",
      "/anaconda2/lib/python2.7/site-packages/ipykernel_launcher.py:19: SettingWithCopyWarning: \n",
      "A value is trying to be set on a copy of a slice from a DataFrame.\n",
      "Try using .loc[row_indexer,col_indexer] = value instead\n",
      "\n",
      "See the caveats in the documentation: http://pandas.pydata.org/pandas-docs/stable/indexing.html#indexing-view-versus-copy\n"
     ]
    }
   ],
   "source": [
    "dfColo = assign_hotspot_mutation_utilization_curves(colorectalHypermutatorHotspots, hotspotRankingD, 'Colorectal_Cancer')\n",
    "dfEndo = assign_hotspot_mutation_utilization_curves(endometrialHypermutatorHotspots, hotspotRankingD, 'Endometrial_Cancer')\n",
    "dfGlio = assign_hotspot_mutation_utilization_curves(gliomaHypermutatorHotspots, hotspotRankingD, 'Glioma')"
   ]
  },
  {
   "cell_type": "code",
   "execution_count": 278,
   "metadata": {},
   "outputs": [],
   "source": [
    "dfEndo.to_csv('/Users/friedman/Desktop/WORK/dataForLocalPlotting/EndoHotspotUtilizationCurve.tsv', index=False, sep='\\t')\n",
    "dfColo.to_csv('/Users/friedman/Desktop/WORK/dataForLocalPlotting/ColoHotspotUtilizationCurve.tsv', index=False, sep='\\t')\n",
    "dfGlio.to_csv('/Users/friedman/Desktop/WORK/dataForLocalPlotting/GlioHotspotUtilizationCurve.tsv', index=False, sep='\\t')"
   ]
  },
  {
   "cell_type": "markdown",
   "metadata": {},
   "source": [
    "**WORKSPACE**\n"
   ]
  },
  {
   "cell_type": "code",
   "execution_count": 268,
   "metadata": {},
   "outputs": [],
   "source": [
    "#a util function to sanity check this data\n",
    "def check_impactful_muts(df):\n",
    "    prev = 0\n",
    "    sortedPercentiles = sorted(zip(df['val'], df['percentile'], df['hotspot']), key = lambda x: x[1])\n",
    "    for val, percentile, allele in sortedPercentiles:\n",
    "        dif = val - prev\n",
    "        if dif > .02: print allele, dif\n",
    "        prev = val\n",
    "    #for \n",
    "    #    print row['val']"
   ]
  },
  {
   "cell_type": "code",
   "execution_count": 269,
   "metadata": {},
   "outputs": [
    {
     "name": "stdout",
     "output_type": "stream",
     "text": [
      "XPO1:E571K 0.0202702702703\n",
      "ATM:R337C 0.0202702702703\n",
      "MAX:R60Q 0.0236486486486\n",
      "NFE2L2:E82D 0.027027027027\n",
      "PIK3R2:G373R 0.0236486486486\n",
      "CASP8:R127Q 0.0371621621622\n",
      "FUBP1:R430C 0.0202702702703\n",
      "ACVR1:R206H 0.027027027027\n",
      "XPO1:R749Q 0.0236486486486\n",
      "CCND1:P287S 0.027027027027\n"
     ]
    }
   ],
   "source": [
    "check_impactful_muts(dfEndo[dfEndo['class'] == 'unrelated'])\n"
   ]
  }
 ],
 "metadata": {
  "kernelspec": {
   "display_name": "Python 2",
   "language": "python",
   "name": "python2"
  },
  "language_info": {
   "codemirror_mode": {
    "name": "ipython",
    "version": 2
   },
   "file_extension": ".py",
   "mimetype": "text/x-python",
   "name": "python",
   "nbconvert_exporter": "python",
   "pygments_lexer": "ipython2",
   "version": "2.7.15"
  }
 },
 "nbformat": 4,
 "nbformat_minor": 2
}
