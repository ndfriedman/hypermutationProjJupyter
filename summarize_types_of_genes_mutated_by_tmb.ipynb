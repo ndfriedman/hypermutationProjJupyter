{
 "cells": [
  {
   "cell_type": "code",
   "execution_count": 1,
   "metadata": {},
   "outputs": [],
   "source": [
    "import sys\n",
    "import argparse\n",
    "import os\n",
    "import pandas as pd\n",
    "import numpy as np\n",
    "import numpy\n",
    "\n",
    "from collections import Counter\n",
    "\n",
    "pathPrefix = '/Users/friedman/Desktop/mnt'\n",
    "\n",
    "sys.path.append(pathPrefix + '/ifs/work/taylorlab/friedman/myUtils')\n",
    "import analysis_utils \n",
    "import mutationSigUtils \n",
    "import maf_analysis_utils\n",
    "import clonality_analysis_util\n",
    "import re\n"
   ]
  },
  {
   "cell_type": "code",
   "execution_count": 25,
   "metadata": {},
   "outputs": [
    {
     "name": "stderr",
     "output_type": "stream",
     "text": [
      "/anaconda2/lib/python2.7/site-packages/IPython/core/interactiveshell.py:2714: DtypeWarning: Columns (36,39,85) have mixed types. Specify dtype option on import or set low_memory=False.\n",
      "  interactivity=interactivity, compiler=compiler, result=result)\n"
     ]
    }
   ],
   "source": [
    "allImpactMuts = analysis_utils.load_in_df_with_progress(filePath = pathPrefix + '/ifs/work/taylorlab/friedman/hypermutationAnalysisProj/projectDataAndConfigFiles/all_impact_mutations_annotated_cohort.maf', nLinesFile = 275000)\n"
   ]
  },
  {
   "cell_type": "code",
   "execution_count": 4,
   "metadata": {},
   "outputs": [],
   "source": [
    "endometrialIds = analysis_utils.get_ids_by_hypermutant_status(hypermutantIdDir=pathPrefix + '/ifs/work/taylorlab/friedman/hypermutationAnalysisProj/projectDataAndConfigFiles/hypermutationStatusIds', cancerType='Endometrial Cancer', hypermutantStatus = 'all')\n",
    "colorectalIds = analysis_utils.get_ids_by_hypermutant_status(hypermutantIdDir=pathPrefix +'/ifs/work/taylorlab/friedman/hypermutationAnalysisProj/projectDataAndConfigFiles/hypermutationStatusIds', cancerType='Colorectal Cancer', hypermutantStatus = 'all')\n",
    "gliomaIds = analysis_utils.get_ids_by_hypermutant_status(hypermutantIdDir=pathPrefix +'/ifs/work/taylorlab/friedman/hypermutationAnalysisProj/projectDataAndConfigFiles/hypermutationStatusIds', cancerType='Glioma', hypermutantStatus = 'all')"
   ]
  },
  {
   "cell_type": "code",
   "execution_count": 6,
   "metadata": {},
   "outputs": [],
   "source": [
    "allImpactMuts['cancerType'] = allImpactMuts['Tumor_Sample_Barcode'].apply(lambda x:\n",
    "        'Endometrial Cancer' if x in endometrialIds\n",
    "        else 'Colorectal Cancer' if x in colorectalIds\n",
    "        else 'Glioma' if x in gliomaIds\n",
    "        else None\n",
    "        )\n"
   ]
  },
  {
   "cell_type": "code",
   "execution_count": 7,
   "metadata": {},
   "outputs": [],
   "source": [
    "selectMuts = allImpactMuts[allImpactMuts['cancerType'].notnull()]"
   ]
  },
  {
   "cell_type": "code",
   "execution_count": 9,
   "metadata": {},
   "outputs": [],
   "source": [
    "relatedGenes = {\n",
    "    'Endometrial Cancer': [\"AKT1\",\"APC\",\"ARID1A\",\"BCOR\",\"CCND1\",\"CDKN2A.p16INK4a\",\"CTCF\",\"CTNNB1\",         \n",
    "\"ESR1\",\"FBXW7\",\"FGFR2\",\"KRAS\",\"NRAS\",\"PIK3CA\",\n",
    "                           \"PIK3R1\",\"PPP2R1A\",\"PTEN\",\"RB1\",\"RRAS2\",\"SOX17\",\"SPOP\",\"TP53\"],\n",
    "    'Colorectal Cancer':[\"AMER1\",\"APC\",\"ARID1A\",\"ASXL1\",\"ATM\",\"B2M\",\"BRAF\",\"CDKN2A.p16INK4a\",\"CTNNB1\",\"ELF3\",\"EPHA3\",\"ERBB3\",\"FBXW7\",\"JUN\",\"KRAS\",\"NRAS\",\"PIK3CA\",\"PIK3R1\",\"PTEN\",\"RBM10\",\"RNF43\",\"SMAD2\",\"SMAD3\",\"SMAD4\",\"SOX9\",\"TCF7L2\",\"TP53\"],\n",
    "    'Glioma': [\"ARID1A\",\"ARID2\",\"ATRX\",\"BCOR\",\"BRAF\",\"CBL\",\"CDKN1B\",\"CDKN2A.p14arf\",\"CDKN2A.p16INK4a\",\"CDKN2C\",\"CIC\",\"DNMT3A\",\"EGFR\",\"FUBP1\",\"H3F3A\",\"IDH1\",\"KRAS\",\"NF1\",\"NOTCH1\",\"PDGFRA\",\"PIK3CA\",\"PIK3R1\",\"PPM1D\",\"PTEN\",\"PTPN11\",\"RB1\",\"SETD2\",\"STAG2\",\"TP53\"]\n",
    "}\n",
    "\n",
    "hyperGenes = {\n",
    "    'Endometrial Cancer': [\"ARID5B\",\"B2M\",\"CASP8\",\"MAP3K1\",\"MSH2\",\"MSH6\",\"NF1\",\"RASA1\"],\n",
    "    'Colorectal Cancer': [\"CASP8\",\"HLA-A\",\"HLA-B\",\"MSH2\"],\n",
    "    'Glioma': [\"MSH6\"]\n",
    "}\n",
    "\n",
    "weaklyRelatedGenes = {\n",
    "    'Endometrial Cancer':[ \"ARID1B\",\"ATM\",\"ATR\",\"CDKN1B\",\"CDKN2A.p14arf\",\"EPHA3\",\"EPHA5\",\"ERRFI1\",\"INPPL1\",\"JAK1\",\"KMT2B\",\"KMT2D\",\"NFE2L2\",\"ROS1\",\"STAT3\",\"ZFHX3\"],\n",
    "    'Colorectal Cancer':[\"ARID2\",\"BMPR1A\",\"CDKN1B\",\"ERBB2\",\"GNAS\",\"MAP2K1\",\"MAP2K4\",\"PBRM1\",\"PTCH1\",\"RASA1\",\"TGFBR2\"],\n",
    "    'Glioma':[\"FGFR1\",\"HLA-B\",\"PBRM1\",\"SMARCB1\",\"TSC1\"]\n",
    "}"
   ]
  },
  {
   "cell_type": "code",
   "execution_count": 15,
   "metadata": {},
   "outputs": [],
   "source": [
    "tmbInfo = pd.read_table(pathPrefix + '/ifs/work/taylorlab/friedman/hypermutationAnalysisProj/projectDataAndConfigFiles/tmbInfo.tsv')\n",
    "tmbDict = dict(zip(tmbInfo['Tumor_Sample_Barcode'], tmbInfo['Nmut_Mb']))"
   ]
  },
  {
   "cell_type": "code",
   "execution_count": null,
   "metadata": {},
   "outputs": [],
   "source": [
    "listOfDicts = []\n",
    "cntr = 0\n",
    "for case in set(selectMuts['Tumor_Sample_Barcode']):\n",
    "    nmut = selectMuts.shape[0]\n",
    "    caseOncogenicMuts = selectMuts[(selectMuts['Tumor_Sample_Barcode'] == case) & (selectMuts['oncogenic'].notnull())]\n",
    "    \n",
    "    #GET TMB\n",
    "    tmb = None\n",
    "    if case in tmbDict:\n",
    "        tmb = tmbDict[case]\n",
    "    \n",
    "    #get cancer type\n",
    "    cancerType = None\n",
    "    if case in endometrialIds: cancerType = 'Endometrial Cancer'\n",
    "    if case in colorectalIds: cancerType = 'Colorectal Cancer'\n",
    "    if case in gliomaIds: cancerType = 'Glioma'\n",
    "     \n",
    "    related = relatedGenes[cancerType]\n",
    "    hyper = hyperGenes[cancerType]\n",
    "    weak = weaklyRelatedGenes[cancerType]\n",
    "    \n",
    "    nRelatedMuts = caseOncogenicMuts[caseOncogenicMuts['Hugo_Symbol'].isin(related)].shape[0]\n",
    "    nHyperMuts = caseOncogenicMuts[caseOncogenicMuts['Hugo_Symbol'].isin(hyper)].shape[0]\n",
    "    nWeakMuts = caseOncogenicMuts[caseOncogenicMuts['Hugo_Symbol'].isin(weak)].shape[0]\n",
    "    \n",
    "    listOfDicts.append({'cancerType': cancerType, 'nRelated': nRelatedMuts, 'nHyperMuts': nHyperMuts,\n",
    "    'nWeakMuts': nWeakMuts, 'nOncogenic':caseOncogenicMuts.shape[0], 'tmb': tmb})\n",
    "        \n",
    "    cntr += 1\n",
    "    if cntr%100 == 0: print cntr\n",
    "df = pd.DataFrame(listOfDicts)"
   ]
  },
  {
   "cell_type": "code",
   "execution_count": 24,
   "metadata": {},
   "outputs": [],
   "source": [
    "df.to_csv('/Users/friedman/Desktop/WORK/dataForLocalPlotting/geneMutTypeSummary.tsv', index=False, sep='\\t')"
   ]
  },
  {
   "cell_type": "code",
   "execution_count": null,
   "metadata": {},
   "outputs": [],
   "source": []
  }
 ],
 "metadata": {
  "kernelspec": {
   "display_name": "Python 2",
   "language": "python",
   "name": "python2"
  },
  "language_info": {
   "codemirror_mode": {
    "name": "ipython",
    "version": 2
   },
   "file_extension": ".py",
   "mimetype": "text/x-python",
   "name": "python",
   "nbconvert_exporter": "python",
   "pygments_lexer": "ipython2",
   "version": "2.7.15"
  }
 },
 "nbformat": 4,
 "nbformat_minor": 2
}
