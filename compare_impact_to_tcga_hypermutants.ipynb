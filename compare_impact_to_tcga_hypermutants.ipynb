{
 "cells": [
  {
   "cell_type": "code",
   "execution_count": 59,
   "metadata": {},
   "outputs": [],
   "source": [
    "import sys\n",
    "import argparse\n",
    "import os\n",
    "import pandas as pd\n",
    "import numpy as np\n",
    "import numpy\n",
    "\n",
    "from collections import Counter\n",
    "\n",
    "pathPrefix = '/Users/friedman/Desktop/mnt/'\n",
    "\n",
    "sys.path.append(pathPrefix + '/ifs/work/taylorlab/friedman/myUtils')\n",
    "import analysis_utils \n",
    "import mutationSigUtils \n",
    "import maf_analysis_utils\n",
    "import clonality_analysis_util\n",
    "import re\n",
    "import scipy.stats as stats"
   ]
  },
  {
   "cell_type": "code",
   "execution_count": 50,
   "metadata": {},
   "outputs": [],
   "source": [
    "def summarize_muts_per_impact_gene(maf):\n",
    "    maf = maf[maf['oncogenic'].notnull()]\n",
    "    ncases = len(set(maf['Tumor_Sample_Barcode']))\n",
    "    d = {}\n",
    "    impactGenes = set(['ABL1', 'ACVR1', 'AGO2', 'AKT1', 'AKT2', 'AKT3', 'ALK', 'ALOX12B', 'ANKRD11', 'APC', 'AR', 'ARAF', 'ARID1A', 'ARID1B', 'ARID2', 'ARID5B', 'ASXL1', 'ASXL2', 'ATM', 'ATR', 'ATRX', 'AURKA', 'AURKB', 'AXIN1', 'AXIN2', 'AXL', 'B2M', 'BABAM1', 'BAP1', 'BARD1', 'BBC3', 'BCL10', 'BCL2', 'BCL2L1', 'BCL2L11', 'BCL6', 'BCOR', 'BIRC3', 'BLM', 'BMPR1A', 'BRAF', 'BRCA1', 'BRCA2', 'BRD4', 'BRIP1', 'BTK', 'CALR', 'CARD11', 'CARM1', 'CASP8', 'CBFB', 'CBL', 'CCND1', 'CCND2', 'CCND3', 'CCNE1', 'CD274', 'CD276', 'CD79A', 'CD79B', 'CDC42', 'CDC73', 'CDH1', 'CDK12', 'CDK4', 'CDK6', 'CDK8', 'CDKN1A', 'CDKN1B', 'CDKN2A', 'CDKN2B', 'CDKN2C', 'CEBPA', 'CENPA', 'CHEK1', 'CHEK2', 'CIC', 'CREBBP', 'CRKL', 'CRLF2', 'CSDE1', 'CSF1R', 'CSF3R', 'CTCF', 'CTLA4', 'CTNNB1', 'CUL3', 'CXCR4', 'CYLD', 'CYSLTR2', 'DAXX', 'DCUN1D1', 'DDR2', 'DICER1', 'DIS3', 'DNAJB1', 'DNMT1', 'DNMT3A', 'DNMT3B', 'DOT1L', 'DROSHA', 'DUSP4', 'E2F3', 'EED', 'EGFL7', 'EGFR', 'EIF1AX', 'EIF4A2', 'EIF4E', 'ELF3', 'EP300', 'EPAS1', 'EPCAM', 'EPHA3', 'EPHA5', 'EPHA7', 'EPHB1', 'ERBB2', 'ERBB3', 'ERBB4', 'ERCC2', 'ERCC3', 'ERCC4', 'ERCC5', 'ERF', 'ERG', 'ERRFI1', 'ESR1', 'ETV1', 'ETV6', 'EZH1', 'EZH2', 'FAM123B', 'FAM175A', 'FAM46C', 'FAM58A', 'FANCA', 'FANCC', 'FAT1', 'FBXW7', 'FGF19', 'FGF3', 'FGF4', 'FGFR1', 'FGFR2', 'FGFR3', 'FGFR4', 'FH', 'FLCN', 'FLT1', 'FLT3', 'FLT4', 'FOXA1', 'FOXL2', 'FOXO1', 'FOXP1', 'FUBP1', 'FYN', 'GATA1', 'GATA2', 'GATA3', 'GLI1', 'GNA11', 'GNAQ', 'GNAS', 'GPS2', 'GREM1', 'GRIN2A', 'GSK3B', 'H3F3A', 'H3F3B', 'H3F3C', 'HGF', 'HIST1H1C', 'HIST1H2BD', 'HIST1H3A', 'HIST1H3B', 'HIST1H3C', 'HIST1H3D', 'HIST1H3E', 'HIST1H3F', 'HIST1H3G', 'HIST1H3H', 'HIST1H3I', 'HIST1H3J', 'HIST2H3C', 'HIST2H3D', 'HIST3H3', 'HLA-A', 'HLA-B', 'HNF1A', 'HOXB13', 'HRAS', 'ICOSLG', 'ID3', 'IDH1', 'IDH2', 'IFNGR1', 'IGF1', 'IGF1R', 'IGF2', 'IKBKE', 'IKZF1', 'IL10', 'IL7R', 'INHA', 'INHBA', 'INPP4A', 'INPP4B', 'INPPL1', 'INSR', 'IRF4', 'IRS1', 'IRS2', 'JAK1', 'JAK2', 'JAK3', 'JUN', 'KDM5A', 'KDM5C', 'KDM6A', 'KDR', 'KEAP1', 'KIT', 'KLF4', 'KMT2B', 'KMT5A', 'KNSTRN', 'KRAS', 'LATS1', 'LATS2', 'LMO1', 'LYN', 'MALT1', 'MAP2K1', 'MAP2K2', 'MAP2K4', 'MAP3K1', 'MAP3K13', 'MAP3K14', 'MAPK1', 'MAPK3', 'MAPKAP1', 'MAX', 'MCL1', 'MDC1', 'MDM2', 'MDM4', 'MED12', 'MEF2B', 'MEN1', 'MET', 'MGA', 'MITF', 'MLH1', 'KMT2A', 'KMT2B', 'KMT2C', 'MPL', 'MRE11A', 'MSH2', 'MSH3', 'MSH6', 'MSI1', 'MSI2', 'MST1', 'MST1R', 'MTOR', 'MUTYH', 'MYC', 'MYCL1', 'MYCN', 'MYD88', 'MYOD1', 'NBN', 'NCOA3', 'NCOR1', 'NEGR1', 'NF1', 'NF2', 'NFE2L2', 'NFKBIA', 'NKX2-1', 'NKX3-1', 'NOTCH1', 'NOTCH2', 'NOTCH3', 'NOTCH4', 'NPM1', 'NRAS', 'NSD1', 'NTHL1', 'NTRK1', 'NTRK2', 'NTRK3', 'NUF2', 'NUP93', 'PAK1', 'PAK7', 'PALB2', 'PARK2', 'PARP1', 'PAX5', 'PBRM1', 'PDCD1', 'PDCD1LG2', 'PDGFRA', 'PDGFRB', 'PDPK1', 'PGR', 'PHOX2B', 'PIK3C2G', 'PIK3C3', 'PIK3CA', 'PIK3CB', 'PIK3CD', 'PIK3CG', 'PIK3R1', 'PIK3R2', 'PIK3R3', 'PIM1', 'PLCG2', 'PLK2', 'PMAIP1', 'PMS1', 'PMS2', 'PNRC1', 'POLD1', 'POLE', 'PPARG', 'PPM1D', 'PPP2R1A', 'PPP4R2', 'PPP6C', 'PRDM1', 'PRDM14', 'PREX2', 'PRKAR1A', 'PRKCI', 'PRKD1', 'PTCH1', 'PTEN', 'PTP4A1', 'PTPN11', 'PTPRD', 'PTPRS', 'PTPRT', 'RAB35', 'RAC1', 'RAC2', 'RAD21', 'RAD50', 'RAD51', 'RAD51C', 'RAD51L1', 'RAD51L3', 'RAD52', 'RAD54L', 'RAF1', 'RARA', 'RASA1', 'RB1', 'RBM10', 'RECQL', 'RECQL4', 'REL', 'RET', 'RFWD2', 'RHEB', 'RHOA', 'RICTOR', 'RIT1', 'RNF43', 'ROS1', 'RPS6KA4', 'RPS6KB2', 'RPTOR', 'RRAGC', 'RRAS', 'RRAS2', 'RTEL1', 'RUNX1', 'RXRA', 'RYBP', 'SDHA', 'SDHAF2', 'SDHB', 'SDHC', 'SDHD', 'SESN1', 'SESN2', 'SESN3', 'SETD2', 'SF3B1', 'SH2B3', 'SH2D1A', 'SHOC2', 'SHQ1', 'SLX4', 'SMAD2', 'SMAD3', 'SMAD4', 'SMARCA4', 'SMARCB1', 'SMARCD1', 'SMO', 'SMYD3', 'SOCS1', 'SOS1', 'SOX17', 'SOX2', 'SOX9', 'SPEN', 'SPOP', 'SPRED1', 'SRC', 'SRSF2', 'STAG2', 'STAT3', 'STAT5A', 'STAT5B', 'STK11', 'STK19', 'STK40', 'SUFU', 'SUZ12', 'SYK', 'TAP1', 'TAP2', 'TBX3', 'TCEB1', 'TCF3', 'TCF7L2', 'TEK', 'TERT', 'TET1', 'TET2', 'TGFBR1', 'TGFBR2', 'TMEM127', 'TMPRSS2', 'TNFAIP3', 'TNFRSF14', 'TOP1', 'TP53', 'TP53BP1', 'TP63', 'TRAF2', 'TRAF7', 'TSC1', 'TSC2', 'TSHR', 'U2AF1', 'UPF1', 'VEGFA', 'VHL', 'VTCN1', 'WHSC1', 'WHSC1L1', 'WT1', 'WWTR1', 'XIAP', 'XPO1', 'XRCC2', 'YAP1', 'YES1', 'ZFHX3', 'ZRSR2'])\n",
    "    for gene in impactGenes:\n",
    "        geneMaf = maf[maf['Hugo_Symbol'] == gene]\n",
    "        nmut = geneMaf.drop_duplicates(subset=['Tumor_Sample_Barcode']).shape[0]\n",
    "        d[gene] = (nmut, ncases - nmut)\n",
    "    return d\n",
    "    "
   ]
  },
  {
   "cell_type": "code",
   "execution_count": 128,
   "metadata": {},
   "outputs": [],
   "source": [
    "def get_gene_mutation_freqs_for_tcga(filePath, nLines, sigFilePath):\n",
    "    dfCancerType = analysis_utils.load_in_df_with_progress(filePath = filePath, nLinesFile = nLines)\n",
    "    sigCancerType = pd.read_table(sigFilePath)\n",
    "    sigCancerType['Nmut_Mb'] = sigCancerType['Number of Mutations'].apply(lambda x: x/30.0)\n",
    "    cancerTypeHypermutators = sigCancerType[sigCancerType['Nmut_Mb'] > 30]['Sample Name']\n",
    "    cancerTypeHypermutatorMaf = dfCancerType[dfCancerType['Tumor_Sample_Barcode'].isin(cancerTypeHypermutators)]\n",
    "    cancerTypeHypermutatorMafOnc = cancerTypeHypermutatorMaf[cancerTypeHypermutatorMaf['oncogenic'].notnull()]\n",
    "    \n",
    "    summary = summarize_muts_per_impact_gene(cancerTypeHypermutatorMafOnc)\n",
    "    return summary, cancerTypeHypermutatorMafOnc\n",
    "    "
   ]
  },
  {
   "cell_type": "code",
   "execution_count": 67,
   "metadata": {},
   "outputs": [],
   "source": [
    "def do_fisher_test_impact_vs_exome(impactCounts, exomeCounts):\n",
    "    listOfDicts = []\n",
    "    for gene in impactCounts.keys():\n",
    "        nImpactGene, nImpactNotGene = impactCounts[gene]\n",
    "        nExomeGene, nExomeNotGene = exomeCounts[gene]\n",
    "        oddsRatio, pValue = stats.fisher_exact([[nImpactGene, nImpactNotGene],\n",
    "                                                                    [nExomeGene, nExomeNotGene]])\n",
    "        listOfDicts.append({\n",
    "            'Hugo_Symbol': gene, 'oddsRatio': oddsRatio, 'pVal': pValue\n",
    "        })\n",
    "    return pd.DataFrame(listOfDicts)\n",
    "        \n",
    "    "
   ]
  },
  {
   "cell_type": "code",
   "execution_count": 94,
   "metadata": {},
   "outputs": [],
   "source": [
    "def prepare_summary_comparisson_impact_v_exome(summaryTCGA, summaryIMPACT):\n",
    "    df = do_fisher_test_impact_vs_exome(summaryIMPACT, summaryTCGA)\n",
    "    geneSizeDict = analysis_utils.get_cds_size_targeted_by_impact(infoFilePath = pathPrefix + '/ifs/work/taylorlab/friedman/myAdjustedDataFiles/impact_gene_reference_signatures.tsv')\n",
    "    df['geneSize'] = df['Hugo_Symbol'].apply(lambda x: geneSizeDict[x] if x in geneSizeDict else None)\n",
    "    df['displayName'] = df.apply(lambda row: row['Hugo_Symbol'] if row['pVal'] < 1e-4 else None, axis=1)\n",
    "    return df\n"
   ]
  },
  {
   "cell_type": "code",
   "execution_count": 129,
   "metadata": {},
   "outputs": [
    {
     "name": "stderr",
     "output_type": "stream",
     "text": [
      "/anaconda2/lib/python2.7/site-packages/ipykernel_launcher.py:2: DtypeWarning: Columns (4,138,145,146,148) have mixed types. Specify dtype option on import or set low_memory=False.\n",
      "  \n"
     ]
    },
    {
     "name": "stdout",
     "output_type": "stream",
     "text": [
      "1.06 percent done\n"
     ]
    },
    {
     "name": "stderr",
     "output_type": "stream",
     "text": [
      "/anaconda2/lib/python2.7/site-packages/ipykernel_launcher.py:2: DtypeWarning: Columns (4,146,148) have mixed types. Specify dtype option on import or set low_memory=False.\n",
      "  \n"
     ]
    },
    {
     "name": "stdout",
     "output_type": "stream",
     "text": [
      "2.12 percent done\n"
     ]
    },
    {
     "name": "stderr",
     "output_type": "stream",
     "text": [
      "/anaconda2/lib/python2.7/site-packages/ipykernel_launcher.py:2: DtypeWarning: Columns (76,138,146,148) have mixed types. Specify dtype option on import or set low_memory=False.\n",
      "  \n"
     ]
    },
    {
     "name": "stdout",
     "output_type": "stream",
     "text": [
      "3.17 percent done\n"
     ]
    },
    {
     "name": "stderr",
     "output_type": "stream",
     "text": [
      "/anaconda2/lib/python2.7/site-packages/ipykernel_launcher.py:2: DtypeWarning: Columns (138,139) have mixed types. Specify dtype option on import or set low_memory=False.\n",
      "  \n"
     ]
    },
    {
     "name": "stdout",
     "output_type": "stream",
     "text": [
      "4.23 percent done\n"
     ]
    },
    {
     "name": "stderr",
     "output_type": "stream",
     "text": [
      "/anaconda2/lib/python2.7/site-packages/ipykernel_launcher.py:2: DtypeWarning: Columns (138,139,143,148) have mixed types. Specify dtype option on import or set low_memory=False.\n",
      "  \n"
     ]
    },
    {
     "name": "stdout",
     "output_type": "stream",
     "text": [
      "5.29 percent done\n"
     ]
    },
    {
     "name": "stderr",
     "output_type": "stream",
     "text": [
      "/anaconda2/lib/python2.7/site-packages/ipykernel_launcher.py:2: DtypeWarning: Columns (4,138,139,143,145,146,148) have mixed types. Specify dtype option on import or set low_memory=False.\n",
      "  \n"
     ]
    },
    {
     "name": "stdout",
     "output_type": "stream",
     "text": [
      "6.35 percent done\n"
     ]
    },
    {
     "name": "stderr",
     "output_type": "stream",
     "text": [
      "/anaconda2/lib/python2.7/site-packages/ipykernel_launcher.py:2: DtypeWarning: Columns (4,138,139,140,145,146,148) have mixed types. Specify dtype option on import or set low_memory=False.\n",
      "  \n"
     ]
    },
    {
     "name": "stdout",
     "output_type": "stream",
     "text": [
      "7.41 percent done\n"
     ]
    },
    {
     "name": "stderr",
     "output_type": "stream",
     "text": [
      "/anaconda2/lib/python2.7/site-packages/ipykernel_launcher.py:2: DtypeWarning: Columns (139,143,148) have mixed types. Specify dtype option on import or set low_memory=False.\n",
      "  \n"
     ]
    },
    {
     "name": "stdout",
     "output_type": "stream",
     "text": [
      "8.46 percent done\n"
     ]
    },
    {
     "name": "stderr",
     "output_type": "stream",
     "text": [
      "/anaconda2/lib/python2.7/site-packages/ipykernel_launcher.py:2: DtypeWarning: Columns (4,76,87,138,143,144,145,146,148) have mixed types. Specify dtype option on import or set low_memory=False.\n",
      "  \n"
     ]
    },
    {
     "name": "stdout",
     "output_type": "stream",
     "text": [
      "9.52 percent done\n"
     ]
    },
    {
     "name": "stderr",
     "output_type": "stream",
     "text": [
      "/anaconda2/lib/python2.7/site-packages/ipykernel_launcher.py:2: DtypeWarning: Columns (87,138,139,145,146,148) have mixed types. Specify dtype option on import or set low_memory=False.\n",
      "  \n"
     ]
    },
    {
     "name": "stdout",
     "output_type": "stream",
     "text": [
      "10.58 percent done\n"
     ]
    },
    {
     "name": "stderr",
     "output_type": "stream",
     "text": [
      "/anaconda2/lib/python2.7/site-packages/ipykernel_launcher.py:2: DtypeWarning: Columns (76,144) have mixed types. Specify dtype option on import or set low_memory=False.\n",
      "  \n"
     ]
    },
    {
     "name": "stdout",
     "output_type": "stream",
     "text": [
      "11.64 percent done\n"
     ]
    },
    {
     "name": "stderr",
     "output_type": "stream",
     "text": [
      "/anaconda2/lib/python2.7/site-packages/ipykernel_launcher.py:2: DtypeWarning: Columns (4,87,139,143,145,146,148) have mixed types. Specify dtype option on import or set low_memory=False.\n",
      "  \n"
     ]
    },
    {
     "name": "stdout",
     "output_type": "stream",
     "text": [
      "12.7 percent done\n"
     ]
    },
    {
     "name": "stderr",
     "output_type": "stream",
     "text": [
      "/anaconda2/lib/python2.7/site-packages/ipykernel_launcher.py:2: DtypeWarning: Columns (4,76,87,138,143,145,146,148) have mixed types. Specify dtype option on import or set low_memory=False.\n",
      "  \n"
     ]
    },
    {
     "name": "stdout",
     "output_type": "stream",
     "text": [
      "13.76 percent done\n"
     ]
    },
    {
     "name": "stderr",
     "output_type": "stream",
     "text": [
      "/anaconda2/lib/python2.7/site-packages/ipykernel_launcher.py:2: DtypeWarning: Columns (4,76,143,145,146,148) have mixed types. Specify dtype option on import or set low_memory=False.\n",
      "  \n"
     ]
    },
    {
     "name": "stdout",
     "output_type": "stream",
     "text": [
      "14.81 percent done\n"
     ]
    },
    {
     "name": "stderr",
     "output_type": "stream",
     "text": [
      "/anaconda2/lib/python2.7/site-packages/ipykernel_launcher.py:2: DtypeWarning: Columns (143) have mixed types. Specify dtype option on import or set low_memory=False.\n",
      "  \n"
     ]
    },
    {
     "name": "stdout",
     "output_type": "stream",
     "text": [
      "15.87 percent done\n"
     ]
    },
    {
     "name": "stderr",
     "output_type": "stream",
     "text": [
      "/anaconda2/lib/python2.7/site-packages/ipykernel_launcher.py:2: DtypeWarning: Columns (146,148) have mixed types. Specify dtype option on import or set low_memory=False.\n",
      "  \n"
     ]
    },
    {
     "name": "stdout",
     "output_type": "stream",
     "text": [
      "16.93 percent done\n"
     ]
    },
    {
     "name": "stderr",
     "output_type": "stream",
     "text": [
      "/anaconda2/lib/python2.7/site-packages/ipykernel_launcher.py:2: DtypeWarning: Columns (4,76,138,143,145,146,148) have mixed types. Specify dtype option on import or set low_memory=False.\n",
      "  \n"
     ]
    },
    {
     "name": "stdout",
     "output_type": "stream",
     "text": [
      "17.99 percent done\n"
     ]
    },
    {
     "name": "stderr",
     "output_type": "stream",
     "text": [
      "/anaconda2/lib/python2.7/site-packages/ipykernel_launcher.py:2: DtypeWarning: Columns (4,139,143,146,148) have mixed types. Specify dtype option on import or set low_memory=False.\n",
      "  \n"
     ]
    },
    {
     "name": "stdout",
     "output_type": "stream",
     "text": [
      "19.05 percent done\n"
     ]
    },
    {
     "name": "stderr",
     "output_type": "stream",
     "text": [
      "/anaconda2/lib/python2.7/site-packages/ipykernel_launcher.py:2: DtypeWarning: Columns (138,139,140,146,148) have mixed types. Specify dtype option on import or set low_memory=False.\n",
      "  \n"
     ]
    },
    {
     "name": "stdout",
     "output_type": "stream",
     "text": [
      "20.1 percent done\n"
     ]
    },
    {
     "name": "stderr",
     "output_type": "stream",
     "text": [
      "/anaconda2/lib/python2.7/site-packages/ipykernel_launcher.py:2: DtypeWarning: Columns (4,76,138,143,144,145,146,148) have mixed types. Specify dtype option on import or set low_memory=False.\n",
      "  \n"
     ]
    },
    {
     "name": "stdout",
     "output_type": "stream",
     "text": [
      "21.16 percent done\n"
     ]
    },
    {
     "name": "stderr",
     "output_type": "stream",
     "text": [
      "/anaconda2/lib/python2.7/site-packages/ipykernel_launcher.py:2: DtypeWarning: Columns (138,143,145,146,148) have mixed types. Specify dtype option on import or set low_memory=False.\n",
      "  \n"
     ]
    },
    {
     "name": "stdout",
     "output_type": "stream",
     "text": [
      "22.22 percent done\n"
     ]
    },
    {
     "name": "stderr",
     "output_type": "stream",
     "text": [
      "/anaconda2/lib/python2.7/site-packages/ipykernel_launcher.py:2: DtypeWarning: Columns (4,76,87,138,139,143,145,146,148) have mixed types. Specify dtype option on import or set low_memory=False.\n",
      "  \n"
     ]
    },
    {
     "name": "stdout",
     "output_type": "stream",
     "text": [
      "23.28 percent done\n"
     ]
    },
    {
     "name": "stderr",
     "output_type": "stream",
     "text": [
      "/anaconda2/lib/python2.7/site-packages/ipykernel_launcher.py:2: DtypeWarning: Columns (138,145,146,148) have mixed types. Specify dtype option on import or set low_memory=False.\n",
      "  \n"
     ]
    },
    {
     "name": "stdout",
     "output_type": "stream",
     "text": [
      "24.34 percent done\n",
      "25.39 percent done\n"
     ]
    },
    {
     "name": "stderr",
     "output_type": "stream",
     "text": [
      "/anaconda2/lib/python2.7/site-packages/ipykernel_launcher.py:2: DtypeWarning: Columns (4,76,87,138,143,146,148) have mixed types. Specify dtype option on import or set low_memory=False.\n",
      "  \n"
     ]
    },
    {
     "name": "stdout",
     "output_type": "stream",
     "text": [
      "26.45 percent done\n",
      "27.51 percent done\n",
      "28.57 percent done\n"
     ]
    },
    {
     "name": "stderr",
     "output_type": "stream",
     "text": [
      "/anaconda2/lib/python2.7/site-packages/ipykernel_launcher.py:2: DtypeWarning: Columns (4,138,143,145) have mixed types. Specify dtype option on import or set low_memory=False.\n",
      "  \n"
     ]
    },
    {
     "name": "stdout",
     "output_type": "stream",
     "text": [
      "29.63 percent done\n"
     ]
    },
    {
     "name": "stderr",
     "output_type": "stream",
     "text": [
      "/anaconda2/lib/python2.7/site-packages/ipykernel_launcher.py:2: DtypeWarning: Columns (4,143,145) have mixed types. Specify dtype option on import or set low_memory=False.\n",
      "  \n"
     ]
    },
    {
     "name": "stdout",
     "output_type": "stream",
     "text": [
      "30.68 percent done\n"
     ]
    },
    {
     "name": "stderr",
     "output_type": "stream",
     "text": [
      "/anaconda2/lib/python2.7/site-packages/ipykernel_launcher.py:2: DtypeWarning: Columns (4,76,139,145,146,148) have mixed types. Specify dtype option on import or set low_memory=False.\n",
      "  \n"
     ]
    },
    {
     "name": "stdout",
     "output_type": "stream",
     "text": [
      "31.74 percent done\n",
      "32.8 percent done\n"
     ]
    },
    {
     "name": "stderr",
     "output_type": "stream",
     "text": [
      "/anaconda2/lib/python2.7/site-packages/ipykernel_launcher.py:2: DtypeWarning: Columns (4,76,143,145) have mixed types. Specify dtype option on import or set low_memory=False.\n",
      "  \n"
     ]
    },
    {
     "name": "stdout",
     "output_type": "stream",
     "text": [
      "33.86 percent done\n"
     ]
    },
    {
     "name": "stderr",
     "output_type": "stream",
     "text": [
      "/anaconda2/lib/python2.7/site-packages/ipykernel_launcher.py:2: DtypeWarning: Columns (4,145) have mixed types. Specify dtype option on import or set low_memory=False.\n",
      "  \n"
     ]
    },
    {
     "name": "stdout",
     "output_type": "stream",
     "text": [
      "34.92 percent done\n"
     ]
    },
    {
     "name": "stderr",
     "output_type": "stream",
     "text": [
      "/anaconda2/lib/python2.7/site-packages/ipykernel_launcher.py:2: DtypeWarning: Columns (4,87,143,145,146,148) have mixed types. Specify dtype option on import or set low_memory=False.\n",
      "  \n"
     ]
    },
    {
     "name": "stdout",
     "output_type": "stream",
     "text": [
      "35.97 percent done\n"
     ]
    },
    {
     "name": "stderr",
     "output_type": "stream",
     "text": [
      "/anaconda2/lib/python2.7/site-packages/ipykernel_launcher.py:2: DtypeWarning: Columns (87,138,140,145,146,148) have mixed types. Specify dtype option on import or set low_memory=False.\n",
      "  \n"
     ]
    },
    {
     "name": "stdout",
     "output_type": "stream",
     "text": [
      "37.03 percent done\n"
     ]
    },
    {
     "name": "stderr",
     "output_type": "stream",
     "text": [
      "/anaconda2/lib/python2.7/site-packages/ipykernel_launcher.py:2: DtypeWarning: Columns (4,76,138,139,143,144,145,146) have mixed types. Specify dtype option on import or set low_memory=False.\n",
      "  \n"
     ]
    },
    {
     "name": "stdout",
     "output_type": "stream",
     "text": [
      "38.09 percent done\n"
     ]
    },
    {
     "name": "stderr",
     "output_type": "stream",
     "text": [
      "/anaconda2/lib/python2.7/site-packages/ipykernel_launcher.py:2: DtypeWarning: Columns (138,139,143,146,148) have mixed types. Specify dtype option on import or set low_memory=False.\n",
      "  \n"
     ]
    },
    {
     "name": "stdout",
     "output_type": "stream",
     "text": [
      "39.15 percent done\n"
     ]
    },
    {
     "name": "stderr",
     "output_type": "stream",
     "text": [
      "/anaconda2/lib/python2.7/site-packages/ipykernel_launcher.py:2: DtypeWarning: Columns (4,76,87,138,139,145,146,148) have mixed types. Specify dtype option on import or set low_memory=False.\n",
      "  \n"
     ]
    },
    {
     "name": "stdout",
     "output_type": "stream",
     "text": [
      "40.21 percent done\n"
     ]
    },
    {
     "name": "stderr",
     "output_type": "stream",
     "text": [
      "/anaconda2/lib/python2.7/site-packages/ipykernel_launcher.py:2: DtypeWarning: Columns (76,87,138,139,143,148) have mixed types. Specify dtype option on import or set low_memory=False.\n",
      "  \n"
     ]
    },
    {
     "name": "stdout",
     "output_type": "stream",
     "text": [
      "41.27 percent done\n"
     ]
    },
    {
     "name": "stderr",
     "output_type": "stream",
     "text": [
      "/anaconda2/lib/python2.7/site-packages/ipykernel_launcher.py:2: DtypeWarning: Columns (76,146) have mixed types. Specify dtype option on import or set low_memory=False.\n",
      "  \n"
     ]
    },
    {
     "name": "stdout",
     "output_type": "stream",
     "text": [
      "42.32 percent done\n"
     ]
    },
    {
     "name": "stderr",
     "output_type": "stream",
     "text": [
      "/anaconda2/lib/python2.7/site-packages/ipykernel_launcher.py:2: DtypeWarning: Columns (4,138,143,145,146) have mixed types. Specify dtype option on import or set low_memory=False.\n",
      "  \n"
     ]
    },
    {
     "name": "stdout",
     "output_type": "stream",
     "text": [
      "43.38 percent done\n"
     ]
    },
    {
     "name": "stderr",
     "output_type": "stream",
     "text": [
      "/anaconda2/lib/python2.7/site-packages/ipykernel_launcher.py:2: DtypeWarning: Columns (4,87,138,143,145,146,148) have mixed types. Specify dtype option on import or set low_memory=False.\n",
      "  \n"
     ]
    },
    {
     "name": "stdout",
     "output_type": "stream",
     "text": [
      "44.44 percent done\n",
      "45.5 percent done\n"
     ]
    },
    {
     "name": "stderr",
     "output_type": "stream",
     "text": [
      "/anaconda2/lib/python2.7/site-packages/ipykernel_launcher.py:2: DtypeWarning: Columns (4,138,144,145,146,148) have mixed types. Specify dtype option on import or set low_memory=False.\n",
      "  \n"
     ]
    },
    {
     "name": "stdout",
     "output_type": "stream",
     "text": [
      "46.56 percent done\n"
     ]
    },
    {
     "name": "stderr",
     "output_type": "stream",
     "text": [
      "/anaconda2/lib/python2.7/site-packages/ipykernel_launcher.py:2: DtypeWarning: Columns (4,138,144,145) have mixed types. Specify dtype option on import or set low_memory=False.\n",
      "  \n"
     ]
    },
    {
     "name": "stdout",
     "output_type": "stream",
     "text": [
      "47.61 percent done\n",
      "48.67 percent done\n"
     ]
    },
    {
     "name": "stderr",
     "output_type": "stream",
     "text": [
      "/anaconda2/lib/python2.7/site-packages/ipykernel_launcher.py:2: DtypeWarning: Columns (4,139,145,146,148) have mixed types. Specify dtype option on import or set low_memory=False.\n",
      "  \n"
     ]
    },
    {
     "name": "stdout",
     "output_type": "stream",
     "text": [
      "49.73 percent done\n"
     ]
    },
    {
     "name": "stderr",
     "output_type": "stream",
     "text": [
      "/anaconda2/lib/python2.7/site-packages/ipykernel_launcher.py:2: DtypeWarning: Columns (138,139,146,148) have mixed types. Specify dtype option on import or set low_memory=False.\n",
      "  \n"
     ]
    },
    {
     "name": "stdout",
     "output_type": "stream",
     "text": [
      "50.79 percent done\n"
     ]
    },
    {
     "name": "stderr",
     "output_type": "stream",
     "text": [
      "/anaconda2/lib/python2.7/site-packages/ipykernel_launcher.py:2: DtypeWarning: Columns (4,76,138,139,140,145,146,148) have mixed types. Specify dtype option on import or set low_memory=False.\n",
      "  \n"
     ]
    },
    {
     "name": "stdout",
     "output_type": "stream",
     "text": [
      "51.85 percent done\n"
     ]
    },
    {
     "name": "stderr",
     "output_type": "stream",
     "text": [
      "/anaconda2/lib/python2.7/site-packages/ipykernel_launcher.py:2: DtypeWarning: Columns (139,143,146,148) have mixed types. Specify dtype option on import or set low_memory=False.\n",
      "  \n"
     ]
    },
    {
     "name": "stdout",
     "output_type": "stream",
     "text": [
      "52.9 percent done\n"
     ]
    },
    {
     "name": "stderr",
     "output_type": "stream",
     "text": [
      "/anaconda2/lib/python2.7/site-packages/ipykernel_launcher.py:2: DtypeWarning: Columns (4,138,139,145,146,148) have mixed types. Specify dtype option on import or set low_memory=False.\n",
      "  \n"
     ]
    },
    {
     "name": "stdout",
     "output_type": "stream",
     "text": [
      "53.96 percent done\n"
     ]
    },
    {
     "name": "stderr",
     "output_type": "stream",
     "text": [
      "/anaconda2/lib/python2.7/site-packages/ipykernel_launcher.py:2: DtypeWarning: Columns (76,144,146) have mixed types. Specify dtype option on import or set low_memory=False.\n",
      "  \n"
     ]
    },
    {
     "name": "stdout",
     "output_type": "stream",
     "text": [
      "55.02 percent done\n",
      "56.08 percent done\n",
      "57.14 percent done\n"
     ]
    },
    {
     "name": "stderr",
     "output_type": "stream",
     "text": [
      "/anaconda2/lib/python2.7/site-packages/ipykernel_launcher.py:2: DtypeWarning: Columns (4,76,138,143,145,146) have mixed types. Specify dtype option on import or set low_memory=False.\n",
      "  \n"
     ]
    },
    {
     "name": "stdout",
     "output_type": "stream",
     "text": [
      "58.19 percent done\n"
     ]
    },
    {
     "name": "stderr",
     "output_type": "stream",
     "text": [
      "/anaconda2/lib/python2.7/site-packages/ipykernel_launcher.py:2: DtypeWarning: Columns (4,76,138,143,144) have mixed types. Specify dtype option on import or set low_memory=False.\n",
      "  \n"
     ]
    },
    {
     "name": "stdout",
     "output_type": "stream",
     "text": [
      "59.25 percent done\n"
     ]
    },
    {
     "name": "stderr",
     "output_type": "stream",
     "text": [
      "/anaconda2/lib/python2.7/site-packages/ipykernel_launcher.py:2: DtypeWarning: Columns (4,138,143,145,146,148) have mixed types. Specify dtype option on import or set low_memory=False.\n",
      "  \n"
     ]
    },
    {
     "name": "stdout",
     "output_type": "stream",
     "text": [
      "60.31 percent done\n"
     ]
    },
    {
     "name": "stderr",
     "output_type": "stream",
     "text": [
      "/anaconda2/lib/python2.7/site-packages/ipykernel_launcher.py:2: DtypeWarning: Columns (4,76,138,144,145,146,148) have mixed types. Specify dtype option on import or set low_memory=False.\n",
      "  \n"
     ]
    },
    {
     "name": "stdout",
     "output_type": "stream",
     "text": [
      "61.37 percent done\n"
     ]
    },
    {
     "name": "stderr",
     "output_type": "stream",
     "text": [
      "/anaconda2/lib/python2.7/site-packages/ipykernel_launcher.py:2: DtypeWarning: Columns (4,145,146,148) have mixed types. Specify dtype option on import or set low_memory=False.\n",
      "  \n"
     ]
    },
    {
     "name": "stdout",
     "output_type": "stream",
     "text": [
      "62.43 percent done\n",
      "63.49 percent done\n",
      "64.54 percent done\n"
     ]
    },
    {
     "name": "stderr",
     "output_type": "stream",
     "text": [
      "/anaconda2/lib/python2.7/site-packages/ipykernel_launcher.py:2: DtypeWarning: Columns (4,76,143,145,146) have mixed types. Specify dtype option on import or set low_memory=False.\n",
      "  \n"
     ]
    },
    {
     "name": "stdout",
     "output_type": "stream",
     "text": [
      "65.6 percent done\n"
     ]
    },
    {
     "name": "stderr",
     "output_type": "stream",
     "text": [
      "/anaconda2/lib/python2.7/site-packages/ipykernel_launcher.py:2: DtypeWarning: Columns (76,143) have mixed types. Specify dtype option on import or set low_memory=False.\n",
      "  \n"
     ]
    },
    {
     "name": "stdout",
     "output_type": "stream",
     "text": [
      "66.66 percent done\n"
     ]
    },
    {
     "name": "stderr",
     "output_type": "stream",
     "text": [
      "/anaconda2/lib/python2.7/site-packages/ipykernel_launcher.py:2: DtypeWarning: Columns (76,138,145,148) have mixed types. Specify dtype option on import or set low_memory=False.\n",
      "  \n"
     ]
    },
    {
     "name": "stdout",
     "output_type": "stream",
     "text": [
      "67.72 percent done\n",
      "68.78 percent done\n"
     ]
    },
    {
     "name": "stderr",
     "output_type": "stream",
     "text": [
      "/anaconda2/lib/python2.7/site-packages/ipykernel_launcher.py:2: DtypeWarning: Columns (4,87,138,143,145,146) have mixed types. Specify dtype option on import or set low_memory=False.\n",
      "  \n"
     ]
    },
    {
     "name": "stdout",
     "output_type": "stream",
     "text": [
      "69.83 percent done\n"
     ]
    },
    {
     "name": "stderr",
     "output_type": "stream",
     "text": [
      "/anaconda2/lib/python2.7/site-packages/ipykernel_launcher.py:2: DtypeWarning: Columns (4,76,138,139,145,146,148) have mixed types. Specify dtype option on import or set low_memory=False.\n",
      "  \n"
     ]
    },
    {
     "name": "stdout",
     "output_type": "stream",
     "text": [
      "70.89 percent done\n",
      "71.95 percent done\n",
      "73.01 percent done\n",
      "74.07 percent done\n"
     ]
    },
    {
     "name": "stderr",
     "output_type": "stream",
     "text": [
      "/anaconda2/lib/python2.7/site-packages/ipykernel_launcher.py:2: DtypeWarning: Columns (4,76,138,146,148) have mixed types. Specify dtype option on import or set low_memory=False.\n",
      "  \n"
     ]
    },
    {
     "name": "stdout",
     "output_type": "stream",
     "text": [
      "75.12 percent done\n"
     ]
    },
    {
     "name": "stderr",
     "output_type": "stream",
     "text": [
      "/anaconda2/lib/python2.7/site-packages/ipykernel_launcher.py:2: DtypeWarning: Columns (138) have mixed types. Specify dtype option on import or set low_memory=False.\n",
      "  \n"
     ]
    },
    {
     "name": "stdout",
     "output_type": "stream",
     "text": [
      "76.18 percent done\n",
      "77.24 percent done\n"
     ]
    },
    {
     "name": "stderr",
     "output_type": "stream",
     "text": [
      "/anaconda2/lib/python2.7/site-packages/ipykernel_launcher.py:2: DtypeWarning: Columns (87,139,140,146,148) have mixed types. Specify dtype option on import or set low_memory=False.\n",
      "  \n"
     ]
    },
    {
     "name": "stdout",
     "output_type": "stream",
     "text": [
      "78.3 percent done\n"
     ]
    },
    {
     "name": "stderr",
     "output_type": "stream",
     "text": [
      "/anaconda2/lib/python2.7/site-packages/ipykernel_launcher.py:2: DtypeWarning: Columns (4,76,138,145,146,148) have mixed types. Specify dtype option on import or set low_memory=False.\n",
      "  \n"
     ]
    },
    {
     "name": "stdout",
     "output_type": "stream",
     "text": [
      "79.36 percent done\n"
     ]
    },
    {
     "name": "stderr",
     "output_type": "stream",
     "text": [
      "/anaconda2/lib/python2.7/site-packages/ipykernel_launcher.py:2: DtypeWarning: Columns (4,76,87,138,139,140,143,146,148) have mixed types. Specify dtype option on import or set low_memory=False.\n",
      "  \n"
     ]
    },
    {
     "name": "stdout",
     "output_type": "stream",
     "text": [
      "80.41 percent done\n"
     ]
    },
    {
     "name": "stderr",
     "output_type": "stream",
     "text": [
      "/anaconda2/lib/python2.7/site-packages/ipykernel_launcher.py:2: DtypeWarning: Columns (4,87,139,145,146,148) have mixed types. Specify dtype option on import or set low_memory=False.\n",
      "  \n"
     ]
    },
    {
     "name": "stdout",
     "output_type": "stream",
     "text": [
      "81.47 percent done\n",
      "82.53 percent done\n",
      "83.59 percent done\n"
     ]
    },
    {
     "name": "stderr",
     "output_type": "stream",
     "text": [
      "/anaconda2/lib/python2.7/site-packages/ipykernel_launcher.py:2: DtypeWarning: Columns (87,138,139,140) have mixed types. Specify dtype option on import or set low_memory=False.\n",
      "  \n"
     ]
    },
    {
     "name": "stdout",
     "output_type": "stream",
     "text": [
      "84.65 percent done\n"
     ]
    },
    {
     "name": "stderr",
     "output_type": "stream",
     "text": [
      "/anaconda2/lib/python2.7/site-packages/ipykernel_launcher.py:2: DtypeWarning: Columns (4,76,145,146,148) have mixed types. Specify dtype option on import or set low_memory=False.\n",
      "  \n"
     ]
    },
    {
     "name": "stdout",
     "output_type": "stream",
     "text": [
      "85.7 percent done\n"
     ]
    },
    {
     "name": "stderr",
     "output_type": "stream",
     "text": [
      "/anaconda2/lib/python2.7/site-packages/ipykernel_launcher.py:2: DtypeWarning: Columns (4,138,143) have mixed types. Specify dtype option on import or set low_memory=False.\n",
      "  \n"
     ]
    },
    {
     "name": "stdout",
     "output_type": "stream",
     "text": [
      "86.76 percent done\n"
     ]
    },
    {
     "name": "stderr",
     "output_type": "stream",
     "text": [
      "/anaconda2/lib/python2.7/site-packages/ipykernel_launcher.py:2: DtypeWarning: Columns (76,139,143,145,146) have mixed types. Specify dtype option on import or set low_memory=False.\n",
      "  \n"
     ]
    },
    {
     "name": "stdout",
     "output_type": "stream",
     "text": [
      "87.82 percent done\n",
      "88.88 percent done\n"
     ]
    },
    {
     "name": "stderr",
     "output_type": "stream",
     "text": [
      "/anaconda2/lib/python2.7/site-packages/ipykernel_launcher.py:2: DtypeWarning: Columns (4,138,139,140,143,146,148) have mixed types. Specify dtype option on import or set low_memory=False.\n",
      "  \n"
     ]
    },
    {
     "name": "stdout",
     "output_type": "stream",
     "text": [
      "89.94 percent done\n"
     ]
    },
    {
     "name": "stderr",
     "output_type": "stream",
     "text": [
      "/anaconda2/lib/python2.7/site-packages/ipykernel_launcher.py:2: DtypeWarning: Columns (4,138,140,145,146,148) have mixed types. Specify dtype option on import or set low_memory=False.\n",
      "  \n"
     ]
    },
    {
     "name": "stdout",
     "output_type": "stream",
     "text": [
      "91.0 percent done\n"
     ]
    },
    {
     "name": "stderr",
     "output_type": "stream",
     "text": [
      "/anaconda2/lib/python2.7/site-packages/ipykernel_launcher.py:2: DtypeWarning: Columns (140,143,146,148) have mixed types. Specify dtype option on import or set low_memory=False.\n",
      "  \n"
     ]
    },
    {
     "name": "stdout",
     "output_type": "stream",
     "text": [
      "92.05 percent done\n"
     ]
    },
    {
     "name": "stderr",
     "output_type": "stream",
     "text": [
      "/anaconda2/lib/python2.7/site-packages/ipykernel_launcher.py:2: DtypeWarning: Columns (4,138,143,146) have mixed types. Specify dtype option on import or set low_memory=False.\n",
      "  \n"
     ]
    },
    {
     "name": "stdout",
     "output_type": "stream",
     "text": [
      "93.11 percent done\n",
      "94.17 percent done\n"
     ]
    },
    {
     "name": "stderr",
     "output_type": "stream",
     "text": [
      "/anaconda2/lib/python2.7/site-packages/ipykernel_launcher.py:2: DtypeWarning: Columns (71,72,76,87,139,143,144,145,149) have mixed types. Specify dtype option on import or set low_memory=False.\n",
      "  \n"
     ]
    },
    {
     "name": "stdout",
     "output_type": "stream",
     "text": [
      "95.23 percent done\n",
      "96.29 percent done\n"
     ]
    },
    {
     "name": "stderr",
     "output_type": "stream",
     "text": [
      "/anaconda2/lib/python2.7/site-packages/ipykernel_launcher.py:2: DtypeWarning: Columns (76,87,143) have mixed types. Specify dtype option on import or set low_memory=False.\n",
      "  \n"
     ]
    },
    {
     "name": "stdout",
     "output_type": "stream",
     "text": [
      "97.34 percent done\n",
      "98.4 percent done\n"
     ]
    },
    {
     "name": "stderr",
     "output_type": "stream",
     "text": [
      "/anaconda2/lib/python2.7/site-packages/ipykernel_launcher.py:2: DtypeWarning: Columns (87,138,143,145) have mixed types. Specify dtype option on import or set low_memory=False.\n",
      "  \n"
     ]
    },
    {
     "name": "stdout",
     "output_type": "stream",
     "text": [
      "99.46 percent done\n"
     ]
    },
    {
     "name": "stderr",
     "output_type": "stream",
     "text": [
      "/anaconda2/lib/python2.7/site-packages/ipykernel_launcher.py:2: DtypeWarning: Columns (76,87,138,145) have mixed types. Specify dtype option on import or set low_memory=False.\n",
      "  \n"
     ]
    },
    {
     "name": "stdout",
     "output_type": "stream",
     "text": [
      "100.52 percent done\n",
      "performing big concat then returning\n"
     ]
    },
    {
     "name": "stderr",
     "output_type": "stream",
     "text": [
      "/anaconda2/lib/python2.7/site-packages/ipykernel_launcher.py:5: DtypeWarning: Columns (76,139,143,144,145,146,147,148) have mixed types. Specify dtype option on import or set low_memory=False.\n",
      "  \"\"\"\n"
     ]
    },
    {
     "name": "stdout",
     "output_type": "stream",
     "text": [
      "3.61 percent done\n"
     ]
    },
    {
     "name": "stderr",
     "output_type": "stream",
     "text": [
      "/anaconda2/lib/python2.7/site-packages/ipykernel_launcher.py:5: DtypeWarning: Columns (145) have mixed types. Specify dtype option on import or set low_memory=False.\n",
      "  \"\"\"\n"
     ]
    },
    {
     "name": "stdout",
     "output_type": "stream",
     "text": [
      "7.22 percent done\n"
     ]
    },
    {
     "name": "stderr",
     "output_type": "stream",
     "text": [
      "/anaconda2/lib/python2.7/site-packages/ipykernel_launcher.py:5: DtypeWarning: Columns (76,143,147) have mixed types. Specify dtype option on import or set low_memory=False.\n",
      "  \"\"\"\n"
     ]
    },
    {
     "name": "stdout",
     "output_type": "stream",
     "text": [
      "10.83 percent done\n"
     ]
    },
    {
     "name": "stderr",
     "output_type": "stream",
     "text": [
      "/anaconda2/lib/python2.7/site-packages/ipykernel_launcher.py:5: DtypeWarning: Columns (76,143,144,145) have mixed types. Specify dtype option on import or set low_memory=False.\n",
      "  \"\"\"\n"
     ]
    },
    {
     "name": "stdout",
     "output_type": "stream",
     "text": [
      "14.43 percent done\n"
     ]
    },
    {
     "name": "stderr",
     "output_type": "stream",
     "text": [
      "/anaconda2/lib/python2.7/site-packages/ipykernel_launcher.py:5: DtypeWarning: Columns (76,144) have mixed types. Specify dtype option on import or set low_memory=False.\n",
      "  \"\"\"\n"
     ]
    },
    {
     "name": "stdout",
     "output_type": "stream",
     "text": [
      "18.04 percent done\n"
     ]
    },
    {
     "name": "stderr",
     "output_type": "stream",
     "text": [
      "/anaconda2/lib/python2.7/site-packages/ipykernel_launcher.py:5: DtypeWarning: Columns (76,143,145,146,147,148) have mixed types. Specify dtype option on import or set low_memory=False.\n",
      "  \"\"\"\n"
     ]
    },
    {
     "name": "stdout",
     "output_type": "stream",
     "text": [
      "21.65 percent done\n"
     ]
    },
    {
     "name": "stderr",
     "output_type": "stream",
     "text": [
      "/anaconda2/lib/python2.7/site-packages/ipykernel_launcher.py:5: DtypeWarning: Columns (4,76,138,143,145,146,147,148) have mixed types. Specify dtype option on import or set low_memory=False.\n",
      "  \"\"\"\n"
     ]
    },
    {
     "name": "stdout",
     "output_type": "stream",
     "text": [
      "25.26 percent done\n"
     ]
    },
    {
     "name": "stderr",
     "output_type": "stream",
     "text": [
      "/anaconda2/lib/python2.7/site-packages/ipykernel_launcher.py:5: DtypeWarning: Columns (76,139,143,147) have mixed types. Specify dtype option on import or set low_memory=False.\n",
      "  \"\"\"\n"
     ]
    },
    {
     "name": "stdout",
     "output_type": "stream",
     "text": [
      "28.87 percent done\n"
     ]
    },
    {
     "name": "stderr",
     "output_type": "stream",
     "text": [
      "/anaconda2/lib/python2.7/site-packages/ipykernel_launcher.py:5: DtypeWarning: Columns (143,145) have mixed types. Specify dtype option on import or set low_memory=False.\n",
      "  \"\"\"\n"
     ]
    },
    {
     "name": "stdout",
     "output_type": "stream",
     "text": [
      "32.48 percent done\n"
     ]
    },
    {
     "name": "stderr",
     "output_type": "stream",
     "text": [
      "/anaconda2/lib/python2.7/site-packages/ipykernel_launcher.py:5: DtypeWarning: Columns (4,76,138,143,145,146,148) have mixed types. Specify dtype option on import or set low_memory=False.\n",
      "  \"\"\"\n"
     ]
    },
    {
     "name": "stdout",
     "output_type": "stream",
     "text": [
      "36.09 percent done\n"
     ]
    },
    {
     "name": "stderr",
     "output_type": "stream",
     "text": [
      "/anaconda2/lib/python2.7/site-packages/ipykernel_launcher.py:5: DtypeWarning: Columns (4,143,145,146,147,148) have mixed types. Specify dtype option on import or set low_memory=False.\n",
      "  \"\"\"\n"
     ]
    },
    {
     "name": "stdout",
     "output_type": "stream",
     "text": [
      "39.69 percent done\n"
     ]
    },
    {
     "name": "stderr",
     "output_type": "stream",
     "text": [
      "/anaconda2/lib/python2.7/site-packages/ipykernel_launcher.py:5: DtypeWarning: Columns (76) have mixed types. Specify dtype option on import or set low_memory=False.\n",
      "  \"\"\"\n"
     ]
    },
    {
     "name": "stdout",
     "output_type": "stream",
     "text": [
      "43.3 percent done\n",
      "46.91 percent done\n"
     ]
    },
    {
     "name": "stderr",
     "output_type": "stream",
     "text": [
      "/anaconda2/lib/python2.7/site-packages/ipykernel_launcher.py:5: DtypeWarning: Columns (4,76,138,139,140,143,145,146,147,148) have mixed types. Specify dtype option on import or set low_memory=False.\n",
      "  \"\"\"\n"
     ]
    },
    {
     "name": "stdout",
     "output_type": "stream",
     "text": [
      "50.52 percent done\n"
     ]
    },
    {
     "name": "stderr",
     "output_type": "stream",
     "text": [
      "/anaconda2/lib/python2.7/site-packages/ipykernel_launcher.py:5: DtypeWarning: Columns (138,143,145,147) have mixed types. Specify dtype option on import or set low_memory=False.\n",
      "  \"\"\"\n"
     ]
    },
    {
     "name": "stdout",
     "output_type": "stream",
     "text": [
      "54.13 percent done\n"
     ]
    },
    {
     "name": "stderr",
     "output_type": "stream",
     "text": [
      "/anaconda2/lib/python2.7/site-packages/ipykernel_launcher.py:5: DtypeWarning: Columns (4,76,143,146,147) have mixed types. Specify dtype option on import or set low_memory=False.\n",
      "  \"\"\"\n"
     ]
    },
    {
     "name": "stdout",
     "output_type": "stream",
     "text": [
      "57.74 percent done\n"
     ]
    },
    {
     "name": "stderr",
     "output_type": "stream",
     "text": [
      "/anaconda2/lib/python2.7/site-packages/ipykernel_launcher.py:5: DtypeWarning: Columns (4,87,143,145,147) have mixed types. Specify dtype option on import or set low_memory=False.\n",
      "  \"\"\"\n"
     ]
    },
    {
     "name": "stdout",
     "output_type": "stream",
     "text": [
      "61.35 percent done\n",
      "64.96 percent done\n"
     ]
    },
    {
     "name": "stderr",
     "output_type": "stream",
     "text": [
      "/anaconda2/lib/python2.7/site-packages/ipykernel_launcher.py:5: DtypeWarning: Columns (76,145,147) have mixed types. Specify dtype option on import or set low_memory=False.\n",
      "  \"\"\"\n"
     ]
    },
    {
     "name": "stdout",
     "output_type": "stream",
     "text": [
      "68.56 percent done\n"
     ]
    },
    {
     "name": "stderr",
     "output_type": "stream",
     "text": [
      "/anaconda2/lib/python2.7/site-packages/ipykernel_launcher.py:5: DtypeWarning: Columns (76,143) have mixed types. Specify dtype option on import or set low_memory=False.\n",
      "  \"\"\"\n"
     ]
    },
    {
     "name": "stdout",
     "output_type": "stream",
     "text": [
      "72.17 percent done\n"
     ]
    },
    {
     "name": "stderr",
     "output_type": "stream",
     "text": [
      "/anaconda2/lib/python2.7/site-packages/ipykernel_launcher.py:5: DtypeWarning: Columns (76,143,145,147) have mixed types. Specify dtype option on import or set low_memory=False.\n",
      "  \"\"\"\n"
     ]
    },
    {
     "name": "stdout",
     "output_type": "stream",
     "text": [
      "75.78 percent done\n"
     ]
    },
    {
     "name": "stderr",
     "output_type": "stream",
     "text": [
      "/anaconda2/lib/python2.7/site-packages/ipykernel_launcher.py:5: DtypeWarning: Columns (143) have mixed types. Specify dtype option on import or set low_memory=False.\n",
      "  \"\"\"\n"
     ]
    },
    {
     "name": "stdout",
     "output_type": "stream",
     "text": [
      "79.39 percent done\n",
      "83.0 percent done\n",
      "86.61 percent done\n"
     ]
    },
    {
     "name": "stderr",
     "output_type": "stream",
     "text": [
      "/anaconda2/lib/python2.7/site-packages/ipykernel_launcher.py:5: DtypeWarning: Columns (4,76,138,139,143,145,146,147,148) have mixed types. Specify dtype option on import or set low_memory=False.\n",
      "  \"\"\"\n"
     ]
    },
    {
     "name": "stdout",
     "output_type": "stream",
     "text": [
      "90.22 percent done\n"
     ]
    },
    {
     "name": "stderr",
     "output_type": "stream",
     "text": [
      "/anaconda2/lib/python2.7/site-packages/ipykernel_launcher.py:5: DtypeWarning: Columns (71,72,138,139,143,145,149) have mixed types. Specify dtype option on import or set low_memory=False.\n",
      "  \"\"\"\n"
     ]
    },
    {
     "name": "stdout",
     "output_type": "stream",
     "text": [
      "93.82 percent done\n"
     ]
    },
    {
     "name": "stderr",
     "output_type": "stream",
     "text": [
      "/anaconda2/lib/python2.7/site-packages/ipykernel_launcher.py:5: DtypeWarning: Columns (76,138) have mixed types. Specify dtype option on import or set low_memory=False.\n",
      "  \"\"\"\n"
     ]
    },
    {
     "name": "stdout",
     "output_type": "stream",
     "text": [
      "97.43 percent done\n"
     ]
    },
    {
     "name": "stderr",
     "output_type": "stream",
     "text": [
      "/anaconda2/lib/python2.7/site-packages/ipykernel_launcher.py:5: DtypeWarning: Columns (146) have mixed types. Specify dtype option on import or set low_memory=False.\n",
      "  \"\"\"\n"
     ]
    },
    {
     "name": "stdout",
     "output_type": "stream",
     "text": [
      "101.04 percent done\n",
      "performing big concat then returning\n"
     ]
    }
   ],
   "source": [
    "endoTCGASummary, endoOncMaf = get_gene_mutation_freqs_for_tcga(filePath = pathPrefix + '/ifs/res/taylorlab/jonssonp/msk_impact_gml_som/tcga/mutsig/UCEC.mc3.v0.2.8.PUBLIC.maf.2018-01-29.oncokb.vep.trinuc.maf',\n",
    "                                      nLines = 945103, sigFilePath = pathPrefix + '/ifs/res/taylorlab/jonssonp/msk_impact_gml_som/tcga/mutsig/UCEC.mc3.v0.2.8.PUBLIC.maf.2018-01-29.oncokb.vep.mutsig.txt')\n",
    "\n",
    "coloTCGASummary, coloOncMaf = get_gene_mutation_freqs_for_tcga(filePath = pathPrefix + '/ifs/res/taylorlab/jonssonp/msk_impact_gml_som/tcga/mutsig/COAD.mc3.v0.2.8.PUBLIC.maf.2018-01-29.oncokb.vep.trinuc.maf',\n",
    "                                      nLines = 277114, sigFilePath = pathPrefix + '/ifs/res/taylorlab/jonssonp/msk_impact_gml_som/tcga/mutsig/COAD.mc3.v0.2.8.PUBLIC.maf.2018-01-29.oncokb.vep.mutsig.txt')\n"
   ]
  },
  {
   "cell_type": "code",
   "execution_count": 23,
   "metadata": {},
   "outputs": [],
   "source": [
    "endometrialIds = analysis_utils.get_ids_by_hypermutant_status(hypermutantIdDir=pathPrefix +'/ifs/work/taylorlab/friedman/hypermutationAnalysisProj/projectDataAndConfigFiles/hypermutationStatusIds', cancerType='Endometrial Cancer', hypermutantStatus = 'all')\n",
    "endometrialHyperIds = analysis_utils.get_ids_by_hypermutant_status(hypermutantIdDir=pathPrefix +'/ifs/work/taylorlab/friedman/hypermutationAnalysisProj/projectDataAndConfigFiles/hypermutationStatusIds', cancerType='Endometrial Cancer', hypermutantStatus = 'Hypermutated')\n",
    "\n",
    "colorectalIds = analysis_utils.get_ids_by_hypermutant_status(hypermutantIdDir=pathPrefix +'/ifs/work/taylorlab/friedman/hypermutationAnalysisProj/projectDataAndConfigFiles/hypermutationStatusIds', cancerType='Colorectal Cancer', hypermutantStatus = 'all')\n",
    "colorectalHyperIds = analysis_utils.get_ids_by_hypermutant_status(hypermutantIdDir=pathPrefix +'/ifs/work/taylorlab/friedman/hypermutationAnalysisProj/projectDataAndConfigFiles/hypermutationStatusIds', cancerType='Colorectal Cancer', hypermutantStatus = 'Hypermutated')\n",
    "\n",
    "gliomaIds = analysis_utils.get_ids_by_hypermutant_status(hypermutantIdDir=pathPrefix +'/ifs/work/taylorlab/friedman/hypermutationAnalysisProj/projectDataAndConfigFiles/hypermutationStatusIds', cancerType='Glioma', hypermutantStatus = 'all')\n",
    "gliomaHyperIds = analysis_utils.get_ids_by_hypermutant_status(hypermutantIdDir=pathPrefix +'/ifs/work/taylorlab/friedman/hypermutationAnalysisProj/projectDataAndConfigFiles/hypermutationStatusIds', cancerType='Glioma', hypermutantStatus = 'Hypermutated')\n"
   ]
  },
  {
   "cell_type": "code",
   "execution_count": null,
   "metadata": {},
   "outputs": [],
   "source": [
    "allImpactMuts = analysis_utils.load_in_df_with_progress(filePath = pathPrefix + '/ifs/work/taylorlab/friedman/hypermutationAnalysisProj/projectDataAndConfigFiles/all_impact_mutations_annotated_cohort.maf', nLinesFile = 275000)"
   ]
  },
  {
   "cell_type": "code",
   "execution_count": 78,
   "metadata": {},
   "outputs": [],
   "source": [
    "allImpactMuts = maf_analysis_utils.fix_mll_genes(allImpactMuts)"
   ]
  },
  {
   "cell_type": "code",
   "execution_count": 79,
   "metadata": {},
   "outputs": [],
   "source": [
    "endometrialHypermutators = allImpactMuts[allImpactMuts['Tumor_Sample_Barcode'].isin(endometrialHyperIds)]\n",
    "colorectalHypermutators = allImpactMuts[allImpactMuts['Tumor_Sample_Barcode'].isin(colorectalHyperIds)]\n",
    "gliomaHypermutators = allImpactMuts[allImpactMuts['Tumor_Sample_Barcode'].isin(gliomaHyperIds)]"
   ]
  },
  {
   "cell_type": "code",
   "execution_count": 118,
   "metadata": {},
   "outputs": [],
   "source": [
    "summaryEndometrialImpact = summarize_muts_per_impact_gene(endometrialHypermutators)"
   ]
  },
  {
   "cell_type": "code",
   "execution_count": 98,
   "metadata": {},
   "outputs": [],
   "source": [
    "summaryColorectalImpact = summarize_muts_per_impact_gene(colorectalHypermutators)"
   ]
  },
  {
   "cell_type": "code",
   "execution_count": 123,
   "metadata": {},
   "outputs": [],
   "source": [
    "#dfColo = prepare_summary_comparisson_impact_v_exome(coloTCGASummary, summaryColorectalImpact)\n",
    "dfEndo = prepare_summary_comparisson_impact_v_exome(endoTCGASummary, summaryEndometrialImpact)"
   ]
  },
  {
   "cell_type": "code",
   "execution_count": 124,
   "metadata": {},
   "outputs": [],
   "source": [
    "dfColo.to_csv('/Users/friedman/Desktop/WORK/dataForLocalPlotting/tcgaVsImpactGenesMutated_colon.tsv', index=False, sep='\\t')\n",
    "dfEndo.to_csv('/Users/friedman/Desktop/WORK/dataForLocalPlotting/tcgaVsImpactGenesMutated_endo.tsv', index=False, sep='\\t')\n",
    "\n"
   ]
  },
  {
   "cell_type": "code",
   "execution_count": 130,
   "metadata": {},
   "outputs": [
    {
     "data": {
      "text/html": [
       "<div>\n",
       "<style scoped>\n",
       "    .dataframe tbody tr th:only-of-type {\n",
       "        vertical-align: middle;\n",
       "    }\n",
       "\n",
       "    .dataframe tbody tr th {\n",
       "        vertical-align: top;\n",
       "    }\n",
       "\n",
       "    .dataframe thead th {\n",
       "        text-align: right;\n",
       "    }\n",
       "</style>\n",
       "<table border=\"1\" class=\"dataframe\">\n",
       "  <thead>\n",
       "    <tr style=\"text-align: right;\">\n",
       "      <th></th>\n",
       "      <th>Hugo_Symbol</th>\n",
       "      <th>Entrez_Gene_Id</th>\n",
       "      <th>Center</th>\n",
       "      <th>NCBI_Build</th>\n",
       "      <th>Chromosome</th>\n",
       "      <th>Start_Position</th>\n",
       "      <th>End_Position</th>\n",
       "      <th>Strand</th>\n",
       "      <th>Variant_Classification</th>\n",
       "      <th>Variant_Type</th>\n",
       "      <th>...</th>\n",
       "      <th>oncogenic</th>\n",
       "      <th>LEVEL_1</th>\n",
       "      <th>LEVEL_2A</th>\n",
       "      <th>LEVEL_2B</th>\n",
       "      <th>LEVEL_3A</th>\n",
       "      <th>LEVEL_3B</th>\n",
       "      <th>LEVEL_4</th>\n",
       "      <th>LEVEL_R1</th>\n",
       "      <th>Highest_level</th>\n",
       "      <th>Ref_Tri</th>\n",
       "    </tr>\n",
       "  </thead>\n",
       "  <tbody>\n",
       "    <tr>\n",
       "      <th>766</th>\n",
       "      <td>APC</td>\n",
       "      <td>324</td>\n",
       "      <td>.</td>\n",
       "      <td>GRCh37</td>\n",
       "      <td>5</td>\n",
       "      <td>112173917</td>\n",
       "      <td>112173917</td>\n",
       "      <td>+</td>\n",
       "      <td>Nonsense_Mutation</td>\n",
       "      <td>SNP</td>\n",
       "      <td>...</td>\n",
       "      <td>Likely Oncogenic</td>\n",
       "      <td>NaN</td>\n",
       "      <td>NaN</td>\n",
       "      <td>NaN</td>\n",
       "      <td>NaN</td>\n",
       "      <td>NaN</td>\n",
       "      <td>NaN</td>\n",
       "      <td>NaN</td>\n",
       "      <td>NaN</td>\n",
       "      <td>GCG</td>\n",
       "    </tr>\n",
       "    <tr>\n",
       "      <th>767</th>\n",
       "      <td>KRAS</td>\n",
       "      <td>3845</td>\n",
       "      <td>.</td>\n",
       "      <td>GRCh37</td>\n",
       "      <td>12</td>\n",
       "      <td>25398284</td>\n",
       "      <td>25398284</td>\n",
       "      <td>+</td>\n",
       "      <td>Missense_Mutation</td>\n",
       "      <td>SNP</td>\n",
       "      <td>...</td>\n",
       "      <td>Oncogenic</td>\n",
       "      <td>NaN</td>\n",
       "      <td>NaN</td>\n",
       "      <td>NaN</td>\n",
       "      <td>NaN</td>\n",
       "      <td>NaN</td>\n",
       "      <td>LY3214996,GDC-0994,KO-947</td>\n",
       "      <td>Cetuximab,Panitumumab</td>\n",
       "      <td>LEVEL_4</td>\n",
       "      <td>ACC</td>\n",
       "    </tr>\n",
       "    <tr>\n",
       "      <th>1091</th>\n",
       "      <td>KMT2D</td>\n",
       "      <td>8085</td>\n",
       "      <td>.</td>\n",
       "      <td>GRCh37</td>\n",
       "      <td>12</td>\n",
       "      <td>49420871</td>\n",
       "      <td>49420871</td>\n",
       "      <td>+</td>\n",
       "      <td>Nonsense_Mutation</td>\n",
       "      <td>SNP</td>\n",
       "      <td>...</td>\n",
       "      <td>Likely Oncogenic</td>\n",
       "      <td>NaN</td>\n",
       "      <td>NaN</td>\n",
       "      <td>NaN</td>\n",
       "      <td>NaN</td>\n",
       "      <td>NaN</td>\n",
       "      <td>NaN</td>\n",
       "      <td>NaN</td>\n",
       "      <td>NaN</td>\n",
       "      <td>CCG</td>\n",
       "    </tr>\n",
       "    <tr>\n",
       "      <th>1420</th>\n",
       "      <td>CREBBP</td>\n",
       "      <td>1387</td>\n",
       "      <td>.</td>\n",
       "      <td>GRCh37</td>\n",
       "      <td>16</td>\n",
       "      <td>3778420</td>\n",
       "      <td>3778420</td>\n",
       "      <td>+</td>\n",
       "      <td>Nonsense_Mutation</td>\n",
       "      <td>SNP</td>\n",
       "      <td>...</td>\n",
       "      <td>Likely Oncogenic</td>\n",
       "      <td>NaN</td>\n",
       "      <td>NaN</td>\n",
       "      <td>NaN</td>\n",
       "      <td>NaN</td>\n",
       "      <td>NaN</td>\n",
       "      <td>NaN</td>\n",
       "      <td>NaN</td>\n",
       "      <td>NaN</td>\n",
       "      <td>GCA</td>\n",
       "    </tr>\n",
       "    <tr>\n",
       "      <th>1849</th>\n",
       "      <td>PTPRS</td>\n",
       "      <td>5802</td>\n",
       "      <td>.</td>\n",
       "      <td>GRCh37</td>\n",
       "      <td>19</td>\n",
       "      <td>5214592</td>\n",
       "      <td>5214592</td>\n",
       "      <td>+</td>\n",
       "      <td>Missense_Mutation</td>\n",
       "      <td>SNP</td>\n",
       "      <td>...</td>\n",
       "      <td>Predicted Oncogenic</td>\n",
       "      <td>NaN</td>\n",
       "      <td>NaN</td>\n",
       "      <td>NaN</td>\n",
       "      <td>NaN</td>\n",
       "      <td>NaN</td>\n",
       "      <td>NaN</td>\n",
       "      <td>NaN</td>\n",
       "      <td>NaN</td>\n",
       "      <td>GCG</td>\n",
       "    </tr>\n",
       "    <tr>\n",
       "      <th>2729</th>\n",
       "      <td>PIK3R1</td>\n",
       "      <td>5295</td>\n",
       "      <td>.</td>\n",
       "      <td>GRCh37</td>\n",
       "      <td>5</td>\n",
       "      <td>67591106</td>\n",
       "      <td>67591106</td>\n",
       "      <td>+</td>\n",
       "      <td>Missense_Mutation</td>\n",
       "      <td>SNP</td>\n",
       "      <td>...</td>\n",
       "      <td>Predicted Oncogenic</td>\n",
       "      <td>NaN</td>\n",
       "      <td>NaN</td>\n",
       "      <td>NaN</td>\n",
       "      <td>NaN</td>\n",
       "      <td>NaN</td>\n",
       "      <td>NaN</td>\n",
       "      <td>NaN</td>\n",
       "      <td>NaN</td>\n",
       "      <td>TTA</td>\n",
       "    </tr>\n",
       "    <tr>\n",
       "      <th>3266</th>\n",
       "      <td>RBM10</td>\n",
       "      <td>8241</td>\n",
       "      <td>.</td>\n",
       "      <td>GRCh37</td>\n",
       "      <td>X</td>\n",
       "      <td>47032551</td>\n",
       "      <td>47032551</td>\n",
       "      <td>+</td>\n",
       "      <td>Missense_Mutation</td>\n",
       "      <td>SNP</td>\n",
       "      <td>...</td>\n",
       "      <td>Predicted Oncogenic</td>\n",
       "      <td>NaN</td>\n",
       "      <td>NaN</td>\n",
       "      <td>NaN</td>\n",
       "      <td>NaN</td>\n",
       "      <td>NaN</td>\n",
       "      <td>NaN</td>\n",
       "      <td>NaN</td>\n",
       "      <td>NaN</td>\n",
       "      <td>CCG</td>\n",
       "    </tr>\n",
       "    <tr>\n",
       "      <th>6013</th>\n",
       "      <td>KMT2D</td>\n",
       "      <td>8085</td>\n",
       "      <td>.</td>\n",
       "      <td>GRCh37</td>\n",
       "      <td>12</td>\n",
       "      <td>49426631</td>\n",
       "      <td>49426631</td>\n",
       "      <td>+</td>\n",
       "      <td>Nonsense_Mutation</td>\n",
       "      <td>SNP</td>\n",
       "      <td>...</td>\n",
       "      <td>Likely Oncogenic</td>\n",
       "      <td>NaN</td>\n",
       "      <td>NaN</td>\n",
       "      <td>NaN</td>\n",
       "      <td>NaN</td>\n",
       "      <td>NaN</td>\n",
       "      <td>NaN</td>\n",
       "      <td>NaN</td>\n",
       "      <td>NaN</td>\n",
       "      <td>ACA</td>\n",
       "    </tr>\n",
       "    <tr>\n",
       "      <th>6378</th>\n",
       "      <td>CTCF</td>\n",
       "      <td>10664</td>\n",
       "      <td>.</td>\n",
       "      <td>GRCh37</td>\n",
       "      <td>16</td>\n",
       "      <td>67654642</td>\n",
       "      <td>67654642</td>\n",
       "      <td>+</td>\n",
       "      <td>Missense_Mutation</td>\n",
       "      <td>SNP</td>\n",
       "      <td>...</td>\n",
       "      <td>Likely Oncogenic</td>\n",
       "      <td>NaN</td>\n",
       "      <td>NaN</td>\n",
       "      <td>NaN</td>\n",
       "      <td>NaN</td>\n",
       "      <td>NaN</td>\n",
       "      <td>NaN</td>\n",
       "      <td>NaN</td>\n",
       "      <td>NaN</td>\n",
       "      <td>GCG</td>\n",
       "    </tr>\n",
       "    <tr>\n",
       "      <th>6420</th>\n",
       "      <td>NCOR1</td>\n",
       "      <td>9611</td>\n",
       "      <td>.</td>\n",
       "      <td>GRCh37</td>\n",
       "      <td>17</td>\n",
       "      <td>15968334</td>\n",
       "      <td>15968334</td>\n",
       "      <td>+</td>\n",
       "      <td>Splice_Site</td>\n",
       "      <td>SNP</td>\n",
       "      <td>...</td>\n",
       "      <td>Likely Oncogenic</td>\n",
       "      <td>NaN</td>\n",
       "      <td>NaN</td>\n",
       "      <td>NaN</td>\n",
       "      <td>NaN</td>\n",
       "      <td>NaN</td>\n",
       "      <td>NaN</td>\n",
       "      <td>NaN</td>\n",
       "      <td>NaN</td>\n",
       "      <td>CCT</td>\n",
       "    </tr>\n",
       "    <tr>\n",
       "      <th>6574</th>\n",
       "      <td>SMAD2</td>\n",
       "      <td>4087</td>\n",
       "      <td>.</td>\n",
       "      <td>GRCh37</td>\n",
       "      <td>18</td>\n",
       "      <td>45374882</td>\n",
       "      <td>45374882</td>\n",
       "      <td>+</td>\n",
       "      <td>Nonsense_Mutation</td>\n",
       "      <td>SNP</td>\n",
       "      <td>...</td>\n",
       "      <td>Likely Oncogenic</td>\n",
       "      <td>NaN</td>\n",
       "      <td>NaN</td>\n",
       "      <td>NaN</td>\n",
       "      <td>NaN</td>\n",
       "      <td>NaN</td>\n",
       "      <td>NaN</td>\n",
       "      <td>NaN</td>\n",
       "      <td>NaN</td>\n",
       "      <td>CCG</td>\n",
       "    </tr>\n",
       "    <tr>\n",
       "      <th>7547</th>\n",
       "      <td>FBXW7</td>\n",
       "      <td>55294</td>\n",
       "      <td>.</td>\n",
       "      <td>GRCh37</td>\n",
       "      <td>4</td>\n",
       "      <td>153244184</td>\n",
       "      <td>153244184</td>\n",
       "      <td>+</td>\n",
       "      <td>Missense_Mutation</td>\n",
       "      <td>SNP</td>\n",
       "      <td>...</td>\n",
       "      <td>Likely Oncogenic</td>\n",
       "      <td>NaN</td>\n",
       "      <td>NaN</td>\n",
       "      <td>NaN</td>\n",
       "      <td>NaN</td>\n",
       "      <td>NaN</td>\n",
       "      <td>NaN</td>\n",
       "      <td>NaN</td>\n",
       "      <td>NaN</td>\n",
       "      <td>TCG</td>\n",
       "    </tr>\n",
       "    <tr>\n",
       "      <th>7752</th>\n",
       "      <td>HLA-B</td>\n",
       "      <td>3106</td>\n",
       "      <td>.</td>\n",
       "      <td>GRCh37</td>\n",
       "      <td>6</td>\n",
       "      <td>31322882</td>\n",
       "      <td>31322882</td>\n",
       "      <td>+</td>\n",
       "      <td>Splice_Site</td>\n",
       "      <td>SNP</td>\n",
       "      <td>...</td>\n",
       "      <td>Likely Oncogenic</td>\n",
       "      <td>NaN</td>\n",
       "      <td>NaN</td>\n",
       "      <td>NaN</td>\n",
       "      <td>NaN</td>\n",
       "      <td>NaN</td>\n",
       "      <td>NaN</td>\n",
       "      <td>NaN</td>\n",
       "      <td>NaN</td>\n",
       "      <td>GTA</td>\n",
       "    </tr>\n",
       "    <tr>\n",
       "      <th>7829</th>\n",
       "      <td>BRAF</td>\n",
       "      <td>673</td>\n",
       "      <td>.</td>\n",
       "      <td>GRCh37</td>\n",
       "      <td>7</td>\n",
       "      <td>140453136</td>\n",
       "      <td>140453136</td>\n",
       "      <td>+</td>\n",
       "      <td>Missense_Mutation</td>\n",
       "      <td>SNP</td>\n",
       "      <td>...</td>\n",
       "      <td>Oncogenic</td>\n",
       "      <td>NaN</td>\n",
       "      <td>NaN</td>\n",
       "      <td>Vemurafenib+Cobimetinib,Dabrafenib,Vemurafenib...</td>\n",
       "      <td>NaN</td>\n",
       "      <td>NaN</td>\n",
       "      <td>KO-947,LTT462,BVD-523</td>\n",
       "      <td>NaN</td>\n",
       "      <td>LEVEL_2B</td>\n",
       "      <td>GTG</td>\n",
       "    </tr>\n",
       "    <tr>\n",
       "      <th>7894</th>\n",
       "      <td>PMS2</td>\n",
       "      <td>5395</td>\n",
       "      <td>.</td>\n",
       "      <td>GRCh37</td>\n",
       "      <td>7</td>\n",
       "      <td>6022454</td>\n",
       "      <td>6022454</td>\n",
       "      <td>+</td>\n",
       "      <td>Splice_Site</td>\n",
       "      <td>SNP</td>\n",
       "      <td>...</td>\n",
       "      <td>Likely Oncogenic</td>\n",
       "      <td>NaN</td>\n",
       "      <td>NaN</td>\n",
       "      <td>NaN</td>\n",
       "      <td>NaN</td>\n",
       "      <td>NaN</td>\n",
       "      <td>NaN</td>\n",
       "      <td>NaN</td>\n",
       "      <td>NaN</td>\n",
       "      <td>ACG</td>\n",
       "    </tr>\n",
       "    <tr>\n",
       "      <th>8208</th>\n",
       "      <td>KDM5C</td>\n",
       "      <td>8242</td>\n",
       "      <td>.</td>\n",
       "      <td>GRCh37</td>\n",
       "      <td>X</td>\n",
       "      <td>53226064</td>\n",
       "      <td>53226064</td>\n",
       "      <td>+</td>\n",
       "      <td>Nonsense_Mutation</td>\n",
       "      <td>SNP</td>\n",
       "      <td>...</td>\n",
       "      <td>Likely Oncogenic</td>\n",
       "      <td>NaN</td>\n",
       "      <td>NaN</td>\n",
       "      <td>NaN</td>\n",
       "      <td>NaN</td>\n",
       "      <td>NaN</td>\n",
       "      <td>NaN</td>\n",
       "      <td>NaN</td>\n",
       "      <td>NaN</td>\n",
       "      <td>GCG</td>\n",
       "    </tr>\n",
       "    <tr>\n",
       "      <th>8562</th>\n",
       "      <td>KMT2D</td>\n",
       "      <td>8085</td>\n",
       "      <td>.</td>\n",
       "      <td>GRCh37</td>\n",
       "      <td>12</td>\n",
       "      <td>49426631</td>\n",
       "      <td>49426631</td>\n",
       "      <td>+</td>\n",
       "      <td>Nonsense_Mutation</td>\n",
       "      <td>SNP</td>\n",
       "      <td>...</td>\n",
       "      <td>Likely Oncogenic</td>\n",
       "      <td>NaN</td>\n",
       "      <td>NaN</td>\n",
       "      <td>NaN</td>\n",
       "      <td>NaN</td>\n",
       "      <td>NaN</td>\n",
       "      <td>NaN</td>\n",
       "      <td>NaN</td>\n",
       "      <td>NaN</td>\n",
       "      <td>ACA</td>\n",
       "    </tr>\n",
       "    <tr>\n",
       "      <th>8913</th>\n",
       "      <td>CTCF</td>\n",
       "      <td>10664</td>\n",
       "      <td>.</td>\n",
       "      <td>GRCh37</td>\n",
       "      <td>16</td>\n",
       "      <td>67654642</td>\n",
       "      <td>67654642</td>\n",
       "      <td>+</td>\n",
       "      <td>Missense_Mutation</td>\n",
       "      <td>SNP</td>\n",
       "      <td>...</td>\n",
       "      <td>Likely Oncogenic</td>\n",
       "      <td>NaN</td>\n",
       "      <td>NaN</td>\n",
       "      <td>NaN</td>\n",
       "      <td>NaN</td>\n",
       "      <td>NaN</td>\n",
       "      <td>NaN</td>\n",
       "      <td>NaN</td>\n",
       "      <td>NaN</td>\n",
       "      <td>GCG</td>\n",
       "    </tr>\n",
       "    <tr>\n",
       "      <th>8954</th>\n",
       "      <td>NCOR1</td>\n",
       "      <td>9611</td>\n",
       "      <td>.</td>\n",
       "      <td>GRCh37</td>\n",
       "      <td>17</td>\n",
       "      <td>15968334</td>\n",
       "      <td>15968334</td>\n",
       "      <td>+</td>\n",
       "      <td>Splice_Site</td>\n",
       "      <td>SNP</td>\n",
       "      <td>...</td>\n",
       "      <td>Likely Oncogenic</td>\n",
       "      <td>NaN</td>\n",
       "      <td>NaN</td>\n",
       "      <td>NaN</td>\n",
       "      <td>NaN</td>\n",
       "      <td>NaN</td>\n",
       "      <td>NaN</td>\n",
       "      <td>NaN</td>\n",
       "      <td>NaN</td>\n",
       "      <td>CCT</td>\n",
       "    </tr>\n",
       "    <tr>\n",
       "      <th>9100</th>\n",
       "      <td>SMAD2</td>\n",
       "      <td>4087</td>\n",
       "      <td>.</td>\n",
       "      <td>GRCh37</td>\n",
       "      <td>18</td>\n",
       "      <td>45374882</td>\n",
       "      <td>45374882</td>\n",
       "      <td>+</td>\n",
       "      <td>Nonsense_Mutation</td>\n",
       "      <td>SNP</td>\n",
       "      <td>...</td>\n",
       "      <td>Likely Oncogenic</td>\n",
       "      <td>NaN</td>\n",
       "      <td>NaN</td>\n",
       "      <td>NaN</td>\n",
       "      <td>NaN</td>\n",
       "      <td>NaN</td>\n",
       "      <td>NaN</td>\n",
       "      <td>NaN</td>\n",
       "      <td>NaN</td>\n",
       "      <td>CCG</td>\n",
       "    </tr>\n",
       "    <tr>\n",
       "      <th>10048</th>\n",
       "      <td>FBXW7</td>\n",
       "      <td>55294</td>\n",
       "      <td>.</td>\n",
       "      <td>GRCh37</td>\n",
       "      <td>4</td>\n",
       "      <td>153244184</td>\n",
       "      <td>153244184</td>\n",
       "      <td>+</td>\n",
       "      <td>Missense_Mutation</td>\n",
       "      <td>SNP</td>\n",
       "      <td>...</td>\n",
       "      <td>Likely Oncogenic</td>\n",
       "      <td>NaN</td>\n",
       "      <td>NaN</td>\n",
       "      <td>NaN</td>\n",
       "      <td>NaN</td>\n",
       "      <td>NaN</td>\n",
       "      <td>NaN</td>\n",
       "      <td>NaN</td>\n",
       "      <td>NaN</td>\n",
       "      <td>TCG</td>\n",
       "    </tr>\n",
       "    <tr>\n",
       "      <th>10249</th>\n",
       "      <td>HLA-B</td>\n",
       "      <td>3106</td>\n",
       "      <td>.</td>\n",
       "      <td>GRCh37</td>\n",
       "      <td>6</td>\n",
       "      <td>31322882</td>\n",
       "      <td>31322882</td>\n",
       "      <td>+</td>\n",
       "      <td>Splice_Site</td>\n",
       "      <td>SNP</td>\n",
       "      <td>...</td>\n",
       "      <td>Likely Oncogenic</td>\n",
       "      <td>NaN</td>\n",
       "      <td>NaN</td>\n",
       "      <td>NaN</td>\n",
       "      <td>NaN</td>\n",
       "      <td>NaN</td>\n",
       "      <td>NaN</td>\n",
       "      <td>NaN</td>\n",
       "      <td>NaN</td>\n",
       "      <td>GTA</td>\n",
       "    </tr>\n",
       "    <tr>\n",
       "      <th>10324</th>\n",
       "      <td>BRAF</td>\n",
       "      <td>673</td>\n",
       "      <td>.</td>\n",
       "      <td>GRCh37</td>\n",
       "      <td>7</td>\n",
       "      <td>140453136</td>\n",
       "      <td>140453136</td>\n",
       "      <td>+</td>\n",
       "      <td>Missense_Mutation</td>\n",
       "      <td>SNP</td>\n",
       "      <td>...</td>\n",
       "      <td>Oncogenic</td>\n",
       "      <td>NaN</td>\n",
       "      <td>NaN</td>\n",
       "      <td>Vemurafenib+Cobimetinib,Dabrafenib,Vemurafenib...</td>\n",
       "      <td>NaN</td>\n",
       "      <td>NaN</td>\n",
       "      <td>KO-947,LTT462,BVD-523</td>\n",
       "      <td>NaN</td>\n",
       "      <td>LEVEL_2B</td>\n",
       "      <td>GTG</td>\n",
       "    </tr>\n",
       "    <tr>\n",
       "      <th>10387</th>\n",
       "      <td>PMS2</td>\n",
       "      <td>5395</td>\n",
       "      <td>.</td>\n",
       "      <td>GRCh37</td>\n",
       "      <td>7</td>\n",
       "      <td>6022454</td>\n",
       "      <td>6022454</td>\n",
       "      <td>+</td>\n",
       "      <td>Splice_Site</td>\n",
       "      <td>SNP</td>\n",
       "      <td>...</td>\n",
       "      <td>Likely Oncogenic</td>\n",
       "      <td>NaN</td>\n",
       "      <td>NaN</td>\n",
       "      <td>NaN</td>\n",
       "      <td>NaN</td>\n",
       "      <td>NaN</td>\n",
       "      <td>NaN</td>\n",
       "      <td>NaN</td>\n",
       "      <td>NaN</td>\n",
       "      <td>ACG</td>\n",
       "    </tr>\n",
       "    <tr>\n",
       "      <th>10689</th>\n",
       "      <td>KDM5C</td>\n",
       "      <td>8242</td>\n",
       "      <td>.</td>\n",
       "      <td>GRCh37</td>\n",
       "      <td>X</td>\n",
       "      <td>53226064</td>\n",
       "      <td>53226064</td>\n",
       "      <td>+</td>\n",
       "      <td>Nonsense_Mutation</td>\n",
       "      <td>SNP</td>\n",
       "      <td>...</td>\n",
       "      <td>Likely Oncogenic</td>\n",
       "      <td>NaN</td>\n",
       "      <td>NaN</td>\n",
       "      <td>NaN</td>\n",
       "      <td>NaN</td>\n",
       "      <td>NaN</td>\n",
       "      <td>NaN</td>\n",
       "      <td>NaN</td>\n",
       "      <td>NaN</td>\n",
       "      <td>GCG</td>\n",
       "    </tr>\n",
       "    <tr>\n",
       "      <th>11088</th>\n",
       "      <td>BRAF</td>\n",
       "      <td>673</td>\n",
       "      <td>.</td>\n",
       "      <td>GRCh37</td>\n",
       "      <td>7</td>\n",
       "      <td>140453136</td>\n",
       "      <td>140453136</td>\n",
       "      <td>+</td>\n",
       "      <td>Missense_Mutation</td>\n",
       "      <td>SNP</td>\n",
       "      <td>...</td>\n",
       "      <td>Oncogenic</td>\n",
       "      <td>NaN</td>\n",
       "      <td>NaN</td>\n",
       "      <td>Vemurafenib+Cobimetinib,Dabrafenib,Vemurafenib...</td>\n",
       "      <td>NaN</td>\n",
       "      <td>NaN</td>\n",
       "      <td>KO-947,LTT462,BVD-523</td>\n",
       "      <td>NaN</td>\n",
       "      <td>LEVEL_2B</td>\n",
       "      <td>GTG</td>\n",
       "    </tr>\n",
       "    <tr>\n",
       "      <th>11090</th>\n",
       "      <td>FBXW7</td>\n",
       "      <td>55294</td>\n",
       "      <td>.</td>\n",
       "      <td>GRCh37</td>\n",
       "      <td>4</td>\n",
       "      <td>153247289</td>\n",
       "      <td>153247289</td>\n",
       "      <td>+</td>\n",
       "      <td>Missense_Mutation</td>\n",
       "      <td>SNP</td>\n",
       "      <td>...</td>\n",
       "      <td>Oncogenic</td>\n",
       "      <td>NaN</td>\n",
       "      <td>NaN</td>\n",
       "      <td>NaN</td>\n",
       "      <td>NaN</td>\n",
       "      <td>NaN</td>\n",
       "      <td>NaN</td>\n",
       "      <td>NaN</td>\n",
       "      <td>NaN</td>\n",
       "      <td>CCG</td>\n",
       "    </tr>\n",
       "    <tr>\n",
       "      <th>11255</th>\n",
       "      <td>KMT2D</td>\n",
       "      <td>8085</td>\n",
       "      <td>.</td>\n",
       "      <td>GRCh37</td>\n",
       "      <td>12</td>\n",
       "      <td>49438647</td>\n",
       "      <td>49438647</td>\n",
       "      <td>+</td>\n",
       "      <td>Nonsense_Mutation</td>\n",
       "      <td>SNP</td>\n",
       "      <td>...</td>\n",
       "      <td>Likely Oncogenic</td>\n",
       "      <td>NaN</td>\n",
       "      <td>NaN</td>\n",
       "      <td>NaN</td>\n",
       "      <td>NaN</td>\n",
       "      <td>NaN</td>\n",
       "      <td>NaN</td>\n",
       "      <td>NaN</td>\n",
       "      <td>NaN</td>\n",
       "      <td>GCG</td>\n",
       "    </tr>\n",
       "    <tr>\n",
       "      <th>11365</th>\n",
       "      <td>B2M</td>\n",
       "      <td>567</td>\n",
       "      <td>.</td>\n",
       "      <td>GRCh37</td>\n",
       "      <td>15</td>\n",
       "      <td>45003812</td>\n",
       "      <td>45003812</td>\n",
       "      <td>+</td>\n",
       "      <td>Splice_Site</td>\n",
       "      <td>SNP</td>\n",
       "      <td>...</td>\n",
       "      <td>Likely Oncogenic</td>\n",
       "      <td>NaN</td>\n",
       "      <td>NaN</td>\n",
       "      <td>NaN</td>\n",
       "      <td>NaN</td>\n",
       "      <td>NaN</td>\n",
       "      <td>NaN</td>\n",
       "      <td>NaN</td>\n",
       "      <td>NaN</td>\n",
       "      <td>ACG</td>\n",
       "    </tr>\n",
       "    <tr>\n",
       "      <th>12329</th>\n",
       "      <td>SMO</td>\n",
       "      <td>6608</td>\n",
       "      <td>.</td>\n",
       "      <td>GRCh37</td>\n",
       "      <td>7</td>\n",
       "      <td>128849147</td>\n",
       "      <td>128849147</td>\n",
       "      <td>+</td>\n",
       "      <td>Missense_Mutation</td>\n",
       "      <td>SNP</td>\n",
       "      <td>...</td>\n",
       "      <td>Likely Oncogenic</td>\n",
       "      <td>NaN</td>\n",
       "      <td>NaN</td>\n",
       "      <td>NaN</td>\n",
       "      <td>NaN</td>\n",
       "      <td>NaN</td>\n",
       "      <td>NaN</td>\n",
       "      <td>NaN</td>\n",
       "      <td>NaN</td>\n",
       "      <td>GCC</td>\n",
       "    </tr>\n",
       "    <tr>\n",
       "      <th>...</th>\n",
       "      <td>...</td>\n",
       "      <td>...</td>\n",
       "      <td>...</td>\n",
       "      <td>...</td>\n",
       "      <td>...</td>\n",
       "      <td>...</td>\n",
       "      <td>...</td>\n",
       "      <td>...</td>\n",
       "      <td>...</td>\n",
       "      <td>...</td>\n",
       "      <td>...</td>\n",
       "      <td>...</td>\n",
       "      <td>...</td>\n",
       "      <td>...</td>\n",
       "      <td>...</td>\n",
       "      <td>...</td>\n",
       "      <td>...</td>\n",
       "      <td>...</td>\n",
       "      <td>...</td>\n",
       "      <td>...</td>\n",
       "      <td>...</td>\n",
       "    </tr>\n",
       "    <tr>\n",
       "      <th>275396</th>\n",
       "      <td>RNF43</td>\n",
       "      <td>54894</td>\n",
       "      <td>.</td>\n",
       "      <td>GRCh37</td>\n",
       "      <td>17</td>\n",
       "      <td>56435161</td>\n",
       "      <td>56435161</td>\n",
       "      <td>+</td>\n",
       "      <td>Frame_Shift_Del</td>\n",
       "      <td>DEL</td>\n",
       "      <td>...</td>\n",
       "      <td>Likely Oncogenic</td>\n",
       "      <td>NaN</td>\n",
       "      <td>NaN</td>\n",
       "      <td>NaN</td>\n",
       "      <td>NaN</td>\n",
       "      <td>NaN</td>\n",
       "      <td>NaN</td>\n",
       "      <td>NaN</td>\n",
       "      <td>NaN</td>\n",
       "      <td>NaN</td>\n",
       "    </tr>\n",
       "    <tr>\n",
       "      <th>275397</th>\n",
       "      <td>AXIN2</td>\n",
       "      <td>8313</td>\n",
       "      <td>.</td>\n",
       "      <td>GRCh37</td>\n",
       "      <td>17</td>\n",
       "      <td>63532585</td>\n",
       "      <td>63532585</td>\n",
       "      <td>+</td>\n",
       "      <td>Frame_Shift_Del</td>\n",
       "      <td>DEL</td>\n",
       "      <td>...</td>\n",
       "      <td>Likely Oncogenic</td>\n",
       "      <td>NaN</td>\n",
       "      <td>NaN</td>\n",
       "      <td>NaN</td>\n",
       "      <td>NaN</td>\n",
       "      <td>NaN</td>\n",
       "      <td>NaN</td>\n",
       "      <td>NaN</td>\n",
       "      <td>NaN</td>\n",
       "      <td>NaN</td>\n",
       "    </tr>\n",
       "    <tr>\n",
       "      <th>275419</th>\n",
       "      <td>ASXL1</td>\n",
       "      <td>171023</td>\n",
       "      <td>.</td>\n",
       "      <td>GRCh37</td>\n",
       "      <td>20</td>\n",
       "      <td>31022442</td>\n",
       "      <td>31022442</td>\n",
       "      <td>+</td>\n",
       "      <td>Frame_Shift_Del</td>\n",
       "      <td>DEL</td>\n",
       "      <td>...</td>\n",
       "      <td>Likely Oncogenic</td>\n",
       "      <td>NaN</td>\n",
       "      <td>NaN</td>\n",
       "      <td>NaN</td>\n",
       "      <td>NaN</td>\n",
       "      <td>NaN</td>\n",
       "      <td>NaN</td>\n",
       "      <td>NaN</td>\n",
       "      <td>NaN</td>\n",
       "      <td>NaN</td>\n",
       "    </tr>\n",
       "    <tr>\n",
       "      <th>275449</th>\n",
       "      <td>JAK1</td>\n",
       "      <td>3716</td>\n",
       "      <td>.</td>\n",
       "      <td>GRCh37</td>\n",
       "      <td>1</td>\n",
       "      <td>65330630</td>\n",
       "      <td>65330630</td>\n",
       "      <td>+</td>\n",
       "      <td>Frame_Shift_Del</td>\n",
       "      <td>DEL</td>\n",
       "      <td>...</td>\n",
       "      <td>Likely Oncogenic</td>\n",
       "      <td>NaN</td>\n",
       "      <td>NaN</td>\n",
       "      <td>NaN</td>\n",
       "      <td>NaN</td>\n",
       "      <td>NaN</td>\n",
       "      <td>NaN</td>\n",
       "      <td>NaN</td>\n",
       "      <td>NaN</td>\n",
       "      <td>NaN</td>\n",
       "    </tr>\n",
       "    <tr>\n",
       "      <th>275543</th>\n",
       "      <td>HNF1A</td>\n",
       "      <td>6927</td>\n",
       "      <td>.</td>\n",
       "      <td>GRCh37</td>\n",
       "      <td>12</td>\n",
       "      <td>121432115</td>\n",
       "      <td>121432115</td>\n",
       "      <td>+</td>\n",
       "      <td>Frame_Shift_Del</td>\n",
       "      <td>DEL</td>\n",
       "      <td>...</td>\n",
       "      <td>Likely Oncogenic</td>\n",
       "      <td>NaN</td>\n",
       "      <td>NaN</td>\n",
       "      <td>NaN</td>\n",
       "      <td>NaN</td>\n",
       "      <td>NaN</td>\n",
       "      <td>NaN</td>\n",
       "      <td>NaN</td>\n",
       "      <td>NaN</td>\n",
       "      <td>NaN</td>\n",
       "    </tr>\n",
       "    <tr>\n",
       "      <th>275589</th>\n",
       "      <td>TCF7L2</td>\n",
       "      <td>6934</td>\n",
       "      <td>.</td>\n",
       "      <td>GRCh37</td>\n",
       "      <td>10</td>\n",
       "      <td>114911500</td>\n",
       "      <td>114911500</td>\n",
       "      <td>+</td>\n",
       "      <td>Frame_Shift_Del</td>\n",
       "      <td>DEL</td>\n",
       "      <td>...</td>\n",
       "      <td>Likely Oncogenic</td>\n",
       "      <td>NaN</td>\n",
       "      <td>NaN</td>\n",
       "      <td>NaN</td>\n",
       "      <td>NaN</td>\n",
       "      <td>NaN</td>\n",
       "      <td>NaN</td>\n",
       "      <td>NaN</td>\n",
       "      <td>NaN</td>\n",
       "      <td>NaN</td>\n",
       "    </tr>\n",
       "    <tr>\n",
       "      <th>275655</th>\n",
       "      <td>KMT2D</td>\n",
       "      <td>8085</td>\n",
       "      <td>.</td>\n",
       "      <td>GRCh37</td>\n",
       "      <td>12</td>\n",
       "      <td>49444378</td>\n",
       "      <td>49444378</td>\n",
       "      <td>+</td>\n",
       "      <td>Frame_Shift_Del</td>\n",
       "      <td>DEL</td>\n",
       "      <td>...</td>\n",
       "      <td>Likely Oncogenic</td>\n",
       "      <td>NaN</td>\n",
       "      <td>NaN</td>\n",
       "      <td>NaN</td>\n",
       "      <td>NaN</td>\n",
       "      <td>NaN</td>\n",
       "      <td>NaN</td>\n",
       "      <td>NaN</td>\n",
       "      <td>NaN</td>\n",
       "      <td>NaN</td>\n",
       "    </tr>\n",
       "    <tr>\n",
       "      <th>275734</th>\n",
       "      <td>CREBBP</td>\n",
       "      <td>1387</td>\n",
       "      <td>.</td>\n",
       "      <td>GRCh37</td>\n",
       "      <td>16</td>\n",
       "      <td>3819310</td>\n",
       "      <td>3819310</td>\n",
       "      <td>+</td>\n",
       "      <td>Frame_Shift_Del</td>\n",
       "      <td>DEL</td>\n",
       "      <td>...</td>\n",
       "      <td>Likely Oncogenic</td>\n",
       "      <td>NaN</td>\n",
       "      <td>NaN</td>\n",
       "      <td>NaN</td>\n",
       "      <td>NaN</td>\n",
       "      <td>NaN</td>\n",
       "      <td>NaN</td>\n",
       "      <td>NaN</td>\n",
       "      <td>NaN</td>\n",
       "      <td>NaN</td>\n",
       "    </tr>\n",
       "    <tr>\n",
       "      <th>275808</th>\n",
       "      <td>KMT2B</td>\n",
       "      <td>9757</td>\n",
       "      <td>.</td>\n",
       "      <td>GRCh37</td>\n",
       "      <td>19</td>\n",
       "      <td>36223175</td>\n",
       "      <td>36223175</td>\n",
       "      <td>+</td>\n",
       "      <td>Frame_Shift_Del</td>\n",
       "      <td>DEL</td>\n",
       "      <td>...</td>\n",
       "      <td>Inconclusive</td>\n",
       "      <td>NaN</td>\n",
       "      <td>NaN</td>\n",
       "      <td>NaN</td>\n",
       "      <td>NaN</td>\n",
       "      <td>NaN</td>\n",
       "      <td>NaN</td>\n",
       "      <td>NaN</td>\n",
       "      <td>NaN</td>\n",
       "      <td>NaN</td>\n",
       "    </tr>\n",
       "    <tr>\n",
       "      <th>275892</th>\n",
       "      <td>ARID1A</td>\n",
       "      <td>8289</td>\n",
       "      <td>.</td>\n",
       "      <td>GRCh37</td>\n",
       "      <td>1</td>\n",
       "      <td>27106727</td>\n",
       "      <td>27106727</td>\n",
       "      <td>+</td>\n",
       "      <td>Frame_Shift_Del</td>\n",
       "      <td>DEL</td>\n",
       "      <td>...</td>\n",
       "      <td>Likely Oncogenic</td>\n",
       "      <td>NaN</td>\n",
       "      <td>NaN</td>\n",
       "      <td>NaN</td>\n",
       "      <td>NaN</td>\n",
       "      <td>NaN</td>\n",
       "      <td>NaN</td>\n",
       "      <td>NaN</td>\n",
       "      <td>NaN</td>\n",
       "      <td>NaN</td>\n",
       "    </tr>\n",
       "    <tr>\n",
       "      <th>275965</th>\n",
       "      <td>MSH6</td>\n",
       "      <td>2956</td>\n",
       "      <td>.</td>\n",
       "      <td>GRCh37</td>\n",
       "      <td>2</td>\n",
       "      <td>48025856</td>\n",
       "      <td>48025857</td>\n",
       "      <td>+</td>\n",
       "      <td>Frame_Shift_Ins</td>\n",
       "      <td>INS</td>\n",
       "      <td>...</td>\n",
       "      <td>Likely Oncogenic</td>\n",
       "      <td>NaN</td>\n",
       "      <td>NaN</td>\n",
       "      <td>NaN</td>\n",
       "      <td>NaN</td>\n",
       "      <td>NaN</td>\n",
       "      <td>NaN</td>\n",
       "      <td>NaN</td>\n",
       "      <td>NaN</td>\n",
       "      <td>NaN</td>\n",
       "    </tr>\n",
       "    <tr>\n",
       "      <th>276066</th>\n",
       "      <td>ARID1B</td>\n",
       "      <td>57492</td>\n",
       "      <td>.</td>\n",
       "      <td>GRCh37</td>\n",
       "      <td>6</td>\n",
       "      <td>157522190</td>\n",
       "      <td>157522190</td>\n",
       "      <td>+</td>\n",
       "      <td>Frame_Shift_Del</td>\n",
       "      <td>DEL</td>\n",
       "      <td>...</td>\n",
       "      <td>Likely Oncogenic</td>\n",
       "      <td>NaN</td>\n",
       "      <td>NaN</td>\n",
       "      <td>NaN</td>\n",
       "      <td>NaN</td>\n",
       "      <td>NaN</td>\n",
       "      <td>NaN</td>\n",
       "      <td>NaN</td>\n",
       "      <td>NaN</td>\n",
       "      <td>NaN</td>\n",
       "    </tr>\n",
       "    <tr>\n",
       "      <th>276074</th>\n",
       "      <td>HLA-B</td>\n",
       "      <td>3106</td>\n",
       "      <td>.</td>\n",
       "      <td>GRCh37</td>\n",
       "      <td>6</td>\n",
       "      <td>31323346</td>\n",
       "      <td>31323346</td>\n",
       "      <td>+</td>\n",
       "      <td>Frame_Shift_Del</td>\n",
       "      <td>DEL</td>\n",
       "      <td>...</td>\n",
       "      <td>Likely Oncogenic</td>\n",
       "      <td>NaN</td>\n",
       "      <td>NaN</td>\n",
       "      <td>NaN</td>\n",
       "      <td>NaN</td>\n",
       "      <td>NaN</td>\n",
       "      <td>NaN</td>\n",
       "      <td>NaN</td>\n",
       "      <td>NaN</td>\n",
       "      <td>NaN</td>\n",
       "    </tr>\n",
       "    <tr>\n",
       "      <th>276101</th>\n",
       "      <td>KMT2C</td>\n",
       "      <td>58508</td>\n",
       "      <td>.</td>\n",
       "      <td>GRCh37</td>\n",
       "      <td>7</td>\n",
       "      <td>151919093</td>\n",
       "      <td>151919094</td>\n",
       "      <td>+</td>\n",
       "      <td>Frame_Shift_Del</td>\n",
       "      <td>DEL</td>\n",
       "      <td>...</td>\n",
       "      <td>Likely Oncogenic</td>\n",
       "      <td>NaN</td>\n",
       "      <td>NaN</td>\n",
       "      <td>NaN</td>\n",
       "      <td>NaN</td>\n",
       "      <td>NaN</td>\n",
       "      <td>NaN</td>\n",
       "      <td>NaN</td>\n",
       "      <td>NaN</td>\n",
       "      <td>NaN</td>\n",
       "    </tr>\n",
       "    <tr>\n",
       "      <th>276323</th>\n",
       "      <td>PTCH1</td>\n",
       "      <td>5727</td>\n",
       "      <td>.</td>\n",
       "      <td>GRCh37</td>\n",
       "      <td>9</td>\n",
       "      <td>98211549</td>\n",
       "      <td>98211549</td>\n",
       "      <td>+</td>\n",
       "      <td>Frame_Shift_Del</td>\n",
       "      <td>DEL</td>\n",
       "      <td>...</td>\n",
       "      <td>Likely Oncogenic</td>\n",
       "      <td>NaN</td>\n",
       "      <td>NaN</td>\n",
       "      <td>NaN</td>\n",
       "      <td>NaN</td>\n",
       "      <td>Sonidegib,Vismodegib</td>\n",
       "      <td>NaN</td>\n",
       "      <td>NaN</td>\n",
       "      <td>LEVEL_3B</td>\n",
       "      <td>NaN</td>\n",
       "    </tr>\n",
       "    <tr>\n",
       "      <th>276474</th>\n",
       "      <td>RAD50</td>\n",
       "      <td>10111</td>\n",
       "      <td>.</td>\n",
       "      <td>GRCh37</td>\n",
       "      <td>5</td>\n",
       "      <td>131944382</td>\n",
       "      <td>131944382</td>\n",
       "      <td>+</td>\n",
       "      <td>Frame_Shift_Del</td>\n",
       "      <td>DEL</td>\n",
       "      <td>...</td>\n",
       "      <td>Likely Oncogenic</td>\n",
       "      <td>NaN</td>\n",
       "      <td>NaN</td>\n",
       "      <td>NaN</td>\n",
       "      <td>NaN</td>\n",
       "      <td>NaN</td>\n",
       "      <td>NaN</td>\n",
       "      <td>NaN</td>\n",
       "      <td>NaN</td>\n",
       "      <td>NaN</td>\n",
       "    </tr>\n",
       "    <tr>\n",
       "      <th>276556</th>\n",
       "      <td>RNF43</td>\n",
       "      <td>54894</td>\n",
       "      <td>.</td>\n",
       "      <td>GRCh37</td>\n",
       "      <td>17</td>\n",
       "      <td>56435161</td>\n",
       "      <td>56435161</td>\n",
       "      <td>+</td>\n",
       "      <td>Frame_Shift_Del</td>\n",
       "      <td>DEL</td>\n",
       "      <td>...</td>\n",
       "      <td>Likely Oncogenic</td>\n",
       "      <td>NaN</td>\n",
       "      <td>NaN</td>\n",
       "      <td>NaN</td>\n",
       "      <td>NaN</td>\n",
       "      <td>NaN</td>\n",
       "      <td>NaN</td>\n",
       "      <td>NaN</td>\n",
       "      <td>NaN</td>\n",
       "      <td>NaN</td>\n",
       "    </tr>\n",
       "    <tr>\n",
       "      <th>276564</th>\n",
       "      <td>KMT2D</td>\n",
       "      <td>8085</td>\n",
       "      <td>.</td>\n",
       "      <td>GRCh37</td>\n",
       "      <td>12</td>\n",
       "      <td>49434492</td>\n",
       "      <td>49434492</td>\n",
       "      <td>+</td>\n",
       "      <td>Frame_Shift_Del</td>\n",
       "      <td>DEL</td>\n",
       "      <td>...</td>\n",
       "      <td>Likely Oncogenic</td>\n",
       "      <td>NaN</td>\n",
       "      <td>NaN</td>\n",
       "      <td>NaN</td>\n",
       "      <td>NaN</td>\n",
       "      <td>NaN</td>\n",
       "      <td>NaN</td>\n",
       "      <td>NaN</td>\n",
       "      <td>NaN</td>\n",
       "      <td>NaN</td>\n",
       "    </tr>\n",
       "    <tr>\n",
       "      <th>276574</th>\n",
       "      <td>CREBBP</td>\n",
       "      <td>1387</td>\n",
       "      <td>.</td>\n",
       "      <td>GRCh37</td>\n",
       "      <td>16</td>\n",
       "      <td>3817721</td>\n",
       "      <td>3817721</td>\n",
       "      <td>+</td>\n",
       "      <td>Frame_Shift_Del</td>\n",
       "      <td>DEL</td>\n",
       "      <td>...</td>\n",
       "      <td>Likely Oncogenic</td>\n",
       "      <td>NaN</td>\n",
       "      <td>NaN</td>\n",
       "      <td>NaN</td>\n",
       "      <td>NaN</td>\n",
       "      <td>NaN</td>\n",
       "      <td>NaN</td>\n",
       "      <td>NaN</td>\n",
       "      <td>NaN</td>\n",
       "      <td>NaN</td>\n",
       "    </tr>\n",
       "    <tr>\n",
       "      <th>276575</th>\n",
       "      <td>ASXL1</td>\n",
       "      <td>171023</td>\n",
       "      <td>.</td>\n",
       "      <td>GRCh37</td>\n",
       "      <td>20</td>\n",
       "      <td>31022442</td>\n",
       "      <td>31022442</td>\n",
       "      <td>+</td>\n",
       "      <td>Frame_Shift_Del</td>\n",
       "      <td>DEL</td>\n",
       "      <td>...</td>\n",
       "      <td>Likely Oncogenic</td>\n",
       "      <td>NaN</td>\n",
       "      <td>NaN</td>\n",
       "      <td>NaN</td>\n",
       "      <td>NaN</td>\n",
       "      <td>NaN</td>\n",
       "      <td>NaN</td>\n",
       "      <td>NaN</td>\n",
       "      <td>NaN</td>\n",
       "      <td>NaN</td>\n",
       "    </tr>\n",
       "    <tr>\n",
       "      <th>276738</th>\n",
       "      <td>ARID2</td>\n",
       "      <td>196528</td>\n",
       "      <td>.</td>\n",
       "      <td>GRCh37</td>\n",
       "      <td>12</td>\n",
       "      <td>46287469</td>\n",
       "      <td>46287469</td>\n",
       "      <td>+</td>\n",
       "      <td>Frame_Shift_Del</td>\n",
       "      <td>DEL</td>\n",
       "      <td>...</td>\n",
       "      <td>Likely Oncogenic</td>\n",
       "      <td>NaN</td>\n",
       "      <td>NaN</td>\n",
       "      <td>NaN</td>\n",
       "      <td>NaN</td>\n",
       "      <td>NaN</td>\n",
       "      <td>NaN</td>\n",
       "      <td>NaN</td>\n",
       "      <td>NaN</td>\n",
       "      <td>NaN</td>\n",
       "    </tr>\n",
       "    <tr>\n",
       "      <th>276755</th>\n",
       "      <td>BRCA2</td>\n",
       "      <td>675</td>\n",
       "      <td>.</td>\n",
       "      <td>GRCh37</td>\n",
       "      <td>13</td>\n",
       "      <td>32972893</td>\n",
       "      <td>32972893</td>\n",
       "      <td>+</td>\n",
       "      <td>Frame_Shift_Del</td>\n",
       "      <td>DEL</td>\n",
       "      <td>...</td>\n",
       "      <td>Likely Oncogenic</td>\n",
       "      <td>NaN</td>\n",
       "      <td>NaN</td>\n",
       "      <td>Olaparib,Rucaparib,Niraparib</td>\n",
       "      <td>NaN</td>\n",
       "      <td>NaN</td>\n",
       "      <td>NaN</td>\n",
       "      <td>NaN</td>\n",
       "      <td>LEVEL_2B</td>\n",
       "      <td>NaN</td>\n",
       "    </tr>\n",
       "    <tr>\n",
       "      <th>276779</th>\n",
       "      <td>MGA</td>\n",
       "      <td>23269</td>\n",
       "      <td>.</td>\n",
       "      <td>GRCh37</td>\n",
       "      <td>15</td>\n",
       "      <td>42042612</td>\n",
       "      <td>42042612</td>\n",
       "      <td>+</td>\n",
       "      <td>Frame_Shift_Del</td>\n",
       "      <td>DEL</td>\n",
       "      <td>...</td>\n",
       "      <td>Likely Oncogenic</td>\n",
       "      <td>NaN</td>\n",
       "      <td>NaN</td>\n",
       "      <td>NaN</td>\n",
       "      <td>NaN</td>\n",
       "      <td>NaN</td>\n",
       "      <td>NaN</td>\n",
       "      <td>NaN</td>\n",
       "      <td>NaN</td>\n",
       "      <td>NaN</td>\n",
       "    </tr>\n",
       "    <tr>\n",
       "      <th>276815</th>\n",
       "      <td>CDK12</td>\n",
       "      <td>51755</td>\n",
       "      <td>.</td>\n",
       "      <td>GRCh37</td>\n",
       "      <td>17</td>\n",
       "      <td>37627659</td>\n",
       "      <td>37627659</td>\n",
       "      <td>+</td>\n",
       "      <td>Frame_Shift_Del</td>\n",
       "      <td>DEL</td>\n",
       "      <td>...</td>\n",
       "      <td>Likely Oncogenic</td>\n",
       "      <td>NaN</td>\n",
       "      <td>NaN</td>\n",
       "      <td>NaN</td>\n",
       "      <td>NaN</td>\n",
       "      <td>NaN</td>\n",
       "      <td>NaN</td>\n",
       "      <td>NaN</td>\n",
       "      <td>NaN</td>\n",
       "      <td>NaN</td>\n",
       "    </tr>\n",
       "    <tr>\n",
       "      <th>276848</th>\n",
       "      <td>ERF</td>\n",
       "      <td>2077</td>\n",
       "      <td>.</td>\n",
       "      <td>GRCh37</td>\n",
       "      <td>19</td>\n",
       "      <td>42753368</td>\n",
       "      <td>42753368</td>\n",
       "      <td>+</td>\n",
       "      <td>Frame_Shift_Del</td>\n",
       "      <td>DEL</td>\n",
       "      <td>...</td>\n",
       "      <td>Likely Oncogenic</td>\n",
       "      <td>NaN</td>\n",
       "      <td>NaN</td>\n",
       "      <td>NaN</td>\n",
       "      <td>NaN</td>\n",
       "      <td>NaN</td>\n",
       "      <td>NaN</td>\n",
       "      <td>NaN</td>\n",
       "      <td>NaN</td>\n",
       "      <td>NaN</td>\n",
       "    </tr>\n",
       "    <tr>\n",
       "      <th>276943</th>\n",
       "      <td>MSH2</td>\n",
       "      <td>4436</td>\n",
       "      <td>.</td>\n",
       "      <td>GRCh37</td>\n",
       "      <td>2</td>\n",
       "      <td>47656948</td>\n",
       "      <td>47656960</td>\n",
       "      <td>+</td>\n",
       "      <td>Frame_Shift_Del</td>\n",
       "      <td>DEL</td>\n",
       "      <td>...</td>\n",
       "      <td>Likely Oncogenic</td>\n",
       "      <td>NaN</td>\n",
       "      <td>NaN</td>\n",
       "      <td>NaN</td>\n",
       "      <td>NaN</td>\n",
       "      <td>NaN</td>\n",
       "      <td>NaN</td>\n",
       "      <td>NaN</td>\n",
       "      <td>NaN</td>\n",
       "      <td>NaN</td>\n",
       "    </tr>\n",
       "    <tr>\n",
       "      <th>276967</th>\n",
       "      <td>SETD2</td>\n",
       "      <td>29072</td>\n",
       "      <td>.</td>\n",
       "      <td>GRCh37</td>\n",
       "      <td>3</td>\n",
       "      <td>47161907</td>\n",
       "      <td>47161907</td>\n",
       "      <td>+</td>\n",
       "      <td>Frame_Shift_Del</td>\n",
       "      <td>DEL</td>\n",
       "      <td>...</td>\n",
       "      <td>Likely Oncogenic</td>\n",
       "      <td>NaN</td>\n",
       "      <td>NaN</td>\n",
       "      <td>NaN</td>\n",
       "      <td>NaN</td>\n",
       "      <td>NaN</td>\n",
       "      <td>NaN</td>\n",
       "      <td>NaN</td>\n",
       "      <td>NaN</td>\n",
       "      <td>NaN</td>\n",
       "    </tr>\n",
       "    <tr>\n",
       "      <th>276972</th>\n",
       "      <td>PBRM1</td>\n",
       "      <td>55193</td>\n",
       "      <td>.</td>\n",
       "      <td>GRCh37</td>\n",
       "      <td>3</td>\n",
       "      <td>52588787</td>\n",
       "      <td>52588788</td>\n",
       "      <td>+</td>\n",
       "      <td>Frame_Shift_Ins</td>\n",
       "      <td>INS</td>\n",
       "      <td>...</td>\n",
       "      <td>Likely Oncogenic</td>\n",
       "      <td>NaN</td>\n",
       "      <td>NaN</td>\n",
       "      <td>NaN</td>\n",
       "      <td>NaN</td>\n",
       "      <td>NaN</td>\n",
       "      <td>NaN</td>\n",
       "      <td>NaN</td>\n",
       "      <td>NaN</td>\n",
       "      <td>NaN</td>\n",
       "    </tr>\n",
       "    <tr>\n",
       "      <th>277022</th>\n",
       "      <td>HLA-B</td>\n",
       "      <td>3106</td>\n",
       "      <td>.</td>\n",
       "      <td>GRCh37</td>\n",
       "      <td>6</td>\n",
       "      <td>31323362</td>\n",
       "      <td>31323363</td>\n",
       "      <td>+</td>\n",
       "      <td>Frame_Shift_Ins</td>\n",
       "      <td>INS</td>\n",
       "      <td>...</td>\n",
       "      <td>Likely Oncogenic</td>\n",
       "      <td>NaN</td>\n",
       "      <td>NaN</td>\n",
       "      <td>NaN</td>\n",
       "      <td>NaN</td>\n",
       "      <td>NaN</td>\n",
       "      <td>NaN</td>\n",
       "      <td>NaN</td>\n",
       "      <td>NaN</td>\n",
       "      <td>NaN</td>\n",
       "    </tr>\n",
       "    <tr>\n",
       "      <th>277099</th>\n",
       "      <td>PTCH1</td>\n",
       "      <td>5727</td>\n",
       "      <td>.</td>\n",
       "      <td>GRCh37</td>\n",
       "      <td>9</td>\n",
       "      <td>98268793</td>\n",
       "      <td>98268793</td>\n",
       "      <td>+</td>\n",
       "      <td>Frame_Shift_Del</td>\n",
       "      <td>DEL</td>\n",
       "      <td>...</td>\n",
       "      <td>Likely Oncogenic</td>\n",
       "      <td>NaN</td>\n",
       "      <td>NaN</td>\n",
       "      <td>NaN</td>\n",
       "      <td>NaN</td>\n",
       "      <td>Sonidegib,Vismodegib</td>\n",
       "      <td>NaN</td>\n",
       "      <td>NaN</td>\n",
       "      <td>LEVEL_3B</td>\n",
       "      <td>NaN</td>\n",
       "    </tr>\n",
       "  </tbody>\n",
       "</table>\n",
       "<p>1063 rows × 150 columns</p>\n",
       "</div>"
      ],
      "text/plain": [
       "       Hugo_Symbol  Entrez_Gene_Id Center NCBI_Build Chromosome  \\\n",
       "766            APC             324      .     GRCh37          5   \n",
       "767           KRAS            3845      .     GRCh37         12   \n",
       "1091         KMT2D            8085      .     GRCh37         12   \n",
       "1420        CREBBP            1387      .     GRCh37         16   \n",
       "1849         PTPRS            5802      .     GRCh37         19   \n",
       "2729        PIK3R1            5295      .     GRCh37          5   \n",
       "3266         RBM10            8241      .     GRCh37          X   \n",
       "6013         KMT2D            8085      .     GRCh37         12   \n",
       "6378          CTCF           10664      .     GRCh37         16   \n",
       "6420         NCOR1            9611      .     GRCh37         17   \n",
       "6574         SMAD2            4087      .     GRCh37         18   \n",
       "7547         FBXW7           55294      .     GRCh37          4   \n",
       "7752         HLA-B            3106      .     GRCh37          6   \n",
       "7829          BRAF             673      .     GRCh37          7   \n",
       "7894          PMS2            5395      .     GRCh37          7   \n",
       "8208         KDM5C            8242      .     GRCh37          X   \n",
       "8562         KMT2D            8085      .     GRCh37         12   \n",
       "8913          CTCF           10664      .     GRCh37         16   \n",
       "8954         NCOR1            9611      .     GRCh37         17   \n",
       "9100         SMAD2            4087      .     GRCh37         18   \n",
       "10048        FBXW7           55294      .     GRCh37          4   \n",
       "10249        HLA-B            3106      .     GRCh37          6   \n",
       "10324         BRAF             673      .     GRCh37          7   \n",
       "10387         PMS2            5395      .     GRCh37          7   \n",
       "10689        KDM5C            8242      .     GRCh37          X   \n",
       "11088         BRAF             673      .     GRCh37          7   \n",
       "11090        FBXW7           55294      .     GRCh37          4   \n",
       "11255        KMT2D            8085      .     GRCh37         12   \n",
       "11365          B2M             567      .     GRCh37         15   \n",
       "12329          SMO            6608      .     GRCh37          7   \n",
       "...            ...             ...    ...        ...        ...   \n",
       "275396       RNF43           54894      .     GRCh37         17   \n",
       "275397       AXIN2            8313      .     GRCh37         17   \n",
       "275419       ASXL1          171023      .     GRCh37         20   \n",
       "275449        JAK1            3716      .     GRCh37          1   \n",
       "275543       HNF1A            6927      .     GRCh37         12   \n",
       "275589      TCF7L2            6934      .     GRCh37         10   \n",
       "275655       KMT2D            8085      .     GRCh37         12   \n",
       "275734      CREBBP            1387      .     GRCh37         16   \n",
       "275808       KMT2B            9757      .     GRCh37         19   \n",
       "275892      ARID1A            8289      .     GRCh37          1   \n",
       "275965        MSH6            2956      .     GRCh37          2   \n",
       "276066      ARID1B           57492      .     GRCh37          6   \n",
       "276074       HLA-B            3106      .     GRCh37          6   \n",
       "276101       KMT2C           58508      .     GRCh37          7   \n",
       "276323       PTCH1            5727      .     GRCh37          9   \n",
       "276474       RAD50           10111      .     GRCh37          5   \n",
       "276556       RNF43           54894      .     GRCh37         17   \n",
       "276564       KMT2D            8085      .     GRCh37         12   \n",
       "276574      CREBBP            1387      .     GRCh37         16   \n",
       "276575       ASXL1          171023      .     GRCh37         20   \n",
       "276738       ARID2          196528      .     GRCh37         12   \n",
       "276755       BRCA2             675      .     GRCh37         13   \n",
       "276779         MGA           23269      .     GRCh37         15   \n",
       "276815       CDK12           51755      .     GRCh37         17   \n",
       "276848         ERF            2077      .     GRCh37         19   \n",
       "276943        MSH2            4436      .     GRCh37          2   \n",
       "276967       SETD2           29072      .     GRCh37          3   \n",
       "276972       PBRM1           55193      .     GRCh37          3   \n",
       "277022       HLA-B            3106      .     GRCh37          6   \n",
       "277099       PTCH1            5727      .     GRCh37          9   \n",
       "\n",
       "        Start_Position  End_Position Strand Variant_Classification  \\\n",
       "766          112173917     112173917      +      Nonsense_Mutation   \n",
       "767           25398284      25398284      +      Missense_Mutation   \n",
       "1091          49420871      49420871      +      Nonsense_Mutation   \n",
       "1420           3778420       3778420      +      Nonsense_Mutation   \n",
       "1849           5214592       5214592      +      Missense_Mutation   \n",
       "2729          67591106      67591106      +      Missense_Mutation   \n",
       "3266          47032551      47032551      +      Missense_Mutation   \n",
       "6013          49426631      49426631      +      Nonsense_Mutation   \n",
       "6378          67654642      67654642      +      Missense_Mutation   \n",
       "6420          15968334      15968334      +            Splice_Site   \n",
       "6574          45374882      45374882      +      Nonsense_Mutation   \n",
       "7547         153244184     153244184      +      Missense_Mutation   \n",
       "7752          31322882      31322882      +            Splice_Site   \n",
       "7829         140453136     140453136      +      Missense_Mutation   \n",
       "7894           6022454       6022454      +            Splice_Site   \n",
       "8208          53226064      53226064      +      Nonsense_Mutation   \n",
       "8562          49426631      49426631      +      Nonsense_Mutation   \n",
       "8913          67654642      67654642      +      Missense_Mutation   \n",
       "8954          15968334      15968334      +            Splice_Site   \n",
       "9100          45374882      45374882      +      Nonsense_Mutation   \n",
       "10048        153244184     153244184      +      Missense_Mutation   \n",
       "10249         31322882      31322882      +            Splice_Site   \n",
       "10324        140453136     140453136      +      Missense_Mutation   \n",
       "10387          6022454       6022454      +            Splice_Site   \n",
       "10689         53226064      53226064      +      Nonsense_Mutation   \n",
       "11088        140453136     140453136      +      Missense_Mutation   \n",
       "11090        153247289     153247289      +      Missense_Mutation   \n",
       "11255         49438647      49438647      +      Nonsense_Mutation   \n",
       "11365         45003812      45003812      +            Splice_Site   \n",
       "12329        128849147     128849147      +      Missense_Mutation   \n",
       "...                ...           ...    ...                    ...   \n",
       "275396        56435161      56435161      +        Frame_Shift_Del   \n",
       "275397        63532585      63532585      +        Frame_Shift_Del   \n",
       "275419        31022442      31022442      +        Frame_Shift_Del   \n",
       "275449        65330630      65330630      +        Frame_Shift_Del   \n",
       "275543       121432115     121432115      +        Frame_Shift_Del   \n",
       "275589       114911500     114911500      +        Frame_Shift_Del   \n",
       "275655        49444378      49444378      +        Frame_Shift_Del   \n",
       "275734         3819310       3819310      +        Frame_Shift_Del   \n",
       "275808        36223175      36223175      +        Frame_Shift_Del   \n",
       "275892        27106727      27106727      +        Frame_Shift_Del   \n",
       "275965        48025856      48025857      +        Frame_Shift_Ins   \n",
       "276066       157522190     157522190      +        Frame_Shift_Del   \n",
       "276074        31323346      31323346      +        Frame_Shift_Del   \n",
       "276101       151919093     151919094      +        Frame_Shift_Del   \n",
       "276323        98211549      98211549      +        Frame_Shift_Del   \n",
       "276474       131944382     131944382      +        Frame_Shift_Del   \n",
       "276556        56435161      56435161      +        Frame_Shift_Del   \n",
       "276564        49434492      49434492      +        Frame_Shift_Del   \n",
       "276574         3817721       3817721      +        Frame_Shift_Del   \n",
       "276575        31022442      31022442      +        Frame_Shift_Del   \n",
       "276738        46287469      46287469      +        Frame_Shift_Del   \n",
       "276755        32972893      32972893      +        Frame_Shift_Del   \n",
       "276779        42042612      42042612      +        Frame_Shift_Del   \n",
       "276815        37627659      37627659      +        Frame_Shift_Del   \n",
       "276848        42753368      42753368      +        Frame_Shift_Del   \n",
       "276943        47656948      47656960      +        Frame_Shift_Del   \n",
       "276967        47161907      47161907      +        Frame_Shift_Del   \n",
       "276972        52588787      52588788      +        Frame_Shift_Ins   \n",
       "277022        31323362      31323363      +        Frame_Shift_Ins   \n",
       "277099        98268793      98268793      +        Frame_Shift_Del   \n",
       "\n",
       "       Variant_Type   ...               oncogenic LEVEL_1 LEVEL_2A  \\\n",
       "766             SNP   ...        Likely Oncogenic     NaN      NaN   \n",
       "767             SNP   ...               Oncogenic     NaN      NaN   \n",
       "1091            SNP   ...        Likely Oncogenic     NaN      NaN   \n",
       "1420            SNP   ...        Likely Oncogenic     NaN      NaN   \n",
       "1849            SNP   ...     Predicted Oncogenic     NaN      NaN   \n",
       "2729            SNP   ...     Predicted Oncogenic     NaN      NaN   \n",
       "3266            SNP   ...     Predicted Oncogenic     NaN      NaN   \n",
       "6013            SNP   ...        Likely Oncogenic     NaN      NaN   \n",
       "6378            SNP   ...        Likely Oncogenic     NaN      NaN   \n",
       "6420            SNP   ...        Likely Oncogenic     NaN      NaN   \n",
       "6574            SNP   ...        Likely Oncogenic     NaN      NaN   \n",
       "7547            SNP   ...        Likely Oncogenic     NaN      NaN   \n",
       "7752            SNP   ...        Likely Oncogenic     NaN      NaN   \n",
       "7829            SNP   ...               Oncogenic     NaN      NaN   \n",
       "7894            SNP   ...        Likely Oncogenic     NaN      NaN   \n",
       "8208            SNP   ...        Likely Oncogenic     NaN      NaN   \n",
       "8562            SNP   ...        Likely Oncogenic     NaN      NaN   \n",
       "8913            SNP   ...        Likely Oncogenic     NaN      NaN   \n",
       "8954            SNP   ...        Likely Oncogenic     NaN      NaN   \n",
       "9100            SNP   ...        Likely Oncogenic     NaN      NaN   \n",
       "10048           SNP   ...        Likely Oncogenic     NaN      NaN   \n",
       "10249           SNP   ...        Likely Oncogenic     NaN      NaN   \n",
       "10324           SNP   ...               Oncogenic     NaN      NaN   \n",
       "10387           SNP   ...        Likely Oncogenic     NaN      NaN   \n",
       "10689           SNP   ...        Likely Oncogenic     NaN      NaN   \n",
       "11088           SNP   ...               Oncogenic     NaN      NaN   \n",
       "11090           SNP   ...               Oncogenic     NaN      NaN   \n",
       "11255           SNP   ...        Likely Oncogenic     NaN      NaN   \n",
       "11365           SNP   ...        Likely Oncogenic     NaN      NaN   \n",
       "12329           SNP   ...        Likely Oncogenic     NaN      NaN   \n",
       "...             ...   ...                     ...     ...      ...   \n",
       "275396          DEL   ...        Likely Oncogenic     NaN      NaN   \n",
       "275397          DEL   ...        Likely Oncogenic     NaN      NaN   \n",
       "275419          DEL   ...        Likely Oncogenic     NaN      NaN   \n",
       "275449          DEL   ...        Likely Oncogenic     NaN      NaN   \n",
       "275543          DEL   ...        Likely Oncogenic     NaN      NaN   \n",
       "275589          DEL   ...        Likely Oncogenic     NaN      NaN   \n",
       "275655          DEL   ...        Likely Oncogenic     NaN      NaN   \n",
       "275734          DEL   ...        Likely Oncogenic     NaN      NaN   \n",
       "275808          DEL   ...            Inconclusive     NaN      NaN   \n",
       "275892          DEL   ...        Likely Oncogenic     NaN      NaN   \n",
       "275965          INS   ...        Likely Oncogenic     NaN      NaN   \n",
       "276066          DEL   ...        Likely Oncogenic     NaN      NaN   \n",
       "276074          DEL   ...        Likely Oncogenic     NaN      NaN   \n",
       "276101          DEL   ...        Likely Oncogenic     NaN      NaN   \n",
       "276323          DEL   ...        Likely Oncogenic     NaN      NaN   \n",
       "276474          DEL   ...        Likely Oncogenic     NaN      NaN   \n",
       "276556          DEL   ...        Likely Oncogenic     NaN      NaN   \n",
       "276564          DEL   ...        Likely Oncogenic     NaN      NaN   \n",
       "276574          DEL   ...        Likely Oncogenic     NaN      NaN   \n",
       "276575          DEL   ...        Likely Oncogenic     NaN      NaN   \n",
       "276738          DEL   ...        Likely Oncogenic     NaN      NaN   \n",
       "276755          DEL   ...        Likely Oncogenic     NaN      NaN   \n",
       "276779          DEL   ...        Likely Oncogenic     NaN      NaN   \n",
       "276815          DEL   ...        Likely Oncogenic     NaN      NaN   \n",
       "276848          DEL   ...        Likely Oncogenic     NaN      NaN   \n",
       "276943          DEL   ...        Likely Oncogenic     NaN      NaN   \n",
       "276967          DEL   ...        Likely Oncogenic     NaN      NaN   \n",
       "276972          INS   ...        Likely Oncogenic     NaN      NaN   \n",
       "277022          INS   ...        Likely Oncogenic     NaN      NaN   \n",
       "277099          DEL   ...        Likely Oncogenic     NaN      NaN   \n",
       "\n",
       "                                                 LEVEL_2B  LEVEL_3A  \\\n",
       "766                                                   NaN       NaN   \n",
       "767                                                   NaN       NaN   \n",
       "1091                                                  NaN       NaN   \n",
       "1420                                                  NaN       NaN   \n",
       "1849                                                  NaN       NaN   \n",
       "2729                                                  NaN       NaN   \n",
       "3266                                                  NaN       NaN   \n",
       "6013                                                  NaN       NaN   \n",
       "6378                                                  NaN       NaN   \n",
       "6420                                                  NaN       NaN   \n",
       "6574                                                  NaN       NaN   \n",
       "7547                                                  NaN       NaN   \n",
       "7752                                                  NaN       NaN   \n",
       "7829    Vemurafenib+Cobimetinib,Dabrafenib,Vemurafenib...       NaN   \n",
       "7894                                                  NaN       NaN   \n",
       "8208                                                  NaN       NaN   \n",
       "8562                                                  NaN       NaN   \n",
       "8913                                                  NaN       NaN   \n",
       "8954                                                  NaN       NaN   \n",
       "9100                                                  NaN       NaN   \n",
       "10048                                                 NaN       NaN   \n",
       "10249                                                 NaN       NaN   \n",
       "10324   Vemurafenib+Cobimetinib,Dabrafenib,Vemurafenib...       NaN   \n",
       "10387                                                 NaN       NaN   \n",
       "10689                                                 NaN       NaN   \n",
       "11088   Vemurafenib+Cobimetinib,Dabrafenib,Vemurafenib...       NaN   \n",
       "11090                                                 NaN       NaN   \n",
       "11255                                                 NaN       NaN   \n",
       "11365                                                 NaN       NaN   \n",
       "12329                                                 NaN       NaN   \n",
       "...                                                   ...       ...   \n",
       "275396                                                NaN       NaN   \n",
       "275397                                                NaN       NaN   \n",
       "275419                                                NaN       NaN   \n",
       "275449                                                NaN       NaN   \n",
       "275543                                                NaN       NaN   \n",
       "275589                                                NaN       NaN   \n",
       "275655                                                NaN       NaN   \n",
       "275734                                                NaN       NaN   \n",
       "275808                                                NaN       NaN   \n",
       "275892                                                NaN       NaN   \n",
       "275965                                                NaN       NaN   \n",
       "276066                                                NaN       NaN   \n",
       "276074                                                NaN       NaN   \n",
       "276101                                                NaN       NaN   \n",
       "276323                                                NaN       NaN   \n",
       "276474                                                NaN       NaN   \n",
       "276556                                                NaN       NaN   \n",
       "276564                                                NaN       NaN   \n",
       "276574                                                NaN       NaN   \n",
       "276575                                                NaN       NaN   \n",
       "276738                                                NaN       NaN   \n",
       "276755                       Olaparib,Rucaparib,Niraparib       NaN   \n",
       "276779                                                NaN       NaN   \n",
       "276815                                                NaN       NaN   \n",
       "276848                                                NaN       NaN   \n",
       "276943                                                NaN       NaN   \n",
       "276967                                                NaN       NaN   \n",
       "276972                                                NaN       NaN   \n",
       "277022                                                NaN       NaN   \n",
       "277099                                                NaN       NaN   \n",
       "\n",
       "                    LEVEL_3B                    LEVEL_4  \\\n",
       "766                      NaN                        NaN   \n",
       "767                      NaN  LY3214996,GDC-0994,KO-947   \n",
       "1091                     NaN                        NaN   \n",
       "1420                     NaN                        NaN   \n",
       "1849                     NaN                        NaN   \n",
       "2729                     NaN                        NaN   \n",
       "3266                     NaN                        NaN   \n",
       "6013                     NaN                        NaN   \n",
       "6378                     NaN                        NaN   \n",
       "6420                     NaN                        NaN   \n",
       "6574                     NaN                        NaN   \n",
       "7547                     NaN                        NaN   \n",
       "7752                     NaN                        NaN   \n",
       "7829                     NaN      KO-947,LTT462,BVD-523   \n",
       "7894                     NaN                        NaN   \n",
       "8208                     NaN                        NaN   \n",
       "8562                     NaN                        NaN   \n",
       "8913                     NaN                        NaN   \n",
       "8954                     NaN                        NaN   \n",
       "9100                     NaN                        NaN   \n",
       "10048                    NaN                        NaN   \n",
       "10249                    NaN                        NaN   \n",
       "10324                    NaN      KO-947,LTT462,BVD-523   \n",
       "10387                    NaN                        NaN   \n",
       "10689                    NaN                        NaN   \n",
       "11088                    NaN      KO-947,LTT462,BVD-523   \n",
       "11090                    NaN                        NaN   \n",
       "11255                    NaN                        NaN   \n",
       "11365                    NaN                        NaN   \n",
       "12329                    NaN                        NaN   \n",
       "...                      ...                        ...   \n",
       "275396                   NaN                        NaN   \n",
       "275397                   NaN                        NaN   \n",
       "275419                   NaN                        NaN   \n",
       "275449                   NaN                        NaN   \n",
       "275543                   NaN                        NaN   \n",
       "275589                   NaN                        NaN   \n",
       "275655                   NaN                        NaN   \n",
       "275734                   NaN                        NaN   \n",
       "275808                   NaN                        NaN   \n",
       "275892                   NaN                        NaN   \n",
       "275965                   NaN                        NaN   \n",
       "276066                   NaN                        NaN   \n",
       "276074                   NaN                        NaN   \n",
       "276101                   NaN                        NaN   \n",
       "276323  Sonidegib,Vismodegib                        NaN   \n",
       "276474                   NaN                        NaN   \n",
       "276556                   NaN                        NaN   \n",
       "276564                   NaN                        NaN   \n",
       "276574                   NaN                        NaN   \n",
       "276575                   NaN                        NaN   \n",
       "276738                   NaN                        NaN   \n",
       "276755                   NaN                        NaN   \n",
       "276779                   NaN                        NaN   \n",
       "276815                   NaN                        NaN   \n",
       "276848                   NaN                        NaN   \n",
       "276943                   NaN                        NaN   \n",
       "276967                   NaN                        NaN   \n",
       "276972                   NaN                        NaN   \n",
       "277022                   NaN                        NaN   \n",
       "277099  Sonidegib,Vismodegib                        NaN   \n",
       "\n",
       "                     LEVEL_R1 Highest_level  Ref_Tri  \n",
       "766                       NaN           NaN      GCG  \n",
       "767     Cetuximab,Panitumumab       LEVEL_4      ACC  \n",
       "1091                      NaN           NaN      CCG  \n",
       "1420                      NaN           NaN      GCA  \n",
       "1849                      NaN           NaN      GCG  \n",
       "2729                      NaN           NaN      TTA  \n",
       "3266                      NaN           NaN      CCG  \n",
       "6013                      NaN           NaN      ACA  \n",
       "6378                      NaN           NaN      GCG  \n",
       "6420                      NaN           NaN      CCT  \n",
       "6574                      NaN           NaN      CCG  \n",
       "7547                      NaN           NaN      TCG  \n",
       "7752                      NaN           NaN      GTA  \n",
       "7829                      NaN      LEVEL_2B      GTG  \n",
       "7894                      NaN           NaN      ACG  \n",
       "8208                      NaN           NaN      GCG  \n",
       "8562                      NaN           NaN      ACA  \n",
       "8913                      NaN           NaN      GCG  \n",
       "8954                      NaN           NaN      CCT  \n",
       "9100                      NaN           NaN      CCG  \n",
       "10048                     NaN           NaN      TCG  \n",
       "10249                     NaN           NaN      GTA  \n",
       "10324                     NaN      LEVEL_2B      GTG  \n",
       "10387                     NaN           NaN      ACG  \n",
       "10689                     NaN           NaN      GCG  \n",
       "11088                     NaN      LEVEL_2B      GTG  \n",
       "11090                     NaN           NaN      CCG  \n",
       "11255                     NaN           NaN      GCG  \n",
       "11365                     NaN           NaN      ACG  \n",
       "12329                     NaN           NaN      GCC  \n",
       "...                       ...           ...      ...  \n",
       "275396                    NaN           NaN      NaN  \n",
       "275397                    NaN           NaN      NaN  \n",
       "275419                    NaN           NaN      NaN  \n",
       "275449                    NaN           NaN      NaN  \n",
       "275543                    NaN           NaN      NaN  \n",
       "275589                    NaN           NaN      NaN  \n",
       "275655                    NaN           NaN      NaN  \n",
       "275734                    NaN           NaN      NaN  \n",
       "275808                    NaN           NaN      NaN  \n",
       "275892                    NaN           NaN      NaN  \n",
       "275965                    NaN           NaN      NaN  \n",
       "276066                    NaN           NaN      NaN  \n",
       "276074                    NaN           NaN      NaN  \n",
       "276101                    NaN           NaN      NaN  \n",
       "276323                    NaN      LEVEL_3B      NaN  \n",
       "276474                    NaN           NaN      NaN  \n",
       "276556                    NaN           NaN      NaN  \n",
       "276564                    NaN           NaN      NaN  \n",
       "276574                    NaN           NaN      NaN  \n",
       "276575                    NaN           NaN      NaN  \n",
       "276738                    NaN           NaN      NaN  \n",
       "276755                    NaN      LEVEL_2B      NaN  \n",
       "276779                    NaN           NaN      NaN  \n",
       "276815                    NaN           NaN      NaN  \n",
       "276848                    NaN           NaN      NaN  \n",
       "276943                    NaN           NaN      NaN  \n",
       "276967                    NaN           NaN      NaN  \n",
       "276972                    NaN           NaN      NaN  \n",
       "277022                    NaN           NaN      NaN  \n",
       "277099                    NaN      LEVEL_3B      NaN  \n",
       "\n",
       "[1063 rows x 150 columns]"
      ]
     },
     "execution_count": 130,
     "metadata": {},
     "output_type": "execute_result"
    }
   ],
   "source": [
    "#def summarize_onc_mut_freqs(maf, sigs);\n",
    "    "
   ]
  }
 ],
 "metadata": {
  "kernelspec": {
   "display_name": "Python 2",
   "language": "python",
   "name": "python2"
  },
  "language_info": {
   "codemirror_mode": {
    "name": "ipython",
    "version": 2
   },
   "file_extension": ".py",
   "mimetype": "text/x-python",
   "name": "python",
   "nbconvert_exporter": "python",
   "pygments_lexer": "ipython2",
   "version": "2.7.15"
  }
 },
 "nbformat": 4,
 "nbformat_minor": 2
}
