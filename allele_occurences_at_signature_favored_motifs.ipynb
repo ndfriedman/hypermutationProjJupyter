{
 "cells": [
  {
   "cell_type": "code",
   "execution_count": 1,
   "metadata": {},
   "outputs": [],
   "source": [
    "import sys\n",
    "import argparse\n",
    "import os\n",
    "import pandas as pd\n",
    "import numpy as np\n",
    "import re\n",
    "\n",
    "from collections import Counter\n",
    "\n",
    "pathPrefix = '/Users/friedman/Desktop/mnt'\n",
    "sys.path.append(pathPrefix + '/ifs/work/taylorlab/friedman/myUtils')\n",
    "import analysis_utils \n",
    "import mutationSigUtils \n",
    "import maf_analysis_utils\n",
    "import mutation_modeling_util  \n",
    "import signature_attribution_util\n",
    "import clonality_analysis_util"
   ]
  },
  {
   "cell_type": "code",
   "execution_count": null,
   "metadata": {
    "scrolled": false
   },
   "outputs": [],
   "source": [
    "allImpactMuts = analysis_utils.load_in_df_with_progress(filePath = pathPrefix + '/ifs/work/taylorlab/friedman/hypermutationAnalysisProj/projectDataAndConfigFiles/all_impact_mutations_annotated_cohort.maf', nLinesFile = 275000)\n"
   ]
  },
  {
   "cell_type": "code",
   "execution_count": 5,
   "metadata": {},
   "outputs": [],
   "source": [
    "allImpactMuts['allele'] = allImpactMuts.apply(lambda row: str(row['Hugo_Symbol']) + '_' + str(row['HGVSp_Short']), axis=1)\n"
   ]
  },
  {
   "cell_type": "code",
   "execution_count": 4,
   "metadata": {},
   "outputs": [],
   "source": [
    "allImpactMuts['quadNuc'] = allImpactMuts.apply(lambda row: mutationSigUtils.create_reference_four_nuc(row['Ref_Tri'], row['Reference_Allele'], row['Tumor_Seq_Allele2'], row['Variant_Type']), axis=1)\n"
   ]
  },
  {
   "cell_type": "code",
   "execution_count": 6,
   "metadata": {},
   "outputs": [],
   "source": [
    "impactSigs = pd.read_table(pathPrefix + '/ifs/work/taylorlab/friedman/hypermutationAnalysisProj/projectDataAndConfigFiles/signatures_from_unfiltered_maf.txt')\n",
    "impactSigs = mutationSigUtils.merge_signature_columns(impactSigs)\n",
    "impactSigs['dominantSignature'] = impactSigs.apply(lambda row: \n",
    "        mutationSigUtils.get_dominant_signature(row.to_dict(), cols=None, prefix='mean', notEnoughMuts= True), axis=1)\n",
    "\n",
    "casesWithMSISignature = set(impactSigs[(impactSigs['dominantSignature'] == 'mean_MMR')\n",
    "                                      |((impactSigs['Nmut_Mb'] >= 30) & (impactSigs['dominantSignature'].isin(set(['mean_1']))))\n",
    "                                        ]['Tumor_Sample_Barcode'])\n",
    "\n",
    "casesWithPOLESignature = set(impactSigs[(impactSigs['dominantSignature'] == 'mean_10') & (impactSigs['Nmut_Mb'] > 30)]['Tumor_Sample_Barcode'])\n",
    "casesWithTMZSignature = set(impactSigs[impactSigs['dominantSignature'] == 'mean_11']['Tumor_Sample_Barcode'])\n"
   ]
  },
  {
   "cell_type": "code",
   "execution_count": 6,
   "metadata": {},
   "outputs": [],
   "source": [
    "def asses_observed_fraction_of_motif_favored_mutations_in_gene(allImpactMuts, gene, motifs, mode='oncogenic'):\n",
    "    filePath = '/ifs/work/taylorlab/friedman/myAdjustedDataFiles/simulatedMafs/geneMutMafs/' + gene + '_all_possible_snps_v2.maf'\n",
    "    geneMafQuadNuc = pd.read_table(pathPrefix + filePath)\n",
    "    geneMafQuadNuc = geneMafQuadNuc[geneMafQuadNuc['quadNuc'].isin(motifs)]\n",
    "    geneMafQuadNuc['allele'] = geneMafQuadNuc .apply(lambda row: str(row['Hugo_Symbol']) + '_' + str(row['HGVSp_Short']), axis=1)\n",
    "\n",
    "    impactGeneQuadNucMaf = allImpactMuts[(allImpactMuts['Hugo_Symbol'] == gene) & (allImpactMuts['quadNuc'].isin(motifs))]\n",
    "    \n",
    "    allPossibleMutAlleles = None\n",
    "    oncogenicAlleles = set(geneMafQuadNuc[(geneMafQuadNuc['oncogenic'].notnull()) & (geneMafQuadNuc['quadNuc'].isin(motifs))]['allele'])\n",
    "    hotspotAlleles = set(geneMafQuadNuc[(geneMafQuadNuc['is-a-hotspot'] == 'Y') & (geneMafQuadNuc['quadNuc'].isin(motifs))]['allele'])\n",
    "    impactMuts = None\n",
    "    \n",
    "    if mode == 'oncogenic':\n",
    "        allPossibleMutAlleles = oncogenicAlleles\n",
    "        allObservedImpactAlleles = set(impactGeneQuadNucMaf[impactGeneQuadNucMaf['oncogenic'].notnull()]['allele'])\n",
    "    elif mode == 'hotspot':\n",
    "        allPossibleMutAlleles = hotspotAlleles\n",
    "        allObservedImpactAlleles = set(impactGeneQuadNucMaf[impactGeneQuadNucMaf['is-a-hotspot'] == 'Y']['allele'])\n",
    "\n",
    "    print gene\n",
    "    if len(allPossibleMutAlleles) != 0:\n",
    "        print len(allPossibleMutAlleles)\n",
    "        print (1.0*len(allObservedImpactAlleles))/len(allPossibleMutAlleles)\n",
    "    "
   ]
  },
  {
   "cell_type": "code",
   "execution_count": 7,
   "metadata": {},
   "outputs": [],
   "source": [
    "allImpactMuts = maf_analysis_utils.fix_mll_genes(allImpactMuts)"
   ]
  },
  {
   "cell_type": "code",
   "execution_count": 8,
   "metadata": {},
   "outputs": [],
   "source": [
    "poleMotifs = set(['TCAT', 'TCTG'])\n",
    "endometrialHyperIds = analysis_utils.get_ids_by_hypermutant_status(hypermutantIdDir=pathPrefix +'/ifs/work/taylorlab/friedman/hypermutationAnalysisProj/projectDataAndConfigFiles/hypermutationStatusIds', cancerType='Endometrial Cancer', hypermutantStatus = 'Hypermutated')\n",
    "endometrialMuts = allImpactMuts[allImpactMuts['Tumor_Sample_Barcode'].isin(endometrialHyperIds)]"
   ]
  },
  {
   "cell_type": "code",
   "execution_count": 9,
   "metadata": {},
   "outputs": [],
   "source": [
    "endometrialPole = endometrialMuts[endometrialMuts['Tumor_Sample_Barcode'].isin(casesWithPOLESignature)]"
   ]
  },
  {
   "cell_type": "markdown",
   "metadata": {},
   "source": [
    "**Stuff for analysis of mutations at the POLE penta-nucleotide favored site** <br/><br/><br/><br/>"
   ]
  },
  {
   "cell_type": "code",
   "execution_count": 108,
   "metadata": {},
   "outputs": [],
   "source": [
    "def normalize_dict_to_sum_to_one(d):\n",
    "        factor=1.0/sum(d.values())\n",
    "        for k in d:\n",
    "          d[k] = d[k]*factor\n",
    "        return d"
   ]
  },
  {
   "cell_type": "code",
   "execution_count": 7,
   "metadata": {
    "scrolled": true
   },
   "outputs": [],
   "source": [
    "poleMaf = allImpactMuts[allImpactMuts['Tumor_Sample_Barcode'].isin(casesWithPOLESignature)]"
   ]
  },
  {
   "cell_type": "code",
   "execution_count": 14,
   "metadata": {},
   "outputs": [],
   "source": [
    "poleMaf.to_csv('/Users/friedman/Desktop/mnt/ifs/work/taylorlab/friedman/myAdjustedDataFiles/poleCaseMaf.tsv', index=False, sep='\\t')"
   ]
  },
  {
   "cell_type": "code",
   "execution_count": 8,
   "metadata": {},
   "outputs": [
    {
     "name": "stderr",
     "output_type": "stream",
     "text": [
      "/anaconda2/lib/python2.7/site-packages/IPython/core/interactiveshell.py:2714: DtypeWarning: Columns (36,39,85) have mixed types. Specify dtype option on import or set low_memory=False.\n",
      "  interactivity=interactivity, compiler=compiler, result=result)\n"
     ]
    }
   ],
   "source": [
    "poleMafWithPentaContext = pd.read_table(pathPrefix + '/ifs/work/taylorlab/friedman/myAdjustedDataFiles/poleCaseMafWithPentanucleotideContext.maf')"
   ]
  },
  {
   "cell_type": "code",
   "execution_count": 9,
   "metadata": {},
   "outputs": [],
   "source": [
    "reload(mutationSigUtils)\n",
    "poleMafWithPentaContext['pentaChange'] = poleMafWithPentaContext.apply(lambda row: \n",
    "                                    mutationSigUtils.create_strand_specific_pentanucleotide_change(row['Ref_Tri.1'], row['Reference_Allele'], row['Tumor_Seq_Allele2'], row['Variant_Type']), axis=1)\n"
   ]
  },
  {
   "cell_type": "code",
   "execution_count": 10,
   "metadata": {},
   "outputs": [],
   "source": [
    "poleMafWithPentaContext['alleleAndChange'] = poleMafWithPentaContext['HGVSp_Short'] + '_' + poleMafWithPentaContext['pentaChange']"
   ]
  },
  {
   "cell_type": "code",
   "execution_count": 11,
   "metadata": {},
   "outputs": [],
   "source": [
    "tumorSuppresors = set(['ERRFI1', 'ASXL2', 'PMAIP1', 'ACTG1', 'SUFU', 'FBXO11', 'MEN1', 'FAM58A', 'B2M', 'RB1', 'DUSP22', 'SESN1', 'GPS2', 'RAD51D', 'SMG1', 'CDC73', 'MAP3K1', 'SMARCB1', 'INPP4B', 'PARK2', 'SMAD4', 'CBFB', 'CDH1', 'PPP6C', 'SETDB1', 'SETDB2', 'NF2', 'CDKN2B', 'CDKN2C', 'CDKN2A', 'DDX3X', 'PIK3R1', 'BARD1', 'PDS5B', 'KLF4', 'SPRED1', 'VHL', 'SMAD2', 'PMS1', 'PMS2', 'SETD2', 'GATA3', 'TBL1XR1', 'MUTYH', 'SOCS1', 'FAM175A', 'ROBO1', 'ARID1B', 'ARID1A', 'TCF7L2', 'STK11', 'FOXA1', 'PTEN', 'FAT1', 'FAS', 'CYLD', 'MAX', 'SH2D1A', 'APC', 'NTHL1', 'CTCF', 'KDM5C', 'KMT2C', 'ZFHX3', 'FOXP1', 'PIGA', 'CDKN1B', 'CDKN1A', 'FUBP1', 'MSH2', 'ID3', 'TNFRSF14', 'TRAF3', 'EP400', 'BRIP1', 'ARID4A', 'ARID4B', 'XRCC2', 'DAXX', 'SDHAF2', 'ASXL1', 'AMER1', 'RASA1', 'EGR1', 'MST1', 'SOX17', 'RUNX1', 'PIK3R3', 'NCOR1', 'NF1', 'JAK1', 'PTPRD', 'CHEK2', 'CHEK1', 'SMC1A', 'TMEM127', 'STAG1', 'RAD51', 'TCF3', 'STAG2', 'ARID2', 'RAD50', 'RNF43', 'PARP1', 'BLM', 'CUX1', 'RECQL', 'RAD21', 'PTPN2', 'PTPN1', 'SLX4', 'INHA', 'PAX5', 'IRF1', 'TP53', 'HLA-A', 'IRF8', 'CBL', 'TOP1', 'SHQ1', 'PRDM1', 'NSD1', 'ATXN2', 'CREBBP', 'HDAC4', 'SESN2', 'PPP2R1A', 'EPHA7', 'ATM', 'EPHA3', 'POT1', 'SMAD3', 'MOB3B', 'TBX3', 'POLE', 'ATR', 'FANCD2', 'FH', 'BCORL1', 'SOX9', 'IKZF3', 'TSC1', 'TP63', 'MRE11A', 'SDHC', 'BTG1', 'POLD1', 'CIITA', 'SMC3', 'SAMHD1', 'RTEL1', 'ECT2L', 'PIK3R2', 'CRBN', 'FANCC', 'NBN', 'FANCA', 'HLA-B', 'RECQL4', 'DUSP4', 'ERCC2', 'FBXW7', 'TGFBR2', 'TGFBR1', 'MSH3', 'RBM15', 'TET1', 'TET3', 'SESN3', 'MGA', 'LTB', 'FOXL2', 'SH2B3', 'BCOR', 'HIST1H1D', 'ATRX', 'EP300', 'RAD51C', 'RAD51B', 'HIST1H1B', 'TNFAIP3', 'DICER1', 'ARID5B', 'LATS2', 'FOXO1', 'KEAP1', 'EZH2', 'SP140', 'NKX3-1', 'PBRM1', 'PALB2', 'CIC', 'BRCA1', 'DTX1', 'FLCN', 'SPEN', 'CD58', 'ERCC3', 'ERCC4', 'MSH6', 'BCL11B', 'BMPR1A', 'ERF', 'BRCA2', 'NOTCH2', 'EED', 'MITF', 'ELF3', 'SMARCA4', 'BBC3', 'ANKRD11', 'CEBPA', 'BCL2L11', 'AXIN2', 'AXIN1', 'CDK12', 'ESCO2', 'MLH1', 'SDHB', 'MED12', 'HNF1A', 'RYBP', 'ATP6V1B2', 'DNMT3B', 'KMT2B', 'KMT2A', 'DNMT3A', 'NFKBIA', 'TRAF5', 'KMT2D', 'SPOP', 'RBM10', 'P2RY8', 'TP53BP1', 'TSC2', 'KDM6A', 'EPCAM', 'PHOX2B', 'NPM1', 'BCL10', 'LATS1', 'HOXB13', 'ARID3A', 'PTPRT', 'PTPRS', 'INPPL1', 'NOTCH4', 'TET2', 'NOTCH1', 'CASP8', 'NOTCH3', 'GRIN2A', 'MAP2K4', 'WT1', 'BACH2', 'SDHA', 'BAP1', 'PTCH1', 'SDHD'])"
   ]
  },
  {
   "cell_type": "code",
   "execution_count": 12,
   "metadata": {},
   "outputs": [],
   "source": [
    "oncoMaf = poleMafWithPentaContext[~poleMafWithPentaContext['Hugo_Symbol'].isin(tumorSuppresors)]"
   ]
  },
  {
   "cell_type": "code",
   "execution_count": 29,
   "metadata": {},
   "outputs": [
    {
     "name": "stdout",
     "output_type": "stream",
     "text": [
      "4860 6839\n",
      "oncogenes 1265\n",
      "tumor suppressors 3030\n"
     ]
    }
   ],
   "source": [
    "#print Counter(oncoMaf['pentaChange'])\n",
    "\n",
    "print oncoMaf.shape[0], poleMafWithPentaContext.shape[0] - oncoMaf.shape[0]\n",
    "\n",
    "qn = 'TCTG'\n",
    "\n",
    "print 'oncogenes', oncoMaf[(oncoMaf['quadNuc'] == qn)].shape[0]\n",
    "print 'tumor suppressors', poleMafWithPentaContext[(poleMafWithPentaContext['quadNuc'] == qn)].shape[0]\n",
    "              \n",
    "#print Counter(oncoMaf[(oncoMaf['quadNuc'] == 'TCTG') & (oncoMaf['oncogenic'].isnull())]['allele'])"
   ]
  },
  {
   "cell_type": "code",
   "execution_count": null,
   "metadata": {},
   "outputs": [],
   "source": []
  },
  {
   "cell_type": "code",
   "execution_count": 120,
   "metadata": {},
   "outputs": [],
   "source": [
    "#WE ONLY DO analysis on tumor suppressors and stop gain mutations\n",
    "poleMafWithPentaContextTSTrunc = poleMafWithPentaContext[\n",
    "    (poleMafWithPentaContext['Consequence'] == 'stop_gained') &\n",
    "(poleMafWithPentaContext['Hugo_Symbol'].isin(tumorSuppresors))]"
   ]
  },
  {
   "cell_type": "code",
   "execution_count": 130,
   "metadata": {},
   "outputs": [],
   "source": [
    "#Normalize the probabilities of mutations at the POLE most distinct trinucleotides (TCAT and TCTG)\n",
    "poleMotifMuts = poleMafWithPentaContext[poleMafWithPentaContext['quadNuc'].isin(set(['TCAT', 'TCTG']))]\n",
    "polePentaCounts = [(pentaNuc, count) for pentaNuc, count in Counter(poleMotifMuts['pentaChange']).items()]\n",
    "normedPentaProbs = normalize_dict_to_sum_to_one(dict(polePentaCounts))\n",
    "\n"
   ]
  },
  {
   "cell_type": "code",
   "execution_count": 122,
   "metadata": {},
   "outputs": [],
   "source": [
    "poleMafTSTruncPoleMotif = poleMafWithPentaContextTSTrunc[poleMafWithPentaContextTSTrunc['quadNuc'].isin(set(['TCAT', 'TCTG']))]\n"
   ]
  },
  {
   "cell_type": "code",
   "execution_count": 123,
   "metadata": {},
   "outputs": [],
   "source": [
    "sortedGeneMuts = sorted(list(Counter(poleMafTSTruncPoleMotif['Hugo_Symbol']).items()), key = lambda x: -1*x[1])\n"
   ]
  },
  {
   "cell_type": "code",
   "execution_count": 111,
   "metadata": {},
   "outputs": [
    {
     "name": "stdout",
     "output_type": "stream",
     "text": [
      "{'TT(C>T)GA': 0.2613126783530371, 'TT(C>A)TC': 0.20587036282103546, 'TT(C>A)TT': 0.40358744394618834, 'AT(C>T)GA': 0.07664084794129637, 'TT(C>A)AT': 0.052588666938442725}\n"
     ]
    }
   ],
   "source": [
    "\n",
    "print normedPentaProbsFiveMostCommon\n",
    "#for gene, nmut in sortedGeneMuts:\n",
    "#    geneMaf = poleMafWithPentaContextTSTruncCommonMotif[poleMafWithPentaContextTSTruncCommonMotif['Hugo_Symbol'] == gene]\n",
    "#    alleleCntr = Counter(geneMaf['HGVSp_Short'])\n",
    "#    print gene, nmut, len(alleleCntr), alleleCntr\n",
    "#    print '______________'"
   ]
  },
  {
   "cell_type": "code",
   "execution_count": 193,
   "metadata": {},
   "outputs": [],
   "source": [
    "#DOES the specificty score (n steps to equalize)\n",
    "#and the divergence score (expected distribution of mutations vs observed)\n",
    "\n",
    "def compare_nmut_dist(allPentaProbs, observedMutationPentaCounts):\n",
    "    observedPentas = observedMutationPentaCounts.keys()\n",
    "    pentaProbsObs = [(penta, prob) for penta, prob in allPentaProbs.items() if penta in observedPentas]\n",
    "    pentaProbsObsNormed = normalize_dict_to_sum_to_one(dict(pentaProbsObs))\n",
    "    \n",
    "    #calculate the number of mutations we expect etc\n",
    "    nmut = sum(observedMutationPentaCounts.values())\n",
    "    predictedPentaCounts = [(pentaChange, prob*nmut) for pentaChange, prob in pentaProbsObsNormed.items()]\n",
    "    \n",
    "    difSum = 0\n",
    "    for gene, predictedCount in predictedPentaCounts:\n",
    "        observedCount = observedMutationPentaCounts[gene]\n",
    "        dif = abs(predictedCount - observedCount)\n",
    "        difSum += dif\n",
    "    score = (1.0*difSum)/nmut\n",
    "    return score\n",
    "    \n",
    "\n",
    "def calculate_metrics_for_allele_gene_mutation_specificity(maf, pentaProbs):\n",
    "    \n",
    "    #a measure of the uneven-ness of a distribution of allele mutations: how many mutations it takes to equalize\n",
    "    def count_n_steps_to_equalize(counts, nSteps):\n",
    "        minIndex = 0\n",
    "        maxIndex = len(counts) - 1\n",
    "        minCount = counts[minIndex]\n",
    "        maxCount = counts[maxIndex]\n",
    "\n",
    "        if minCount + 1 >= maxCount: #if everything is equal OR min and max count are just separated by one return\n",
    "            return nSteps\n",
    "        else:\n",
    "            nSteps += 1\n",
    "            #adjust them\n",
    "            counts[minIndex] = counts[minIndex] + 1\n",
    "            counts[maxIndex] = counts[maxIndex] - 1\n",
    "            return count_n_steps_to_equalize(sorted(counts), nSteps)\n",
    "\n",
    "    \n",
    "    listOfDicts = []\n",
    "    for gene in set(maf['Hugo_Symbol']):\n",
    "        \n",
    "        geneMaf = maf[maf['Hugo_Symbol'] == gene]\n",
    "        alleleCounts = Counter(geneMaf['HGVSp_Short'])\n",
    "        rawCounts = [i[1] for i in alleleCounts.items()]\n",
    "        nMutations = sum(rawCounts)\n",
    "        nAlleles = len(rawCounts)\n",
    "        \n",
    "        if nMutations > 0:\n",
    "            maxAllele = alleleCounts.most_common()[0][0]\n",
    "            maxCount = alleleCounts.most_common()[0][1]\n",
    "            nSteps = count_n_steps_to_equalize(sorted(rawCounts), 0)\n",
    "            geneCounts = Counter(geneMaf['pentaChange'])\n",
    "            differenceScore = compare_nmut_dist(pentaProbs, geneCounts)\n",
    "            \n",
    "            listOfDicts.append({'Hugo_Symbol': gene, 'nMutations': nMutations, 'nSteps': nSteps,\n",
    "                               'nAlleles': nAlleles, 'maxAlleleCount': maxCount, 'maxAllele': maxAllele,\n",
    "                                'diffScore': differenceScore\n",
    "                               })\n",
    "        \n",
    "    return pd.DataFrame(listOfDicts)\n",
    "    "
   ]
  },
  {
   "cell_type": "code",
   "execution_count": 139,
   "metadata": {},
   "outputs": [],
   "source": [
    "arid1aCts = Counter(poleMafTSTruncPoleMotif[poleMafTSTruncPoleMotif['Hugo_Symbol'] == 'ARID1A']['pentaChange'])\n"
   ]
  },
  {
   "cell_type": "code",
   "execution_count": 194,
   "metadata": {},
   "outputs": [],
   "source": [
    "df = calculate_metrics_for_allele_gene_mutation_specificity(poleMafTSTruncPoleMotif, normedPentaProbs)\n",
    "\n",
    "#gene = 'BRCA2'\n",
    "#geneCounts = Counter(poleMafTSTruncPoleMotif[poleMafTSTruncPoleMotif['Hugo_Symbol'] == gene]['pentaChange'])\n",
    "#compare_nmut_dist(normedPentaProbs, geneCounts)"
   ]
  },
  {
   "cell_type": "code",
   "execution_count": 207,
   "metadata": {},
   "outputs": [],
   "source": [
    "df['displayName'] = df.apply(lambda row: row['Hugo_Symbol'] if row['nSteps'] > 3 or row['nMutations'] > 12 else None, axis=1)"
   ]
  },
  {
   "cell_type": "code",
   "execution_count": 208,
   "metadata": {},
   "outputs": [],
   "source": [
    "df.to_csv('/Users/friedman/Desktop/WORK/dataForLocalPlotting/alleleSpecificity.tsv', index=False, sep='\\t')"
   ]
  },
  {
   "cell_type": "markdown",
   "metadata": {},
   "source": [
    "**Stuff from offline august 22**<br/><br/><br/>"
   ]
  },
  {
   "cell_type": "code",
   "execution_count": 237,
   "metadata": {},
   "outputs": [
    {
     "name": "stdout",
     "output_type": "stream",
     "text": [
      "Counter({'TT(C>A)TT': 990, 'TT(C>T)GA': 641, 'TT(C>A)TC': 505, 'TT(C>T)GG': 349, 'TT(C>T)GT': 338, 'TT(C>T)GC': 222, 'TT(C>A)TG': 215, 'AT(C>A)TT': 207, 'AT(C>T)GA': 188, 'GT(C>T)GA': 168, 'TT(C>A)TA': 149, 'CT(C>T)GA': 141, 'AT(C>T)GT': 139, 'AT(C>A)TC': 136, 'GT(C>T)GT': 134, 'CT(C>T)GG': 128, 'GT(C>A)TT': 128, 'GT(C>T)GG': 117, 'AT(C>T)GG': 112, 'CT(C>T)GT': 105, 'AT(C>T)GC': 93, 'CT(C>T)GC': 84, 'GT(C>T)GC': 71, 'GT(C>A)TC': 68, 'CT(C>A)TT': 66, 'AT(C>A)TA': 58, 'AT(C>A)TG': 58, 'CT(C>A)TC': 41, 'GT(C>A)TG': 34, 'CT(C>A)TG': 26, 'GT(C>A)TA': 13, 'CT(C>A)TA': 12})\n"
     ]
    }
   ],
   "source": [
    "poleMafPoleMainOnly = poleMafWithPentaContext[poleMafWithPentaContext['quadNuc'].isin(set(['TCAT', 'TCTG']))]"
   ]
  },
  {
   "cell_type": "code",
   "execution_count": 248,
   "metadata": {},
   "outputs": [
    {
     "name": "stderr",
     "output_type": "stream",
     "text": [
      "/anaconda2/lib/python2.7/site-packages/ipykernel_launcher.py:2: SettingWithCopyWarning: \n",
      "A value is trying to be set on a copy of a slice from a DataFrame.\n",
      "Try using .loc[row_indexer,col_indexer] = value instead\n",
      "\n",
      "See the caveats in the documentation: http://pandas.pydata.org/pandas-docs/stable/indexing.html#indexing-view-versus-copy\n",
      "  \n"
     ]
    }
   ],
   "source": [
    "poleMafTruncOnly = poleMafPoleMainOnly[poleMafPoleMainOnly['Consequence'] == 'stop_gained']\n",
    "poleMafTruncOnly['allele'] = poleMafTruncOnly.apply(lambda row: row['Hugo_Symbol'] + '_' + row['HGVSp_Short'], axis=1)"
   ]
  },
  {
   "cell_type": "code",
   "execution_count": 260,
   "metadata": {},
   "outputs": [],
   "source": [
    "listOfDicts = []\n",
    "for allele in set(poleMafTruncOnly['allele']):\n",
    "    alleleMaf = poleMafTruncOnly[poleMafTruncOnly['allele'] == allele]\n",
    "    penta = alleleMaf['pentaChange'].iloc[0]\n",
    "    gene = alleleMaf['Hugo_Symbol'].iloc[0]\n",
    "    nmut = alleleMaf.shape[0]\n",
    "    listOfDicts.append({'allele': allele, 'nmut': nmut, 'penta': penta, 'gene': gene})\n",
    "\n",
    "df = pd.DataFrame(listOfDicts)"
   ]
  },
  {
   "cell_type": "code",
   "execution_count": 265,
   "metadata": {},
   "outputs": [],
   "source": [
    "pentaChangeAverages = dict([(penta, np.nanmean(df[df['penta'] == penta]['nmut'])) for penta in set(df['penta'])])\n"
   ]
  },
  {
   "cell_type": "code",
   "execution_count": 266,
   "metadata": {},
   "outputs": [],
   "source": [
    "#pentaChangeCounter = Counter(poleMafPoleMainOnly[poleMafPoleMainOnly['Consequence'] == 'stop_gained']['pentaChange'])\n",
    "df['orderingVal'] = df['penta'].apply(lambda x: pentaChangeAverages[x])\n",
    "df['tumorSup'] = df['gene'].apply(lambda x: True if x in tumorSuppresors else False)"
   ]
  },
  {
   "cell_type": "code",
   "execution_count": 267,
   "metadata": {},
   "outputs": [],
   "source": [
    "df.to_csv('/Users/friedman/Desktop/WORK/poleSitOccurenceInfo.tsv', index=False, sep='\\t')"
   ]
  },
  {
   "cell_type": "code",
   "execution_count": 275,
   "metadata": {},
   "outputs": [
    {
     "name": "stdout",
     "output_type": "stream",
     "text": [
      "[(22, 'ARID1A_p.R1989*', 'TT(C>T)GA'), (18, 'TP53_p.R213*', 'TT(C>T)GA'), (17, 'NF1_p.R2450*', 'TT(C>T)GA'), (16, 'PIK3R1_p.R348*', 'TT(C>T)GA'), (14, 'ATM_p.R250*', 'TT(C>T)GA'), (11, 'CASP8_p.E239*', 'TT(C>A)TT'), (10, 'PTEN_p.E7*', 'CT(C>A)TT'), (7, 'SMAD4_p.E520*', 'TT(C>A)TT'), (7, 'FBXW7_p.R658*', 'TT(C>T)GA'), (7, 'ASXL2_p.R312*', 'AT(C>T)GA'), (7, 'APC_p.R2237*', 'TT(C>T)GA'), (7, 'APC_p.R1114*', 'AT(C>T)GA'), (6, 'TP63_p.R594*', 'TT(C>T)GA'), (6, 'RASA1_p.E429*', 'TT(C>A)TT'), (6, 'NF1_p.R440*', 'TT(C>T)GA'), (6, 'MSH2_p.E580*', 'TT(C>A)TT'), (6, 'MET_p.R1170*', 'TT(C>T)GA'), (6, 'EPHA7_p.R895*', 'TT(C>T)GA'), (6, 'ASXL2_p.E45*', 'TT(C>A)TT'), (6, 'APC_p.R2204*', 'TT(C>T)GA')]\n"
     ]
    }
   ],
   "source": [
    "print sorted(zip(df['nmut'], df['allele'], df['penta']), reverse=True)[:20]"
   ]
  },
  {
   "cell_type": "markdown",
   "metadata": {},
   "source": [
    "**TMZ hypermutated GLIOMA**"
   ]
  },
  {
   "cell_type": "code",
   "execution_count": 6,
   "metadata": {},
   "outputs": [],
   "source": [
    "tmzMaf = allImpactMuts[allImpactMuts['Tumor_Sample_Barcode'].isin(casesWithTMZSignature)]"
   ]
  },
  {
   "cell_type": "code",
   "execution_count": 13,
   "metadata": {},
   "outputs": [
    {
     "name": "stdout",
     "output_type": "stream",
     "text": [
      "Counter({'TERT_nan': 51, 'MSH6_p.T1219I': 8, 'KRAS_p.G12D': 7, 'EGFR_p.A289V': 6, 'PIK3CA_p.E545K': 5, 'EGFR_p.R108K': 4, 'PIK3CA_p.E542K': 4, 'AKT1_p.E17K': 4, 'NF2_p.P135L': 3, 'IRF4_p.P392S': 3, 'PARK2_p.D115N': 3, 'MET_nan': 3, 'FGFR1_p.S437N': 3, 'BCL6_p.E503K': 3, 'BCOR_p.T870I': 3, 'ETV1_p.X185_splice': 3, 'SMAD2_p.D59N': 3, 'PBRM1_p.G1355E': 3, 'NOTCH4_p.P1531S': 3, 'CDKN2A_p.E88K': 3, 'CDKN2A_p.W110*': 3, 'STAG2_p.V426I': 3, 'IDH2_p.R43K': 3, 'NOTCH1_p.G1434D': 3, 'RBM10_p.D139N': 3, 'MSH6_p.T767I': 3, 'ALK_p.Q515*': 3, 'MAP3K13_p.S649F': 3, 'CIC_p.G1582E': 3, 'TP53_p.G244S': 3, 'PIK3CA_p.G118D': 3, 'ARID2_p.R401K': 3, 'NOTCH3_p.G1059E': 3, 'PTPN11_p.E69K': 3, 'BCL6_p.S300N': 3, 'SMAD4_p.A15V': 3, 'KDM5C_p.T937I': 3, 'STK11_p.V320M': 3, 'BRIP1_p.E157K': 3, 'ARID1B_p.P1352L': 3, 'MET_p.V1078M': 3, 'DICER1_p.G1809R': 3, 'BRD4_p.V196I': 3, 'PIK3CD_p.E607K': 3, 'RPS6KB2_p.D354N': 3, 'TSC2_p.R1044K': 2, 'PTPN11_p.G115E': 2, 'ASXL1_p.V1396M': 2, 'PDCD1_p.P160S': 2, 'EGFR_p.G601E': 2, 'NTRK2_p.D85N': 2, 'NPM1_p.G140E': 2, 'CTNNB1_p.S45F': 2, 'PTEN_p.S170N': 2, 'GNAS_p.T55I': 2, 'AXIN1_p.P703S': 2, 'TET2_p.P1146L': 2, 'AMER1_p.S209N': 2, 'EPHA5_p.L113F': 2, 'MTOR_p.S2215F': 2, 'ETV6_p.A218T': 2, 'CCND3_p.E224K': 2, 'RFWD2_p.E285K': 2, 'KMT2D_p.P768L': 2, 'SOX17_p.P373S': 2, 'SETD2_p.G1701R': 2, 'PIK3CG_p.G835D': 2, 'MRE11A_p.V167I': 2, 'PAK7_p.G346E': 2, 'DICER1_p.E1794K': 2, 'MLL3_p.V4011I': 2, 'MEN1_p.L129F': 2, 'FAT1_p.P3809L': 2, 'CASP8_p.G384D': 2, 'MAP3K13_p.T65I': 2, 'ATM_p.L2173F': 2, 'IKZF1_p.G207D': 2, 'FLCN_p.S71F': 2, 'IGF1R_p.E463K': 2, 'PIK3CA_p.E453K': 2, 'MPL_p.R229K': 2, 'MAP3K13_p.G50E': 2, 'ABL1_p.V875M': 2, 'CDKN1B_p.X158_splice': 2, 'ERBB2_p.P337L': 2, 'KDM5C_p.P1555S': 2, 'MSH2_p.P622S': 2, 'MYCN_p.P44L': 2, 'PALB2_p.E1011K': 2, 'SPEN_p.P3428S': 2, 'CDKN1B_p.X159_splice': 2, 'NCOA3_p.G1318R': 2, 'RPTOR_p.S898N': 2, 'MST1R_p.P521S': 2, 'DNMT3B_p.D172N': 2, 'TP53_p.X261_splice': 2, 'FYN_p.L364F': 2, 'PARK2_p.A371T': 2, 'APC_p.S906F': 2, 'NFKBIA_p.G270S': 2, 'TP53BP1_p.P841S': 2, 'MLL2_p.S837F': 2, 'RICTOR_p.D1432N': 2, 'AMER1_p.E903K': 2, 'HIST1H3F_p.G133E': 2, 'PBRM1_p.P1469L': 2, 'IKZF1_p.E29K': 2, 'FLT4_p.P1259L': 2, 'MLL2_p.E131K': 2, 'RPS6KA4_p.A292T': 2, 'POLD1_p.X1040_splice': 2, 'DOT1L_p.G1386D': 2, 'EPHA7_p.G656R': 2, 'CBFB_p.A166T': 2, 'KMT2D_p.X134_splice': 2, 'RB1_p.G818S': 2, 'ATM_p.W1710*': 2, 'ERG_p.P412S': 2, 'PRDM1_p.T724I': 2, 'NSD1_p.S1112N': 2, 'EP300_p.P2107L': 2, 'MAP2K1_p.G128D': 2, 'MSH6_p.G409E': 2, 'PTPRT_p.S1247F': 2, 'EP300_p.T1300I': 2, 'FGF19_p.D198N': 2, 'ATM_p.G1370E': 2, 'MTOR_p.T739I': 2, 'FLT4_p.D214N': 2, 'PTPRS_p.V652M': 2, 'NTRK3_p.S205N': 2, 'BBC3_p.P158S': 2, 'NF1_p.G1758D': 2, 'PPP6C_p.T221I': 2, 'GNAQ_p.G66E': 2, 'ARID1B_p.G869D': 2, 'PRDM1_p.A509V': 2, 'EPHA5_p.G19D': 2, 'KMT2D_p.V1365I': 2, 'EP300_p.E7K': 2, 'ZFHX3_p.G154E': 2, 'GSK3B_p.L390F': 2, 'KMT2C_p.A3038T': 2, 'ASXL2_p.D1340N': 2, 'WT1_p.D3N': 2, 'FLT1_p.S918F': 2, 'ARID2_p.X499_splice': 2, 'TP53_p.S241F': 2, 'NOTCH1_p.X481_splice': 2, 'MLL2_p.P1984S': 2, 'CSF1R_p.A763V': 2, 'DNMT3B_p.E222K': 2, 'WHSC1L1_p.A97T': 2, 'FGF4_p.P163L': 2, 'NRAS_p.G12D': 2, 'IDH2_p.R172K': 2, 'NCOA3_p.V1214M': 2, 'MAX_p.P116S': 2, 'NUP93_p.X513_splice': 2, 'E2F3_p.P54S': 1, 'FAT1_p.T2909I': 1, 'MED12_p.W158*': 1, 'NTRK2_p.G309D': 1, 'KDM5A_p.W98*': 1, 'BRAF_p.W476*': 1, 'PTPRS_p.G1282E': 1, 'INHA_p.P162L': 1, 'SOX2_p.P221L': 1, 'KDM5A_p.L1214F': 1, 'KNSTRN_p.T103I': 1, 'TP63_p.E53K': 1, 'NOTCH2_p.P1418L': 1, 'KMT2B_p.G2014E': 1, 'MAP2K1_p.P193L': 1, 'CD276_p.A61T': 1, 'B2M_p.R23H': 1, 'MLL_p.D2854N': 1, 'TERT_p.A678V': 1, 'PPP2R1A_p.G137D': 1, 'KMT2C_p.P2438L': 1, 'PRKD1_p.V117M': 1, 'ROS1_p.V1165I': 1, 'NTRK2_p.V438M': 1, 'PRDM1_p.Q530*': 1, 'PARK2_p.E49K': 1, 'MRE11A_p.D186N': 1, 'ATM_p.T2751I': 1, 'MGA_p.G73D': 1, 'TET2_p.S1109F': 1, 'MYCN_p.T259I': 1, 'FUBP1_p.G602E': 1, 'KDM5C_p.L115F': 1, 'RPS6KA4_p.S619N': 1, 'NCOA3_p.H1058Y': 1, 'CARD11_p.X1048_splice': 1, 'SRC_p.S190L': 1, 'CSF3R_p.G757S': 1, 'BRCA2_p.G2816S': 1, 'FLT3_p.R170K': 1, 'CCNE1_p.D365N': 1, 'ERCC5_p.E51K': 1, 'BRAF_p.T310I': 1, 'WT1_p.P28S': 1, 'BIRC3_p.A435V': 1, 'DCUN1D1_p.D225N': 1, 'MLL2_p.G4052E': 1, 'ARID2_p.Q1165*': 1, 'EZH1_p.G37S': 1, 'ARID1B_p.Q628*': 1, 'BRIP1_p.S880F': 1, 'SOCS1_p.P36S': 1, 'NF1_p.Q756*': 1, 'CIC_p.G459D': 1, 'NOTCH3_p.G2147S': 1, 'KDM5A_p.S454F': 1, 'KDM6A_p.T379I': 1, 'ABL1_p.P669L': 1, 'FAT1_p.P3228L': 1, 'PMS2_p.R527K': 1, 'TGFBR2_p.A286T': 1, 'IKBKE_p.V114M': 1, 'BCL6_p.P362S': 1, 'DOT1L_p.E56K': 1, 'CIC_p.G821R': 1, 'MSH2_p.A306V': 1, 'JAK1_p.T1036I': 1, 'BRCA2_p.D1210N': 1, 'PTPRS_p.V501M': 1, 'RNF43_p.A169V': 1, 'EPAS1_p.G821D': 1, 'MST1R_p.A166V': 1, 'STAT5A_p.S664N': 1, 'CTNNB1_p.V325I': 1, 'PIK3C3_p.M654I': 1, 'ARID1A_p.S1242N': 1, 'MET_p.L949F': 1, 'KDM6A_p.S1401F': 1, 'ERRFI1_p.Q88*': 1, 'SF3B1_p.R512K': 1, 'NOTCH1_p.G1558E': 1, 'CDC73_p.P349S': 1, 'NF1_p.E1334K': 1, 'RET_p.G546R': 1, 'BRCA1_p.E1214K': 1, 'HGF_p.P187S': 1, 'FANCA_p.E383K': 1, 'POLE_p.D162N': 1, 'EPHA3_p.P375L': 1, 'PAK7_p.A466V': 1, 'ESR1_p.L296F': 1, 'NCOR1_p.X545_splice': 1, 'KIT_p.G102D': 1, 'STAG2_p.C127Y': 1, 'CSF1R_p.A914T': 1, 'ARID1B_p.G733E': 1, 'MEF2B_p.G254D': 1, 'RAD50_p.X1207_splice': 1, 'RNF43_p.S661F': 1, 'ATR_p.G1074E': 1, 'NF1_p.W1997*': 1, 'LATS1_p.G787E': 1, 'FAM175A_p.S406F': 1, 'BAP1_p.V654I': 1, 'TSC2_p.A536V': 1, 'IGF1R_p.G237S': 1, 'CCND1_p.E92K': 1, 'ERCC5_p.E275K': 1, 'TGFBR2_p.V538M': 1, 'NOTCH4_p.G618D': 1, 'RAD51C_p.X49_splice': 1, 'FAT1_p.P1048L': 1, 'ALK_p.G452E': 1, 'PIK3R1_p.X582_splice': 1, 'DICER1_p.W316*': 1, 'RAC2_p.A135T': 1, 'TGFBR1_p.T491I': 1, 'PAX5_p.G378E': 1, 'ATM_p.W488*': 1, 'JAK1_p.W1047*': 1, 'NF1_p.E1181K': 1, 'MCL1_p.P101L': 1, 'BCL6_p.A531V': 1, 'PDGFRA_p.G680E': 1, 'ATR_p.H1258Y': 1, 'JUN_p.P244L': 1, 'TNFRSF14_p.G174E': 1, 'ARID1A_p.P2221S': 1, 'MLH1_p.T270I': 1, 'FH_p.G464E': 1, 'BCOR_p.P605L': 1, 'SMARCD1_p.X59_splice': 1, 'ERCC5_p.E334K': 1, 'SDHAF2_p.R32K': 1, 'PTCH1_p.V477I': 1, 'ESR1_p.P336S': 1, 'ZFHX3_p.P2871L': 1, 'PIK3R3_p.W315*': 1, 'BCOR_p.W791*': 1, 'SPEN_p.P728L': 1, 'PNRC1_p.S161N': 1, 'PTPRS_p.G223D': 1, 'MTOR_p.S1145F': 1, 'ALK_p.G318D': 1, 'CDKN2Ap16INK4A_p.X50_splice': 1, 'ARID2_p.P1621S': 1, 'CASP8_p.P342S': 1, 'KMT2C_p.E267K': 1, 'BARD1_p.Q253*': 1, 'YAP1_p.G467R': 1, 'NEGR1_p.P311S': 1, 'KDR_p.G671E': 1, 'NOTCH1_p.G1513D': 1, 'MSH2_p.Q545*': 1, 'NTRK3_p.X303_splice': 1, 'PTPRD_p.G1430E': 1, 'CREBBP_p.V824M': 1, 'PAK7_p.A546V': 1, 'FLT1_p.E943K': 1, 'FAT1_p.S1681N': 1, 'NEGR1_p.A254V': 1, 'NCOR1_p.X263_splice': 1, 'SESN1_p.R16K': 1, 'RPTOR_p.E689K': 1, 'EIF4A2_p.G192D': 1, 'IGF1R_p.P262S': 1, 'BCOR_p.P777L': 1, 'PTPN11_p.V230I': 1, 'SPEN_p.T2014I': 1, 'IKZF1_p.G231S': 1, 'MCL1_p.P87L': 1, 'ANKRD11_p.P2551S': 1, 'JAK3_p.A692T': 1, 'KDM5C_p.E1527K': 1, 'PLCG2_p.X913_splice': 1, 'PMS1_p.S23N': 1, 'MGA_p.Q721*': 1, 'PARP1_p.G538E': 1, 'INPP4A_p.S400F': 1, 'PTPN11_p.X46_splice': 1, 'CBL_p.G176R': 1, 'ALK_p.G159E': 1, 'PBRM1_p.G939S': 1, 'RAD50_p.E647K': 1, 'NCOR1_p.P617L': 1, 'CREBBP_p.S1582N': 1, 'ROS1_p.R433K': 1, 'HIST1H3C_p.A26T': 1, 'MLL2_p.X5507_splice': 1, 'RASA1_p.X592_splice': 1, 'PIK3CG_p.G692D': 1, 'PIK3CG_p.G159S': 1, 'DNMT1_p.P990L': 1, 'MSI1_p.G213S': 1, 'SLX4_p.T100I': 1, 'SLX4_p.E1816K': 1, 'TSC1_p.G514D': 1, 'KDR_p.G1284E': 1, 'TERT_p.D988N': 1, 'SRSF2_p.G12D': 1, 'MTOR_p.D944N': 1, 'MED12_p.P1965L': 1, 'POLD1_p.E661K': 1, 'TET1_p.A1314T': 1, 'PAX5_p.V302M': 1, 'TP53_p.X332_splice': 1, 'KDM5A_p.A11T': 1, 'PDGFRA_p.E1047K': 1, 'NOTCH3_p.V1656I': 1, 'BRCA1_p.G1138E': 1, 'MAP3K1_p.X279_splice': 1, 'BRCA2_p.P3194L': 1, 'DDR2_p.S344N': 1, 'PRDM1_p.P411L': 1, 'SMO_p.P744S': 1, 'POLD1_p.D376N': 1, 'CREBBP_p.R2195K': 1, 'ATRX_p.E113K': 1, 'NOTCH1_p.L2139F': 1, 'FGFR3_p.P62S': 1, 'ARID2_p.S1181N': 1, 'PIK3CB_p.X133_splice': 1, 'PTPRD_p.G851E': 1, 'MLL_p.E1372K': 1, 'MED12_p.G1458S': 1, 'NOTCH3_p.P2208L': 1, 'FAT1_p.L8F': 1, 'ERRFI1_p.G68E': 1, 'FYN_p.P34L': 1, 'PIK3C2G_p.S1196F': 1, 'EGFR_p.G665D': 1, 'AMER1_p.E263K': 1, 'ROS1_p.G1627D': 1, 'IRS1_p.T453I': 1, 'MST1R_p.W981*': 1, 'MUTYH_p.W461*': 1, 'PAK1_p.E461K': 1, 'MDC1_p.P1703S': 1, 'JUN_p.E227K': 1, 'ARID5B_p.A279T': 1, 'MEN1_p.D320N': 1, 'RAD52_p.D387N': 1, 'DDR2_p.V748M': 1, 'FUBP1_p.G509E': 1, 'NOTCH2_p.P1101L': 1, 'NFE2L2_p.G98E': 1, 'PPP6C_p.S197L': 1, 'NCOR1_p.M1499I': 1, 'PIM1_p.V96M': 1, 'TMEM127_p.A150V': 1, 'TET1_p.P1943L': 1, 'KIT_p.D284N': 1, 'FBXW7_p.E113K': 1, 'IRF4_p.P379S': 1, 'TP53BP1_p.T1416I': 1, 'GRIN2A_p.A651V': 1, 'RECQL4_p.D200N': 1, 'STAT5A_p.P27L': 1, 'FANCA_p.A127T': 1, 'TBX3_p.V324M': 1, 'TSC2_p.E1476K': 1, 'MCL1_p.E180K': 1, 'TSC2_p.X699_splice': 1, 'TP53_p.A364T': 1, 'KMT2C_p.R3350K': 1, 'INSR_p.P951S': 1, 'RPTOR_p.S1167N': 1, 'CREBBP_p.G2262S': 1, 'NCOR1_p.E1607K': 1, 'SMARCB1_p.T325I': 1, 'PARP1_p.V380M': 1, 'HGF_p.G455E': 1, 'EGFR_p.L1139F': 1, 'ERCC3_p.G164E': 1, 'BRCA2_p.L440F': 1, 'PAK1_p.A14V': 1, 'ARID1B_p.P1959S': 1, 'FOXO1_p.A270T': 1, 'ARID1A_p.T2063I': 1, 'PTPRD_p.P735S': 1, 'ID3_p.A88T': 1, 'NBN_p.X690_splice': 1, 'MDM4_p.G77S': 1, 'ASXL2_p.V74I': 1, 'ROS1_p.D839N': 1, 'TAP1_p.A162T': 1, 'LATS1_p.P250L': 1, 'MSH6_p.P462L': 1, 'NFKBIA_p.L277F': 1, 'RRAS2_p.G24D': 1, 'APC_p.S2586N': 1, 'MCL1_p.G311D': 1, 'AXIN1_p.P263L': 1, 'RARA_p.D322N': 1, 'SF3B1_p.V917M': 1, 'MAP2K4_p.X362_splice': 1, 'BIRC3_p.S109F': 1, 'NSD1_p.S54N': 1, 'KDM5A_p.G1631D': 1, 'FAT1_p.G4121R': 1, 'RPS6KA4_p.G40D': 1, 'ARID1B_p.G1807E': 1, 'FLT3_p.P460S': 1, 'EPHA5_p.H1015Y': 1, 'PTPRT_p.V163M': 1, 'ATRX_p.C171Y': 1, 'BRIP1_p.E636K': 1, 'ARID1A_p.W1686*': 1, 'CDK4_p.G224S': 1, 'SRC_p.P491L': 1, 'SDHA_p.G356S': 1, 'MGA_p.G2765E': 1, 'TSC1_p.E981K': 1, 'LATS1_p.D604N': 1, 'PAK1_p.X295_splice': 1, 'ARAF_p.G11E': 1, 'PALB2_p.G232D': 1, 'RTEL1_p.A287T': 1, 'ERCC3_p.A740T': 1, 'POLD1_p.G577D': 1, 'PTPN11_p.A72V': 1, 'CDK12_p.T737I': 1, 'AKT1_p.G478D': 1, 'MLL3_p.V2548I': 1, 'TERT_p.G715D': 1, 'PTCH1_p.S1176F': 1, 'BRCA1_p.V1654M': 1, 'FH_p.G167D': 1, 'INHBA_p.E112K': 1, 'GPS2_p.E55K': 1, 'TP53_p.G105S': 1, 'ERG_p.P275S': 1, 'PMS1_p.E629K': 1, 'KDR_p.G948E': 1, 'CREBBP_p.L59F': 1, 'PIK3C2G_p.E831K': 1, 'KIT_p.P869L': 1, 'NOTCH4_p.A1398T': 1, 'NCOA3_p.G658E': 1, 'ROS1_p.P659L': 1, 'CIC_p.G793D': 1, 'ANKRD11_p.P1706S': 1, 'CDK4_p.P234S': 1, 'MDM2_p.S235N': 1, 'PAK7_p.P619S': 1, 'RBM10_p.A242T': 1, 'RNF43_p.W564*': 1, 'MAP3K1_p.G730D': 1, 'FLT4_p.E1283K': 1, 'SETD2_p.S1730F': 1, 'APC_p.T273I': 1, 'MDC1_p.G1271R': 1, 'KMT2B_p.P1970L': 1, 'NSD1_p.G835S': 1, 'SDHA_p.G439E': 1, 'MST1R_p.A1230V': 1, 'INPP4B_p.A567V': 1, 'ALK_p.G202R': 1, 'MLL2_p.L1926F': 1, 'NOTCH3_p.P2115S': 1, 'SPEN_p.P1858L': 1, 'MSH6_p.G1316R': 1, 'RB1_p.X737_splice': 1, 'HNF1A_p.E332K': 1, 'ARID1A_p.G721D': 1, 'DDR2_p.V605M': 1, 'NOTCH2_p.E494K': 1, 'MGA_p.S667F': 1, 'TET2_p.R1896K': 1, 'E2F3_p.V317I': 1, 'KMT2D_p.G5237E': 1, 'RASA1_p.S742L': 1, 'ICOSLG_p.D176N': 1, 'ARID1B_p.D2015N': 1, 'MSH2_p.A305T': 1, 'MDM2_p.E210K': 1, 'IRS2_p.G310E': 1, 'AXIN1_p.R137K': 1, 'MLL2_p.G4120D': 1, 'FLT4_p.A64V': 1, 'SMARCD1_p.S99F': 1, 'GSK3B_p.S382N': 1, 'FOXA1_p.S95N': 1, 'MAP3K1_p.S609N': 1, 'ALK_p.G934S': 1, 'SMARCA4_p.G1611S': 1, 'CARD11_p.L895F': 1, 'PTPRS_p.A1738V': 1, 'ROS1_p.G1954E': 1, 'SOX2_p.G31D': 1, 'RPTOR_p.P1223L': 1, 'SETD2_p.S725N': 1, 'TEK_p.D912N': 1, 'ALK_p.C95Y': 1, 'EPHB1_p.L73F': 1, 'EP300_p.A13T': 1, 'KMT2C_p.P1884L': 1, 'KMT2B_p.P2244L': 1, 'MPL_p.P572L': 1, 'XPO1_p.E349K': 1, 'ARID1B_p.P1259S': 1, 'CSF1R_p.A36T': 1, 'MST1R_p.P1399L': 1, 'FGFR1_p.G22E': 1, 'RICTOR_p.E249K': 1, 'AXIN1_p.D260N': 1, 'HIST3H3_p.A26T': 1, 'EED_p.D212N': 1, 'CIC_p.G1068D': 1, 'BBC3_p.A133V': 1, 'CDKN1A_p.P79L': 1, 'DICER1_p.S1426N': 1, 'TNFAIP3_p.R71K': 1, 'EP300_p.G1274D': 1, 'CIC_p.A1114T': 1, 'NOTCH4_p.W1813*': 1, 'MRE11A_p.A279T': 1, 'DNMT1_p.V1344M': 1, 'STAT5B_p.P730S': 1, 'NKX2-1_p.G268D': 1, 'PIK3C2G_p.G350R': 1, 'POLD1_p.G106S': 1, 'MLL2_p.G2300E': 1, 'JAK1_p.V502M': 1, 'MUTYH_p.D96N': 1, 'NOTCH1_p.T1243I': 1, 'NOTCH2_p.W2436*': 1, 'PARP1_p.G101E': 1, 'PHOX2B_p.V142I': 1, 'STAT5A_p.P725L': 1, 'NOTCH1_p.G519S': 1, 'NFKBIA_p.G99E': 1, 'ARID1B_p.G168S': 1, 'AURKA_p.T204I': 1, 'STAG2_p.T918I': 1, 'NOTCH2_p.C604Y': 1, 'NBN_p.V243I': 1, 'ABL1_p.G863R': 1, 'MALT1_p.G19E': 1, 'PMS2_p.G154E': 1, 'BRAF_p.T121I': 1, 'EPCAM_p.P257S': 1, 'NSD1_p.G2653E': 1, 'WHSC1_p.W1153*': 1, 'TSC1_p.G560D': 1, 'NF1_p.X997_splice': 1, 'DOT1L_p.A500T': 1, 'CENPA_p.A12V': 1, 'MLL3_p.M4124I': 1, 'KMT2C_p.T3187I': 1, 'ARID2_p.D11N': 1, 'SMAD2_p.E219K': 1, 'ERCC3_p.A41T': 1, 'FAT1_p.G1934D': 1, 'RFWD2_p.S213N': 1, 'IRF4_p.D439N': 1, 'TERT_p.P923S': 1, 'CIC_p.A67V': 1, 'CDK12_p.S318F': 1, 'AR_p.G228D': 1, 'ATM_p.X221_splice': 1, 'ERCC4_p.G773S': 1, 'ARID1B_p.W2014*': 1, 'FAM46C_p.G87S': 1, 'DROSHA_p.E304K': 1, 'TP53_p.G154D': 1, 'PIK3C2G_p.P618S': 1, 'INSR_p.P36S': 1, 'GRIN2A_p.S81N': 1, 'KMT2C_p.P3297L': 1, 'NCOR1_p.X1650_splice': 1, 'TNFAIP3_p.A547T': 1, 'RAD51D_p.V92I': 1, 'KMT2C_p.E3050K': 1, 'PARP1_p.G127R': 1, 'MLL3_p.W1639*': 1, 'KDM5C_p.S732F': 1, 'STAT5B_p.T346I': 1, 'AXL_p.G607D': 1, 'POLD1_p.G184E': 1, 'FLT1_p.G458D': 1, 'FOXO1_p.P547L': 1, 'NTHL1_p.V97I': 1, 'RPS6KA4_p.E334K': 1, 'UPF1_p.A710V': 1, 'CDK12_p.W920*': 1, 'FLT1_p.V9I': 1, 'NTRK2_p.V681I': 1, 'MED12_p.X808_splice': 1, 'KDM5A_p.P1439S': 1, 'TP53_p.E258K': 1, 'EP300_p.V615I': 1, 'IRF4_p.T355I': 1, 'PIK3CG_p.E2K': 1, 'EZH2_p.A505V': 1, 'MDM2_p.G183D': 1, 'PLCG2_p.T943I': 1, 'FLT3_p.D29N': 1, 'LATS1_p.T126I': 1, 'EGFR_p.S1026N': 1, 'ZFHX3_p.A3094T': 1, 'MAP2K2_p.L321F': 1, 'CDH1_p.E534K': 1, 'EZH1_p.X256_splice': 1, 'NF2_p.X225_splice': 1, 'NOTCH1_p.P157L': 1, 'ATM_p.X1331_splice': 1, 'MSH6_p.X1186_splice': 1, 'PRKD1_p.R445K': 1, 'PIK3CA_p.P200S': 1, 'BAP1_p.A138V': 1, 'STAG2_p.D373N': 1, 'ATR_p.E1671K': 1, 'MAP3K13_p.P798L': 1, 'CSF1R_p.E218K': 1, 'SPEN_p.L1422F': 1, 'TSC2_p.P1042S': 1, 'RUNX1_p.P103L': 1, 'NTRK2_p.D600N': 1, 'ERBB3_p.E479K': 1, 'JAK1_p.V1011I': 1, 'PDGFRB_p.V614M': 1, 'ETV1_p.P193S': 1, 'RARA_p.E106K': 1, 'ERCC3_p.G57E': 1, 'PIK3CG_p.A569V': 1, 'ERBB3_p.P604S': 1, 'MSH6_p.G1134E': 1, 'PARP1_p.R779K': 1, 'RYBP_p.S272F': 1, 'BCL2L11_p.E23K': 1, 'INSR_p.E725K': 1, 'NKX2-1_p.D252N': 1, 'MSH2_p.P472L': 1, 'EPHA5_p.S964F': 1, 'TRAF2_p.P449L': 1, 'ROS1_p.X96_splice': 1, 'MAPKAP1_p.E220K': 1, 'TRAF2_p.A368V': 1, 'IGF1R_p.P1307L': 1, 'CASP8_p.L484F': 1, 'JAK3_p.X480_splice': 1, 'FAT1_p.A2403V': 1, 'TP53_p.P64S': 1, 'ERCC2_p.P624S': 1, 'MET_p.R304K': 1, 'ARID1A_p.G922D': 1, 'MED12_p.X1472_splice': 1, 'BRCA2_p.A2756V': 1, 'NCOA3_p.S519F': 1, 'RYBP_p.A222T': 1, 'TMPRSS2_p.G43R': 1, 'FLT4_p.V492M': 1, 'PTPRS_p.A1828V': 1, 'CSF3R_p.T799I': 1, 'MLH1_p.P169S': 1, 'ATM_p.D18N': 1, 'NOTCH1_p.T1077I': 1, 'MGA_p.L2623F': 1, 'PALB2_p.X945_splice': 1, 'PBRM1_p.T301I': 1, 'PRKAR1A_p.X236_splice': 1, 'GRIN2A_p.P1010S': 1, 'LATS2_p.S1015N': 1, 'POLD1_p.A246T': 1, 'MLL2_p.V4358I': 1, 'MUTYH_p.X53_splice': 1, 'SMARCD1_p.G29D': 1, 'RTEL1_p.A1014T': 1, 'EZH2_p.C558Y': 1, 'KDM6A_p.A454V': 1, 'SRC_p.P33L': 1, 'DICER1_p.P1376L': 1, 'FANCA_p.A1380V': 1, 'FAT1_p.S1400N': 1, 'MSH6_p.G448E': 1, 'BRCA2_p.A22T': 1, 'FANCA_p.G284R': 1, 'EIF4E_p.G131E': 1, 'KMT2C_p.G4841E': 1, 'FYN_p.A434T': 1, 'MAX_p.E56K': 1, 'BLM_p.X1070_splice': 1, 'ETV6_p.P373S': 1, 'CIC_p.X1487_splice': 1, 'NF1_p.C1817Y': 1, 'DROSHA_p.P346S': 1, 'MTOR_p.S31N': 1, 'MUTYH_p.V244I': 1, 'PDGFRB_p.A619T': 1, 'PIK3CB_p.G39E': 1, 'FLCN_p.E295K': 1, 'IRS2_p.P680L': 1, 'CIC_p.G122S': 1, 'EGFR_p.W880*': 1, 'CTLA4_p.A66T': 1, 'NOTCH4_p.G1122S': 1, 'KMT2D_p.L2159F': 1, 'SLX4_p.G1350D': 1, 'TRAF7_p.W628*': 1, 'FGFR2_p.P744L': 1, 'MSH2_p.E853K': 1, 'MST1R_p.V520I': 1, 'BRCA1_p.V419I': 1, 'BCOR_p.X1476_splice': 1, 'NOTCH2_p.C1281Y': 1, 'AXIN1_p.T122I': 1, 'DAXX_p.A487T': 1, 'ALOX12B_p.P216S': 1, 'NTRK2_p.W301*': 1, 'DOT1L_p.X599_splice': 1, 'LYN_p.W240*': 1, 'CASP8_p.E109K': 1, 'PTPRT_p.E1161K': 1, 'AURKB_p.E314K': 1, 'STAT5B_p.S722N': 1, 'GNAS_p.X323_splice': 1, 'ERCC2_p.G291R': 1, 'INPP4B_p.P225S': 1, 'BRD4_p.P311S': 1, 'ERBB4_p.D1179N': 1, 'BCL2L1_p.A149T': 1, 'ASXL1_p.Q1074*': 1, 'EGFR_p.X500_splice': 1, 'AKT2_p.G16D': 1, 'ERBB3_p.L1217F': 1, 'HRAS_p.S39F': 1, 'YAP1_p.G296S': 1, 'TBX3_p.S358F': 1, 'IRS2_p.G1292S': 1, 'ARID2_p.X341_splice': 1, 'ZFHX3_p.T3055I': 1, 'PTEN_p.A151V': 1, 'NOTCH4_p.H340Y': 1, 'NOTCH2_p.E760K': 1, 'GLI1_p.G737E': 1, 'BRIP1_p.A267T': 1, 'MSI1_p.S302N': 1, 'FGFR4_p.A593V': 1, 'TERT_p.A918T': 1, 'CDH1_p.P200L': 1, 'ERBB2_p.A466T': 1, 'PMS1_p.S781N': 1, 'NCOA3_p.A1279V': 1, 'SESN2_p.S110F': 1, 'IRS1_p.G661D': 1, 'HIST1H3D_p.G34D': 1, 'TRAF7_p.G286S': 1, 'KMT2A_p.T2235I': 1, 'MLH1_p.E694K': 1, 'ARID1A_p.S702F': 1, 'MEF2B_p.P235L': 1, 'CHEK2_p.A453T': 1, 'FLT4_p.X516_splice': 1, 'STAT3_p.L404F': 1, 'KDR_p.G282E': 1, 'REL_p.S611F': 1, 'RFWD2_p.V602I': 1, 'SETD2_p.G2211E': 1, 'RBM10_p.G401D': 1, 'MED12_p.Q1318*': 1, 'BCOR_p.P670L': 1, 'SPEN_p.T2298I': 1, 'MED12_p.P87S': 1, 'PPP6C_p.T92I': 1, 'UPF1_p.P982S': 1, 'DICER1_p.V173M': 1, 'FLT4_p.T552I': 1, 'MSI1_p.A322T': 1, 'PTEN_p.T26I': 1, 'REL_p.T183I': 1, 'KMT2D_p.G4114E': 1, 'MITF_p.P247L': 1, 'FAT1_p.G943E': 1, 'TSC2_p.W304*': 1, 'SLX4_p.A1727T': 1, 'ZFHX3_p.E486K': 1, 'ERBB3_p.G1280R': 1, 'TET2_p.P1725L': 1, 'NOTCH4_p.P223L': 1, 'JAK2_p.T888I': 1, 'APC_p.S2581N': 1, 'FGFR2_p.Q746*': 1, 'MLL2_p.P2662S': 1, 'NEGR1_p.E200K': 1, 'FOXP1_p.D451N': 1, 'CREBBP_p.V1818M': 1, 'RAD21_p.P286S': 1, 'CD276_p.W22*': 1, 'RAD50_p.M502I': 1, 'BRCA2_p.G3134D': 1, 'ZFHX3_p.A513V': 1, 'MLL3_p.S4626N': 1, 'KMT2C_p.P1970L': 1, 'MLL_p.G382R': 1, 'NOTCH3_p.A789T': 1, 'NTRK1_p.D257N': 1, 'TET1_p.R938K': 1, 'PAK7_p.P308L': 1, 'PTPRS_p.G14D': 1, 'FAT1_p.V389I': 1, 'RAD51C_p.V151M': 1, 'PBRM1_p.P1413S': 1, 'DNMT1_p.P811S': 1, 'XRCC2_p.G113R': 1, 'STAT5B_p.P188S': 1, 'MSH2_p.P507L': 1, 'POLD1_p.G178E': 1, 'CHEK1_p.R74K': 1, 'TERT_p.T328I': 1, 'IRS2_p.P908S': 1, 'ERBB4_p.S853F': 1, 'MLH1_p.G101D': 1, 'TP53_p.W146*': 1, 'BRCA2_p.T1803I': 1, 'MDM4_p.L417F': 1, 'MLL3_p.V1846M': 1, 'MLL2_p.G4071E': 1, 'FOXO1_p.P438L': 1, 'BRCA2_p.D913N': 1, 'FANCA_p.V491M': 1, 'SMO_p.G453S': 1, 'KMT2D_p.G3844D': 1, 'ETV6_p.E226K': 1, 'STAG2_p.T555I': 1, 'MAP2K4_p.L105F': 1, 'PIK3R2_p.W622*': 1, 'PDCD1_p.V171I': 1, 'EPHA7_p.P8S': 1, 'MDM2_p.E263K': 1, 'PLK2_p.P38L': 1, 'APC_p.V312M': 1, 'PTCH1_p.A1130V': 1, 'EPHA7_p.S286F': 1, 'INPP4A_p.S66N': 1, 'PDGFRB_p.P1074L': 1, 'NOTCH1_p.P2161S': 1, 'CREBBP_p.R2417K': 1, 'JAK1_p.E337K': 1, 'SETD2_p.G1687D': 1, 'EPHA5_p.R554K': 1, 'POLD1_p.G230S': 1, 'ERBB3_p.G718D': 1, 'RBM10_p.Q664*': 1, 'RECQL4_p.E1136K': 1, 'ERBB2_p.A375T': 1, 'ARID2_p.W527*': 1, 'ERRFI1_p.S59F': 1, 'RPS6KA4_p.G142R': 1, 'MLH1_p.G244D': 1, 'IL7R_p.A131T': 1, 'ASXL1_p.P1326L': 1, 'INPP4A_p.P783S': 1, 'CDH1_p.E47K': 1, 'XIAP_p.W73*': 1, 'IFNGR1_p.E118K': 1, 'RB1_p.X127_splice': 1, 'EP300_p.G1985E': 1, 'PBRM1_p.G646D': 1, 'MALT1_p.G566R': 1, 'MST1R_p.T572I': 1, 'REL_p.G201R': 1, 'FAM175A_p.A41V': 1, 'PDGFRB_p.A1096T': 1, 'CXCR4_p.L91F': 1, 'APC_p.E1150K': 1, 'FAT1_p.A4305T': 1, 'ERG_p.G459D': 1, 'CD274_p.R82K': 1, 'CREBBP_p.X405_splice': 1, 'CD274_p.V225I': 1, 'STAT5A_p.G791S': 1, 'KMT2B_p.G2623E': 1, 'EZH2_p.R509K': 1, 'RXRA_p.P74L': 1, 'RPTOR_p.D598N': 1, 'INSR_p.L1065F': 1, 'KDM5A_p.L1037F': 1, 'INHBA_p.E266K': 1, 'FLT4_p.A359T': 1, 'PREX2_p.E1516K': 1, 'ROS1_p.G1778E': 1, 'RPS6KB2_p.X206_splice': 1, 'ABL1_p.S977N': 1, 'SETD2_p.A1591V': 1, 'FOXP1_p.L156F': 1, 'TP53BP1_p.G107D': 1, 'PIK3CG_p.A719V': 1, 'PIK3CB_p.G194E': 1, 'MAPK1_p.H141Y': 1, 'ATRX_p.R1050K': 1, 'DOT1L_p.G1358D': 1, 'ARAF_p.W384*': 1, 'SETD8_p.P10L': 1, 'RFWD2_p.P334L': 1, 'PLCG2_p.P433L': 1, 'MAP3K1_p.P991S': 1, 'MUTYH_p.E59K': 1, 'PARP1_p.A543T': 1, 'AKT1_p.W22*': 1, 'CIC_p.G1198E': 1, 'ARID1B_p.S603N': 1, 'FGFR3_p.P304S': 1, 'ARID2_p.E1817K': 1, 'IGF1_p.D60N': 1, 'MLL3_p.L1637F': 1, 'BRAF_p.G596D': 1, 'CD79B_p.C123Y': 1, 'INSR_p.G910S': 1, 'ASXL2_p.P1301S': 1, 'MSH6_p.P656L': 1, 'PREX2_p.T868I': 1, 'FGF19_p.R157K': 1, 'ACVR1_p.G264D': 1, 'CDKN2Ap14ARF_p.P75S': 1, 'PAX5_p.G25E': 1, 'MLL_p.M3159I': 1, 'BRCA2_p.S1461F': 1, 'MLL2_p.P3448S': 1, 'TOP1_p.W217*': 1, 'PIK3CG_p.E187K': 1, 'DNMT1_p.A17T': 1, 'PLCG2_p.P570L': 1, 'CUL3_p.A755T': 1, 'SOX2_p.G190D': 1, 'KDM5A_p.P1672L': 1, 'HIST1H3B_p.M1?': 1, 'KMT2D_p.S2521F': 1, 'BCOR_p.G110S': 1, 'ANKRD11_p.E226K': 1, 'XIAP_p.G76E': 1, 'KDM5C_p.V481M': 1, 'EPHA3_p.T485I': 1, 'MYD88_p.A176V': 1, 'TSC1_p.A944V': 1, 'RXRA_p.G255R': 1, 'ARID1A_p.G945R': 1, 'ERBB2_p.A1159V': 1, 'BCOR_p.E1174K': 1, 'MAP2K2_p.G28S': 1, 'IL7R_p.V374I': 1, 'FAT1_p.G1717R': 1, 'FUBP1_p.G288D': 1, 'KMT2B_p.R1911K': 1, 'GRIN2A_p.V509I': 1, 'NOTCH3_p.P2239L': 1, 'IKBKE_p.X76_splice': 1, 'MLL_p.P1320S': 1, 'SH2B3_p.H500Y': 1, 'CSF3R_p.S30N': 1, 'IRS1_p.P376L': 1, 'POLD1_p.D175N': 1, 'KMT2D_p.A5042V': 1, 'PALB2_p.V925M': 1, 'SPOP_p.P362L': 1, 'APC_p.G2407D': 1, 'FBXW7_p.S142N': 1, 'FANCA_p.V1432M': 1, 'RPTOR_p.P528L': 1, 'SESN2_p.X179_splice': 1, 'TSC2_p.A302T': 1, 'MAP3K1_p.P890S': 1, 'CRKL_p.V238I': 1, 'SMO_p.G16E': 1, 'SDHAF2_p.W121*': 1, 'PIK3C3_p.C13Y': 1, 'ERBB3_p.G350E': 1, 'HGF_p.P81S': 1, 'NCOR1_p.E1077K': 1, 'NOTCH1_p.X1880_splice': 1, 'CIC_p.P987L': 1, 'NCOR1_p.S834F': 1, 'RTEL1_p.G654R': 1, 'DAXX_p.E214K': 1, 'NUP93_p.A625T': 1, 'PMS1_p.E770K': 1, 'EGFR_p.G331R': 1, 'CSF1R_p.X243_splice': 1, 'PTPRS_p.X1788_splice': 1, 'BIRC3_p.R555K': 1, 'SPEN_p.G3004E': 1, 'BABAM1_p.G275S': 1, 'MST1_p.D716N': 1, 'KMT2D_p.D1458N': 1, 'SOX9_p.G233S': 1, 'DROSHA_p.H417Y': 1, 'CDKN2C_p.L21F': 1, 'NF1_p.X160_splice': 1, 'APC_p.R1607K': 1, 'KMT2B_p.P938S': 1, 'NCOA3_p.R377K': 1, 'ERBB3_p.D1014N': 1, 'KMT2A_p.X3716_splice': 1, 'LATS2_p.P201S': 1, 'KMT2D_p.W1469*': 1, 'ERBB4_p.T461I': 1, 'SLX4_p.G1738E': 1, 'MGA_p.G797R': 1, 'SPEN_p.E1125K': 1, 'PTCH1_p.S1089F': 1, 'SF3B1_p.V791M': 1, 'CREBBP_p.P1110L': 1, 'FOXO1_p.P479S': 1, 'HNF1A_p.A406T': 1, 'BRCA2_p.E510K': 1, 'NF1_p.W223*': 1, 'MLH1_p.T345I': 1, 'BCOR_p.D1340N': 1, 'BTK_p.E301K': 1, 'MLL_p.G1537E': 1, 'ZFHX3_p.P3656S': 1, 'AKT1_p.G10D': 1, 'H3F3C_p.A8V': 1, 'MLL2_p.V4782M': 1, 'RB1_p.V493I': 1, 'ARID2_p.A1250T': 1, 'BRCA2_p.D2983N': 1, 'TET2_p.A1779V': 1, 'SPEN_p.T2275I': 1, 'ERCC4_p.R797K': 1, 'STK19_p.W285*': 1, 'CREBBP_p.P1488L': 1, 'ATRX_p.A173V': 1, 'NF1_p.X750_splice': 1, 'NOTCH3_p.X345_splice': 1, 'SDHAF2_p.E150K': 1, 'KMT2C_p.P3998S': 1, 'SMO_p.T623I': 1, 'ATM_p.C1831Y': 1, 'ETV1_p.P304S': 1, 'ALOX12B_p.G311E': 1, 'ASXL1_p.A671T': 1, 'ABL1_p.G705D': 1, 'PLCG2_p.X329_splice': 1, 'HOXB13_p.P32L': 1, 'FGFR3_p.V555M': 1, 'TSC2_p.W896*': 1, 'ANKRD11_p.P1557L': 1, 'FBXW7_p.E569K': 1, 'KDR_p.X991_splice': 1, 'GPS2_p.P156S': 1, 'PTPRS_p.X1926_splice': 1, 'PRDM1_p.E80K': 1, 'NUF2_p.R131K': 1, 'NOTCH1_p.T2382I': 1, 'CDKN1B_p.P24S': 1, 'SPEN_p.A3049T': 1, 'SETD2_p.P2455S': 1, 'IKBKE_p.A245V': 1, 'ATR_p.G492E': 1, 'ROS1_p.P221S': 1, 'RAD51C_p.E59K': 1, 'PAK7_p.G605D': 1, 'STAG2_p.V1211I': 1, 'NOTCH2_p.S1388N': 1, 'NOTCH4_p.P912S': 1, 'TRAF7_p.V194I': 1, 'PPP6C_p.G211R': 1, 'MDM4_p.G57D': 1, 'MGA_p.S1195F': 1, 'MET_p.P1283S': 1, 'MLL2_p.P976S': 1, 'DUSP4_p.G42D': 1, 'SMARCA4_p.E1574K': 1, 'ERCC4_p.A596T': 1, 'PPM1D_p.E111K': 1, 'DICER1_p.R45K': 1, 'FH_p.X246_splice': 1, 'MSH6_p.P838S': 1, 'BRIP1_p.G529E': 1, 'PTCH1_p.G509D': 1, 'MSH2_p.X426_splice': 1, 'BRD4_p.P297S': 1, 'ERBB3_p.D165N': 1, 'ASXL1_p.G192D': 1, 'JAK1_p.E1029K': 1, 'TCF3_p.S229N': 1, 'MITF_p.P492S': 1, 'ZFHX3_p.G182E': 1, 'RTEL1_p.G1080S': 1, 'PBRM1_p.E742K': 1, 'MSH6_p.Q177*': 1, 'NBN_p.G136E': 1, 'SHQ1_p.A527V': 1, 'JUN_p.Q321*': 1, 'SUZ12_p.G65E': 1, 'NTRK2_p.H134Y': 1, 'KMT2B_p.P2124L': 1, 'TSC1_p.T643I': 1, 'FOXO1_p.E242K': 1, 'INPPL1_p.Q349*': 1, 'SMO_p.V536I': 1, 'PLCG2_p.A656T': 1, 'FOXL2_p.R74K': 1, 'DOT1L_p.A478T': 1, 'RAF1_p.L510F': 1, 'SMAD3_p.W94*': 1, 'EPHA3_p.P422L': 1, 'NEGR1_p.E246K': 1, 'NCOR1_p.G1257R': 1, 'FGFR3_p.X310_splice': 1, 'GNAQ_p.G74D': 1, 'SOX17_p.P351S': 1, 'AGO2_p.P323S': 1, 'ERCC3_p.E196K': 1, 'CSF3R_p.P775S': 1, 'ARID1B_p.Q596*': 1, 'SPEN_p.Q2946*': 1, 'MAPK1_p.P23S': 1, 'TET2_p.E1401K': 1, 'POLE_p.G1720S': 1, 'DICER1_p.S1922N': 1, 'EP300_p.P2347S': 1, 'CSF3R_p.E206K': 1, 'AXIN2_p.G214R': 1, 'RNF43_p.A438T': 1, 'MGA_p.E2353K': 1, 'JAK1_p.S571N': 1, 'PIK3CD_p.E513K': 1, 'TBX3_p.A530V': 1, 'AURKA_p.P328S': 1, 'MEF2B_p.P198S': 1, 'AR_p.E666K': 1, 'ATRX_p.E2333K': 1, 'APC_p.A1884T': 1, 'NFE2L2_p.E79K': 1, 'KMT2D_p.X5508_splice': 1, 'PMS1_p.P775L': 1, 'DNMT3A_p.P904S': 1, 'ROS1_p.E2153K': 1, 'CUL3_p.G578E': 1, 'INHA_p.G15D': 1, 'POLE_p.A1022T': 1, 'ALK_p.G932E': 1, 'LATS1_p.G253S': 1, 'KMT2B_p.W1030*': 1, 'PGR_p.E391K': 1, 'PTPRS_p.E469K': 1, 'MSH6_p.G1148D': 1, 'FAT1_p.L2694F': 1, 'RAD21_p.E301K': 1, 'NPM1_p.C104Y': 1, 'AXIN1_p.G639E': 1, 'DOT1L_p.P367L': 1, 'TP53BP1_p.V1212I': 1, 'TP53_p.C238Y': 1, 'HNF1A_p.E235K': 1, 'SPRED1_p.P230L': 1, 'CDH1_p.S543F': 1, 'RAC1_p.G30E': 1, 'SMARCA4_p.P16S': 1, 'PTPN11_p.A376V': 1, 'IRF4_p.G5S': 1, 'ARID1A_p.G694D': 1, 'IRS1_p.V619M': 1, 'FLT1_p.X54_splice': 1, 'MEN1_p.X309_splice': 1, 'PIK3C2G_p.Q326*': 1, 'RAD21_p.R384K': 1, 'ARID1B_p.P277S': 1, 'EP300_p.X428_splice': 1, 'SMO_p.G277S': 1, 'ARAF_p.D75N': 1, 'ARID5B_p.E808K': 1, 'GATA2_p.G132R': 1, 'ZFHX3_p.E1078K': 1, 'MLL3_p.A4675T': 1, 'EIF4E_p.E40K': 1, 'SMARCB1_p.T205I': 1, 'HOXB13_p.S171F': 1, 'SUFU_p.G33E': 1, 'ATRX_p.A1822T': 1, 'PTPRT_p.G905S': 1, 'TET1_p.G1890D': 1, 'CCND1_p.R235K': 1, 'TP63_p.S41F': 1, 'SDHA_p.E218K': 1, 'TP53BP1_p.E1277K': 1, 'MLL3_p.P3561S': 1, 'MED12_p.A78T': 1, 'RFWD2_p.P16S': 1, 'PMS1_p.T254I': 1, 'ATRX_p.S1251F': 1, 'ROS1_p.G978D': 1, 'RECQL4_p.G300R': 1, 'FAT1_p.W4388*': 1, 'PIK3R3_p.T409I': 1, 'ARID2_p.G215R': 1, 'ALK_p.S430F': 1, 'NCOA3_p.P1346S': 1, 'NF2_p.V589M': 1, 'SMARCA4_p.T961I': 1, 'HLA-A_p.G310S': 1, 'TP63_p.P404L': 1, 'KEAP1_p.G9E': 1, 'MYOD1_p.X237_splice': 1, 'SLX4_p.G642E': 1, 'JUN_p.G319E': 1, 'ZRSR2_p.R87K': 1, 'AMER1_p.D1050N': 1, 'ASXL2_p.D275N': 1, 'SPEN_p.P3188S': 1, 'SOX9_p.P153S': 1, 'PIK3R3_p.A368T': 1, 'CTNNB1_p.V617I': 1, 'ATRX_p.D1540N': 1, 'INPP4A_p.T129I': 1, 'CDK8_p.P186L': 1, 'TCF3_p.L332F': 1, 'ZFHX3_p.A1427T': 1, 'BRCA2_p.D125N': 1, 'PAX5_p.G314E': 1, 'FOXO1_p.G625E': 1, 'MEF2B_p.P243L': 1, 'RICTOR_p.X1467_splice': 1, 'SH2B3_p.G517R': 1, 'JAK1_p.V36M': 1, 'MLL_p.L499F': 1, 'NCOA3_p.S866L': 1, 'NSD1_p.T2052I': 1, 'PTPRT_p.S1458N': 1, 'KLF4_p.S373F': 1, 'DOT1L_p.A1345T': 1, 'CREBBP_p.A1870T': 1, 'MLL_p.G109S': 1, 'ATM_p.E2837K': 1, 'BRCA1_p.S850N': 1, 'ERRFI1_p.P196S': 1, 'CCND1_p.T156I': 1, 'CDC73_p.P350S': 1, 'NOTCH1_p.V2079M': 1, 'RAD51C_p.R292K': 1, 'FLT3_p.W464*': 1, 'BARD1_p.R705K': 1, 'NSD1_p.P2223S': 1, 'LATS1_p.G195E': 1, 'ZFHX3_p.G2767E': 1, 'ARID1A_p.A1304V': 1, 'RTEL1_p.X624_splice': 1, 'ERRFI1_p.G230R': 1, 'PGR_p.P470S': 1, 'INPP4A_p.P588S': 1, 'APC_p.R1435K': 1, 'NOTCH1_p.P1231S': 1, 'NTRK2_p.X143_splice': 1, 'SPEN_p.E619K': 1, 'GRIN2A_p.A1037T': 1, 'NOTCH3_p.G1104E': 1, 'EPHA5_p.S514N': 1, 'SMYD3_p.G15E': 1, 'POLE_p.A966T': 1, 'NSD1_p.S117N': 1, 'ANKRD11_p.G504R': 1, 'SESN1_p.S73F': 1, 'LATS2_p.T176I': 1, 'ASXL2_p.W131*': 1, 'IRS1_p.G234E': 1, 'ARID1A_p.T1987I': 1, 'RAD50_p.Q859*': 1, 'CDK6_p.G50D': 1, 'MYC_p.P328L': 1, 'ALOX12B_p.S661N': 1, 'NF1_p.V1019I': 1, 'INSR_p.A1063T': 1, 'ERCC3_p.E727K': 1, 'ZFHX3_p.A2054T': 1, 'MAP3K13_p.T224I': 1, 'CREBBP_p.A2170T': 1, 'MET_p.A986V': 1, 'NSD1_p.S2364F': 1, 'PTCH1_p.P1279L': 1, 'TCF3_p.A493T': 1, 'TNFRSF14_p.T196I': 1, 'STK11_p.G52R': 1, 'SOS1_p.P1236L': 1, 'SPEN_p.G1376D': 1, 'FYN_p.S304F': 1, 'SDHA_p.S268F': 1, 'SOX17_p.L214F': 1, 'KMT2B_p.S2420N': 1, 'PIK3CD_p.G330S': 1, 'AXIN2_p.P364S': 1, 'KDR_p.V533I': 1, 'MSH6_p.V110I': 1, 'INSR_p.E1017K': 1, 'TGFBR2_p.X113_splice': 1, 'ZFHX3_p.A3143V': 1, 'TCF3_p.A131T': 1, 'MLL_p.E390K': 1, 'MED12_p.G285R': 1, 'DNMT3B_p.A142T': 1, 'DOT1L_p.A612T': 1, 'CDKN2C_p.A127V': 1, 'MAP3K1_p.A1417T': 1, 'BLM_p.G96E': 1, 'PMS1_p.X195_splice': 1, 'ASXL1_p.G296R': 1, 'MRE11A_p.X339_splice': 1, 'NF1_p.A776V': 1, 'TNFAIP3_p.P450S': 1, 'HIST1H1C_p.P128L': 1, 'MST1_p.X81_splice': 1, 'SOS1_p.P1179S': 1, 'KMT2D_p.P2197L': 1, 'BARD1_p.P392S': 1, 'NOTCH4_p.S79N': 1, 'DNMT1_p.E261K': 1, 'YAP1_p.A239V': 1, 'INPP4A_p.G814D': 1, 'KMT2D_p.G1596D': 1, 'ARID1A_p.A343T': 1, 'FBXW7_p.L6F': 1, 'ROS1_p.A347T': 1, 'TGFBR1_p.A265T': 1, 'NCOA3_p.P215S': 1, 'ATRX_p.P2218L': 1, 'AXIN1_p.P218L': 1, 'TET1_p.P1596S': 1, 'KMT2C_p.P2607S': 1, 'MGA_p.E1129K': 1, 'ARID2_p.T1509I': 1, 'AXL_p.A310T': 1, 'MSH2_p.Q314*': 1, 'PTEN_p.A333T': 1, 'PAK7_p.S246F': 1, 'MPL_p.V368M': 1, 'CREBBP_p.P1878L': 1, 'ARID1A_p.T1496I': 1, 'IRS1_p.E200K': 1, 'PNRC1_p.G87R': 1, 'BRCA1_p.X1453_splice': 1, 'ABL1_p.V1056M': 1, 'RAD54L_p.G17S': 1, 'TP53BP1_p.X64_splice': 1, 'JAK3_p.A1068V': 1, 'EGFR_p.G221E': 1, 'RECQL4_p.G809E': 1, 'RET_p.R171K': 1, 'NOTCH3_p.T2284I': 1, 'MYD88_p.S29F': 1, 'ZFHX3_p.P3212S': 1, 'RAF1_p.G366D': 1, 'RAC1_p.X75_splice': 1, 'FYN_p.G83E': 1, 'FOXA1_p.P326L': 1, 'BRIP1_p.X447_splice': 1, 'ASXL2_p.A1205V': 1, 'ARID2_p.A1107V': 1, 'NOTCH2_p.P2322S': 1, 'BAP1_p.S287L': 1, 'ATR_p.E1988K': 1, 'CDH1_p.P804S': 1, 'CREBBP_p.S191N': 1, 'FANCC_p.P282L': 1, 'BCL6_p.V162M': 1, 'TP63_p.S395F': 1, 'TGFBR1_p.V279M': 1, 'XPO1_p.G184E': 1, 'EP300_p.P2111L': 1, 'ZFHX3_p.T2109I': 1, 'RAD21_p.T144I': 1, 'JAK2_p.S703N': 1, 'CIC_p.A1315V': 1, 'CDC73_p.P462S': 1, 'AKT1_p.P70L': 1, 'FANCA_p.A233T': 1, 'JAK2_p.E334K': 1, 'SPRED1_p.A134T': 1, 'CIC_p.T670I': 1, 'CDC73_p.G49D': 1, 'MDM2_p.G223E': 1, 'HLA-B_p.E197K': 1, 'TEK_p.L888F': 1, 'TBX3_p.D429N': 1, 'ATR_p.G19S': 1, 'UPF1_p.T726I': 1, 'RARA_p.G301D': 1, 'TP53_p.P278L': 1, 'BRAF_p.X709_splice': 1, 'PNRC1_p.P172L': 1, 'FYN_p.G237S': 1, 'ANKRD11_p.T2544I': 1, 'AXL_p.A887T': 1, 'NF1_p.C397Y': 1, 'PIK3CA_p.S464L': 1, 'AXIN2_p.E563K': 1, 'KDM6A_p.P847S': 1, 'POLD1_p.G702D': 1, 'IRF4_p.G20D': 1, 'JAK3_p.A1046V': 1, 'EP300_p.L1471F': 1, 'FUBP1_p.X347_splice': 1, 'MLL2_p.G1421S': 1, 'SESN3_p.D395N': 1, 'HIST1H3C_p.A48T': 1, 'TCF7L2_p.D486N': 1, 'SETD2_p.S1276N': 1, 'TERT_p.G932D': 1, 'KIT_p.G286E': 1, 'POLE_p.G2136D': 1, 'SLX4_p.D661N': 1, 'RAD52_p.A289T': 1, 'IGF1_p.X21_splice': 1, 'NFE2L2_p.Q181*': 1, 'MGA_p.S1957N': 1, 'CTLA4_p.G125R': 1, 'ATR_p.L107F': 1, 'PMS2_p.G108E': 1, 'CREBBP_p.P2331L': 1, 'NF1_p.X1575_splice': 1, 'KDR_p.W610*': 1, 'SMO_p.P153L': 1, 'ATR_p.E1423K': 1, 'ATRX_p.E1897K': 1, 'PIK3R2_p.X139_splice': 1, 'DNMT1_p.G857E': 1, 'ASXL1_p.D1000N': 1, 'LATS1_p.P312S': 1, 'PTPRD_p.X1138_splice': 1, 'FAM175A_p.S174F': 1, 'TSC2_p.P903L': 1, 'EGFR_p.G810S': 1, 'MST1_p.V688I': 1, 'ZFHX3_p.P71L': 1, 'PIK3CD_p.A845T': 1, 'NCOA3_p.E931K': 1, 'KEAP1_p.E542K': 1, 'KMT2B_p.P1446S': 1, 'FGFR4_p.L409F': 1, 'FANCC_p.A513T': 1, 'RTEL1_p.S618N': 1, 'IKZF1_p.E385K': 1, 'CIC_p.P690L': 1, 'ARID2_p.G998E': 1, 'BBC3_p.L245F': 1, 'PTPN11_p.P491L': 1, 'SPEN_p.G3470E': 1, 'INSR_p.A537T': 1, 'MET_p.P814S': 1, 'MLL3_p.X540_splice': 1, 'CIC_p.S12F': 1, 'KDM5A_p.G1668D': 1, 'IGF2_p.D132N': 1, 'ARID1A_p.P94L': 1, 'CDK12_p.P1269L': 1, 'IRS2_p.P1140S': 1, 'SESN1_p.W415*': 1, 'PIK3R3_p.E74K': 1, 'PIK3CA_p.G1050D': 1, 'ATR_p.X2074_splice': 1, 'TSHR_p.S266F': 1, 'JAK1_p.R629K': 1, 'GSK3B_p.S147N': 1, 'TP63_p.P146L': 1, 'FOXO1_p.D629N': 1, 'RIT1_p.P210S': 1, 'MAP3K1_p.Q752*': 1, 'AURKB_p.X69_splice': 1, 'BRIP1_p.D898N': 1, 'PLCG2_p.Q477*': 1, 'ZFHX3_p.D312N': 1, 'AR_p.L831F': 1, 'PLCG2_p.T983I': 1, 'HIST1H3D_p.T23I': 1, 'U2AF1_p.E184K': 1, 'PTPRD_p.E274K': 1, 'RNF43_p.E742K': 1, 'HGF_p.T501I': 1, 'ARID1A_p.S254F': 1, 'CCND2_p.T119I': 1, 'SPEN_p.Q2925*': 1, 'ANKRD11_p.A1242T': 1, 'RPS6KA4_p.G631R': 1, 'AKT2_p.A143T': 1, 'ARID2_p.P1518S': 1, 'TRAF2_p.S5N': 1, 'KIT_p.A617T': 1, 'NOTCH1_p.D1790N': 1, 'REL_p.P76L': 1, 'DNMT3A_p.G150S': 1, 'TERT_p.R657K': 1, 'ZFHX3_p.L3434F': 1, 'ERCC2_p.G665D': 1, 'AR_p.A680T': 1, 'HIST1H3J_p.A8T': 1, 'ZFHX3_p.P427S': 1, 'CREBBP_p.A1739V': 1, 'KMT2A_p.G1691R': 1, 'KLF4_p.D104N': 1, 'IRS1_p.P346S': 1, 'IRS1_p.G628D': 1, 'SPEN_p.S727N': 1, 'NCOR1_p.G1553D': 1, 'FLT1_p.L663F': 1, 'GNAS_p.G225S': 1, 'PDCD1_p.P287L': 1, 'ASXL1_p.G792D': 1, 'RRAS_p.E147K': 1, 'DROSHA_p.P667S': 1, 'INPP4B_p.G7E': 1, 'GSK3B_p.A22T': 1, 'PTCH1_p.G345D': 1, 'KMT2C_p.A2254T': 1, 'KDM5C_p.A855T': 1, 'KMT2C_p.L4219F': 1, 'CD274_p.G159D': 1, 'JAK2_p.P279L': 1, 'KMT2D_p.E40K': 1, 'PTCH1_p.E947K': 1, 'RPS6KA4_p.G120D': 1, 'TSC2_p.X216_splice': 1, 'FAT1_p.P1137S': 1, 'IRS2_p.S450F': 1, 'FANCC_p.A285T': 1, 'FBXW7_p.G61E': 1, 'CREBBP_p.S1754N': 1, 'TCF3_p.P231S': 1, 'RTEL1_p.G431S': 1, 'MGA_p.P2630S': 1, 'EP300_p.L1360F': 1, 'KDR_p.T298I': 1, 'NCOR1_p.P2426L': 1, 'PDPK1_p.W500*': 1, 'SHQ1_p.D264N': 1, 'FGFR1_p.P66L': 1, 'CIC_p.P1153S': 1, 'INSR_p.E1339K': 1, 'FLT1_p.G22E': 1, 'ABL1_p.P978S': 1, 'UPF1_p.A878T': 1, 'IGF2_p.T142I': 1, 'ARID1A_p.G2190S': 1, 'FAT1_p.S541L': 1, 'EP300_p.V2070M': 1, 'NF2_p.D237N': 1, 'FGFR2_p.P407S': 1, 'MSH6_p.T1247I': 1, 'KMT2D_p.P196S': 1, 'MDC1_p.P67L': 1, 'MSH6_p.G881D': 1, 'SMAD2_p.W448*': 1, 'FAM46C_p.E136K': 1, 'NSD1_p.P1781L': 1, 'ERCC3_p.X577_splice': 1, 'TSHR_p.P126S': 1, 'POLE_p.A1126T': 1, 'BRIP1_p.P1068L': 1, 'DIS3_p.V846I': 1, 'WHSC1L1_p.G44D': 1, 'CDKN2C_p.A41T': 1, 'H3F3B_p.A22T': 1, 'PTCH1_p.Q242*': 1, 'KIT_p.G445E': 1, 'ABL1_p.R166K': 1, 'TET1_p.V128I': 1, 'PPP4R2_p.R316K': 1, 'PARP1_p.V39M': 1, 'FANCA_p.D953N': 1, 'HOXB13_p.W263*': 1, 'PGR_p.X546_splice': 1, 'RTEL1_p.P911L': 1, 'PPM1D_p.P399S': 1, 'SMARCA4_p.P324S': 1, 'PDGFRA_p.P32S': 1, 'IGF2_p.C127Y': 1, 'TP53_p.G199E': 1, 'ZFHX3_p.A1409V': 1, 'ERCC5_p.S633F': 1, 'MSH6_p.W970*': 1, 'RRAGC_p.A316T': 1, 'CIC_p.V1070M': 1, 'RRAGC_p.G50D': 1, 'CREBBP_p.A924T': 1, 'ZRSR2_p.E91K': 1, 'MDC1_p.E409K': 1, 'CIC_p.G348D': 1, 'BRCA2_p.E1375K': 1, 'DICER1_p.S839F': 1, 'ZFHX3_p.D956N': 1, 'RICTOR_p.R563K': 1, 'MTOR_p.A974T': 1, 'ABL1_p.T597I': 1, 'INPP4A_p.P576S': 1, 'NOTCH1_p.C911Y': 1, 'EPHA3_p.A804T': 1, 'TP53BP1_p.S726N': 1, 'PDGFRB_p.E97K': 1, 'SOX9_p.G459S': 1, 'MLL4_p.G943R': 1, 'CHEK2_p.D218N': 1, 'MCL1_p.G17E': 1, 'PBRM1_p.X271_splice': 1, 'INSR_p.G1048S': 1, 'ARID5B_p.V110I': 1, 'NOTCH3_p.W1412*': 1, 'CHEK1_p.E33K': 1, 'KDM5C_p.A1025T': 1, 'KMT2A_p.P2122L': 1, 'BRCA1_p.M751I': 1, 'PIK3R2_p.A713T': 1, 'APC_p.S1042N': 1, 'ZFHX3_p.S3482N': 1, 'PREX2_p.S257F': 1, 'TOP1_p.E255K': 1, 'POLE_p.D2178N': 1, 'CDK8_p.D392N': 1, 'EPHA5_p.L812F': 1, 'DNAJB1_p.R331K': 1, 'PTCH1_p.P1182S': 1, 'KIT_p.P944L': 1, 'MGA_p.P2131S': 1, 'RPTOR_p.G702E': 1, 'PLCG2_p.S1172N': 1, 'IGF2_p.G41D': 1, 'FAT1_p.P4216S': 1, 'INSR_p.P336S': 1, 'CDKN2C_p.G81D': 1, 'RPS6KB2_p.A181T': 1, 'SMARCA4_p.G163R': 1, 'CREBBP_p.S2322L': 1, 'POLD1_p.X67_splice': 1, 'CUL3_p.V237I': 1, 'MGA_p.P1744S': 1, 'FH_p.A475T': 1, 'PAX5_p.P286S': 1, 'NF1_p.Q963*': 1, 'EPHA3_p.W924*': 1, 'SMO_p.E224K': 1, 'MITF_p.S35N': 1, 'NKX2-1_p.A310V': 1, 'DNMT1_p.P129L': 1, 'MRE11A_p.G578D': 1, 'KDM5A_p.E12K': 1, 'CBL_p.A304V': 1, 'MDC1_p.V940M': 1, 'ARID1A_p.G1222E': 1, 'CDC73_p.D390N': 1, 'CIC_p.A900V': 1, 'PTPRS_p.V303I': 1, 'EPHA7_p.R139K': 1, 'MTOR_p.P551L': 1, 'MLH1_p.P640L': 1, 'BRD4_p.P230S': 1, 'ARID1B_p.E1066K': 1, 'MET_p.T1006I': 1, 'ASXL2_p.V314I': 1, 'MDM4_p.G252E': 1, 'KMT2C_p.A2401T': 1, 'BRCA1_p.G200R': 1, 'HIST1H2BD_p.E106K': 1, 'ERG_p.P251S': 1, 'RAD50_p.W1151*': 1, 'FANCA_p.P201S': 1, 'LATS2_p.V762I': 1, 'BRCA2_p.E1695K': 1, 'SMAD4_p.X142_splice': 1, 'CDH1_p.A34V': 1, 'CARD11_p.X603_splice': 1, 'WHSC1L1_p.E728K': 1, 'ZFHX3_p.T3278I': 1, 'DDR2_p.E361K': 1, 'NPM1_p.G91S': 1, 'FYN_p.V324I': 1, 'LATS2_p.P256S': 1, 'KMT2C_p.A1603T': 1, 'CTNNB1_p.A759T': 1, 'RNF43_p.P589S': 1, 'PDGFRB_p.P584S': 1, 'GATA2_p.H243Y': 1, 'BRD4_p.S692F': 1, 'NOTCH3_p.S2299F': 1, 'TGFBR2_p.A335T': 1, 'GLI1_p.L847F': 1, 'MYCN_p.D272N': 1, 'CUL3_p.V200I': 1, 'NF1_p.A1879V': 1, 'ASXL2_p.G79R': 1, 'NOTCH3_p.A1708V': 1, 'PIM1_p.Q252*': 1, 'RRAS_p.P153L': 1, 'ARID1B_p.S645F': 1, 'TNFRSF14_p.P172L': 1, 'NF1_p.D1556N': 1, 'STK11_p.A318T': 1, 'RAD51C_p.E375K': 1, 'KMT2A_p.S1271N': 1, 'ROS1_p.G2136E': 1, 'TSC1_p.E446K': 1, 'TSC2_p.T603I': 1, 'TET2_p.A1604T': 1, 'NSD1_p.W2625*': 1, 'ASXL2_p.D609N': 1, 'RAD21_p.T289I': 1, 'NSD1_p.S830N': 1, 'TAP1_p.P402S': 1, 'DOT1L_p.D1082N': 1, 'BCL6_p.G654R': 1, 'TERT_p.A750V': 1, 'TERT_p.P702S': 1, 'MLL_p.S2136F': 1, 'FGFR3_p.A665V': 1, 'HOXB13_p.P158S': 1, 'MLL3_p.P2168L': 1, 'IKBKE_p.P264L': 1, 'PTPRT_p.M817I': 1, 'RPS6KA4_p.G143D': 1, 'MUTYH_p.W249*': 1, 'RNF43_p.W13*': 1, 'BRD4_p.X404_splice': 1, 'MYC_p.P78S': 1, 'PLCG2_p.S679F': 1, 'FANCC_p.E405K': 1, 'NF1_p.V1686I': 1, 'BRCA1_p.P1099S': 1, 'ZFHX3_p.G162S': 1, 'WHSC1_p.G1364S': 1, 'RAD51_p.G21D': 1, 'PAX5_p.A384V': 1, 'NUP93_p.G40E': 1, 'XPO1_p.A377T': 1, 'PALB2_p.P811L': 1, 'NCOA3_p.G572D': 1, 'BRCA2_p.G1122R': 1, 'FANCA_p.G284E': 1, 'PIK3CG_p.A795T': 1, 'BRIP1_p.P129S': 1, 'EP300_p.D1625N': 1, 'MDC1_p.A431V': 1, 'WWTR1_p.A200T': 1, 'CDH1_p.G120E': 1, 'MSH6_p.T518I': 1, 'KDM5C_p.P840S': 1, 'KMT2C_p.P4504S': 1, 'ROS1_p.P437L': 1, 'POLE_p.G894D': 1, 'PBRM1_p.G166E': 1, 'HNF1A_p.G181E': 1, 'MSH6_p.E1214K': 1, 'RTEL1_p.T1160I': 1, 'CASP8_p.S270F': 1, 'NBN_p.P498L': 1, 'LATS2_p.E761K': 1, 'ABL1_p.G807D': 1, 'GRIN2A_p.V38M': 1, 'KEAP1_p.T590I': 1, 'MLL3_p.V4158M': 1, 'MLL_p.G1160D': 1, 'MET_p.D1228N': 1, 'TET1_p.G1121D': 1, 'KMT2A_p.P2049S': 1, 'JAK3_p.G182E': 1, 'TBX3_p.P135S': 1, 'PAK7_p.A355V': 1, 'RARA_p.G429S': 1, 'RAD51B_p.X1_splice': 1, 'TSC2_p.A623T': 1, 'MAP3K1_p.V833M': 1, 'UPF1_p.T922I': 1, 'SMARCD1_p.G55E': 1, 'CDKN1A_p.G92S': 1, 'NOTCH3_p.P2051L': 1, 'INSR_p.P70L': 1, 'WHSC1L1_p.G694S': 1, 'PDGFRA_p.G956E': 1, 'APC_p.V1894I': 1, 'ALK_p.S545N': 1, 'NCOR1_p.E560K': 1, 'NTRK3_p.E819K': 1, 'TP53BP1_p.P449L': 1, 'INHA_p.P162S': 1, 'KIT_p.Q427*': 1, 'CIC_p.G1304D': 1, 'LATS2_p.E488K': 1, 'NTRK1_p.A527V': 1, 'FGFR4_p.S25F': 1, 'ERCC4_p.G278E': 1, 'ATM_p.G1202E': 1, 'TRAF7_p.X12_splice': 1, 'MSH2_p.G673R': 1, 'EPHA5_p.X619_splice': 1, 'PARP1_p.P174L': 1, 'ALOX12B_p.S33N': 1, 'PIK3R2_p.Q362*': 1, 'STAT5B_p.Q378*': 1, 'SPRED1_p.V414I': 1, 'BRAF_p.E451K': 1, 'PAX5_p.S168F': 1, 'NCOR1_p.G1311D': 1, 'NFE2L2_p.G401E': 1, 'ASXL2_p.G653E': 1, 'SETD2_p.P593L': 1, 'RPS6KA4_p.P237S': 1, 'ARID2_p.V1493I': 1, 'TP53_p.E62K': 1, 'CREBBP_p.A2392T': 1, 'PARK2_p.W74*': 1, 'ALOX12B_p.H98Y': 1, 'KMT2C_p.P1962S': 1, 'PLCG2_p.R1205K': 1, 'SPEN_p.A143V': 1, 'RET_p.T488I': 1, 'ERBB2_p.P802S': 1, 'JAK3_p.P644L': 1, 'ALK_p.T25I': 1, 'EZH2_p.X243_splice': 1, 'SRC_p.E489K': 1, 'JAK3_p.P693S': 1, 'TSC1_p.P391S': 1, 'MPL_p.W477*': 1, 'MDC1_p.E888K': 1, 'AMER1_p.G605D': 1, 'CIC_p.G787D': 1, 'MGA_p.G19E': 1, 'CD274_p.C209Y': 1, 'RPTOR_p.A248V': 1, 'KDM5C_p.E296K': 1, 'BIRC3_p.S513F': 1, 'NCOA3_p.G1119E': 1, 'ZFHX3_p.H620Y': 1, 'NOTCH2_p.X1827_splice': 1, 'MLH1_p.Q427*': 1, 'ZFHX3_p.P49S': 1, 'JAK2_p.G139S': 1, 'MSH2_p.A765T': 1, 'MSH2_p.D459N': 1, 'EP300_p.T1906I': 1, 'JAK2_p.P796S': 1, 'FUBP1_p.G306D': 1, 'ERBB3_p.A1233V': 1, 'MLL4_p.G1817D': 1, 'EGFR_p.S198N': 1, 'EZH1_p.P4S': 1, 'ARID1A_p.S645L': 1, 'BARD1_p.E45K': 1, 'NSD1_p.V222I': 1, 'ANKRD11_p.P2489L': 1, 'SUZ12_p.E723K': 1, 'TRAF7_p.C259Y': 1, 'BLM_p.A1124T': 1, 'ANKRD11_p.D1210N': 1, 'CIC_p.D226N': 1, 'EP300_p.P300L': 1, 'SOX17_p.A238V': 1, 'ARID1A_p.P1521L': 1, 'TET2_p.D905N': 1, 'ROS1_p.W712*': 1, 'FAT1_p.P3744S': 1, 'SPEN_p.E885K': 1, 'SF3B1_p.A861T': 1, 'ASXL1_p.A14T': 1, 'IL7R_p.G236E': 1, 'INPPL1_p.A201T': 1, 'IGF1R_p.E590K': 1, 'NSD1_p.A1843T': 1, 'BRCA1_p.G129D': 1, 'BCL2L11_p.A123T': 1, 'RHEB_p.G177D': 1, 'EZH2_p.P364S': 1, 'CIC_p.G624E': 1, 'AXIN1_p.D843N': 1, 'MLL2_p.G4294R': 1, 'MYD88_p.T61I': 1, 'NOTCH4_p.A572V': 1, 'BRCA1_p.P1579S': 1, 'JAK2_p.R761K': 1, 'SDHA_p.G419E': 1, 'MST1R_p.P930S': 1, 'MET_p.A944V': 1, 'ZFHX3_p.G1329E': 1, 'E2F3_p.S107F': 1, 'KMT2D_p.G1826D': 1, 'MLL2_p.E767K': 1, 'CIC_p.L323F': 1, 'MALT1_p.P12S': 1, 'MAP2K1_p.G301E': 1, 'SHQ1_p.G111D': 1, 'PIK3C2G_p.A881V': 1, 'RAD21_p.L451F': 1, 'MLL2_p.V1365I': 1, 'WHSC1_p.G109E': 1, 'PIK3C2G_p.S247F': 1, 'PRKD1_p.G93D': 1, 'SMO_p.L335F': 1, 'BCOR_p.R63K': 1, 'SPEN_p.P3140S': 1, 'BRD4_p.A481T': 1, 'NOTCH1_p.P1796S': 1, 'NPM1_p.G224R': 1, 'ZFHX3_p.D3684N': 1, 'SHQ1_p.X162_splice': 1, 'KMT2D_p.P4920L': 1, 'CHEK1_p.P321L': 1, 'JUN_p.T90I': 1, 'ERBB3_p.G631E': 1, 'MSH6_p.G308D': 1, 'FGFR2_p.T419I': 1, 'MLL2_p.G5017S': 1, 'RTEL1_p.S1071F': 1, 'E2F3_p.G243S': 1, 'PRKAR1A_p.V156I': 1, 'FAT1_p.G1396D': 1, 'ASXL1_p.W1065*': 1, 'MAP3K1_p.A1194T': 1, 'TGFBR1_p.D423N': 1, 'MST1R_p.S338N': 1, 'DUSP4_p.E9K': 1, 'ATR_p.R2541K': 1, 'PLCG2_p.A1151V': 1, 'RECQL4_p.G131R': 1, 'XPO1_p.D10N': 1, 'TERT_p.S838F': 1, 'PDCD1_p.P254L': 1, 'POLD1_p.G1000D': 1, 'RNF43_p.V287I': 1, 'MSI1_p.X61_splice': 1, 'CENPA_p.S32F': 1, 'ARID1A_p.P2139L': 1, 'ARID1A_p.W1545*': 1, 'MSI1_p.P297L': 1, 'FOXP1_p.P482S': 1, 'BRCA2_p.T2169I': 1, 'PTPRT_p.X980_splice': 1, 'DNMT1_p.R903K': 1, 'TP53_p.R280K': 1, 'GRIN2A_p.T175I': 1, 'MITF_p.S351F': 1, 'VEGFA_p.V59M': 1, 'H3F3C_p.Q68*': 1, 'NOTCH2_p.Q1283*': 1, 'INPP4B_p.E42K': 1, 'ERBB3_p.E332K': 1, 'PAK7_p.G675R': 1, 'RICTOR_p.D1249N': 1, 'FANCA_p.W451*': 1, 'SUFU_p.E421K': 1, 'FH_p.P177S': 1, 'MTOR_p.G1248E': 1, 'AKT2_p.T72I': 1, 'KIT_p.P317L': 1, 'AXIN1_p.L202F': 1, 'MLL3_p.P2525L': 1, 'BRCA2_p.P814S': 1, 'RAD51C_p.Q62*': 1, 'INHBA_p.A82T': 1, 'MLL2_p.T2137I': 1, 'RICTOR_p.S1278F': 1, 'KMT2C_p.P4655S': 1, 'SETD2_p.Q1287*': 1, 'RECQL4_p.V1176M': 1, 'BCOR_p.L267F': 1, 'ARID5B_p.G386E': 1, 'KMT2C_p.G2332R': 1, 'NOTCH4_p.P833L': 1, 'PRKD1_p.G874D': 1, 'STK11_p.X288_splice': 1, 'PARP1_p.G876D': 1, 'STAG2_p.G46D': 1, 'SMYD3_p.R401K': 1, 'FUBP1_p.R284K': 1, 'ERBB3_p.E1019K': 1, 'ALOX12B_p.G449R': 1, 'TERT_p.S663N': 1, 'KDM5A_p.G465D': 1, 'NOTCH1_p.X556_splice': 1, 'INHBA_p.W15*': 1, 'JAK1_p.S574N': 1, 'ROS1_p.A1241T': 1, 'PLCG2_p.R772K': 1, 'FLT1_p.E564K': 1, 'NTRK1_p.G221S': 1, 'FLT1_p.T210I': 1, 'PIK3C2G_p.V1397I': 1, 'FBXW7_p.S227F': 1, 'KDM5C_p.E293K': 1, 'CDH1_p.X765_splice': 1, 'TRAF7_p.P162L': 1, 'RBM10_p.A741V': 1, 'AKT2_p.E9K': 1, 'BRCA1_p.S265F': 1, 'TNFRSF14_p.G31E': 1, 'RPTOR_p.X1270_splice': 1, 'CDK6_p.S290F': 1, 'RICTOR_p.D1679N': 1, 'BRD4_p.E1251K': 1, 'CCNE1_p.G192E': 1, 'ARID2_p.P128L': 1, 'PTPRS_p.D1377N': 1, 'FAT1_p.V4337M': 1, 'ATM_p.P1235L': 1, 'FUBP1_p.G292R': 1, 'SDHB_p.X255_splice': 1, 'CCND2_p.S42F': 1, 'NEGR1_p.G9D': 1, 'NTRK2_p.P769L': 1, 'NOTCH1_p.G484S': 1, 'ZFHX3_p.P3210L': 1, 'AURKA_p.Q223*': 1, 'SMAD2_p.P201S': 1, 'PRDM1_p.A81T': 1, 'MRE11A_p.D491N': 1, 'DICER1_p.P216S': 1, 'DICER1_p.A207V': 1, 'MST1R_p.A756T': 1, 'ASXL1_p.T1054I': 1, 'MGA_p.E1298K': 1, 'ARID2_p.S1103N': 1, 'ATRX_p.V1605I': 1, 'PARP1_p.P146S': 1, 'NPM1_p.G147S': 1, 'RAF1_p.G304S': 1, 'CIC_p.G747E': 1, 'ANKRD11_p.D415N': 1, 'FLT1_p.A684V': 1, 'MET_p.X1010_splice': 1, 'KDM5C_p.V949I': 1, 'AMER1_p.A962T': 1, 'NCOR1_p.V2119I': 1, 'ARID1A_p.M1613I': 1, 'SLX4_p.E155K': 1, 'FANCA_p.G1316R': 1, 'ZFHX3_p.A3407T': 1, 'FUBP1_p.G142D': 1, 'EED_p.E392K': 1, 'MLL3_p.G3730S': 1, 'FIP1L1_p.X272_splice': 1, 'IDH2_p.W284*': 1, 'FYN_p.D349N': 1, 'JAK3_p.P31L': 1, 'SOCS1_p.A184V': 1, 'CDKN2Ap16INK4A_p.W110*': 1, 'RECQL4_p.P165L': 1, 'PTCH1_p.L744F': 1, 'MTOR_p.P1975S': 1, 'TCF7L2_p.T438I': 1, 'LYN_p.E290K': 1, 'MSH2_p.G630E': 1, 'ASXL1_p.X84_splice': 1, 'KRAS_p.E63K': 1, 'MST1_p.G577E': 1, 'MED12_p.A1763T': 1, 'ATR_p.E910K': 1, 'KMT2A_p.G71E': 1, 'INPP4B_p.A207V': 1, 'PTPRS_p.T803I': 1, 'SH2B3_p.A209T': 1, 'SLX4_p.G1009D': 1, 'MAP3K1_p.P1019L': 1, 'NRAS_p.X1_splice': 1, 'LATS1_p.W178*': 1, 'IRF4_p.G22E': 1, 'SMARCA4_p.G782S': 1, 'DIS3_p.G871E': 1, 'MSH6_p.P1135S': 1, 'DOT1L_p.P1435L': 1, 'KMT2C_p.X54_splice': 1, 'BRD4_p.P95S': 1, 'AXIN2_p.E611K': 1, 'NBN_p.E726K': 1, 'EPHA7_p.S831F': 1, 'ERCC2_p.A685V': 1, 'DIS3_p.G871R': 1, 'MDC1_p.A1047T': 1, 'MLL2_p.A325T': 1, 'SMARCA4_p.D1474N': 1, 'NOTCH1_p.P2540L': 1, 'SPEN_p.E1599K': 1, 'RRAS2_p.G23D': 1, 'CIC_p.H505Y': 1, 'POLE_p.D2168N': 1, 'ERF_p.P261L': 1, 'GSK3B_p.P286S': 1, 'SOS1_p.A1077V': 1, 'ABL1_p.G680D': 1, 'MUTYH_p.G262E': 1, 'HNF1A_p.A367V': 1, 'FOXO1_p.P299S': 1, 'SDHA_p.X298_splice': 1, 'RAD51C_p.X235_splice': 1, 'PIK3CD_p.Q47*': 1, 'KMT2C_p.G3168D': 1, 'SF3B1_p.M147I': 1, 'STK11_p.G268E': 1, 'KMT2D_p.G4726D': 1, 'TEK_p.P723S': 1, 'SF3B1_p.G797E': 1, 'MET_p.V1155M': 1, 'KDR_p.G976E': 1, 'TSC2_p.V705M': 1, 'CTCF_p.T75I': 1, 'LATS2_p.P290S': 1, 'INSR_p.M65I': 1, 'TNFAIP3_p.G603R': 1, 'BCOR_p.G402D': 1, 'NOTCH3_p.T2282I': 1, 'MDC1_p.S1112F': 1, 'FGFR1_p.G822E': 1, 'PBRM1_p.A482T': 1, 'SETD2_p.P677S': 1, 'TET1_p.X1685_splice': 1, 'NUP93_p.A366V': 1, 'KMT2C_p.P2450S': 1, 'IGF1R_p.L910F': 1, 'MSH2_p.A573V': 1, 'NOTCH1_p.P2253S': 1, 'PTPN11_p.A509T': 1, 'MLL2_p.P4186L': 1, 'NTRK1_p.D53N': 1, 'MAP2K4_p.D138N': 1, 'AKT3_p.P469L': 1, 'EGFR_p.L62F': 1, 'ACVR1_p.E413K': 1, 'ALOX12B_p.P100S': 1, 'RPTOR_p.Q212*': 1, 'BCOR_p.D533N': 1, 'SMAD3_p.P229S': 1, 'ROS1_p.V1970I': 1, 'MAP3K1_p.R283K': 1, 'GLI1_p.E306K': 1, 'CDH1_p.D549N': 1, 'EPHA5_p.P358S': 1, 'DNMT3B_p.S56F': 1, 'TNFAIP3_p.R685K': 1, 'RICTOR_p.G356E': 1, 'MGA_p.G579E': 1, 'PRDM1_p.Q78*': 1, 'EP300_p.P2342L': 1, 'ERBB2_p.A180T': 1, 'CCND1_p.S201F': 1, 'DAXX_p.A423T': 1, 'CD276_p.G348D': 1, 'CCND2_p.E248K': 1, 'PPP6C_p.W256*': 1, 'APC_p.S2764F': 1, 'CREBBP_p.P2415L': 1, 'KDM5A_p.A244T': 1, 'PLCG2_p.T773I': 1, 'HNF1A_p.A282V': 1, 'RPS6KA4_p.E490K': 1, 'BCOR_p.Q156*': 1, 'ATR_p.P1125L': 1, 'SMO_p.A289V': 1, 'PALB2_p.P810L': 1, 'TP53_p.X307_splice': 1, 'NCOR1_p.T1991I': 1, 'STK40_p.A364T': 1, 'FGFR2_p.D321N': 1, 'EPHB1_p.P641S': 1, 'CYLD_p.G849D': 1, 'MYCL1_p.A272V': 1, 'BRIP1_p.V864I': 1, 'MYCL1_p.C98Y': 1, 'MSH3_p.V304M': 1, 'TNFRSF14_p.G31R': 1, 'ATR_p.D1324N': 1, 'STAT5B_p.G394D': 1, 'NTRK2_p.D100N': 1, 'PTPRT_p.G838D': 1, 'CASP8_p.S158F': 1, 'PAK7_p.S15F': 1, 'VEGFA_p.X226_splice': 1, 'PTPRD_p.P538S': 1, 'RECQL4_p.P188S': 1, 'MEF2B_p.G158E': 1, 'DNMT3A_p.P507S': 1, 'EP300_p.X1342_splice': 1, 'PMS2_p.X179_splice': 1, 'CDC73_p.G317D': 1, 'KMT2D_p.G2585E': 1, 'SPEN_p.G603D': 1, 'ACVR1_p.X23_splice': 1, 'TBX3_p.G50D': 1, 'TSC2_p.P1218L': 1, 'ATM_p.H945Y': 1, 'MLL3_p.G2986S': 1, 'ATM_p.M563I': 1, 'CTNNB1_p.G268E': 1, 'CSDE1_p.G557D': 1, 'PTCH1_p.A1118V': 1, 'IRS1_p.P929L': 1, 'NSD1_p.P2160S': 1, 'RET_p.A682V': 1, 'PIK3R1_p.A278V': 1, 'MSH6_p.V734M': 1, 'ARID1B_p.P1225S': 1, 'KMT2D_p.A328T': 1, 'PLCG2_p.S55N': 1, 'DNMT1_p.P943S': 1, 'FAM58A_p.E82K': 1, 'MEN1_p.X224_splice': 1, 'STAT3_p.G126E': 1, 'APC_p.G974D': 1, 'FAT1_p.T2528I': 1, 'ARID1B_p.P1618L': 1, 'NOTCH4_p.A82V': 1, 'CREBBP_p.G2148D': 1, 'TCF3_p.A644T': 1, 'NOTCH1_p.G766D': 1, 'NOTCH3_p.G2112D': 1, 'INPPL1_p.X960_splice': 1, 'PBRM1_p.G369E': 1, 'MLH1_p.X182_splice': 1, 'GRIN2A_p.P79S': 1, 'EPHB1_p.W790*': 1, 'PIK3C2G_p.L876F': 1, 'RAD50_p.T773I': 1, 'NOTCH1_p.G1039D': 1, 'HOXB13_p.S202F': 1, 'MSH6_p.G1138R': 1, 'SESN2_p.A152V': 1, 'PPP2R1A_p.A161V': 1, 'KMT2C_p.X3820_splice': 1, 'WWTR1_p.L272F': 1, 'ABL1_p.G10S': 1, 'ATR_p.A345T': 1, 'ANKRD11_p.P1779L': 1, 'MET_p.H1321Y': 1, 'MDM4_p.D429N': 1, 'ARID1A_p.G458D': 1, 'BRCA2_p.V733I': 1, 'TRAF2_p.G193D': 1, 'RPS6KB2_p.G89S': 1, 'KMT2A_p.S2538F': 1, 'PTPN11_p.A72T': 1, 'MSH6_p.D1346N': 1, 'EPHB1_p.D859N': 1, 'TP53BP1_p.G1426D': 1, 'ZFHX3_p.Q3365*': 1, 'KDM6A_p.P1206L': 1, 'CTNNB1_p.L517F': 1, 'MDC1_p.T448I': 1, 'NSD1_p.E1569K': 1, 'ASXL1_p.G652D': 1, 'NOTCH2_p.D417N': 1, 'AMER1_p.G18E': 1, 'IFNGR1_p.E483K': 1, 'CARD11_p.T871I': 1, 'NTRK3_p.X132_splice': 1, 'AXIN1_p.P427S': 1, 'MET_p.A319V': 1, 'KMT2B_p.G1459S': 1, 'ANKRD11_p.H1598Y': 1, 'AURKA_p.A160V': 1, 'FOXA1_p.G281E': 1, 'DOT1L_p.E295K': 1, 'NCOR1_p.E807K': 1, 'FOXP1_p.G596D': 1, 'ERBB2_p.V884M': 1, 'MTOR_p.T625I': 1, 'POLE_p.M1470I': 1, 'WT1_p.D427N': 1, 'CDKN2C_p.C141Y': 1, 'ERBB2_p.A588V': 1, 'ERCC5_p.S1097F': 1, 'CALR_p.E262K': 1, 'NCOR1_p.V40I': 1, 'RECQL_p.E205K': 1, 'MET_p.S1268F': 1, 'ARID1A_p.P1209S': 1, 'FGFR2_p.G195E': 1, 'NCOA3_p.M1417I': 1, 'KDM5C_p.T575I': 1, 'ERCC3_p.E205K': 1, 'ROS1_p.S1306N': 1, 'MAP3K13_p.S83N': 1, 'NTRK2_p.P530S': 1, 'ATM_p.A749T': 1, 'EIF4A2_p.C132Y': 1, 'HRAS_p.D57N': 1, 'MLL3_p.X4258_splice': 1, 'FAT1_p.V1988M': 1, 'INSR_p.E1308K': 1, 'TSC1_p.S1111N': 1, 'ATR_p.L1211F': 1, 'NF1_p.L1411F': 1, 'MSH6_p.S394F': 1, 'MED12_p.E1608K': 1, 'JAK3_p.G257S': 1, 'ARID2_p.X444_splice': 1, 'IKBKE_p.A346V': 1, 'NOTCH2_p.G786S': 1, 'MLL3_p.D4216N': 1, 'MYOD1_p.G189D': 1, 'IGF2_p.G167S': 1, 'ANKRD11_p.P2246S': 1, 'BCOR_p.A1070V': 1, 'DIS3_p.G395R': 1, 'MSH2_p.Q855*': 1, 'NOTCH2_p.T1056I': 1, 'MGA_p.G2948R': 1, 'DDR2_p.S319F': 1, 'ZFHX3_p.T3071I': 1, 'IGF2_p.T47I': 1, 'CXCR4_p.A289V': 1, 'ARID1B_p.X851_splice': 1, 'ASXL2_p.G1395D': 1, 'ATRX_p.S210N': 1, 'MAP3K13_p.T965I': 1, 'NOTCH3_p.S2228N': 1, 'ETV6_p.L41F': 1, 'CHEK2_p.G178E': 1, 'KDM5C_p.S155F': 1, 'NKX2-1_p.X155_splice': 1, 'TP53BP1_p.A1799V': 1, 'ARID1B_p.A1887T': 1, 'MDC1_p.T1541I': 1, 'BCL2_p.G83E': 1, 'RAD50_p.S635N': 1, 'ASXL1_p.G972D': 1, 'NCOR1_p.E340K': 1, 'FLT3_p.A321T': 1, 'CIC_p.V1349I': 1, 'PPARG_p.P88S': 1, 'DNMT1_p.S745N': 1, 'FH_p.P137S': 1, 'CD79B_p.A55T': 1, 'BCL6_p.A291V': 1, 'ARID1A_p.G1351D': 1, 'ZFHX3_p.D894N': 1, 'DICER1_p.E1608K': 1, 'FOXP1_p.A512T': 1, 'EGFR_p.P1088S': 1, 'BRCA2_p.V1873I': 1, 'BBC3_p.G255R': 1, 'ID3_p.S49F': 1, 'SPEN_p.A3340V': 1, 'IRS2_p.A1096V': 1, 'FAT1_p.V551I': 1, 'ARID2_p.P38S': 1, 'ROS1_p.D240N': 1, 'ERBB4_p.D1257N': 1, 'MST1R_p.P819L': 1, 'ARID2_p.S586F': 1, 'TSC1_p.X305_splice': 1, 'RNF43_p.E149K': 1, 'SUZ12_p.Q205*': 1, 'FOXA1_p.D202N': 1, 'RXRA_p.L113F': 1, 'PREX2_p.V483I': 1, 'KDM5A_p.P1474S': 1, 'NFE2L2_p.D3N': 1, 'SLX4_p.E827K': 1, 'ERBB2_p.A324T': 1, 'STAT5A_p.W37*': 1, 'APC_p.A257T': 1, 'FGFR2_p.V430I': 1, 'EPHB1_p.P257S': 1, 'SF3B1_p.G320R': 1, 'SF3B1_p.X373_splice': 1, 'FANCC_p.X115_splice': 1, 'SPEN_p.P3402L': 1, 'JUN_p.D59N': 1, 'IL7R_p.G5D': 1, 'TSC1_p.S208N': 1, 'ICOSLG_p.P165S': 1, 'CREBBP_p.P1951L': 1, 'IRS2_p.E754K': 1, 'BCL2L11_p.A106V': 1, 'NUP93_p.L584F': 1, 'IRS2_p.P1019S': 1, 'STAG2_p.G49D': 1, 'MGA_p.P2715S': 1, 'PIK3C2G_p.E202K': 1, 'IGF1R_p.A746T': 1, 'SOX17_p.Q13*': 1, 'NCOA3_p.G1180D': 1, 'RTEL1_p.R1210K': 1, 'ERCC5_p.D79N': 1, 'FGFR4_p.P143S': 1, 'NUP93_p.T605I': 1, 'PAK7_p.G291R': 1, 'PLCG2_p.S16N': 1, 'FGFR3_p.S400N': 1, 'HLA-B_p.E70K': 1, 'MLL2_p.P768L': 1, 'KMT2C_p.V700M': 1, 'FOXA1_p.P86S': 1, 'MLL_p.T2635I': 1, 'MLL2_p.E1658K': 1, 'NSD1_p.G2242E': 1, 'YES1_p.A399T': 1, 'GRIN2A_p.G20D': 1, 'MET_p.S637F': 1, 'ATR_p.V387I': 1, 'MEN1_p.G149D': 1, 'MYCL1_p.R270K': 1, 'BRCA1_p.G1820D': 1, 'AXIN2_p.X401_splice': 1, 'GATA3_p.P88L': 1, 'DNMT1_p.D1369N': 1, 'NOTCH4_p.P1014S': 1, 'RUNX1_p.A68V': 1, 'PIK3CG_p.A938T': 1, 'NSD1_p.Q2313*': 1, 'ZFHX3_p.E374K': 1, 'FOXO1_p.P28L': 1, 'SMARCA4_p.V420M': 1, 'SMARCA4_p.E659K': 1, 'POLD1_p.Q416*': 1, 'ARID1A_p.G925E': 1, 'RNF43_p.G515R': 1, 'EP300_p.G1966S': 1, 'MGA_p.V1163I': 1, 'DNMT1_p.P1560S': 1, 'SPEN_p.R2112K': 1, 'SMAD3_p.G379D': 1, 'TP63_p.T494I': 1, 'PIK3R1_p.E342K': 1, 'KDM5A_p.S34N': 1, 'BCOR_p.S1166F': 1, 'PIK3C2G_p.V615I': 1, 'APC_p.G1682D': 1, 'STK19_p.E88K': 1, 'BCOR_p.E47K': 1, 'MAP2K4_p.P306S': 1, 'CDK8_p.A63T': 1, 'MSH2_p.Q160*': 1, 'MGA_p.V653M': 1, 'SF3B1_p.P304L': 1, 'MITF_p.G6R': 1, 'PTPRT_p.G206E': 1, 'MGA_p.E1015K': 1, 'ATRX_p.G1071R': 1, 'ANKRD11_p.P2135S': 1, 'SMO_p.A374T': 1, 'CDK12_p.V1415M': 1, 'PLCG2_p.P820S': 1, 'HNF1A_p.G245R': 1, 'FANCA_p.P1218L': 1, 'SMARCA4_p.S1575N': 1, 'TSC1_p.D47N': 1, 'IGF2_p.W175*': 1, 'PGR_p.P291S': 1, 'GATA2_p.L332F': 1, 'CIC_p.W1239*': 1, 'ROS1_p.A1341T': 1, 'TSC2_p.A284T': 1, 'EIF4E_p.T153I': 1, 'SMO_p.G242D': 1, 'BCOR_p.P1292L': 1, 'SUZ12_p.T408I': 1, 'IRS2_p.G1226E': 1, 'MTOR_p.A1459V': 1, 'AR_p.G453D': 1, 'ASXL2_p.E239K': 1, 'AR_p.P49S': 1, 'DNMT3A_p.E235K': 1, 'FAT1_p.Q1943*': 1, 'ARID2_p.X572_splice': 1, 'JAK2_p.G750R': 1, 'CD79A_p.T14I': 1, 'ERCC2_p.A236V': 1, 'BCL10_p.T9I': 1, 'PIK3CG_p.S147F': 1, 'MAP3K1_p.R1278K': 1, 'LATS1_p.M960I': 1, 'FOXO1_p.A356V': 1, 'BIRC3_p.L174F': 1, 'ERCC5_p.G870S': 1, 'EPHA3_p.A671T': 1, 'MALT1_p.P256S': 1, 'ARID1A_p.X1180_splice': 1, 'MSH6_p.G443E': 1, 'DNMT1_p.S288N': 1, 'MST1R_p.A1068T': 1, 'DNMT3B_p.D414N': 1, 'SETD2_p.P778S': 1, 'ROS1_p.P9S': 1, 'ARID1B_p.Q112*': 1, 'MUTYH_p.P3S': 1, 'GATA1_p.G149E': 1, 'ATR_p.V1655I': 1, 'TRAF2_p.G10D': 1, 'WHSC1_p.S194N': 1, 'STAT3_p.D698N': 1, 'PIK3CD_p.V939I': 1, 'CARD11_p.E93K': 1, 'BRCA1_p.S324N': 1, 'PTEN_p.X70_splice': 1, 'BCOR_p.T1465I': 1, 'ATM_p.G833E': 1, 'SOX2_p.S290N': 1, 'IKBKE_p.T516I': 1, 'CARD11_p.V636I': 1, 'CREBBP_p.P131L': 1, 'MTOR_p.R472K': 1, 'CCND3_p.P199S': 1, 'KMT2C_p.A3211V': 1, 'RASA1_p.V169M': 1, 'IL7R_p.P380L': 1, 'MRE11A_p.V684I': 1, 'KMT2C_p.G2614D': 1, 'DAXX_p.A146T': 1, 'ALK_p.G1236D': 1, 'TET1_p.E1919K': 1, 'AXIN1_p.E627K': 1, 'EP300_p.Q1223*': 1, 'ROS1_p.G2158D': 1, 'ERRFI1_p.G205E': 1, 'NOTCH2_p.T1808I': 1, 'ABL1_p.D363N': 1, 'NOTCH1_p.G2348D': 1, 'MTOR_p.G346E': 1, 'SF3B1_p.S1276F': 1, 'CARD11_p.L993F': 1, 'DOT1L_p.E3K': 1, 'FLT1_p.P567S': 1, 'ARID2_p.X258_splice': 1, 'DICER1_p.E732K': 1, 'DNMT3A_p.P419S': 1, 'GLI1_p.T235I': 1, 'ZRSR2_p.P335L': 1, 'WHSC1_p.S30N': 1, 'MDC1_p.P1650L': 1, 'TRAF7_p.S652F': 1, 'SF3B1_p.R827K': 1, 'TET1_p.G1458D': 1, 'MGA_p.G3064E': 1, 'BCL2_p.D64N': 1, 'MYCL1_p.G212D': 1, 'PIK3CD_p.P304S': 1, 'BRIP1_p.L1083F': 1, 'H3F3C_p.G44E': 1, 'MTOR_p.V2330I': 1, 'BRIP1_p.G690R': 1, 'KMT2D_p.Q4891*': 1, 'ARID1B_p.G1976R': 1, 'CARD11_p.V195I': 1, 'TSC1_p.L974F': 1, 'ERBB3_p.E560K': 1, 'MED12_p.E1607K': 1, 'SMARCA4_p.D1183N': 1, 'PIK3R1_p.G376R': 1, 'ATR_p.D1187N': 1, 'LATS2_p.V728M': 1, 'KDM5C_p.A885T': 1, 'ESR1_p.G57S': 1, 'CDK12_p.G1284D': 1, 'CENPA_p.P31L': 1, 'RAD50_p.E1115K': 1, 'DROSHA_p.G851D': 1, 'PLCG2_p.R157K': 1, 'NF1_p.P677S': 1, 'MLL_p.P1049S': 1, 'MEN1_p.S66N': 1, 'LATS1_p.R189K': 1, 'MSH6_p.Q1314*': 1, 'MUTYH_p.G340R': 1, 'NCOR1_p.L1024F': 1, 'KMT2C_p.E3600K': 1, 'KDM5A_p.E662K': 1, 'NCOR1_p.P919S': 1, 'MST1R_p.A208T': 1, 'BLM_p.A1382T': 1, 'PGR_p.G125E': 1, 'TET1_p.A368T': 1, 'DNMT1_p.G1114R': 1, 'JAK1_p.D410N': 1, 'FAT1_p.G4184E': 1, 'MSH6_p.V474M': 1, 'POLE_p.V1863I': 1, 'MLL3_p.P3649L': 1, 'NCOR1_p.P1191L': 1, 'MITF_p.E194K': 1, 'NOTCH4_p.G1371S': 1, 'PTPRD_p.P852L': 1, 'NOTCH4_p.G601E': 1, 'ANKRD11_p.P1437L': 1, 'BARD1_p.P365S': 1, 'MST1R_p.P739L': 1, 'RAD51_p.G182D': 1, 'ETV6_p.A397T': 1, 'MYC_p.P260S': 1, 'MPL_p.A463V': 1, 'IGF1R_p.E464K': 1, 'TET2_p.P1742L': 1, 'CREBBP_p.P432S': 1, 'PDCD1_p.D227N': 1, 'PMS2_p.X54_splice': 1, 'RAD50_p.A546V': 1, 'DOT1L_p.E586K': 1, 'BRIP1_p.G103E': 1, 'CRLF2_p.G25E': 1, 'BRCA1_p.P346L': 1, 'NOTCH4_p.P1295S': 1, 'DNMT3B_p.W522*': 1, 'NOTCH3_p.G413S': 1, 'STAT5A_p.G472D': 1, 'LATS2_p.P501S': 1, 'KMT2B_p.V927M': 1, 'PTCH1_p.G1396E': 1, 'TSC2_p.G62E': 1, 'U2AF1_p.D208N': 1, 'CD276_p.A312T': 1, 'ASXL1_p.P1431S': 1, 'RFWD2_p.V731I': 1, 'MST1R_p.A891T': 1, 'BRCA2_p.S197F': 1, 'ATM_p.A295V': 1, 'EPHA3_p.V543I': 1, 'CDKN2A_p.X50_splice': 1, 'ATM_p.E642K': 1, 'FAT1_p.A250T': 1, 'MYCL1_p.E196K': 1, 'NPM1_p.G211E': 1, 'CDKN1A_p.P24S': 1, 'PMS2_p.T52I': 1, 'PARP1_p.G98D': 1, 'NOTCH1_p.P213L': 1, 'TP63_p.D78N': 1, 'NF2_p.L580F': 1, 'KDR_p.G1161E': 1, 'PGR_p.G234S': 1, 'SLX4_p.P1682S': 1, 'BRCA1_p.A1039T': 1, 'ANKRD11_p.E480K': 1, 'DIS3_p.G15D': 1, 'RECQL_p.D413N': 1, 'PAK7_p.R221K': 1, 'PIK3C2G_p.X1321_splice': 1, 'FAT1_p.D78N': 1, 'PALB2_p.S259N': 1, 'NSD1_p.P318S': 1, 'GATA1_p.P240L': 1, 'PLK2_p.V435I': 1, 'NOTCH4_p.A947V': 1, 'SPOP_p.P94S': 1, 'BAP1_p.G568E': 1, 'MST1R_p.G1132E': 1, 'POLE_p.E1299K': 1, 'ZFHX3_p.G117D': 1, 'BRCA2_p.P1510L': 1, 'PRDM1_p.A503V': 1, 'MAP2K4_p.P365L': 1, 'RARA_p.G185R': 1, 'CDKN2C_p.G60S': 1, 'MSH3_p.P740S': 1, 'FAT1_p.L1507F': 1, 'PTPRD_p.S607L': 1, 'YES1_p.A385T': 1, 'ARID5B_p.P461L': 1, 'DICER1_p.Q493*': 1, 'TBX3_p.P517S': 1, 'MYOD1_p.P267L': 1, 'AXIN2_p.T76I': 1, 'DROSHA_p.G453E': 1, 'IGF1R_p.P919S': 1, 'EED_p.Q292*': 1, 'BRCA2_p.D1540N': 1, 'ARID5B_p.A281T': 1, 'INPP4A_p.E930K': 1, 'ATRX_p.T102I': 1, 'MAP3K13_p.E234K': 1, 'CREBBP_p.G268R': 1, 'PTPRD_p.Q425*': 1, 'PLCG2_p.P762L': 1, 'TBX3_p.D736N': 1, 'MST1R_p.P872S': 1, 'BRD4_p.G631D': 1, 'ACVR1_p.L8F': 1, 'POLE_p.G198D': 1, 'RNF43_p.G166D': 1, 'NOTCH4_p.E274K': 1, 'HOXB13_p.G86E': 1, 'MED12_p.A767T': 1, 'DNMT1_p.P988S': 1, 'FUBP1_p.T398I': 1, 'MLH1_p.Q407*': 1, 'PBRM1_p.X128_splice': 1, 'TET1_p.T975I': 1, 'IGF1R_p.G970E': 1, 'RHOA_p.G155E': 1, 'TBX3_p.G548E': 1, 'KMT2D_p.R3719K': 1, 'TET2_p.C65Y': 1, 'MST1R_p.A716T': 1, 'MST1R_p.E2K': 1, 'NF1_p.W1236*': 1, 'PGR_p.T41I': 1, 'RAF1_p.A7T': 1, 'EPHA5_p.S940N': 1, 'NOTCH2_p.G1277S': 1, 'CSF1R_p.P455S': 1, 'MLL3_p.W4357*': 1, 'FGFR1_p.R20K': 1, 'TSC1_p.P641L': 1, 'DOT1L_p.L224F': 1, 'STK40_p.X66_splice': 1, 'NCOA3_p.W313*': 1, 'IFNGR1_p.W73*': 1, 'IRF4_p.G323E': 1, 'ROS1_p.G705R': 1, 'NCOR1_p.S1599N': 1, 'ROS1_p.V516I': 1, 'ERCC2_p.D219N': 1, 'TERT_p.S796F': 1, 'ALK_p.G1356E': 1, 'CREBBP_p.A1093V': 1, 'PTPRT_p.T561I': 1, 'JUN_p.A255T': 1, 'SMARCB1_p.E98K': 1, 'KDM5A_p.R816K': 1, 'FLT4_p.A345T': 1, 'IRF4_p.E260K': 1, 'KDM5A_p.P59L': 1, 'SPEN_p.L1207F': 1, 'FAT1_p.V2888I': 1, 'BCOR_p.T347I': 1, 'BCL2L1_p.W137*': 1, 'CSF3R_p.T234I': 1, 'NOTCH4_p.S257F': 1, 'NF1_p.X667_splice': 1, 'DOT1L_p.V889M': 1, 'IRS1_p.T774I': 1, 'POLE_p.E502K': 1, 'SETD2_p.A2429V': 1, 'EP300_p.P2286S': 1, 'CUL3_p.A40V': 1, 'PTPRT_p.V1026I': 1, 'EIF1AX_p.G8R': 1, 'H3F3B_p.P17L': 1, 'KIT_p.P164S': 1, 'MLL2_p.V2964I': 1, 'ANKRD11_p.R920K': 1, 'FLT1_p.G401E': 1, 'MAP3K1_p.D1495N': 1, 'RFWD2_p.R273K': 1, 'RPS6KB2_p.G313E': 1, 'ASXL2_p.V154I': 1, 'RICTOR_p.W938*': 1, 'MUTYH_*53*': 1, 'SPEN_p.P3026S': 1, 'TP53_p.G244D': 1, 'ARID1A_p.M384I': 1, 'PIK3CA_p.P57L': 1, 'KMT2D_p.A1733T': 1, 'BRD4_p.P1104L': 1, 'KDR_p.D58N': 1, 'KIT_p.G812D': 1, 'VTCN1_p.T123I': 1, 'DNMT1_p.G105E': 1, 'EPHA3_p.C860Y': 1, 'SMARCD1_p.P74S': 1, 'PREX2_p.T289I': 1, 'CD79A_p.G208D': 1, 'INPP4A_p.D756N': 1, 'JAK1_p.V409I': 1, 'ARID1A_p.P760L': 1, 'AR_p.P480S': 1, 'NOTCH4_p.P34L': 1, 'BRAF_p.P321S': 1, 'MLL3_p.P1907S': 1, 'PTPRS_p.G44D': 1, 'TAP1_p.V390I': 1, 'SH2D1A_p.T23I': 1, 'MGA_p.G1806E': 1, 'H3F3C_p.G90D': 1, 'PDGFRA_p.E747K': 1, 'ALK_p.D642N': 1, 'CSF1R_p.L769F': 1, 'RB1_p.P808S': 1, 'ZFHX3_p.P3675S': 1, 'CARD11_p.L878F': 1, 'DAXX_p.D349N': 1, 'TP53_p.G266R': 1, 'NOTCH4_p.S557N': 1, 'RPTOR_p.R1012K': 1, 'ERCC2_p.G106R': 1, 'NSD1_p.A376T': 1, 'ATRX_p.S1895N': 1, 'BMPR1A_p.S510F': 1, 'GRIN2A_p.G197S': 1, 'PTPRT_p.M1304I': 1, 'ANKRD11_p.G1194E': 1, 'ZFHX3_p.S3448N': 1, 'SPEN_p.V2919M': 1, 'TCF7L2_p.A587T': 1, 'STK11_p.X155_splice': 1, 'SPEN_p.G2317E': 1, 'SF3B1_p.G1242E': 1, 'DOT1L_p.P792L': 1, 'KDR_p.V641I': 1, 'NOTCH1_p.T1924I': 1, 'CDK8_p.G30S': 1, 'CREBBP_p.S2015N': 1, 'NTRK1_p.A787V': 1, 'RET_p.S493F': 1, 'TSC2_p.A1011V': 1, 'ETV1_p.S146F': 1, 'NOTCH1_p.A2452T': 1, 'ATR_p.P13S': 1, 'NCOR1_p.G1340D': 1, 'KMT2C_p.P3009S': 1, 'KMT2C_p.T2648I': 1, 'CREBBP_p.G1335E': 1, 'EP300_p.A598T': 1, 'ANKRD11_p.P1996L': 1, 'IRS2_p.G1310S': 1, 'CHEK2_p.C284Y': 1, 'PTPRS_p.P1238L': 1, 'SPEN_p.S291N': 1, 'PTPRT_p.V720I': 1, 'BRCA1_p.L471F': 1, 'PTEN_p.D92N': 1, 'HNF1A_p.S145F': 1, 'ELF3_p.X55_splice': 1, 'IKBKE_p.A214T': 1, 'NOTCH3_p.V2135M': 1, 'APC_p.R2470K': 1, 'PPM1D_p.A71T': 1, 'GATA1_p.Q17*': 1, 'ERBB2_p.P481S': 1, 'SMARCA4_p.P55L': 1, 'ALK_p.X830_splice': 1, 'NOTCH2_p.C284Y': 1, 'FGFR3_p.P449S': 1, 'HNF1A_p.S210F': 1, 'KDM5A_p.P1213S': 1, 'ERBB2_p.P481L': 1, 'PDGFRA_p.D983N': 1, 'MLH1_p.Q86*': 1, 'CD276_p.D36N': 1, 'NTRK3_p.P792S': 1, 'SHQ1_p.G507D': 1, 'DNMT3B_p.R116K': 1, 'APC_p.P1243L': 1, 'FOXA1_p.E24K': 1, 'CHEK2_p.S35F': 1, 'RUNX1_p.A187V': 1, 'SETD2_p.T896I': 1, 'IRS2_p.P877S': 1, 'EPHA3_p.W808*': 1, 'ARID1B_p.S1558F': 1, 'BCL6_p.G174E': 1, 'CDC73_p.V523I': 1, 'CRLF2_p.P105S': 1, 'MLL3_p.G3843E': 1, 'ATR_p.X1461_splice': 1, 'DNMT3B_p.X356_splice': 1, 'PIM1_p.H11Y': 1, 'PDGFRB_p.S201F': 1, 'SPEN_p.L1295F': 1, 'NOTCH2_p.G1170E': 1, 'ARID2_p.D1758N': 1, 'IKBKE_p.A493T': 1, 'KDM5A_p.L239F': 1, 'MAP2K4_p.P71S': 1, 'DROSHA_p.R232K': 1, 'ERCC2_p.T68I': 1, 'CDKN2C_p.G38E': 1, 'NF1_p.X1526_splice': 1, 'KDM5A_p.R1222K': 1, 'PIK3C2G_p.S1337F': 1, 'DNMT3B_p.S320N': 1, 'DNMT3A_p.P743S': 1, 'ABL1_p.V33I': 1, 'RPS6KB2_p.X349_splice': 1, 'CCND1_p.E277K': 1, 'ATM_p.P434L': 1, 'POLE_p.P1505L': 1, 'RPS6KA4_p.P340S': 1, 'PDGFRB_p.S408F': 1, 'RECQL4_p.G351S': 1, 'STK40_p.G105S': 1, 'CBL_p.P250L': 1, 'FLT1_p.S1277N': 1, 'TP53BP1_p.T1817I': 1, 'GLI1_p.G598E': 1, 'PTPRS_p.G1174S': 1, 'NCOA3_p.S715F': 1, 'ARID1A_p.P870L': 1, 'WHSC1_p.G1357D': 1, 'NKX3-1_p.G70E': 1, 'ABL1_p.G908R': 1, 'RASA1_p.X339_splice': 1, 'JAK3_p.V372M': 1, 'ROS1_p.W292*': 1, 'AMER1_p.G1014E': 1, 'DAXX_p.E453K': 1, 'KMT2C_p.P2358L': 1, 'AMER1_p.T777I': 1, 'FAT1_p.G2731E': 1, 'KDM5C_p.P357S': 1, 'ERBB4_p.G830R': 1, 'H3F3A_p.D82N': 1, 'FANCC_p.S57F': 1, 'TOP1_p.D85N': 1, 'KEAP1_p.D579N': 1, 'PIM1_p.G78E': 1, 'ARID5B_p.H231Y': 1, 'STAT3_p.D261N': 1, 'MRE11A_p.L362F': 1, 'SMAD2_p.E38K': 1, 'PIK3CA_p.V254M': 1, 'STAG2_p.E1023K': 1, 'KDM5A_p.E887K': 1, 'PTPRT_p.E1296K': 1, 'ATR_p.Q996*': 1, 'ASXL1_p.P414S': 1, 'NCOR1_p.S234N': 1, 'MDC1_p.E583K': 1, 'PIK3CA_p.A1066V': 1, 'NOTCH2_p.E2411K': 1, 'EPHA7_p.S237N': 1, 'FGFR2_p.G271E': 1, 'HIST1H3B_p.P39L': 1, 'BLM_p.T999I': 1, 'FOXA1_p.G76D': 1, 'SYK_p.H465Y': 1, 'DNMT1_p.L1042F': 1, 'INPP4A_p.P405S': 1, 'ATM_p.G1459E': 1, 'ERBB2_p.S893F': 1, 'RASA1_p.P274L': 1, 'RAD51B_p.E198K': 1, 'HIST1H1C_p.G30D': 1, 'MYCL1_p.H238Y': 1, 'RET_p.A877V': 1, 'ARID1A_p.G1737S': 1, 'FGF3_p.E119K': 1, 'PIK3R3_p.D336N': 1, 'IL10_p.A170T': 1, 'PARK2_p.M432I': 1, 'ATR_p.T653I': 1, 'PARK2_p.G329D': 1, 'RAC2_p.A3V': 1, 'NF1_p.V1076I': 1, 'BRCA2_p.E1548K': 1, 'CCNE1_p.P71S': 1, 'MGA_p.D582N': 1, 'CIC_p.S231N': 1, 'AGO2_p.X264_splice': 1, 'DOT1L_p.E541K': 1, 'TSC2_p.E968K': 1, 'RPS6KA4_p.G525D': 1, 'STAG2_p.V231M': 1, 'ATM_p.X2929_splice': 1, 'SYK_p.V475I': 1, 'IDH2_p.P213S': 1, 'DAXX_p.E475K': 1, 'ASXL2_p.L1067F': 1, 'TSHR_p.P16S': 1, 'KEAP1_p.S243F': 1, 'IKZF1_p.S10F': 1, 'PDGFRB_p.S425N': 1, 'KMT2A_p.D3325N': 1, 'EPHB1_p.A935V': 1, 'H3F3C_p.T12I': 1, 'FLCN_p.E318K': 1, 'ERRFI1_p.E413K': 1, 'DUSP4_p.V127M': 1, 'ATM_p.L606F': 1, 'PTEN_p.A333V': 1, 'EGFR_p.P1144L': 1, 'EPHB1_p.A655T': 1, 'SMARCD1_p.P370S': 1, 'PIK3C2G_p.T423I': 1, 'CSF3R_p.A381T': 1, 'MLH1_p.P648L': 1, 'TSC2_p.G1134D': 1, 'APC_p.Q2322*': 1, 'IKZF1_p.G323E': 1, 'BRCA1_p.S288N': 1, 'NSD1_p.P1090L': 1, 'PTPRD_p.X181_splice': 1, 'MTOR_p.E1925K': 1, 'MST1R_p.G952E': 1, 'KMT2B_p.V849M': 1, 'ALK_p.W554*': 1, 'POLD1_p.S544N': 1, 'SMO_p.A327T': 1, 'DROSHA_p.D381N': 1, 'CARD11_p.G5R': 1, 'MTOR_p.V1679I': 1, 'POLE_p.A1093T': 1, 'EIF4A2_p.X70_splice': 1, 'PIK3R1_p.T283I': 1, 'APC_p.P1992L': 1, 'RNF43_p.P624L': 1, 'JAK3_p.G987D': 1, 'TOP1_p.A622V': 1, 'POLE_p.T2215I': 1, 'MSH6_p.P399L': 1, 'ATRX_p.P1528L': 1, 'ATM_p.A2649T': 1, 'LMO1_p.W44*': 1, 'FOXA1_p.T317I': 1, 'PIK3C3_p.A80T': 1, 'PDGFRA_p.G789D': 1, 'GSK3B_p.P258S': 1, 'IGF1R_p.P1317S': 1, 'RYBP_p.P107S': 1, 'KLF4_p.G169E': 1, 'SETD2_p.P226S': 1, 'IDH1_p.G339E': 1, 'BRCA2_p.S1134N': 1, 'NF1_p.P1421S': 1, 'MLL2_p.P736S': 1, 'NF1_p.V909M': 1, 'ROS1_p.X709_splice': 1, 'NCOA3_p.X502_splice': 1, 'KIT_p.D901N': 1, 'FAT1_p.H3641Y': 1, 'BRCA2_p.X2659_splice': 1, 'PTPN11_p.W416*': 1, 'ARID1A_p.S381F': 1, 'MLL2_p.P2129L': 1, 'NSD1_p.P798S': 1, 'FGFR1_p.P477S': 1, 'TRAF2_p.P130S': 1, 'MLL2_p.G2114D': 1, 'KMT2D_p.P5260L': 1, 'DNMT3B_p.E686K': 1, 'E2F3_p.A26V': 1, 'NTRK2_p.V757I': 1, 'ROS1_p.G764E': 1, 'SPEN_p.G443D': 1, 'APC_p.T872I': 1, 'PPM1D_p.P471L': 1, 'FANCA_p.G804S': 1, 'CARD11_p.A382V': 1, 'DNMT3B_p.C651Y': 1, 'MUTYH_p.S44N': 1, 'ZFHX3_p.G382S': 1, 'MAP3K13_p.S442N': 1, 'FAT1_p.X3357_splice': 1, 'ATR_p.S902F': 1, 'PBRM1_p.S648F': 1, 'ARAF_p.W303*': 1, 'FAT1_p.A1111T': 1, 'KDM6A_p.V558I': 1, 'PDGFRB_p.P129S': 1, 'MYCL1_p.S254F': 1, 'SOX2_p.V143I': 1, 'ATM_p.R1859K': 1, 'ARID5B_p.P182S': 1, 'DNMT1_p.E71K': 1, 'KMT2B_p.P1054L': 1, 'EPHA7_p.G306S': 1, 'ARID1A_p.A1932T': 1, 'NOTCH4_p.X722_splice': 1, 'SMAD3_p.G73D': 1, 'NOTCH4_p.S1883F': 1, 'MLL3_p.G1390E': 1, 'IL7R_p.E31K': 1, 'SOX2_p.L81F': 1, 'KMT2D_p.V4525I': 1, 'ID3_p.P32S': 1, 'ZFHX3_p.A1710T': 1, 'PIK3CD_p.T458I': 1, 'ARID1A_p.P776L': 1, 'TERT_p.G198R': 1, 'NCOR1_p.S470N': 1, 'MDC1_p.P1385S': 1, 'RARA_p.G13D': 1, 'KMT2C_p.W1639*': 1, 'MSH2_p.X71_splice': 1, 'EPHA5_p.P878L': 1, 'JUN_p.G152E': 1, 'MEN1_p.T443I': 1, 'BLM_p.R599K': 1, 'ZFHX3_p.G2305R': 1, 'HIST1H3D_p.A92T': 1, 'MYCL1_p.A258T': 1, 'NTRK3_p.P733S': 1, 'MLL2_p.S4414N': 1, 'INSR_p.P79S': 1, 'NSD1_p.A2453V': 1, 'PAX5_p.L33F': 1, 'MSH6_p.Q1048*': 1, 'TGFBR2_p.A242V': 1, 'KDR_p.E764K': 1, 'PIK3C2G_p.T1391I': 1, 'MSH2_p.V3M': 1, 'CD274_p.G245E': 1, 'PRKD1_p.W869*': 1, 'ATRX_p.W1641*': 1, 'DNMT1_p.P955L': 1, 'CARD11_p.D810N': 1, 'APC_p.G524S': 1, 'MPL_p.P70S': 1, 'SMO_p.P84L': 1, 'ERBB3_p.G196S': 1, 'BRCA2_p.E1276K': 1, 'TET2_p.P133S': 1, 'PTCH1_p.D1128N': 1, 'GLI1_p.S963F': 1, 'TERT_p.G138R': 1, 'MET_p.T718I': 1, 'PTPRD_p.L895F': 1, 'KMT2D_p.P381S': 1, 'NTRK1_p.C656Y': 1, 'ABL1_p.R732K': 1, 'KMT2B_p.C465Y': 1, 'SETD2_p.W1640*': 1, 'SMAD3_p.G17D': 1, 'BARD1_p.T88I': 1, 'AXL_p.C20Y': 1, 'SHOC2_p.G349S': 1, 'PALB2_p.E650K': 1, 'MDC1_p.E1024K': 1, 'FOXP1_p.X140_splice': 1, 'ASXL1_p.D1141N': 1, 'FGF19_p.S136F': 1, 'NOTCH4_p.A1298V': 1, 'AURKA_p.S388L': 1, 'SMO_p.A87V': 1, 'BRCA1_p.S1434N': 1, 'KMT2B_p.E1066K': 1, 'IDH2_p.A181T': 1, 'KMT2C_p.G3943E': 1, 'CYLD_p.P455S': 1, 'TET2_p.T1220I': 1, 'MDC1_p.A413T': 1, 'ABL1_p.G701D': 1, 'ERCC4_p.P501L': 1, 'MLL2_p.P4506L': 1, 'KIT_p.D615N': 1, 'PGR_p.A199T': 1, 'CBL_p.G694D': 1, 'ERBB2_p.G572D': 1, 'CCND3_p.T283I': 1, 'ATR_p.G874E': 1, 'MAP2K4_p.G39D': 1, 'DUSP4_p.A293V': 1, 'CDK12_p.G1393E': 1, 'ATM_p.P1069S': 1, 'CHEK1_p.G89R': 1, 'RAF1_p.A208T': 1, 'CDK4_p.S28N': 1, 'CCND3_p.G216S': 1, 'NOTCH3_p.A979V': 1, 'MET_p.A1221T': 1, 'PBRM1_p.X1525_splice': 1, 'SDHD_p.P28L': 1, 'HOXB13_p.A141T': 1, 'RPTOR_p.P299L': 1, 'MGA_p.S572L': 1, 'TP53_p.G245D': 1, 'MAP3K1_p.P485L': 1, 'CDK12_p.S236N': 1, 'SMARCA4_p.L1124F': 1, 'FUBP1_p.X525_splice': 1, 'ERBB4_p.G565D': 1, 'IRS2_p.P934L': 1, 'IRS2_p.G726D': 1, 'CTCF_p.H485Y': 1, 'CTCF_p.G588E': 1, 'NF1_p.S421F': 1, 'ERBB2_p.X990_splice': 1, 'SESN2_p.V453I': 1, 'MSH6_p.L72F': 1, 'ATR_p.R1611K': 1, 'NOTCH4_p.G348S': 1, 'NCOR1_p.E606K': 1, 'KMT2A_p.X1726_splice': 1, 'IKZF1_p.E302K': 1, 'TET1_p.R588K': 1, 'KDM5C_p.T463I': 1, 'NKX2-1_p.A280T': 1, 'FUBP1_p.G295E': 1, 'TSC2_p.P666L': 1, 'MSH2_p.S124F': 1, 'DNMT3A_p.W327*': 1, 'TRAF7_p.W522*': 1, 'ARID2_p.M364I': 1, 'ATR_p.A2165V': 1, 'AMER1_p.E756K': 1, 'GNAQ_p.V182I': 1, 'EED_p.X375_splice': 1, 'SETD2_p.G1231E': 1, 'AR_p.P513S': 1, 'PIK3CB_p.X57_splice': 1, 'NOTCH1_p.G1261S': 1, 'EPHA7_p.G753E': 1, 'GATA2_p.P41S': 1, 'PIK3CB_p.D74N': 1, 'RAD51D_p.C9Y': 1, 'GATA3_p.P157S': 1, 'TSHR_p.S314F': 1, 'NSD1_p.G55E': 1, 'MST1R_p.P160S': 1, 'EGFR_p.S1036N': 1, 'MLL3_p.E532K': 1, 'CDKN2A_p.P75S': 1, 'MSH6_p.G1218D': 1, 'PARP1_p.V833I': 1, 'EPHB1_p.S413F': 1, 'NF1_p.P516S': 1, 'NSD1_p.V2034M': 1, 'ATM_p.V2355I': 1, 'POLE_p.P697S': 1, 'EZH2_p.G395E': 1, 'EP300_p.A511V': 1, 'EPHB1_p.E816K': 1, 'MLH1_p.X197_splice': 1, 'MAP3K1_p.P291L': 1, 'SPOP_p.A309V': 1, 'BRCA1_p.D1123N': 1, 'MSH6_p.X1147_splice': 1, 'BCOR_p.G1602D': 1, 'MST1R_p.P160L': 1, 'IRS2_p.P521L': 1, 'RASA1_p.D469N': 1, 'AXIN2_p.D746N': 1, 'SPEN_p.S835F': 1, 'ARID1B_p.G903E': 1, 'GRIN2A_p.E1040K': 1, 'BRIP1_p.G290D': 1, 'CARD11_p.D441N': 1, 'DICER1_p.W1024*': 1, 'YAP1_p.P231S': 1, 'ARID1A_p.P153L': 1, 'ARID1A_p.A2097T': 1, 'DNMT3A_p.S775F': 1, 'MSH6_p.S1208F': 1, 'MAP3K13_p.C223Y': 1, 'GATA3_p.S139F': 1, 'CUL3_p.G555S': 1, 'KDM5A_p.A1049T': 1, 'TEK_p.A1006V': 1, 'EPHA7_p.E876K': 1, 'SMARCA4_p.L196F': 1, 'BRCA1_p.S1861N': 1, 'EGFR_p.P1108L': 1, 'NF1_p.S1318N': 1, 'PIK3CG_p.H471Y': 1, 'WT1_p.P110S': 1, 'ARID1B_p.E2214K': 1, 'IGF2_p.T70I': 1, 'DNMT3A_p.P385S': 1, 'RPTOR_p.H531Y': 1, 'FOXL2_p.P192S': 1, 'ERBB4_p.D518N': 1, 'INPPL1_p.G1190D': 1, 'SOS1_p.G482S': 1, 'NCOR1_p.P1035S': 1, 'TET1_p.W1220*': 1, 'BCOR_p.A1264T': 1, 'MST1R_p.V945M': 1, 'SYK_p.P322S': 1, 'DICER1_p.R1451K': 1, 'TP63_p.S462N': 1, 'CHEK1_p.D8N': 1, 'EP300_p.P936S': 1, 'ASXL2_p.S466F': 1, 'NOTCH3_p.P817S': 1, 'FLCN_p.X392_splice': 1, 'NCOR1_p.D100N': 1, 'GRIN2A_p.S677F': 1, 'ARID1B_p.A399T': 1, 'FLT1_p.A361T': 1, 'MYD88_p.P83S': 1, 'KMT2D_p.P4967L': 1, 'MST1_p.P76L': 1, 'PTPRD_p.P1129S': 1, 'MST1_p.S89N': 1, 'EZH2_p.P215S': 1, 'SESN3_p.X27_splice': 1, 'ARID1A_p.G155D': 1, 'MTOR_p.E1530K': 1, 'MITF_p.D308N': 1, 'POLE_p.G1581E': 1, 'BTK_p.W281*': 1, 'SRC_p.V397M': 1, 'RNF43_p.P669L': 1, 'ABL1_p.G634D': 1, 'RAD54L_p.P62S': 1, 'ATRX_p.V2357I': 1, 'EED_p.P203L': 1, 'MDC1_p.S566F': 1, 'SPEN_p.V2972I': 1, 'NFE2L2_p.Q421*': 1, 'EGFR_p.G983E': 1, 'MGA_p.X2466_splice': 1, 'MLL3_p.S177N': 1, 'PMS1_p.E880K': 1, 'FOXL2_p.G43E': 1, 'PTEN_p.G36R': 1, 'EPHB1_p.P824L': 1, 'MSH2_p.X359_splice': 1, 'TSHR_p.G498D': 1, 'SLX4_p.E1517K': 1, 'RECQL4_p.G236S': 1, 'TGFBR2_p.S181N': 1, 'NF1_p.X1236_splice': 1, 'DIS3_p.X931_splice': 1, 'PIK3R1_p.G27D': 1, 'APC_p.G1120E': 1, 'DOT1L_p.P988S': 1, 'FGF3_p.L39F': 1, 'KDM5A_p.E1485K': 1, 'ALK_p.G1304E': 1, 'RPTOR_p.X550_splice': 1, 'SMARCA4_p.G279R': 1, 'ABL1_p.R877K': 1, 'RUNX1_p.G24E': 1, 'ARID1B_p.P438S': 1, 'CTLA4_p.A77T': 1, 'CDH1_p.T263I': 1, 'ERF_p.S306N': 1, 'SMAD3_p.T66I': 1, 'FLT4_p.S75N': 1, 'MST1R_p.P114S': 1, 'DOT1L_p.P481S': 1, 'TET1_p.G78E': 1, 'ARID2_p.G1480R': 1, 'TAP2_p.P186L': 1, 'KDM6A_p.G1128D': 1, 'GLI1_p.S201N': 1, 'MTOR_p.P1474S': 1, 'KMT2B_p.S477N': 1, 'TCF3_p.P140S': 1, 'ASXL2_p.P1397S': 1, 'ARID1A_p.G1617D': 1, 'FAT1_p.D1321N': 1, 'PIK3C2G_p.L646F': 1, 'KMT2A_p.P3668S': 1, 'MAP3K1_p.A598T': 1, 'TP63_p.D582N': 1, 'SPEN_p.P3460S': 1, 'PIK3C2G_p.S402F': 1, 'MTOR_p.W2304*': 1, 'ANKRD11_p.E1467K': 1, 'MITF_p.D481N': 1, 'NF2_p.E350K': 1, 'CIC_p.V924M': 1, 'PARK2_p.P153L': 1, 'ARID5B_p.D270N': 1, 'AMER1_p.G1079D': 1, 'KIT_p.P27L': 1, 'MGA_p.G2947E': 1, 'MSI1_p.A79T': 1, 'UPF1_p.G49D': 1, 'MGA_p.S2952F': 1, 'MLL_p.G3332E': 1, 'MEN1_p.G213D': 1, 'CIC_p.A927V': 1, 'NTRK3_p.G385S': 1, 'BARD1_p.G264D': 1, 'BCL6_p.C296Y': 1, 'FGFR1_p.P58S': 1, 'BIRC3_p.E478K': 1, 'ARID2_p.P1395S': 1, 'NOTCH1_p.P913S': 1, 'CSF1R_p.P401L': 1, 'SESN1_p.T502I': 1, 'RAD50_p.X1055_splice': 1, 'LATS1_p.X865_splice': 1, 'MLL2_p.M307I': 1, 'KDR_p.C1142Y': 1, 'TET2_p.D1587N': 1, 'CDKN2Ap16INK4A_p.P75S': 1, 'PDGFRB_p.G363D': 1, 'PNRC1_p.G187E': 1, 'MTOR_p.T1036I': 1, 'NSD1_p.D1747N': 1, 'GATA2_p.P250L': 1, 'KMT2C_p.D218N': 1, 'SOX2_p.P279L': 1, 'ZFHX3_p.D2753N': 1, 'FAT1_p.G981R': 1, 'ZFHX3_p.P184S': 1, 'DNMT1_p.E260K': 1, 'ERBB4_p.A248V': 1, 'DDR2_p.T685I': 1, 'TCF7L2_p.P525L': 1, 'RB1_p.Q504*': 1, 'RET_p.S1114N': 1, 'ARID1B_p.S1202F': 1, 'CDK8_p.L205F': 1, 'ALK_p.G818E': 1, 'PARP1_p.S479F': 1, 'GATA1_p.S8F': 1, 'ZRSR2_p.E74K': 1, 'NSD1_p.S561F': 1, 'KMT2B_p.P1937S': 1, 'CXCR4_p.G3R': 1, 'TGFBR2_p.P183S': 1, 'SETD2_p.S475F': 1, 'AKT2_p.H406Y': 1, 'SOX17_p.A394T': 1, 'TCF3_p.E517K': 1, 'DAXX_p.D491N': 1, 'TBX3_p.P8S': 1, 'BAP1_p.W52*': 1, 'PTPRD_p.P348L': 1, 'NOTCH1_p.P1236L': 1, 'NTRK2_p.T171I': 1, 'BRAF_p.G466E': 1, 'KDM6A_p.S718N': 1, 'JAK2_p.H944Y': 1, 'MAP3K1_p.X211_splice': 1, 'SYK_p.D122N': 1, 'ATRX_p.E687K': 1, 'HGF_p.G638E': 1, 'DDR2_p.A747T': 1, 'STAT3_p.X534_splice': 1, 'MGA_p.W2758*': 1, 'STAG2_p.V130I': 1, 'RRAGC_p.A388T': 1, 'DNMT1_p.G677D': 1, 'KMT2D_p.E5004K': 1, 'PTCH1_p.E221K': 1, 'RFWD2_p.V24M': 1, 'KDR_p.E917K': 1, 'AKT1_p.A250V': 1, 'SPOP_p.V161M': 1, 'TCF3_p.S207N': 1, 'PBRM1_p.X362_splice': 1, 'SMO_p.P26S': 1, 'FYN_p.W429*': 1, 'CSF3R_p.E24K': 1, 'PRKD1_p.W532*': 1, 'HIST3H3_p.E134K': 1, 'POLE_p.C619Y': 1, 'TMPRSS2_p.W520*': 1, 'EGFR_p.G635D': 1, 'NOTCH4_p.G1185E': 1, 'EGFR_p.V651M': 1, 'TRAF7_p.E112K': 1, 'ATR_p.G2502E': 1, 'FUBP1_p.G473E': 1, 'MTOR_p.W233*': 1, 'FANCA_p.P128S': 1, 'MTOR_p.T1876I': 1, 'CDKN1A_p.A127T': 1, 'PMS1_p.A663V': 1, 'TMPRSS2_p.P2L': 1, 'FLT4_p.G1175S': 1, 'MDC1_p.A1145T': 1, 'ARID1B_p.G1199S': 1, 'PAX5_p.S163F': 1, 'FOXO1_p.S287N': 1, 'MAP2K1_p.G328E': 1, 'IL7R_p.X180_splice': 1, 'PALB2_p.G1068R': 1, 'SPEN_p.P2490S': 1, 'PTEN_p.G132D': 1, 'CARD11_p.P454S': 1, 'APC_p.G2273E': 1, 'SMARCA4_p.E593K': 1, 'LATS1_p.G166R': 1, 'NF1_p.T2514I': 1, 'MSH6_p.G460D': 1, 'KMT2D_p.G1793E': 1, 'MAP3K13_p.R535K': 1, 'MLL2_p.G2569D': 1, 'KMT2D_p.P375S': 1, 'KDM5A_p.T817I': 1, 'MLL2_p.P4623L': 1, 'CSDE1_p.S562F': 1, 'MLL2_p.G4299R': 1, 'PTPN11_p.P323L': 1, 'MLL3_p.P828S': 1, 'BRCA2_p.G3141E': 1, 'NOTCH2_p.A1108T': 1, 'NSD1_p.L1838F': 1, 'PREX2_p.L1271F': 1, 'GNA11_p.D138N': 1, 'KMT2C_p.P2033S': 1, 'BRCA1_p.D430N': 1, 'TP53_p.V147I': 1, 'INPP4B_p.G141E': 1, 'PTCH1_p.P1387L': 1, 'TSC2_p.X161_splice': 1, 'BCOR_p.G24E': 1, 'CDC73_p.P343S': 1, 'PREX2_p.G164R': 1, 'MPL_p.E36K': 1, 'RBM10_p.G395E': 1, 'NCOR1_p.A1858V': 1, 'EPHB1_p.G626E': 1, 'SMARCA4_p.E488K': 1, 'PTPRD_p.G746E': 1, 'IRS1_p.A1029T': 1, 'FLT1_p.G191S': 1, 'KMT2A_p.S2304F': 1, 'CIC_p.G797D': 1, 'SMARCB1_p.P215L': 1, 'KMT2C_p.P3459S': 1, 'NOTCH2_p.D1874N': 1, 'TCEB1_p.E98K': 1, 'MALT1_p.L456F': 1, 'NF1_p.A2617T': 1, 'FLT3_p.A813T': 1, 'ERRFI1_p.E170K': 1, 'SMO_p.D782N': 1, 'TNFRSF14_p.S108N': 1, 'AXL_p.D690N': 1, 'PARP1_p.P359L': 1, 'EGFR_p.G428D': 1, 'ARID1A_p.S1247F': 1, 'BLM_p.M816I': 1, 'RECQL4_p.T47I': 1, 'XIAP_p.X434_splice': 1, 'RASA1_p.P140S': 1, 'AURKA_p.E175K': 1, 'RICTOR_p.V201M': 1, 'TCF7L2_p.D557N': 1, 'ALK_p.L1226F': 1, 'ATRX_p.G1597S': 1, 'MLL2_p.P2727S': 1, 'CSDE1_p.P718S': 1, 'DUSP4_p.P349S': 1, 'EP300_p.T278I': 1, 'ARAF_p.X434_splice': 1, 'FANCA_p.T323I': 1, 'SETD2_p.E632K': 1, 'ZFHX3_p.S3451F': 1, 'MSH6_p.S998F': 1, 'NSD1_p.P1695S': 1, 'EPHB1_p.P417S': 1, 'RAD21_p.L571F': 1, 'RASA1_p.X300_splice': 1, 'CUL3_p.V628I': 1, 'DAXX_p.G623R': 1, 'PRKAR1A_p.R146K': 1, 'FANCA_p.R685K': 1, 'NOTCH4_p.P1305S': 1, 'FLCN_p.V467M': 1, 'BRCA1_p.R296K': 1, 'PIK3CD_p.P134S': 1, 'FAT1_p.S3441F': 1, 'CDK4_p.G44E': 1, 'CREBBP_p.P279L': 1, 'DIS3_p.G41E': 1, 'ERBB4_p.V315I': 1, 'ATRX_p.S1245L': 1, 'YES1_p.G294E': 1, 'WT1_p.S290N': 1, 'IFNGR1_p.P30S': 1, 'RFWD2_p.S721N': 1, 'RAC1_p.P118S': 1, 'BCL6_p.G280S': 1, 'CSF3R_p.G798R': 1, 'AXIN1_p.E209K': 1, 'NSD1_p.C1745Y': 1, 'MSH3_p.E376K': 1, 'EP300_p.P1907S': 1, 'PIK3CD_p.S208F': 1, 'CEBPA_p.P45S': 1, 'PGR_p.T298I': 1, 'MPL_p.S271F': 1, 'FGFR1_p.E739K': 1, 'IRS2_p.P1201L': 1, 'SMARCD1_p.E475K': 1, 'LATS2_p.G960R': 1, 'BRAF_p.P731L': 1, 'PIK3CG_p.G897S': 1, 'PDGFRB_p.G607D': 1, 'PTPRT_p.X190_splice': 1, 'FGFR1_p.X586_splice': 1, 'MYC_p.V254M': 1, 'SETD2_p.E1432K': 1, 'CTCF_p.X261_splice': 1, 'BLM_p.A734T': 1, 'SOX17_p.H368Y': 1, 'SPEN_p.G3332D': 1, 'BRCA2_p.A2864T': 1, 'PTPN11_p.P491S': 1, 'RAD52_p.P351S': 1, 'UPF1_p.G679E': 1, 'MLL2_p.E1680K': 1, 'MLL3_p.G2654D': 1, 'FGFR4_p.A629V': 1, 'ALOX12B_p.E613K': 1, 'TCF3_p.P380L': 1, 'TAP2_p.S254N': 1, 'MSH2_p.A107V': 1, 'IRS2_p.C98Y': 1, 'KIT_p.S239F': 1, 'EZH2_p.S413F': 1, 'MED12_p.G1040D': 1, 'SUFU_p.E348K': 1, 'PTPRT_p.W995*': 1, 'YAP1_p.T390I': 1, 'NOTCH3_p.X1971_splice': 1, 'TEK_p.A372T': 1, 'KMT2C_p.D226N': 1, 'BCOR_p.E1477K': 1, 'MSH6_p.D1277N': 1, 'FYN_p.G197E': 1, 'TP53_p.P153L': 1, 'CREBBP_p.P1997L': 1, 'ERCC5_p.G870D': 1, 'DROSHA_p.X690_splice': 1, 'NUP93_p.A150T': 1, 'MST1R_p.X1021_splice': 1, 'BARD1_p.A262T': 1, 'MPL_p.W110*': 1, 'ARID1B_p.A269V': 1, 'PDGFRB_p.S187N': 1, 'IKZF1_p.G234S': 1, 'CIC_p.P1074S': 1, 'MLL2_p.G4348R': 1, 'FOXP1_p.L129F': 1, 'MET_p.T1289I': 1, 'ARID1A_p.P887S': 1, 'CASP8_p.A463T': 1, 'SHQ1_p.P374S': 1, 'PIK3CA_p.G804R': 1, 'TP53_p.V272M': 1, 'NOTCH3_p.P652L': 1, 'TP53_p.E285K': 1, 'EPHA7_p.X600_splice': 1, 'ZFHX3_p.V3052I': 1, 'PMS2_p.G271D': 1, 'GPS2_p.P184L': 1, 'ATR_p.T611I': 1, 'PPP2R1A_p.L365F': 1, 'ARID1A_p.P1945L': 1, 'MLL2_p.P4916S': 1, 'MAP3K13_p.W708*': 1, 'CUL3_p.M287I': 1, 'ATR_p.A112T': 1, 'PTPRD_p.T1540I': 1, 'MAP2K1_p.T28I': 1, 'ZFHX3_p.S2867F': 1, 'PIK3CA_p.P2L': 1, 'PTPRD_p.E1237K': 1, 'TSHR_p.W520*': 1, 'ERBB2_p.P579S': 1, 'IKZF1_p.L37F': 1, 'MLL2_p.P2619L': 1, 'TMPRSS2_p.G295D': 1, 'SF3B1_p.R590K': 1, 'ERBB4_p.V1115M': 1, 'MLL2_p.V782M': 1, 'EIF1AX_p.G135E': 1, 'ARID1B_p.A16V': 1, 'TMPRSS2_p.G295S': 1, 'EIF4E_p.L113F': 1, 'MDC1_p.G656E': 1, 'ATR_p.C2497Y': 1, 'MGA_p.S1873F': 1, 'PLCG2_p.T156I': 1, 'MCL1_p.G59E': 1, 'PTCH1_p.G148E': 1, 'EP300_p.D2392N': 1, 'NFKBIA_p.G132E': 1, 'SF3B1_p.A239V': 1, 'PIK3CD_p.P572S': 1, 'MYC_p.V311I': 1, 'FGFR4_p.P15S': 1, 'FANCC_p.V446M': 1, 'KMT2A_p.E2533K': 1, 'ARID2_p.D1345N': 1, 'KIT_p.G6D': 1, 'FOXP1_p.G433E': 1, 'MSH6_p.D736N': 1, 'ARID1A_p.G1194E': 1, 'MST1R_p.G353D': 1, 'KDM5C_p.D1343N': 1, 'SOX9_p.T460I': 1, 'ROS1_p.T1879I': 1, 'MLH1_p.A92V': 1, 'NSD1_p.P170S': 1, 'MST1R_p.G1155D': 1, 'FBXW7_p.G654S': 1, 'RPTOR_p.G958R': 1, 'PIK3R1_p.X373_splice': 1, 'PIK3CA_p.G411S': 1, 'REL_p.P445L': 1, 'KMT2D_p.E4438K': 1, 'TGFBR2_p.S253N': 1, 'ARAF_p.A565V': 1, 'RET_p.D219N': 1, 'MAP3K1_p.P1034S': 1, 'RIT1_p.G31S': 1, 'SETD2_p.W1341*': 1, 'NOTCH2_p.G1239D': 1, 'CYLD_p.A458V': 1, 'PTCH1_p.S1003N': 1, 'MLL3_p.G2486R': 1, 'ETV6_p.T387I': 1, 'INSR_p.G1223D': 1, 'DICER1_p.D418N': 1, 'PIK3R3_p.P127L': 1, 'KMT2B_p.G92S': 1, 'CREBBP_p.X28_splice': 1, 'STK11_p.S216F': 1, 'GATA2_p.P41L': 1, 'AXL_p.D627N': 1, 'CTNNB1_p.E77K': 1, 'RHOA_p.G17E': 1, 'CENPA_p.R15K': 1, 'FLT3_p.S337N': 1, 'CSF1R_p.P158L': 1, 'ANKRD11_p.S788L': 1, 'ARID5B_p.S680F': 1, 'PRDM14_p.A9T': 1, 'FOXP1_p.P553L': 1, 'PMS1_p.R690K': 1, 'MAP2K4_p.D276N': 1, 'PIK3CA_p.G1050S': 1, 'NOTCH3_p.P1249L': 1, 'DAXX_p.D288N': 1, 'AXL_p.P433S': 1, 'ATRX_p.P663L': 1, 'PARK2_p.E344K': 1, 'TET2_p.L1971F': 1, 'MDC1_p.V749I': 1, 'POLE_p.S1238N': 1, 'KMT2A_p.P3178S': 1, 'CTCF_p.V169M': 1, 'PLCG2_p.S79F': 1, 'CIC_p.S1246N': 1, 'ELF3_p.S197F': 1, 'LATS1_p.G260D': 1, 'SMARCB1_p.A294V': 1, 'FGF4_p.P22S': 1, 'DUSP4_p.P189S': 1, 'YES1_p.E520K': 1, 'KDM5C_p.W983*': 1, 'EPHA7_p.P469S': 1, 'IGF1R_p.G367E': 1, 'VTCN1_p.X241_splice': 1, 'MLL3_p.E2725K': 1, 'GNAS_p.E209K': 1, 'DOT1L_p.A1455T': 1, 'TSC1_p.G159D': 1, 'MED12_p.G1662D': 1, 'IGF2_p.A73V': 1, 'GATA3_p.S308F': 1, 'SOS1_p.A287T': 1, 'PPM1D_p.M508I': 1, 'EPHA3_p.Q386*': 1, 'ASXL1_p.P783S': 1, 'TRAF7_p.G397S': 1, 'BRD4_p.D231N': 1, 'DNMT1_p.P138L': 1, 'FOXO1_p.S448N': 1, 'TCF3_p.S152F': 1, 'RPTOR_p.G750D': 1, 'JAK3_p.A2V': 1, 'FGF3_p.S196N': 1, 'SUZ12_p.V31M': 1, 'IL7R_p.X127_splice': 1, 'PRDM14_p.G399S': 1, 'EPHB1_p.R154K': 1, 'SPEN_p.V1002I': 1, 'MDC1_p.E1831K': 1, 'MSH6_p.A729T': 1, 'MST1R_p.G314D': 1, 'AGO2_p.G616S': 1, 'EP300_p.G1842E': 1, 'MAP3K13_p.T288I': 1, 'FYN_p.G66S': 1, 'PBRM1_p.P313S': 1, 'TERT_p.R239K': 1, 'ASXL1_p.R876K': 1, 'SMYD3_p.V373M': 1, 'EIF4E_p.E123K': 1, 'SH2B3_p.A100V': 1, 'MSH6_p.S722F': 1, 'MTOR_p.A2081T': 1, 'STAT3_p.T433I': 1, 'EGFR_p.L760F': 1, 'RB1_p.X350_splice': 1, 'AMER1_p.A33T': 1, 'MAP3K1_p.R673K': 1, 'KMT2A_p.S992F': 1, 'SPEN_p.P3468S': 1, 'SRC_p.P142L': 1, 'ETV6_p.Q68*': 1, 'NOTCH1_p.T66I': 1, 'POLE_p.D16N': 1, 'ASXL1_p.D1078N': 1, 'ZFHX3_p.A775T': 1, 'ZFHX3_p.G3128S': 1, 'KMT2D_p.P4267L': 1, 'PTPN11_p.H196Y': 1, 'NF1_p.P2763L': 1, 'CDK12_p.S296N': 1, 'NSD1_p.T577I': 1, 'BRAF_p.L331F': 1, 'CBL_p.P809L': 1, 'SETD2_p.V1695I': 1, 'FGFR4_p.X145_splice': 1, 'ALK_p.P1466L': 1, 'SMARCA4_p.M189I': 1, 'CSF1R_p.V31I': 1, 'MED12_p.G44S': 1, 'CYSLTR2_p.W51*': 1, 'BRD4_p.P1172S': 1, 'ZFHX3_p.P2511L': 1, 'NCOR1_p.S1620L': 1, 'ARID1B_p.G386E': 1, 'PGR_p.A153T': 1, 'NOTCH2_p.P2150S': 1, 'CBFB_p.Q8*': 1, 'KIT_p.D768N': 1, 'TEK_p.A870T': 1, 'KMT2C_p.G3858D': 1, 'FLT4_p.S1109F': 1, 'CDK12_p.E431K': 1, 'ATRX_p.E935K': 1, 'RTEL1_p.X132_splice': 1, 'DNMT1_p.G678D': 1, 'SMARCA4_p.A152V': 1, 'MAPKAP1_p.T261I': 1, 'SETD2_p.E1720K': 1, 'STAG2_p.L380F': 1, 'WHSC1_p.D351N': 1, 'NOTCH3_p.C826Y': 1, 'ARID2_p.P1727L': 1, 'ANKRD11_p.E735K': 1, 'BRD4_p.X1192_splice': 1, 'FANCC_p.L36F': 1, 'CD276_p.X502_splice': 1, 'CREBBP_p.A467T': 1, 'MAP2K2_p.P93S': 1, 'SOX17_p.L293F': 1, 'PDCD1_p.V14M': 1, 'SETD2_p.G1025D': 1, 'SMARCB1_p.P48S': 1, 'INPP4B_p.D200N': 1, 'REL_p.S386F': 1, 'ASXL1_p.E1354K': 1, 'FOXL2_p.S238N': 1, 'PARP1_p.X886_splice': 1, 'DUSP4_p.S332F': 1, 'TET2_p.P438S': 1, 'ATR_p.H2477Y': 1, 'SOS1_p.X723_splice': 1, 'TET2_p.P401L': 1, 'KMT2D_p.S555F': 1, 'INSR_p.T1215I': 1, 'NOTCH3_p.H2003Y': 1, 'NOTCH2_p.A1916T': 1, 'BRD4_p.P536S': 1, 'FGFR2_p.S436F': 1, 'TP53_p.T140I': 1, 'PTEN_p.R55K': 1, 'ARID1A_p.C2052Y': 1, 'SOX2_p.V303M': 1, 'ARID1A_p.G388D': 1, 'KEAP1_p.G48D': 1, 'KMT2C_p.A3560T': 1, 'NCOR1_p.P1323S': 1, 'IRS2_p.T575I': 1, 'MAP3K1_p.P489S': 1, 'MLL2_p.G5337S': 1, 'ATR_p.A857V': 1, 'SDHB_p.D64N': 1, 'FANCA_p.G1388D': 1, 'MLL3_p.V3744I': 1, 'ARID5B_p.S1037F': 1, 'SETD2_p.G412S': 1, 'GLI1_p.G516S': 1, 'ERBB4_p.V657I': 1, 'KMT2C_p.P3452S': 1, 'KRAS_p.D119N': 1, 'ARID2_p.P1087S': 1, 'ASXL2_p.G120S': 1, 'TCF7L2_p.G329D': 1, 'IKZF1_p.D396N': 1, 'NEGR1_p.P138S': 1, 'CARM1_p.V321M': 1, 'TSC2_p.E1490K': 1, 'FLCN_p.E294K': 1, 'DDR2_p.S467F': 1, 'ATRX_p.P521S': 1, 'FUBP1_p.G529R': 1, 'ROS1_p.G140R': 1, 'MLH1_p.P496S': 1, 'MED12_p.A38V': 1, 'SOCS1_p.E176K': 1, 'SHQ1_p.S233N': 1, 'TERT_p.G145D': 1, 'IKZF1_p.P390S': 1, 'MEF2B_p.G283S': 1, 'NF1_p.X196_splice': 1, 'PIK3R3_p.G378D': 1, 'ATM_p.S2489F': 1, 'FLT3_p.V512I': 1, 'ERBB3_p.A645T': 1, 'PLK2_p.P423L': 1, 'PTEN_p.P95S': 1, 'SMARCA4_p.G836E': 1, 'TP63_p.P166S': 1, 'ANKRD11_p.E53K': 1, 'CTCF_p.E216K': 1, 'FGF19_p.A105V': 1, 'ATR_p.G1496D': 1, 'RAD21_p.G239D': 1, 'ERBB2_p.T328I': 1, 'ERBB3_p.S300F': 1, 'FLCN_p.A45T': 1, 'MAP3K13_p.G107E': 1, 'FBXW7_p.W425*': 1, 'ERCC3_p.P91S': 1, 'SMAD2_p.G30E': 1, 'APC_p.A1591T': 1, 'SPEN_p.P3221S': 1, 'MSH6_p.P114L': 1, 'MED12_p.P1978S': 1, 'TERT_p.E362K': 1, 'PRKAR1A_p.T6I': 1, 'JAK2_p.D1128N': 1, 'SMARCD1_p.D245N': 1, 'AKT3_p.E100K': 1, 'RAD54L_p.V230I': 1, 'WWTR1_p.P106L': 1, 'NOTCH2_p.M950I': 1, 'ASXL2_p.R130K': 1, 'ATR_p.T2391I': 1, 'FAT1_p.G855E': 1, 'CRLF2_p.G29R': 1, 'PRKCI_p.G403E': 1, 'EPHB1_p.E245K': 1, 'ERBB3_p.D581N': 1, 'PBRM1_p.P688S': 1, 'BRAF_p.G258D': 1, 'SMARCA4_p.G1641E': 1, 'SPOP_p.E113K': 1, 'SDHAF2_p.D117N': 1, 'KIT_p.D159N': 1, 'KMT2A_p.P2905L': 1, 'ASXL2_p.T954I': 1, 'ZRSR2_p.P321S': 1, 'PREX2_p.V722M': 1, 'BRD4_p.G732E': 1, 'NCOR1_p.A1730V': 1, 'ARID1A_p.X1368_splice': 1, 'REL_p.G357E': 1, 'MSH6_p.G1157D': 1, 'GLI1_p.G434S': 1, 'NTRK3_p.G361S': 1, 'POLE_p.W669*': 1, 'EED_p.R169K': 1, 'SPRED1_p.P128S': 1, 'EED_p.G108R': 1, 'CBFB_p.A132T': 1, 'PIK3R3_p.A449T': 1, 'TET2_p.G523R': 1, 'PTPRS_p.L1368F': 1, 'REL_p.G579E': 1, 'NBN_p.V314M': 1, 'CDK8_p.E298K': 1, 'PTPRS_p.A731T': 1, 'CASP8_p.S251N': 1, 'FYN_p.X148_splice': 1, 'TEK_p.S1119F': 1, 'IRS1_p.A76T': 1, 'BRCA2_p.G2353S': 1, 'FGFR3_p.E447K': 1, 'TET2_p.P1594L': 1, 'KDR_p.C79Y': 1, 'KDM5C_p.S769F': 1, 'SPEN_p.S853N': 1, 'PDGFRB_p.S574F': 1, 'ASXL1_p.A158T': 1, 'NOTCH3_p.G1135D': 1, 'ERBB3_p.P1208S': 1, 'ERBB4_p.A1219T': 1, 'EZH1_p.P410L': 1, 'SMARCA4_p.G1265D': 1, 'HIST1H3J_p.V90M': 1, 'CSF3R_p.W256*': 1, 'REL_p.S382N': 1, 'NOTCH1_p.C370Y': 1, 'EPHA5_p.V447M': 1, 'NFKBIA_p.T263I': 1, 'MAP2K1_p.L206F': 1, 'YAP1_p.E459K': 1, 'NOTCH3_p.P1174S': 1, 'JAK2_p.E985K': 1, 'TERT_p.P250L': 1, 'MAP2K1_p.G294E': 1, 'TP53_p.S215N': 1, 'PPP2R1A_p.A97V': 1, 'ALK_p.G914E': 1, 'ARID2_p.H321Y': 1, 'ANKRD11_p.D891N': 1, 'TSC2_p.S1387F': 1, 'AXIN1_p.G433E': 1, 'FYN_p.X421_splice': 1, 'RBM10_*67*': 1, 'PALB2_p.E19K': 1, 'BRD4_p.P273L': 1, 'DDR2_p.G68E': 1, 'MAPKAP1_p.V241M': 1, 'DDR2_p.D154N': 1, 'RAB35_p.T91I': 1, 'FAM175A_p.S377N': 1, 'GPS2_p.A249V': 1, 'MGA_p.E1121K': 1, 'ARID1A_p.S1171N': 1, 'DNMT3B_p.E502K': 1, 'CBL_p.X812_splice': 1, 'EZH2_p.X121_splice': 1, 'RNF43_p.G257D': 1, 'DNMT1_p.X1159_splice': 1, 'PTPRD_p.P1015S': 1, 'PTPRT_p.G332S': 1, 'FAT1_p.G1089D': 1, 'BCL6_p.E309K': 1, 'ARID2_p.G6R': 1, 'PTP4A1_p.P7S': 1, 'MRE11A_p.P203S': 1, 'SPEN_p.V2459M': 1, 'TMEM127_p.G184D': 1, 'TET2_p.Q640*': 1, 'PPM1D_p.G232D': 1, 'DICER1_p.S264N': 1, 'EP300_p.G298R': 1, 'MET_p.T444I': 1, 'SUZ12_p.A30T': 1, 'INSR_p.T940I': 1, 'ASXL2_p.R259K': 1, 'CCNE1_p.A378T': 1, 'ALK_p.W386*': 1, 'CREBBP_p.G375E': 1, 'SPRED1_p.G198D': 1, 'BARD1_p.A283V': 1, 'INPP4A_p.R812K': 1, 'MTOR_p.L2261F': 1, 'PIK3C2G_p.E13K': 1, 'FAT1_p.E1769K': 1, 'KIT_p.M541I': 1, 'MYCL_p.P289S': 1, 'CYLD_p.L837F': 1, 'CARD11_p.Q231*': 1, 'MYOD1_p.M116I': 1, 'PREX2_p.A1277V': 1, 'PIK3R1_p.E601K': 1, 'CIC_p.P980L': 1, 'KMT2D_p.X2683_splice': 1, 'TET2_p.G1796E': 1, 'PLK2_p.L137F': 1, 'CDKN2C_p.M45I': 1, 'PIK3C3_p.G353E': 1, 'TSC2_p.G1133R': 1, 'MLL_p.G1149R': 1, 'PMS2_p.S8N': 1, 'TOP1_p.X93_splice': 1, 'AXIN1_p.X821_splice': 1, 'PBRM1_p.C1010Y': 1, 'NOTCH2_p.P22S': 1, 'NOTCH1_p.G2535S': 1, 'TCF3_p.G35D': 1, 'PMS1_p.L580F': 1, 'KMT2C_p.P1809L': 1, 'BTK_p.T403I': 1, 'ATM_p.A2415T': 1, 'ANKRD11_p.W1679*': 1, 'CD276_p.E509K': 1, 'IDH2_p.T117I': 1, 'PTPRS_p.P952S': 1, 'CREBBP_p.P2316L': 1, 'INPP4B_p.A214T': 1, 'FUBP1_p.Q644*': 1, 'IRS2_p.P445L': 1, 'APC_p.P1361L': 1, 'SMAD3_p.P9L': 1, 'KMT2B_p.V436M': 1, 'TCF7L2_p.A543T': 1, 'PTEN_p.Q171*': 1, 'DIS3_p.A705T': 1, 'ARID2_p.G277D': 1, 'ERCC3_p.H415Y': 1, 'PHOX2B_p.D32N': 1, 'APC_p.E892K': 1, 'SOS1_p.E50K': 1, 'SH2B3_p.P193S': 1, 'TGFBR1_p.G188D': 1, 'MAP2K2_p.V246M': 1, 'STAG2_p.L114F': 1, 'WHSC1L1_p.E1183K': 1, 'JAK2_p.X1059_splice': 1, 'CDKN1B_p.P94L': 1, 'RAD54L_p.R390K': 1, 'ROS1_p.P675S': 1, 'DOT1L_p.V26I': 1, 'CSDE1_p.A230T': 1, 'ANKRD11_p.P1015L': 1, 'BLM_p.X1359_splice': 1, 'KMT2C_p.S1312F': 1, 'CD276_p.L25F': 1, 'NCOA3_p.S601N': 1, 'SPEN_p.P1356S': 1, 'APC_p.R2565K': 1, 'AKT1_p.L280F': 1, 'ERRFI1_p.P239S': 1, 'PARK2_p.P417L': 1, 'PIK3CG_p.A84T': 1, 'PREX2_p.L888F': 1, 'TSC2_p.A673T': 1, 'RAD50_p.G1226D': 1, 'PAK1_p.G350D': 1, 'DNMT3A_p.E814K': 1, 'IRS2_p.L948F': 1, 'NOTCH1_p.P447S': 1, 'PTPN11_p.G539E': 1, 'MAP2K4_p.G85R': 1, 'INPP4A_p.P773S': 1, 'MAP2K2_p.P304S': 1, 'PIK3C3_p.E263K': 1, 'SETD2_p.P2200L': 1, 'JAK1_p.D246N': 1, 'MSH6_p.E640K': 1, 'CEBPA_p.G96D': 1, 'STK11_p.P294S': 1, 'IRS1_p.V718M': 1, 'JAK3_p.G491D': 1, 'KMT2C_p.P4148S': 1, 'PDGFRB_p.D756N': 1, 'ATRX_p.R484K': 1, 'MST1R_p.D1208N': 1, 'DNMT1_p.P1325L': 1, 'PTEN_p.G165R': 1, 'STK11_p.X199_splice': 1, 'MSH6_p.V143I': 1, 'IRS1_p.R353K': 1, 'PRDM14_p.S471F': 1, 'YAP1_p.A180T': 1, 'KMT2C_p.G1805E': 1, 'FLT4_p.G1267D': 1, 'RPTOR_p.E1074K': 1, 'JAK2_p.G856D': 1, 'ERG_p.S473F': 1, 'GRIN2A_p.A635V': 1, 'MLL3_p.S3003N': 1, 'KIT_p.S279L': 1, 'FGFR2_p.X250_splice': 1, 'POLE_p.G996S': 1, 'ICOSLG_p.A183T': 1, 'PGR_p.V172I': 1, 'MET_p.E1009K': 1, 'HIST1H3C_p.S11F': 1, 'RFWD2_p.S542F': 1, 'ERBB2_p.T126I': 1, 'KDM5A_p.A1552T': 1, 'FOXA1_p.T351I': 1, 'JAK1_p.X1087_splice': 1, 'NOTCH3_p.P2034S': 1, 'PTPRT_p.T379I': 1, 'MAX_p.E10K': 1, 'PIK3CA_p.E116K': 1, 'FUBP1_p.P73S': 1, 'SF3B1_p.P1139S': 1, 'NUP93_p.G678E': 1, 'PIK3CA_p.D300N': 1, 'NRAS_p.G13S': 1, 'NCOA3_p.E1089K': 1, 'DNMT1_p.P135S': 1, 'AMER1_p.G1117D': 1, 'SRC_p.G303D': 1, 'CSF1R_p.G182D': 1, 'FBXW7_p.V409I': 1, 'MED12_p.X184_splice': 1, 'MRE11A_p.D691N': 1, 'APC_p.A1907T': 1, 'IRS1_p.G1172D': 1, 'MSI1_p.G62S': 1, 'MST1R_p.W797*': 1, 'SMARCA4_p.S117F': 1, 'CTLA4_p.E132K': 1, 'MAPK3_p.G19E': 1, 'MALT1_p.P736S': 1, 'DICER1_p.E1036K': 1, 'GLI1_p.G702E': 1, 'PIK3R2_p.T249I': 1, 'PIK3R2_p.X579_splice': 1, 'IRS2_p.A1096T': 1, 'BRCA1_p.E111K': 1, 'RASA1_p.P31L': 1, 'U2AF1_p.G210D': 1, 'CDKN1A_p.S114L': 1, 'KDM5C_p.P144S': 1, 'RFWD2_p.V42I': 1, 'ASXL1_p.E344K': 1, 'LATS2_p.S781N': 1, 'ATRX_p.E1119K': 1, 'GATA2_p.A411T': 1, 'RAD54L_p.P92S': 1, 'MLL_p.V74I': 1, 'MSH6_p.S614F': 1, 'RET_p.A741T': 1, 'MEF2B_p.X257_splice': 1, 'IRS1_p.T936I': 1, 'MLL_p.V911I': 1, 'SOX9_p.P212S': 1, 'PNRC1_p.Q248*': 1, 'DNMT1_p.D612N': 1, 'NTHL1_p.V161M': 1, 'AXL_p.G548E': 1, 'TERT_p.A257T': 1, 'PDGFRA_p.T1066I': 1, 'CD274_p.V174I': 1, 'RB1_p.S608F': 1, 'MYD88_p.G96D': 1, 'IDH1_p.A307V': 1, 'U2AF1_p.S199F': 1, 'ERBB3_p.G35D': 1, 'MAP3K1_p.E1185K': 1, 'KMT2D_p.A5305T': 1, 'PAK7_p.G704S': 1, 'NOTCH3_p.D636N': 1, 'EPHA3_p.P213S': 1, 'AXL_p.M679I': 1, 'SMARCA4_p.X1475_splice': 1, 'AXIN2_p.G485S': 1, 'NSD1_p.S2651F': 1, 'ANKRD11_p.G2289D': 1, 'CARM1_p.D165N': 1, 'BCOR_p.L696F': 1, 'BRIP1_p.T274I': 1, 'CTCF_p.A302T': 1, 'ARID1A_p.T1640I': 1, 'IRS1_p.G361D': 1, 'RUNX1_p.X169_splice': 1, 'RAD50_p.X974_splice': 1, 'NOTCH4_p.P1615S': 1, 'MLL2_p.E309K': 1, 'RAD51B_p.G288E': 1, 'REL_p.R265K': 1, 'SF3B1_p.A523V': 1, 'POLE_p.G1138R': 1, 'MAP3K1_p.W1449*': 1, 'IRF4_p.P293L': 1, 'PARK2_p.P335S': 1, 'STAT3_p.W4*': 1, 'MAPK3_p.G153S': 1, 'ZFHX3_p.P167S': 1, 'KDM6A_p.E47K': 1, 'DNMT3A_p.A791V': 1, 'KMT2D_p.P377S': 1, 'RPTOR_p.G910D': 1, 'CSF3R_p.R654K': 1, 'SF3B1_p.P224S': 1, 'ARID1A_p.G236D': 1, 'PARP1_p.G421R': 1, 'FLT4_p.V418M': 1, 'TP63_p.D366N': 1, 'CREBBP_p.D599N': 1, 'KDM5A_p.V1082I': 1, 'KMT2D_p.A3268T': 1, 'GLI1_p.T799I': 1, 'MAPK1_p.G230E': 1, 'APC_p.L23F': 1, 'ERF_p.A539T': 1, 'NCOA3_p.D549N': 1, 'MLL3_p.T2275I': 1, 'SOCS1_p.T185I': 1, 'PARP1_p.S776N': 1, 'ERCC3_p.V728M': 1, 'TP53_p.X32_splice': 1, 'TRAF2_p.P374L': 1, 'RECQL4_p.A1066T': 1, 'MDM2_p.G462E': 1, 'NOTCH2_p.V279I': 1, 'FUBP1_p.G395E': 1, 'MSH2_p.Q662*': 1, 'AXL_p.G274R': 1, 'NBN_p.G705E': 1, 'AURKB_p.G269R': 1, 'BTK_p.S318F': 1, 'CXCR4_p.A98V': 1, 'FOXP1_p.P123L': 1, 'ALK_p.A33V': 1, 'AXIN2_p.S464F': 1, 'RET_p.P560L': 1, 'INSR_p.P564L': 1, 'SPOP_p.L149F': 1, 'KMT2B_p.P426L': 1, 'AURKB_p.A329T': 1, 'FGFR3_p.A452T': 1, 'MYCN_p.P237S': 1, 'FLCN_p.G51D': 1, 'ARID1A_p.P1400L': 1, 'MUTYH_p.P416S': 1, 'PBRM1_p.A293T': 1, 'TP63_p.E680K': 1, 'SHQ1_p.P133S': 1, 'MED12_p.P1029S': 1, 'BCL2L1_p.W181*': 1, 'HGF_p.G229D': 1, 'XPO1_p.X42_splice': 1, 'RPS6KB2_p.X153_splice': 1, 'GATA3_p.T215I': 1, 'APC_p.E761K': 1, 'JAK3_p.V97I': 1, 'NTRK3_p.G27D': 1, 'ERBB3_p.P860S': 1, 'MAP3K13_p.G50R': 1, 'PTPRT_p.A1158V': 1, 'GLI1_p.P1023L': 1, 'DICER1_p.P919L': 1, 'GATA1_p.A57V': 1, 'WHSC1L1_p.G516E': 1, 'FANCA_p.A1347T': 1, 'SPRED1_p.T300I': 1, 'HGF_p.L565F': 1, 'CREBBP_p.E1387K': 1, 'TERT_p.R277K': 1, 'FUBP1_p.R620K': 1, 'ABL1_p.G626D': 1, 'SDHA_p.G358D': 1, 'CBL_p.A783T': 1, 'ERBB4_p.G907E': 1, 'SPEN_p.P212L': 1, 'NBN_p.S486F': 1, 'CALR_p.V93M': 1, 'HIST3H3_p.G35D': 1, 'PIK3R3_p.G123D': 1, 'RTEL1_p.G495S': 1, 'RAD51D_p.V39I': 1, 'ERBB2_p.V853I': 1, 'WHSC1_p.E667K': 1, 'CBL_p.G195E': 1, 'FGFR1_p.D766N': 1, 'KDM5A_p.G129S': 1, 'CIC_p.Q378*': 1, 'BRD4_p.P642L': 1, 'NFE2L2_p.D27N': 1, 'CASP8_p.V222I': 1, 'FAT1_p.G1282S': 1, 'TET1_p.P1956S': 1, 'NF1_p.W696*': 1, 'ALOX12B_p.A381V': 1, 'DICER1_p.D1440N': 1, 'AR_p.Q91*': 1, 'MYCL1_p.S191N': 1, 'MCL1_p.R95K': 1, 'DICER1_p.T1066I': 1, 'ZFHX3_p.P2460L': 1, 'MLL_p.P907S': 1, 'ANKRD11_p.D2573N': 1, 'FLT4_p.A677V': 1, 'NOTCH4_p.P541S': 1, 'BRCA1_p.S242N': 1, 'NOTCH1_p.C638Y': 1, 'CREBBP_p.P1945L': 1, 'CTCF_p.E133K': 1, 'MLL3_p.P4110L': 1, 'KEAP1_p.A321T': 1, 'RASA1_p.E722K': 1, 'KMT2D_p.P907L': 1, 'ROS1_p.E2120K': 1, 'KDM6A_p.V1386I': 1, 'KMT2D_p.X5351_splice': 1, 'ERBB3_p.V343M': 1, 'KDM5A_p.W742*': 1, 'FAT1_p.A1510T': 1, 'ERG_p.S182N': 1, 'ARID1B_p.H14Y': 1, 'STAG2_p.R654K': 1, 'FBXW7_p.S516N': 1, 'MDM4_p.P388L': 1, 'KIT_p.D751N': 1, 'KMT2C_p.E2866K': 1, 'MLL2_p.C5142Y': 1, 'BCOR_p.P707L': 1, 'EIF4A2_p.A123T': 1, 'EGFR_p.G663E': 1, 'BRD4_p.A467T': 1, 'CCND2_p.G205E': 1, 'NTRK1_p.V663M': 1, 'DNMT3B_p.G663D': 1, 'NOTCH3_p.G1105D': 1, 'MAPK3_p.G232S': 1, 'CIC_p.A1605V': 1, 'EPHA7_p.P443S': 1, 'ATRX_p.E824K': 1, 'TSHR_p.L589F': 1, 'MDC1_p.G855E': 1, 'RICTOR_p.A471V': 1, 'GRIN2A_p.G62R': 1, 'KRAS_p.G12S': 1, 'PMAIP1_p.P12S': 1, 'PARK2_p.G152D': 1, 'SYK_p.Q145*': 1, 'KMT2D_p.X1302_splice': 1, 'ERBB2_p.E363K': 1, 'PTCH1_p.Q576*': 1, 'KEAP1_p.D357N': 1, 'XIAP_p.T152I': 1, 'RPTOR_p.P299S': 1, 'EGFL7_p.S223N': 1, 'LATS1_p.S1023F': 1, 'AKT3_p.G37E': 1, 'TNFRSF14_p.V235I': 1, 'SPEN_p.G3265D': 1, 'HGF_p.P460S': 1, 'CIC_p.G1049D': 1, 'ARID1B_p.T1172I': 1, 'PTEN_p.M35I': 1, 'MAP3K13_p.P568S': 1, 'FYN_p.S124F': 1, 'DNMT3B_p.A290T': 1, 'FLT1_p.P705S': 1, 'ZFHX3_p.P3598S': 1, 'SDHA_p.R594K': 1, 'RAD54L_p.P125S': 1, 'ATM_p.R1918K': 1, 'FLT4_p.P432L': 1, 'SETD2_p.R2048K': 1, 'DOT1L_p.G1014E': 1, 'SMARCA4_p.S442N': 1, 'MST1_p.S422F': 1, 'DNMT3A_p.A45T': 1, 'EPHA7_p.X330_splice': 1, 'JAK1_p.G461E': 1, 'SMARCA4_p.E1340K': 1, 'RPTOR_p.P824L': 1, 'STK40_p.E363K': 1, 'CREBBP_p.A924V': 1, 'KMT2D_p.P1669L': 1, 'PTCH1_p.P1362L': 1, 'MGA_p.A2997V': 1, 'FLT4_p.G1101E': 1, 'MSH2_p.L93F': 1, 'MPL_p.P200L': 1, 'PRKAR1A_p.P46S': 1, 'CHEK1_p.P276L': 1, 'NTRK3_p.G224S': 1, 'MED12_p.G1676D': 1, 'WHSC1L1_p.A733T': 1, 'LATS1_p.P588L': 1, 'CCND3_p.M59I': 1, 'DOT1L_p.D695N': 1, 'IRS2_p.G846E': 1, 'MDC1_p.R25K': 1, 'FLT3_p.E800K': 1, 'MGA_p.A1632V': 1, 'PTPRS_p.E449K': 1, 'RPS6KA4_p.G616D': 1, 'FGFR3_p.P409S': 1, 'AMER1_p.S548F': 1, 'RAD21_p.S459N': 1, 'ARID2_p.S187N': 1, 'BRCA2_p.D685N': 1, 'MYCN_p.P213S': 1, 'TSC1_p.E730K': 1, 'KDM5A_p.G208D': 1, 'NKX2-1_p.G61D': 1, 'BRIP1_p.A355T': 1, 'BRD4_p.A371V': 1, 'KIT_p.P524S': 1, 'TRAF2_p.P198L': 1, 'XRCC2_p.S122N': 1, 'PREX2_p.E222K': 1, 'DNMT1_p.A1319T': 1, 'GATA2_p.A434T': 1, 'PTPN11_p.E176K': 1, 'EPHA3_p.P64L': 1, 'INHBA_p.V150M': 1, 'FAT1_p.P460S': 1, 'KMT2C_p.D3628N': 1, 'DICER1_p.L368F': 1, 'TSC2_p.X989_splice': 1, 'TSHR_p.D410N': 1, 'CUL3_p.E461K': 1, 'ARAF_p.Q190*': 1, 'ATR_p.G360E': 1, 'CREBBP_p.P1922S': 1, 'GLI1_p.G792D': 1, 'MDC1_p.E465K': 1, 'NOTCH4_p.A1314V': 1, 'ARID1B_p.S1666N': 1, 'MLH1_p.R575K': 1, 'RAD21_p.P245L': 1, 'PTPRT_p.G318D': 1, 'MDM4_p.S342F': 1, 'ATM_p.G1329E': 1, 'HIST1H3D_p.G35D': 1, 'RTEL1_p.V191M': 1, 'TP53_p.G279E': 1, 'MLL_p.V916I': 1, 'TP53_p.T155I': 1, 'RECQL4_p.P619S': 1, 'NEGR1_p.A44V': 1, 'BCL6_p.C475Y': 1, 'CARD11_p.G355R': 1, 'FAT1_p.L3244F': 1, 'TET2_p.T492I': 1, 'FLT1_p.G970D': 1, 'ARID1B_p.P1889S': 1, 'PARK2_p.P281S': 1, 'EP300_p.S1100F': 1, 'BRCA1_p.E1540K': 1, 'ERBB4_p.W886*': 1, 'CDH1_p.P88S': 1, 'KMT2D_p.E3032K': 1, 'MAP3K1_p.E165K': 1, 'SMAD2_p.L316F': 1, 'FAT1_p.D1703N': 1, 'SETD2_p.P2192S': 1, 'KEAP1_p.T309I': 1, 'PIK3R3_p.X165_splice': 1, 'CREBBP_p.X325_splice': 1, 'SETD2_p.G2185E': 1, 'ARID1B_p.P1351S': 1, 'KDM6A_p.G858R': 1, 'EPHA5_p.T246I': 1, 'NKX2-1_p.G303D': 1, 'PIK3CA_p.M675I': 1, 'MDC1_p.G954R': 1, 'BRCA1_p.S1551F': 1, 'INPPL1_p.P1140L': 1, 'PARP1_p.P29L': 1, 'NKX2-1_p.G104E': 1, 'MLL2_p.G4184D': 1, 'EP300_p.P2316L': 1, 'FOXL2_p.A133V': 1, 'FLT1_p.A874V': 1, 'TSC1_p.P111S': 1, 'SPEN_p.V935I': 1, 'KMT2C_p.T4249I': 1, 'PARP1_p.G482E': 1, 'RAF1_p.P382S': 1, 'IRS1_p.M733I': 1, 'SDHA_p.G175E': 1, 'CIC_p.G382D': 1, 'NOTCH3_p.A712T': 1, 'TSC2_p.Q1104*': 1, 'TSC2_p.P1202L': 1, 'IGF1R_p.W26*': 1, 'KMT2D_p.P3143L': 1, 'WHSC1_p.D796N': 1, 'MLL4_p.X2387_splice': 1, 'PTPRS_p.G260S': 1, 'DOT1L_p.P702L': 1, 'ZFHX3_p.P380S': 1, 'JAK1_p.L103F': 1, 'PIK3CB_p.E1051K': 1, 'SYK_p.E144K': 1, 'PDGFRB_p.T733I': 1, 'SUFU_p.P46S': 1, 'MET_p.P351S': 1, 'ATM_p.G228S': 1, 'ZFHX3_p.D1006N': 1, 'SF3B1_p.A247T': 1, 'DROSHA_p.P112S': 1, 'ATR_p.V372M': 1, 'ROS1_p.S86N': 1, 'ROS1_p.G666S': 1, 'YAP1_p.P33L': 1, 'NOTCH3_p.G1173R': 1, 'PMS1_p.V9I': 1, 'LATS1_p.P69L': 1, 'SMARCA4_p.X1318_splice': 1, 'SRSF2_p.S54F': 1, 'SPEN_p.S1986F': 1, 'CREBBP_p.P2363S': 1, 'ATM_p.G1184E': 1, 'CREBBP_p.G1305D': 1, 'ATM_p.T2434I': 1, 'FOXA1_p.P381S': 1, 'MLH1_p.G454R': 1, 'PLK2_p.S457N': 1, 'NF1_p.D1466N': 1, 'NOTCH3_p.X268_splice': 1, 'NSD1_p.P1424S': 1, 'TP53_p.A347T': 1, 'ATM_p.Q2740*': 1, 'SETD2_p.E251K': 1, 'CTCF_p.S143F': 1, 'ZFHX3_p.G1672D': 1, 'GNA11_p.G171D': 1, 'PAX5_p.P321L': 1, 'BRCA2_p.E1876K': 1, 'ERCC3_p.G365D': 1, 'KDM5A_p.R1584K': 1, 'NCOR1_p.H1012Y': 1, 'NF1_p.L2073F': 1, 'PIK3C3_p.L749F': 1, 'PTPRD_p.L871F': 1, 'SMARCA4_p.A1168T': 1, 'ERCC3_p.G365S': 1, 'ARID1A_p.D734N': 1, 'PTPRS_p.T1064I': 1, 'STAT5B_p.G698E': 1, 'PBRM1_p.T28I': 1, 'ATR_p.S250N': 1, 'KMT2D_p.G962S': 1, 'ATRX_p.M118I': 1, 'SPEN_p.S285N': 1, 'SYK_p.P411L': 1, 'NSD1_p.E1216K': 1, 'PAK7_p.E447K': 1, 'ARID5B_p.P965L': 1, 'BRD4_p.P1210S': 1, 'BRD4_p.D1267N': 1, 'NF2_p.E524K': 1, 'FAT1_p.G4507D': 1, 'ATM_p.A1211T': 1, 'TP53_p.W91*': 1, 'BRCA2_p.G1218S': 1, 'E2F3_p.S66F': 1, 'PMS1_p.S412N': 1, 'PIK3C2G_p.P69S': 1, 'SUFU_p.X456_splice': 1, 'SMAD3_p.P84S': 1, 'AR_p.E443K': 1, 'APC_p.S996N': 1, 'PIK3CA_p.E365K': 1, 'MAP3K1_p.G715E': 1, 'MED12_p.W510*': 1, 'FLT3_p.P738S': 1, 'BRIP1_p.X69_splice': 1, 'ARID1B_p.G598E': 1, 'HIST1H3I_p.A2T': 1, 'FLT1_p.P556L': 1, 'MSH6_p.G864E': 1, 'POLE_p.T454I': 1, 'MAP3K1_p.G462D': 1, 'SYK_p.X334_splice': 1, 'KMT2B_p.A1404T': 1, 'STAG2_p.E303K': 1, 'MAP2K1_p.E203K': 1, 'ROS1_p.L1156F': 1, 'SMO_p.T534I': 1, 'DNMT1_p.G1402S': 1, 'KMT2C_p.P1611L': 1, 'SMAD3_p.V363I': 1, 'DNMT3B_p.G199S': 1, 'MLL3_p.G3931E': 1, 'ARID5B_p.V311I': 1, 'BRCA2_p.S2247N': 1, 'PRKD1_p.S420N': 1, 'DIS3_p.S926F': 1, 'KMT2B_p.D375N': 1, 'FGFR3_p.G33E': 1, 'FOXA1_p.G251D': 1, 'MRE11A_p.A492V': 1, 'MLL2_p.E4775K': 1, 'MDC1_p.P1248L': 1, 'WHSC1_p.P476L': 1, 'HIST1H3H_p.A32T': 1, 'ERCC3_p.P447S': 1, 'TET2_p.R902K': 1, 'INSRR_p.A1088T': 1, 'EP300_p.P881L': 1, 'BRIP1_p.S1115F': 1, 'MTOR_p.V1927M': 1, 'ERCC3_p.D54N': 1, 'KMT2A_p.R758K': 1, 'KDR_p.A449V': 1, 'SMO_p.T731I': 1, 'APC_p.R790K': 1, 'WT1_p.V220I': 1, 'SLX4_p.E621K': 1, 'KMT2D_p.G39R': 1, 'TBX3_p.G194E': 1, 'HGF_p.G667E': 1, 'KMT2C_p.P3632S': 1, 'NOTCH2_p.D1511N': 1, 'ERBB4_p.L661F': 1, 'IDH1_p.T142I': 1, 'RAD50_p.E834K': 1, 'APC_p.T489I': 1, 'PLK2_p.G27E': 1, 'MLL2_p.A2357T': 1, 'FH_p.V372M': 1, 'CDC73_p.A2T': 1, 'MAPKAP1_p.W108*': 1, 'MED12_p.V1071M': 1, 'PALB2_p.G1000D': 1, 'RNF43_p.P580S': 1, 'DNMT3A_p.A410V': 1, 'PMS2_p.A49V': 1, 'CIC_p.V27M': 1, 'PTPRT_p.X1398_splice': 1, 'SH2D1A_p.P121S': 1, 'MGA_p.E1249K': 1, 'ATRX_p.G1152D': 1, 'EP300_p.P1081S': 1, 'JAK1_p.M299I': 1, 'KMT2D_p.D3058N': 1, 'CD276_p.V294M': 1, 'SOX2_p.P286S': 1, 'PPM1D_p.G276D': 1, 'BAP1_p.X630_splice': 1, 'ASXL2_p.G545D': 1, 'PIK3C2G_p.G374R': 1, 'SUZ12_p.G484D': 1, 'MLH1_p.L155F': 1, 'MLL3_p.P4035S': 1, 'WWTR1_p.D378N': 1, 'NBN_p.G214R': 1, 'BTK_p.E90K': 1, 'MSH6_p.P711L': 1, 'KMT2C_p.S3566N': 1, 'DICER1_p.H1134Y': 1, 'RNF43_p.G80E': 1, 'MSH2_p.X669_splice': 1, 'BCOR_p.P334S': 1, 'PMS2_p.X330_splice': 1, 'FUBP1_p.E206K': 1, 'SMAD4_p.P68S': 1, 'KMT2C_p.X3938_splice': 1, 'GNAS_p.V214M': 1, 'MED12_p.P1946L': 1, 'IL7R_p.P197S': 1, 'DICER1_p.A1905V': 1, 'SLX4_p.S30F': 1, 'NCOA3_p.D801N': 1, 'FLT4_p.X1000_splice': 1, 'TET2_p.A1769T': 1, 'GRIN2A_p.T77I': 1, 'ERRFI1_p.D405N': 1, 'PRDM1_p.A537T': 1, 'CD79B_p.V27I': 1, 'FANCA_p.G207R': 1, 'NOTCH3_p.P197S': 1, 'ARID2_p.P784S': 1, 'NCOA3_p.L1150F': 1, 'NOTCH2_p.A358T': 1, 'EZH2_p.H618Y': 1, 'MTOR_p.V1043I': 1, 'FAT1_p.G3155R': 1, 'MSH3_p.A468V': 1, 'ARID2_p.G1780D': 1, 'MGA_p.S2787N': 1, 'FOXA1_p.G286D': 1, 'MLL3_p.X3937_splice': 1, 'CTCF_p.G111E': 1, 'MLH1_p.A380V': 1, 'MSH6_p.G599R': 1, 'PMS1_p.A209T': 1, 'PIK3R2_p.P14S': 1, 'PIK3R2_p.S409F': 1, 'NEGR1_p.T159I': 1, 'GRIN2A_p.P1366S': 1, 'POLD1_p.G10R': 1, 'NF2_p.X333_splice': 1, 'POLE_p.G823E': 1, 'PTCH1_p.D609N': 1, 'ZFHX3_p.S310N': 1, 'UPF1_p.S140N': 1, 'KMT2C_p.G4707D': 1, 'FANCA_p.P259L': 1, 'ERF_p.P345L': 1, 'BRCA2_p.D1899N': 1, 'BTK_p.X393_splice': 1, 'IRS2_p.G508S': 1, 'RASA1_p.X180_splice': 1, 'SETD2_p.P873L': 1, 'ARID1B_p.G193E': 1, 'SOCS1_p.V103M': 1, 'PREX2_p.S1082N': 1, 'DNMT3B_p.H841Y': 1, 'SMYD3_p.D114N': 1, 'STK11_p.V372I': 1, 'BCOR_p.A1013V': 1, 'BRCA1_p.P497S': 1, 'FAT1_p.T2145I': 1, 'PPM1D_p.M521I': 1, 'CDK12_p.P564S': 1, 'SYK_p.L456F': 1, 'MLL2_p.X134_splice': 1, 'EGFR_p.X640_splice': 1, 'CHEK1_p.X22_splice': 1, 'FBXW7_p.G21D': 1, 'TP53_p.P250L': 1, 'KMT2C_p.P3712S': 1, 'FAM46C_p.L292F': 1})\n"
     ]
    }
   ],
   "source": [
    "tmzMotifs = set(['ACTC', 'ACTT', 'CCTC', 'CCTT', 'GCTC', 'GCTT', 'TCTC', 'TCTT', \n",
    "                'ACTA', 'CCTA', 'GCTA', 'TCTA'])\n",
    "tmzMutatedGliomaMaf = tmzMaf[tmzMaf['quadNuc'].isin(tmzMotifs)]\n",
    "print Counter(tmzMutatedGliomaMaf['allele'])\n",
    "\n",
    "#print tmzM"
   ]
  }
 ],
 "metadata": {
  "kernelspec": {
   "display_name": "Python 2",
   "language": "python",
   "name": "python2"
  },
  "language_info": {
   "codemirror_mode": {
    "name": "ipython",
    "version": 2
   },
   "file_extension": ".py",
   "mimetype": "text/x-python",
   "name": "python",
   "nbconvert_exporter": "python",
   "pygments_lexer": "ipython2",
   "version": "2.7.15"
  }
 },
 "nbformat": 4,
 "nbformat_minor": 2
}
