{
 "cells": [
  {
   "cell_type": "code",
   "execution_count": 9,
   "metadata": {},
   "outputs": [],
   "source": [
    "import pandas as pd\n",
    "import os\n",
    "import sys"
   ]
  },
  {
   "cell_type": "code",
   "execution_count": 10,
   "metadata": {},
   "outputs": [],
   "source": [
    "sys.path.append('/Users/friedman/Desktop/mnt/ifs/work/taylorlab/friedman/myUtils')\n",
    "import analysis_utils \n",
    "import mutationSigUtils \n",
    "import maf_analysis_utils\n",
    "import mutation_modeling_util"
   ]
  },
  {
   "cell_type": "code",
   "execution_count": 11,
   "metadata": {},
   "outputs": [],
   "source": [
    "pathPrefix = '/Users/friedman/Desktop/mnt'"
   ]
  },
  {
   "cell_type": "code",
   "execution_count": null,
   "metadata": {},
   "outputs": [],
   "source": [
    "reload(mutation_modeling_util)"
   ]
  },
  {
   "cell_type": "markdown",
   "metadata": {},
   "source": [
    "**FUNCTIONS**"
   ]
  },
  {
   "cell_type": "code",
   "execution_count": 12,
   "metadata": {},
   "outputs": [],
   "source": [
    "#little function that loads indel data\n",
    "def get_indel_dict():\n",
    "    returnDict = dict()\n",
    "    sigs = ['Signature.' + str(i) for i in range(1,31)]\n",
    "    indelFracDf = pd.read_table(pathPrefix + '/ifs/work/taylorlab/friedman/hypermutationAnalysisProj/projectDataAndConfigFiles/indelRateBySignature.tsv')\n",
    "    indelFracDict = dict(zip(indelFracDf['Signature'], indelFracDf['Indel_Fraction']))\n",
    "    for sig in sigs:\n",
    "        if sig in indelFracDict:\n",
    "            returnDict[sig] = indelFracDict[sig]\n",
    "        else:\n",
    "            returnDict[sig] = indelFracDict['All_IMPACT_Cases']\n",
    "    return returnDict"
   ]
  },
  {
   "cell_type": "code",
   "execution_count": 13,
   "metadata": {},
   "outputs": [],
   "source": [
    "def get_per_case_indel_fracs(muts):\n",
    "    d = {}\n",
    "    indelClassificationNames = set(['Frame_Shift_Del', 'Frame_Shift_Ins', 'In_Frame_Del', 'In_Frame_Ins'])\n",
    "    nMutDict = dict(muts['Tumor_Sample_Barcode'].value_counts())\n",
    "    nIndelDict = dict(muts[muts['Variant_Classification'].isin(indelClassificationNames)]['Tumor_Sample_Barcode'].value_counts())\n",
    "    cases = set(muts['Tumor_Sample_Barcode'])\n",
    "    for case in cases:\n",
    "        nMut = 0\n",
    "        nIndel = 0\n",
    "        if case in nMutDict:\n",
    "            nMut = nMutDict[case]\n",
    "        if case in nIndelDict:\n",
    "            nIndel = nIndelDict[case]\n",
    "        if nMut == 0:\n",
    "            d[case] = 0\n",
    "        else:\n",
    "            d[case] = 1.0*nIndel/nMut\n",
    "    return d"
   ]
  },
  {
   "cell_type": "markdown",
   "metadata": {},
   "source": [
    "**RUN AREA**"
   ]
  },
  {
   "cell_type": "code",
   "execution_count": 14,
   "metadata": {},
   "outputs": [],
   "source": [
    "df = pd.read_table(pathPrefix + '/ifs/work/taylorlab/friedman/hypermutationAnalysisProj/projectDataAndConfigFiles/simulatedMutationSummary.tsv')"
   ]
  },
  {
   "cell_type": "code",
   "execution_count": 15,
   "metadata": {},
   "outputs": [],
   "source": [
    "oncogenicityDict = mutation_modeling_util.calculate_quadnuc_based_oncogenic_susceptibility_dict(df)"
   ]
  },
  {
   "cell_type": "code",
   "execution_count": null,
   "metadata": {},
   "outputs": [],
   "source": [
    "#LOAD IN LOTS OF FILES\n",
    "impactSigs = pd.read_table(pathPrefix + '/ifs/work/taylorlab/friedman/hypermutationAnalysisProj/projectDataAndConfigFiles/signatures_from_unfiltered_maf.txt')\n",
    "impactMutsMaf = analysis_utils.load_in_df_with_progress(pathPrefix + '/ifs/work/taylorlab/friedman/hypermutationAnalysisProj/projectDataAndConfigFiles/all_impact_mutations_annotated_cohort.maf', 275171)\n"
   ]
  },
  {
   "cell_type": "code",
   "execution_count": null,
   "metadata": {},
   "outputs": [],
   "source": [
    "df"
   ]
  },
  {
   "cell_type": "code",
   "execution_count": 12,
   "metadata": {},
   "outputs": [
    {
     "name": "stdout",
     "output_type": "stream",
     "text": [
      "0.0403674462019\n"
     ]
    }
   ],
   "source": [
    "print 1.0*sum(df['totalNOncogenic'])/(sum(df['nPossibleMuts']) - sum(df['nSilent']))"
   ]
  },
  {
   "cell_type": "code",
   "execution_count": 13,
   "metadata": {},
   "outputs": [
    {
     "ename": "NameError",
     "evalue": "name 'impactMutsMaf' is not defined",
     "output_type": "error",
     "traceback": [
      "\u001b[0;31m---------------------------------------------------------------------------\u001b[0m",
      "\u001b[0;31mNameError\u001b[0m                                 Traceback (most recent call last)",
      "\u001b[0;32m<ipython-input-13-1e4b09f04f27>\u001b[0m in \u001b[0;36m<module>\u001b[0;34m()\u001b[0m\n\u001b[0;32m----> 1\u001b[0;31m \u001b[0mimpactMutsMaf\u001b[0m\u001b[0;34m\u001b[0m\u001b[0m\n\u001b[0m",
      "\u001b[0;31mNameError\u001b[0m: name 'impactMutsMaf' is not defined"
     ]
    }
   ],
   "source": [
    "impactMutsMaf"
   ]
  },
  {
   "cell_type": "code",
   "execution_count": null,
   "metadata": {},
   "outputs": [],
   "source": []
  }
 ],
 "metadata": {
  "kernelspec": {
   "display_name": "Python 2",
   "language": "python",
   "name": "python2"
  },
  "language_info": {
   "codemirror_mode": {
    "name": "ipython",
    "version": 2
   },
   "file_extension": ".py",
   "mimetype": "text/x-python",
   "name": "python",
   "nbconvert_exporter": "python",
   "pygments_lexer": "ipython2",
   "version": "2.7.15"
  }
 },
 "nbformat": 4,
 "nbformat_minor": 2
}
