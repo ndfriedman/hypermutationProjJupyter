{
 "cells": [
  {
   "cell_type": "code",
   "execution_count": null,
   "metadata": {},
   "outputs": [],
   "source": [
    "#THIS notebook generates results with my mutation attribution script\n",
    "#It then uses these results to annotate hypermutated cases (features some complexities like defining MSI cases and assigning MSI muts)"
   ]
  },
  {
   "cell_type": "code",
   "execution_count": 196,
   "metadata": {},
   "outputs": [],
   "source": [
    "import pandas as pd\n",
    "import os\n",
    "import sys\n",
    "\n",
    "sys.path.append('/Users/friedman/Desktop/mnt/juno/work/taylorlab/friedman/myUtils')\n",
    "import analysis_utils \n",
    "import mutationSigUtils \n",
    "import maf_analysis_utils\n",
    "import mutation_modeling_util\n",
    "import get_gene_and_cohort_list_utils\n",
    "import numpy as np\n",
    "import attribute_mutations_to_signatures\n",
    "import clonality_analysis_util\n",
    "\n",
    "pathPrefix = '/Users/friedman/Desktop/mnt'\n",
    "from collections import Counter"
   ]
  },
  {
   "cell_type": "code",
   "execution_count": 2,
   "metadata": {},
   "outputs": [
    {
     "name": "stderr",
     "output_type": "stream",
     "text": [
      "/anaconda2/lib/python2.7/site-packages/IPython/core/interactiveshell.py:2714: DtypeWarning: Columns (4,17,18,40,41,43,44,71,72,108,124,125,128,129,130,131,132,133,134,135,137,140,141) have mixed types. Specify dtype option on import or set low_memory=False.\n",
      "  interactivity=interactivity, compiler=compiler, result=result)\n"
     ]
    }
   ],
   "source": [
    "allImpactMutsMaf = pd.read_table(pathPrefix + '/juno/work/taylorlab/friedman/myAdjustedDataFiles/data_mutations_extended_annotated_sigContext_nov19_2019.maf')"
   ]
  },
  {
   "cell_type": "code",
   "execution_count": 34,
   "metadata": {},
   "outputs": [],
   "source": [
    "#allHypermutantIds = get_gene_and_cohort_list_utils.get_all_hypermutant_ids(hypermutantIdDir= pathPrefix + '/juno/work/taylorlab/friedman/hypermutationAnalysisProj/projectDataAndConfigFiles/hypermutationStatusIds')\n",
    "#hypermutantMaf = allImpactMutsMaf[allImpactMutsMaf['Tumor_Sample_Barcode'].isin(allHypermutantIds)]\n",
    "signatures = pd.read_table(pathPrefix + '/juno/work/taylorlab/friedman/myAdjustedDataFiles/impactSignatureCalls_Nov20_2019.tsv')\n",
    "hypermutantOnlySignatures = signatures[signatures['Tumor_Sample_Barcode'].isin(allHypermutantIds)]"
   ]
  },
  {
   "cell_type": "code",
   "execution_count": 228,
   "metadata": {},
   "outputs": [],
   "source": [
    "hypermutantMaf = allImpactMutsMaf[allImpactMutsMaf['Tumor_Sample_Barcode'].isin(allHypermutantIds)]"
   ]
  },
  {
   "cell_type": "code",
   "execution_count": 35,
   "metadata": {},
   "outputs": [],
   "source": [
    "hypermutantOnlySignatures.to_csv(pathPrefix + '/juno/work/taylorlab/friedman/myAdjustedDataFiles/hypermutants_only_signatures_nov19.txt', index=False, sep='\\t')"
   ]
  },
  {
   "cell_type": "code",
   "execution_count": 36,
   "metadata": {},
   "outputs": [],
   "source": [
    "mutAttributionDf = pd.read_table(pathPrefix + '/juno/work/taylorlab/friedman/myAdjustedDataFiles/sigAttribution_hypermutators.tsv')"
   ]
  },
  {
   "cell_type": "code",
   "execution_count": 230,
   "metadata": {},
   "outputs": [
    {
     "name": "stdout",
     "output_type": "stream",
     "text": [
      "attributing mutations\n"
     ]
    }
   ],
   "source": [
    "reload(attribute_mutations_to_signatures)\n",
    "hypermutantMaf = attribute_mutations_to_signatures.attribute_mutations_to_signatures(hypermutantMaf, mutAttributionDf)\n"
   ]
  },
  {
   "cell_type": "code",
   "execution_count": null,
   "metadata": {},
   "outputs": [],
   "source": [
    "#Throw out msi indeterminate?-->Currently indeterminate are marked as msi as well\n",
    "msiCases = get_gene_and_cohort_list_utils.get_msi_cases(msiInfoFilePath = pathPrefix + '/juno/work/taylorlab/friedman/myAdjustedDataFiles/mutations_TMB_and_MSI_stats.txt', msiScoreThresh=3)\n",
    "hypermutantMaf['hypermutationInduced'] = hypermutantMaf.apply(lambda row:\n",
    "        'hyperInduced' if row['Variant_Type'] in set(['INS', 'DEL']) and row['Tumor_Sample_Barcode'] in msiCases\n",
    "                                                              \n",
    "                    #TODO there is an error that is messing up POLE attribution\n",
    "        else 'hyperInduced' if row['Variant_Type'] == 'SNP' and len(str(row['mutAttribution'])) > 3 and 'Signature.1' not in str(row['mutAttribution']).split('|')\n",
    "        #else 'hyperInduced' if row['Variant_Type'] == 'SNP' and len(str(row['mutAttribution'])) > 3\n",
    "        \n",
    "                                                              \n",
    "        else 'unclear' if row['Variant_Type'] == 'SNP' and row['mutAttribution'] != None and 'Signature.1' in str(row['mutAttribution']) and str(row['mutAttribution']) != 'Signature.1'\n",
    "        else 'notHyperAttributable' ,axis=1)\n"
   ]
  },
  {
   "cell_type": "code",
   "execution_count": null,
   "metadata": {},
   "outputs": [],
   "source": [
    "hypermutantMaf['geneAndCause'] = hypermutantMaf.apply(lambda row: str(row['Hugo_Symbol']) + '_' + row['hypermutationInduced'], axis=1)\n"
   ]
  },
  {
   "cell_type": "code",
   "execution_count": 234,
   "metadata": {},
   "outputs": [],
   "source": [
    "hypermutantMaf.to_csv(pathPrefix + '/juno/work/taylorlab/friedman/myAdjustedDataFiles/mafWithMutationAttribution.tsv', index=False, sep='\\t')"
   ]
  },
  {
   "cell_type": "code",
   "execution_count": 248,
   "metadata": {},
   "outputs": [],
   "source": [
    "#\n",
    "##\n",
    "#####\n",
    "############\n",
    "#################\n",
    "############\n",
    "#######\n",
    "####\n",
    "#\n",
    "#CLONALITY and attribution\n",
    "#clonalityAnnotatedMaf = pd.read_table(pathPrefix + '/juno/work/taylorlab/friedman/myAdjustedDataFiles/filteredMaf_Nov19_2019_hypermutantOnly_withCNCFAnnotation.maf')\n",
    "mutAttributionAnnotatedMaf = hypermutantMaf"
   ]
  },
  {
   "cell_type": "code",
   "execution_count": 249,
   "metadata": {},
   "outputs": [
    {
     "name": "stderr",
     "output_type": "stream",
     "text": [
      "/anaconda2/lib/python2.7/site-packages/ipykernel_launcher.py:4: SettingWithCopyWarning: \n",
      "A value is trying to be set on a copy of a slice from a DataFrame.\n",
      "Try using .loc[row_indexer,col_indexer] = value instead\n",
      "\n",
      "See the caveats in the documentation: http://pandas.pydata.org/pandas-docs/stable/indexing.html#indexing-view-versus-copy\n",
      "  after removing the cwd from sys.path.\n"
     ]
    }
   ],
   "source": [
    "clonalityAnnotatedMaf['varId'] = clonalityAnnotatedMaf.apply(lambda row: str(row['Chromosome']) + '_' \n",
    "+ str(row['Start_Position']) + '_' + str(row['Reference_Allele']) + '->' + str(row['Tumor_Seq_Allele2']), axis=1)\n",
    "mutAttributionAnnotatedMaf['varId'] = mutAttributionAnnotatedMaf.apply(lambda row: str(row['Chromosome']) + '_' \n",
    "+ str(row['Start_Position']) + '_' + str(row['Reference_Allele']) + '->' + str(row['Tumor_Seq_Allele2']), axis=1)\n",
    "#clonalityAnnotatedMaf['ccf_Mcopies_lower']"
   ]
  },
  {
   "cell_type": "code",
   "execution_count": 250,
   "metadata": {},
   "outputs": [
    {
     "name": "stderr",
     "output_type": "stream",
     "text": [
      "/anaconda2/lib/python2.7/site-packages/ipykernel_launcher.py:2: SettingWithCopyWarning: \n",
      "A value is trying to be set on a copy of a slice from a DataFrame.\n",
      "Try using .loc[row_indexer,col_indexer] = value instead\n",
      "\n",
      "See the caveats in the documentation: http://pandas.pydata.org/pandas-docs/stable/indexing.html#indexing-view-versus-copy\n",
      "  \n"
     ]
    }
   ],
   "source": [
    "ccfDict = dict(zip(clonalityAnnotatedMaf['varId'], clonalityAnnotatedMaf['ccf_Mcopies']))\n",
    "mutAttributionAnnotatedMaf['ccf'] = mutAttributionAnnotatedMaf['varId'].apply(lambda x: ccfDict[x] if x in ccfDict else None)"
   ]
  },
  {
   "cell_type": "code",
   "execution_count": 261,
   "metadata": {},
   "outputs": [
    {
     "name": "stderr",
     "output_type": "stream",
     "text": [
      "/anaconda2/lib/python2.7/site-packages/ipykernel_launcher.py:2: SettingWithCopyWarning: \n",
      "A value is trying to be set on a copy of a slice from a DataFrame.\n",
      "Try using .loc[row_indexer,col_indexer] = value instead\n",
      "\n",
      "See the caveats in the documentation: http://pandas.pydata.org/pandas-docs/stable/indexing.html#indexing-view-versus-copy\n",
      "  \n",
      "/anaconda2/lib/python2.7/site-packages/ipykernel_launcher.py:3: SettingWithCopyWarning: \n",
      "A value is trying to be set on a copy of a slice from a DataFrame.\n",
      "Try using .loc[row_indexer,col_indexer] = value instead\n",
      "\n",
      "See the caveats in the documentation: http://pandas.pydata.org/pandas-docs/stable/indexing.html#indexing-view-versus-copy\n",
      "  This is separate from the ipykernel package so we can avoid doing imports until\n"
     ]
    }
   ],
   "source": [
    "cancerTypeDict = analysis_utils.get_cancer_type_information(cancerTypeDfPath = pathPrefix + '/juno/work/taylorlab/friedman/myAdjustedDataFiles/cancerTypeInfo_asOfNov192019.txt', mode='pid')\n",
    "mutAttributionAnnotatedMaf['pid'] = mutAttributionAnnotatedMaf['Tumor_Sample_Barcode'].apply(lambda x: x[:9])\n",
    "mutAttributionAnnotatedMaf['cancerType'] = mutAttributionAnnotatedMaf['pid'].apply(lambda x: cancerTypeDict[x] if x in cancerTypeDict else None)"
   ]
  },
  {
   "cell_type": "code",
   "execution_count": 287,
   "metadata": {},
   "outputs": [
    {
     "name": "stdout",
     "output_type": "stream",
     "text": [
      "P-0011569-T01-IM5\n",
      "P-0011570-T01-IM5\n",
      "P-0012113-T01-IM5\n",
      "P-0015626-T01-IM6\n",
      "P-0016099-T01-IM6\n",
      "P-0016825-T01-IM6\n",
      "P-0019649-T01-IM6\n",
      "P-0019658-T01-IM6\n",
      "P-0020754-T01-IM6\n",
      "P-0021283-T01-IM6\n",
      "P-0021856-T01-IM6\n",
      "P-0023857-T01-IM6\n",
      "P-0025242-T01-IM6\n",
      "P-0026297-T01-IM6\n",
      "P-0026297-T02-IM6\n",
      "P-0028472-T01-IM6\n",
      "P-0032120-T01-IM6\n",
      "P-0032496-T01-IM6\n",
      "P-0032818-T01-IM6\n",
      "P-0035146-T01-IM6\n",
      "P-0035147-T01-IM6\n",
      "P-0035790-T01-IM6\n",
      "P-0036230-T01-IM6\n",
      "P-0036297-T01-IM6\n",
      "P-0038016-T01-IM6\n",
      "P-0038755-T01-IM6\n",
      "P-0039704-T01-IM6\n",
      "P-0039773-T01-IM6\n",
      "P-0040149-T01-IM6\n",
      "P-0040284-T01-IM6\n",
      "P-0040798-T01-IM6\n",
      "P-0040828-T01-IM6\n",
      "P-0041346-T01-IM6\n",
      "P-0042256-T01-IM6\n",
      "P-0042199-T01-IM6\n",
      "P-0043045-T01-IM6\n",
      "P-0043071-T01-IM6\n",
      "P-0045015-T01-IM6\n",
      "P-0045458-T01-IM6\n",
      "P-0047653-T01-IM6\n"
     ]
    }
   ],
   "source": [
    "#np.nanmean()\n",
    "\"\"\"print np.nanmean(mutAttributionAnnotatedMaf[mutAttributionAnnotatedMaf['hypermutationInduced'] == 'hyperInduced']['ccf'])\n",
    "print np.nanmean(mutAttributionAnnotatedMaf[mutAttributionAnnotatedMaf['hypermutationInduced'] == 'unclear']['ccf'])\n",
    "print np.nanmean(mutAttributionAnnotatedMaf[mutAttributionAnnotatedMaf['hypermutationInduced'] == 'notHyperAttributable']['ccf'])\n",
    "\n",
    "print 'oncogenic'\n",
    "print np.nanmean(mutAttributionAnnotatedMaf[(mutAttributionAnnotatedMaf['oncogenic'].notnull()) & \n",
    "    (mutAttributionAnnotatedMaf['hypermutationInduced'] == 'hyperInduced')]['ccf'])\n",
    "print np.nanmean(mutAttributionAnnotatedMaf[(mutAttributionAnnotatedMaf['oncogenic'].notnull()) & \n",
    "    (mutAttributionAnnotatedMaf['hypermutationInduced'] == 'unclear')]['ccf'])\n",
    "print np.nanmean(mutAttributionAnnotatedMaf[(mutAttributionAnnotatedMaf['oncogenic'].notnull()) & \n",
    "    (mutAttributionAnnotatedMaf['hypermutationInduced'] == 'notHyperAttributable')]['ccf'])\n",
    "    \"\"\"\n",
    "######################\n",
    "###############\n",
    "#########\n",
    "\n",
    "for i in mutAttributionAnnotatedMaf[(mutAttributionAnnotatedMaf['oncogenic'].notnull()) & \n",
    "    (mutAttributionAnnotatedMaf['Hugo_Symbol'] == 'PTEN') &\n",
    "    (mutAttributionAnnotatedMaf['HGVSp_Short'] == 'p.R130Q') &                                 \n",
    "    (mutAttributionAnnotatedMaf['cancerType'] == 'Endometrial Cancer')]['Tumor_Sample_Barcode']:\n",
    "    print i\n",
    "\n",
    "#Counter(mutAttributionAnnotatedMaf[mutAttributionAnnotatedMaf['Hugo_Symbol'] == 'PTEN']['HGVSp_Short']).most_common(10)\n",
    "\n",
    "#np.nanmean(mutAttributionAnnotatedMaf[(mutAttributionAnnotatedMaf['oncogenic'].notnull()) & \n",
    "#    (mutAttributionAnnotatedMaf['hypermutationInduced'] == 'notHyperAttributable') &\n",
    "#    (mutAttributionAnnotatedMaf['cancerType'] == 'Glioma')]['ccf'])"
   ]
  },
  {
   "cell_type": "code",
   "execution_count": 259,
   "metadata": {},
   "outputs": [
    {
     "data": {
      "text/plain": [
       "array(['Hugo_Symbol', 'Entrez_Gene_Id', 'Center', 'NCBI_Build',\n",
       "       'Chromosome', 'Start_Position', 'End_Position', 'Strand',\n",
       "       'Variant_Classification', 'Variant_Type', 'Reference_Allele',\n",
       "       'Tumor_Seq_Allele1', 'Tumor_Seq_Allele2', 'dbSNP_RS',\n",
       "       'dbSNP_Val_Status', 'Tumor_Sample_Barcode',\n",
       "       'Matched_Norm_Sample_Barcode', 'Match_Norm_Seq_Allele1',\n",
       "       'Match_Norm_Seq_Allele2', 'Tumor_Validation_Allele1',\n",
       "       'Tumor_Validation_Allele2', 'Match_Norm_Validation_Allele1',\n",
       "       'Match_Norm_Validation_Allele2', 'Verification_Status',\n",
       "       'Validation_Status', 'Mutation_Status', 'Sequencing_Phase',\n",
       "       'Sequence_Source', 'Validation_Method', 'Score', 'BAM_File',\n",
       "       'Sequencer', 'Tumor_Sample_UUID', 'Matched_Norm_Sample_UUID',\n",
       "       'HGVSc', 'HGVSp', 'HGVSp_Short', 'Transcript_ID', 'Exon_Number',\n",
       "       't_depth', 't_ref_count', 't_alt_count', 'n_depth', 'n_ref_count',\n",
       "       'n_alt_count', 'all_effects', 'Allele', 'Gene', 'Feature',\n",
       "       'Feature_type', 'Consequence', 'cDNA_position', 'CDS_position',\n",
       "       'Protein_position', 'Amino_acids', 'Codons', 'Existing_variation',\n",
       "       'ALLELE_NUM', 'DISTANCE', 'STRAND_VEP', 'SYMBOL', 'SYMBOL_SOURCE',\n",
       "       'HGNC_ID', 'BIOTYPE', 'CANONICAL', 'CCDS', 'ENSP', 'SWISSPROT',\n",
       "       'TREMBL', 'UNIPARC', 'RefSeq', 'SIFT', 'PolyPhen', 'EXON',\n",
       "       'INTRON', 'DOMAINS', 'GMAF', 'AFR_MAF', 'AMR_MAF', 'ASN_MAF',\n",
       "       'EAS_MAF', 'EUR_MAF', 'SAS_MAF', 'AA_MAF', 'EA_MAF', 'CLIN_SIG',\n",
       "       'SOMATIC', 'PUBMED', 'MOTIF_NAME', 'MOTIF_POS', 'HIGH_INF_POS',\n",
       "       'MOTIF_SCORE_CHANGE', 'IMPACT', 'PICK', 'VARIANT_CLASS', 'TSL',\n",
       "       'HGVS_OFFSET', 'PHENO', 'MINIMISED', 'ExAC_AF', 'ExAC_AF_AFR',\n",
       "       'ExAC_AF_AMR', 'ExAC_AF_EAS', 'ExAC_AF_FIN', 'ExAC_AF_NFE',\n",
       "       'ExAC_AF_OTH', 'ExAC_AF_SAS', 'GENE_PHENO', 'FILTER',\n",
       "       'flanking_bps', 'variant_id', 'variant_qual', 'ExAC_AF_Adj',\n",
       "       'ExAC_AC_AN_Adj', 'ExAC_AC_AN', 'ExAC_AC_AN_AFR', 'ExAC_AC_AN_AMR',\n",
       "       'ExAC_AC_AN_EAS', 'ExAC_AC_AN_FIN', 'ExAC_AC_AN_NFE',\n",
       "       'ExAC_AC_AN_OTH', 'ExAC_AC_AN_SAS', 'ExAC_FILTER', 'Caller',\n",
       "       'is-a-hotspot', 'is-a-3d-hotspot', 'mutation_effect', 'oncogenic',\n",
       "       'LEVEL_1', 'LEVEL_2A', 'LEVEL_2B', 'LEVEL_3A', 'LEVEL_3B',\n",
       "       'LEVEL_4', 'LEVEL_R1', 'LEVEL_R2', 'LEVEL_R3', 'Highest_level',\n",
       "       'citations', 'driver', 'Ref_Tri', 'quadNuc', 'mutAttribution',\n",
       "       'hypermutationInduced', 'geneAndCause', 'varId', 'ccf'],\n",
       "      dtype=object)"
      ]
     },
     "execution_count": 259,
     "metadata": {},
     "output_type": "execute_result"
    }
   ],
   "source": [
    "mutAttributionAnnotatedMaf.columns.values"
   ]
  },
  {
   "cell_type": "code",
   "execution_count": null,
   "metadata": {},
   "outputs": [],
   "source": []
  }
 ],
 "metadata": {
  "kernelspec": {
   "display_name": "Python 2",
   "language": "python",
   "name": "python2"
  },
  "language_info": {
   "codemirror_mode": {
    "name": "ipython",
    "version": 2
   },
   "file_extension": ".py",
   "mimetype": "text/x-python",
   "name": "python",
   "nbconvert_exporter": "python",
   "pygments_lexer": "ipython2",
   "version": "2.7.15"
  }
 },
 "nbformat": 4,
 "nbformat_minor": 2
}
