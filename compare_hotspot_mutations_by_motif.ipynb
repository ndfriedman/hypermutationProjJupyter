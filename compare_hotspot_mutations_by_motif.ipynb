{
 "cells": [
  {
   "cell_type": "markdown",
   "metadata": {},
   "source": [
    "The idea of this script is to allow us to compare the identities of hotspot mutations in cases that occur at favored motifs and non favored motifs"
   ]
  },
  {
   "cell_type": "code",
   "execution_count": 250,
   "metadata": {},
   "outputs": [],
   "source": [
    "import sys\n",
    "import argparse\n",
    "import os\n",
    "import pandas as pd\n",
    "import numpy as np\n",
    "import re\n",
    "\n",
    "from collections import Counter\n",
    "\n",
    "pathPrefix = '/Users/friedman/Desktop/mnt'\n",
    "sys.path.append(pathPrefix + '/ifs/work/taylorlab/friedman/myUtils')\n",
    "import analysis_utils \n",
    "import mutationSigUtils \n",
    "import maf_analysis_utils\n",
    "import mutation_modeling_util  \n",
    "import signature_attribution_util\n",
    "import clonality_analysis_util"
   ]
  },
  {
   "cell_type": "code",
   "execution_count": 147,
   "metadata": {},
   "outputs": [],
   "source": [
    "#Get hypermutator cohorts\n",
    "#TODO do this with filtered maf only\n",
    "\n",
    "endometrialDf = pd.read_table(pathPrefix + '/ifs/work/taylorlab/friedman/myAdjustedDataFiles/subsettedMafs/Endometrial_HypermutantCaseMuts_MAF_ANNO_trinuc.maf')\n",
    "endometrialDf['quadNuc'] = endometrialDf.apply(lambda row: mutationSigUtils.create_reference_four_nuc(row['Ref_Tri'], row['Reference_Allele'], row['Tumor_Seq_Allele2'], row['Variant_Type']), axis=1)\n",
    "endometrialDf['cancer_type'] = 'Endometrial Cancer'\n",
    "\n",
    "colorectalDf = pd.read_table(pathPrefix + '/ifs/work/taylorlab/friedman/myAdjustedDataFiles/subsettedMafs/Colorectal_HypermutantCaseMuts_MAF_ANNO_trinuc.maf')\n",
    "colorectalDf['quadNuc'] = colorectalDf.apply(lambda row: mutationSigUtils.create_reference_four_nuc(row['Ref_Tri'], row['Reference_Allele'], row['Tumor_Seq_Allele2'], row['Variant_Type']), axis=1)\n",
    "colorectalDf['cancer_type'] = 'Colorectal Cancer'\n",
    "\n",
    "gliomaDf = pd.read_table(pathPrefix + '/ifs/work/taylorlab/friedman/myAdjustedDataFiles/subsettedMafs/Glioma_HypermutantCaseMuts_MAF_ANNO_trinuc.maf')\n",
    "gliomaDf['quadNuc'] = gliomaDf.apply(lambda row: mutationSigUtils.create_reference_four_nuc(row['Ref_Tri'], row['Reference_Allele'], row['Tumor_Seq_Allele2'], row['Variant_Type']), axis=1)\n",
    "gliomaDf['cancer_type'] = 'Glioma'"
   ]
  },
  {
   "cell_type": "code",
   "execution_count": 7,
   "metadata": {},
   "outputs": [],
   "source": [
    "impactSigs = pd.read_table(pathPrefix + '/ifs/work/taylorlab/friedman/hypermutationAnalysisProj/projectDataAndConfigFiles/signatures_from_unfiltered_maf.txt')\n"
   ]
  },
  {
   "cell_type": "code",
   "execution_count": 35,
   "metadata": {},
   "outputs": [],
   "source": [
    "renameDict = {key:value for (key,value) in [('mean_' + str(i), 'Signature.' + str(i)) for i in range(1,31)]}\n",
    "impactSigs = impactSigs.rename(columns=renameDict)"
   ]
  },
  {
   "cell_type": "code",
   "execution_count": 11,
   "metadata": {
    "scrolled": true
   },
   "outputs": [],
   "source": [
    "spectrumDict = mutationSigUtils.convert_spectrum_file_to_dict_of_dicts(spectrumFile = pathPrefix + '/ifs/work/taylorlab/friedman/noahFirstProject/signature_sig_copy/mutation-signatures/Stratton_signatures30.txt') #one liner to create a spectrum dict for later use"
   ]
  },
  {
   "cell_type": "code",
   "execution_count": 287,
   "metadata": {},
   "outputs": [
    {
     "name": "stderr",
     "output_type": "stream",
     "text": [
      "/anaconda2/lib/python2.7/site-packages/ipykernel_launcher.py:1: FutureWarning: Sorting because non-concatenation axis is not aligned. A future version\n",
      "of pandas will change to not sort by default.\n",
      "\n",
      "To accept the future behavior, pass 'sort=False'.\n",
      "\n",
      "To retain the current behavior and silence the warning, pass 'sort=True'.\n",
      "\n",
      "  \"\"\"Entry point for launching an IPython kernel.\n"
     ]
    }
   ],
   "source": [
    "combinedDf = pd.concat([endometrialDf, colorectalDf, gliomaDf])"
   ]
  },
  {
   "cell_type": "code",
   "execution_count": 288,
   "metadata": {
    "scrolled": false
   },
   "outputs": [],
   "source": [
    "reload(signature_attribution_util)\n",
    "combinedDf = signature_attribution_util.mark_mutations_in_case_as_motif_outliers(combinedDf)"
   ]
  },
  {
   "cell_type": "code",
   "execution_count": null,
   "metadata": {
    "scrolled": true
   },
   "outputs": [],
   "source": [
    "filteredMafDf = analysis_utils.load_in_df_with_progress(pathPrefix + '/ifs/work/taylorlab/friedman/hypermutationAnalysisProj/projectDataAndConfigFiles/all_impact_mutations_annotated_cohort.maf', 275171)\n"
   ]
  },
  {
   "cell_type": "code",
   "execution_count": 289,
   "metadata": {},
   "outputs": [
    {
     "name": "stdout",
     "output_type": "stream",
     "text": [
      "Endometrial Cancer\n",
      "Colorectal Cancer\n",
      "Glioma\n"
     ]
    }
   ],
   "source": [
    "#Enumerate a mapping between genes and cancer types\n",
    "genesImplicatedInCancerTypes= maf_analysis_utils.create_dictionary_mapping_genes_to_cancer_types_with_implication(filteredMafDf, pathPrefix=pathPrefix, cancerTypes=['Endometrial Cancer', 'Colorectal Cancer', 'Glioma'], t=0.04)\n",
    "\n",
    "#ADD in hypermutation genes\n",
    "hypermutationInitiatingGenes = set(['MSH6', 'MLH1', 'MSH2', 'PMS2', 'POLE'])\n",
    "relatedGenesDict = {}\n",
    "for cancerType, genes in genesImplicatedInCancerTypes.items():\n",
    "    if cancerType == 'Colorectal Cancer' or 'Endometrial Cancer':\n",
    "        genes = genes | hypermutationInitiatingGenes\n",
    "        relatedGenesDict[cancerType] = genes\n",
    "    else:\n",
    "        relatedGenesDict[cancerType] = genes"
   ]
  },
  {
   "cell_type": "code",
   "execution_count": 290,
   "metadata": {},
   "outputs": [],
   "source": [
    "combinedDf['isRelated'] = combinedDf.apply(lambda row: 1 if row['Hugo_Symbol'] in relatedGenesDict[row['cancer_type']]\n",
    "                                                             else 0, axis=1)\n",
    "combinedDf['isOncogenic'] = combinedDf['oncogenic'].apply(lambda x: True if x in set(['Likely Oncogenic', 'Oncogenic', 'Predicted Oncogenic']) else False)\n",
    "combinedDf['clonal'] = combinedDf['ccf_Mcopies_upper'].apply(lambda x: 1 if x == 1 else 0)"
   ]
  },
  {
   "cell_type": "code",
   "execution_count": 293,
   "metadata": {},
   "outputs": [],
   "source": [
    "#'Variant_Classification' may be the problem\n",
    "\n",
    "#theres an error so we need to write a subset\n",
    "combinedWriteDf = combinedDf[['Chromosome', 'Hugo_Symbol','Start_Position', 'End_Position', 'Consequence', \n",
    "                                   'Reference_Allele', 'Tumor_Seq_Allele1', 'Tumor_Seq_Allele2', 'Variant_Type',\n",
    "                                   'HGVSp_Short', 'is-a-hotspot', 'isOncogenic', 'ccf_Mcopies', 'Ref_Tri',\n",
    "       'quadNuc', 'isRelatedQuadnuc', 'isRelated', 'cancer_type', 't_var_freq', 'clonal', 'caseVafPercentileRank']]\n",
    "#ALERT--maybe exclude this line and properly mark msi indels\n",
    "combinedWriteDf = combinedWriteDf[combinedWriteDf['isRelatedQuadnuc'].notnull()]\n",
    "combinedWriteDf.to_csv('/Users/friedman/Desktop/WORK/dataForLocalPlotting/mutationMotfisComp.tsv', sep='\\t', index=False)\n",
    "\n"
   ]
  },
  {
   "cell_type": "code",
   "execution_count": 291,
   "metadata": {},
   "outputs": [],
   "source": [
    "combinedDf['varUuid'] = combinedDf.apply(lambda row: str(row['Hugo_Symbol']) + '_' + str(row['Start_Position']) + '_' + str(row['Tumor_Seq_Allele2']), axis=1)\n"
   ]
  },
  {
   "cell_type": "code",
   "execution_count": 296,
   "metadata": {},
   "outputs": [
    {
     "name": "stdout",
     "output_type": "stream",
     "text": [
      "(94674, 181)\n"
     ]
    },
    {
     "name": "stderr",
     "output_type": "stream",
     "text": [
      "/Users/friedman/Desktop/mnt/ifs/work/taylorlab/friedman/myUtils/clonality_analysis_util.py:176: SettingWithCopyWarning: \n",
      "A value is trying to be set on a copy of a slice from a DataFrame.\n",
      "Try using .loc[row_indexer,col_indexer] = value instead\n",
      "\n",
      "See the caveats in the documentation: http://pandas.pydata.org/pandas-docs/stable/indexing.html#indexing-view-versus-copy\n",
      "  \n"
     ]
    }
   ],
   "source": [
    "reload(clonality_analysis_util)\n",
    "combinedDfMarked = clonality_analysis_util.mark_mutations_by_vaf_mut_percentile(combinedDf)"
   ]
  },
  {
   "cell_type": "code",
   "execution_count": 294,
   "metadata": {},
   "outputs": [
    {
     "name": "stderr",
     "output_type": "stream",
     "text": [
      "/anaconda2/lib/python2.7/site-packages/ipykernel_launcher.py:2: UserWarning: Boolean Series key will be reindexed to match DataFrame index.\n",
      "  \n"
     ]
    },
    {
     "ename": "ValueError",
     "evalue": "cannot reindex from a duplicate axis",
     "output_type": "error",
     "traceback": [
      "\u001b[0;31m---------------------------------------------------------------------------\u001b[0m",
      "\u001b[0;31mValueError\u001b[0m                                Traceback (most recent call last)",
      "\u001b[0;32m<ipython-input-294-d0a687905d1d>\u001b[0m in \u001b[0;36m<module>\u001b[0;34m()\u001b[0m\n\u001b[1;32m      1\u001b[0m \u001b[0mlistOfDicts\u001b[0m \u001b[0;34m=\u001b[0m \u001b[0;34m[\u001b[0m\u001b[0;34m]\u001b[0m\u001b[0;34m\u001b[0m\u001b[0m\n\u001b[0;32m----> 2\u001b[0;31m \u001b[0mendometrialDf\u001b[0m \u001b[0;34m=\u001b[0m \u001b[0mcombinedDfMarked\u001b[0m\u001b[0;34m[\u001b[0m\u001b[0;34m(\u001b[0m\u001b[0mcombinedDfMarked\u001b[0m\u001b[0;34m[\u001b[0m\u001b[0;34m'cancer_type'\u001b[0m\u001b[0;34m]\u001b[0m \u001b[0;34m==\u001b[0m \u001b[0;34m'Endometrial Cancer'\u001b[0m\u001b[0;34m)\u001b[0m \u001b[0;34m&\u001b[0m \u001b[0;34m(\u001b[0m\u001b[0mcombinedDf\u001b[0m\u001b[0;34m[\u001b[0m\u001b[0;34m'oncogenic'\u001b[0m\u001b[0;34m]\u001b[0m\u001b[0;34m.\u001b[0m\u001b[0mnotnull\u001b[0m\u001b[0;34m(\u001b[0m\u001b[0;34m)\u001b[0m\u001b[0;34m)\u001b[0m\u001b[0;34m]\u001b[0m\u001b[0;34m\u001b[0m\u001b[0m\n\u001b[0m\u001b[1;32m      3\u001b[0m \u001b[0mimpactGenes\u001b[0m \u001b[0;34m=\u001b[0m \u001b[0mset\u001b[0m\u001b[0;34m(\u001b[0m\u001b[0;34m[\u001b[0m\u001b[0;34m'ABL1'\u001b[0m\u001b[0;34m,\u001b[0m \u001b[0;34m'ACVR1'\u001b[0m\u001b[0;34m,\u001b[0m \u001b[0;34m'AGO2'\u001b[0m\u001b[0;34m,\u001b[0m \u001b[0;34m'AKT1'\u001b[0m\u001b[0;34m,\u001b[0m \u001b[0;34m'AKT2'\u001b[0m\u001b[0;34m,\u001b[0m \u001b[0;34m'AKT3'\u001b[0m\u001b[0;34m,\u001b[0m \u001b[0;34m'ALK'\u001b[0m\u001b[0;34m,\u001b[0m \u001b[0;34m'ALOX12B'\u001b[0m\u001b[0;34m,\u001b[0m \u001b[0;34m'ANKRD11'\u001b[0m\u001b[0;34m,\u001b[0m \u001b[0;34m'APC'\u001b[0m\u001b[0;34m,\u001b[0m \u001b[0;34m'AR'\u001b[0m\u001b[0;34m,\u001b[0m \u001b[0;34m'ARAF'\u001b[0m\u001b[0;34m,\u001b[0m \u001b[0;34m'ARID1A'\u001b[0m\u001b[0;34m,\u001b[0m \u001b[0;34m'ARID1B'\u001b[0m\u001b[0;34m,\u001b[0m \u001b[0;34m'ARID2'\u001b[0m\u001b[0;34m,\u001b[0m \u001b[0;34m'ARID5B'\u001b[0m\u001b[0;34m,\u001b[0m \u001b[0;34m'ASXL1'\u001b[0m\u001b[0;34m,\u001b[0m \u001b[0;34m'ASXL2'\u001b[0m\u001b[0;34m,\u001b[0m \u001b[0;34m'ATM'\u001b[0m\u001b[0;34m,\u001b[0m \u001b[0;34m'ATR'\u001b[0m\u001b[0;34m,\u001b[0m \u001b[0;34m'ATRX'\u001b[0m\u001b[0;34m,\u001b[0m \u001b[0;34m'AURKA'\u001b[0m\u001b[0;34m,\u001b[0m \u001b[0;34m'AURKB'\u001b[0m\u001b[0;34m,\u001b[0m \u001b[0;34m'AXIN1'\u001b[0m\u001b[0;34m,\u001b[0m \u001b[0;34m'AXIN2'\u001b[0m\u001b[0;34m,\u001b[0m \u001b[0;34m'AXL'\u001b[0m\u001b[0;34m,\u001b[0m \u001b[0;34m'B2M'\u001b[0m\u001b[0;34m,\u001b[0m \u001b[0;34m'BABAM1'\u001b[0m\u001b[0;34m,\u001b[0m \u001b[0;34m'BAP1'\u001b[0m\u001b[0;34m,\u001b[0m \u001b[0;34m'BARD1'\u001b[0m\u001b[0;34m,\u001b[0m \u001b[0;34m'BBC3'\u001b[0m\u001b[0;34m,\u001b[0m \u001b[0;34m'BCL10'\u001b[0m\u001b[0;34m,\u001b[0m \u001b[0;34m'BCL2'\u001b[0m\u001b[0;34m,\u001b[0m \u001b[0;34m'BCL2L1'\u001b[0m\u001b[0;34m,\u001b[0m \u001b[0;34m'BCL2L11'\u001b[0m\u001b[0;34m,\u001b[0m \u001b[0;34m'BCL6'\u001b[0m\u001b[0;34m,\u001b[0m \u001b[0;34m'BCOR'\u001b[0m\u001b[0;34m,\u001b[0m \u001b[0;34m'BIRC3'\u001b[0m\u001b[0;34m,\u001b[0m \u001b[0;34m'BLM'\u001b[0m\u001b[0;34m,\u001b[0m \u001b[0;34m'BMPR1A'\u001b[0m\u001b[0;34m,\u001b[0m \u001b[0;34m'BRAF'\u001b[0m\u001b[0;34m,\u001b[0m \u001b[0;34m'BRCA1'\u001b[0m\u001b[0;34m,\u001b[0m \u001b[0;34m'BRCA2'\u001b[0m\u001b[0;34m,\u001b[0m \u001b[0;34m'BRD4'\u001b[0m\u001b[0;34m,\u001b[0m \u001b[0;34m'BRIP1'\u001b[0m\u001b[0;34m,\u001b[0m \u001b[0;34m'BTK'\u001b[0m\u001b[0;34m,\u001b[0m \u001b[0;34m'CALR'\u001b[0m\u001b[0;34m,\u001b[0m \u001b[0;34m'CARD11'\u001b[0m\u001b[0;34m,\u001b[0m \u001b[0;34m'CARM1'\u001b[0m\u001b[0;34m,\u001b[0m \u001b[0;34m'CASP8'\u001b[0m\u001b[0;34m,\u001b[0m \u001b[0;34m'CBFB'\u001b[0m\u001b[0;34m,\u001b[0m \u001b[0;34m'CBL'\u001b[0m\u001b[0;34m,\u001b[0m \u001b[0;34m'CCND1'\u001b[0m\u001b[0;34m,\u001b[0m \u001b[0;34m'CCND2'\u001b[0m\u001b[0;34m,\u001b[0m \u001b[0;34m'CCND3'\u001b[0m\u001b[0;34m,\u001b[0m \u001b[0;34m'CCNE1'\u001b[0m\u001b[0;34m,\u001b[0m \u001b[0;34m'CD274'\u001b[0m\u001b[0;34m,\u001b[0m \u001b[0;34m'CD276'\u001b[0m\u001b[0;34m,\u001b[0m \u001b[0;34m'CD79A'\u001b[0m\u001b[0;34m,\u001b[0m \u001b[0;34m'CD79B'\u001b[0m\u001b[0;34m,\u001b[0m \u001b[0;34m'CDC42'\u001b[0m\u001b[0;34m,\u001b[0m \u001b[0;34m'CDC73'\u001b[0m\u001b[0;34m,\u001b[0m \u001b[0;34m'CDH1'\u001b[0m\u001b[0;34m,\u001b[0m \u001b[0;34m'CDK12'\u001b[0m\u001b[0;34m,\u001b[0m \u001b[0;34m'CDK4'\u001b[0m\u001b[0;34m,\u001b[0m \u001b[0;34m'CDK6'\u001b[0m\u001b[0;34m,\u001b[0m \u001b[0;34m'CDK8'\u001b[0m\u001b[0;34m,\u001b[0m \u001b[0;34m'CDKN1A'\u001b[0m\u001b[0;34m,\u001b[0m \u001b[0;34m'CDKN1B'\u001b[0m\u001b[0;34m,\u001b[0m \u001b[0;34m'CDKN2A'\u001b[0m\u001b[0;34m,\u001b[0m \u001b[0;34m'CDKN2B'\u001b[0m\u001b[0;34m,\u001b[0m \u001b[0;34m'CDKN2C'\u001b[0m\u001b[0;34m,\u001b[0m \u001b[0;34m'CEBPA'\u001b[0m\u001b[0;34m,\u001b[0m \u001b[0;34m'CENPA'\u001b[0m\u001b[0;34m,\u001b[0m \u001b[0;34m'CHEK1'\u001b[0m\u001b[0;34m,\u001b[0m \u001b[0;34m'CHEK2'\u001b[0m\u001b[0;34m,\u001b[0m \u001b[0;34m'CIC'\u001b[0m\u001b[0;34m,\u001b[0m \u001b[0;34m'CREBBP'\u001b[0m\u001b[0;34m,\u001b[0m \u001b[0;34m'CRKL'\u001b[0m\u001b[0;34m,\u001b[0m \u001b[0;34m'CRLF2'\u001b[0m\u001b[0;34m,\u001b[0m \u001b[0;34m'CSDE1'\u001b[0m\u001b[0;34m,\u001b[0m \u001b[0;34m'CSF1R'\u001b[0m\u001b[0;34m,\u001b[0m \u001b[0;34m'CSF3R'\u001b[0m\u001b[0;34m,\u001b[0m \u001b[0;34m'CTCF'\u001b[0m\u001b[0;34m,\u001b[0m \u001b[0;34m'CTLA4'\u001b[0m\u001b[0;34m,\u001b[0m \u001b[0;34m'CTNNB1'\u001b[0m\u001b[0;34m,\u001b[0m \u001b[0;34m'CUL3'\u001b[0m\u001b[0;34m,\u001b[0m \u001b[0;34m'CXCR4'\u001b[0m\u001b[0;34m,\u001b[0m \u001b[0;34m'CYLD'\u001b[0m\u001b[0;34m,\u001b[0m \u001b[0;34m'CYSLTR2'\u001b[0m\u001b[0;34m,\u001b[0m \u001b[0;34m'DAXX'\u001b[0m\u001b[0;34m,\u001b[0m \u001b[0;34m'DCUN1D1'\u001b[0m\u001b[0;34m,\u001b[0m \u001b[0;34m'DDR2'\u001b[0m\u001b[0;34m,\u001b[0m \u001b[0;34m'DICER1'\u001b[0m\u001b[0;34m,\u001b[0m \u001b[0;34m'DIS3'\u001b[0m\u001b[0;34m,\u001b[0m \u001b[0;34m'DNAJB1'\u001b[0m\u001b[0;34m,\u001b[0m \u001b[0;34m'DNMT1'\u001b[0m\u001b[0;34m,\u001b[0m \u001b[0;34m'DNMT3A'\u001b[0m\u001b[0;34m,\u001b[0m \u001b[0;34m'DNMT3B'\u001b[0m\u001b[0;34m,\u001b[0m \u001b[0;34m'DOT1L'\u001b[0m\u001b[0;34m,\u001b[0m \u001b[0;34m'DROSHA'\u001b[0m\u001b[0;34m,\u001b[0m \u001b[0;34m'DUSP4'\u001b[0m\u001b[0;34m,\u001b[0m \u001b[0;34m'E2F3'\u001b[0m\u001b[0;34m,\u001b[0m \u001b[0;34m'EED'\u001b[0m\u001b[0;34m,\u001b[0m \u001b[0;34m'EGFL7'\u001b[0m\u001b[0;34m,\u001b[0m \u001b[0;34m'EGFR'\u001b[0m\u001b[0;34m,\u001b[0m \u001b[0;34m'EIF1AX'\u001b[0m\u001b[0;34m,\u001b[0m \u001b[0;34m'EIF4A2'\u001b[0m\u001b[0;34m,\u001b[0m \u001b[0;34m'EIF4E'\u001b[0m\u001b[0;34m,\u001b[0m \u001b[0;34m'ELF3'\u001b[0m\u001b[0;34m,\u001b[0m \u001b[0;34m'EP300'\u001b[0m\u001b[0;34m,\u001b[0m \u001b[0;34m'EPAS1'\u001b[0m\u001b[0;34m,\u001b[0m \u001b[0;34m'EPCAM'\u001b[0m\u001b[0;34m,\u001b[0m \u001b[0;34m'EPHA3'\u001b[0m\u001b[0;34m,\u001b[0m \u001b[0;34m'EPHA5'\u001b[0m\u001b[0;34m,\u001b[0m \u001b[0;34m'EPHA7'\u001b[0m\u001b[0;34m,\u001b[0m \u001b[0;34m'EPHB1'\u001b[0m\u001b[0;34m,\u001b[0m \u001b[0;34m'ERBB2'\u001b[0m\u001b[0;34m,\u001b[0m \u001b[0;34m'ERBB3'\u001b[0m\u001b[0;34m,\u001b[0m \u001b[0;34m'ERBB4'\u001b[0m\u001b[0;34m,\u001b[0m \u001b[0;34m'ERCC2'\u001b[0m\u001b[0;34m,\u001b[0m \u001b[0;34m'ERCC3'\u001b[0m\u001b[0;34m,\u001b[0m \u001b[0;34m'ERCC4'\u001b[0m\u001b[0;34m,\u001b[0m \u001b[0;34m'ERCC5'\u001b[0m\u001b[0;34m,\u001b[0m \u001b[0;34m'ERF'\u001b[0m\u001b[0;34m,\u001b[0m \u001b[0;34m'ERG'\u001b[0m\u001b[0;34m,\u001b[0m \u001b[0;34m'ERRFI1'\u001b[0m\u001b[0;34m,\u001b[0m \u001b[0;34m'ESR1'\u001b[0m\u001b[0;34m,\u001b[0m \u001b[0;34m'ETV1'\u001b[0m\u001b[0;34m,\u001b[0m \u001b[0;34m'ETV6'\u001b[0m\u001b[0;34m,\u001b[0m \u001b[0;34m'EZH1'\u001b[0m\u001b[0;34m,\u001b[0m \u001b[0;34m'EZH2'\u001b[0m\u001b[0;34m,\u001b[0m \u001b[0;34m'FAM123B'\u001b[0m\u001b[0;34m,\u001b[0m \u001b[0;34m'FAM175A'\u001b[0m\u001b[0;34m,\u001b[0m \u001b[0;34m'FAM46C'\u001b[0m\u001b[0;34m,\u001b[0m \u001b[0;34m'FAM58A'\u001b[0m\u001b[0;34m,\u001b[0m \u001b[0;34m'FANCA'\u001b[0m\u001b[0;34m,\u001b[0m \u001b[0;34m'FANCC'\u001b[0m\u001b[0;34m,\u001b[0m \u001b[0;34m'FAT1'\u001b[0m\u001b[0;34m,\u001b[0m \u001b[0;34m'FBXW7'\u001b[0m\u001b[0;34m,\u001b[0m \u001b[0;34m'FGF19'\u001b[0m\u001b[0;34m,\u001b[0m \u001b[0;34m'FGF3'\u001b[0m\u001b[0;34m,\u001b[0m \u001b[0;34m'FGF4'\u001b[0m\u001b[0;34m,\u001b[0m \u001b[0;34m'FGFR1'\u001b[0m\u001b[0;34m,\u001b[0m \u001b[0;34m'FGFR2'\u001b[0m\u001b[0;34m,\u001b[0m \u001b[0;34m'FGFR3'\u001b[0m\u001b[0;34m,\u001b[0m \u001b[0;34m'FGFR4'\u001b[0m\u001b[0;34m,\u001b[0m \u001b[0;34m'FH'\u001b[0m\u001b[0;34m,\u001b[0m \u001b[0;34m'FLCN'\u001b[0m\u001b[0;34m,\u001b[0m \u001b[0;34m'FLT1'\u001b[0m\u001b[0;34m,\u001b[0m \u001b[0;34m'FLT3'\u001b[0m\u001b[0;34m,\u001b[0m \u001b[0;34m'FLT4'\u001b[0m\u001b[0;34m,\u001b[0m \u001b[0;34m'FOXA1'\u001b[0m\u001b[0;34m,\u001b[0m \u001b[0;34m'FOXL2'\u001b[0m\u001b[0;34m,\u001b[0m \u001b[0;34m'FOXO1'\u001b[0m\u001b[0;34m,\u001b[0m \u001b[0;34m'FOXP1'\u001b[0m\u001b[0;34m,\u001b[0m \u001b[0;34m'FUBP1'\u001b[0m\u001b[0;34m,\u001b[0m \u001b[0;34m'FYN'\u001b[0m\u001b[0;34m,\u001b[0m \u001b[0;34m'GATA1'\u001b[0m\u001b[0;34m,\u001b[0m \u001b[0;34m'GATA2'\u001b[0m\u001b[0;34m,\u001b[0m \u001b[0;34m'GATA3'\u001b[0m\u001b[0;34m,\u001b[0m \u001b[0;34m'GLI1'\u001b[0m\u001b[0;34m,\u001b[0m \u001b[0;34m'GNA11'\u001b[0m\u001b[0;34m,\u001b[0m \u001b[0;34m'GNAQ'\u001b[0m\u001b[0;34m,\u001b[0m \u001b[0;34m'GNAS'\u001b[0m\u001b[0;34m,\u001b[0m \u001b[0;34m'GPS2'\u001b[0m\u001b[0;34m,\u001b[0m \u001b[0;34m'GREM1'\u001b[0m\u001b[0;34m,\u001b[0m \u001b[0;34m'GRIN2A'\u001b[0m\u001b[0;34m,\u001b[0m \u001b[0;34m'GSK3B'\u001b[0m\u001b[0;34m,\u001b[0m \u001b[0;34m'H3F3A'\u001b[0m\u001b[0;34m,\u001b[0m \u001b[0;34m'H3F3B'\u001b[0m\u001b[0;34m,\u001b[0m \u001b[0;34m'H3F3C'\u001b[0m\u001b[0;34m,\u001b[0m \u001b[0;34m'HGF'\u001b[0m\u001b[0;34m,\u001b[0m \u001b[0;34m'HIST1H1C'\u001b[0m\u001b[0;34m,\u001b[0m \u001b[0;34m'HIST1H2BD'\u001b[0m\u001b[0;34m,\u001b[0m \u001b[0;34m'HIST1H3A'\u001b[0m\u001b[0;34m,\u001b[0m \u001b[0;34m'HIST1H3B'\u001b[0m\u001b[0;34m,\u001b[0m \u001b[0;34m'HIST1H3C'\u001b[0m\u001b[0;34m,\u001b[0m \u001b[0;34m'HIST1H3D'\u001b[0m\u001b[0;34m,\u001b[0m \u001b[0;34m'HIST1H3E'\u001b[0m\u001b[0;34m,\u001b[0m \u001b[0;34m'HIST1H3F'\u001b[0m\u001b[0;34m,\u001b[0m \u001b[0;34m'HIST1H3G'\u001b[0m\u001b[0;34m,\u001b[0m \u001b[0;34m'HIST1H3H'\u001b[0m\u001b[0;34m,\u001b[0m \u001b[0;34m'HIST1H3I'\u001b[0m\u001b[0;34m,\u001b[0m \u001b[0;34m'HIST1H3J'\u001b[0m\u001b[0;34m,\u001b[0m \u001b[0;34m'HIST2H3C'\u001b[0m\u001b[0;34m,\u001b[0m \u001b[0;34m'HIST2H3D'\u001b[0m\u001b[0;34m,\u001b[0m \u001b[0;34m'HIST3H3'\u001b[0m\u001b[0;34m,\u001b[0m \u001b[0;34m'HLA-A'\u001b[0m\u001b[0;34m,\u001b[0m \u001b[0;34m'HLA-B'\u001b[0m\u001b[0;34m,\u001b[0m \u001b[0;34m'HNF1A'\u001b[0m\u001b[0;34m,\u001b[0m \u001b[0;34m'HOXB13'\u001b[0m\u001b[0;34m,\u001b[0m \u001b[0;34m'HRAS'\u001b[0m\u001b[0;34m,\u001b[0m \u001b[0;34m'ICOSLG'\u001b[0m\u001b[0;34m,\u001b[0m \u001b[0;34m'ID3'\u001b[0m\u001b[0;34m,\u001b[0m \u001b[0;34m'IDH1'\u001b[0m\u001b[0;34m,\u001b[0m \u001b[0;34m'IDH2'\u001b[0m\u001b[0;34m,\u001b[0m \u001b[0;34m'IFNGR1'\u001b[0m\u001b[0;34m,\u001b[0m \u001b[0;34m'IGF1'\u001b[0m\u001b[0;34m,\u001b[0m \u001b[0;34m'IGF1R'\u001b[0m\u001b[0;34m,\u001b[0m \u001b[0;34m'IGF2'\u001b[0m\u001b[0;34m,\u001b[0m \u001b[0;34m'IKBKE'\u001b[0m\u001b[0;34m,\u001b[0m \u001b[0;34m'IKZF1'\u001b[0m\u001b[0;34m,\u001b[0m \u001b[0;34m'IL10'\u001b[0m\u001b[0;34m,\u001b[0m \u001b[0;34m'IL7R'\u001b[0m\u001b[0;34m,\u001b[0m \u001b[0;34m'INHA'\u001b[0m\u001b[0;34m,\u001b[0m \u001b[0;34m'INHBA'\u001b[0m\u001b[0;34m,\u001b[0m \u001b[0;34m'INPP4A'\u001b[0m\u001b[0;34m,\u001b[0m \u001b[0;34m'INPP4B'\u001b[0m\u001b[0;34m,\u001b[0m \u001b[0;34m'INPPL1'\u001b[0m\u001b[0;34m,\u001b[0m \u001b[0;34m'INSR'\u001b[0m\u001b[0;34m,\u001b[0m \u001b[0;34m'IRF4'\u001b[0m\u001b[0;34m,\u001b[0m \u001b[0;34m'IRS1'\u001b[0m\u001b[0;34m,\u001b[0m \u001b[0;34m'IRS2'\u001b[0m\u001b[0;34m,\u001b[0m \u001b[0;34m'JAK1'\u001b[0m\u001b[0;34m,\u001b[0m \u001b[0;34m'JAK2'\u001b[0m\u001b[0;34m,\u001b[0m \u001b[0;34m'JAK3'\u001b[0m\u001b[0;34m,\u001b[0m \u001b[0;34m'JUN'\u001b[0m\u001b[0;34m,\u001b[0m \u001b[0;34m'KDM5A'\u001b[0m\u001b[0;34m,\u001b[0m \u001b[0;34m'KDM5C'\u001b[0m\u001b[0;34m,\u001b[0m \u001b[0;34m'KDM6A'\u001b[0m\u001b[0;34m,\u001b[0m \u001b[0;34m'KDR'\u001b[0m\u001b[0;34m,\u001b[0m \u001b[0;34m'KEAP1'\u001b[0m\u001b[0;34m,\u001b[0m \u001b[0;34m'KIT'\u001b[0m\u001b[0;34m,\u001b[0m \u001b[0;34m'KLF4'\u001b[0m\u001b[0;34m,\u001b[0m \u001b[0;34m'KMT2B'\u001b[0m\u001b[0;34m,\u001b[0m \u001b[0;34m'KMT5A'\u001b[0m\u001b[0;34m,\u001b[0m \u001b[0;34m'KNSTRN'\u001b[0m\u001b[0;34m,\u001b[0m \u001b[0;34m'KRAS'\u001b[0m\u001b[0;34m,\u001b[0m \u001b[0;34m'LATS1'\u001b[0m\u001b[0;34m,\u001b[0m \u001b[0;34m'LATS2'\u001b[0m\u001b[0;34m,\u001b[0m \u001b[0;34m'LMO1'\u001b[0m\u001b[0;34m,\u001b[0m \u001b[0;34m'LYN'\u001b[0m\u001b[0;34m,\u001b[0m \u001b[0;34m'MALT1'\u001b[0m\u001b[0;34m,\u001b[0m \u001b[0;34m'MAP2K1'\u001b[0m\u001b[0;34m,\u001b[0m \u001b[0;34m'MAP2K2'\u001b[0m\u001b[0;34m,\u001b[0m \u001b[0;34m'MAP2K4'\u001b[0m\u001b[0;34m,\u001b[0m \u001b[0;34m'MAP3K1'\u001b[0m\u001b[0;34m,\u001b[0m \u001b[0;34m'MAP3K13'\u001b[0m\u001b[0;34m,\u001b[0m \u001b[0;34m'MAP3K14'\u001b[0m\u001b[0;34m,\u001b[0m \u001b[0;34m'MAPK1'\u001b[0m\u001b[0;34m,\u001b[0m \u001b[0;34m'MAPK3'\u001b[0m\u001b[0;34m,\u001b[0m \u001b[0;34m'MAPKAP1'\u001b[0m\u001b[0;34m,\u001b[0m \u001b[0;34m'MAX'\u001b[0m\u001b[0;34m,\u001b[0m \u001b[0;34m'MCL1'\u001b[0m\u001b[0;34m,\u001b[0m \u001b[0;34m'MDC1'\u001b[0m\u001b[0;34m,\u001b[0m \u001b[0;34m'MDM2'\u001b[0m\u001b[0;34m,\u001b[0m \u001b[0;34m'MDM4'\u001b[0m\u001b[0;34m,\u001b[0m \u001b[0;34m'MED12'\u001b[0m\u001b[0;34m,\u001b[0m \u001b[0;34m'MEF2B'\u001b[0m\u001b[0;34m,\u001b[0m \u001b[0;34m'MEN1'\u001b[0m\u001b[0;34m,\u001b[0m \u001b[0;34m'MET'\u001b[0m\u001b[0;34m,\u001b[0m \u001b[0;34m'MGA'\u001b[0m\u001b[0;34m,\u001b[0m \u001b[0;34m'MITF'\u001b[0m\u001b[0;34m,\u001b[0m \u001b[0;34m'MLH1'\u001b[0m\u001b[0;34m,\u001b[0m \u001b[0;34m'MLL'\u001b[0m\u001b[0;34m,\u001b[0m \u001b[0;34m'MLL2'\u001b[0m\u001b[0;34m,\u001b[0m \u001b[0;34m'MLL3'\u001b[0m\u001b[0;34m,\u001b[0m \u001b[0;34m'MPL'\u001b[0m\u001b[0;34m,\u001b[0m \u001b[0;34m'MRE11A'\u001b[0m\u001b[0;34m,\u001b[0m \u001b[0;34m'MSH2'\u001b[0m\u001b[0;34m,\u001b[0m \u001b[0;34m'MSH3'\u001b[0m\u001b[0;34m,\u001b[0m \u001b[0;34m'MSH6'\u001b[0m\u001b[0;34m,\u001b[0m \u001b[0;34m'MSI1'\u001b[0m\u001b[0;34m,\u001b[0m \u001b[0;34m'MSI2'\u001b[0m\u001b[0;34m,\u001b[0m \u001b[0;34m'MST1'\u001b[0m\u001b[0;34m,\u001b[0m \u001b[0;34m'MST1R'\u001b[0m\u001b[0;34m,\u001b[0m \u001b[0;34m'MTOR'\u001b[0m\u001b[0;34m,\u001b[0m \u001b[0;34m'MUTYH'\u001b[0m\u001b[0;34m,\u001b[0m \u001b[0;34m'MYC'\u001b[0m\u001b[0;34m,\u001b[0m \u001b[0;34m'MYCL1'\u001b[0m\u001b[0;34m,\u001b[0m \u001b[0;34m'MYCN'\u001b[0m\u001b[0;34m,\u001b[0m \u001b[0;34m'MYD88'\u001b[0m\u001b[0;34m,\u001b[0m \u001b[0;34m'MYOD1'\u001b[0m\u001b[0;34m,\u001b[0m \u001b[0;34m'NBN'\u001b[0m\u001b[0;34m,\u001b[0m \u001b[0;34m'NCOA3'\u001b[0m\u001b[0;34m,\u001b[0m \u001b[0;34m'NCOR1'\u001b[0m\u001b[0;34m,\u001b[0m \u001b[0;34m'NEGR1'\u001b[0m\u001b[0;34m,\u001b[0m \u001b[0;34m'NF1'\u001b[0m\u001b[0;34m,\u001b[0m \u001b[0;34m'NF2'\u001b[0m\u001b[0;34m,\u001b[0m \u001b[0;34m'NFE2L2'\u001b[0m\u001b[0;34m,\u001b[0m \u001b[0;34m'NFKBIA'\u001b[0m\u001b[0;34m,\u001b[0m \u001b[0;34m'NKX2-1'\u001b[0m\u001b[0;34m,\u001b[0m \u001b[0;34m'NKX3-1'\u001b[0m\u001b[0;34m,\u001b[0m \u001b[0;34m'NOTCH1'\u001b[0m\u001b[0;34m,\u001b[0m \u001b[0;34m'NOTCH2'\u001b[0m\u001b[0;34m,\u001b[0m \u001b[0;34m'NOTCH3'\u001b[0m\u001b[0;34m,\u001b[0m \u001b[0;34m'NOTCH4'\u001b[0m\u001b[0;34m,\u001b[0m \u001b[0;34m'NPM1'\u001b[0m\u001b[0;34m,\u001b[0m \u001b[0;34m'NRAS'\u001b[0m\u001b[0;34m,\u001b[0m \u001b[0;34m'NSD1'\u001b[0m\u001b[0;34m,\u001b[0m \u001b[0;34m'NTHL1'\u001b[0m\u001b[0;34m,\u001b[0m \u001b[0;34m'NTRK1'\u001b[0m\u001b[0;34m,\u001b[0m \u001b[0;34m'NTRK2'\u001b[0m\u001b[0;34m,\u001b[0m \u001b[0;34m'NTRK3'\u001b[0m\u001b[0;34m,\u001b[0m \u001b[0;34m'NUF2'\u001b[0m\u001b[0;34m,\u001b[0m \u001b[0;34m'NUP93'\u001b[0m\u001b[0;34m,\u001b[0m \u001b[0;34m'PAK1'\u001b[0m\u001b[0;34m,\u001b[0m \u001b[0;34m'PAK7'\u001b[0m\u001b[0;34m,\u001b[0m \u001b[0;34m'PALB2'\u001b[0m\u001b[0;34m,\u001b[0m \u001b[0;34m'PARK2'\u001b[0m\u001b[0;34m,\u001b[0m \u001b[0;34m'PARP1'\u001b[0m\u001b[0;34m,\u001b[0m \u001b[0;34m'PAX5'\u001b[0m\u001b[0;34m,\u001b[0m \u001b[0;34m'PBRM1'\u001b[0m\u001b[0;34m,\u001b[0m \u001b[0;34m'PDCD1'\u001b[0m\u001b[0;34m,\u001b[0m \u001b[0;34m'PDCD1LG2'\u001b[0m\u001b[0;34m,\u001b[0m \u001b[0;34m'PDGFRA'\u001b[0m\u001b[0;34m,\u001b[0m \u001b[0;34m'PDGFRB'\u001b[0m\u001b[0;34m,\u001b[0m \u001b[0;34m'PDPK1'\u001b[0m\u001b[0;34m,\u001b[0m \u001b[0;34m'PGR'\u001b[0m\u001b[0;34m,\u001b[0m \u001b[0;34m'PHOX2B'\u001b[0m\u001b[0;34m,\u001b[0m \u001b[0;34m'PIK3C2G'\u001b[0m\u001b[0;34m,\u001b[0m \u001b[0;34m'PIK3C3'\u001b[0m\u001b[0;34m,\u001b[0m \u001b[0;34m'PIK3CA'\u001b[0m\u001b[0;34m,\u001b[0m \u001b[0;34m'PIK3CB'\u001b[0m\u001b[0;34m,\u001b[0m \u001b[0;34m'PIK3CD'\u001b[0m\u001b[0;34m,\u001b[0m \u001b[0;34m'PIK3CG'\u001b[0m\u001b[0;34m,\u001b[0m \u001b[0;34m'PIK3R1'\u001b[0m\u001b[0;34m,\u001b[0m \u001b[0;34m'PIK3R2'\u001b[0m\u001b[0;34m,\u001b[0m \u001b[0;34m'PIK3R3'\u001b[0m\u001b[0;34m,\u001b[0m \u001b[0;34m'PIM1'\u001b[0m\u001b[0;34m,\u001b[0m \u001b[0;34m'PLCG2'\u001b[0m\u001b[0;34m,\u001b[0m \u001b[0;34m'PLK2'\u001b[0m\u001b[0;34m,\u001b[0m \u001b[0;34m'PMAIP1'\u001b[0m\u001b[0;34m,\u001b[0m \u001b[0;34m'PMS1'\u001b[0m\u001b[0;34m,\u001b[0m \u001b[0;34m'PMS2'\u001b[0m\u001b[0;34m,\u001b[0m \u001b[0;34m'PNRC1'\u001b[0m\u001b[0;34m,\u001b[0m \u001b[0;34m'POLD1'\u001b[0m\u001b[0;34m,\u001b[0m \u001b[0;34m'POLE'\u001b[0m\u001b[0;34m,\u001b[0m \u001b[0;34m'PPARG'\u001b[0m\u001b[0;34m,\u001b[0m \u001b[0;34m'PPM1D'\u001b[0m\u001b[0;34m,\u001b[0m \u001b[0;34m'PPP2R1A'\u001b[0m\u001b[0;34m,\u001b[0m \u001b[0;34m'PPP4R2'\u001b[0m\u001b[0;34m,\u001b[0m \u001b[0;34m'PPP6C'\u001b[0m\u001b[0;34m,\u001b[0m \u001b[0;34m'PRDM1'\u001b[0m\u001b[0;34m,\u001b[0m \u001b[0;34m'PRDM14'\u001b[0m\u001b[0;34m,\u001b[0m \u001b[0;34m'PREX2'\u001b[0m\u001b[0;34m,\u001b[0m \u001b[0;34m'PRKAR1A'\u001b[0m\u001b[0;34m,\u001b[0m \u001b[0;34m'PRKCI'\u001b[0m\u001b[0;34m,\u001b[0m \u001b[0;34m'PRKD1'\u001b[0m\u001b[0;34m,\u001b[0m \u001b[0;34m'PTCH1'\u001b[0m\u001b[0;34m,\u001b[0m \u001b[0;34m'PTEN'\u001b[0m\u001b[0;34m,\u001b[0m \u001b[0;34m'PTP4A1'\u001b[0m\u001b[0;34m,\u001b[0m \u001b[0;34m'PTPN11'\u001b[0m\u001b[0;34m,\u001b[0m \u001b[0;34m'PTPRD'\u001b[0m\u001b[0;34m,\u001b[0m \u001b[0;34m'PTPRS'\u001b[0m\u001b[0;34m,\u001b[0m \u001b[0;34m'PTPRT'\u001b[0m\u001b[0;34m,\u001b[0m \u001b[0;34m'RAB35'\u001b[0m\u001b[0;34m,\u001b[0m \u001b[0;34m'RAC1'\u001b[0m\u001b[0;34m,\u001b[0m \u001b[0;34m'RAC2'\u001b[0m\u001b[0;34m,\u001b[0m \u001b[0;34m'RAD21'\u001b[0m\u001b[0;34m,\u001b[0m \u001b[0;34m'RAD50'\u001b[0m\u001b[0;34m,\u001b[0m \u001b[0;34m'RAD51'\u001b[0m\u001b[0;34m,\u001b[0m \u001b[0;34m'RAD51C'\u001b[0m\u001b[0;34m,\u001b[0m \u001b[0;34m'RAD51L1'\u001b[0m\u001b[0;34m,\u001b[0m \u001b[0;34m'RAD51L3'\u001b[0m\u001b[0;34m,\u001b[0m \u001b[0;34m'RAD52'\u001b[0m\u001b[0;34m,\u001b[0m \u001b[0;34m'RAD54L'\u001b[0m\u001b[0;34m,\u001b[0m \u001b[0;34m'RAF1'\u001b[0m\u001b[0;34m,\u001b[0m \u001b[0;34m'RARA'\u001b[0m\u001b[0;34m,\u001b[0m \u001b[0;34m'RASA1'\u001b[0m\u001b[0;34m,\u001b[0m \u001b[0;34m'RB1'\u001b[0m\u001b[0;34m,\u001b[0m \u001b[0;34m'RBM10'\u001b[0m\u001b[0;34m,\u001b[0m \u001b[0;34m'RECQL'\u001b[0m\u001b[0;34m,\u001b[0m \u001b[0;34m'RECQL4'\u001b[0m\u001b[0;34m,\u001b[0m \u001b[0;34m'REL'\u001b[0m\u001b[0;34m,\u001b[0m \u001b[0;34m'RET'\u001b[0m\u001b[0;34m,\u001b[0m \u001b[0;34m'RFWD2'\u001b[0m\u001b[0;34m,\u001b[0m \u001b[0;34m'RHEB'\u001b[0m\u001b[0;34m,\u001b[0m \u001b[0;34m'RHOA'\u001b[0m\u001b[0;34m,\u001b[0m \u001b[0;34m'RICTOR'\u001b[0m\u001b[0;34m,\u001b[0m \u001b[0;34m'RIT1'\u001b[0m\u001b[0;34m,\u001b[0m \u001b[0;34m'RNF43'\u001b[0m\u001b[0;34m,\u001b[0m \u001b[0;34m'ROS1'\u001b[0m\u001b[0;34m,\u001b[0m \u001b[0;34m'RPS6KA4'\u001b[0m\u001b[0;34m,\u001b[0m \u001b[0;34m'RPS6KB2'\u001b[0m\u001b[0;34m,\u001b[0m \u001b[0;34m'RPTOR'\u001b[0m\u001b[0;34m,\u001b[0m \u001b[0;34m'RRAGC'\u001b[0m\u001b[0;34m,\u001b[0m \u001b[0;34m'RRAS'\u001b[0m\u001b[0;34m,\u001b[0m \u001b[0;34m'RRAS2'\u001b[0m\u001b[0;34m,\u001b[0m \u001b[0;34m'RTEL1'\u001b[0m\u001b[0;34m,\u001b[0m \u001b[0;34m'RUNX1'\u001b[0m\u001b[0;34m,\u001b[0m \u001b[0;34m'RXRA'\u001b[0m\u001b[0;34m,\u001b[0m \u001b[0;34m'RYBP'\u001b[0m\u001b[0;34m,\u001b[0m \u001b[0;34m'SDHA'\u001b[0m\u001b[0;34m,\u001b[0m \u001b[0;34m'SDHAF2'\u001b[0m\u001b[0;34m,\u001b[0m \u001b[0;34m'SDHB'\u001b[0m\u001b[0;34m,\u001b[0m \u001b[0;34m'SDHC'\u001b[0m\u001b[0;34m,\u001b[0m \u001b[0;34m'SDHD'\u001b[0m\u001b[0;34m,\u001b[0m \u001b[0;34m'SESN1'\u001b[0m\u001b[0;34m,\u001b[0m \u001b[0;34m'SESN2'\u001b[0m\u001b[0;34m,\u001b[0m \u001b[0;34m'SESN3'\u001b[0m\u001b[0;34m,\u001b[0m \u001b[0;34m'SETD2'\u001b[0m\u001b[0;34m,\u001b[0m \u001b[0;34m'SF3B1'\u001b[0m\u001b[0;34m,\u001b[0m \u001b[0;34m'SH2B3'\u001b[0m\u001b[0;34m,\u001b[0m \u001b[0;34m'SH2D1A'\u001b[0m\u001b[0;34m,\u001b[0m \u001b[0;34m'SHOC2'\u001b[0m\u001b[0;34m,\u001b[0m \u001b[0;34m'SHQ1'\u001b[0m\u001b[0;34m,\u001b[0m \u001b[0;34m'SLX4'\u001b[0m\u001b[0;34m,\u001b[0m \u001b[0;34m'SMAD2'\u001b[0m\u001b[0;34m,\u001b[0m \u001b[0;34m'SMAD3'\u001b[0m\u001b[0;34m,\u001b[0m \u001b[0;34m'SMAD4'\u001b[0m\u001b[0;34m,\u001b[0m \u001b[0;34m'SMARCA4'\u001b[0m\u001b[0;34m,\u001b[0m \u001b[0;34m'SMARCB1'\u001b[0m\u001b[0;34m,\u001b[0m \u001b[0;34m'SMARCD1'\u001b[0m\u001b[0;34m,\u001b[0m \u001b[0;34m'SMO'\u001b[0m\u001b[0;34m,\u001b[0m \u001b[0;34m'SMYD3'\u001b[0m\u001b[0;34m,\u001b[0m \u001b[0;34m'SOCS1'\u001b[0m\u001b[0;34m,\u001b[0m \u001b[0;34m'SOS1'\u001b[0m\u001b[0;34m,\u001b[0m \u001b[0;34m'SOX17'\u001b[0m\u001b[0;34m,\u001b[0m \u001b[0;34m'SOX2'\u001b[0m\u001b[0;34m,\u001b[0m \u001b[0;34m'SOX9'\u001b[0m\u001b[0;34m,\u001b[0m \u001b[0;34m'SPEN'\u001b[0m\u001b[0;34m,\u001b[0m \u001b[0;34m'SPOP'\u001b[0m\u001b[0;34m,\u001b[0m \u001b[0;34m'SPRED1'\u001b[0m\u001b[0;34m,\u001b[0m \u001b[0;34m'SRC'\u001b[0m\u001b[0;34m,\u001b[0m \u001b[0;34m'SRSF2'\u001b[0m\u001b[0;34m,\u001b[0m \u001b[0;34m'STAG2'\u001b[0m\u001b[0;34m,\u001b[0m \u001b[0;34m'STAT3'\u001b[0m\u001b[0;34m,\u001b[0m \u001b[0;34m'STAT5A'\u001b[0m\u001b[0;34m,\u001b[0m \u001b[0;34m'STAT5B'\u001b[0m\u001b[0;34m,\u001b[0m \u001b[0;34m'STK11'\u001b[0m\u001b[0;34m,\u001b[0m \u001b[0;34m'STK19'\u001b[0m\u001b[0;34m,\u001b[0m \u001b[0;34m'STK40'\u001b[0m\u001b[0;34m,\u001b[0m \u001b[0;34m'SUFU'\u001b[0m\u001b[0;34m,\u001b[0m \u001b[0;34m'SUZ12'\u001b[0m\u001b[0;34m,\u001b[0m \u001b[0;34m'SYK'\u001b[0m\u001b[0;34m,\u001b[0m \u001b[0;34m'TAP1'\u001b[0m\u001b[0;34m,\u001b[0m \u001b[0;34m'TAP2'\u001b[0m\u001b[0;34m,\u001b[0m \u001b[0;34m'TBX3'\u001b[0m\u001b[0;34m,\u001b[0m \u001b[0;34m'TCEB1'\u001b[0m\u001b[0;34m,\u001b[0m \u001b[0;34m'TCF3'\u001b[0m\u001b[0;34m,\u001b[0m \u001b[0;34m'TCF7L2'\u001b[0m\u001b[0;34m,\u001b[0m \u001b[0;34m'TEK'\u001b[0m\u001b[0;34m,\u001b[0m \u001b[0;34m'TERT'\u001b[0m\u001b[0;34m,\u001b[0m \u001b[0;34m'TET1'\u001b[0m\u001b[0;34m,\u001b[0m \u001b[0;34m'TET2'\u001b[0m\u001b[0;34m,\u001b[0m \u001b[0;34m'TGFBR1'\u001b[0m\u001b[0;34m,\u001b[0m \u001b[0;34m'TGFBR2'\u001b[0m\u001b[0;34m,\u001b[0m \u001b[0;34m'TMEM127'\u001b[0m\u001b[0;34m,\u001b[0m \u001b[0;34m'TMPRSS2'\u001b[0m\u001b[0;34m,\u001b[0m \u001b[0;34m'TNFAIP3'\u001b[0m\u001b[0;34m,\u001b[0m \u001b[0;34m'TNFRSF14'\u001b[0m\u001b[0;34m,\u001b[0m \u001b[0;34m'TOP1'\u001b[0m\u001b[0;34m,\u001b[0m \u001b[0;34m'TP53'\u001b[0m\u001b[0;34m,\u001b[0m \u001b[0;34m'TP53BP1'\u001b[0m\u001b[0;34m,\u001b[0m \u001b[0;34m'TP63'\u001b[0m\u001b[0;34m,\u001b[0m \u001b[0;34m'TRAF2'\u001b[0m\u001b[0;34m,\u001b[0m \u001b[0;34m'TRAF7'\u001b[0m\u001b[0;34m,\u001b[0m \u001b[0;34m'TSC1'\u001b[0m\u001b[0;34m,\u001b[0m \u001b[0;34m'TSC2'\u001b[0m\u001b[0;34m,\u001b[0m \u001b[0;34m'TSHR'\u001b[0m\u001b[0;34m,\u001b[0m \u001b[0;34m'U2AF1'\u001b[0m\u001b[0;34m,\u001b[0m \u001b[0;34m'UPF1'\u001b[0m\u001b[0;34m,\u001b[0m \u001b[0;34m'VEGFA'\u001b[0m\u001b[0;34m,\u001b[0m \u001b[0;34m'VHL'\u001b[0m\u001b[0;34m,\u001b[0m \u001b[0;34m'VTCN1'\u001b[0m\u001b[0;34m,\u001b[0m \u001b[0;34m'WHSC1'\u001b[0m\u001b[0;34m,\u001b[0m \u001b[0;34m'WHSC1L1'\u001b[0m\u001b[0;34m,\u001b[0m \u001b[0;34m'WT1'\u001b[0m\u001b[0;34m,\u001b[0m \u001b[0;34m'WWTR1'\u001b[0m\u001b[0;34m,\u001b[0m \u001b[0;34m'XIAP'\u001b[0m\u001b[0;34m,\u001b[0m \u001b[0;34m'XPO1'\u001b[0m\u001b[0;34m,\u001b[0m \u001b[0;34m'XRCC2'\u001b[0m\u001b[0;34m,\u001b[0m \u001b[0;34m'YAP1'\u001b[0m\u001b[0;34m,\u001b[0m \u001b[0;34m'YES1'\u001b[0m\u001b[0;34m,\u001b[0m \u001b[0;34m'ZFHX3'\u001b[0m\u001b[0;34m,\u001b[0m \u001b[0;34m'ZRSR2'\u001b[0m\u001b[0;34m]\u001b[0m\u001b[0;34m)\u001b[0m\u001b[0;34m\u001b[0m\u001b[0m\n\u001b[1;32m      4\u001b[0m \u001b[0;32mfor\u001b[0m \u001b[0mgene\u001b[0m \u001b[0;32min\u001b[0m \u001b[0mimpactGenes\u001b[0m\u001b[0;34m:\u001b[0m\u001b[0;34m\u001b[0m\u001b[0m\n\u001b[1;32m      5\u001b[0m     \u001b[0mgeneMaf\u001b[0m \u001b[0;34m=\u001b[0m \u001b[0mendometrialDf\u001b[0m\u001b[0;34m[\u001b[0m\u001b[0mendometrialDf\u001b[0m\u001b[0;34m[\u001b[0m\u001b[0;34m'Hugo_Symbol'\u001b[0m\u001b[0;34m]\u001b[0m \u001b[0;34m==\u001b[0m \u001b[0mgene\u001b[0m\u001b[0;34m]\u001b[0m\u001b[0;34m\u001b[0m\u001b[0m\n",
      "\u001b[0;32m/anaconda2/lib/python2.7/site-packages/pandas/core/frame.pyc\u001b[0m in \u001b[0;36m__getitem__\u001b[0;34m(self, key)\u001b[0m\n\u001b[1;32m   2680\u001b[0m         \u001b[0;32mif\u001b[0m \u001b[0misinstance\u001b[0m\u001b[0;34m(\u001b[0m\u001b[0mkey\u001b[0m\u001b[0;34m,\u001b[0m \u001b[0;34m(\u001b[0m\u001b[0mSeries\u001b[0m\u001b[0;34m,\u001b[0m \u001b[0mnp\u001b[0m\u001b[0;34m.\u001b[0m\u001b[0mndarray\u001b[0m\u001b[0;34m,\u001b[0m \u001b[0mIndex\u001b[0m\u001b[0;34m,\u001b[0m \u001b[0mlist\u001b[0m\u001b[0;34m)\u001b[0m\u001b[0;34m)\u001b[0m\u001b[0;34m:\u001b[0m\u001b[0;34m\u001b[0m\u001b[0m\n\u001b[1;32m   2681\u001b[0m             \u001b[0;31m# either boolean or fancy integer index\u001b[0m\u001b[0;34m\u001b[0m\u001b[0;34m\u001b[0m\u001b[0m\n\u001b[0;32m-> 2682\u001b[0;31m             \u001b[0;32mreturn\u001b[0m \u001b[0mself\u001b[0m\u001b[0;34m.\u001b[0m\u001b[0m_getitem_array\u001b[0m\u001b[0;34m(\u001b[0m\u001b[0mkey\u001b[0m\u001b[0;34m)\u001b[0m\u001b[0;34m\u001b[0m\u001b[0m\n\u001b[0m\u001b[1;32m   2683\u001b[0m         \u001b[0;32melif\u001b[0m \u001b[0misinstance\u001b[0m\u001b[0;34m(\u001b[0m\u001b[0mkey\u001b[0m\u001b[0;34m,\u001b[0m \u001b[0mDataFrame\u001b[0m\u001b[0;34m)\u001b[0m\u001b[0;34m:\u001b[0m\u001b[0;34m\u001b[0m\u001b[0m\n\u001b[1;32m   2684\u001b[0m             \u001b[0;32mreturn\u001b[0m \u001b[0mself\u001b[0m\u001b[0;34m.\u001b[0m\u001b[0m_getitem_frame\u001b[0m\u001b[0;34m(\u001b[0m\u001b[0mkey\u001b[0m\u001b[0;34m)\u001b[0m\u001b[0;34m\u001b[0m\u001b[0m\n",
      "\u001b[0;32m/anaconda2/lib/python2.7/site-packages/pandas/core/frame.pyc\u001b[0m in \u001b[0;36m_getitem_array\u001b[0;34m(self, key)\u001b[0m\n\u001b[1;32m   2720\u001b[0m             \u001b[0;31m# check_bool_indexer will throw exception if Series key cannot\u001b[0m\u001b[0;34m\u001b[0m\u001b[0;34m\u001b[0m\u001b[0m\n\u001b[1;32m   2721\u001b[0m             \u001b[0;31m# be reindexed to match DataFrame rows\u001b[0m\u001b[0;34m\u001b[0m\u001b[0;34m\u001b[0m\u001b[0m\n\u001b[0;32m-> 2722\u001b[0;31m             \u001b[0mkey\u001b[0m \u001b[0;34m=\u001b[0m \u001b[0mcheck_bool_indexer\u001b[0m\u001b[0;34m(\u001b[0m\u001b[0mself\u001b[0m\u001b[0;34m.\u001b[0m\u001b[0mindex\u001b[0m\u001b[0;34m,\u001b[0m \u001b[0mkey\u001b[0m\u001b[0;34m)\u001b[0m\u001b[0;34m\u001b[0m\u001b[0m\n\u001b[0m\u001b[1;32m   2723\u001b[0m             \u001b[0mindexer\u001b[0m \u001b[0;34m=\u001b[0m \u001b[0mkey\u001b[0m\u001b[0;34m.\u001b[0m\u001b[0mnonzero\u001b[0m\u001b[0;34m(\u001b[0m\u001b[0;34m)\u001b[0m\u001b[0;34m[\u001b[0m\u001b[0;36m0\u001b[0m\u001b[0;34m]\u001b[0m\u001b[0;34m\u001b[0m\u001b[0m\n\u001b[1;32m   2724\u001b[0m             \u001b[0;32mreturn\u001b[0m \u001b[0mself\u001b[0m\u001b[0;34m.\u001b[0m\u001b[0m_take\u001b[0m\u001b[0;34m(\u001b[0m\u001b[0mindexer\u001b[0m\u001b[0;34m,\u001b[0m \u001b[0maxis\u001b[0m\u001b[0;34m=\u001b[0m\u001b[0;36m0\u001b[0m\u001b[0;34m)\u001b[0m\u001b[0;34m\u001b[0m\u001b[0m\n",
      "\u001b[0;32m/anaconda2/lib/python2.7/site-packages/pandas/core/indexing.pyc\u001b[0m in \u001b[0;36mcheck_bool_indexer\u001b[0;34m(ax, key)\u001b[0m\n\u001b[1;32m   2351\u001b[0m     \u001b[0mresult\u001b[0m \u001b[0;34m=\u001b[0m \u001b[0mkey\u001b[0m\u001b[0;34m\u001b[0m\u001b[0m\n\u001b[1;32m   2352\u001b[0m     \u001b[0;32mif\u001b[0m \u001b[0misinstance\u001b[0m\u001b[0;34m(\u001b[0m\u001b[0mkey\u001b[0m\u001b[0;34m,\u001b[0m \u001b[0mABCSeries\u001b[0m\u001b[0;34m)\u001b[0m \u001b[0;32mand\u001b[0m \u001b[0;32mnot\u001b[0m \u001b[0mkey\u001b[0m\u001b[0;34m.\u001b[0m\u001b[0mindex\u001b[0m\u001b[0;34m.\u001b[0m\u001b[0mequals\u001b[0m\u001b[0;34m(\u001b[0m\u001b[0max\u001b[0m\u001b[0;34m)\u001b[0m\u001b[0;34m:\u001b[0m\u001b[0;34m\u001b[0m\u001b[0m\n\u001b[0;32m-> 2353\u001b[0;31m         \u001b[0mresult\u001b[0m \u001b[0;34m=\u001b[0m \u001b[0mresult\u001b[0m\u001b[0;34m.\u001b[0m\u001b[0mreindex\u001b[0m\u001b[0;34m(\u001b[0m\u001b[0max\u001b[0m\u001b[0;34m)\u001b[0m\u001b[0;34m\u001b[0m\u001b[0m\n\u001b[0m\u001b[1;32m   2354\u001b[0m         \u001b[0mmask\u001b[0m \u001b[0;34m=\u001b[0m \u001b[0misna\u001b[0m\u001b[0;34m(\u001b[0m\u001b[0mresult\u001b[0m\u001b[0;34m.\u001b[0m\u001b[0m_values\u001b[0m\u001b[0;34m)\u001b[0m\u001b[0;34m\u001b[0m\u001b[0m\n\u001b[1;32m   2355\u001b[0m         \u001b[0;32mif\u001b[0m \u001b[0mmask\u001b[0m\u001b[0;34m.\u001b[0m\u001b[0many\u001b[0m\u001b[0;34m(\u001b[0m\u001b[0;34m)\u001b[0m\u001b[0;34m:\u001b[0m\u001b[0;34m\u001b[0m\u001b[0m\n",
      "\u001b[0;32m/anaconda2/lib/python2.7/site-packages/pandas/core/series.pyc\u001b[0m in \u001b[0;36mreindex\u001b[0;34m(self, index, **kwargs)\u001b[0m\n\u001b[1;32m   3323\u001b[0m     \u001b[0;34m@\u001b[0m\u001b[0mAppender\u001b[0m\u001b[0;34m(\u001b[0m\u001b[0mgeneric\u001b[0m\u001b[0;34m.\u001b[0m\u001b[0m_shared_docs\u001b[0m\u001b[0;34m[\u001b[0m\u001b[0;34m'reindex'\u001b[0m\u001b[0;34m]\u001b[0m \u001b[0;34m%\u001b[0m \u001b[0m_shared_doc_kwargs\u001b[0m\u001b[0;34m)\u001b[0m\u001b[0;34m\u001b[0m\u001b[0m\n\u001b[1;32m   3324\u001b[0m     \u001b[0;32mdef\u001b[0m \u001b[0mreindex\u001b[0m\u001b[0;34m(\u001b[0m\u001b[0mself\u001b[0m\u001b[0;34m,\u001b[0m \u001b[0mindex\u001b[0m\u001b[0;34m=\u001b[0m\u001b[0mNone\u001b[0m\u001b[0;34m,\u001b[0m \u001b[0;34m**\u001b[0m\u001b[0mkwargs\u001b[0m\u001b[0;34m)\u001b[0m\u001b[0;34m:\u001b[0m\u001b[0;34m\u001b[0m\u001b[0m\n\u001b[0;32m-> 3325\u001b[0;31m         \u001b[0;32mreturn\u001b[0m \u001b[0msuper\u001b[0m\u001b[0;34m(\u001b[0m\u001b[0mSeries\u001b[0m\u001b[0;34m,\u001b[0m \u001b[0mself\u001b[0m\u001b[0;34m)\u001b[0m\u001b[0;34m.\u001b[0m\u001b[0mreindex\u001b[0m\u001b[0;34m(\u001b[0m\u001b[0mindex\u001b[0m\u001b[0;34m=\u001b[0m\u001b[0mindex\u001b[0m\u001b[0;34m,\u001b[0m \u001b[0;34m**\u001b[0m\u001b[0mkwargs\u001b[0m\u001b[0;34m)\u001b[0m\u001b[0;34m\u001b[0m\u001b[0m\n\u001b[0m\u001b[1;32m   3326\u001b[0m \u001b[0;34m\u001b[0m\u001b[0m\n\u001b[1;32m   3327\u001b[0m     def drop(self, labels=None, axis=0, index=None, columns=None,\n",
      "\u001b[0;32m/anaconda2/lib/python2.7/site-packages/pandas/core/generic.pyc\u001b[0m in \u001b[0;36mreindex\u001b[0;34m(self, *args, **kwargs)\u001b[0m\n\u001b[1;32m   3687\u001b[0m         \u001b[0;31m# perform the reindex on the axes\u001b[0m\u001b[0;34m\u001b[0m\u001b[0;34m\u001b[0m\u001b[0m\n\u001b[1;32m   3688\u001b[0m         return self._reindex_axes(axes, level, limit, tolerance, method,\n\u001b[0;32m-> 3689\u001b[0;31m                                   fill_value, copy).__finalize__(self)\n\u001b[0m\u001b[1;32m   3690\u001b[0m \u001b[0;34m\u001b[0m\u001b[0m\n\u001b[1;32m   3691\u001b[0m     def _reindex_axes(self, axes, level, limit, tolerance, method, fill_value,\n",
      "\u001b[0;32m/anaconda2/lib/python2.7/site-packages/pandas/core/generic.pyc\u001b[0m in \u001b[0;36m_reindex_axes\u001b[0;34m(self, axes, level, limit, tolerance, method, fill_value, copy)\u001b[0m\n\u001b[1;32m   3705\u001b[0m             obj = obj._reindex_with_indexers({axis: [new_index, indexer]},\n\u001b[1;32m   3706\u001b[0m                                              \u001b[0mfill_value\u001b[0m\u001b[0;34m=\u001b[0m\u001b[0mfill_value\u001b[0m\u001b[0;34m,\u001b[0m\u001b[0;34m\u001b[0m\u001b[0m\n\u001b[0;32m-> 3707\u001b[0;31m                                              copy=copy, allow_dups=False)\n\u001b[0m\u001b[1;32m   3708\u001b[0m \u001b[0;34m\u001b[0m\u001b[0m\n\u001b[1;32m   3709\u001b[0m         \u001b[0;32mreturn\u001b[0m \u001b[0mobj\u001b[0m\u001b[0;34m\u001b[0m\u001b[0m\n",
      "\u001b[0;32m/anaconda2/lib/python2.7/site-packages/pandas/core/generic.pyc\u001b[0m in \u001b[0;36m_reindex_with_indexers\u001b[0;34m(self, reindexers, fill_value, copy, allow_dups)\u001b[0m\n\u001b[1;32m   3808\u001b[0m                                                 \u001b[0mfill_value\u001b[0m\u001b[0;34m=\u001b[0m\u001b[0mfill_value\u001b[0m\u001b[0;34m,\u001b[0m\u001b[0;34m\u001b[0m\u001b[0m\n\u001b[1;32m   3809\u001b[0m                                                 \u001b[0mallow_dups\u001b[0m\u001b[0;34m=\u001b[0m\u001b[0mallow_dups\u001b[0m\u001b[0;34m,\u001b[0m\u001b[0;34m\u001b[0m\u001b[0m\n\u001b[0;32m-> 3810\u001b[0;31m                                                 copy=copy)\n\u001b[0m\u001b[1;32m   3811\u001b[0m \u001b[0;34m\u001b[0m\u001b[0m\n\u001b[1;32m   3812\u001b[0m         \u001b[0;32mif\u001b[0m \u001b[0mcopy\u001b[0m \u001b[0;32mand\u001b[0m \u001b[0mnew_data\u001b[0m \u001b[0;32mis\u001b[0m \u001b[0mself\u001b[0m\u001b[0;34m.\u001b[0m\u001b[0m_data\u001b[0m\u001b[0;34m:\u001b[0m\u001b[0;34m\u001b[0m\u001b[0m\n",
      "\u001b[0;32m/anaconda2/lib/python2.7/site-packages/pandas/core/internals.pyc\u001b[0m in \u001b[0;36mreindex_indexer\u001b[0;34m(self, new_axis, indexer, axis, fill_value, allow_dups, copy)\u001b[0m\n\u001b[1;32m   4412\u001b[0m         \u001b[0;31m# some axes don't allow reindexing with dups\u001b[0m\u001b[0;34m\u001b[0m\u001b[0;34m\u001b[0m\u001b[0m\n\u001b[1;32m   4413\u001b[0m         \u001b[0;32mif\u001b[0m \u001b[0;32mnot\u001b[0m \u001b[0mallow_dups\u001b[0m\u001b[0;34m:\u001b[0m\u001b[0;34m\u001b[0m\u001b[0m\n\u001b[0;32m-> 4414\u001b[0;31m             \u001b[0mself\u001b[0m\u001b[0;34m.\u001b[0m\u001b[0maxes\u001b[0m\u001b[0;34m[\u001b[0m\u001b[0maxis\u001b[0m\u001b[0;34m]\u001b[0m\u001b[0;34m.\u001b[0m\u001b[0m_can_reindex\u001b[0m\u001b[0;34m(\u001b[0m\u001b[0mindexer\u001b[0m\u001b[0;34m)\u001b[0m\u001b[0;34m\u001b[0m\u001b[0m\n\u001b[0m\u001b[1;32m   4415\u001b[0m \u001b[0;34m\u001b[0m\u001b[0m\n\u001b[1;32m   4416\u001b[0m         \u001b[0;32mif\u001b[0m \u001b[0maxis\u001b[0m \u001b[0;34m>=\u001b[0m \u001b[0mself\u001b[0m\u001b[0;34m.\u001b[0m\u001b[0mndim\u001b[0m\u001b[0;34m:\u001b[0m\u001b[0;34m\u001b[0m\u001b[0m\n",
      "\u001b[0;32m/anaconda2/lib/python2.7/site-packages/pandas/core/indexes/base.pyc\u001b[0m in \u001b[0;36m_can_reindex\u001b[0;34m(self, indexer)\u001b[0m\n\u001b[1;32m   3574\u001b[0m         \u001b[0;31m# trying to reindex on an axis with duplicates\u001b[0m\u001b[0;34m\u001b[0m\u001b[0;34m\u001b[0m\u001b[0m\n\u001b[1;32m   3575\u001b[0m         \u001b[0;32mif\u001b[0m \u001b[0;32mnot\u001b[0m \u001b[0mself\u001b[0m\u001b[0;34m.\u001b[0m\u001b[0mis_unique\u001b[0m \u001b[0;32mand\u001b[0m \u001b[0mlen\u001b[0m\u001b[0;34m(\u001b[0m\u001b[0mindexer\u001b[0m\u001b[0;34m)\u001b[0m\u001b[0;34m:\u001b[0m\u001b[0;34m\u001b[0m\u001b[0m\n\u001b[0;32m-> 3576\u001b[0;31m             \u001b[0;32mraise\u001b[0m \u001b[0mValueError\u001b[0m\u001b[0;34m(\u001b[0m\u001b[0;34m\"cannot reindex from a duplicate axis\"\u001b[0m\u001b[0;34m)\u001b[0m\u001b[0;34m\u001b[0m\u001b[0m\n\u001b[0m\u001b[1;32m   3577\u001b[0m \u001b[0;34m\u001b[0m\u001b[0m\n\u001b[1;32m   3578\u001b[0m     def reindex(self, target, method=None, level=None, limit=None,\n",
      "\u001b[0;31mValueError\u001b[0m: cannot reindex from a duplicate axis"
     ]
    }
   ],
   "source": [
    "listOfDicts = []\n",
    "endometrialDf = combinedDfMarked[(combinedDfMarked['cancer_type'] == 'Endometrial Cancer') & (combinedDf['oncogenic'].notnull())]\n",
    "impactGenes = set(['ABL1', 'ACVR1', 'AGO2', 'AKT1', 'AKT2', 'AKT3', 'ALK', 'ALOX12B', 'ANKRD11', 'APC', 'AR', 'ARAF', 'ARID1A', 'ARID1B', 'ARID2', 'ARID5B', 'ASXL1', 'ASXL2', 'ATM', 'ATR', 'ATRX', 'AURKA', 'AURKB', 'AXIN1', 'AXIN2', 'AXL', 'B2M', 'BABAM1', 'BAP1', 'BARD1', 'BBC3', 'BCL10', 'BCL2', 'BCL2L1', 'BCL2L11', 'BCL6', 'BCOR', 'BIRC3', 'BLM', 'BMPR1A', 'BRAF', 'BRCA1', 'BRCA2', 'BRD4', 'BRIP1', 'BTK', 'CALR', 'CARD11', 'CARM1', 'CASP8', 'CBFB', 'CBL', 'CCND1', 'CCND2', 'CCND3', 'CCNE1', 'CD274', 'CD276', 'CD79A', 'CD79B', 'CDC42', 'CDC73', 'CDH1', 'CDK12', 'CDK4', 'CDK6', 'CDK8', 'CDKN1A', 'CDKN1B', 'CDKN2A', 'CDKN2B', 'CDKN2C', 'CEBPA', 'CENPA', 'CHEK1', 'CHEK2', 'CIC', 'CREBBP', 'CRKL', 'CRLF2', 'CSDE1', 'CSF1R', 'CSF3R', 'CTCF', 'CTLA4', 'CTNNB1', 'CUL3', 'CXCR4', 'CYLD', 'CYSLTR2', 'DAXX', 'DCUN1D1', 'DDR2', 'DICER1', 'DIS3', 'DNAJB1', 'DNMT1', 'DNMT3A', 'DNMT3B', 'DOT1L', 'DROSHA', 'DUSP4', 'E2F3', 'EED', 'EGFL7', 'EGFR', 'EIF1AX', 'EIF4A2', 'EIF4E', 'ELF3', 'EP300', 'EPAS1', 'EPCAM', 'EPHA3', 'EPHA5', 'EPHA7', 'EPHB1', 'ERBB2', 'ERBB3', 'ERBB4', 'ERCC2', 'ERCC3', 'ERCC4', 'ERCC5', 'ERF', 'ERG', 'ERRFI1', 'ESR1', 'ETV1', 'ETV6', 'EZH1', 'EZH2', 'FAM123B', 'FAM175A', 'FAM46C', 'FAM58A', 'FANCA', 'FANCC', 'FAT1', 'FBXW7', 'FGF19', 'FGF3', 'FGF4', 'FGFR1', 'FGFR2', 'FGFR3', 'FGFR4', 'FH', 'FLCN', 'FLT1', 'FLT3', 'FLT4', 'FOXA1', 'FOXL2', 'FOXO1', 'FOXP1', 'FUBP1', 'FYN', 'GATA1', 'GATA2', 'GATA3', 'GLI1', 'GNA11', 'GNAQ', 'GNAS', 'GPS2', 'GREM1', 'GRIN2A', 'GSK3B', 'H3F3A', 'H3F3B', 'H3F3C', 'HGF', 'HIST1H1C', 'HIST1H2BD', 'HIST1H3A', 'HIST1H3B', 'HIST1H3C', 'HIST1H3D', 'HIST1H3E', 'HIST1H3F', 'HIST1H3G', 'HIST1H3H', 'HIST1H3I', 'HIST1H3J', 'HIST2H3C', 'HIST2H3D', 'HIST3H3', 'HLA-A', 'HLA-B', 'HNF1A', 'HOXB13', 'HRAS', 'ICOSLG', 'ID3', 'IDH1', 'IDH2', 'IFNGR1', 'IGF1', 'IGF1R', 'IGF2', 'IKBKE', 'IKZF1', 'IL10', 'IL7R', 'INHA', 'INHBA', 'INPP4A', 'INPP4B', 'INPPL1', 'INSR', 'IRF4', 'IRS1', 'IRS2', 'JAK1', 'JAK2', 'JAK3', 'JUN', 'KDM5A', 'KDM5C', 'KDM6A', 'KDR', 'KEAP1', 'KIT', 'KLF4', 'KMT2B', 'KMT5A', 'KNSTRN', 'KRAS', 'LATS1', 'LATS2', 'LMO1', 'LYN', 'MALT1', 'MAP2K1', 'MAP2K2', 'MAP2K4', 'MAP3K1', 'MAP3K13', 'MAP3K14', 'MAPK1', 'MAPK3', 'MAPKAP1', 'MAX', 'MCL1', 'MDC1', 'MDM2', 'MDM4', 'MED12', 'MEF2B', 'MEN1', 'MET', 'MGA', 'MITF', 'MLH1', 'MLL', 'MLL2', 'MLL3', 'MPL', 'MRE11A', 'MSH2', 'MSH3', 'MSH6', 'MSI1', 'MSI2', 'MST1', 'MST1R', 'MTOR', 'MUTYH', 'MYC', 'MYCL1', 'MYCN', 'MYD88', 'MYOD1', 'NBN', 'NCOA3', 'NCOR1', 'NEGR1', 'NF1', 'NF2', 'NFE2L2', 'NFKBIA', 'NKX2-1', 'NKX3-1', 'NOTCH1', 'NOTCH2', 'NOTCH3', 'NOTCH4', 'NPM1', 'NRAS', 'NSD1', 'NTHL1', 'NTRK1', 'NTRK2', 'NTRK3', 'NUF2', 'NUP93', 'PAK1', 'PAK7', 'PALB2', 'PARK2', 'PARP1', 'PAX5', 'PBRM1', 'PDCD1', 'PDCD1LG2', 'PDGFRA', 'PDGFRB', 'PDPK1', 'PGR', 'PHOX2B', 'PIK3C2G', 'PIK3C3', 'PIK3CA', 'PIK3CB', 'PIK3CD', 'PIK3CG', 'PIK3R1', 'PIK3R2', 'PIK3R3', 'PIM1', 'PLCG2', 'PLK2', 'PMAIP1', 'PMS1', 'PMS2', 'PNRC1', 'POLD1', 'POLE', 'PPARG', 'PPM1D', 'PPP2R1A', 'PPP4R2', 'PPP6C', 'PRDM1', 'PRDM14', 'PREX2', 'PRKAR1A', 'PRKCI', 'PRKD1', 'PTCH1', 'PTEN', 'PTP4A1', 'PTPN11', 'PTPRD', 'PTPRS', 'PTPRT', 'RAB35', 'RAC1', 'RAC2', 'RAD21', 'RAD50', 'RAD51', 'RAD51C', 'RAD51L1', 'RAD51L3', 'RAD52', 'RAD54L', 'RAF1', 'RARA', 'RASA1', 'RB1', 'RBM10', 'RECQL', 'RECQL4', 'REL', 'RET', 'RFWD2', 'RHEB', 'RHOA', 'RICTOR', 'RIT1', 'RNF43', 'ROS1', 'RPS6KA4', 'RPS6KB2', 'RPTOR', 'RRAGC', 'RRAS', 'RRAS2', 'RTEL1', 'RUNX1', 'RXRA', 'RYBP', 'SDHA', 'SDHAF2', 'SDHB', 'SDHC', 'SDHD', 'SESN1', 'SESN2', 'SESN3', 'SETD2', 'SF3B1', 'SH2B3', 'SH2D1A', 'SHOC2', 'SHQ1', 'SLX4', 'SMAD2', 'SMAD3', 'SMAD4', 'SMARCA4', 'SMARCB1', 'SMARCD1', 'SMO', 'SMYD3', 'SOCS1', 'SOS1', 'SOX17', 'SOX2', 'SOX9', 'SPEN', 'SPOP', 'SPRED1', 'SRC', 'SRSF2', 'STAG2', 'STAT3', 'STAT5A', 'STAT5B', 'STK11', 'STK19', 'STK40', 'SUFU', 'SUZ12', 'SYK', 'TAP1', 'TAP2', 'TBX3', 'TCEB1', 'TCF3', 'TCF7L2', 'TEK', 'TERT', 'TET1', 'TET2', 'TGFBR1', 'TGFBR2', 'TMEM127', 'TMPRSS2', 'TNFAIP3', 'TNFRSF14', 'TOP1', 'TP53', 'TP53BP1', 'TP63', 'TRAF2', 'TRAF7', 'TSC1', 'TSC2', 'TSHR', 'U2AF1', 'UPF1', 'VEGFA', 'VHL', 'VTCN1', 'WHSC1', 'WHSC1L1', 'WT1', 'WWTR1', 'XIAP', 'XPO1', 'XRCC2', 'YAP1', 'YES1', 'ZFHX3', 'ZRSR2'])\n",
    "for gene in impactGenes:\n",
    "    geneMaf = endometrialDf[endometrialDf['Hugo_Symbol'] == gene]\n",
    "    if geneMaf[geneMaf['oncogenic'].notnull()].shape[0] > 20:\n",
    "        listOfDicts.append({'gene': gene, 'mean': np.nanmean(geneMaf['ccf_Mcopies'])})\n",
    "df = pd.DataFrame(listOfDicts)\n",
    "df.to_csv('/Users/friedman/Desktop/WORK/dataForLocalPlotting/mutationMotfisComp.tsv', sep='\\t', index=False)\n"
   ]
  }
 ],
 "metadata": {
  "kernelspec": {
   "display_name": "Python 2",
   "language": "python",
   "name": "python2"
  },
  "language_info": {
   "codemirror_mode": {
    "name": "ipython",
    "version": 2
   },
   "file_extension": ".py",
   "mimetype": "text/x-python",
   "name": "python",
   "nbconvert_exporter": "python",
   "pygments_lexer": "ipython2",
   "version": "2.7.15"
  }
 },
 "nbformat": 4,
 "nbformat_minor": 2
}
