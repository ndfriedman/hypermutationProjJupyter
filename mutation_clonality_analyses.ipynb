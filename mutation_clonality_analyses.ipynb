{
 "cells": [
  {
   "cell_type": "code",
   "execution_count": 1,
   "metadata": {},
   "outputs": [],
   "source": [
    "#written by Noah Friedman (a template for scripts to be excuted in the spyder environment\n",
    "import sys\n",
    "import argparse\n",
    "import os\n",
    "import pandas as pd\n",
    "import numpy as np\n",
    "\n",
    "from collections import Counter"
   ]
  },
  {
   "cell_type": "code",
   "execution_count": 2,
   "metadata": {},
   "outputs": [],
   "source": [
    "pathPrefix = '/Users/friedman/Desktop/mnt'\n",
    "\n",
    "sys.path.append(pathPrefix + '/ifs/work/taylorlab/friedman/myUtils')\n",
    "import analysis_utils \n",
    "import mutationSigUtils \n",
    "import maf_analysis_utils\n",
    "import clonality_analysis_util"
   ]
  },
  {
   "cell_type": "code",
   "execution_count": 4,
   "metadata": {},
   "outputs": [
    {
     "data": {
      "text/plain": [
       "<module 'analysis_utils' from '/Users/friedman/Desktop/mnt/ifs/work/taylorlab/friedman/myUtils/analysis_utils.pyc'>"
      ]
     },
     "execution_count": 4,
     "metadata": {},
     "output_type": "execute_result"
    }
   ],
   "source": [
    "#reload as needed\n",
    "reload(clonality_analysis_util)\n",
    "reload(maf_analysis_utils)\n",
    "reload(analysis_utils)"
   ]
  },
  {
   "cell_type": "code",
   "execution_count": 5,
   "metadata": {},
   "outputs": [],
   "source": [
    "def summarize_ccf_info_in_cohort(cohortMaf, relatedGenes, cancerType):\n",
    "    listOfDicts = []\n",
    "    tumorSuppressors = set(['ERRFI1', 'ASXL2', 'PMAIP1', 'ACTG1', 'SUFU', 'FBXO11', 'MEN1', 'FAM58A', 'B2M', 'RB1', 'DUSP22', 'SESN1', 'GPS2', 'RAD51D', 'SMG1', 'CDC73', 'MAP3K1', 'SMARCB1', 'INPP4B', 'PARK2', 'SMAD4', 'CBFB', 'CDH1', 'PPP6C', 'SETDB1', 'SETDB2', 'NF2', 'CDKN2B', 'CDKN2C', 'CDKN2A', 'DDX3X', 'PIK3R1', 'BARD1', 'PDS5B', 'KLF4', 'SPRED1', 'VHL', 'SMAD2', 'PMS1', 'PMS2', 'SETD2', 'GATA3', 'TBL1XR1', 'MUTYH', 'SOCS1', 'FAM175A', 'ROBO1', 'ARID1B', 'ARID1A', 'TCF7L2', 'STK11', 'FOXA1', 'PTEN', 'FAT1', 'FAS', 'CYLD', 'MAX', 'SH2D1A', 'APC', 'NTHL1', 'CTCF', 'KDM5C', 'KMT2C', 'ZFHX3', 'FOXP1', 'PIGA', 'CDKN1B', 'CDKN1A', 'FUBP1', 'MSH2', 'ID3', 'TNFRSF14', 'TRAF3', 'EP400', 'BRIP1', 'ARID4A', 'ARID4B', 'XRCC2', 'DAXX', 'SDHAF2', 'ASXL1', 'AMER1', 'RASA1', 'EGR1', 'MST1', 'SOX17', 'RUNX1', 'PIK3R3', 'NCOR1', 'NF1', 'JAK1', 'PTPRD', 'CHEK2', 'CHEK1', 'SMC1A', 'TMEM127', 'STAG1', 'RAD51', 'TCF3', 'STAG2', 'ARID2', 'RAD50', 'RNF43', 'PARP1', 'BLM', 'CUX1', 'RECQL', 'RAD21', 'PTPN2', 'PTPN1', 'SLX4', 'INHA', 'PAX5', 'IRF1', 'TP53', 'HLA-A', 'IRF8', 'CBL', 'TOP1', 'SHQ1', 'PRDM1', 'NSD1', 'ATXN2', 'CREBBP', 'HDAC4', 'SESN2', 'PPP2R1A', 'EPHA7', 'ATM', 'EPHA3', 'POT1', 'SMAD3', 'MOB3B', 'TBX3', 'POLE', 'ATR', 'FANCD2', 'FH', 'BCORL1', 'SOX9', 'IKZF3', 'TSC1', 'TP63', 'MRE11A', 'SDHC', 'BTG1', 'POLD1', 'CIITA', 'SMC3', 'SAMHD1', 'RTEL1', 'ECT2L', 'PIK3R2', 'CRBN', 'FANCC', 'NBN', 'FANCA', 'HLA-B', 'RECQL4', 'DUSP4', 'ERCC2', 'FBXW7', 'TGFBR2', 'TGFBR1', 'MSH3', 'RBM15', 'TET1', 'TET3', 'SESN3', 'MGA', 'LTB', 'FOXL2', 'SH2B3', 'BCOR', 'HIST1H1D', 'ATRX', 'EP300', 'RAD51C', 'RAD51B', 'HIST1H1B', 'TNFAIP3', 'DICER1', 'ARID5B', 'LATS2', 'FOXO1', 'KEAP1', 'EZH2', 'SP140', 'NKX3-1', 'PBRM1', 'PALB2', 'CIC', 'BRCA1', 'DTX1', 'FLCN', 'SPEN', 'CD58', 'ERCC3', 'ERCC4', 'MSH6', 'BCL11B', 'BMPR1A', 'ERF', 'BRCA2', 'NOTCH2', 'EED', 'MITF', 'ELF3', 'SMARCA4', 'BBC3', 'ANKRD11', 'CEBPA', 'BCL2L11', 'AXIN2', 'AXIN1', 'CDK12', 'ESCO2', 'MLH1', 'SDHB', 'MED12', 'HNF1A', 'RYBP', 'ATP6V1B2', 'DNMT3B', 'KMT2B', 'KMT2A', 'DNMT3A', 'NFKBIA', 'TRAF5', 'KMT2D', 'SPOP', 'RBM10', 'P2RY8', 'TP53BP1', 'TSC2', 'KDM6A', 'EPCAM', 'PHOX2B', 'NPM1', 'BCL10', 'LATS1', 'HOXB13', 'ARID3A', 'PTPRT', 'PTPRS', 'INPPL1', 'NOTCH4', 'TET2', 'NOTCH1', 'CASP8', 'NOTCH3', 'GRIN2A', 'MAP2K4', 'WT1', 'BACH2', 'SDHA', 'BAP1', 'PTCH1', 'SDHD'])\n",
    "    relatedTumorSuppressors = relatedGenes & tumorSuppressors\n",
    "    relatedOncogenes = relatedGenes - tumorSuppressors\n",
    "    print relatedTumorSuppressors, relatedOncogenes\n",
    "    \n",
    "    oncogenicMaf = cohortMaf[cohortMaf['oncogenic'].notnull()]\n",
    "    \n",
    "    #append summaries for each of 5 categories\n",
    "    data = oncogenicMaf[oncogenicMaf['Hugo_Symbol'].isin(relatedOncogenes)]['ccf_Mcopies_upper']\n",
    "    \n",
    "    listOfDicts.append({'type':cancerType + '_Oncogene', \n",
    "                        'ccfInfo': np.nanmean(data),\n",
    "                        'upper': analysis_utils.mean_confidence_interval(data, confidence=0.95)[2],\n",
    "                        'lower': analysis_utils.mean_confidence_interval(data, confidence=0.95)[1],\n",
    "                        'cancerType':cancerType\n",
    "                       })\n",
    "    \n",
    "    data = oncogenicMaf[oncogenicMaf['Hugo_Symbol'].isin(relatedTumorSuppressors)]['ccf_Mcopies_upper']\n",
    "    listOfDicts.append({'type':cancerType + '_Tumor Suppresor', \n",
    "                        'ccfInfo': np.nanmean(data),\n",
    "                       'upper': analysis_utils.mean_confidence_interval(data, confidence=0.95)[2],\n",
    "                        'lower': analysis_utils.mean_confidence_interval(data, confidence=0.95)[1],\n",
    "                        'cancerType':cancerType\n",
    "                       })\n",
    "    \n",
    "    data = oncogenicMaf[~oncogenicMaf['Hugo_Symbol'].isin(relatedGenes)]['ccf_Mcopies_upper']\n",
    "    listOfDicts.append({'type':cancerType +'_Other Oncogenic', \n",
    "                        'ccfInfo': np.nanmean(data),\n",
    "                       'upper': analysis_utils.mean_confidence_interval(data, confidence=0.95)[2],\n",
    "                        'lower': analysis_utils.mean_confidence_interval(data, confidence=0.95)[1],\n",
    "                        'cancerType':cancerType\n",
    "                       })\n",
    "    \n",
    "    data = cohortMaf[cohortMaf['oncogenic'].isnull()]['ccf_Mcopies_upper']\n",
    "    listOfDicts.append({'type':cancerType +'_Non-Oncogenic', \n",
    "                        'ccfInfo': np.nanmean(data),\n",
    "                       'upper': analysis_utils.mean_confidence_interval(data, confidence=0.95)[2],\n",
    "                        'lower': analysis_utils.mean_confidence_interval(data, confidence=0.95)[1],\n",
    "                        'cancerType':cancerType\n",
    "                       })\n",
    "    \n",
    "    data = oncogenicMaf[oncogenicMaf['Hugo_Symbol'].isin(set(['PIK3CA']))]['ccf_Mcopies_upper']\n",
    "    listOfDicts.append({'type':cancerType +'_PIK3CA', \n",
    "                        'ccfInfo': np.nanmean(data),\n",
    "                       'upper': analysis_utils.mean_confidence_interval(data, confidence=0.95)[2],\n",
    "                        'lower': analysis_utils.mean_confidence_interval(data, confidence=0.95)[1],\n",
    "                        'cancerType':cancerType\n",
    "                       })\n",
    "    \n",
    "    data = oncogenicMaf[oncogenicMaf['Hugo_Symbol'].isin(set(['PTEN']))]['ccf_Mcopies_upper']\n",
    "    listOfDicts.append({'type':cancerType +'_PTEN', \n",
    "                        'ccfInfo': np.nanmean(data),\n",
    "                       'upper': analysis_utils.mean_confidence_interval(data, confidence=0.95)[2],\n",
    "                        'lower': analysis_utils.mean_confidence_interval(data, confidence=0.95)[1],\n",
    "                       'cancerType':cancerType\n",
    "                       })\n",
    "    \n",
    "    return pd.DataFrame(listOfDicts)\n",
    "    "
   ]
  },
  {
   "cell_type": "markdown",
   "metadata": {},
   "source": [
    "**WORKSPACE** <br/> <br/> <br/> <br/> <br/>\n",
    "\n"
   ]
  },
  {
   "cell_type": "code",
   "execution_count": null,
   "metadata": {
    "scrolled": true
   },
   "outputs": [],
   "source": [
    "filteredMafDf = pd.read_table(pathPrefix + '/ifs/work/taylorlab/friedman/myAdjustedDataFiles/tempScriptFiles/filteredMafAnnotated.maf')\n",
    "genesImplicatedInCancerTypes = maf_analysis_utils.create_dictionary_mapping_genes_to_cancer_types_with_implication(filteredMafDf, pathPrefix=pathPrefix, cancerTypes=['Endometrial Cancer', 'Colorectal Cancer', 'Glioma'], t=0.05)"
   ]
  },
  {
   "cell_type": "code",
   "execution_count": 6,
   "metadata": {},
   "outputs": [],
   "source": [
    "endometrialDf = pd.read_table(pathPrefix + '/ifs/work/taylorlab/friedman/myAdjustedDataFiles/subsettedMafs/Endometrial_HypermutantCaseMuts_MAF_ANNO.maf')"
   ]
  },
  {
   "cell_type": "code",
   "execution_count": null,
   "metadata": {},
   "outputs": [],
   "source": [
    "colorectalDf = pd.read_table(pathPrefix + '/ifs/work/taylorlab/friedman/myAdjustedDataFiles/subsettedMafs/Colorectal_HypermutantCaseMuts_MAF_ANNO.maf')"
   ]
  },
  {
   "cell_type": "code",
   "execution_count": null,
   "metadata": {},
   "outputs": [],
   "source": [
    "endometrialDf = pd.read_table(pathPrefix + '/ifs/work/taylorlab/friedman/myAdjustedDataFiles/subsettedMafs/Endometrial_HypermutantCaseMuts_MAF_ANNO.maf')"
   ]
  },
  {
   "cell_type": "code",
   "execution_count": null,
   "metadata": {},
   "outputs": [],
   "source": [
    "gliomaDf = pd.read_table(pathPrefix + '/ifs/work/taylorlab/friedman/myAdjustedDataFiles/subsettedMafs/Glioma_HypermutantCaseMuts_MAF_ANNO.maf')"
   ]
  },
  {
   "cell_type": "code",
   "execution_count": null,
   "metadata": {},
   "outputs": [],
   "source": [
    "endometrialDf = maf_analysis_utils.fix_mll_genes(endometrialDf)\n",
    "endometrialDf = maf_analysis_utils.mark_cases_with_flat_genomes(endometrialDf)\n",
    "\n",
    "colorectalDf = maf_analysis_utils.fix_mll_genes(colorectalDf)\n",
    "colorectalDf = maf_analysis_utils.mark_cases_with_flat_genomes(colorectalDf)"
   ]
  },
  {
   "cell_type": "markdown",
   "metadata": {},
   "source": [
    "**Do analyses**"
   ]
  },
  {
   "cell_type": "code",
   "execution_count": null,
   "metadata": {},
   "outputs": [],
   "source": [
    "endometrialDf['isBalanced'] = endometrialDf.apply(lambda row: clonality_analysis_util.mark_mutation_is_balanced(row), axis=1)"
   ]
  },
  {
   "cell_type": "code",
   "execution_count": null,
   "metadata": {
    "scrolled": false
   },
   "outputs": [],
   "source": [
    "clonality_analysis_util.mark_maf_with_ccf_for_flat_genomes(colorectalDf, 'B2M')"
   ]
  },
  {
   "cell_type": "code",
   "execution_count": null,
   "metadata": {},
   "outputs": [],
   "source": [
    "l = []\n",
    "for cancerTypeMaf, cancerType in [(endometrialDf, 'Endometrial Cancer'), (colorectalDf, 'Colorectal Cancer'), (gliomaDf, 'Glioma')]:\n",
    "    l.append(summarize_ccf_info_in_cohort(cancerTypeMaf, genesImplicatedInCancerTypes[cancerType], cancerType))\n",
    "df = pd.concat(l)\n",
    "    "
   ]
  },
  {
   "cell_type": "code",
   "execution_count": null,
   "metadata": {
    "scrolled": true
   },
   "outputs": [],
   "source": [
    "df.to_csv('/Users/friedman/Desktop/WORK/dataForLocalPlotting/hypermutationCohortMutationClonality.tsv', index=False, sep='\\t')"
   ]
  },
  {
   "cell_type": "markdown",
   "metadata": {},
   "source": [
    "**Anecdote Analysis**"
   ]
  },
  {
   "cell_type": "code",
   "execution_count": null,
   "metadata": {},
   "outputs": [],
   "source": [
    "endometrialDf['pid'] = endometrialDf['Tumor_Sample_Barcode'].apply(lambda x: x[:9])\n",
    "endometrialDfSelect = endometrialDf[endometrialDf['pid'] == 'P-0026297']"
   ]
  },
  {
   "cell_type": "code",
   "execution_count": null,
   "metadata": {},
   "outputs": [],
   "source": [
    "endometrialDfSelect['uuid'] = endometrialDfSelect.apply(lambda row: str(row['Hugo_Symbol']) + str(row['Start_Position']), axis=1)"
   ]
  },
  {
   "cell_type": "code",
   "execution_count": null,
   "metadata": {
    "scrolled": false
   },
   "outputs": [],
   "source": [
    "listOfDicts = []\n",
    "for mut in set(endometrialDfSelect['uuid']):\n",
    "    mutMaf = endometrialDfSelect[endometrialDfSelect['uuid'] == mut]\n",
    "    assignment = None\n",
    "    \n",
    "    if mutMaf.shape[0] == 2:\n",
    "        assignment = 'both'\n",
    "        \n",
    "        listOfDicts.append({'uuid': mut, 'ccf': mutMaf[mutMaf['Tumor_Sample_Barcode'] == 'P-0026297-T02-IM6'].iloc[0]['t_var_freq'],\n",
    "                       'label' : assignment})\n",
    "    elif 'P-0026297-T02-IM6' in set(mutMaf['Tumor_Sample_Barcode']):\n",
    "        assignment = 'primaryOnly'\n",
    "        listOfDicts.append({'uuid': mut, 'ccf': mutMaf[mutMaf['Tumor_Sample_Barcode'] == 'P-0026297-T02-IM6'].iloc[0]['t_var_freq'],\n",
    "                       'label' : assignment})\n",
    "    \n",
    "    else:\n",
    "        pass\n",
    "        #assignment = 'metOnly'\n",
    "    #listOfDicts.append({'uuid': mut, 'ccf': mutMaf[mutMaf['Tumor_Sample_Barcode'] == 'P-0026297-T02-IM6'].iloc[0]['ccf_Mcopies'],\n",
    "    #                   'label' : assignment})\n",
    "    "
   ]
  },
  {
   "cell_type": "code",
   "execution_count": null,
   "metadata": {},
   "outputs": [],
   "source": [
    "df = pd.DataFrame(listOfDicts)"
   ]
  },
  {
   "cell_type": "code",
   "execution_count": null,
   "metadata": {},
   "outputs": [],
   "source": [
    "df.to_csv('~/Desktop/WORK/dataForLocalPlotting/anecdoteMuts.tsv', index=False, sep='\\t')"
   ]
  },
  {
   "cell_type": "code",
   "execution_count": 8,
   "metadata": {},
   "outputs": [],
   "source": [
    "tmbInfo = pd.read_table(pathPrefix + '/ifs/work/taylorlab/friedman/hypermutationAnalysisProj/projectDataAndConfigFiles/tmbInfo.tsv')\n",
    "tmbDict = dict(zip(tmbInfo['Tumor_Sample_Barcode'], tmbInfo['Nmut_Mb']))"
   ]
  },
  {
   "cell_type": "code",
   "execution_count": 7,
   "metadata": {},
   "outputs": [
    {
     "name": "stdout",
     "output_type": "stream",
     "text": [
      "P-0031436-T01-IM6\n",
      "P-0037690-T01-IM6\n",
      "P-0025195-T01-IM6\n",
      "P-0021117-T01-IM6\n",
      "P-0007675-T01-IM5\n",
      "P-0005285-T01-IM5\n",
      "P-0016626-T01-IM6\n",
      "P-0019658-T01-IM6\n",
      "P-0013599-T01-IM5\n",
      "P-0013112-T02-IM6\n",
      "P-0038016-T01-IM6\n",
      "P-0026221-T01-IM6\n",
      "P-0016801-T01-IM6\n",
      "P-0025240-T01-IM6\n",
      "P-0019871-T01-IM6\n",
      "P-0017300-T01-IM6\n",
      "P-0003767-T01-IM5\n",
      "P-0000448-T01-IM3\n",
      "P-0010671-T01-IM5\n",
      "P-0038084-T01-IM6\n",
      "P-0028144-T01-IM6\n",
      "P-0020064-T01-IM6\n",
      "P-0028034-T01-IM6\n",
      "P-0018005-T01-IM6\n",
      "P-0021117-T02-IM6\n",
      "P-0031271-T01-IM6\n",
      "P-0020069-T01-IM6\n",
      "P-0016053-T01-IM6\n",
      "P-0025669-T01-IM6\n",
      "P-0032761-T01-IM6\n",
      "P-0029690-T01-IM6\n",
      "P-0022846-T01-IM6\n",
      "P-0034915-T01-IM6\n",
      "P-0031059-T01-IM6\n",
      "P-0029778-T01-IM6\n",
      "P-0032113-T01-IM6\n",
      "P-0036664-T01-IM6\n",
      "P-0012988-T01-IM5\n",
      "P-0015885-T01-IM6\n",
      "P-0019598-T01-IM6\n",
      "P-0032497-T01-IM6\n",
      "P-0012397-T01-IM5\n",
      "P-0028924-T01-IM6\n",
      "P-0026278-T01-IM6\n",
      "P-0013452-T01-IM5\n",
      "P-0019071-T01-IM6\n",
      "P-0026456-T01-IM6\n",
      "P-0017883-T01-IM6\n",
      "P-0026221-T02-IM6\n",
      "P-0014023-T01-IM5\n",
      "P-0018106-T01-IM6\n",
      "P-0012358-T01-IM5\n",
      "P-0018106-T02-IM6\n",
      "P-0039231-T01-IM6\n",
      "P-0021572-T01-IM6\n",
      "P-0029683-T01-IM6\n",
      "P-0017713-T01-IM6\n",
      "P-0018334-T01-IM6\n",
      "P-0032161-T02-IM6\n",
      "P-0019264-T01-IM6\n",
      "P-0010828-T01-IM5\n",
      "P-0039054-T01-IM6\n",
      "P-0006201-T01-IM5\n",
      "P-0026297-T01-IM6\n",
      "P-0018542-T01-IM6\n",
      "P-0011013-T01-IM5\n",
      "P-0031211-T01-IM6\n",
      "P-0004379-T02-IM6\n",
      "P-0002280-T01-IM3\n",
      "P-0004255-T01-IM5\n",
      "P-0019649-T01-IM6\n",
      "P-0028774-T01-IM6\n",
      "P-0019360-T01-IM6\n",
      "P-0031089-T01-IM6\n",
      "P-0018616-T01-IM6\n",
      "P-0018224-T01-IM6\n",
      "P-0026297-T02-IM6\n",
      "P-0028200-T01-IM6\n",
      "P-0035281-T01-IM6\n",
      "P-0011222-T01-IM5\n",
      "P-0020850-T01-IM6\n",
      "P-0020227-T01-IM6\n",
      "P-0012113-T01-IM5\n",
      "P-0021283-T01-IM6\n",
      "P-0012441-T01-IM5\n",
      "P-0014528-T01-IM6\n",
      "P-0020295-T01-IM6\n",
      "P-0010967-T01-IM5\n",
      "P-0008646-T01-IM5\n",
      "P-0012179-T01-IM5\n",
      "P-0014145-T01-IM5\n",
      "P-0039184-T01-IM6\n",
      "P-0006269-T01-IM5\n",
      "P-0011262-T01-IM5\n",
      "P-0029337-T01-IM6\n",
      "P-0018353-T01-IM6\n",
      "P-0020757-T01-IM6\n",
      "P-0013537-T01-IM5\n",
      "P-0030260-T01-IM6\n",
      "P-0025735-T01-IM6\n",
      "P-0016099-T01-IM6\n",
      "P-0011570-T01-IM5\n",
      "P-0028776-T01-IM6\n",
      "P-0036230-T01-IM6\n",
      "P-0032567-T01-IM6\n",
      "P-0018781-T01-IM6\n",
      "P-0032602-T01-IM6\n",
      "P-0026714-T01-IM6\n",
      "P-0032443-T01-IM6\n",
      "P-0029121-T01-IM6\n",
      "P-0023555-T01-IM6\n",
      "P-0013754-T01-IM5\n",
      "P-0031042-T01-IM6\n",
      "P-0016892-T01-IM6\n",
      "P-0021157-T01-IM6\n",
      "P-0030372-T01-IM6\n",
      "P-0038755-T01-IM6\n",
      "P-0016341-T01-IM6\n",
      "P-0031195-T01-IM6\n",
      "P-0016825-T01-IM6\n",
      "P-0022010-T01-IM6\n",
      "P-0035319-T01-IM6\n",
      "P-0032496-T01-IM6\n",
      "P-0035146-T01-IM6\n",
      "P-0001248-T01-IM3\n",
      "P-0029429-T01-IM6\n",
      "P-0003014-T01-IM3\n",
      "P-0003045-T01-IM5\n",
      "P-0013350-T01-IM5\n",
      "P-0021077-T01-IM6\n",
      "P-0025242-T01-IM6\n",
      "P-0006849-T01-IM5\n",
      "P-0025248-T01-IM6\n",
      "P-0023968-T01-IM6\n",
      "P-0018100-T01-IM6\n",
      "P-0023857-T01-IM6\n",
      "P-0004379-T01-IM5\n",
      "P-0019386-T01-IM6\n",
      "P-0021505-T01-IM6\n",
      "P-0027652-T01-IM6\n",
      "P-0023286-T01-IM6\n",
      "P-0038520-T01-IM6\n",
      "P-0021670-T01-IM6\n",
      "P-0029972-T01-IM6\n",
      "P-0032548-T01-IM6\n",
      "P-0019416-T01-IM6\n",
      "P-0027698-T01-IM6\n",
      "P-0012726-T01-IM5\n",
      "P-0035147-T01-IM6\n",
      "P-0004136-T01-IM5\n",
      "P-0028172-T02-IM6\n",
      "P-0038944-T01-IM6\n",
      "P-0038542-T01-IM6\n",
      "P-0021856-T01-IM6\n",
      "P-0014495-T01-IM6\n",
      "P-0018350-T01-IM6\n",
      "P-0019741-T01-IM6\n",
      "P-0012740-T01-IM5\n",
      "P-0034448-T01-IM6\n",
      "P-0036123-T01-IM6\n",
      "P-0028495-T01-IM6\n",
      "P-0012881-T01-IM5\n",
      "P-0024756-T01-IM6\n",
      "P-0014780-T01-IM6\n",
      "P-0023005-T01-IM6\n",
      "P-0028472-T01-IM6\n",
      "P-0018204-T01-IM6\n",
      "P-0025003-T01-IM6\n",
      "P-0039466-T01-IM6\n",
      "P-0016505-T01-IM6\n",
      "P-0024289-T01-IM6\n",
      "P-0019093-T01-IM6\n",
      "P-0008444-T01-IM5\n",
      "P-0012670-T01-IM5\n",
      "P-0020633-T02-IM6\n",
      "P-0019437-T01-IM6\n",
      "P-0012445-T01-IM5\n",
      "P-0037721-T01-IM6\n",
      "P-0031332-T01-IM6\n",
      "P-0017862-T01-IM6\n",
      "P-0025701-T01-IM6\n",
      "P-0015048-T01-IM6\n",
      "P-0020009-T01-IM6\n",
      "P-0032589-T01-IM6\n",
      "P-0039004-T01-IM6\n",
      "P-0021220-T01-IM6\n",
      "P-0031501-T01-IM6\n",
      "P-0029303-T01-IM6\n",
      "P-0016247-T01-IM6\n",
      "P-0025312-T01-IM6\n",
      "P-0021692-T01-IM6\n",
      "P-0025885-T01-IM6\n",
      "P-0012819-T01-IM5\n",
      "P-0012848-T01-IM5\n",
      "P-0025662-T01-IM6\n",
      "P-0009985-T01-IM5\n",
      "P-0035770-T01-IM6\n",
      "P-0009585-T01-IM5\n",
      "P-0034862-T01-IM6\n",
      "P-0029983-T01-IM6\n",
      "P-0032120-T01-IM6\n",
      "P-0015869-T01-IM6\n",
      "P-0036297-T01-IM6\n",
      "P-0011569-T01-IM5\n",
      "P-0012152-T01-IM5\n",
      "P-0005564-T01-IM5\n",
      "P-0001115-T01-IM3\n",
      "P-0035790-T01-IM6\n",
      "P-0028141-T01-IM6\n",
      "P-0031094-T01-IM6\n",
      "P-0039477-T01-IM6\n",
      "P-0038304-T01-IM6\n",
      "P-0025648-T01-IM6\n",
      "P-0016023-T01-IM6\n",
      "P-0011385-T01-IM5\n",
      "P-0016904-T01-IM6\n",
      "P-0032181-T01-IM6\n",
      "P-0015626-T01-IM6\n",
      "P-0015293-T01-IM6\n",
      "P-0030322-T01-IM6\n",
      "P-0030051-T01-IM6\n",
      "P-0019650-T01-IM6\n",
      "P-0020633-T01-IM6\n",
      "P-0031332-T02-IM6\n",
      "P-0020271-T01-IM6\n"
     ]
    }
   ],
   "source": [
    "for case in set(endometrialDf['Tumor_Sample_Barcode']):\n",
    "    print case\n",
    "#print np.nanmean(endometrialDf[endometrialDf['HGVSp_Short'] == 'p.P286R']['ccf_Mcopies_lower'])\n",
    "\n",
    "#print np.nanmean(endometrialDf[endometrialDf['HGVSp_Short'] == 'p.V411L']['ccf_Mcopies_lower'])\n",
    "\n",
    "#print np.nanmean(endometrialDf[endometrialDf['HGVSp_Short'] == 'p.V842I']['ccf_Mcopies_lower'])\n",
    "#print np.nanmean(endometrialDf[endometrialDf['HGVSp_Short'] == 'p.V411L']['ccf_Mcopies_lower'])"
   ]
  }
 ],
 "metadata": {
  "kernelspec": {
   "display_name": "Python 2",
   "language": "python",
   "name": "python2"
  },
  "language_info": {
   "codemirror_mode": {
    "name": "ipython",
    "version": 2
   },
   "file_extension": ".py",
   "mimetype": "text/x-python",
   "name": "python",
   "nbconvert_exporter": "python",
   "pygments_lexer": "ipython2",
   "version": "2.7.15"
  }
 },
 "nbformat": 4,
 "nbformat_minor": 2
}
