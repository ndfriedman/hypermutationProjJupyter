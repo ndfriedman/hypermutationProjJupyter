{
 "cells": [
  {
   "cell_type": "code",
   "execution_count": 1,
   "metadata": {},
   "outputs": [],
   "source": [
    "#written by Noah Friedman (a template for scripts to be excuted in the spyder environment\n",
    "import sys\n",
    "import argparse\n",
    "import os\n",
    "import pandas as pd\n",
    "import numpy as np\n",
    "\n",
    "from collections import Counter"
   ]
  },
  {
   "cell_type": "code",
   "execution_count": 2,
   "metadata": {},
   "outputs": [],
   "source": [
    "pathPrefix = '/Users/friedman/Desktop/mnt'\n",
    "\n",
    "sys.path.append(pathPrefix + '/ifs/work/taylorlab/friedman/myUtils')\n",
    "import analysis_utils \n",
    "import mutationSigUtils \n",
    "import maf_analysis_utils\n",
    "import clonality_analysis_util"
   ]
  },
  {
   "cell_type": "code",
   "execution_count": 70,
   "metadata": {},
   "outputs": [
    {
     "data": {
      "text/plain": [
       "<module 'analysis_utils' from '/Users/friedman/Desktop/mnt/ifs/work/taylorlab/friedman/myUtils/analysis_utils.pyc'>"
      ]
     },
     "execution_count": 70,
     "metadata": {},
     "output_type": "execute_result"
    }
   ],
   "source": [
    "#reload as needed\n",
    "reload(clonality_analysis_util)\n",
    "reload(maf_analysis_utils)\n",
    "reload(analysis_utils)"
   ]
  },
  {
   "cell_type": "code",
   "execution_count": 77,
   "metadata": {},
   "outputs": [],
   "source": [
    "def summarize_ccf_info_in_cohort(cohortMaf, relatedGenes, cancerType):\n",
    "    listOfDicts = []\n",
    "    tumorSuppressors = set(['ERRFI1', 'ASXL2', 'PMAIP1', 'ACTG1', 'SUFU', 'FBXO11', 'MEN1', 'FAM58A', 'B2M', 'RB1', 'DUSP22', 'SESN1', 'GPS2', 'RAD51D', 'SMG1', 'CDC73', 'MAP3K1', 'SMARCB1', 'INPP4B', 'PARK2', 'SMAD4', 'CBFB', 'CDH1', 'PPP6C', 'SETDB1', 'SETDB2', 'NF2', 'CDKN2B', 'CDKN2C', 'CDKN2A', 'DDX3X', 'PIK3R1', 'BARD1', 'PDS5B', 'KLF4', 'SPRED1', 'VHL', 'SMAD2', 'PMS1', 'PMS2', 'SETD2', 'GATA3', 'TBL1XR1', 'MUTYH', 'SOCS1', 'FAM175A', 'ROBO1', 'ARID1B', 'ARID1A', 'TCF7L2', 'STK11', 'FOXA1', 'PTEN', 'FAT1', 'FAS', 'CYLD', 'MAX', 'SH2D1A', 'APC', 'NTHL1', 'CTCF', 'KDM5C', 'KMT2C', 'ZFHX3', 'FOXP1', 'PIGA', 'CDKN1B', 'CDKN1A', 'FUBP1', 'MSH2', 'ID3', 'TNFRSF14', 'TRAF3', 'EP400', 'BRIP1', 'ARID4A', 'ARID4B', 'XRCC2', 'DAXX', 'SDHAF2', 'ASXL1', 'AMER1', 'RASA1', 'EGR1', 'MST1', 'SOX17', 'RUNX1', 'PIK3R3', 'NCOR1', 'NF1', 'JAK1', 'PTPRD', 'CHEK2', 'CHEK1', 'SMC1A', 'TMEM127', 'STAG1', 'RAD51', 'TCF3', 'STAG2', 'ARID2', 'RAD50', 'RNF43', 'PARP1', 'BLM', 'CUX1', 'RECQL', 'RAD21', 'PTPN2', 'PTPN1', 'SLX4', 'INHA', 'PAX5', 'IRF1', 'TP53', 'HLA-A', 'IRF8', 'CBL', 'TOP1', 'SHQ1', 'PRDM1', 'NSD1', 'ATXN2', 'CREBBP', 'HDAC4', 'SESN2', 'PPP2R1A', 'EPHA7', 'ATM', 'EPHA3', 'POT1', 'SMAD3', 'MOB3B', 'TBX3', 'POLE', 'ATR', 'FANCD2', 'FH', 'BCORL1', 'SOX9', 'IKZF3', 'TSC1', 'TP63', 'MRE11A', 'SDHC', 'BTG1', 'POLD1', 'CIITA', 'SMC3', 'SAMHD1', 'RTEL1', 'ECT2L', 'PIK3R2', 'CRBN', 'FANCC', 'NBN', 'FANCA', 'HLA-B', 'RECQL4', 'DUSP4', 'ERCC2', 'FBXW7', 'TGFBR2', 'TGFBR1', 'MSH3', 'RBM15', 'TET1', 'TET3', 'SESN3', 'MGA', 'LTB', 'FOXL2', 'SH2B3', 'BCOR', 'HIST1H1D', 'ATRX', 'EP300', 'RAD51C', 'RAD51B', 'HIST1H1B', 'TNFAIP3', 'DICER1', 'ARID5B', 'LATS2', 'FOXO1', 'KEAP1', 'EZH2', 'SP140', 'NKX3-1', 'PBRM1', 'PALB2', 'CIC', 'BRCA1', 'DTX1', 'FLCN', 'SPEN', 'CD58', 'ERCC3', 'ERCC4', 'MSH6', 'BCL11B', 'BMPR1A', 'ERF', 'BRCA2', 'NOTCH2', 'EED', 'MITF', 'ELF3', 'SMARCA4', 'BBC3', 'ANKRD11', 'CEBPA', 'BCL2L11', 'AXIN2', 'AXIN1', 'CDK12', 'ESCO2', 'MLH1', 'SDHB', 'MED12', 'HNF1A', 'RYBP', 'ATP6V1B2', 'DNMT3B', 'KMT2B', 'KMT2A', 'DNMT3A', 'NFKBIA', 'TRAF5', 'KMT2D', 'SPOP', 'RBM10', 'P2RY8', 'TP53BP1', 'TSC2', 'KDM6A', 'EPCAM', 'PHOX2B', 'NPM1', 'BCL10', 'LATS1', 'HOXB13', 'ARID3A', 'PTPRT', 'PTPRS', 'INPPL1', 'NOTCH4', 'TET2', 'NOTCH1', 'CASP8', 'NOTCH3', 'GRIN2A', 'MAP2K4', 'WT1', 'BACH2', 'SDHA', 'BAP1', 'PTCH1', 'SDHD'])\n",
    "    relatedTumorSuppressors = relatedGenes & tumorSuppressors\n",
    "    relatedOncogenes = relatedGenes - tumorSuppressors\n",
    "    print relatedTumorSuppressors, relatedOncogenes\n",
    "    \n",
    "    oncogenicMaf = cohortMaf[cohortMaf['oncogenic'].notnull()]\n",
    "    \n",
    "    #append summaries for each of 5 categories\n",
    "    data = oncogenicMaf[oncogenicMaf['Hugo_Symbol'].isin(relatedOncogenes)]['ccf_Mcopies_upper']\n",
    "    \n",
    "    listOfDicts.append({'type':cancerType + '_Oncogene', \n",
    "                        'ccfInfo': np.nanmean(data),\n",
    "                        'upper': analysis_utils.mean_confidence_interval(data, confidence=0.95)[2],\n",
    "                        'lower': analysis_utils.mean_confidence_interval(data, confidence=0.95)[1],\n",
    "                        'cancerType':cancerType\n",
    "                       })\n",
    "    \n",
    "    data = oncogenicMaf[oncogenicMaf['Hugo_Symbol'].isin(relatedTumorSuppressors)]['ccf_Mcopies_upper']\n",
    "    listOfDicts.append({'type':cancerType + '_Tumor Suppresor', \n",
    "                        'ccfInfo': np.nanmean(data),\n",
    "                       'upper': analysis_utils.mean_confidence_interval(data, confidence=0.95)[2],\n",
    "                        'lower': analysis_utils.mean_confidence_interval(data, confidence=0.95)[1],\n",
    "                        'cancerType':cancerType\n",
    "                       })\n",
    "    \n",
    "    data = oncogenicMaf[~oncogenicMaf['Hugo_Symbol'].isin(relatedGenes)]['ccf_Mcopies_upper']\n",
    "    listOfDicts.append({'type':cancerType +'_Other Oncogenic', \n",
    "                        'ccfInfo': np.nanmean(data),\n",
    "                       'upper': analysis_utils.mean_confidence_interval(data, confidence=0.95)[2],\n",
    "                        'lower': analysis_utils.mean_confidence_interval(data, confidence=0.95)[1],\n",
    "                        'cancerType':cancerType\n",
    "                       })\n",
    "    \n",
    "    data = cohortMaf[cohortMaf['oncogenic'].isnull()]['ccf_Mcopies_upper']\n",
    "    listOfDicts.append({'type':cancerType +'_Non-Oncogenic', \n",
    "                        'ccfInfo': np.nanmean(data),\n",
    "                       'upper': analysis_utils.mean_confidence_interval(data, confidence=0.95)[2],\n",
    "                        'lower': analysis_utils.mean_confidence_interval(data, confidence=0.95)[1],\n",
    "                        'cancerType':cancerType\n",
    "                       })\n",
    "    \n",
    "    data = oncogenicMaf[oncogenicMaf['Hugo_Symbol'].isin(set(['PIK3CA']))]['ccf_Mcopies_upper']\n",
    "    listOfDicts.append({'type':cancerType +'_PIK3CA', \n",
    "                        'ccfInfo': np.nanmean(data),\n",
    "                       'upper': analysis_utils.mean_confidence_interval(data, confidence=0.95)[2],\n",
    "                        'lower': analysis_utils.mean_confidence_interval(data, confidence=0.95)[1],\n",
    "                        'cancerType':cancerType\n",
    "                       })\n",
    "    \n",
    "    data = oncogenicMaf[oncogenicMaf['Hugo_Symbol'].isin(set(['PTEN']))]['ccf_Mcopies_upper']\n",
    "    listOfDicts.append({'type':cancerType +'_PTEN', \n",
    "                        'ccfInfo': np.nanmean(data),\n",
    "                       'upper': analysis_utils.mean_confidence_interval(data, confidence=0.95)[2],\n",
    "                        'lower': analysis_utils.mean_confidence_interval(data, confidence=0.95)[1],\n",
    "                       'cancerType':cancerType\n",
    "                       })\n",
    "    \n",
    "    return pd.DataFrame(listOfDicts)\n",
    "    "
   ]
  },
  {
   "cell_type": "markdown",
   "metadata": {},
   "source": [
    "**WORKSPACE** <br/> <br/> <br/> <br/> <br/>\n",
    "\n"
   ]
  },
  {
   "cell_type": "code",
   "execution_count": 5,
   "metadata": {
    "scrolled": true
   },
   "outputs": [
    {
     "name": "stderr",
     "output_type": "stream",
     "text": [
      "/anaconda2/lib/python2.7/site-packages/IPython/core/interactiveshell.py:2714: DtypeWarning: Columns (36,39,85) have mixed types. Specify dtype option on import or set low_memory=False.\n",
      "  interactivity=interactivity, compiler=compiler, result=result)\n"
     ]
    },
    {
     "name": "stdout",
     "output_type": "stream",
     "text": [
      "Endometrial Cancer\n"
     ]
    },
    {
     "name": "stderr",
     "output_type": "stream",
     "text": [
      "/Users/friedman/Desktop/mnt/ifs/work/taylorlab/friedman/myUtils/maf_analysis_utils.py:344: SettingWithCopyWarning: \n",
      "A value is trying to be set on a copy of a slice from a DataFrame.\n",
      "Try using .loc[row_indexer,col_indexer] = value instead\n",
      "\n",
      "See the caveats in the documentation: http://pandas.pydata.org/pandas-docs/stable/indexing.html#indexing-view-versus-copy\n",
      "  cohortMaf['pid'] = cohortMaf['Tumor_Sample_Barcode'].apply(lambda x: x[:9])\n",
      "/Users/friedman/Desktop/mnt/ifs/work/taylorlab/friedman/myUtils/maf_analysis_utils.py:348: SettingWithCopyWarning: \n",
      "A value is trying to be set on a copy of a slice from a DataFrame.\n",
      "Try using .loc[row_indexer,col_indexer] = value instead\n",
      "\n",
      "See the caveats in the documentation: http://pandas.pydata.org/pandas-docs/stable/indexing.html#indexing-view-versus-copy\n",
      "  oncogenicMutations['patientGeneMutated'] = oncogenicMutations.apply(lambda row: row['pid'] + '_' + row['Hugo_Symbol'], axis=1)\n"
     ]
    },
    {
     "name": "stdout",
     "output_type": "stream",
     "text": [
      "Colorectal Cancer\n",
      "Glioma\n"
     ]
    }
   ],
   "source": [
    "filteredMafDf = pd.read_table(pathPrefix + '/ifs/work/taylorlab/friedman/myAdjustedDataFiles/tempScriptFiles/filteredMafAnnotated.maf')\n",
    "genesImplicatedInCancerTypes = maf_analysis_utils.create_dictionary_mapping_genes_to_cancer_types_with_implication(filteredMafDf, pathPrefix=pathPrefix, cancerTypes=['Endometrial Cancer', 'Colorectal Cancer', 'Glioma'], t=0.05)"
   ]
  },
  {
   "cell_type": "code",
   "execution_count": 6,
   "metadata": {},
   "outputs": [],
   "source": [
    "endometrialDf = pd.read_table(pathPrefix + '/ifs/work/taylorlab/friedman/myAdjustedDataFiles/subsettedMafs/Endometrial_HypermutantCaseMuts_MAF_ANNO.maf')"
   ]
  },
  {
   "cell_type": "code",
   "execution_count": 7,
   "metadata": {},
   "outputs": [],
   "source": [
    "colorectalDf = pd.read_table(pathPrefix + '/ifs/work/taylorlab/friedman/myAdjustedDataFiles/subsettedMafs/Colorectal_HypermutantCaseMuts_MAF_ANNO.maf')"
   ]
  },
  {
   "cell_type": "code",
   "execution_count": 8,
   "metadata": {},
   "outputs": [],
   "source": [
    "endometrialDf = pd.read_table(pathPrefix + '/ifs/work/taylorlab/friedman/myAdjustedDataFiles/subsettedMafs/Endometrial_HypermutantCaseMuts_MAF_ANNO.maf')"
   ]
  },
  {
   "cell_type": "code",
   "execution_count": 9,
   "metadata": {},
   "outputs": [
    {
     "name": "stderr",
     "output_type": "stream",
     "text": [
      "/anaconda2/lib/python2.7/site-packages/IPython/core/interactiveshell.py:2714: DtypeWarning: Columns (17,18,19,45,46,48,50,51,52,53,54,55,56,57,60,61,62,63,64,65,74,75,76,77,78,80,81,85,86,89,90,91,92,93,98,101,102,103,104,105,106,107,108,110,111,112,113,114,115,116,117,121) have mixed types. Specify dtype option on import or set low_memory=False.\n",
      "  interactivity=interactivity, compiler=compiler, result=result)\n"
     ]
    }
   ],
   "source": [
    "gliomaDf = pd.read_table(pathPrefix + '/ifs/work/taylorlab/friedman/myAdjustedDataFiles/subsettedMafs/Glioma_HypermutantCaseMuts_MAF_ANNO.maf')"
   ]
  },
  {
   "cell_type": "code",
   "execution_count": 10,
   "metadata": {},
   "outputs": [],
   "source": [
    "endometrialDf = maf_analysis_utils.fix_mll_genes(endometrialDf)\n",
    "endometrialDf = maf_analysis_utils.mark_cases_with_flat_genomes(endometrialDf)\n",
    "\n",
    "colorectalDf = maf_analysis_utils.fix_mll_genes(colorectalDf)\n",
    "colorectalDf = maf_analysis_utils.mark_cases_with_flat_genomes(colorectalDf)"
   ]
  },
  {
   "cell_type": "markdown",
   "metadata": {},
   "source": [
    "**Do analyses**"
   ]
  },
  {
   "cell_type": "code",
   "execution_count": 11,
   "metadata": {},
   "outputs": [],
   "source": [
    "endometrialDf['isBalanced'] = endometrialDf.apply(lambda row: clonality_analysis_util.mark_mutation_is_balanced(row), axis=1)"
   ]
  },
  {
   "cell_type": "code",
   "execution_count": null,
   "metadata": {
    "scrolled": false
   },
   "outputs": [],
   "source": [
    "clonality_analysis_util.mark_maf_with_ccf_for_flat_genomes(colorectalDf, 'B2M')"
   ]
  },
  {
   "cell_type": "code",
   "execution_count": 78,
   "metadata": {},
   "outputs": [
    {
     "name": "stdout",
     "output_type": "stream",
     "text": [
      "set(['PPP2R1A', 'TP53', 'BCOR', 'ARID1A', 'PTEN', 'PIK3R1', 'CTCF', 'FBXW7']) set(['CTNNB1', 'PIK3CA', 'FGFR2', 'KRAS'])\n",
      "set(['TP53', 'SMAD4', 'TCF7L2', 'SOX9', 'APC', 'FBXW7']) set(['PIK3CA', 'BRAF', 'KRAS'])\n",
      "set(['CIC', 'TP53', 'PIK3R1', 'RB1', 'PTEN', 'NF1', 'ATRX']) set(['PIK3CA', 'IDH1', 'TERT', 'EGFR'])\n"
     ]
    }
   ],
   "source": [
    "l = []\n",
    "for cancerTypeMaf, cancerType in [(endometrialDf, 'Endometrial Cancer'), (colorectalDf, 'Colorectal Cancer'), (gliomaDf, 'Glioma')]:\n",
    "    l.append(summarize_ccf_info_in_cohort(cancerTypeMaf, genesImplicatedInCancerTypes[cancerType], cancerType))\n",
    "df = pd.concat(l)\n",
    "    "
   ]
  },
  {
   "cell_type": "code",
   "execution_count": 79,
   "metadata": {
    "scrolled": true
   },
   "outputs": [],
   "source": [
    "df.to_csv('/Users/friedman/Desktop/WORK/dataForLocalPlotting/hypermutationCohortMutationClonality.tsv', index=False, sep='\\t')"
   ]
  },
  {
   "cell_type": "markdown",
   "metadata": {},
   "source": [
    "**Anecdote Analysis**"
   ]
  },
  {
   "cell_type": "code",
   "execution_count": 81,
   "metadata": {},
   "outputs": [],
   "source": [
    "endometrialDf['pid'] = endometrialDf['Tumor_Sample_Barcode'].apply(lambda x: x[:9])\n",
    "endometrialDfSelect = endometrialDf[endometrialDf['pid'] == 'P-0026297']"
   ]
  },
  {
   "cell_type": "code",
   "execution_count": 88,
   "metadata": {},
   "outputs": [
    {
     "name": "stderr",
     "output_type": "stream",
     "text": [
      "/anaconda2/lib/python2.7/site-packages/ipykernel_launcher.py:1: SettingWithCopyWarning: \n",
      "A value is trying to be set on a copy of a slice from a DataFrame.\n",
      "Try using .loc[row_indexer,col_indexer] = value instead\n",
      "\n",
      "See the caveats in the documentation: http://pandas.pydata.org/pandas-docs/stable/indexing.html#indexing-view-versus-copy\n",
      "  \"\"\"Entry point for launching an IPython kernel.\n"
     ]
    }
   ],
   "source": [
    "endometrialDfSelect['uuid'] = endometrialDfSelect.apply(lambda row: str(row['Hugo_Symbol']) + str(row['Start_Position']), axis=1)"
   ]
  },
  {
   "cell_type": "code",
   "execution_count": 100,
   "metadata": {
    "scrolled": false
   },
   "outputs": [],
   "source": [
    "listOfDicts = []\n",
    "for mut in set(endometrialDfSelect['uuid']):\n",
    "    mutMaf = endometrialDfSelect[endometrialDfSelect['uuid'] == mut]\n",
    "    assignment = None\n",
    "    \n",
    "    if mutMaf.shape[0] == 2:\n",
    "        assignment = 'both'\n",
    "        \n",
    "        listOfDicts.append({'uuid': mut, 'ccf': mutMaf[mutMaf['Tumor_Sample_Barcode'] == 'P-0026297-T02-IM6'].iloc[0]['t_var_freq'],\n",
    "                       'label' : assignment})\n",
    "    elif 'P-0026297-T02-IM6' in set(mutMaf['Tumor_Sample_Barcode']):\n",
    "        assignment = 'primaryOnly'\n",
    "        listOfDicts.append({'uuid': mut, 'ccf': mutMaf[mutMaf['Tumor_Sample_Barcode'] == 'P-0026297-T02-IM6'].iloc[0]['t_var_freq'],\n",
    "                       'label' : assignment})\n",
    "    \n",
    "    else:\n",
    "        pass\n",
    "        #assignment = 'metOnly'\n",
    "    #listOfDicts.append({'uuid': mut, 'ccf': mutMaf[mutMaf['Tumor_Sample_Barcode'] == 'P-0026297-T02-IM6'].iloc[0]['ccf_Mcopies'],\n",
    "    #                   'label' : assignment})\n",
    "    "
   ]
  },
  {
   "cell_type": "code",
   "execution_count": 101,
   "metadata": {},
   "outputs": [],
   "source": [
    "df = pd.DataFrame(listOfDicts)"
   ]
  },
  {
   "cell_type": "code",
   "execution_count": 102,
   "metadata": {},
   "outputs": [],
   "source": [
    "df.to_csv('~/Desktop/WORK/dataForLocalPlotting/anecdoteMuts.tsv', index=False, sep='\\t')"
   ]
  },
  {
   "cell_type": "code",
   "execution_count": null,
   "metadata": {},
   "outputs": [],
   "source": []
  }
 ],
 "metadata": {
  "kernelspec": {
   "display_name": "Python 2",
   "language": "python",
   "name": "python2"
  },
  "language_info": {
   "codemirror_mode": {
    "name": "ipython",
    "version": 2
   },
   "file_extension": ".py",
   "mimetype": "text/x-python",
   "name": "python",
   "nbconvert_exporter": "python",
   "pygments_lexer": "ipython2",
   "version": "2.7.15"
  }
 },
 "nbformat": 4,
 "nbformat_minor": 2
}
