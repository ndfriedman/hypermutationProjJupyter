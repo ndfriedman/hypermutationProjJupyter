{
 "cells": [
  {
   "cell_type": "code",
   "execution_count": 2,
   "metadata": {},
   "outputs": [],
   "source": [
    "import sys\n",
    "import argparse\n",
    "import os\n",
    "import pandas as pd\n",
    "import numpy as np\n",
    "import re\n",
    "import scipy.stats as stats\n",
    "from collections import Counter\n",
    "\n",
    "pathPrefix = '/Users/friedman/Desktop/mnt'\n",
    "\n",
    "sys.path.append(pathPrefix + '/juno/work/taylorlab/friedman/myUtils')\n",
    "import analysis_utils \n",
    "import mutationSigUtils "
   ]
  },
  {
   "cell_type": "code",
   "execution_count": null,
   "metadata": {},
   "outputs": [],
   "source": [
    "#FIRST FIX UP THE SIGNATURES"
   ]
  },
  {
   "cell_type": "code",
   "execution_count": 3,
   "metadata": {},
   "outputs": [],
   "source": [
    "impactSignatures = pd.read_table(pathPrefix + '/juno/work/taylorlab/friedman/myAdjustedDataFiles/impactSignatureCalls_Nov20_2019.tsv')"
   ]
  },
  {
   "cell_type": "code",
   "execution_count": null,
   "metadata": {},
   "outputs": [],
   "source": [
    "impactSignatures = mutationSigUtils.merge_signature_columns(impactSignatures, mode='Stratton', drop=True, smokingMerge=True, confidence=True, mean=True, prefix='mean_')"
   ]
  },
  {
   "cell_type": "code",
   "execution_count": 10,
   "metadata": {},
   "outputs": [],
   "source": [
    "statsInfo = pd.read_table(pathPrefix + '/juno/work/taylorlab/friedman/myAdjustedDataFiles/mutations_TMB_and_MSI_stats.txt')\n"
   ]
  },
  {
   "cell_type": "code",
   "execution_count": 12,
   "metadata": {},
   "outputs": [],
   "source": [
    "nMutDict = dict(zip(statsInfo['Tumor_Sample_Barcode'], statsInfo['n_mutations']))"
   ]
  },
  {
   "cell_type": "code",
   "execution_count": 20,
   "metadata": {},
   "outputs": [],
   "source": [
    "tmbDict = dict(zip(statsInfo['Tumor_Sample_Barcode'], statsInfo['tmb']))"
   ]
  },
  {
   "cell_type": "code",
   "execution_count": 15,
   "metadata": {},
   "outputs": [],
   "source": [
    "impactSignatures['Nmut'] = impactSignatures['Tumor_Sample_Barcode'].apply(lambda x: nMutDict[x] if x in nMutDict else None)"
   ]
  },
  {
   "cell_type": "code",
   "execution_count": 21,
   "metadata": {},
   "outputs": [
    {
     "name": "stderr",
     "output_type": "stream",
     "text": [
      "/anaconda2/lib/python2.7/site-packages/ipykernel_launcher.py:1: SettingWithCopyWarning: \n",
      "A value is trying to be set on a copy of a slice from a DataFrame.\n",
      "Try using .loc[row_indexer,col_indexer] = value instead\n",
      "\n",
      "See the caveats in the documentation: http://pandas.pydata.org/pandas-docs/stable/indexing.html#indexing-view-versus-copy\n",
      "  \"\"\"Entry point for launching an IPython kernel.\n"
     ]
    }
   ],
   "source": [
    "impactSignatures['Nmut_Mb'] = impactSignatures['Tumor_Sample_Barcode'].apply(lambda x: tmbDict[x] if x in tmbDict else None)"
   ]
  },
  {
   "cell_type": "code",
   "execution_count": 16,
   "metadata": {},
   "outputs": [],
   "source": [
    "impactSignatures = impactSignatures[impactSignatures['Nmut'].notnull()]"
   ]
  },
  {
   "cell_type": "code",
   "execution_count": 7,
   "metadata": {},
   "outputs": [],
   "source": [
    "impactSignatures['dominantSignature'] = impactSignatures.apply(lambda row: mutationSigUtils.get_dominant_signature(row.to_dict(), cols=None, prefix='mean', notEnoughMuts= True), axis=1)"
   ]
  },
  {
   "cell_type": "code",
   "execution_count": 9,
   "metadata": {},
   "outputs": [],
   "source": [
    "impactSignatures.to_csv(pathPrefix + '/juno/work/taylorlab/friedman/myAdjustedDataFiles/impactSignatureCalls_Nov20_2019.tsv', index=False, sep='\\t')"
   ]
  },
  {
   "cell_type": "code",
   "execution_count": 10,
   "metadata": {},
   "outputs": [],
   "source": [
    "#validates that the hypermutation cohort identified by the clustering fulfills two additional conditions:\n",
    "#1. the majority signature in the hypermutated cases is distinct from the majority signature in the non-hypermutated cases\n",
    "#2. the hypermutated cases represent <50% of the total cases\n",
    "def validate_hypermutation_decomposition(hypermutationFileDir = pathPrefix + '/juno/work/taylorlab/friedman/hypermutationAnalysisProj/projectDataAndConfigFiles/hypermutationStatusIds/',\n",
    "                                        signaturesFilePath = pathPrefix + '/juno/work/taylorlab/friedman/myAdjustedDataFiles/impactSignatureCalls_Nov20_2019.tsv',\n",
    "                                        minNormalCasesToCompare = 25 #dont change anything with the normal cases if there are fewer than this many signatures\n",
    "                                        ):\n",
    "    \n",
    "    signaturesData = pd.read_table(signaturesFilePath)\n",
    "    signaturesData = signaturesData[signaturesData['dominantSignature'] != 'insufficientMutBurden']\n",
    "    dominantSignatureDict = dict(zip(signaturesData['Tumor_Sample_Barcode'], signaturesData['dominantSignature']))\n",
    "    for f in os.listdir(hypermutationFileDir):\n",
    "        print f\n",
    "        fullFilePath = os.path.join(hypermutationFileDir, f)\n",
    "        cancerTypeDataFrame = pd.read_table(fullFilePath)\n",
    "        cancerTypeDataFrame['dominantSignature'] = cancerTypeDataFrame['Tumor_Sample_Barcode'].apply(lambda x: dominantSignatureDict[x] if x in dominantSignatureDict else None)\n",
    "        \n",
    "        allCases = set(cancerTypeDataFrame['Tumor_Sample_Barcode'])\n",
    "        hypermutatedCases = set(cancerTypeDataFrame[cancerTypeDataFrame['hypermutantClassification'] == 'Hypermutated']['Tumor_Sample_Barcode'])\n",
    "        normalCases = set(cancerTypeDataFrame[cancerTypeDataFrame['hypermutantClassification'] == 'Normal']['Tumor_Sample_Barcode'])\n",
    "        \n",
    "        hypermutatedDominantSignatures = signaturesData[signaturesData['Tumor_Sample_Barcode'].isin(hypermutatedCases)]['dominantSignature']\n",
    "        normalDominantSignatures = signaturesData[signaturesData['Tumor_Sample_Barcode'].isin(normalCases)]['dominantSignature']\n",
    "        \n",
    "        if len(hypermutatedDominantSignatures) > 0 and len(normalDominantSignatures) > minNormalCasesToCompare:\n",
    "            mostCommonHyperSig = Counter(hypermutatedDominantSignatures).most_common()[0][0]\n",
    "            mostCommonNormalSig = Counter(normalDominantSignatures).most_common()[0][0]\n",
    "            if mostCommonNormalSig == 'mean_MMR':\n",
    "                mostCommonNormalSig = 'mean_1' #fix mmr dominant signature calls in non hypermutated which is probably a mistake\n",
    "            if mostCommonNormalSig == mostCommonHyperSig:\n",
    "                cancerTypeDataFrame['hypermutantClassification'] = cancerTypeDataFrame.apply(lambda row:\n",
    "                            'highMutationBurden' if (row['dominantSignature'] == mostCommonNormalSig) and (row['hypermutantClassification'] == 'Hypermutated')\n",
    "                            else row['hypermutantClassification'], axis=1)\n",
    "        \n",
    "        #RESAVE THE NEW HYPERMUTATION INFO\n",
    "        print 'saving new version'\n",
    "        cancerTypeDataFrame.to_csv(fullFilePath, index=False, sep='\\t')\n"
   ]
  },
  {
   "cell_type": "code",
   "execution_count": null,
   "metadata": {},
   "outputs": [],
   "source": [
    "#run this function to adjust the hypermutant decomposition as I want\n",
    "validate_hypermutation_decomposition()\n"
   ]
  },
  {
   "cell_type": "code",
   "execution_count": 4,
   "metadata": {},
   "outputs": [],
   "source": [
    "\n",
    "\n",
    "\n",
    "\n",
    "\n",
    "\n",
    "\n",
    "\n",
    "\n",
    "\n",
    "#ADJUSTING CODE, no need to worry about this delete eventually\n",
    "#\n",
    "##\n",
    "#####\n",
    "##########\n",
    "sigsDf = pd.read_table(pathPrefix + '/juno/work/taylorlab/friedman/myAdjustedDataFiles/impactSignatureCalls_Nov20_2019_not_merged.tsv.bak')\n",
    "statsInfo = pd.read_table(pathPrefix + '/juno/work/taylorlab/friedman/myAdjustedDataFiles/mutations_TMB_and_MSI_stats.txt')\n",
    "\n"
   ]
  },
  {
   "cell_type": "code",
   "execution_count": 6,
   "metadata": {},
   "outputs": [],
   "source": [
    "tmbDict = dict(zip(statsInfo['Tumor_Sample_Barcode'], statsInfo['tmb']))\n",
    "nMutDict = dict(zip(statsInfo['Tumor_Sample_Barcode'], statsInfo['n_mutations']))\n",
    "sigsDf['Nmut'] = sigsDf['Tumor_Sample_Barcode'].apply(lambda x: nMutDict[x] if x in nMutDict else None)\n",
    "sigsDf['Nmut_Mb'] = sigsDf['Tumor_Sample_Barcode'].apply(lambda x: tmbDict[x] if x in tmbDict else None)\n",
    "sigsDf = sigsDf[sigsDf['Nmut'].notnull()]"
   ]
  },
  {
   "cell_type": "code",
   "execution_count": 13,
   "metadata": {},
   "outputs": [],
   "source": [
    "renameDict = dict([('mean_' + str(i), 'Signature.' + str(i)) for i in range(1,31)])"
   ]
  },
  {
   "cell_type": "code",
   "execution_count": 16,
   "metadata": {},
   "outputs": [],
   "source": [
    "sigsDf.to_csv(pathPrefix + '/juno/work/taylorlab/friedman/myAdjustedDataFiles/impactSignatureCalls_Nov20_2019_not_merged.tsv', index=False, sep='\\t')"
   ]
  }
 ],
 "metadata": {
  "kernelspec": {
   "display_name": "Python 2",
   "language": "python",
   "name": "python2"
  },
  "language_info": {
   "codemirror_mode": {
    "name": "ipython",
    "version": 2
   },
   "file_extension": ".py",
   "mimetype": "text/x-python",
   "name": "python",
   "nbconvert_exporter": "python",
   "pygments_lexer": "ipython2",
   "version": "2.7.15"
  }
 },
 "nbformat": 4,
 "nbformat_minor": 2
}
