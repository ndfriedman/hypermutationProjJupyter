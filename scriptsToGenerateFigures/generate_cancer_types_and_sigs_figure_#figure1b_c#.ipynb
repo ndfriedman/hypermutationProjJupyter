{
 "cells": [
  {
   "cell_type": "code",
   "execution_count": 1,
   "metadata": {},
   "outputs": [],
   "source": [
    "import sys\n",
    "import argparse\n",
    "import os\n",
    "import pandas as pd\n",
    "import numpy as np\n",
    "import re\n",
    "import math\n",
    "\n",
    "from collections import Counter\n",
    "#pathPrefix = '/Users/friedman/Desktop/mnt'\n",
    "#sys.path.append(pathPrefix + '/ifs/work/taylorlab/friedman/myUtils')\n",
    "#import analysis_utils \n",
    "#import mutationSigUtils"
   ]
  },
  {
   "cell_type": "code",
   "execution_count": 5,
   "metadata": {},
   "outputs": [],
   "source": [
    "def summarize_n_hypermutated_and_signatures_of_cases(mutClassificationDir = '/Users/friedman/Desktop/hypermutationStatusIds/'):\n",
    "    nCasesSummaryL = []\n",
    "    signaturesSummaryL = []\n",
    "    for f in os.listdir(mutClassificationDir):\n",
    "        cancerType = re.sub('.tsv', '', f)\n",
    "        filePath = os.path.join(mutClassificationDir, f)\n",
    "        df = pd.read_table(filePath)\n",
    "        hypermutatedDf = df[df['hypermutantClassification'] == 'Hypermutated']\n",
    "        highMutBurdenDf = df[df['hypermutantClassification'] == 'highMutationBurden']\n",
    "        \n",
    "        nCasesSummaryL.append({'cancerType': cancerType,\n",
    "        'nHypermutated': hypermutatedDf.shape[0], 'nTotal': df.shape[0], 'nHighMutBurden': highMutBurdenDf.shape[0]})\n",
    "    \n",
    "        #TODO make the code for plotting the signatures\n",
    "        signatureCounter = Counter(hypermutatedDf['dominantSignature'])\n",
    "        for signature, count in signatureCounter.items():\n",
    "            signature = re.sub('mean_', '', signature)\n",
    "            signaturesSummaryL.append({'cancerType': cancerType,\n",
    "                'signature': signature, 'nCases': count, \n",
    "                'nHypermutatedCases': hypermutatedDf.shape[0], 'nTotal': df.shape[0]})\n",
    "        \n",
    "    casesSummaryDf = pd.DataFrame(nCasesSummaryL)\n",
    "    signaturesSummaryDf = pd.DataFrame(signaturesSummaryL)\n",
    "    return casesSummaryDf, signaturesSummaryDf\n",
    "        "
   ]
  },
  {
   "cell_type": "code",
   "execution_count": 6,
   "metadata": {},
   "outputs": [],
   "source": [
    "casesSummary, signaturesSummary = summarize_n_hypermutated_and_signatures_of_cases()"
   ]
  },
  {
   "cell_type": "code",
   "execution_count": 12,
   "metadata": {},
   "outputs": [],
   "source": [
    "#ADJUST THE CASES SUMMARY INFORMATION\n",
    "minNCasesToDisplay = 250 #lump all cancers with fewer than this number of cases as other\n",
    "casesSummary['cancerType'] = casesSummary.apply(lambda row: 'other' if row['nTotal'] < minNCasesToDisplay else row['cancerType'] ,axis=1)\n"
   ]
  },
  {
   "cell_type": "code",
   "execution_count": 14,
   "metadata": {},
   "outputs": [],
   "source": [
    "#ADJUST THE SIGNATURES SUMMARY INFORMATION\n",
    "minNHypermutatedCasesToDisplay = 10\n",
    "signaturesSummary['cancerType'] = signaturesSummary.apply(lambda row: 'other' if row['nHypermutatedCases'] < minNHypermutatedCasesToDisplay else row['cancerType'] ,axis=1)\n",
    "signaturesSummary['orderingVal'] = signaturesSummary.apply(lambda row: -1 if row['cancerType'] == 'other' else row['nHypermutatedCases'], axis=1)\n",
    "\n",
    "signaturesRenameDict = {'1': 'MMR', 'SMOKING': 'SMOKING',\n",
    "                        'MMR': 'MMR', 'APOBEC': 'APOBEC', '10': 'POLE',\n",
    "                       '11': 'TMZ', '14': 'POLE&MMR', '7': 'UV'}\n",
    "signaturesSummary['signature'] = signaturesSummary['signature'].apply(lambda x:\n",
    "        signaturesRenameDict[x] if x in signaturesRenameDict else 'other')"
   ]
  },
  {
   "cell_type": "code",
   "execution_count": 15,
   "metadata": {},
   "outputs": [],
   "source": [
    "signaturesSummary.to_csv('/Users/friedman/Desktop/WORK/dataForLocalPlotting/figure1cSignatureSummary.tsv', index=False, sep='\\t')\n",
    "casesSummary.to_csv('/Users/friedman/Desktop/WORK/dataForLocalPlotting/figure1bCancerTypeSummary.tsv', index=False, sep='\\t')"
   ]
  },
  {
   "cell_type": "code",
   "execution_count": null,
   "metadata": {},
   "outputs": [],
   "source": [
    "def get_per_case_nmut_mb_info(nmutDfPath = pathPrefix + '/ifs/work/taylorlab/friedman/hypermutationAnalysisProj/projectDataAndConfigFiles/nmutInfo_impact_filtered.tsv'):\n",
    "    df = pd.read_table(nmutDfPath)\n",
    "    return dict(zip(df['Tumor_Sample_Barcode'], df['Nmut_Mb']))"
   ]
  },
  {
   "cell_type": "code",
   "execution_count": null,
   "metadata": {},
   "outputs": [],
   "source": [
    "allImpactMuts = analysis_utils.load_in_df_with_progress(pathPrefix + '/ifs/work/taylorlab/friedman/hypermutationAnalysisProj/projectDataAndConfigFiles/all_impact_mutations_annotated_cohort.maf', 275000)"
   ]
  },
  {
   "cell_type": "code",
   "execution_count": 14,
   "metadata": {},
   "outputs": [
    {
     "name": "stderr",
     "output_type": "stream",
     "text": [
      "/anaconda2/lib/python2.7/site-packages/ipykernel_launcher.py:8: SettingWithCopyWarning: \n",
      "A value is trying to be set on a copy of a slice from a DataFrame.\n",
      "Try using .loc[row_indexer,col_indexer] = value instead\n",
      "\n",
      "See the caveats in the documentation: http://pandas.pydata.org/pandas-docs/stable/indexing.html#indexing-view-versus-copy\n",
      "  \n"
     ]
    }
   ],
   "source": [
    "hypermutantIdDir=pathPrefix +'/ifs/work/taylorlab/friedman/hypermutationAnalysisProj/projectDataAndConfigFiles/hypermutationStatusIds'\n",
    "exceptionCancerTypes = set(['Bladder Cancer', 'Melanoma'])\n",
    "listOfDfs = []\n",
    "for f in os.listdir(hypermutantIdDir):\n",
    "    cancerType = re.sub('_', ' ', f.strip('.tsv'))\n",
    "    df = pd.read_table(hypermutantIdDir + '/' + f)\n",
    "    dfHypermutators = df[df['hypermutantClassification'] == 'Hypermutated']\n",
    "    dfHypermutators['cancerType'] = cancerType\n",
    "    listOfDfs.append(dfHypermutators)\n",
    "    \n",
    "concatDf = pd.concat(listOfDfs)\n"
   ]
  },
  {
   "cell_type": "markdown",
   "metadata": {},
   "source": [
    "**add signature information**"
   ]
  },
  {
   "cell_type": "code",
   "execution_count": 41,
   "metadata": {},
   "outputs": [],
   "source": [
    "impactSigs = pd.read_table(pathPrefix + '/ifs/work/taylorlab/friedman/hypermutationAnalysisProj/projectDataAndConfigFiles/signatures_from_unfiltered_maf.txt')"
   ]
  },
  {
   "cell_type": "code",
   "execution_count": 42,
   "metadata": {},
   "outputs": [],
   "source": [
    "impactSigs = mutationSigUtils.merge_signature_columns(impactSigs)\n",
    "impactSigs['dominantSignature'] = impactSigs.apply(lambda row: \n",
    "        mutationSigUtils.get_dominant_signature(row.to_dict(), cols=None, prefix='mean', notEnoughMuts= True), axis=1)"
   ]
  },
  {
   "cell_type": "code",
   "execution_count": 43,
   "metadata": {},
   "outputs": [],
   "source": [
    "dominantSignatureDict = dict(zip(impactSigs['Tumor_Sample_Barcode'], impactSigs['dominantSignature']))"
   ]
  },
  {
   "cell_type": "code",
   "execution_count": null,
   "metadata": {},
   "outputs": [],
   "source": [
    "finalDf['dominantSignature'] = finalDf['Tumor_Sample_Barcode'].apply(lambda x: dominantSignatureDict[x] if x in dominantSignatureDict else None) "
   ]
  },
  {
   "cell_type": "code",
   "execution_count": null,
   "metadata": {},
   "outputs": [],
   "source": [
    "finalDf['dominantSignatureDisplay'] = finalDf['dominantSignature'].apply(lambda x: \n",
    "                                                                         'MMR' if x in set(['mean_MMR', 'mean_1'])\n",
    "                                                                         else 'POLE' if x == 'mean_10'\n",
    "                                                                         else 'TMZ' if x == 'mean_11'\n",
    "                                                                         else 'POLE+MMR' if x == 'mean_14'\n",
    "                                                                         else 'SMOKING' if x == 'mean_4'\n",
    "                                                                         else 'UV' if x == 'mean_7'\n",
    "                                                                         else 'APOBEC' if x == 'mean_APOBEC'\n",
    "                                                                         else 'Other')"
   ]
  },
  {
   "cell_type": "markdown",
   "metadata": {},
   "source": [
    "**make it a long format df**"
   ]
  },
  {
   "cell_type": "code",
   "execution_count": 61,
   "metadata": {},
   "outputs": [],
   "source": [
    "finalMeltedDf = pd.melt(finalDf, value_vars=['dominantSignatureDisplay'], id_vars=['Nmut_Mb', 'Tumor_Sample_Barcode', 'cancerType'])"
   ]
  },
  {
   "cell_type": "code",
   "execution_count": 82,
   "metadata": {},
   "outputs": [],
   "source": [
    "orderingValDict = {'POLE':-1000, 'POLE+MMR':-2000, 'MMR':-3000, 'TMZ':-4000,\n",
    "                   'UV':-5000, 'APOBEC':-6000, 'SMOKING':-7000, 'Other':-8000}\n",
    "finalMeltedDf['orderingVal'] = finalMeltedDf.apply(lambda row: orderingValDict[row['value']] + row['Nmut_Mb'], axis=1)\n"
   ]
  },
  {
   "cell_type": "code",
   "execution_count": 84,
   "metadata": {},
   "outputs": [],
   "source": [
    "finalMeltedDf.to_csv('/Users/friedman/Desktop/WORK/dataForLocalPlotting/cohortDisplayFigure.tsv', index=False, sep='\\t')"
   ]
  },
  {
   "cell_type": "code",
   "execution_count": 90,
   "metadata": {},
   "outputs": [
    {
     "data": {
      "text/plain": [
       "25"
      ]
     },
     "execution_count": 90,
     "metadata": {},
     "output_type": "execute_result"
    }
   ],
   "source": [
    "len('Cancer of Unknown Primary')"
   ]
  }
 ],
 "metadata": {
  "kernelspec": {
   "display_name": "Python 2",
   "language": "python",
   "name": "python2"
  },
  "language_info": {
   "codemirror_mode": {
    "name": "ipython",
    "version": 2
   },
   "file_extension": ".py",
   "mimetype": "text/x-python",
   "name": "python",
   "nbconvert_exporter": "python",
   "pygments_lexer": "ipython2",
   "version": "2.7.15"
  }
 },
 "nbformat": 4,
 "nbformat_minor": 2
}
