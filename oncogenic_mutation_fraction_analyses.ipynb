{
 "cells": [
  {
   "cell_type": "code",
   "execution_count": 1,
   "metadata": {},
   "outputs": [],
   "source": [
    "#written by Noah Friedman (a template for scripts to be excuted in the spyder environment\n",
    "import sys\n",
    "import argparse\n",
    "import os\n",
    "import pandas as pd\n",
    "import numpy as np\n",
    "import re\n",
    "\n",
    "from collections import Counter\n",
    "\n",
    "pathPrefix = '/Users/friedman/Desktop/mnt'\n",
    "\n",
    "sys.path.append(pathPrefix + '/ifs/work/taylorlab/friedman/myUtils')\n",
    "import analysis_utils \n",
    "import mutationSigUtils \n",
    "import maf_analysis_utils\n",
    "import mutation_modeling_util"
   ]
  },
  {
   "cell_type": "code",
   "execution_count": null,
   "metadata": {},
   "outputs": [],
   "source": [
    "allImpactMuts = analysis_utils.load_in_df_with_progress(pathPrefix + '/ifs/work/taylorlab/friedman/hypermutationAnalysisProj/projectDataAndConfigFiles/all_impact_mutations_annotated_cohort.maf', 275000)"
   ]
  },
  {
   "cell_type": "code",
   "execution_count": 5,
   "metadata": {},
   "outputs": [],
   "source": [
    "def get_per_case_oncogenic_mut_info(muts):\n",
    "    oncogenicMuts = muts[muts['oncogenic'].notnull()]\n",
    "    nMutOncDict = dict(oncogenicMuts['Tumor_Sample_Barcode'].value_counts())\n",
    "    return nMutOncDict\n",
    "\n",
    "#TODO flesh this out\n",
    "def get_per_case_unique_gene_oncogenic_mut_info(muts):\n",
    "    oncogenicMuts = muts[muts['oncogenic'].notnull()]\n",
    "    oncogenicMuts['caseGeneAltered'] = oncogenicMuts.apply(lambda row: row['Tumor_Sample_Barcode'] + '_' + row['Hugo_Symbol'], axis=1)\n",
    "    oncogenicMuts = oncogenicMuts.drop_duplicates(subset=['caseGeneAltered'])\n",
    "    return dict(oncogenicMuts['Tumor_Sample_Barcode'].value_counts())"
   ]
  },
  {
   "cell_type": "code",
   "execution_count": 4,
   "metadata": {},
   "outputs": [],
   "source": [
    "def get_per_case_mut_info(nmutDfPath = pathPrefix + '/ifs/work/taylorlab/friedman/hypermutationAnalysisProj/projectDataAndConfigFiles/nmutInfo_impact_filtered.tsv'):\n",
    "    df = pd.read_table(nmutDfPath)\n",
    "    return dict(zip(df['Tumor_Sample_Barcode'], df['Nmut']))\n",
    "\n",
    "def get_per_case_unique_gene_mut_info(muts):\n",
    "    muts['caseGeneAltered'] = muts.apply(lambda row: row['Tumor_Sample_Barcode'] + '_' + row['Hugo_Symbol'], axis=1)\n",
    "    muts = muts.drop_duplicates(subset=['caseGeneAltered'])\n",
    "    return dict(muts['Tumor_Sample_Barcode'].value_counts())\n"
   ]
  },
  {
   "cell_type": "code",
   "execution_count": 6,
   "metadata": {},
   "outputs": [
    {
     "name": "stderr",
     "output_type": "stream",
     "text": [
      "/anaconda2/lib/python2.7/site-packages/ipykernel_launcher.py:9: SettingWithCopyWarning: \n",
      "A value is trying to be set on a copy of a slice from a DataFrame.\n",
      "Try using .loc[row_indexer,col_indexer] = value instead\n",
      "\n",
      "See the caveats in the documentation: http://pandas.pydata.org/pandas-docs/stable/indexing.html#indexing-view-versus-copy\n",
      "  if __name__ == '__main__':\n"
     ]
    }
   ],
   "source": [
    "perCaseOncogenicInfo = get_per_case_oncogenic_mut_info(allImpactMuts)\n",
    "perCaseUniqueOncogenicInfo = get_per_case_unique_gene_oncogenic_mut_info(allImpactMuts)"
   ]
  },
  {
   "cell_type": "code",
   "execution_count": 7,
   "metadata": {},
   "outputs": [],
   "source": [
    "perCaseNmutInfo = get_per_case_mut_info()\n",
    "perCaseUniqueMutInfo = get_per_case_unique_gene_mut_info(allImpactMuts)"
   ]
  },
  {
   "cell_type": "code",
   "execution_count": 15,
   "metadata": {},
   "outputs": [],
   "source": [
    "listOfDicts = []\n",
    "for case, nmut in perCaseNmutInfo.items():\n",
    "    if nmut != 0:\n",
    "        nOnc = 0\n",
    "        nGeneOnc = 0\n",
    "        if case in perCaseOncogenicInfo: nOnc = perCaseOncogenicInfo[case]\n",
    "        if case in perCaseUniqueOncogenicInfo: nGeneOnc = perCaseUniqueOncogenicInfo[case]\n",
    "        listOfDicts.append({\n",
    "            'fracOnc': 1.0*nOnc/nmut,\n",
    "            'Nmut': nmut,\n",
    "            'Tumor_Sample_Barcode': case,\n",
    "            'RatioGenesOncMutToGenesMut': 1.0*nGeneOnc/perCaseUniqueMutInfo[case]\n",
    "        })\n",
    "df = pd.DataFrame(listOfDicts)\n",
    "        "
   ]
  },
  {
   "cell_type": "code",
   "execution_count": 17,
   "metadata": {},
   "outputs": [],
   "source": [
    "df.to_csv('/Users/friedman/Desktop/WORK/dataForLocalPlotting/observedOncFraction.tsv', sep='\\t', index=False)"
   ]
  },
  {
   "cell_type": "markdown",
   "metadata": {},
   "source": [
    "**Fraction of Oncogenic Mutations at related genes by mutation burden and signature**"
   ]
  },
  {
   "cell_type": "code",
   "execution_count": 8,
   "metadata": {},
   "outputs": [],
   "source": [
    "impactSigs = pd.read_table(pathPrefix + '/ifs/work/taylorlab/friedman/hypermutationAnalysisProj/projectDataAndConfigFiles/signatures_from_unfiltered_maf.txt')"
   ]
  },
  {
   "cell_type": "code",
   "execution_count": 11,
   "metadata": {},
   "outputs": [],
   "source": [
    "cancerTypeDict = analysis_utils.get_cancer_type_information(cancerTypeDfPath = pathPrefix + '/ifs/work/taylorlab/friedman/mskImpactAsOfMarch2019/dmp/mskimpact/data_clinical_sample.txt', mode='pid')\n",
    "impactSigs['pid'] = impactSigs['Tumor_Sample_Barcode'].apply(lambda x: x[:9])\n",
    "impactSigs['cancer_type'] = impactSigs['pid'].apply(lambda x: cancerTypeDict[x] if x in cancerTypeDict else None)\n"
   ]
  },
  {
   "cell_type": "code",
   "execution_count": 24,
   "metadata": {},
   "outputs": [],
   "source": [
    "allImpactMuts = maf_analysis_utils.fix_mll_genes(allImpactMuts)"
   ]
  },
  {
   "cell_type": "markdown",
   "metadata": {},
   "source": [
    "lets get dfs of all the normal mutations"
   ]
  },
  {
   "cell_type": "code",
   "execution_count": 16,
   "metadata": {},
   "outputs": [],
   "source": [
    "normalThreshContinousCancers = 30\n",
    "hyperThreshContinousCancers = 50\n",
    "\n",
    "normalLung = set(impactSigs[(impactSigs['Nmut_Mb'] < normalThreshContinousCancers) & (impactSigs['cancer_type'] == 'Non-Small Cell Lung Cancer')]['Tumor_Sample_Barcode'])\n",
    "normalBladder = set(impactSigs[(impactSigs['Nmut_Mb'] < normalThreshContinousCancers) & (impactSigs['cancer_type'] == 'Bladder Cancer')]['Tumor_Sample_Barcode'])\n",
    "normalMelanoma = set(impactSigs[(impactSigs['Nmut_Mb'] < normalThreshContinousCancers) & (impactSigs['cancer_type'] == 'Melanoma')]['Tumor_Sample_Barcode'])\n",
    "\n",
    "hyperLung = set(impactSigs[(impactSigs['Nmut_Mb'] > hyperThreshContinousCancers) & (impactSigs['cancer_type'] == 'Non-Small Cell Lung Cancer')]['Tumor_Sample_Barcode'])\n",
    "hyperBladder = set(impactSigs[(impactSigs['Nmut_Mb'] > hyperThreshContinousCancers) & (impactSigs['cancer_type'] == 'Bladder Cancer')]['Tumor_Sample_Barcode'])\n",
    "hyperMelanoma = set(impactSigs[(impactSigs['Nmut_Mb'] > hyperThreshContinousCancers) & (impactSigs['cancer_type'] == 'Melanoma')]['Tumor_Sample_Barcode'])\n"
   ]
  },
  {
   "cell_type": "code",
   "execution_count": 18,
   "metadata": {},
   "outputs": [],
   "source": [
    "normalEndometrial = analysis_utils.get_ids_by_hypermutant_status(hypermutantIdDir=pathPrefix +'/ifs/work/taylorlab/friedman/hypermutationAnalysisProj/projectDataAndConfigFiles/hypermutationStatusIds', cancerType='Endometrial Cancer', hypermutantStatus = 'Normal')\n",
    "normalColorectal = analysis_utils.get_ids_by_hypermutant_status(hypermutantIdDir=pathPrefix +'/ifs/work/taylorlab/friedman/hypermutationAnalysisProj/projectDataAndConfigFiles/hypermutationStatusIds', cancerType='Colorectal Cancer', hypermutantStatus = 'Normal')\n",
    "normalGlioma = analysis_utils.get_ids_by_hypermutant_status(hypermutantIdDir=pathPrefix +'/ifs/work/taylorlab/friedman/hypermutationAnalysisProj/projectDataAndConfigFiles/hypermutationStatusIds', cancerType='Glioma', hypermutantStatus = 'Normal')\n",
    "\n",
    "hyperEndometrial = analysis_utils.get_ids_by_hypermutant_status(hypermutantIdDir=pathPrefix +'/ifs/work/taylorlab/friedman/hypermutationAnalysisProj/projectDataAndConfigFiles/hypermutationStatusIds', cancerType='Endometrial Cancer', hypermutantStatus = 'Hypermutated')\n",
    "hyperColorectal = analysis_utils.get_ids_by_hypermutant_status(hypermutantIdDir=pathPrefix +'/ifs/work/taylorlab/friedman/hypermutationAnalysisProj/projectDataAndConfigFiles/hypermutationStatusIds', cancerType='Colorectal Cancer', hypermutantStatus = 'Hypermutated')\n",
    "hyperGlioma = analysis_utils.get_ids_by_hypermutant_status(hypermutantIdDir=pathPrefix +'/ifs/work/taylorlab/friedman/hypermutationAnalysisProj/projectDataAndConfigFiles/hypermutationStatusIds', cancerType='Glioma', hypermutantStatus = 'Hypermutated')\n"
   ]
  },
  {
   "cell_type": "code",
   "execution_count": 25,
   "metadata": {},
   "outputs": [],
   "source": [
    "lungNormalDf = allImpactMuts[allImpactMuts['Tumor_Sample_Barcode'].isin(normalLung)]\n",
    "bladderNormalDf = allImpactMuts[allImpactMuts['Tumor_Sample_Barcode'].isin(normalBladder)]\n",
    "melanomaNormalDf = allImpactMuts[allImpactMuts['Tumor_Sample_Barcode'].isin(normalMelanoma)]\n",
    "\n",
    "endometrialNormalDf = allImpactMuts[allImpactMuts['Tumor_Sample_Barcode'].isin(normalEndometrial)]\n",
    "colorectalNormalDf = allImpactMuts[allImpactMuts['Tumor_Sample_Barcode'].isin(normalColorectal)]\n",
    "gliomaNormalDf = allImpactMuts[allImpactMuts['Tumor_Sample_Barcode'].isin(normalGlioma)]"
   ]
  },
  {
   "cell_type": "code",
   "execution_count": null,
   "metadata": {},
   "outputs": [],
   "source": [
    "lungHyperDf = allImpactMuts[allImpactMuts['Tumor_Sample_Barcode'].isin(hyperLung)]\n",
    "lungHyperDf['cancer_type'] = 'Non-Small Cell Lung Cancer'\n",
    "bladderHyperDf = allImpactMuts[allImpactMuts['Tumor_Sample_Barcode'].isin(hyperBladder)]\n",
    "bladderHyperDf['cancer_type'] = 'Bladder Cancer'\n",
    "melanomaHyperDf = allImpactMuts[allImpactMuts['Tumor_Sample_Barcode'].isin(hyperMelanoma)]\n",
    "melanomaHyperDf['cancer_type'] = 'Melanoma'\n",
    "\n",
    "endometrialHyperDf = allImpactMuts[allImpactMuts['Tumor_Sample_Barcode'].isin(hyperEndometrial)]\n",
    "endometrialHyperDf['cancer_type'] = 'Endometrial Cancer'\n",
    "colorectalHyperDf = allImpactMuts[allImpactMuts['Tumor_Sample_Barcode'].isin(hyperColorectal)]\n",
    "colorectalHyperDf['cancer_type'] = 'Colorectal Cancer'\n",
    "gliomaHyperDf = allImpactMuts[allImpactMuts['Tumor_Sample_Barcode'].isin(hyperGlioma)]\n",
    "gliomaHyperDf['cancer_type'] = 'Glioma'"
   ]
  },
  {
   "cell_type": "code",
   "execution_count": 38,
   "metadata": {},
   "outputs": [],
   "source": [
    "allNormalDf = pd.concat([lungNormalDf, bladderNormalDf, melanomaNormalDf, endometrialNormalDf, colorectalNormalDf, gliomaNormalDf])\n",
    "allHypermutantMuts = pd.concat([lungHyperDf, bladderHyperDf, melanomaHyperDf, endometrialHyperDf, colorectalHyperDf, gliomaHyperDf])\n"
   ]
  },
  {
   "cell_type": "code",
   "execution_count": 28,
   "metadata": {},
   "outputs": [
    {
     "name": "stdout",
     "output_type": "stream",
     "text": [
      "Non-Small Cell Lung Cancer\n",
      "Bladder Cancer\n",
      "Melanoma\n",
      "Endometrial Cancer\n",
      "Colorectal Cancer\n",
      "Glioma\n"
     ]
    }
   ],
   "source": [
    "relatedGenesDict = maf_analysis_utils.create_dictionary_mapping_genes_to_cancer_types_with_implication(allNormalDf, pathPrefix,\n",
    "                                                                                    cancerTypes=['Non-Small Cell Lung Cancer', 'Bladder Cancer', 'Melanoma',\n",
    "                                                                                                'Endometrial Cancer', 'Colorectal Cancer', 'Glioma'],\n",
    "                                                                                    t=0.03)\n",
    "\n"
   ]
  },
  {
   "cell_type": "code",
   "execution_count": 55,
   "metadata": {},
   "outputs": [],
   "source": [
    "def summarize_related_gene_mut_fraction_for_hypermutators(hypermutatorMaf, relatedGenesDict, nmutMbCutoff = 35):\n",
    "    listOfDicts = []\n",
    "    for case in set(hypermutatorMaf['Tumor_Sample_Barcode']):\n",
    "        caseMaf = hypermutatorMaf[hypermutatorMaf['Tumor_Sample_Barcode'] == case]\n",
    "        caseMafOnc = caseMaf[caseMaf['oncogenic'].notnull()]\n",
    "        \n",
    "        cancerType = caseMaf['cancer_type'].iloc[0]\n",
    "        nmut = caseMaf.shape[0]\n",
    "        nmut_mb = maf_analysis_utils.get_nmut_mb_from_impact_id(case, nmut)\n",
    "        if nmut_mb < nmutMbCutoff:\n",
    "            pass #ignore cases where the nmut_mb is less than 30\n",
    "        else:\n",
    "            nOnc = caseMafOnc.shape[0]\n",
    "            if nOnc > 0:\n",
    "                nOncRelated = caseMafOnc[caseMafOnc['Hugo_Symbol'].isin(relatedGenesDict[cancerType])].shape[0]\n",
    "                relatedFrac = (1.0*nOncRelated)/nOnc\n",
    "                listOfDicts.append({\n",
    "                    'Tumor_Sample_Barcode': case, 'nOnc': nOnc, 'nOncRelated': nOncRelated,\n",
    "                    'relatedFrac': relatedFrac, 'cancer_type': cancerType, 'Nmut_Mb': nmut_mb\n",
    "                })\n",
    "    return pd.DataFrame(listOfDicts)"
   ]
  },
  {
   "cell_type": "code",
   "execution_count": 56,
   "metadata": {},
   "outputs": [],
   "source": [
    "df = summarize_related_gene_mut_fraction_for_hypermutators(allHypermutantMuts, relatedGenesDict)"
   ]
  },
  {
   "cell_type": "code",
   "execution_count": 57,
   "metadata": {},
   "outputs": [],
   "source": [
    "df.to_csv('/Users/friedman/Desktop/WORK/dataForLocalPlotting/relatedGeneFracByCancerType.tsv', index=False, sep='\\t')"
   ]
  }
 ],
 "metadata": {
  "kernelspec": {
   "display_name": "Python 2",
   "language": "python",
   "name": "python2"
  },
  "language_info": {
   "codemirror_mode": {
    "name": "ipython",
    "version": 2
   },
   "file_extension": ".py",
   "mimetype": "text/x-python",
   "name": "python",
   "nbconvert_exporter": "python",
   "pygments_lexer": "ipython2",
   "version": "2.7.15"
  }
 },
 "nbformat": 4,
 "nbformat_minor": 2
}
