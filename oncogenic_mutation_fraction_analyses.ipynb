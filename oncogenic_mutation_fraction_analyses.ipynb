{
 "cells": [
  {
   "cell_type": "code",
   "execution_count": 4,
   "metadata": {},
   "outputs": [
    {
     "ename": "ImportError",
     "evalue": "No module named analysis_utils",
     "output_type": "error",
     "traceback": [
      "\u001b[0;31m---------------------------------------------------------------------------\u001b[0m",
      "\u001b[0;31mImportError\u001b[0m                               Traceback (most recent call last)",
      "\u001b[0;32m<ipython-input-4-374fad58427a>\u001b[0m in \u001b[0;36m<module>\u001b[0;34m()\u001b[0m\n\u001b[1;32m     12\u001b[0m \u001b[0;34m\u001b[0m\u001b[0m\n\u001b[1;32m     13\u001b[0m \u001b[0msys\u001b[0m\u001b[0;34m.\u001b[0m\u001b[0mpath\u001b[0m\u001b[0;34m.\u001b[0m\u001b[0mappend\u001b[0m\u001b[0;34m(\u001b[0m\u001b[0mpathPrefix\u001b[0m \u001b[0;34m+\u001b[0m \u001b[0;34m'/ifs/work/taylorlab/friedman/myUtils'\u001b[0m\u001b[0;34m)\u001b[0m\u001b[0;34m\u001b[0m\u001b[0m\n\u001b[0;32m---> 14\u001b[0;31m \u001b[0;32mimport\u001b[0m \u001b[0manalysis_utils\u001b[0m\u001b[0;34m\u001b[0m\u001b[0m\n\u001b[0m\u001b[1;32m     15\u001b[0m \u001b[0;32mimport\u001b[0m \u001b[0mmutationSigUtils\u001b[0m\u001b[0;34m\u001b[0m\u001b[0m\n\u001b[1;32m     16\u001b[0m \u001b[0;32mimport\u001b[0m \u001b[0mmaf_analysis_utils\u001b[0m\u001b[0;34m\u001b[0m\u001b[0m\n",
      "\u001b[0;31mImportError\u001b[0m: No module named analysis_utils"
     ]
    }
   ],
   "source": [
    "#written by Noah Friedman (a template for scripts to be excuted in the spyder environment\n",
    "import sys\n",
    "import argparse\n",
    "import os\n",
    "import pandas as pd\n",
    "import numpy as np\n",
    "import re\n",
    "\n",
    "from collections import Counter\n",
    "\n",
    "pathPrefix = '/Users/friedman/Desktop/mnt'\n",
    "\n",
    "sys.path.append(pathPrefix + '/ifs/work/taylorlab/friedman/myUtils')\n",
    "import analysis_utils \n",
    "import mutationSigUtils \n",
    "import maf_analysis_utils\n",
    "import mutation_modeling_util"
   ]
  },
  {
   "cell_type": "code",
   "execution_count": null,
   "metadata": {},
   "outputs": [],
   "source": [
    "allImpactMuts = analysis_utils.load_in_df_with_progress(pathPrefix + '/ifs/work/taylorlab/friedman/hypermutationAnalysisProj/projectDataAndConfigFiles/all_impact_mutations_annotated_cohort.maf', 275000)"
   ]
  },
  {
   "cell_type": "code",
   "execution_count": 4,
   "metadata": {},
   "outputs": [],
   "source": [
    "def get_per_case_oncogenic_mut_info(muts):\n",
    "    oncogenicMuts = muts[muts['oncogenic'].notnull()]\n",
    "    nMutOncDict = dict(oncogenicMuts['Tumor_Sample_Barcode'].value_counts())\n",
    "    return nMutOncDict\n",
    "\n",
    "#TODO flesh this out\n",
    "def get_per_case_unique_gene_oncogenic_mut_info(muts):\n",
    "    oncogenicMuts = muts[muts['oncogenic'].notnull()]\n",
    "    oncogenicMuts['caseGeneAltered'] = oncogenicMuts.apply(lambda row: row['Tumor_Sample_Barcode'] + '_' + row['Hugo_Symbol'], axis=1)\n",
    "    oncogenicMuts = oncogenicMuts.drop_duplicates(subset=['caseGeneAltered'])\n",
    "    return dict(oncogenicMuts['Tumor_Sample_Barcode'].value_counts())"
   ]
  },
  {
   "cell_type": "code",
   "execution_count": 11,
   "metadata": {},
   "outputs": [],
   "source": [
    "def get_per_case_mut_info(nmutDfPath = pathPrefix + '/ifs/work/taylorlab/friedman/hypermutationAnalysisProj/projectDataAndConfigFiles/nmutInfo_impact_filtered.tsv'):\n",
    "    df = pd.read_table(nmutDfPath)\n",
    "    return dict(zip(df['Tumor_Sample_Barcode'], df['Nmut']))\n",
    "\n",
    "def get_per_case_unique_gene_mut_info(muts):\n",
    "    muts['caseGeneAltered'] = muts.apply(lambda row: row['Tumor_Sample_Barcode'] + '_' + row['Hugo_Symbol'], axis=1)\n",
    "    muts = muts.drop_duplicates(subset=['caseGeneAltered'])\n",
    "    return dict(muts['Tumor_Sample_Barcode'].value_counts())\n"
   ]
  },
  {
   "cell_type": "code",
   "execution_count": 5,
   "metadata": {},
   "outputs": [
    {
     "name": "stderr",
     "output_type": "stream",
     "text": [
      "/anaconda2/lib/python2.7/site-packages/ipykernel_launcher.py:9: SettingWithCopyWarning: \n",
      "A value is trying to be set on a copy of a slice from a DataFrame.\n",
      "Try using .loc[row_indexer,col_indexer] = value instead\n",
      "\n",
      "See the caveats in the documentation: http://pandas.pydata.org/pandas-docs/stable/indexing.html#indexing-view-versus-copy\n",
      "  if __name__ == '__main__':\n"
     ]
    }
   ],
   "source": [
    "perCaseOncogenicInfo = get_per_case_oncogenic_mut_info(allImpactMuts)\n",
    "perCaseUniqueOncogenicInfo = get_per_case_unique_gene_oncogenic_mut_info(allImpactMuts)"
   ]
  },
  {
   "cell_type": "code",
   "execution_count": 12,
   "metadata": {},
   "outputs": [],
   "source": [
    "perCaseNmutInfo = get_per_case_mut_info()\n",
    "perCaseUniqueMutInfo = get_per_case_unique_gene_mut_info(allImpactMuts)"
   ]
  },
  {
   "cell_type": "code",
   "execution_count": 15,
   "metadata": {},
   "outputs": [],
   "source": [
    "listOfDicts = []\n",
    "for case, nmut in perCaseNmutInfo.items():\n",
    "    if nmut != 0:\n",
    "        nOnc = 0\n",
    "        nGeneOnc = 0\n",
    "        if case in perCaseOncogenicInfo: nOnc = perCaseOncogenicInfo[case]\n",
    "        if case in perCaseUniqueOncogenicInfo: nGeneOnc = perCaseUniqueOncogenicInfo[case]\n",
    "        listOfDicts.append({\n",
    "            'fracOnc': 1.0*nOnc/nmut,\n",
    "            'Nmut': nmut,\n",
    "            'Tumor_Sample_Barcode': case,\n",
    "            'RatioGenesOncMutToGenesMut': 1.0*nGeneOnc/perCaseUniqueMutInfo[case]\n",
    "        })\n",
    "df = pd.DataFrame(listOfDicts)\n",
    "        "
   ]
  },
  {
   "cell_type": "code",
   "execution_count": 17,
   "metadata": {},
   "outputs": [],
   "source": [
    "df.to_csv('/Users/friedman/Desktop/WORK/dataForLocalPlotting/observedOncFraction.tsv', sep='\\t', index=False)"
   ]
  },
  {
   "cell_type": "code",
   "execution_count": 1,
   "metadata": {},
   "outputs": [
    {
     "ename": "NameError",
     "evalue": "name 'allImpactMuts' is not defined",
     "output_type": "error",
     "traceback": [
      "\u001b[0;31m---------------------------------------------------------------------------\u001b[0m",
      "\u001b[0;31mNameError\u001b[0m                                 Traceback (most recent call last)",
      "\u001b[0;32m<ipython-input-1-a94dc8dfbb40>\u001b[0m in \u001b[0;36m<module>\u001b[0;34m()\u001b[0m\n\u001b[0;32m----> 1\u001b[0;31m \u001b[0mallImpactMuts\u001b[0m\u001b[0;34m\u001b[0m\u001b[0m\n\u001b[0m",
      "\u001b[0;31mNameError\u001b[0m: name 'allImpactMuts' is not defined"
     ]
    }
   ],
   "source": [
    "allImpactMuts"
   ]
  },
  {
   "cell_type": "code",
   "execution_count": null,
   "metadata": {},
   "outputs": [],
   "source": []
  },
  {
   "cell_type": "code",
   "execution_count": null,
   "metadata": {},
   "outputs": [],
   "source": []
  },
  {
   "cell_type": "code",
   "execution_count": null,
   "metadata": {},
   "outputs": [],
   "source": []
  },
  {
   "cell_type": "code",
   "execution_count": null,
   "metadata": {},
   "outputs": [],
   "source": []
  }
 ],
 "metadata": {
  "kernelspec": {
   "display_name": "Python 2",
   "language": "python",
   "name": "python2"
  },
  "language_info": {
   "codemirror_mode": {
    "name": "ipython",
    "version": 2
   },
   "file_extension": ".py",
   "mimetype": "text/x-python",
   "name": "python",
   "nbconvert_exporter": "python",
   "pygments_lexer": "ipython2",
   "version": "2.7.15"
  }
 },
 "nbformat": 4,
 "nbformat_minor": 2
}
