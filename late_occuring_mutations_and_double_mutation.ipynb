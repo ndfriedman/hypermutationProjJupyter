{
 "cells": [
  {
   "cell_type": "code",
   "execution_count": 1,
   "metadata": {},
   "outputs": [],
   "source": [
    "import sys\n",
    "import argparse\n",
    "import os\n",
    "import pandas as pd\n",
    "import numpy as np\n",
    "from collections import Counter\n",
    "pathPrefix = '/Users/friedman/Desktop/mnt'\n",
    "\n",
    "sys.path.append(pathPrefix + '/ifs/work/taylorlab/friedman/myUtils')\n",
    "import analysis_utils \n",
    "import mutationSigUtils \n",
    "import maf_analysis_utils\n",
    "import clonality_analysis_util\n",
    "\n",
    "from numpy import array, linspace\n",
    "from sklearn.neighbors.kde import KernelDensity\n",
    "from scipy.signal import argrelextrema"
   ]
  },
  {
   "cell_type": "code",
   "execution_count": null,
   "metadata": {
    "scrolled": true
   },
   "outputs": [],
   "source": [
    "allImpactMuts = analysis_utils.load_in_df_with_progress(filePath = pathPrefix + '/ifs/work/taylorlab/friedman/hypermutationAnalysisProj/projectDataAndConfigFiles/all_impact_mutations_annotated_cohort.maf', nLinesFile = 275000)"
   ]
  },
  {
   "cell_type": "code",
   "execution_count": 3,
   "metadata": {},
   "outputs": [
    {
     "name": "stderr",
     "output_type": "stream",
     "text": [
      "/anaconda2/lib/python2.7/site-packages/IPython/core/interactiveshell.py:2714: DtypeWarning: Columns (17,18,19,45,46,48,50,51,52,53,54,55,56,57,60,61,62,63,64,65,74,75,76,77,78,80,81,85,86,89,90,91,92,93,98,101,102,103,104,105,106,107,108,110,111,112,113,114,115,116,117,121) have mixed types. Specify dtype option on import or set low_memory=False.\n",
      "  interactivity=interactivity, compiler=compiler, result=result)\n"
     ]
    }
   ],
   "source": [
    "endometrialDf = pd.read_table(pathPrefix + '/ifs/work/taylorlab/friedman/myAdjustedDataFiles/subsettedMafs/Endometrial_HypermutantCaseMuts_MAF_ANNO.maf')\n",
    "colorectalDf = pd.read_table(pathPrefix + '/ifs/work/taylorlab/friedman/myAdjustedDataFiles/subsettedMafs/Colorectal_HypermutantCaseMuts_MAF_ANNO.maf')\n",
    "gliomaDf = pd.read_table(pathPrefix + '/ifs/work/taylorlab/friedman/myAdjustedDataFiles/subsettedMafs/Glioma_HypermutantCaseMuts_MAF_ANNO.maf')\n"
   ]
  },
  {
   "cell_type": "markdown",
   "metadata": {},
   "source": [
    "**Subclone analysis**\n",
    "We manually identify cases with obvious subclones by going through cbio portal and marking cases with obvious bimodal distributions\n",
    "We then do a clustering of the VAFs to identify the clonal and subclonal mutations"
   ]
  },
  {
   "cell_type": "code",
   "execution_count": 4,
   "metadata": {},
   "outputs": [],
   "source": [
    "#NOTE THIS METHOD ONLY PROVIDES REASONABLE RESULTS ON CASES ALREADY PRECURATED TO HAVE A SUBCLONE\n",
    "\n",
    "from sklearn.cluster import MeanShift\n",
    "def assign_variants_to_clonal_cluster(vafs, ids):\n",
    "    \n",
    "    #mark which clusters returned by the clustering are clonal by iterating over clusters by mean vaf \n",
    "    #and returning the clusters once we have at least minClonalMuts mutations accumulated\n",
    "    def assign_clonal_subclonal_clusters(clusterDf, minClonalMuts = 10):\n",
    "        l = []\n",
    "        for cluster in set(df['cluster']):\n",
    "            clusterDf = df[df['cluster'] == cluster]\n",
    "            l.append((np.nanmean(clusterDf['vaf']), clusterDf.shape[0], cluster))\n",
    "        runningMutSum = 0\n",
    "        clonalClusters = []\n",
    "        for meanVaf, nMut, cluster in sorted(l, reverse=True):\n",
    "            clonalClusters.append(cluster)\n",
    "            runningMutSum += nMut\n",
    "            if runningMutSum >= minClonalMuts:\n",
    "                return clonalClusters\n",
    "    \n",
    "    a = np.array(vafs).reshape(-1, 1)\n",
    "    clustering = MeanShift().fit(a)\n",
    "    prediction = clustering.predict(a)\n",
    "    \n",
    "    #We make a dataframe \n",
    "    listOfDicts = []\n",
    "    la = list(a)\n",
    "    lp = list(prediction)\n",
    "    for i in range(0, len(list(a))):\n",
    "        listOfDicts.append({\n",
    "            'vaf': la[i], 'cluster': lp[i], 'varUuid': ids[i]\n",
    "        })\n",
    "    df = pd.DataFrame(listOfDicts)\n",
    "    \n",
    "    minCMut = max(.1*df.shape[0], 10) #at least 10% of mutation in every case are called clonal\n",
    "    clonalClusters = assign_clonal_subclonal_clusters(df, minClonalMuts = minCMut)\n",
    "    df['clonal'] = df['cluster'].apply(lambda x: True if x in clonalClusters else False)\n",
    "    return dict(zip(df['varUuid'], df['clonal']))"
   ]
  },
  {
   "cell_type": "code",
   "execution_count": 5,
   "metadata": {
    "scrolled": false
   },
   "outputs": [],
   "source": [
    "endometrialDf['varUuid'] = endometrialDf['Hugo_Symbol'] + '_' + endometrialDf['HGVSp_Short']\n",
    "endometrialDf['varCaseUuid'] = endometrialDf['Tumor_Sample_Barcode'] + '_' + endometrialDf['varUuid']\n",
    "endometrialDf = endometrialDf[endometrialDf['varUuid'].notnull()]\n",
    "endometrialDf['isBalanced'] = endometrialDf.apply(lambda row: True if row['tcn'] - row['lcn'] == row['lcn'] else False, axis=1)\n",
    "endometrialDfBalanced = endometrialDf[endometrialDf['isBalanced'] == True]\n",
    "#TODO filter out MVISH mutations as well"
   ]
  },
  {
   "cell_type": "code",
   "execution_count": 6,
   "metadata": {},
   "outputs": [],
   "source": [
    "colorectalDf['varUuid'] = colorectalDf['Hugo_Symbol'] + '_' + colorectalDf['HGVSp_Short']\n",
    "colorectalDf['varCaseUuid'] = colorectalDf['Tumor_Sample_Barcode'] + '_' + colorectalDf['varUuid']\n",
    "colorectalDf = colorectalDf[colorectalDf['varUuid'].notnull()]\n",
    "colorectalDf['isBalanced'] = colorectalDf.apply(lambda row: True if row['tcn'] - row['lcn'] == row['lcn'] else False, axis=1)\n",
    "colorectalDfBalanced = colorectalDf[colorectalDf['isBalanced'] == True]"
   ]
  },
  {
   "cell_type": "code",
   "execution_count": 7,
   "metadata": {},
   "outputs": [],
   "source": [
    "f = open(pathPrefix + '/ifs/work/taylorlab/friedman/hypermutationAnalysisProj/projectDataAndConfigFiles/endometrialHypermutatedWithSubclones.txt')\n",
    "lines = f.readlines()\n",
    "endoSubcloneCases = set([])\n",
    "for line in lines:\n",
    "    endoSubcloneCases.add(line.strip('\\n'))\n"
   ]
  },
  {
   "cell_type": "code",
   "execution_count": null,
   "metadata": {},
   "outputs": [],
   "source": [
    "#DO the same thing for colon"
   ]
  },
  {
   "cell_type": "code",
   "execution_count": 8,
   "metadata": {},
   "outputs": [],
   "source": [
    "f = open(pathPrefix + '/ifs/work/taylorlab/friedman/hypermutationAnalysisProj/projectDataAndConfigFiles/colorectalHypermutatedWithSubclones.txt')\n",
    "lines = f.readlines()\n",
    "coloSubcloneCases = set([])\n",
    "for line in lines:\n",
    "    coloSubcloneCases.add(line.strip('\\n'))"
   ]
  },
  {
   "cell_type": "code",
   "execution_count": 9,
   "metadata": {},
   "outputs": [],
   "source": [
    "def add_clonal_calls_to_maf(maf, cases):\n",
    "    maf['isClonal'] = None\n",
    "    cntr = 0\n",
    "    for case in cases:\n",
    "        cntr += 1\n",
    "        if cntr%5 == 0: \n",
    "            print cntr\n",
    "        caseMaf = maf[maf['Tumor_Sample_Barcode'] == case]\n",
    "        if caseMaf.shape[0] > 0:\n",
    "            caseIds = list(caseMaf['varUuid'])\n",
    "            caseVafs = list(caseMaf['t_var_freq'])\n",
    "            isClonalDict = assign_variants_to_clonal_cluster(caseVafs, caseIds)\n",
    "            maf['isClonal'] = maf.apply(lambda row: \n",
    "                                        isClonalDict[row['varUuid']] if row['Tumor_Sample_Barcode'] == case and row['varUuid'] in isClonalDict \n",
    "                                        else row['isClonal'], axis=1)\n",
    "    return maf\n"
   ]
  },
  {
   "cell_type": "code",
   "execution_count": 10,
   "metadata": {
    "scrolled": false
   },
   "outputs": [],
   "source": [
    "#TODO signatures of each clone\n",
    "def assess_tumor_suppressor_characteristics_of_mutations(analyzeMaf, geneSizeInfo):\n",
    "    tumorSuppressors = set(['ERRFI1', 'ASXL2', 'PMAIP1', 'ACTG1', 'SUFU', 'FBXO11', 'MEN1', 'FAM58A', 'B2M', 'RB1', 'DUSP22', 'SESN1', 'GPS2', 'RAD51D', 'SMG1', 'CDC73', 'MAP3K1', 'SMARCB1', 'INPP4B', 'PARK2', 'SMAD4', 'CBFB', 'CDH1', 'PPP6C', 'SETDB1', 'SETDB2', 'NF2', 'CDKN2B', 'CDKN2C', 'CDKN2A', 'DDX3X', 'PIK3R1', 'BARD1', 'PDS5B', 'KLF4', 'SPRED1', 'VHL', 'SMAD2', 'PMS1', 'PMS2', 'SETD2', 'GATA3', 'TBL1XR1', 'MUTYH', 'SOCS1', 'FAM175A', 'ROBO1', 'ARID1B', 'ARID1A', 'TCF7L2', 'STK11', 'FOXA1', 'PTEN', 'FAT1', 'FAS', 'CYLD', 'MAX', 'SH2D1A', 'APC', 'NTHL1', 'CTCF', 'KDM5C', 'KMT2C', 'ZFHX3', 'FOXP1', 'PIGA', 'CDKN1B', 'CDKN1A', 'FUBP1', 'MSH2', 'ID3', 'TNFRSF14', 'TRAF3', 'EP400', 'BRIP1', 'ARID4A', 'ARID4B', 'XRCC2', 'DAXX', 'SDHAF2', 'ASXL1', 'AMER1', 'RASA1', 'EGR1', 'MST1', 'SOX17', 'RUNX1', 'PIK3R3', 'NCOR1', 'NF1', 'JAK1', 'PTPRD', 'CHEK2', 'CHEK1', 'SMC1A', 'TMEM127', 'STAG1', 'RAD51', 'TCF3', 'STAG2', 'ARID2', 'RAD50', 'RNF43', 'PARP1', 'BLM', 'CUX1', 'RECQL', 'RAD21', 'PTPN2', 'PTPN1', 'SLX4', 'INHA', 'PAX5', 'IRF1', 'TP53', 'HLA-A', 'IRF8', 'CBL', 'TOP1', 'SHQ1', 'PRDM1', 'NSD1', 'ATXN2', 'CREBBP', 'HDAC4', 'SESN2', 'PPP2R1A', 'EPHA7', 'ATM', 'EPHA3', 'POT1', 'SMAD3', 'MOB3B', 'TBX3', 'POLE', 'ATR', 'FANCD2', 'FH', 'BCORL1', 'SOX9', 'IKZF3', 'TSC1', 'TP63', 'MRE11A', 'SDHC', 'BTG1', 'POLD1', 'CIITA', 'SMC3', 'SAMHD1', 'RTEL1', 'ECT2L', 'PIK3R2', 'CRBN', 'FANCC', 'NBN', 'FANCA', 'HLA-B', 'RECQL4', 'DUSP4', 'ERCC2', 'FBXW7', 'TGFBR2', 'TGFBR1', 'MSH3', 'RBM15', 'TET1', 'TET3', 'SESN3', 'MGA', 'LTB', 'FOXL2', 'SH2B3', 'BCOR', 'HIST1H1D', 'ATRX', 'EP300', 'RAD51C', 'RAD51B', 'HIST1H1B', 'TNFAIP3', 'DICER1', 'ARID5B', 'LATS2', 'FOXO1', 'KEAP1', 'EZH2', 'SP140', 'NKX3-1', 'PBRM1', 'PALB2', 'CIC', 'BRCA1', 'DTX1', 'FLCN', 'SPEN', 'CD58', 'ERCC3', 'ERCC4', 'MSH6', 'BCL11B', 'BMPR1A', 'ERF', 'BRCA2', 'NOTCH2', 'EED', 'MITF', 'ELF3', 'SMARCA4', 'BBC3', 'ANKRD11', 'CEBPA', 'BCL2L11', 'AXIN2', 'AXIN1', 'CDK12', 'ESCO2', 'MLH1', 'SDHB', 'MED12', 'HNF1A', 'RYBP', 'ATP6V1B2', 'DNMT3B', 'KMT2B', 'KMT2A', 'DNMT3A', 'NFKBIA', 'TRAF5', 'KMT2D', 'SPOP', 'RBM10', 'P2RY8', 'TP53BP1', 'TSC2', 'KDM6A', 'EPCAM', 'PHOX2B', 'NPM1', 'BCL10', 'LATS1', 'HOXB13', 'ARID3A', 'PTPRT', 'PTPRS', 'INPPL1', 'NOTCH4', 'TET2', 'NOTCH1', 'CASP8', 'NOTCH3', 'GRIN2A', 'MAP2K4', 'WT1', 'BACH2', 'SDHA', 'BAP1', 'PTCH1', 'SDHD'])\n",
    "    \n",
    "    #MAKE THE TUMOR suppressors specific to the panel in question\n",
    "    im3TumorSuppressors = tumorSuppressors & set(geneSizeInfo.keys()) & set(['ABL1', 'AKT1', 'AKT2', 'AKT3', 'ALK', 'ALOX12B', 'APC', 'AR', 'ARAF', 'ARID1A', 'ARID1B', 'ARID2', 'ARID5B', 'ASXL1', 'ASXL2', 'ATM', 'ATR', 'ATRX', 'AURKA', 'AURKB', 'AXIN1', 'AXIN2', 'AXL', 'B2M', 'BAP1', 'BARD1', 'BBC3', 'BCL2', 'BCL2L1', 'BCL2L11', 'BCL6', 'BCOR', 'BLM', 'BMPR1A', 'BRAF', 'BRCA1', 'BRCA2', 'BRD4', 'BRIP1', 'BTK', 'CARD11', 'CASP8', 'CBFB', 'CBL', 'CCND1', 'CCND2', 'CCND3', 'CCNE1', 'CD274', 'CD276', 'CD79B', 'CDC73', 'CDH1', 'CDK12', 'CDK4', 'CDK6', 'CDK8', 'CDKN1A', 'CDKN1B', 'CDKN2A', 'CDKN2B', 'CDKN2C', 'CHEK1', 'CHEK2', 'CIC', 'CREBBP', 'CRKL', 'CRLF2', 'CSF1R', 'CTCF', 'CTLA4', 'CTNNB1', 'CUL3', 'DAXX', 'DCUN1D1', 'DDR2', 'DICER1', 'DIS3', 'DNMT1', 'DNMT3A', 'DNMT3B', 'DOT1L', 'E2F3', 'EED', 'EGFL7', 'EGFR', 'EIF1AX', 'EP300', 'EPCAM', 'EPHA3', 'EPHA5', 'EPHB1', 'ERBB2', 'ERBB3', 'ERBB4', 'ERCC2', 'ERCC3', 'ERCC4', 'ERCC5', 'ERG', 'ESR1', 'ETV1', 'ETV6', 'EZH2', 'FAM123B', 'FAM175A', 'FAM46C', 'FANCA', 'FANCC', 'FAT1', 'FBXW7', 'FGF19', 'FGF3', 'FGF4', 'FGFR1', 'FGFR2', 'FGFR3', 'FGFR4', 'FH', 'FLCN', 'FLT1', 'FLT3', 'FLT4', 'FOXA1', 'FOXL2', 'FOXP1', 'FUBP1', 'GATA1', 'GATA2', 'GATA3', 'GNA11', 'GNAQ', 'GNAS', 'GREM1', 'GRIN2A', 'GSK3B', 'H3F3C', 'HGF', 'HIST1H1C', 'HIST1H2BD', 'HIST1H3B', 'HNF1A', 'HRAS', 'ICOSLG', 'IDH1', 'IDH2', 'IFNGR1', 'IGF1', 'IGF1R', 'IGF2', 'IKBKE', 'IKZF1', 'IL10', 'IL7R', 'INPP4A', 'INPP4B', 'INSR', 'IRF4', 'IRS1', 'IRS2', 'JAK1', 'JAK2', 'JAK3', 'JUN', 'KDM5A', 'KDM5C', 'KDM6A', 'KDR', 'KEAP1', 'KIT', 'KLF4', 'KRAS', 'LATS1', 'LATS2', 'LMO1', 'MAP2K1', 'MAP2K2', 'MAP2K4', 'MAP3K1', 'MAP3K13', 'MAPK1', 'MAX', 'MCL1', 'MDC1', 'MDM2', 'MDM4', 'MED12', 'MEF2B', 'MEN1', 'MET', 'MITF', 'MLH1', 'MLL', 'MLL2', 'MLL3', 'MPL', 'MRE11A', 'MSH2', 'MSH6', 'MTOR', 'MUTYH', 'MYC', 'MYCL1', 'MYCN', 'MYD88', 'MYOD1', 'NBN', 'NCOR1', 'NF1', 'NF2', 'NFE2L2', 'NKX2-1', 'NKX3-1', 'NOTCH1', 'NOTCH2', 'NOTCH3', 'NOTCH4', 'NPM1', 'NRAS', 'NSD1', 'NTRK1', 'NTRK2', 'NTRK3', 'PAK1', 'PAK7', 'PALB2', 'PARK2', 'PARP1', 'PAX5', 'PBRM1', 'PDCD1', 'PDGFRA', 'PDGFRB', 'PDPK1', 'PHOX2B', 'PIK3C2G', 'PIK3C3', 'PIK3CA', 'PIK3CB', 'PIK3CD', 'PIK3CG', 'PIK3R1', 'PIK3R2', 'PIK3R3', 'PIM1', 'PLK2', 'PMAIP1', 'PMS1', 'PMS2', 'PNRC1', 'POLE', 'PPP2R1A', 'PRDM1', 'PRKAR1A', 'PTCH1', 'PTEN', 'PTPN11', 'PTPRD', 'PTPRS', 'PTPRT', 'RAC1', 'RAD50', 'RAD51', 'RAD51B', 'RAD51C', 'RAD51D', 'RAD52', 'RAD54L', 'RAF1', 'RARA', 'RASA1', 'RB1', 'RBM10', 'RECQL4', 'REL', 'RET', 'RFWD2', 'RHOA', 'RICTOR', 'RIT1', 'RNF43', 'ROS1', 'RPS6KA4', 'RPS6KB2', 'RPTOR', 'RUNX1', 'RYBP', 'SDHA', 'SDHAF2', 'SDHB', 'SDHC', 'SDHD', 'SETD2', 'SF3B1', 'SH2D1A', 'SHQ1', 'SMAD2', 'SMAD3', 'SMAD4', 'SMARCA4', 'SMARCB1', 'SMARCD1', 'SMO', 'SOCS1', 'SOX17', 'SOX2', 'SOX9', 'SPEN', 'SPOP', 'SRC', 'STAG2', 'STK11', 'STK40', 'SUFU', 'SUZ12', 'SYK', 'TBX3', 'TERT', 'TET1', 'TET2', 'TGFBR1', 'TGFBR2', 'TMEM127', 'TMPRSS2', 'TNFAIP3', 'TNFRSF14', 'TOP1', 'TP53', 'TP63', 'TRAF7', 'TSC1', 'TSC2', 'TSHR', 'U2AF1', 'VHL', 'VTCN1', 'WT1', 'XIAP', 'XPO1', 'YAP1', 'YES1'])\n",
    "    im5TumorSuppressors = tumorSuppressors & set(geneSizeInfo.keys()) & set(['ABL1', 'ACVR1', 'AKT1', 'AKT2', 'AKT3', 'ALK', 'ALOX12B', 'ANKRD11', 'APC', 'AR', 'ARAF', 'ARID1A', 'ARID1B', 'ARID2', 'ARID5B', 'ASXL1', 'ASXL2', 'ATM', 'ATR', 'ATRX', 'AURKA', 'AURKB', 'AXIN1', 'AXIN2', 'AXL', 'B2M', 'BAP1', 'BARD1', 'BBC3', 'BCL10', 'BCL2', 'BCL2L1', 'BCL2L11', 'BCL6', 'BCOR', 'BIRC3', 'BLM', 'BMPR1A', 'BRAF', 'BRCA1', 'BRCA2', 'BRD4', 'BRIP1', 'BTK', 'CALR', 'CARD11', 'CASP8', 'CBFB', 'CBL', 'CCND1', 'CCND2', 'CCND3', 'CCNE1', 'CD274', 'CD276', 'CD79A', 'CD79B', 'CDC73', 'CDH1', 'CDK12', 'CDK4', 'CDK6', 'CDK8', 'CDKN1A', 'CDKN1B', 'CDKN2A', 'CDKN2B', 'CDKN2C', 'CEBPA', 'CENPA', 'CHEK1', 'CHEK2', 'CIC', 'CREBBP', 'CRKL', 'CRLF2', 'CSF1R', 'CSF3R', 'CTCF', 'CTLA4', 'CTNNB1', 'CUL3', 'CXCR4', 'DAXX', 'DCUN1D1', 'DDR2', 'DICER1', 'DIS3', 'DNAJB1', 'DNMT1', 'DNMT3A', 'DNMT3B', 'DOT1L', 'E2F3', 'EED', 'EGFL7', 'EGFR', 'EIF1AX', 'EIF4A2', 'EIF4E', 'EP300', 'EPCAM', 'EPHA3', 'EPHA5', 'EPHA7', 'EPHB1', 'ERBB2', 'ERBB3', 'ERBB4', 'ERCC2', 'ERCC3', 'ERCC4', 'ERCC5', 'ERG', 'ERRFI1', 'ESR1', 'ETV1', 'ETV6', 'EZH2', 'FAM123B', 'FAM175A', 'FAM46C', 'FANCA', 'FANCC', 'FAT1', 'FBXW7', 'FGF19', 'FGF3', 'FGF4', 'FGFR1', 'FGFR2', 'FGFR3', 'FGFR4', 'FH', 'FLCN', 'FLT1', 'FLT3', 'FLT4', 'FOXA1', 'FOXL2', 'FOXO1', 'FOXP1', 'FUBP1', 'FYN', 'GATA1', 'GATA2', 'GATA3', 'GLI1', 'GNA11', 'GNAQ', 'GNAS', 'GPS2', 'GREM1', 'GRIN2A', 'GSK3B', 'H3F3A', 'H3F3B', 'H3F3C', 'HGF', 'HIST1H1C', 'HIST1H2BD', 'HIST1H3A', 'HIST1H3B', 'HIST1H3C', 'HIST1H3D', 'HIST1H3E', 'HIST1H3F', 'HIST1H3G', 'HIST1H3H', 'HIST1H3I', 'HIST1H3J', 'HIST2H3C', 'HIST2H3D', 'HIST3H3', 'HLA-A', 'HNF1A', 'HOXB13', 'HRAS', 'ICOSLG', 'ID3', 'IDH1', 'IDH2', 'IFNGR1', 'IGF1', 'IGF1R', 'IGF2', 'IKBKE', 'IKZF1', 'IL10', 'IL7R', 'INHA', 'INHBA', 'INPP4A', 'INPP4B', 'INSR', 'IRF4', 'IRS1', 'IRS2', 'JAK1', 'JAK2', 'JAK3', 'JUN', 'KDM5A', 'KDM5C', 'KDM6A', 'KDR', 'KEAP1', 'KIT', 'KLF4', 'KRAS', 'LATS1', 'LATS2', 'LMO1', 'MALT1', 'MAP2K1', 'MAP2K2', 'MAP2K4', 'MAP3K1', 'MAP3K13', 'MAP3K14', 'MAPK1', 'MAPK3', 'MAX', 'MCL1', 'MDC1', 'MDM2', 'MDM4', 'MED12', 'MEF2B', 'MEN1', 'MET', 'MGA', 'MITF', 'MLH1', 'MLL', 'MLL2', 'MLL3', 'MPL', 'MRE11A', 'MSH2', 'MSH6', 'MST1', 'MST1R', 'MTOR', 'MUTYH', 'MYC', 'MYCL1', 'MYCN', 'MYD88', 'MYOD1', 'NBN', 'NCOA3', 'NCOR1', 'NEGR1', 'NF1', 'NF2', 'NFE2L2', 'NFKBIA', 'NKX2-1', 'NKX3-1', 'NOTCH1', 'NOTCH2', 'NOTCH3', 'NOTCH4', 'NPM1', 'NRAS', 'NSD1', 'NTRK1', 'NTRK2', 'NTRK3', 'NUP93', 'PAK1', 'PAK7', 'PALB2', 'PARK2', 'PARP1', 'PAX5', 'PBRM1', 'PDCD1', 'PDGFRA', 'PDGFRB', 'PDPK1', 'PGR', 'PHOX2B', 'PIK3C2G', 'PIK3C3', 'PIK3CA', 'PIK3CB', 'PIK3CD', 'PIK3CG', 'PIK3R1', 'PIK3R2', 'PIK3R3', 'PIM1', 'PLCG2', 'PLK2', 'PMAIP1', 'PMS1', 'PMS2', 'PNRC1', 'POLD1', 'POLE', 'PPM1D', 'PPP2R1A', 'PPP6C', 'PRDM1', 'PRKAR1A', 'PTCH1', 'PTEN', 'PTPN11', 'PTPRD', 'PTPRS', 'PTPRT', 'RAB35', 'RAC1', 'RAD21', 'RAD50', 'RAD51', 'RAD51B', 'RAD51C', 'RAD51D', 'RAD52', 'RAD54L', 'RAF1', 'RARA', 'RASA1', 'RB1', 'RBM10', 'RECQL4', 'REL', 'RET', 'RFWD2', 'RHEB', 'RHOA', 'RICTOR', 'RIT1', 'RNF43', 'ROS1', 'RPS6KA4', 'RPS6KB2', 'RPTOR', 'RUNX1', 'RYBP', 'SDHA', 'SDHAF2', 'SDHB', 'SDHC', 'SDHD', 'SETD2', 'SF3B1', 'SH2B3', 'SH2D1A', 'SHQ1', 'SMAD2', 'SMAD3', 'SMAD4', 'SMARCA4', 'SMARCB1', 'SMARCD1', 'SMO', 'SOCS1', 'SOX17', 'SOX2', 'SOX9', 'SPEN', 'SPOP', 'SRC', 'SRSF2', 'STAG2', 'STAT3', 'STAT5A', 'STAT5B', 'STK11', 'STK40', 'SUFU', 'SUZ12', 'SYK', 'TBX3', 'TCEB1', 'TCF3', 'TCF7L2', 'TERT', 'TET1', 'TET2', 'TGFBR1', 'TGFBR2', 'TMEM127', 'TMPRSS2', 'TNFAIP3', 'TNFRSF14', 'TOP1', 'TP53', 'TP63', 'TRAF2', 'TRAF7', 'TSC1', 'TSC2', 'TSHR', 'U2AF1', 'VEGFA', 'VHL', 'VTCN1', 'WT1', 'XIAP', 'XPO1', 'XRCC2', 'YAP1', 'YES1', 'ZFHX3', 'ZRSR2'])\n",
    "    im6TumorSuppressors = tumorSuppressors & set(geneSizeInfo.keys()) & set(['ABL1', 'ACVR1', 'AGO2', 'AKT1', 'AKT2', 'AKT3', 'ALK', 'ALOX12B', 'AMER1', 'ANKRD11', 'APC', 'AR', 'ARAF', 'ARID1A', 'ARID1B', 'ARID2', 'ARID5B', 'ASXL1', 'ASXL2', 'ATM', 'ATR', 'ATRX', 'AURKA', 'AURKB', 'AXIN1', 'AXIN2', 'AXL', 'B2M', 'BABAM1', 'BAP1', 'BARD1', 'BBC3', 'BCL10', 'BCL2', 'BCL2L1', 'BCL2L11', 'BCL6', 'BCOR', 'BIRC3', 'BLM', 'BMPR1A', 'BRAF', 'BRCA1', 'BRCA2', 'BRD4', 'BRIP1', 'BTK', 'CALR', 'CARD11', 'CARM1', 'CASP8', 'CBFB', 'CBL', 'CCND1', 'CCND2', 'CCND3', 'CCNE1', 'CD274', 'CD276', 'CD79A', 'CD79B', 'CDC42', 'CDC73', 'CDH1', 'CDK12', 'CDK4', 'CDK6', 'CDK8', 'CDKN1A', 'CDKN1B', 'CDKN2A', 'CDKN2B', 'CDKN2C', 'CEBPA', 'CENPA', 'CHEK1', 'CHEK2', 'CIC', 'CREBBP', 'CRKL', 'CRLF2', 'CSDE1', 'CSF1R', 'CSF3R', 'CTCF', 'CTLA4', 'CTNNB1', 'CUL3', 'CXCR4', 'CYLD', 'CYSLTR2', 'DAXX', 'DCUN1D1', 'DDR2', 'DICER1', 'DIS3', 'DNAJB1', 'DNMT1', 'DNMT3A', 'DNMT3B', 'DOT1L', 'DROSHA', 'DUSP4', 'E2F3', 'EED', 'EGFL7', 'EGFR', 'EIF1AX', 'EIF4A2', 'EIF4E', 'ELF3', 'EP300', 'EPAS1', 'EPCAM', 'EPHA3', 'EPHA5', 'EPHA7', 'EPHB1', 'ERBB2', 'ERBB3', 'ERBB4', 'ERCC2', 'ERCC3', 'ERCC4', 'ERCC5', 'ERF', 'ERG', 'ERRFI1', 'ESR1', 'ETV1', 'ETV6', 'EZH1', 'EZH2', 'FAM175A', 'FAM46C', 'FAM58A', 'FANCA', 'FANCC', 'FAT1', 'FBXW7', 'FGF19', 'FGF3', 'FGF4', 'FGFR1', 'FGFR2', 'FGFR3', 'FGFR4', 'FH', 'FLCN', 'FLT1', 'FLT3', 'FLT4', 'FOXA1', 'FOXL2', 'FOXO1', 'FOXP1', 'FUBP1', 'FYN', 'GATA1', 'GATA2', 'GATA3', 'GLI1', 'GNA11', 'GNAQ', 'GNAS', 'GPS2', 'GREM1', 'GRIN2A', 'GSK3B', 'GTF2I', 'H3F3A', 'H3F3B', 'H3F3C', 'HGF', 'HIST1H1C', 'HIST1H2BD', 'HIST1H3A', 'HIST1H3B', 'HIST1H3C', 'HIST1H3D', 'HIST1H3E', 'HIST1H3F', 'HIST1H3G', 'HIST1H3H', 'HIST1H3I', 'HIST1H3J', 'HIST2H3C', 'HIST2H3D', 'HIST3H3', 'HLA-A', 'HLA-B', 'HNF1A', 'HOXB13', 'HRAS', 'ICOSLG', 'ID3', 'IDH1', 'IDH2', 'IFNGR1', 'IGF1', 'IGF1R', 'IGF2', 'IKBKE', 'IKZF1', 'IL10', 'IL7R', 'INHA', 'INHBA', 'INPP4A', 'INPP4B', 'INPPL1', 'INSR', 'IRF4', 'IRS1', 'IRS2', 'JAK1', 'JAK2', 'JAK3', 'JUN', 'KDM5A', 'KDM5C', 'KDM6A', 'KDR', 'KEAP1', 'KIT', 'KLF4', 'KNSTRN', 'KRAS', 'LATS1', 'LATS2', 'LMO1', 'LYN', 'MALT1', 'MAP2K1', 'MAP2K2', 'MAP2K4', 'MAP3K1', 'MAP3K13', 'MAP3K14', 'MAPK1', 'MAPK3', 'MAPKAP1', 'MAX', 'MCL1', 'MDC1', 'MDM2', 'MDM4', 'MED12', 'MEF2B', 'MEN1', 'MET', 'MGA', 'MITF', 'MLH1', 'MLL', 'MLL2', 'MLL3', 'MLL4', 'MPL', 'MRE11A', 'MSH2', 'MSH3', 'MSH6', 'MSI1', 'MSI2', 'MST1', 'MST1R', 'MTOR', 'MUTYH', 'MYC', 'MYCL1', 'MYCN', 'MYD88', 'MYOD1', 'NBN', 'NCOA3', 'NCOR1', 'NEGR1', 'NF1', 'NF2', 'NFE2L2', 'NFKBIA', 'NKX2-1', 'NKX3-1', 'NOTCH1', 'NOTCH2', 'NOTCH3', 'NOTCH4', 'NPM1', 'NRAS', 'NSD1', 'NTHL1', 'NTRK1', 'NTRK2', 'NTRK3', 'NUF2', 'NUP93', 'PAK1', 'PAK7', 'PALB2', 'PARK2', 'PARP1', 'PAX5', 'PBRM1', 'PDCD1', 'PDCD1LG2', 'PDGFRA', 'PDGFRB', 'PDPK1', 'PGR', 'PHOX2B', 'PIK3C2G', 'PIK3C3', 'PIK3CA', 'PIK3CB', 'PIK3CD', 'PIK3CG', 'PIK3R1', 'PIK3R2', 'PIK3R3', 'PIM1', 'PLCG2', 'PLK2', 'PMAIP1', 'PMS1', 'PMS2', 'PNRC1', 'POLD1', 'POLE', 'PPARG', 'PPM1D', 'PPP2R1A', 'PPP4R2', 'PPP6C', 'PRDM1', 'PRDM14', 'PREX2', 'PRKAR1A', 'PRKCI', 'PRKD1', 'PTCH1', 'PTEN', 'PTP4A1', 'PTPN11', 'PTPRD', 'PTPRS', 'PTPRT', 'RAB35', 'RAC1', 'RAC2', 'RAD21', 'RAD50', 'RAD51', 'RAD51B', 'RAD51C', 'RAD51D', 'RAD52', 'RAD54L', 'RAF1', 'RARA', 'RASA1', 'RB1', 'RBM10', 'RECQL', 'RECQL4', 'REL', 'RET', 'RFWD2', 'RHEB', 'RHOA', 'RICTOR', 'RIT1', 'RNF43', 'ROS1', 'RPS6KA4', 'RPS6KB2', 'RPTOR', 'RRAGC', 'RRAS', 'RRAS2', 'RTEL1', 'RUNX1', 'RXRA', 'RYBP', 'SDHA', 'SDHAF2', 'SDHB', 'SDHC', 'SDHD', 'SESN1', 'SESN2', 'SESN3', 'SETD2', 'SETD8', 'SF3B1', 'SH2B3', 'SH2D1A', 'SHOC2', 'SHQ1', 'SLX4', 'SMAD2', 'SMAD3', 'SMAD4', 'SMARCA4', 'SMARCB1', 'SMARCD1', 'SMO', 'SMYD3', 'SOCS1', 'SOS1', 'SOX17', 'SOX2', 'SOX9', 'SPEN', 'SPOP', 'SPRED1', 'SRC', 'SRSF2', 'STAG2', 'STAT3', 'STAT5A', 'STAT5B', 'STK11', 'STK19', 'STK40', 'SUFU', 'SUZ12', 'SYK', 'TAP1', 'TAP2', 'TBX3', 'TCEB1', 'TCF3', 'TCF7L2', 'TEK', 'TERT', 'TET1', 'TET2', 'TGFBR1', 'TGFBR2', 'TMEM127', 'TMPRSS2', 'TNFAIP3', 'TNFRSF14', 'TOP1', 'TP53', 'TP53BP1', 'TP63', 'TRAF2', 'TRAF7', 'TSC1', 'TSC2', 'TSHR', 'U2AF1', 'UPF1', 'VEGFA', 'VHL', 'VTCN1', 'WHSC1', 'WHSC1L1', 'WT1', 'WWTR1', 'XIAP', 'XPO1', 'XRCC2', 'YAP1', 'YES1', 'ZFHX3', 'ZRSR2']) \n",
    "\n",
    "    listOfDicts = []\n",
    "    for case in set(analyzeMaf['Tumor_Sample_Barcode']):\n",
    "        caseMaf = analyzeMaf[analyzeMaf['Tumor_Sample_Barcode'] == case]\n",
    "        caseTumorSuppressors = None\n",
    "        if 'IM3' in case: caseTumorSuppressors = im3TumorSuppressors\n",
    "        elif 'IM5' in case: caseTumorSuppressors = im5TumorSuppressors\n",
    "        elif 'IM6' in case: caseTumorSuppressors = im6TumorSuppressors\n",
    "        \n",
    "        #count n hotspots, n oncogenic\n",
    "        allClonalMuts = caseMaf[caseMaf['isClonal'] == True]\n",
    "        allSubclonalMuts = caseMaf[caseMaf['isClonal'] == False]\n",
    "        clonalHotspotMuts = allClonalMuts[allClonalMuts['is-a-hotspot'] == 'Y']\n",
    "        subclonalHotspotMuts = allSubclonalMuts[allSubclonalMuts['is-a-hotspot'] == 'Y']\n",
    "        clonalOncMuts = allClonalMuts[(allClonalMuts['oncogenic'].notnull())]\n",
    "        subclonalOncMuts = allSubclonalMuts[allSubclonalMuts['oncogenic'].notnull()]\n",
    "        subclonalHotspotGenes = ';'.join(list(subclonalHotspotMuts['Hugo_Symbol']))\n",
    "        \n",
    "        #we subset a maf to be only oncogenuc tumor suppressors from here on out only after counting hotspots etc\n",
    "        caseMafOnc = caseMaf[caseMaf['oncogenic'].notnull()]\n",
    "        tsMaf = caseMafOnc[caseMafOnc['Hugo_Symbol'].isin(caseTumorSuppressors)]\n",
    "        clonalOncMuts = tsMaf[tsMaf['isClonal'] == True]\n",
    "        subclonalOncMuts = tsMaf[tsMaf['isClonal'] == False]\n",
    "        \n",
    "        #SECOND HITS to tumor suppressors\n",
    "        isSingleOncMutatedDict = dict(clonalOncMuts['Hugo_Symbol'].value_counts() < 2)\n",
    "        genesSingleMutatedClonal = set([i[0] for i in isSingleOncMutatedDict.items() if i[1] == True])\n",
    "        genesNotSingleMutatedClonal = caseTumorSuppressors - genesSingleMutatedClonal\n",
    "        genesSubclonallyMutated = set(subclonalOncMuts['Hugo_Symbol'])\n",
    "        subclonalSecondHits = genesSingleMutatedClonal & genesSubclonallyMutated\n",
    "        subclonalNotSecondHits = genesSubclonallyMutated - subclonalSecondHits\n",
    "        \n",
    "        #Double mutated de novo\n",
    "        subclonalNmutDict = dict(subclonalOncMuts['Hugo_Symbol'].value_counts() > 1)\n",
    "        subclonalDoubleMuts = [key for key, value in subclonalNmutDict.items() if value]\n",
    "        \n",
    "        #Susceptibility of bases to second hits\n",
    "        nBasesSusceptibleToSecondHit = sum([geneSizeInfo[i] for i in genesSingleMutatedClonal])\n",
    "        nBasesNotSusceptibleToSecondHit = sum([geneSizeInfo[i] for i in genesNotSingleMutatedClonal])\n",
    "        nSecondHits = len(subclonalSecondHits)\n",
    "        nNotSecondHits = len(subclonalNotSecondHits)\n",
    "        \n",
    "        secondHitRate = None\n",
    "        notSecondHitRate = None\n",
    "        if nBasesSusceptibleToSecondHit > 0:\n",
    "            secondHitRate = 1.0*nSecondHits/nBasesSusceptibleToSecondHit\n",
    "            notSecondHitRate = 1.0*nNotSecondHits/nBasesNotSusceptibleToSecondHit\n",
    "        \n",
    "        #WE append two lines to the dictionary:\n",
    "        #1 for clonal data and one for subclonal data\n",
    "        \n",
    "        #CLONAL\n",
    "        listOfDicts.append({'clonalStatus': 'clonal', 'Tumor_Sample_Barcode': case,\n",
    "                            'nmut': allClonalMuts.shape[0], \n",
    "                            'nHotspots': clonalHotspotMuts.shape[0], \n",
    "                            'nDriverMuts': clonalOncMuts.shape[0]\n",
    "                           })\n",
    "                           \n",
    "        #SUBCLONAL\n",
    "        listOfDicts.append({'clonalStatus': 'subclonal', 'Tumor_Sample_Barcode': case,\n",
    "                            'nmut': allSubclonalMuts.shape[0],\n",
    "                            'nHotspots': subclonalHotspotMuts.shape[0],\n",
    "                            'nDriverMuts': subclonalOncMuts.shape[0],\n",
    "                            #LATE DRIVERS: hotspots and de-novo TS biallelic inactivation\n",
    "                            'nDoubleMutations': len(subclonalDoubleMuts), 'doubleMutationNames': ';'.join(subclonalDoubleMuts),\n",
    "                            'hotspotGenes': subclonalHotspotGenes,\n",
    "                            #TUMOR SUPPRESSOR SECOND HIT INFO\n",
    "                            'secondHitGenes': ';'.join(list(subclonalSecondHits)),\n",
    "                            'secondHitRate': secondHitRate,\n",
    "                            'notSecondHitRate': notSecondHitRate,\n",
    "                            'nSecondHits': nSecondHits, 'nNotSecondHits': nNotSecondHits,\n",
    "                            'nBasesSusceptibleToSecondHit': nBasesSusceptibleToSecondHit, 'nBasesNotSusceptibleToSecondHit': nBasesNotSusceptibleToSecondHit\n",
    "                           })\n",
    "        \n",
    "    df = pd.DataFrame(listOfDicts)\n",
    "    return df\n",
    "        \n",
    "        \n",
    "    "
   ]
  },
  {
   "cell_type": "code",
   "execution_count": 11,
   "metadata": {},
   "outputs": [],
   "source": [
    "mutSimulationSummary = pd.read_table('/Users/friedman/Desktop/workOffline/mutSimulationInfoIncludingHotspots.tsv')\n",
    "geneSizeDict = dict(zip(mutSimulationSummary['Hugo_Symbol'], mutSimulationSummary['nPossibleMuts']))"
   ]
  },
  {
   "cell_type": "code",
   "execution_count": 12,
   "metadata": {},
   "outputs": [
    {
     "name": "stderr",
     "output_type": "stream",
     "text": [
      "/anaconda2/lib/python2.7/site-packages/ipykernel_launcher.py:2: SettingWithCopyWarning: \n",
      "A value is trying to be set on a copy of a slice from a DataFrame.\n",
      "Try using .loc[row_indexer,col_indexer] = value instead\n",
      "\n",
      "See the caveats in the documentation: http://pandas.pydata.org/pandas-docs/stable/indexing.html#indexing-view-versus-copy\n",
      "  \n",
      "/anaconda2/lib/python2.7/site-packages/ipykernel_launcher.py:15: SettingWithCopyWarning: \n",
      "A value is trying to be set on a copy of a slice from a DataFrame.\n",
      "Try using .loc[row_indexer,col_indexer] = value instead\n",
      "\n",
      "See the caveats in the documentation: http://pandas.pydata.org/pandas-docs/stable/indexing.html#indexing-view-versus-copy\n",
      "  from ipykernel import kernelapp as app\n"
     ]
    },
    {
     "name": "stdout",
     "output_type": "stream",
     "text": [
      "5\n",
      "10\n",
      "15\n",
      "20\n",
      "25\n",
      "30\n",
      "35\n",
      "40\n",
      "45\n",
      "50\n",
      "55\n",
      "60\n",
      "65\n"
     ]
    }
   ],
   "source": [
    "analyzeMafEndo = add_clonal_calls_to_maf(endometrialDfBalanced, endoSubcloneCases)\n"
   ]
  },
  {
   "cell_type": "code",
   "execution_count": 47,
   "metadata": {},
   "outputs": [],
   "source": [
    "analyzeMafEndo = analyzeMafEndo[(analyzeMafEndo['isClonal'].notnull()) & #only take mutations for which we identified a clonal and subclonal population\n",
    "                 (analyzeMafEndo['Consequence'] != 'splice_region_variant,intron_variant')] #ignore this type of mutation cause it is always filtered out\n",
    "\n",
    "summaryDfEndo = assess_tumor_suppressor_characteristics_of_mutations(analyzeMafEndo, geneSizeDict)\n",
    "summaryDfEndo['displayName'] = summaryDfEndo['Tumor_Sample_Barcode'] + '_' + summaryDfEndo['clonalStatus']\n"
   ]
  },
  {
   "cell_type": "code",
   "execution_count": null,
   "metadata": {},
   "outputs": [],
   "source": [
    "analyzeMafColo = add_clonal_calls_to_maf(colorectalDfBalanced, coloSubcloneCases)\n",
    "analyzeMafColo = analyzeMafColo[#(analyzeMafColo['oncogenic'].notnull()) & #only take oncogenic mutations\n",
    "                 (analyzeMafColo['isClonal'].notnull()) & #only take mutations for which we identified a clonal and subclonal population\n",
    "                 (analyzeMafColo['Consequence'] != 'splice_region_variant,intron_variant')] #ignore this type of mutation cause it is always filtered out\n",
    "\n",
    "summaryDfColo = assess_tumor_suppressor_characteristics_of_mutations(analyzeMafColo, geneSizeDict)\n"
   ]
  },
  {
   "cell_type": "code",
   "execution_count": 48,
   "metadata": {},
   "outputs": [],
   "source": [
    "summaryDfEndo.to_csv('/Users/friedman/Desktop/WORK/dataForLocalPlotting/subclonalSecondHitsEndo.tsv', index=False, sep='\\t')"
   ]
  },
  {
   "cell_type": "code",
   "execution_count": null,
   "metadata": {},
   "outputs": [],
   "source": [
    "summaryDfColo.to_csv('/Users/friedman/Desktop/WORK/dataForLocalPlotting/subclonalSecondHitsColo.tsv', index=False, sep='\\t')\n"
   ]
  },
  {
   "cell_type": "code",
   "execution_count": null,
   "metadata": {},
   "outputs": [],
   "source": [
    "impactSigs = pd.read_table(pathPrefix + '/ifs/work/taylorlab/friedman/hypermutationAnalysisProj/projectDataAndConfigFiles/signatures_from_unfiltered_maf.txt')\n"
   ]
  },
  {
   "cell_type": "code",
   "execution_count": 19,
   "metadata": {},
   "outputs": [
    {
     "name": "stdout",
     "output_type": "stream",
     "text": [
      "      Hugo_Symbol HGVSp_Short\n",
      "43544        PTEN     p.R173C\n",
      "44235      NFE2L2      p.Q26H\n",
      "44245       CASP8     p.R292Q\n",
      "44329     SMARCB1     p.R377C\n",
      "44387      PIK3CB     p.R321Q\n",
      "44394      PIK3CA      p.R88Q\n",
      "44395      PIK3CA     p.E365K\n",
      "44397      PIK3CA    p.Y1021C\n",
      "44473       FBXW7     p.R689W\n"
     ]
    }
   ],
   "source": [
    "print analyzeMafEndo[(analyzeMafEndo['Tumor_Sample_Barcode'] == 'P-0032589-T01-IM6') & (analyzeMafEndo['is-a-hotspot'] == 'Y')][['Hugo_Symbol', 'HGVSp_Short']]"
   ]
  },
  {
   "cell_type": "code",
   "execution_count": 15,
   "metadata": {},
   "outputs": [
    {
     "name": "stdout",
     "output_type": "stream",
     "text": [
      "1        P-0021220-T01-IM6\n",
      "4        P-0021220-T01-IM6\n",
      "6        P-0021220-T01-IM6\n",
      "7        P-0021220-T01-IM6\n",
      "10       P-0021220-T01-IM6\n",
      "18       P-0021220-T01-IM6\n",
      "27       P-0021220-T01-IM6\n",
      "29       P-0021220-T01-IM6\n",
      "31       P-0021220-T01-IM6\n",
      "36       P-0021220-T01-IM6\n",
      "37       P-0021220-T01-IM6\n",
      "46       P-0021220-T01-IM6\n",
      "55       P-0021220-T01-IM6\n",
      "67       P-0021220-T01-IM6\n",
      "70       P-0021220-T01-IM6\n",
      "78       P-0021220-T01-IM6\n",
      "83       P-0021220-T01-IM6\n",
      "91       P-0021220-T01-IM6\n",
      "97       P-0021220-T01-IM6\n",
      "102      P-0021220-T01-IM6\n",
      "103      P-0021220-T01-IM6\n",
      "111      P-0021220-T01-IM6\n",
      "119      P-0021220-T01-IM6\n",
      "121      P-0021220-T01-IM6\n",
      "122      P-0021220-T01-IM6\n",
      "123      P-0021220-T01-IM6\n",
      "125      P-0021220-T01-IM6\n",
      "126      P-0021220-T01-IM6\n",
      "130      P-0021220-T01-IM6\n",
      "131      P-0021220-T01-IM6\n",
      "               ...        \n",
      "72959    P-0019093-T01-IM6\n",
      "72964    P-0019093-T01-IM6\n",
      "72966    P-0019093-T01-IM6\n",
      "72984    P-0019093-T01-IM6\n",
      "72990    P-0019093-T01-IM6\n",
      "72992    P-0019093-T01-IM6\n",
      "72995    P-0019093-T01-IM6\n",
      "72996    P-0019093-T01-IM6\n",
      "72997    P-0019093-T01-IM6\n",
      "72998    P-0019093-T01-IM6\n",
      "73003    P-0019093-T01-IM6\n",
      "73017    P-0019093-T01-IM6\n",
      "73027    P-0019093-T01-IM6\n",
      "73029    P-0019093-T01-IM6\n",
      "73033    P-0019093-T01-IM6\n",
      "73035    P-0019093-T01-IM6\n",
      "73037    P-0019093-T01-IM6\n",
      "73038    P-0019093-T01-IM6\n",
      "73045    P-0019093-T01-IM6\n",
      "73056    P-0019093-T01-IM6\n",
      "73058    P-0019093-T01-IM6\n",
      "73086    P-0019093-T01-IM6\n",
      "73089    P-0019093-T01-IM6\n",
      "73103    P-0019093-T01-IM6\n",
      "73107    P-0019093-T01-IM6\n",
      "73109    P-0019093-T01-IM6\n",
      "73120    P-0019093-T01-IM6\n",
      "73122    P-0019093-T01-IM6\n",
      "73124    P-0019093-T01-IM6\n",
      "73125    P-0019093-T01-IM6\n",
      "Name: Tumor_Sample_Barcode, Length: 41249, dtype: object\n"
     ]
    }
   ],
   "source": [
    "print analyzeMafEndo['Tumor_Sample_Barcode']"
   ]
  }
 ],
 "metadata": {
  "kernelspec": {
   "display_name": "Python 2",
   "language": "python",
   "name": "python2"
  },
  "language_info": {
   "codemirror_mode": {
    "name": "ipython",
    "version": 2
   },
   "file_extension": ".py",
   "mimetype": "text/x-python",
   "name": "python",
   "nbconvert_exporter": "python",
   "pygments_lexer": "ipython2",
   "version": "2.7.15"
  }
 },
 "nbformat": 4,
 "nbformat_minor": 2
}
