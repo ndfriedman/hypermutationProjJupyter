{
 "cells": [
  {
   "cell_type": "code",
   "execution_count": 1,
   "metadata": {},
   "outputs": [],
   "source": [
    "import sys\n",
    "import argparse\n",
    "import os\n",
    "import pandas as pd\n",
    "import numpy as np\n",
    "import numpy\n",
    "\n",
    "from collections import Counter\n",
    "\n",
    "pathPrefix = '/Users/friedman/Desktop/mnt'\n",
    "\n",
    "sys.path.append(pathPrefix + '/ifs/work/taylorlab/friedman/myUtils')\n",
    "import analysis_utils \n",
    "import mutationSigUtils \n",
    "import maf_analysis_utils\n",
    "import clonality_analysis_util\n",
    "import re"
   ]
  },
  {
   "cell_type": "code",
   "execution_count": 8,
   "metadata": {},
   "outputs": [],
   "source": [
    "\n",
    "def summarize_allele_info(observedMaf, contextMaf, pentasToLookAt):\n",
    "\n",
    "    listOfDicts = []\n",
    "    for penta in pentasToLookAt:\n",
    "        pentasPossible = contextMaf[contextMaf['pentaChange'] == penta]\n",
    "        possiblePentaAlleles = set(pentasPossible['allele'])\n",
    "        nPossiblePentas = pentasPossible.shape[0]\n",
    "        if nPossiblePentas > 0:\n",
    "            realMafPenta = observedMaf[observedMaf['pentaChange'] == penta]\n",
    "            observedAlleles = set(realMafPenta['allele'])\n",
    "            neverObservedAlleles = possiblePentaAlleles - observedAlleles\n",
    "\n",
    "            alleleCounts = Counter(realMafPenta['allele'])\n",
    "\n",
    "            for allele, count in alleleCounts.items():\n",
    "                listOfDicts.append({\n",
    "                    'allele': allele,\n",
    "                    'count': count,\n",
    "                    'penta': penta\n",
    "                })\n",
    "\n",
    "            for allele in neverObservedAlleles:\n",
    "                listOfDicts.append({\n",
    "                    'allele': allele, 'count': 0, 'penta': penta\n",
    "                })\n",
    "\n",
    "\n",
    "    df = pd.DataFrame(listOfDicts)\n",
    "    return df"
   ]
  },
  {
   "cell_type": "code",
   "execution_count": 2,
   "metadata": {},
   "outputs": [
    {
     "name": "stderr",
     "output_type": "stream",
     "text": [
      "/anaconda2/lib/python2.7/site-packages/IPython/core/interactiveshell.py:2714: DtypeWarning: Columns (36,39,85) have mixed types. Specify dtype option on import or set low_memory=False.\n",
      "  interactivity=interactivity, compiler=compiler, result=result)\n"
     ]
    }
   ],
   "source": [
    "poleMafWithPentaContext = pd.read_table(pathPrefix + '/ifs/work/taylorlab/friedman/myAdjustedDataFiles/poleCaseMafWithPentanucleotideContext.maf')"
   ]
  },
  {
   "cell_type": "code",
   "execution_count": 3,
   "metadata": {},
   "outputs": [],
   "source": [
    "poleMafWithPentaContext['pentaChange'] = poleMafWithPentaContext.apply(lambda row: \n",
    "                                    mutationSigUtils.create_strand_specific_pentanucleotide_change(row['Ref_Tri.1'], row['Reference_Allele'], row['Tumor_Seq_Allele2'], row['Variant_Type']), axis=1)\n"
   ]
  },
  {
   "cell_type": "markdown",
   "metadata": {},
   "source": [
    "**HOTSPOT MUTATIONS**"
   ]
  },
  {
   "cell_type": "code",
   "execution_count": 4,
   "metadata": {},
   "outputs": [],
   "source": [
    "hotspotContextSummary = pd.read_table(pathPrefix + '/ifs/work/taylorlab/friedman/myAdjustedDataFiles/hotspotContextSummary.tsv')"
   ]
  },
  {
   "cell_type": "code",
   "execution_count": 5,
   "metadata": {},
   "outputs": [],
   "source": [
    "hotspotContextSummary['pentaChange'] = hotspotContextSummary.apply(lambda row: \n",
    "                                    mutationSigUtils.create_strand_specific_pentanucleotide_change(row['Ref_Tri.1'], row['Reference_Allele'], row['Tumor_Seq_Allele2'], row['Variant_Type']), axis=1)\n",
    "hotspotContextSummary['allele'] = hotspotContextSummary['Hugo_Symbol'] + '_' + hotspotContextSummary['HGVSp_Short']\n"
   ]
  },
  {
   "cell_type": "code",
   "execution_count": 6,
   "metadata": {},
   "outputs": [],
   "source": [
    "topTenPolePentas = [x[0] for x in Counter(poleMafWithPentaContext['pentaChange']).most_common(10)]"
   ]
  },
  {
   "cell_type": "code",
   "execution_count": 9,
   "metadata": {},
   "outputs": [],
   "source": [
    "poleMafHotspots = poleMafWithPentaContext[poleMafWithPentaContext['is-a-hotspot'] == 'Y']\n",
    "\n",
    "df = summarize_allele_info(poleMafHotspots, hotspotContextSummary, topTenPolePentas)\n"
   ]
  },
  {
   "cell_type": "code",
   "execution_count": 10,
   "metadata": {
    "scrolled": true
   },
   "outputs": [],
   "source": [
    "displayThresh = 3\n",
    "df['gene'] = df['allele'].apply(lambda x: x.split('_')[0])\n",
    "displayThresh = 5\n",
    "df['displayLabel'] = df.apply(lambda row: row['allele'] if row['count'] >= displayThresh else None, axis=1)"
   ]
  },
  {
   "cell_type": "code",
   "execution_count": 59,
   "metadata": {},
   "outputs": [],
   "source": [
    "df.to_csv('/Users/friedman/Desktop/WORK/dataForLocalPlotting/hotspotAlleleCounts.tsv', index=False, sep='\\t')"
   ]
  },
  {
   "cell_type": "code",
   "execution_count": 65,
   "metadata": {},
   "outputs": [
    {
     "data": {
      "text/plain": [
       "26    NF1_p.R2450Q\n",
       "62     NF1_p.R461Q\n",
       "Name: allele, dtype: object"
      ]
     },
     "execution_count": 65,
     "metadata": {},
     "output_type": "execute_result"
    }
   ],
   "source": [
    "df[(df['count'] == 0) & (df['gene'] == 'NF1')]['allele']\n",
    "#print Counter(df[(df['count'] == 0)]['gene'])"
   ]
  },
  {
   "cell_type": "markdown",
   "metadata": {},
   "source": [
    "**TRUNCATING MUTATIONS**"
   ]
  },
  {
   "cell_type": "code",
   "execution_count": 102,
   "metadata": {},
   "outputs": [],
   "source": [
    "def count_number_of_times_allele_is_in_multiplet(maf, allele):\n",
    "    casesWithAllele = set(maf[maf['allele'] == allele]['Tumor_Sample_Barcode'])\n",
    "    if len(casesWithAllele) == 0:\n",
    "        return None\n",
    "    alleleMaf = maf[maf['Tumor_Sample_Barcode'].isin(casesWithAllele)]\n",
    "    gene = allele.split('_')[0]\n",
    "    otherOncogenicGeneAlleles = alleleMaf[(alleleMaf['oncogenic'].notnull()) & (alleleMaf['Hugo_Symbol'] == gene) &(alleleMaf['allele'] != allele)]\n",
    "    return (1.0*len(set(otherOncogenicGeneAlleles['Tumor_Sample_Barcode'])))/len(casesWithAllele)"
   ]
  },
  {
   "cell_type": "code",
   "execution_count": 177,
   "metadata": {},
   "outputs": [],
   "source": [
    "#lambda function that marks whether an allele is part of a multiplet\n",
    "def is_allele_multiplet(maf, allele, tsb):\n",
    "    gene = allele.split('_')[0]\n",
    "    if maf[(maf['allele'] != allele) & (maf['oncogenic'].notnull()) & (maf['Hugo_Symbol'] == gene) & (maf['Tumor_Sample_Barcode'] == tsb)].shape[0] > 0:\n",
    "        return 1\n",
    "    else:\n",
    "        return 0"
   ]
  },
  {
   "cell_type": "code",
   "execution_count": 71,
   "metadata": {},
   "outputs": [],
   "source": [
    "truncatingContextSummary = pd.read_table(pathPrefix + '/ifs/work/taylorlab/friedman/myAdjustedDataFiles/truncatingContextSummary.tsv')"
   ]
  },
  {
   "cell_type": "code",
   "execution_count": 72,
   "metadata": {},
   "outputs": [],
   "source": [
    "truncatingContextSummary['pentaChange'] = truncatingContextSummary.apply(lambda row: \n",
    "                                    mutationSigUtils.create_strand_specific_pentanucleotide_change(row['Ref_Tri.1'], row['Reference_Allele'], row['Tumor_Seq_Allele2'], row['Variant_Type']), axis=1)\n"
   ]
  },
  {
   "cell_type": "code",
   "execution_count": 73,
   "metadata": {},
   "outputs": [],
   "source": [
    "poleMafWithPentaContext['allele'] = poleMafWithPentaContext['Hugo_Symbol'] + '_' + poleMafWithPentaContext['HGVSp_Short']\n",
    "truncatingContextSummary['allele'] = truncatingContextSummary['Hugo_Symbol'] + '_' + truncatingContextSummary['HGVSp_Short']\n",
    "poleMafWithPentaContext = maf_analysis_utils.fix_mll_genes(poleMafWithPentaContext)\n"
   ]
  },
  {
   "cell_type": "code",
   "execution_count": 75,
   "metadata": {},
   "outputs": [],
   "source": [
    "poleMafWithPentaContextTrunc = poleMafWithPentaContext[poleMafWithPentaContext['Consequence'] == 'stop_gained']\n",
    "\n",
    "dfTruncSum = summarize_allele_info(poleMafWithPentaContextTrunc, truncatingContextSummary, topTenPolePentas)\n",
    "\n",
    "    "
   ]
  },
  {
   "cell_type": "code",
   "execution_count": 76,
   "metadata": {},
   "outputs": [],
   "source": [
    "dfTruncSum['gene'] = dfTruncSum['allele'].apply(lambda x: x.split('_')[0])\n",
    "displayThresh = 5\n",
    "dfTruncSum['displayLabel'] = dfTruncSum.apply(lambda row: row['gene'] if row['count'] >= displayThresh else None, axis=1)"
   ]
  },
  {
   "cell_type": "code",
   "execution_count": 53,
   "metadata": {},
   "outputs": [],
   "source": [
    "dfTruncSum.to_csv('/Users/friedman/Desktop/WORK/dataForLocalPlotting/alleleCounts.tsv', index=False, sep='\\t')"
   ]
  },
  {
   "cell_type": "code",
   "execution_count": 77,
   "metadata": {},
   "outputs": [],
   "source": [
    "significantAlleles = set(dfTruncSum[dfTruncSum['displayLabel'].notnull()]['allele'])"
   ]
  },
  {
   "cell_type": "code",
   "execution_count": 91,
   "metadata": {},
   "outputs": [],
   "source": [
    "#RELATED/UNRELATED genes as defined by DNDS\n",
    "relatedGenes = {\n",
    "    'Endometrial Cancer': [\"AKT1\",\"APC\",\"ARID1A\",\"BCOR\",\"CCND1\",\"CDKN2A.p16INK4a\",\"CTCF\",\"CTNNB1\",         \n",
    "\"ESR1\",\"FBXW7\",\"FGFR2\",\"KRAS\",\"NRAS\",\"PIK3CA\",\n",
    "                           \"PIK3R1\",\"PPP2R1A\",\"PTEN\",\"RB1\",\"RRAS2\",\"SOX17\",\"SPOP\",\"TP53\"],\n",
    "    'Colorectal Cancer':[\"AMER1\",\"APC\",\"ARID1A\",\"ASXL1\",\"ATM\",\"B2M\",\"BRAF\",\"CDKN2A.p16INK4a\",\"CTNNB1\",\"ELF3\",\"EPHA3\",\"ERBB3\",\"FBXW7\",\"JUN\",\"KRAS\",\"NRAS\",\"PIK3CA\",\"PIK3R1\",\"PTEN\",\"RBM10\",\"RNF43\",\"SMAD2\",\"SMAD3\",\"SMAD4\",\"SOX9\",\"TCF7L2\",\"TP53\"],\n",
    "    'Glioma': [\"ARID1A\",\"ARID2\",\"ATRX\",\"BCOR\",\"BRAF\",\"CBL\",\"CDKN1B\",\"CDKN2A.p14arf\",\"CDKN2A.p16INK4a\",\"CDKN2C\",\"CIC\",\"DNMT3A\",\"EGFR\",\"FUBP1\",\"H3F3A\",\"IDH1\",\"KRAS\",\"NF1\",\"NOTCH1\",\"PDGFRA\",\"PIK3CA\",\"PIK3R1\",\"PPM1D\",\"PTEN\",\"PTPN11\",\"RB1\",\"SETD2\",\"STAG2\",\"TP53\"]\n",
    "}"
   ]
  },
  {
   "cell_type": "code",
   "execution_count": 93,
   "metadata": {},
   "outputs": [],
   "source": [
    "cohortRelatedGenes = set(relatedGenes['Endometrial Cancer']) | set(relatedGenes['Colorectal Cancer'])"
   ]
  },
  {
   "cell_type": "code",
   "execution_count": 99,
   "metadata": {},
   "outputs": [],
   "source": [
    "recurrentAlleleThresh = 5\n",
    "tumorSuppresors = set(['ERRFI1', 'ASXL2', 'PMAIP1', 'ACTG1', 'SUFU', 'FBXO11', 'MEN1', 'FAM58A', 'B2M', 'RB1', 'DUSP22', 'SESN1', 'GPS2', 'RAD51D', 'SMG1', 'CDC73', 'MAP3K1', 'SMARCB1', 'INPP4B', 'PARK2', 'SMAD4', 'CBFB', 'CDH1', 'PPP6C', 'SETDB1', 'SETDB2', 'NF2', 'CDKN2B', 'CDKN2C', 'CDKN2A', 'DDX3X', 'PIK3R1', 'BARD1', 'PDS5B', 'KLF4', 'SPRED1', 'VHL', 'SMAD2', 'PMS1', 'PMS2', 'SETD2', 'GATA3', 'TBL1XR1', 'MUTYH', 'SOCS1', 'FAM175A', 'ROBO1', 'ARID1B', 'ARID1A', 'TCF7L2', 'STK11', 'FOXA1', 'PTEN', 'FAT1', 'FAS', 'CYLD', 'MAX', 'SH2D1A', 'APC', 'NTHL1', 'CTCF', 'KDM5C', 'KMT2C', 'ZFHX3', 'FOXP1', 'PIGA', 'CDKN1B', 'CDKN1A', 'FUBP1', 'MSH2', 'ID3', 'TNFRSF14', 'TRAF3', 'EP400', 'BRIP1', 'ARID4A', 'ARID4B', 'XRCC2', 'DAXX', 'SDHAF2', 'ASXL1', 'AMER1', 'RASA1', 'EGR1', 'MST1', 'SOX17', 'RUNX1', 'PIK3R3', 'NCOR1', 'NF1', 'JAK1', 'PTPRD', 'CHEK2', 'CHEK1', 'SMC1A', 'TMEM127', 'STAG1', 'RAD51', 'TCF3', 'STAG2', 'ARID2', 'RAD50', 'RNF43', 'PARP1', 'BLM', 'CUX1', 'RECQL', 'RAD21', 'PTPN2', 'PTPN1', 'SLX4', 'INHA', 'PAX5', 'IRF1', 'TP53', 'HLA-A', 'IRF8', 'CBL', 'TOP1', 'SHQ1', 'PRDM1', 'NSD1', 'ATXN2', 'CREBBP', 'HDAC4', 'SESN2', 'PPP2R1A', 'EPHA7', 'ATM', 'EPHA3', 'POT1', 'SMAD3', 'MOB3B', 'TBX3', 'POLE', 'ATR', 'FANCD2', 'FH', 'BCORL1', 'SOX9', 'IKZF3', 'TSC1', 'TP63', 'MRE11A', 'SDHC', 'BTG1', 'POLD1', 'CIITA', 'SMC3', 'SAMHD1', 'RTEL1', 'ECT2L', 'PIK3R2', 'CRBN', 'FANCC', 'NBN', 'FANCA', 'HLA-B', 'RECQL4', 'DUSP4', 'ERCC2', 'FBXW7', 'TGFBR2', 'TGFBR1', 'MSH3', 'RBM15', 'TET1', 'TET3', 'SESN3', 'MGA', 'LTB', 'FOXL2', 'SH2B3', 'BCOR', 'HIST1H1D', 'ATRX', 'EP300', 'RAD51C', 'RAD51B', 'HIST1H1B', 'TNFAIP3', 'DICER1', 'ARID5B', 'LATS2', 'FOXO1', 'KEAP1', 'EZH2', 'SP140', 'NKX3-1', 'PBRM1', 'PALB2', 'CIC', 'BRCA1', 'DTX1', 'FLCN', 'SPEN', 'CD58', 'ERCC3', 'ERCC4', 'MSH6', 'BCL11B', 'BMPR1A', 'ERF', 'BRCA2', 'NOTCH2', 'EED', 'MITF', 'ELF3', 'SMARCA4', 'BBC3', 'ANKRD11', 'CEBPA', 'BCL2L11', 'AXIN2', 'AXIN1', 'CDK12', 'ESCO2', 'MLH1', 'SDHB', 'MED12', 'HNF1A', 'RYBP', 'ATP6V1B2', 'DNMT3B', 'KMT2B', 'KMT2A', 'DNMT3A', 'NFKBIA', 'TRAF5', 'KMT2D', 'SPOP', 'RBM10', 'P2RY8', 'TP53BP1', 'TSC2', 'KDM6A', 'EPCAM', 'PHOX2B', 'NPM1', 'BCL10', 'LATS1', 'HOXB13', 'ARID3A', 'PTPRT', 'PTPRS', 'INPPL1', 'NOTCH4', 'TET2', 'NOTCH1', 'CASP8', 'NOTCH3', 'GRIN2A', 'MAP2K4', 'WT1', 'BACH2', 'SDHA', 'BAP1', 'PTCH1', 'SDHD'])\n",
    "poleMafTruncatingTSG = poleMafWithPentaContextTrunc[poleMafWithPentaContextTrunc['Hugo_Symbol'].isin(tumorSuppresors)]\n",
    "\n",
    "recurrentTruncatingAlleles = [allele for allele, count in Counter(poleMafWithPentaContextTrunc['allele']).items() if count > recurrentAlleleThresh]\n",
    "notRecurrentTruncatingAlleles = set(poleMafTruncatingTSG['allele']) - set(recurrentTruncatingAlleles)"
   ]
  },
  {
   "cell_type": "code",
   "execution_count": null,
   "metadata": {},
   "outputs": [],
   "source": [
    "#recurrentTruncatingAlleles\n",
    "notRecurrentTruncatingAlleles"
   ]
  },
  {
   "cell_type": "code",
   "execution_count": 157,
   "metadata": {},
   "outputs": [
    {
     "data": {
      "text/plain": [
       "\"relatedVals = []\\nunrelatedVals = [] \\nfor allele in notRecurrentTruncatingAlleles:\\n    gene = allele.split('_')[0]\\n    fracCasesWithMultiplet = count_number_of_times_allele_is_in_multiplet(poleMafTruncatingTSG, allele)\\n    if gene in cohortRelatedGenes:\\n        relatedVals.append(fracCasesWithMultiplet)\\n    else:\\n        unrelatedVals.append(fracCasesWithMultiplet)\\n\""
      ]
     },
     "execution_count": 157,
     "metadata": {},
     "output_type": "execute_result"
    }
   ],
   "source": [
    "listOfDicts = []\n",
    "\n",
    "#We get averages which we will use for our ordering val\n",
    "alleleFracDict = {}\n",
    "for allele in significantAlleles:\n",
    "    gene = allele.split('_')[0]\n",
    "    fracCasesWithMultiplet = count_number_of_times_allele_is_in_multiplet(poleMafTruncatingTSG, allele)\n",
    "    alleleFracDict[allele] = fracCasesWithMultiplet\n",
    "    #geneClass = 'unrelated'\n",
    "    #if gene in cohortRelatedGenes:\n",
    "    #    geneClass = 'related'\n",
    "    #listOfDicts.append({'gene': gene, 'frac': fracCasesWithMultiplet, \n",
    "    #            'allele': allele, 'geneClass': geneClass})\n",
    "\n",
    "#ABOVE IS A DEPRECATED WAY OF DOING THINGS\n",
    "                \n",
    "#do a second iteration where we get summary figures for the recurrent and non recurrent alleles\n",
    "\n",
    "\"\"\"relatedVals = []\n",
    "unrelatedVals = [] \n",
    "for allele in notRecurrentTruncatingAlleles:\n",
    "    gene = allele.split('_')[0]\n",
    "    fracCasesWithMultiplet = count_number_of_times_allele_is_in_multiplet(poleMafTruncatingTSG, allele)\n",
    "    if gene in cohortRelatedGenes:\n",
    "        relatedVals.append(fracCasesWithMultiplet)\n",
    "    else:\n",
    "        unrelatedVals.append(fracCasesWithMultiplet)\n",
    "\"\"\"\n",
    "\n",
    "#alleleFracDict['Average other \\nrelated gene alleles'] :  np.nanmean(relatedVals)\n",
    "#alleleFracDict['Average other \\nunrelated gene alleles'] :  np.nanmean(relatedVals)\n",
    "     \n",
    "#listOfDicts.append({\n",
    "    #'Hugo_Symbol': 'Average other \\nrelated gene alleles', 'frac': np.nanmean(relatedVals), \n",
    " #               'allele':'Average other \\nrelated gene alleles', 'geneClass': 'related_average'})\n",
    "#listOfDicts.append({\n",
    "    #'Hugo_Symbol': 'Average other \\nunrelated gene alleles', 'frac': np.nanmean(unrelatedVals), \n",
    "    #            'allele': 'Average other \\nunrelated gene alleles', 'geneClass': 'unrelated_average'})\n"
   ]
  },
  {
   "cell_type": "code",
   "execution_count": 191,
   "metadata": {},
   "outputs": [
    {
     "name": "stderr",
     "output_type": "stream",
     "text": [
      "/anaconda2/lib/python2.7/site-packages/ipykernel_launcher.py:2: SettingWithCopyWarning: \n",
      "A value is trying to be set on a copy of a slice from a DataFrame.\n",
      "Try using .loc[row_indexer,col_indexer] = value instead\n",
      "\n",
      "See the caveats in the documentation: http://pandas.pydata.org/pandas-docs/stable/indexing.html#indexing-view-versus-copy\n",
      "  \n",
      "/anaconda2/lib/python2.7/site-packages/ipykernel_launcher.py:6: SettingWithCopyWarning: \n",
      "A value is trying to be set on a copy of a slice from a DataFrame.\n",
      "Try using .loc[row_indexer,col_indexer] = value instead\n",
      "\n",
      "See the caveats in the documentation: http://pandas.pydata.org/pandas-docs/stable/indexing.html#indexing-view-versus-copy\n",
      "  \n",
      "/anaconda2/lib/python2.7/site-packages/ipykernel_launcher.py:7: SettingWithCopyWarning: \n",
      "A value is trying to be set on a copy of a slice from a DataFrame.\n",
      "Try using .loc[row_indexer,col_indexer] = value instead\n",
      "\n",
      "See the caveats in the documentation: http://pandas.pydata.org/pandas-docs/stable/indexing.html#indexing-view-versus-copy\n",
      "  import sys\n"
     ]
    }
   ],
   "source": [
    "#add columns to the maf so R can plot it with error bars\n",
    "poleMafTruncatingTSG['displayAllele'] = poleMafTruncatingTSG['allele'].apply(lambda x: x if x in significantAlleles\n",
    "                    else 'Average other \\nrelated gene alleles' if allele.split('_')[0] in cohortRelatedGenes\n",
    "                    else 'Average other \\nunrelated gene alleles')\n",
    "poleMafTruncatingTSG['multipletPresentInCase'] = poleMafTruncatingTSG.apply(lambda row:\n",
    "                is_allele_multiplet(poleMafTruncatingTSG, row['allele'], row['Tumor_Sample_Barcode']), axis=1)\n",
    "poleMafTruncatingTSG['geneClass'] = poleMafTruncatingTSG['Hugo_Symbol'].apply(lambda x: 'related' if x in cohortRelatedGenes else 'unrelated')"
   ]
  },
  {
   "cell_type": "code",
   "execution_count": 192,
   "metadata": {},
   "outputs": [],
   "source": [
    "#poleMafTruncatingTSG.columns.values\n",
    "df = poleMafTruncatingTSG[['Hugo_Symbol', 'allele', 'multipletPresentInCase', 'displayAllele', 'geneClass']]"
   ]
  },
  {
   "cell_type": "code",
   "execution_count": 193,
   "metadata": {},
   "outputs": [
    {
     "name": "stderr",
     "output_type": "stream",
     "text": [
      "/anaconda2/lib/python2.7/site-packages/ipykernel_launcher.py:1: SettingWithCopyWarning: \n",
      "A value is trying to be set on a copy of a slice from a DataFrame.\n",
      "Try using .loc[row_indexer,col_indexer] = value instead\n",
      "\n",
      "See the caveats in the documentation: http://pandas.pydata.org/pandas-docs/stable/indexing.html#indexing-view-versus-copy\n",
      "  \"\"\"Entry point for launching an IPython kernel.\n"
     ]
    }
   ],
   "source": [
    "df['frac'] = df['allele'].apply(lambda x: alleleFracDict[x] if x in alleleFracDict else 0)"
   ]
  },
  {
   "cell_type": "code",
   "execution_count": 194,
   "metadata": {},
   "outputs": [
    {
     "name": "stderr",
     "output_type": "stream",
     "text": [
      "/anaconda2/lib/python2.7/site-packages/ipykernel_launcher.py:5: SettingWithCopyWarning: \n",
      "A value is trying to be set on a copy of a slice from a DataFrame.\n",
      "Try using .loc[row_indexer,col_indexer] = value instead\n",
      "\n",
      "See the caveats in the documentation: http://pandas.pydata.org/pandas-docs/stable/indexing.html#indexing-view-versus-copy\n",
      "  \"\"\"\n"
     ]
    }
   ],
   "source": [
    "#order the plot\n",
    "df['orderingVal'] = df.apply(lambda row: -.01 if row['displayAllele'] == 'Average other \\nrelated gene alleles'\n",
    "                             else 1.01 if row['displayAllele'] == 'Average other \\nunrelated gene alleles'\n",
    "                            else 1- row['frac'] if row['geneClass'] == 'related'\n",
    "                            else 2.01 -row['frac'], axis=1)\n"
   ]
  },
  {
   "cell_type": "code",
   "execution_count": 196,
   "metadata": {},
   "outputs": [],
   "source": [
    "df.to_csv('/Users/friedman/Desktop/WORK/dataForLocalPlotting/stopGainAlleleRecurrenceAndDoubles.tsv', index=False, sep='\\t')"
   ]
  },
  {
   "cell_type": "code",
   "execution_count": 185,
   "metadata": {},
   "outputs": [
    {
     "data": {
      "text/plain": [
       "800      unrelated\n",
       "4002     unrelated\n",
       "9995     unrelated\n",
       "10804    unrelated\n",
       "10962    unrelated\n",
       "11187    unrelated\n",
       "Name: geneClass, dtype: object"
      ]
     },
     "execution_count": 185,
     "metadata": {},
     "output_type": "execute_result"
    }
   ],
   "source": [
    "poleMafTruncatingTSG[poleMafTruncatingTSG['allele']== 'APC_p.R2204*']['geneClass']"
   ]
  },
  {
   "cell_type": "markdown",
   "metadata": {},
   "source": [
    "**HOTSPOT mutations never seen**"
   ]
  },
  {
   "cell_type": "code",
   "execution_count": 31,
   "metadata": {},
   "outputs": [],
   "source": [
    "def assign_hotspot_freq_dict(df):\n",
    "    d = {}\n",
    "    for index, row in df.iterrows():\n",
    "        \n",
    "        refAminoAcid = row['ref']\n",
    "        gene = row['Hugo_Symbol']\n",
    "        position = row['Amino_Acid_Position']\n",
    "        for entry in row['Var_AA'].split('|'):\n",
    "            fullAltName = ''\n",
    "            altAminoAcid, count = entry.split(':')\n",
    "            fullAltName = gene + ':' + refAminoAcid + position + altAminoAcid\n",
    "            d[fullAltName] = float(count)\n",
    "    return d\n"
   ]
  },
  {
   "cell_type": "code",
   "execution_count": 12,
   "metadata": {},
   "outputs": [],
   "source": [
    "hotspotsNeverSeen = set(df[df['count'] < 1]['allele'])"
   ]
  },
  {
   "cell_type": "code",
   "execution_count": 32,
   "metadata": {},
   "outputs": [],
   "source": [
    "hotspotsDf = pd.read_table(pathPrefix + '/home/gavrilae/snp_output_final_pancan.txt')\n",
    "hotspotIncidenceD = assign_hotspot_freq_dict(hotspotsDf)"
   ]
  },
  {
   "cell_type": "code",
   "execution_count": 42,
   "metadata": {},
   "outputs": [
    {
     "name": "stdout",
     "output_type": "stream",
     "text": [
      "MED12:L1224I 1.0\n",
      "ERRFI1:K116N 0\n",
      "CARD11:K215N 0\n",
      "CTNNB1:S37Y 17.0\n",
      "PBRM1:R710Q 0\n",
      "RARA:F286L 1.0\n",
      "SUZ12:R101Q 0\n",
      "GATA3:R366Q 7.0\n",
      "EP300:Q1455H 8.0\n",
      "PTPN11:E69D 2.0\n",
      "NOTCH2:R2400Q 0\n",
      "KMT2A:R1264Q 0\n",
      "TP53:F113L 1.0\n",
      "GATA3:R364I 0\n",
      "NOTCH1:F853L 0\n",
      "SETD2:S1572L 0\n",
      "ERCC2:D609N 0\n",
      "SF3B1:K666N 19.0\n",
      "IKZF1:E304K 15.0\n",
      "MTOR:F1888L 7.0\n",
      "PPP6C:S270L 0\n",
      "TP63:R379C 23.0\n",
      "RB1:R787Q 2.0\n",
      "PIK3R2:D557N 2.0\n",
      "STAG2:R216Q 3.0\n",
      "ASXL2:R357Q 1.0\n",
      "SDHAF2:S10L 5.0\n",
      "NF1:R461Q 2.0\n",
      "CRLF2:S128L 12.0\n",
      "MAP2K1:Q56H 1.0\n",
      "CDKN2A:S12L 4.0\n",
      "SMAD4:R445Q 2.0\n",
      "HIST1H3H:K37N 0\n",
      "RHOA:E40D 2.0\n",
      "TP53:K132N 61.0\n",
      "NFE2L2:L30I 0\n",
      "PMS2:K651N 0\n",
      "ARID1A:R2158Q 3.0\n",
      "CTCF:R448Q 1.0\n",
      "PIK3CA:R93W 36.0\n",
      "NF1:R2450Q 1.0\n",
      "CDH1:R63Q 0\n",
      "CCND1:E9K 0\n",
      "ERBB4:K1223N 0\n",
      "TP53:L32M 0\n",
      "HIST1H3C:K37N 0\n",
      "TP53:L194I 0\n",
      "CTNNB1:S45Y 11.0\n"
     ]
    }
   ],
   "source": [
    "for hotspot in hotspotsNeverSeen:\n",
    "    #ERRFI1_p.K116N\n",
    "    adjHotspot = re.sub('_p.', ':', hotspot)\n",
    "    if adjHotspot in hotspotIncidenceD:\n",
    "        print adjHotspot, hotspotIncidenceD[adjHotspot]\n",
    "    else:\n",
    "        print adjHotspot, 0"
   ]
  }
 ],
 "metadata": {
  "kernelspec": {
   "display_name": "Python 2",
   "language": "python",
   "name": "python2"
  },
  "language_info": {
   "codemirror_mode": {
    "name": "ipython",
    "version": 2
   },
   "file_extension": ".py",
   "mimetype": "text/x-python",
   "name": "python",
   "nbconvert_exporter": "python",
   "pygments_lexer": "ipython2",
   "version": "2.7.15"
  }
 },
 "nbformat": 4,
 "nbformat_minor": 2
}
