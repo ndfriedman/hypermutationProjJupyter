{
 "cells": [
  {
   "cell_type": "code",
   "execution_count": 165,
   "metadata": {},
   "outputs": [],
   "source": [
    "import pandas as pd\n",
    "import os\n",
    "import sys\n",
    "\n",
    "sys.path.append('/Users/friedman/Desktop/mnt/ifs/work/taylorlab/friedman/myUtils')\n",
    "import analysis_utils \n",
    "import mutationSigUtils \n",
    "import maf_analysis_utils\n",
    "import mutation_modeling_util\n",
    "\n",
    "pathPrefix = '/Users/friedman/Desktop/mnt'\n",
    "\n",
    "from collections import Counter"
   ]
  },
  {
   "cell_type": "code",
   "execution_count": 4,
   "metadata": {},
   "outputs": [],
   "source": [
    "endometrialIds = analysis_utils.get_ids_by_hypermutant_status(hypermutantIdDir=pathPrefix + '/ifs/work/taylorlab/friedman/hypermutationAnalysisProj/projectDataAndConfigFiles/hypermutationStatusIds', cancerType='Endometrial Cancer', hypermutantStatus = 'Hypermutated')\n",
    "colorectalIds = analysis_utils.get_ids_by_hypermutant_status(hypermutantIdDir=pathPrefix +'/ifs/work/taylorlab/friedman/hypermutationAnalysisProj/projectDataAndConfigFiles/hypermutationStatusIds', cancerType='Colorectal Cancer', hypermutantStatus = 'Hypermutated')\n",
    "gliomaIds = analysis_utils.get_ids_by_hypermutant_status(hypermutantIdDir=pathPrefix +'/ifs/work/taylorlab/friedman/hypermutationAnalysisProj/projectDataAndConfigFiles/hypermutationStatusIds', cancerType='Glioma', hypermutantStatus = 'Hypermutated')\n",
    "\n"
   ]
  },
  {
   "cell_type": "code",
   "execution_count": 6,
   "metadata": {},
   "outputs": [
    {
     "data": {
      "text/plain": [
       "(53, 261, 237)"
      ]
     },
     "execution_count": 6,
     "metadata": {},
     "output_type": "execute_result"
    }
   ],
   "source": [
    "len(gliomaIds), len(colorectalIds), len(endometrialIds)"
   ]
  },
  {
   "cell_type": "code",
   "execution_count": 7,
   "metadata": {},
   "outputs": [
    {
     "name": "stderr",
     "output_type": "stream",
     "text": [
      "/anaconda2/lib/python2.7/site-packages/IPython/core/interactiveshell.py:2714: DtypeWarning: Columns (13,36,39,85,136) have mixed types. Specify dtype option on import or set low_memory=False.\n",
      "  interactivity=interactivity, compiler=compiler, result=result)\n"
     ]
    }
   ],
   "source": [
    "allImpactMuts = pd.read_table(pathPrefix + '/ifs/work/taylorlab/friedman/hypermutationAnalysisProj/projectDataAndConfigFiles/all_impact_mutations_annotated_cohort.maf')"
   ]
  },
  {
   "cell_type": "code",
   "execution_count": 13,
   "metadata": {},
   "outputs": [],
   "source": [
    "hypermutantMutationsDf = allImpactMuts[allImpactMuts['Tumor_Sample_Barcode'].isin(colorectalIds | endometrialIds | gliomaIds)]"
   ]
  },
  {
   "cell_type": "code",
   "execution_count": 45,
   "metadata": {},
   "outputs": [
    {
     "name": "stderr",
     "output_type": "stream",
     "text": [
      "/anaconda2/lib/python2.7/site-packages/ipykernel_launcher.py:1: SettingWithCopyWarning: \n",
      "A value is trying to be set on a copy of a slice from a DataFrame.\n",
      "Try using .loc[row_indexer,col_indexer] = value instead\n",
      "\n",
      "See the caveats in the documentation: http://pandas.pydata.org/pandas-docs/stable/indexing.html#indexing-view-versus-copy\n",
      "  \"\"\"Entry point for launching an IPython kernel.\n"
     ]
    }
   ],
   "source": [
    "hypermutantMutationsDf['pid'] = hypermutantMutationsDf['Tumor_Sample_Barcode'].apply(lambda x: x[:9])\n",
    "s = hypermutantMutationsDf.drop_duplicates(subset=['Tumor_Sample_Barcode'])['pid'].value_counts()\n",
    "casesWithMultiples = s[s != 1].index\n",
    "casesWithThreeSamples = s[s == 3].index\n",
    "casesWithTwoSamples = s[s == 2].index"
   ]
  },
  {
   "cell_type": "code",
   "execution_count": 147,
   "metadata": {},
   "outputs": [],
   "source": [
    "multipleSampleTumorSampleBarcodes =  set(['P-0001882-T02-IM5', 'P-0001882-T03-IM6']) | set(hypermutantMutationsDf[hypermutantMutationsDf['pid'].isin(casesWithTwoSamples)]['Tumor_Sample_Barcode'])\n",
    "#WE ARE GOING TO GET RID OF THE CASES that are not actually related (MANUAL CURATION)\n",
    "multipleSampleTumorSampleBarcodes = multipleSampleTumorSampleBarcodes - set(['P-0021519-T02-IM6', 'P-0021519-T01-IM6',\n",
    "                                                                             'P-0020633-T01-IM6', 'P-0020633-T02-IM6',\n",
    "                                                                             'P-0000083-T02-IM6', 'P-0000083-T01-IM3',\n",
    "                                                                            'P-0001685-T02-IM3', 'P-0001685-T01-IM3'])\n"
   ]
  },
  {
   "cell_type": "code",
   "execution_count": 175,
   "metadata": {},
   "outputs": [],
   "source": [
    "mutationsWithMultipleSamples = hypermutantMutationsDf[hypermutantMutationsDf['Tumor_Sample_Barcode'].isin(multipleSampleTumorSampleBarcodes)]"
   ]
  },
  {
   "cell_type": "code",
   "execution_count": 176,
   "metadata": {},
   "outputs": [],
   "source": [
    "reload(maf_analysis_utils)\n",
    "mutationsWithMultipleSamples = maf_analysis_utils.mark_private_vs_shared_mutations(mutationsWithMultipleSamples)"
   ]
  },
  {
   "cell_type": "code",
   "execution_count": 177,
   "metadata": {
    "scrolled": true
   },
   "outputs": [
    {
     "name": "stdout",
     "output_type": "stream",
     "text": [
      "Endometrial Cancer\n"
     ]
    },
    {
     "name": "stderr",
     "output_type": "stream",
     "text": [
      "/Users/friedman/Desktop/mnt/ifs/work/taylorlab/friedman/myUtils/maf_analysis_utils.py:391: SettingWithCopyWarning: \n",
      "A value is trying to be set on a copy of a slice from a DataFrame.\n",
      "Try using .loc[row_indexer,col_indexer] = value instead\n",
      "\n",
      "See the caveats in the documentation: http://pandas.pydata.org/pandas-docs/stable/indexing.html#indexing-view-versus-copy\n",
      "  cohortMaf['pid'] = cohortMaf['Tumor_Sample_Barcode'].apply(lambda x: x[:9])\n",
      "/Users/friedman/Desktop/mnt/ifs/work/taylorlab/friedman/myUtils/maf_analysis_utils.py:395: SettingWithCopyWarning: \n",
      "A value is trying to be set on a copy of a slice from a DataFrame.\n",
      "Try using .loc[row_indexer,col_indexer] = value instead\n",
      "\n",
      "See the caveats in the documentation: http://pandas.pydata.org/pandas-docs/stable/indexing.html#indexing-view-versus-copy\n",
      "  oncogenicMutations['patientGeneMutated'] = oncogenicMutations.apply(lambda row: row['pid'] + '_' + row['Hugo_Symbol'], axis=1)\n"
     ]
    },
    {
     "name": "stdout",
     "output_type": "stream",
     "text": [
      "Glioma\n",
      "Colorectal Cancer\n",
      "Endometrial Cancer\n",
      "Glioma\n",
      "Colorectal Cancer\n"
     ]
    }
   ],
   "source": [
    "#Set up the cancer type implication dict info\n",
    "cancerTypeImplicationDictBig = maf_analysis_utils.create_dictionary_mapping_genes_to_cancer_types_with_implication(allImpactMuts, pathPrefix, cancerTypes=set(['Glioma', 'Colorectal Cancer', 'Endometrial Cancer']), t=.1)\n",
    "cancerTypeImplicationDictSmall = maf_analysis_utils.create_dictionary_mapping_genes_to_cancer_types_with_implication(allImpactMuts, pathPrefix, cancerTypes=set(['Glioma', 'Colorectal Cancer', 'Endometrial Cancer']), t=.025) \n",
    "for key, value in cancerTypeImplicationDictBig.items():\n",
    "    curCTypeGenes = cancerTypeImplicationDictSmall[key]\n",
    "    cancerTypeImplicationDictSmall[key] = curCTypeGenes - value"
   ]
  },
  {
   "cell_type": "code",
   "execution_count": 178,
   "metadata": {
    "scrolled": true
   },
   "outputs": [
    {
     "name": "stderr",
     "output_type": "stream",
     "text": [
      "/anaconda2/lib/python2.7/site-packages/ipykernel_launcher.py:3: SettingWithCopyWarning: \n",
      "A value is trying to be set on a copy of a slice from a DataFrame.\n",
      "Try using .loc[row_indexer,col_indexer] = value instead\n",
      "\n",
      "See the caveats in the documentation: http://pandas.pydata.org/pandas-docs/stable/indexing.html#indexing-view-versus-copy\n",
      "  This is separate from the ipykernel package so we can avoid doing imports until\n",
      "/anaconda2/lib/python2.7/site-packages/ipykernel_launcher.py:11: SettingWithCopyWarning: \n",
      "A value is trying to be set on a copy of a slice from a DataFrame.\n",
      "Try using .loc[row_indexer,col_indexer] = value instead\n",
      "\n",
      "See the caveats in the documentation: http://pandas.pydata.org/pandas-docs/stable/indexing.html#indexing-view-versus-copy\n",
      "  # This is added back by InteractiveShellApp.init_path()\n"
     ]
    }
   ],
   "source": [
    "#add cancer type info to the maf\n",
    "cDict = analysis_utils.get_cancer_type_information(cancerTypeDfPath = pathPrefix + '/ifs/work/taylorlab/friedman/mskImpactAsOfMarch2019/dmp/mskimpact/data_clinical_sample.txt')\n",
    "mutationsWithMultipleSamples['cancer_type'] = mutationsWithMultipleSamples['pid'].apply(lambda x: cDict[x] if x in cDict else None)\n",
    "#we need to adjust some cancer type names\n",
    "renameMapping = {'Pleural Mesothelioma, Epithelioid Type': 'Mesothelioma','Breast Invasive Ductal Carcinoma': 'Breast Cancer','Bladder Urothelial Carcinoma': 'Bladder Cancer','Upper Tract Urothelial Carcinoma': 'Bladder Cancer',\n",
    "'Colon Adenocarcinoma': 'Colorectal Cancer', 'Glioblastoma Multiforme': 'Glioma','Adenocarcinoma of the Gastroesophageal Junction': 'Esophagogastric Cancer','Pancreatic Neuroendocrine Tumor': 'Pancreatic Cancer',\n",
    "'Endometrial Carcinoma': 'Endometrial Cancer','Stomach Adenocarcinoma': 'Esophagogastric Cancer','Rectal Adenocarcinoma': 'Colorectal Cancer','High-Grade Serous Ovarian Cancer': 'Ovarian Cancer','Breast Invasive Lobular Carcinoma': 'Breast Cancer',\n",
    "'Oligodendroglioma': 'Glioma','Serous Ovarian Cancer': 'Ovarian Cancer','Prostate Adenocarcinoma': 'Prostate Cancer','Breast Invasive Carcinoma, NOS': 'Breast Cancer','Esophageal Adenocarcinoma': 'Esophagogastric Cancer',\n",
    "'Invasive Breast Carcinoma': 'Breast Cancer','Pancreatic Adenocarcinoma': 'Pancreatic Cancer','Uterine Endometrioid Carcinoma': 'Endometrial Cancer','Colorectal Adenocarcinoma': 'Colorectal Cancer','Mucinous Adenocarcinoma of the Colon and Rectum': 'Colorectal Cancer'\n",
    "}\n",
    "mutationsWithMultipleSamples['cancer_type'] = mutationsWithMultipleSamples['cancer_type'].apply(lambda x: renameMapping[x] if x in renameMapping else x)\n",
    "\n",
    "\n",
    "\n"
   ]
  },
  {
   "cell_type": "code",
   "execution_count": 179,
   "metadata": {},
   "outputs": [],
   "source": [
    "mutationsWithMultipleSamples = maf_analysis_utils.mark_mutations_by_gene_mut_type(mutationsWithMultipleSamples, cancerTypeImplicationDictBig, cancerTypeImplicationDictSmall)\n"
   ]
  },
  {
   "cell_type": "code",
   "execution_count": 208,
   "metadata": {},
   "outputs": [],
   "source": [
    "listOfDicts = []\n",
    "def summarize_mutation_info_for_plotting(maf):\n",
    "    for case in set(maf['Tumor_Sample_Barcode']):\n",
    "        caseMafOnc = maf[(maf['Tumor_Sample_Barcode'] == case) & maf['oncogenic'].notnull()]\n",
    "        sharedMuts = caseMafOnc[(caseMafOnc['isSharedMut'] == True)]\n",
    "        privateMuts = caseMafOnc[(caseMafOnc['isSharedMut'] == False)]\n",
    "        \n",
    "        nOncShared = sharedMuts.shape[0] + 0.00001\n",
    "        nOncPrivate = privateMuts.shape[0] + 0.000001\n",
    "        \n",
    "        #inefficient homesizzle\n",
    "        listOfDicts.append({\n",
    "            'Tumor_Sample_Barcode': case, 'type': 'OncSharedStrong', 'timing' : 'early', 'orderingVal': 1,\n",
    "            'n': 1.0*sharedMuts[sharedMuts['geneMutType'] == 'strongly_recurrent'].shape[0]/nOncShared})\n",
    "        listOfDicts.append({\n",
    "            'Tumor_Sample_Barcode': case, 'type': 'nOncPrivateStrong', 'timing' : 'late', 'orderingVal': 2,\n",
    "            'n': 1.0*privateMuts[privateMuts['geneMutType'] == 'strongly_recurrent'].shape[0]/nOncPrivate})\n",
    "        listOfDicts.append({\n",
    "            'Tumor_Sample_Barcode': case, 'type': 'nOncSharedWeak', 'timing' : 'early', 'orderingVal': 3,\n",
    "            'n': 1.0*sharedMuts[sharedMuts['geneMutType'] == 'weakly_recurrent'].shape[0]/nOncShared})\n",
    "        listOfDicts.append({\n",
    "            'Tumor_Sample_Barcode': case, 'type': 'nOncPrivateWeak', 'timing' : 'late', 'orderingVal': 4,\n",
    "            'n': 1.0*privateMuts[privateMuts['geneMutType'] == 'weakly_recurrent'].shape[0]/nOncPrivate})\n",
    "        listOfDicts.append({\n",
    "            'Tumor_Sample_Barcode': case, 'type': 'nOncSharedUnrelated', 'timing' : 'early', 'orderingVal': 5,\n",
    "            'n': 1.0*sharedMuts[sharedMuts['geneMutType'] == 'not_recurrent'].shape[0]/nOncShared})\n",
    "        listOfDicts.append({\n",
    "            'Tumor_Sample_Barcode': case, 'type': 'nOncPrivateUnrelated', 'timing' :'late', 'orderingVal': 6, \n",
    "            'n': 1.0*privateMuts[privateMuts['geneMutType'] == 'not_recurrent'].shape[0]/nOncPrivate})\n",
    "\n",
    "    return pd.DataFrame(listOfDicts)\n",
    "        \n",
    "        "
   ]
  },
  {
   "cell_type": "code",
   "execution_count": 209,
   "metadata": {},
   "outputs": [],
   "source": [
    "df = summarize_mutation_info_for_plotting(mutationsWithMultipleSamples)"
   ]
  },
  {
   "cell_type": "code",
   "execution_count": 210,
   "metadata": {},
   "outputs": [],
   "source": [
    "df.to_csv('/Users/friedman/Desktop/WORK/dataForLocalPlotting/privateVsSharedMutType.tsv', index=False, sep='\\t')"
   ]
  },
  {
   "cell_type": "code",
   "execution_count": null,
   "metadata": {},
   "outputs": [],
   "source": []
  }
 ],
 "metadata": {
  "kernelspec": {
   "display_name": "Python 2",
   "language": "python",
   "name": "python2"
  },
  "language_info": {
   "codemirror_mode": {
    "name": "ipython",
    "version": 2
   },
   "file_extension": ".py",
   "mimetype": "text/x-python",
   "name": "python",
   "nbconvert_exporter": "python",
   "pygments_lexer": "ipython2",
   "version": "2.7.15"
  }
 },
 "nbformat": 4,
 "nbformat_minor": 2
}
