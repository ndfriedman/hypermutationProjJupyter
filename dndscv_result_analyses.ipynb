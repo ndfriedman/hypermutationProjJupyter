{
 "cells": [
  {
   "cell_type": "code",
   "execution_count": null,
   "metadata": {},
   "outputs": [],
   "source": [
    "#this script is used for analyzing things we get as the result of dnds cv"
   ]
  },
  {
   "cell_type": "code",
   "execution_count": 1,
   "metadata": {},
   "outputs": [],
   "source": [
    "import sys\n",
    "import argparse\n",
    "import os\n",
    "import pandas as pd\n",
    "import numpy as np\n",
    "import numpy\n",
    "\n",
    "from collections import Counter\n",
    "\n",
    "pathPrefix = '/Users/friedman/Desktop/mnt'\n",
    "\n",
    "sys.path.append(pathPrefix + '/ifs/work/taylorlab/friedman/myUtils')\n",
    "import analysis_utils \n",
    "import mutationSigUtils \n",
    "import maf_analysis_utils\n",
    "import clonality_analysis_util\n",
    "import re\n"
   ]
  },
  {
   "cell_type": "code",
   "execution_count": 2,
   "metadata": {},
   "outputs": [
    {
     "name": "stderr",
     "output_type": "stream",
     "text": [
      "/anaconda2/lib/python2.7/site-packages/IPython/core/interactiveshell.py:2714: DtypeWarning: Columns (13,36,39,85,136) have mixed types. Specify dtype option on import or set low_memory=False.\n",
      "  interactivity=interactivity, compiler=compiler, result=result)\n"
     ]
    }
   ],
   "source": [
    "allImpactMuts = pd.read_table(pathPrefix + '/ifs/work/taylorlab/friedman/hypermutationAnalysisProj/projectDataAndConfigFiles/all_impact_mutations_annotated_cohort.maf')"
   ]
  },
  {
   "cell_type": "code",
   "execution_count": 3,
   "metadata": {},
   "outputs": [],
   "source": [
    "endometrialHyperIds = analysis_utils.get_ids_by_hypermutant_status(hypermutantIdDir=pathPrefix + '/ifs/work/taylorlab/friedman/hypermutationAnalysisProj/projectDataAndConfigFiles/hypermutationStatusIds', cancerType='Endometrial Cancer', hypermutantStatus = 'Hypermutated')\n",
    "colorectalHyperIds = analysis_utils.get_ids_by_hypermutant_status(hypermutantIdDir=pathPrefix +'/ifs/work/taylorlab/friedman/hypermutationAnalysisProj/projectDataAndConfigFiles/hypermutationStatusIds', cancerType='Colorectal Cancer', hypermutantStatus = 'Hypermutated')\n",
    "gliomaHyperIds = analysis_utils.get_ids_by_hypermutant_status(hypermutantIdDir=pathPrefix +'/ifs/work/taylorlab/friedman/hypermutationAnalysisProj/projectDataAndConfigFiles/hypermutationStatusIds', cancerType='Glioma', hypermutantStatus = 'Hypermutated')\n",
    "\n",
    "endometrialNormalIds = analysis_utils.get_ids_by_hypermutant_status(hypermutantIdDir=pathPrefix + '/ifs/work/taylorlab/friedman/hypermutationAnalysisProj/projectDataAndConfigFiles/hypermutationStatusIds', cancerType='Endometrial Cancer', hypermutantStatus = 'Normal')\n",
    "colorectalNormalIds = analysis_utils.get_ids_by_hypermutant_status(hypermutantIdDir=pathPrefix +'/ifs/work/taylorlab/friedman/hypermutationAnalysisProj/projectDataAndConfigFiles/hypermutationStatusIds', cancerType='Colorectal Cancer', hypermutantStatus = 'Normal')\n",
    "gliomaNormalIds = analysis_utils.get_ids_by_hypermutant_status(hypermutantIdDir=pathPrefix +'/ifs/work/taylorlab/friedman/hypermutationAnalysisProj/projectDataAndConfigFiles/hypermutationStatusIds', cancerType='Glioma', hypermutantStatus = 'Normal')"
   ]
  },
  {
   "cell_type": "code",
   "execution_count": 5,
   "metadata": {},
   "outputs": [],
   "source": [
    "endometrialHyperMuts = allImpactMuts[allImpactMuts['Tumor_Sample_Barcode'].isin(endometrialHyperIds)]\n",
    "colorectalHyperMuts = allImpactMuts[allImpactMuts['Tumor_Sample_Barcode'].isin(colorectalHyperIds)]\n",
    "gliomaHyperMuts = allImpactMuts[allImpactMuts['Tumor_Sample_Barcode'].isin(gliomaHyperIds)]\n",
    "\n",
    "endometrialNormalMuts = allImpactMuts[allImpactMuts['Tumor_Sample_Barcode'].isin(endometrialNormalIds)]\n",
    "colorectalNormalMuts = allImpactMuts[allImpactMuts['Tumor_Sample_Barcode'].isin(colorectalNormalIds)]\n",
    "gliomaNormalMuts = allImpactMuts[allImpactMuts['Tumor_Sample_Barcode'].isin(gliomaNormalIds)]"
   ]
  },
  {
   "cell_type": "code",
   "execution_count": 12,
   "metadata": {},
   "outputs": [],
   "source": [
    "\n",
    "#dndscvNonHyper = pd.read_table('/Users/friedman/Desktop/mnt/ifs/work/taylorlab/friedman/myAdjustedDataFiles/allNonHypermutantImpactDndsCVresults.tsv')\n",
    "qValDict = dict(zip(dndscvNonHyper['gene_name'], dndscvNonHyper['qglobal_cv']))"
   ]
  },
  {
   "cell_type": "code",
   "execution_count": 9,
   "metadata": {},
   "outputs": [],
   "source": [
    "endometrialHotspotMuts = endometrialHyperMuts[endometrialHyperMuts['is-a-hotspot'] == 'Y']"
   ]
  },
  {
   "cell_type": "code",
   "execution_count": null,
   "metadata": {},
   "outputs": [],
   "source": [
    "#TODO--exclude genes that are siginificant in Endometrial normal "
   ]
  },
  {
   "cell_type": "code",
   "execution_count": 33,
   "metadata": {},
   "outputs": [],
   "source": [
    "oncogenicMuts = colorectalHyperMuts[colorectalHyperMuts['oncogenic'].notnull()]\n",
    "\n",
    "#oncogenicMuts = endometrialHyperMuts[endometrialHyperMuts['oncogenic'].notnull()]\n",
    "listOfDicts = []\n",
    "for gene in set(oncogenicMuts['Hugo_Symbol']):\n",
    "    geneMaf = oncogenicMuts[oncogenicMuts['Hugo_Symbol'] == gene]\n",
    "    nMutOnc = geneMaf.shape[0]\n",
    "    nMutHotspot = geneMaf[geneMaf['is-a-hotspot'] == 'Y'].shape[0]\n",
    "    qVal = None\n",
    "    if gene in qValDict:\n",
    "        qVal = qValDict[gene]\n",
    "    listOfDicts.append({'gene': gene, 'qVal': qVal, 'nHotspotMuts': nMutHotspot, 'nOncogenicMuts': nMutOnc})\n",
    "\n",
    "df = pd.DataFrame(listOfDicts)"
   ]
  },
  {
   "cell_type": "code",
   "execution_count": 34,
   "metadata": {},
   "outputs": [],
   "source": [
    "df['displayLabelHotspot'] = df.apply(lambda row: row['gene'] if (row['nHotspotMuts'] > 5) else None, axis=1)\n",
    "df['displayLabelOncogenic'] = df.apply(lambda row: row['gene'] if (row['nOncogenicMuts'] > 20) else None, axis=1)"
   ]
  },
  {
   "cell_type": "code",
   "execution_count": 35,
   "metadata": {},
   "outputs": [],
   "source": [
    "df.to_csv('/Users/friedman/Desktop/WORK/dataForLocalPlotting/dndscv_pancan_vs_local_genes.tsv', index=False, sep='\\t')"
   ]
  },
  {
   "cell_type": "markdown",
   "metadata": {},
   "source": [
    "**Format DNDSCV data for plotting**"
   ]
  },
  {
   "cell_type": "code",
   "execution_count": 17,
   "metadata": {},
   "outputs": [],
   "source": [
    "dfEndo = pd.read_table('/Users/friedman/Desktop/mnt/ifs/work/taylorlab/friedman/myAdjustedDataFiles/endometrialDNDSdata.tsv')\n",
    "dfColo = pd.read_table('/Users/friedman/Desktop/mnt/ifs/work/taylorlab/friedman/myAdjustedDataFiles/colorectalDNDSdata.tsv')\n",
    "dfGlioma = pd.read_table('/Users/friedman/Desktop/mnt/ifs/work/taylorlab/friedman/myAdjustedDataFiles/gliomaDNDSdata.tsv')\n"
   ]
  },
  {
   "cell_type": "code",
   "execution_count": 18,
   "metadata": {},
   "outputs": [],
   "source": [
    "dfEndo['cancerType'] = 'Endometrial Cancer'\n",
    "dfColo['cancerType'] = 'Colorectal Cancer'\n",
    "dfGlioma['cancerType'] = 'Glioma'"
   ]
  },
  {
   "cell_type": "code",
   "execution_count": 19,
   "metadata": {},
   "outputs": [],
   "source": [
    "df = pd.concat([dfEndo, dfColo, dfGlioma])"
   ]
  },
  {
   "cell_type": "code",
   "execution_count": 20,
   "metadata": {},
   "outputs": [],
   "source": [
    "df['displayLabel'] = df.apply(lambda row: row['gene_name']\n",
    "                 if (row['qglobal_cv.Hypermutated'] < .05 or row['qglobal_cv.Normal'] < 0) else None, axis=1)"
   ]
  },
  {
   "cell_type": "code",
   "execution_count": 21,
   "metadata": {},
   "outputs": [],
   "source": [
    "df.to_csv('/Users/friedman/Desktop/WORK/dataForLocalPlotting/dndscvSummary.tsv', index=False, sep='\\t')"
   ]
  },
  {
   "cell_type": "markdown",
   "metadata": {},
   "source": [
    "**Comparing hypermutation gene fractions with hypermutated dndscv results**"
   ]
  },
  {
   "cell_type": "code",
   "execution_count": 26,
   "metadata": {},
   "outputs": [
    {
     "data": {
      "text/plain": [
       "array(['cancerType', 'gene', 'geneSize', 'nmutPerCaseHyper',\n",
       "       'nmutPerCaseNormal', 'displayLabel', 'enrichmentStatus'],\n",
       "      dtype=object)"
      ]
     },
     "execution_count": 26,
     "metadata": {},
     "output_type": "execute_result"
    }
   ],
   "source": [
    "#dfObserved = pd.read_table('/Users/friedman/Desktop/WORK/dataForLocalPlotting/mutIncidenceComparisson.tsv')\n",
    "dfObserved.columns.values"
   ]
  },
  {
   "cell_type": "code",
   "execution_count": 27,
   "metadata": {},
   "outputs": [],
   "source": [
    "listOfDicts = []\n",
    "for gene in set(df['gene_name']):\n",
    "    if gene in set(dfObserved['gene']):\n",
    "        for cancerType in ['Endometrial Cancer', 'Colorectal Cancer', 'Glioma']:\n",
    "            ctGeneDf = dfObserved[(dfObserved['gene'] == gene) & (dfObserved['cancerType'] == cancerType)]\n",
    "            fracCaseObs = ctGeneDf['nmutPerCaseHyper'].iloc[0]\n",
    "            geneSize = ctGeneDf['geneSize'].iloc[0]\n",
    "            \n",
    "            dndsCtGeneDf = df[(df['gene_name'] ==  gene) & (df['cancerType'] == cancerType)]\n",
    "            qVal = dndsCtGeneDf['qglobal_cv.Hypermutated'].iloc[0] \n",
    "            \n",
    "            listOfDicts.append({'cancerType': cancerType, 'gene': gene, 'fracCase': fracCaseObs, \n",
    "                                'geneSize': geneSize, 'qVal': qVal})\n",
    "            \n",
    "dfComp = pd.DataFrame(listOfDicts)\n",
    "        "
   ]
  },
  {
   "cell_type": "code",
   "execution_count": 54,
   "metadata": {},
   "outputs": [],
   "source": [
    "dfComp['displayLabel'] = dfComp.apply(lambda row: row['gene'] if ((row['qVal'] > .05 and row['fracCase'] > .2) or (row['qVal'] < .1)) else None, axis=1)"
   ]
  },
  {
   "cell_type": "code",
   "execution_count": 55,
   "metadata": {},
   "outputs": [],
   "source": [
    "dfCompToWrite = dfComp[(dfComp['cancerType'] != 'Glioma') & (dfComp['qVal'] > .05)]"
   ]
  },
  {
   "cell_type": "code",
   "execution_count": 56,
   "metadata": {},
   "outputs": [],
   "source": [
    "dfCompToWrite.to_csv('/Users/friedman/Desktop/WORK/dataForLocalPlotting/dndsVsFracMutComp.tsv', index=False, sep='\\t')"
   ]
  }
 ],
 "metadata": {
  "kernelspec": {
   "display_name": "Python 2",
   "language": "python",
   "name": "python2"
  },
  "language_info": {
   "codemirror_mode": {
    "name": "ipython",
    "version": 2
   },
   "file_extension": ".py",
   "mimetype": "text/x-python",
   "name": "python",
   "nbconvert_exporter": "python",
   "pygments_lexer": "ipython2",
   "version": "2.7.15"
  }
 },
 "nbformat": 4,
 "nbformat_minor": 2
}
