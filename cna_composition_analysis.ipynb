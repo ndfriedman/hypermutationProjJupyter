{
 "cells": [
  {
   "cell_type": "code",
   "execution_count": 33,
   "metadata": {},
   "outputs": [],
   "source": [
    "import pandas as pd\n",
    "import os\n",
    "import sys\n",
    "\n",
    "sys.path.append('/Users/friedman/Desktop/mnt/juno/work/taylorlab/friedman/myUtils')\n",
    "import analysis_utils \n",
    "import mutationSigUtils \n",
    "import maf_analysis_utils\n",
    "import mutation_modeling_util\n",
    "import get_gene_and_cohort_list_utils\n",
    "import numpy as np\n",
    "import scipy.stats as stats\n",
    "import math\n",
    "\n",
    "pathPrefix = '/Users/friedman/Desktop/mnt'\n",
    "from collections import Counter"
   ]
  },
  {
   "cell_type": "code",
   "execution_count": 65,
   "metadata": {},
   "outputs": [],
   "source": [
    "def summarize_cna_stats_for_cancer_type(pcawgInfo, cancerType):\n",
    "    timingData = pcawgData[pcawgData['histology_abbreviation'] == cancerType]\n",
    "    infoDict = {}\n",
    "    chromosomes = [str(i) for i in range(1,22)] + ['X', 'Y']\n",
    "    for chromosome in chromosomes:\n",
    "        infoDict[chromosome] = np.nanmean(timingData[timingData['chr'] == chromosome]['time'])\n",
    "    return infoDict"
   ]
  },
  {
   "cell_type": "code",
   "execution_count": 86,
   "metadata": {},
   "outputs": [],
   "source": [
    "def summarize_differences_in_cnas_between_hyper_and_not_hyper(cnasHyper, cnasNormal, summaryDict):\n",
    "    listOfDicts = []\n",
    "    chromosomes = [str(i) for i in range(1,22)] + ['X', 'Y']\n",
    "    lossStates = set(['CNLOH', 'CNLOH & GAIN', 'HETLOSS'])\n",
    "    nNormalCases = len(set(cnasNormal['Tumor_Sample_Barcode']))\n",
    "    nHyperCases = len(set(cnasHyper['Tumor_Sample_Barcode']))\n",
    "    \n",
    "    for chromosome in chromosomes:\n",
    "        pcawgTiming = summaryDict[chromosome]\n",
    "        normalAllCna = cnasNormal[(cnasNormal['cn_state'] != 'DIPLOID') & (cnasNormal['chromosome'] == chromosome)]\n",
    "        hyperAllCna = cnasHyper[(cnasHyper['cn_state'] != 'DIPLOID') & (cnasHyper['chromosome'] == chromosome)]\n",
    "        listOfDicts.append({'Chromosome': chromosome, 'timingScore': pcawgTiming,\n",
    "                            'nCNA_normal': normalAllCna.shape[0], 'nCNA_hyper': hyperAllCna.shape[0],\n",
    "                            'fracCNA_normal': (1.0*normalAllCna.shape[0])/nNormalCases, 'fracCNA_hyper': (1.0*hyperAllCna.shape[0])/nHyperCases\n",
    "                           })\n",
    "    return pd.DataFrame(listOfDicts)"
   ]
  },
  {
   "cell_type": "code",
   "execution_count": 3,
   "metadata": {},
   "outputs": [],
   "source": [
    "armLevelDf = pd.read_table(pathPrefix + '/juno/work/taylorlab/friedman/myAdjustedDataFiles/feb_1_cohort_compilation.arm_level.txt')"
   ]
  },
  {
   "cell_type": "code",
   "execution_count": 20,
   "metadata": {},
   "outputs": [],
   "source": [
    "qcDf = pd.read_table(pathPrefix + '/juno/work/taylorlab/friedman/myAdjustedDataFiles/feb_1_cohort_compilation.cohort.txt')"
   ]
  },
  {
   "cell_type": "code",
   "execution_count": 46,
   "metadata": {},
   "outputs": [],
   "source": [
    "pcawgData = pd.read_csv(pathPrefix + '/juno/work/taylorlab/friedman/myAdjustedDataFiles/pcawgPaperCNATiming.csv', header=0)"
   ]
  },
  {
   "cell_type": "code",
   "execution_count": 80,
   "metadata": {},
   "outputs": [],
   "source": [
    "endometrialHyperIds = get_gene_and_cohort_list_utils.get_ids_by_hypermutant_status(hypermutantIdDir= pathPrefix + '/juno/work/taylorlab/friedman/hypermutationAnalysisProj/projectDataAndConfigFiles/hypermutationStatusIds', cancerType='Endometrial Cancer', hypermutantStatus = 'Hypermutated')\n",
    "colorectalHyperIds = get_gene_and_cohort_list_utils.get_ids_by_hypermutant_status(hypermutantIdDir=pathPrefix +'/juno/work/taylorlab/friedman/hypermutationAnalysisProj/projectDataAndConfigFiles/hypermutationStatusIds', cancerType='Colorectal Cancer', hypermutantStatus = 'Hypermutated')\n",
    "endometrialNormalIds = get_gene_and_cohort_list_utils.get_ids_by_hypermutant_status(hypermutantIdDir= pathPrefix + '/juno/work/taylorlab/friedman/hypermutationAnalysisProj/projectDataAndConfigFiles/hypermutationStatusIds', cancerType='Endometrial Cancer', hypermutantStatus = 'Normal')\n",
    "colorectalNormalIds = get_gene_and_cohort_list_utils.get_ids_by_hypermutant_status(hypermutantIdDir=pathPrefix +'/juno/work/taylorlab/friedman/hypermutationAnalysisProj/projectDataAndConfigFiles/hypermutationStatusIds', cancerType='Colorectal Cancer', hypermutantStatus = 'Normal')\n",
    "\n",
    "armLevelDf['Tumor_Sample_Barcode'] = armLevelDf['sample'].apply(lambda x: x[:17])\n",
    "armLevelDf['chromosome'] = armLevelDf['arm'].apply(lambda x: x.strip('p').strip('q'))\n",
    "qcDf['Tumor_Sample_Barcode'] = qcDf['tumor_sample_id'].apply(lambda x: x[:17])\n",
    "passIds = set(qcDf[qcDf['facets_suite_qc'] == True]['Tumor_Sample_Barcode'])\n",
    "endometrialHyperIds = endometrialHyperIds & passIds\n",
    "colorectalHyperIds = colorectalHyperIds & passIds\n",
    "endometrialNormalIds = endometrialNormalIds & passIds\n",
    "colorectalNormalIds = colorectalNormalIds & passIds\n",
    "\n",
    "armLevelEndoHyper = armLevelDf[armLevelDf['Tumor_Sample_Barcode'].isin(endometrialHyperIds)]\n",
    "armLevelColoHyper = armLevelDf[armLevelDf['Tumor_Sample_Barcode'].isin(colorectalHyperIds)]\n",
    "armLevelEndoNormal = armLevelDf[armLevelDf['Tumor_Sample_Barcode'].isin(endometrialNormalIds)]\n",
    "armLevelColoNormal = armLevelDf[armLevelDf['Tumor_Sample_Barcode'].isin(colorectalNormalIds)]\n"
   ]
  },
  {
   "cell_type": "code",
   "execution_count": 89,
   "metadata": {},
   "outputs": [
    {
     "name": "stderr",
     "output_type": "stream",
     "text": [
      "/anaconda2/lib/python2.7/site-packages/ipykernel_launcher.py:6: RuntimeWarning: Mean of empty slice\n",
      "  \n"
     ]
    }
   ],
   "source": [
    "endoDict = summarize_cna_stats_for_cancer_type(pcawgData, 'Uterus-AdenoCA')\n",
    "coloDict = summarize_cna_stats_for_cancer_type(pcawgData, 'ColoRect-AdenoCA')"
   ]
  },
  {
   "cell_type": "code",
   "execution_count": 90,
   "metadata": {},
   "outputs": [],
   "source": [
    "endometrialDf = summarize_differences_in_cnas_between_hyper_and_not_hyper(armLevelEndoHyper, armLevelEndoNormal, endoDict)\n",
    "colorectalDf = summarize_differences_in_cnas_between_hyper_and_not_hyper(armLevelColoHyper, armLevelColoNormal, coloDict)\n"
   ]
  },
  {
   "cell_type": "code",
   "execution_count": 109,
   "metadata": {},
   "outputs": [],
   "source": [
    "endometrialDf.to_csv('/Users/friedman/Desktop/WORK/dataForLocalPlotting/endoTiming.tsv', index=False, sep='\\t')\n",
    "colorectalDf.to_csv('/Users/friedman/Desktop/WORK/dataForLocalPlotting/coloTiming.tsv', index=False, sep='\\t')\n"
   ]
  },
  {
   "cell_type": "code",
   "execution_count": 92,
   "metadata": {},
   "outputs": [
    {
     "name": "stderr",
     "output_type": "stream",
     "text": [
      "/anaconda2/lib/python2.7/site-packages/IPython/core/interactiveshell.py:2714: DtypeWarning: Columns (4,17,18,40,41,43,44,71,72,108,124,125,128,129,130,131,132,133,134,135,137,140,141) have mixed types. Specify dtype option on import or set low_memory=False.\n",
      "  interactivity=interactivity, compiler=compiler, result=result)\n"
     ]
    }
   ],
   "source": [
    "allImpactMutsMaf = pd.read_table(pathPrefix + '/juno/work/taylorlab/friedman/myAdjustedDataFiles/data_mutations_extended_annotated_sigContext_nov19_2019.maf')"
   ]
  },
  {
   "cell_type": "code",
   "execution_count": 97,
   "metadata": {},
   "outputs": [],
   "source": [
    "allImpactMutsMaf['geneChr'] = allImpactMutsMaf.apply(lambda row: str(row['Hugo_Symbol']) + '_' + str(row['Chromosome']), axis=1)"
   ]
  },
  {
   "cell_type": "code",
   "execution_count": null,
   "metadata": {},
   "outputs": [],
   "source": [
    "#\n",
    "#####\n",
    "###########\n",
    "###################\n",
    "##########################\n",
    "################################\n",
    "##########################\n",
    "###################\n",
    "##########\n",
    "###\n",
    "#\n",
    "#MUTATION ATTIBUTION AND CNAs"
   ]
  },
  {
   "cell_type": "code",
   "execution_count": 309,
   "metadata": {},
   "outputs": [],
   "source": [
    "def summarize_mutation_and_cna_occurences(maf, armCnaSummary, typeCol = 'geneAndCause'):\n",
    "    \n",
    "    #MAKE sure we only look at CNAs for cases of interst\n",
    "    armCnaSummary = armCnaSummary[armCnaSummary['Tumor_Sample_Barcode'].isin(set(maf['Tumor_Sample_Barcode']))]\n",
    "    \n",
    "    #make dicts ahead of time to speed up stuff\n",
    "    allIds = set(maf['Tumor_Sample_Barcode']) #this shou\n",
    "    if len(allIds) != len(set(armCnaSummary['Tumor_Sample_Barcode'])):\n",
    "        print 'error lengths arent the same ', len(allIds), len(set(armCnaSummary['Tumor_Sample_Barcode']))\n",
    "    \n",
    "    listOfDicts = []\n",
    "    for gene in set(maf['Hugo_Symbol']):\n",
    "        geneMaf = maf[maf['Hugo_Symbol'] == gene]\n",
    "        y1y2 = geneMaf[(geneMaf['hypermutationInduced'] == 'hyperInduced') & (geneMaf['armState'] != 'DIPLOID')].shape[0]\n",
    "        y1n2 = geneMaf[(geneMaf['hypermutationInduced'] == 'hyperInduced') & (geneMaf['armState'] == 'DIPLOID')].shape[0]\n",
    "        n1y2 = geneMaf[(geneMaf['hypermutationInduced'] == 'notHyperAttributable') & (geneMaf['armState'] != 'DIPLOID')].shape[0]\n",
    "        n1n2 = geneMaf[(geneMaf['hypermutationInduced'] == 'notHyperAttributable') & (geneMaf['armState'] == 'DIPLOID')].shape[0]\n",
    "        \n",
    "        table = [[y1y2, y1n2], [n1y2, n1n2]]\n",
    "        oddsratio, pvalue = stats.fisher_exact(table)\n",
    "        \n",
    "        listOfDicts.append({'gene': gene, \n",
    "                            'oddsratio': oddsratio, 'pvalue': pvalue,\n",
    "                            'contingencyTable': str(y1y2) + '_' + str(y1n2) + '\\n' + str(n1y2) + '_' + str(n1n2)})\n",
    "\n",
    "    return pd.DataFrame(listOfDicts)\n",
    "    \n",
    "    \"\"\"geneDict = {}\n",
    "    for geneClass in set(maf[typeCol]):\n",
    "        geneClassYesIds = set(maf[maf[typeCol] == geneClass]['Tumor_Sample_Barcode'])\n",
    "        geneDict[geneClass + '_yes'] = geneClassYesIds\n",
    "        geneDict[geneClass + '_no'] = allIds - geneClassYesIds\n",
    "    \n",
    "    armCnaDict = {}\n",
    "    for chrArm in set(armCnaSummary['arm']):\n",
    "        cnaArmYesIds = set(armCnaSummary[(armCnaSummary['cn_state'] != 'DIPLOID')\n",
    "                & (armCnaSummary['arm'] == chrArm)]['Tumor_Sample_Barcode'])\n",
    "        armCnaDict[chrArm + '_yes'] = cnaArmYesIds\n",
    "        armCnaDict[chrArm + '_no'] = allIds - cnaArmYesIds\n",
    "    \n",
    "    print 'doing fisher tests'\n",
    "    listOfDicts = []\n",
    "    cntr = 0\n",
    "    \"\"\"\n",
    "        \n",
    "    \"\"\"for geneClass in set(maf[typeCol]):\n",
    "        if cntr%50 == 0: print cntr, len(set(maf[typeCol]))\n",
    "        cntr += 1\n",
    "        for chrArm in set(armCnaSummary['arm']):\n",
    "            y1y2 = len(geneDict[geneClass + '_yes'] & armCnaDict[chrArm + '_yes'])\n",
    "            y1n2 = len(geneDict[geneClass + '_yes'] & armCnaDict[chrArm + '_no'])\n",
    "            n1y2 = len(geneDict[geneClass + '_no'] & armCnaDict[chrArm + '_yes'])\n",
    "            n1n2 = len(geneDict[geneClass + '_no'] & armCnaDict[chrArm + '_no'])\n",
    "            \n",
    "            table = [[y1y2, y1n2], [n1y2, n1n2]]\n",
    "            oddsratio, pvalue = stats.fisher_exact(table)\n",
    "            listOfDicts.append({'geneClass': geneClass, 'chrArm': chrArm,\n",
    "                                'oddsratio': oddsratio, 'pvalue': pvalue,\n",
    "                                'gene': geneClass.split('_')[0],\n",
    "                               'contingencyTable': str(y1y2) + '_' + str(y1n2) + '\\n' + str(n1y2) + '_' + str(n1n2)})\n",
    "    \"\"\"\n",
    "    \n",
    "    \n",
    "    \n",
    "    \n",
    "    "
   ]
  },
  {
   "cell_type": "code",
   "execution_count": 118,
   "metadata": {},
   "outputs": [
    {
     "name": "stderr",
     "output_type": "stream",
     "text": [
      "/anaconda2/lib/python2.7/site-packages/IPython/core/interactiveshell.py:2714: DtypeWarning: Columns (4,17,18,43,44,71,72,125,128,129,130,131,132,133,134,137,140,141,142) have mixed types. Specify dtype option on import or set low_memory=False.\n",
      "  interactivity=interactivity, compiler=compiler, result=result)\n"
     ]
    }
   ],
   "source": [
    "mafWithAttribution = pd.read_table(pathPrefix + '/juno/work/taylorlab/friedman/myAdjustedDataFiles/mafWithMutationAttribution.tsv')\n"
   ]
  },
  {
   "cell_type": "code",
   "execution_count": 119,
   "metadata": {},
   "outputs": [],
   "source": [
    "reload(analysis_utils)\n",
    "chrArmDict = analysis_utils.map_impact_genes_to_chromosome_arm(armFilePath = pathPrefix + '/juno/work/taylorlab/friedman/myAdjustedDataFiles/IMPACTv6_gene_cytoband.txt')"
   ]
  },
  {
   "cell_type": "code",
   "execution_count": 121,
   "metadata": {},
   "outputs": [],
   "source": [
    "armLevelDf = pd.read_table(pathPrefix + '/juno/work/taylorlab/friedman/myAdjustedDataFiles/feb_1_cohort_compilation.arm_level.txt')"
   ]
  },
  {
   "cell_type": "code",
   "execution_count": 123,
   "metadata": {},
   "outputs": [],
   "source": [
    "qcDf = pd.read_table(pathPrefix + '/juno/work/taylorlab/friedman/myAdjustedDataFiles/feb_1_cohort_compilation.cohort.txt')\n",
    "armLevelDf['Tumor_Sample_Barcode'] = armLevelDf['sample'].apply(lambda x: x[:17])\n",
    "qcDf['Tumor_Sample_Barcode'] = qcDf['tumor_sample_id'].apply(lambda x: x[:17])\n",
    "passIds = set(qcDf[qcDf['facets_suite_qc'] == True]['Tumor_Sample_Barcode'])"
   ]
  },
  {
   "cell_type": "code",
   "execution_count": 124,
   "metadata": {},
   "outputs": [],
   "source": [
    "armLevelDf = armLevelDf[armLevelDf['Tumor_Sample_Barcode'].isin(passIds)]"
   ]
  },
  {
   "cell_type": "code",
   "execution_count": 129,
   "metadata": {},
   "outputs": [],
   "source": [
    "combinedIds = set(armLevelDf['Tumor_Sample_Barcode']) & set(mafWithAttribution['Tumor_Sample_Barcode'])\n",
    "armLevelDfRed = armLevelDf[armLevelDf['Tumor_Sample_Barcode'].isin(combinedIds)]\n",
    "mafWithAttribution = mafWithAttribution[mafWithAttribution['Tumor_Sample_Barcode'].isin(combinedIds)]"
   ]
  },
  {
   "cell_type": "code",
   "execution_count": 131,
   "metadata": {},
   "outputs": [],
   "source": [
    "mafWithAttribution['chrArm'] = mafWithAttribution['Hugo_Symbol'].apply(lambda x:\n",
    "    chrArmDict[x] if x in chrArmDict else None)\n",
    "cancerTypeDict = analysis_utils.get_cancer_type_information(cancerTypeDfPath = pathPrefix + '/juno/work/taylorlab/friedman/myAdjustedDataFiles/cancerTypeInfo_asOfNov192019.txt', mode='pid')\n",
    "mafWithAttribution['pid'] = mafWithAttribution['Tumor_Sample_Barcode'].apply(lambda x: x[:9])\n",
    "mafWithAttribution['cancerType'] = mafWithAttribution['pid'].apply(lambda x: cancerTypeDict[x] if x in cancerTypeDict else None)"
   ]
  },
  {
   "cell_type": "code",
   "execution_count": 306,
   "metadata": {},
   "outputs": [
    {
     "ename": "TypeError",
     "evalue": "summarize_mutation_and_cna_occurences() got an unexpected keyword argument 'mode'",
     "output_type": "error",
     "traceback": [
      "\u001b[0;31m---------------------------------------------------------------------------\u001b[0m",
      "\u001b[0;31mTypeError\u001b[0m                                 Traceback (most recent call last)",
      "\u001b[0;32m<ipython-input-306-b556d21e2321>\u001b[0m in \u001b[0;36m<module>\u001b[0;34m()\u001b[0m\n\u001b[1;32m      1\u001b[0m df = summarize_mutation_and_cna_occurences(mafWithAttribution[mafWithAttribution['cancerType'] == 'Endometrial Cancer'],\n\u001b[0;32m----> 2\u001b[0;31m         armLevelDfRed, mode='oncogenic', typeCol = 'geneAndCause')\n\u001b[0m",
      "\u001b[0;31mTypeError\u001b[0m: summarize_mutation_and_cna_occurences() got an unexpected keyword argument 'mode'"
     ]
    }
   ],
   "source": [
    "#df = summarize_mutation_and_cna_occurences(mafWithAttribution[mafWithAttribution['cancerType'] == 'Endometrial Cancer'],\n",
    "#        armLevelDfRed, typeCol = 'geneAndCause')\n"
   ]
  },
  {
   "cell_type": "code",
   "execution_count": 185,
   "metadata": {},
   "outputs": [
    {
     "name": "stderr",
     "output_type": "stream",
     "text": [
      "/anaconda2/lib/python2.7/site-packages/ipykernel_launcher.py:1: SettingWithCopyWarning: \n",
      "A value is trying to be set on a copy of a slice from a DataFrame.\n",
      "Try using .loc[row_indexer,col_indexer] = value instead\n",
      "\n",
      "See the caveats in the documentation: http://pandas.pydata.org/pandas-docs/stable/indexing.html#indexing-view-versus-copy\n",
      "  \"\"\"Entry point for launching an IPython kernel.\n"
     ]
    }
   ],
   "source": [
    "armLevelDfRed['armCase'] = armLevelDfRed['Tumor_Sample_Barcode'] + '_' + armLevelDfRed['arm']\n",
    "armDict = dict(zip(armLevelDfRed['armCase'], armLevelDfRed['cn_state']))\n",
    "mafWithAttribution['armCase'] = mafWithAttribution['Tumor_Sample_Barcode'] + '_' + mafWithAttribution['chrArm']\n",
    "mafWithAttribution['armState'] = mafWithAttribution['armCase'].apply(lambda x: \n",
    "            armDict[x] if x in armDict else None)"
   ]
  },
  {
   "cell_type": "code",
   "execution_count": 286,
   "metadata": {},
   "outputs": [],
   "source": [
    "reducedMaf = mafWithAttribution[['hypermutationInduced', 'mutAttribution',\n",
    "    'chrArm', 'cancerType', 'Tumor_Sample_Barcode', 'armState', 'Hugo_Symbol', 'HGVSp_Short']]"
   ]
  },
  {
   "cell_type": "code",
   "execution_count": 325,
   "metadata": {},
   "outputs": [],
   "source": [
    "df = summarize_mutation_and_cna_occurences(reducedMaf[reducedMaf['cancerType'] == 'Endometrial Cancer'],\n",
    "        armLevelDfRed, typeCol = 'geneAndCause')"
   ]
  },
  {
   "cell_type": "code",
   "execution_count": null,
   "metadata": {},
   "outputs": [],
   "source": [
    "#\n",
    "#####\n",
    "#############\n",
    "######################\n",
    "##############################\n",
    "#######################\n",
    "#############\n",
    "######\n",
    "#"
   ]
  },
  {
   "cell_type": "code",
   "execution_count": 261,
   "metadata": {},
   "outputs": [],
   "source": [
    "alexMatrix = mafWithAttribution[mafWithAttribution['oncogenic'].notnull()]\n",
    "alexMatrix = alexMatrix[['hypermutationInduced', 'mutAttribution',\n",
    "    'chrArm', 'cancerType', 'Tumor_Sample_Barcode', 'armState', 'Hugo_Symbol', 'HGVSp_Short']]"
   ]
  },
  {
   "cell_type": "code",
   "execution_count": 262,
   "metadata": {
    "scrolled": false
   },
   "outputs": [
    {
     "name": "stdout",
     "output_type": "stream",
     "text": [
      "100\n",
      "200\n",
      "300\n",
      "400\n"
     ]
    }
   ],
   "source": [
    "genes = set(['ABL1', 'ACVR1', 'AGO2', 'AKT1', 'AKT2', 'AKT3', 'ALK', 'ALOX12B', 'ANKRD11', 'APC', 'AR', 'ARAF', 'ARID1A', 'ARID1B', 'ARID2', 'ARID5B', 'ASXL1', 'ASXL2', 'ATM', 'ATR', 'ATRX', 'AURKA', 'AURKB', 'AXIN1', 'AXIN2', 'AXL', 'B2M', 'BABAM1', 'BAP1', 'BARD1', 'BBC3', 'BCL10', 'BCL2', 'BCL2L1', 'BCL2L11', 'BCL6', 'BCOR', 'BIRC3', 'BLM', 'BMPR1A', 'BRAF', 'BRCA1', 'BRCA2', 'BRD4', 'BRIP1', 'BTK', 'CALR', 'CARD11', 'CARM1', 'CASP8', 'CBFB', 'CBL', 'CCND1', 'CCND2', 'CCND3', 'CCNE1', 'CD274', 'CD276', 'CD79A', 'CD79B', 'CDC42', 'CDC73', 'CDH1', 'CDK12', 'CDK4', 'CDK6', 'CDK8', 'CDKN1A', 'CDKN1B', 'CDKN2A', 'CDKN2B', 'CDKN2C', 'CEBPA', 'CENPA', 'CHEK1', 'CHEK2', 'CIC', 'CREBBP', 'CRKL', 'CRLF2', 'CSDE1', 'CSF1R', 'CSF3R', 'CTCF', 'CTLA4', 'CTNNB1', 'CUL3', 'CXCR4', 'CYLD', 'CYSLTR2', 'DAXX', 'DCUN1D1', 'DDR2', 'DICER1', 'DIS3', 'DNAJB1', 'DNMT1', 'DNMT3A', 'DNMT3B', 'DOT1L', 'DROSHA', 'DUSP4', 'E2F3', 'EED', 'EGFL7', 'EGFR', 'EIF1AX', 'EIF4A2', 'EIF4E', 'ELF3', 'EP300', 'EPAS1', 'EPCAM', 'EPHA3', 'EPHA5', 'EPHA7', 'EPHB1', 'ERBB2', 'ERBB3', 'ERBB4', 'ERCC2', 'ERCC3', 'ERCC4', 'ERCC5', 'ERF', 'ERG', 'ERRFI1', 'ESR1', 'ETV1', 'ETV6', 'EZH1', 'EZH2', 'FAM123B', 'FAM175A', 'FAM46C', 'FAM58A', 'FANCA', 'FANCC', 'FAT1', 'FBXW7', 'FGF19', 'FGF3', 'FGF4', 'FGFR1', 'FGFR2', 'FGFR3', 'FGFR4', 'FH', 'FLCN', 'FLT1', 'FLT3', 'FLT4', 'FOXA1', 'FOXL2', 'FOXO1', 'FOXP1', 'FUBP1', 'FYN', 'GATA1', 'GATA2', 'GATA3', 'GLI1', 'GNA11', 'GNAQ', 'GNAS', 'GPS2', 'GREM1', 'GRIN2A', 'GSK3B', 'H3F3A', 'H3F3B', 'H3F3C', 'HGF', 'HIST1H1C', 'HIST1H2BD', 'HIST1H3A', 'HIST1H3B', 'HIST1H3C', 'HIST1H3D', 'HIST1H3E', 'HIST1H3F', 'HIST1H3G', 'HIST1H3H', 'HIST1H3I', 'HIST1H3J', 'HIST2H3C', 'HIST2H3D', 'HIST3H3', 'HLA-A', 'HLA-B', 'HNF1A', 'HOXB13', 'HRAS', 'ICOSLG', 'ID3', 'IDH1', 'IDH2', 'IFNGR1', 'IGF1', 'IGF1R', 'IGF2', 'IKBKE', 'IKZF1', 'IL10', 'IL7R', 'INHA', 'INHBA', 'INPP4A', 'INPP4B', 'INPPL1', 'INSR', 'IRF4', 'IRS1', 'IRS2', 'JAK1', 'JAK2', 'JAK3', 'JUN', 'KDM5A', 'KDM5C', 'KDM6A', 'KDR', 'KEAP1', 'KIT', 'KLF4', 'KMT2B', 'KMT5A', 'KNSTRN', 'KRAS', 'LATS1', 'LATS2', 'LMO1', 'LYN', 'MALT1', 'MAP2K1', 'MAP2K2', 'MAP2K4', 'MAP3K1', 'MAP3K13', 'MAP3K14', 'MAPK1', 'MAPK3', 'MAPKAP1', 'MAX', 'MCL1', 'MDC1', 'MDM2', 'MDM4', 'MED12', 'MEF2B', 'MEN1', 'MET', 'MGA', 'MITF', 'MLH1', 'KMT2A', 'KMT2B', 'KMT2C', 'MPL', 'MRE11A', 'MSH2', 'MSH3', 'MSH6', 'MSI1', 'MSI2', 'MST1', 'MST1R', 'MTOR', 'MUTYH', 'MYC', 'MYCL1', 'MYCN', 'MYD88', 'MYOD1', 'NBN', 'NCOA3', 'NCOR1', 'NEGR1', 'NF1', 'NF2', 'NFE2L2', 'NFKBIA', 'NKX2-1', 'NKX3-1', 'NOTCH1', 'NOTCH2', 'NOTCH3', 'NOTCH4', 'NPM1', 'NRAS', 'NSD1', 'NTHL1', 'NTRK1', 'NTRK2', 'NTRK3', 'NUF2', 'NUP93', 'PAK1', 'PAK7', 'PALB2', 'PARK2', 'PARP1', 'PAX5', 'PBRM1', 'PDCD1', 'PDCD1LG2', 'PDGFRA', 'PDGFRB', 'PDPK1', 'PGR', 'PHOX2B', 'PIK3C2G', 'PIK3C3', 'PIK3CA', 'PIK3CB', 'PIK3CD', 'PIK3CG', 'PIK3R1', 'PIK3R2', 'PIK3R3', 'PIM1', 'PLCG2', 'PLK2', 'PMAIP1', 'PMS1', 'PMS2', 'PNRC1', 'POLD1', 'POLE', 'PPARG', 'PPM1D', 'PPP2R1A', 'PPP4R2', 'PPP6C', 'PRDM1', 'PRDM14', 'PREX2', 'PRKAR1A', 'PRKCI', 'PRKD1', 'PTCH1', 'PTEN', 'PTP4A1', 'PTPN11', 'PTPRD', 'PTPRS', 'PTPRT', 'RAB35', 'RAC1', 'RAC2', 'RAD21', 'RAD50', 'RAD51', 'RAD51C', 'RAD51L1', 'RAD51L3', 'RAD52', 'RAD54L', 'RAF1', 'RARA', 'RASA1', 'RB1', 'RBM10', 'RECQL', 'RECQL4', 'REL', 'RET', 'RFWD2', 'RHEB', 'RHOA', 'RICTOR', 'RIT1', 'RNF43', 'ROS1', 'RPS6KA4', 'RPS6KB2', 'RPTOR', 'RRAGC', 'RRAS', 'RRAS2', 'RTEL1', 'RUNX1', 'RXRA', 'RYBP', 'SDHA', 'SDHAF2', 'SDHB', 'SDHC', 'SDHD', 'SESN1', 'SESN2', 'SESN3', 'SETD2', 'SF3B1', 'SH2B3', 'SH2D1A', 'SHOC2', 'SHQ1', 'SLX4', 'SMAD2', 'SMAD3', 'SMAD4', 'SMARCA4', 'SMARCB1', 'SMARCD1', 'SMO', 'SMYD3', 'SOCS1', 'SOS1', 'SOX17', 'SOX2', 'SOX9', 'SPEN', 'SPOP', 'SPRED1', 'SRC', 'SRSF2', 'STAG2', 'STAT3', 'STAT5A', 'STAT5B', 'STK11', 'STK19', 'STK40', 'SUFU', 'SUZ12', 'SYK', 'TAP1', 'TAP2', 'TBX3', 'TCEB1', 'TCF3', 'TCF7L2', 'TEK', 'TERT', 'TET1', 'TET2', 'TGFBR1', 'TGFBR2', 'TMEM127', 'TMPRSS2', 'TNFAIP3', 'TNFRSF14', 'TOP1', 'TP53', 'TP53BP1', 'TP63', 'TRAF2', 'TRAF7', 'TSC1', 'TSC2', 'TSHR', 'U2AF1', 'UPF1', 'VEGFA', 'VHL', 'VTCN1', 'WHSC1', 'WHSC1L1', 'WT1', 'WWTR1', 'XIAP', 'XPO1', 'XRCC2', 'YAP1', 'YES1', 'ZFHX3', 'ZRSR2'])\n",
    "listOfDicts = []\n",
    "cntr = 0\n",
    "alexMatrix['geneCase'] = alexMatrix.apply(lambda row: str(row['Hugo_Symbol']) + '_' + str(row['Tumor_Sample_Barcode']), axis=1)\n",
    "caseGeneSet = set(alexMatrix['geneCase'])\n",
    "for gene in genes:\n",
    "    cntr += 1\n",
    "    if cntr %100 == 0: print cntr\n",
    "    for case in set(alexMatrix['Tumor_Sample_Barcode']):\n",
    "        if gene + '_' + case not in caseGeneSet:\n",
    "            listOfDicts.append({'Tumor_Sample_Barcode': case, 'Hugo_Symbol':gene, \n",
    "                                'hypermutationInduced': 'WILD-TYPE'})\n",
    "nonMutatedGenes = pd.DataFrame(listOfDicts)\n",
    "        \n",
    "        "
   ]
  },
  {
   "cell_type": "code",
   "execution_count": 263,
   "metadata": {},
   "outputs": [
    {
     "name": "stderr",
     "output_type": "stream",
     "text": [
      "/anaconda2/lib/python2.7/site-packages/ipykernel_launcher.py:1: FutureWarning: Sorting because non-concatenation axis is not aligned. A future version\n",
      "of pandas will change to not sort by default.\n",
      "\n",
      "To accept the future behavior, pass 'sort=False'.\n",
      "\n",
      "To retain the current behavior and silence the warning, pass 'sort=True'.\n",
      "\n",
      "  \"\"\"Entry point for launching an IPython kernel.\n"
     ]
    }
   ],
   "source": [
    "combinedDf = pd.concat([alexMatrix, nonMutatedGenes])"
   ]
  },
  {
   "cell_type": "code",
   "execution_count": 264,
   "metadata": {},
   "outputs": [],
   "source": [
    "#RECREATE THE WHEEL FOR THE COMBINED STUFF\n",
    "combinedDf['chrArm'] = combinedDf['Hugo_Symbol'].apply(lambda x:\n",
    "    chrArmDict[x] if x in chrArmDict else None)\n",
    "#cancerTypeDict = analysis_utils.get_cancer_type_information(cancerTypeDfPath = pathPrefix + '/juno/work/taylorlab/friedman/myAdjustedDataFiles/cancerTypeInfo_asOfNov192019.txt', mode='pid')\n",
    "combinedDf['pid'] = combinedDf['Tumor_Sample_Barcode'].apply(lambda x: x[:9])\n",
    "combinedDf['cancerType'] = combinedDf['pid'].apply(lambda x: cancerTypeDict[x] if x in cancerTypeDict else None)"
   ]
  },
  {
   "cell_type": "code",
   "execution_count": 265,
   "metadata": {},
   "outputs": [],
   "source": [
    "combinedDf['armCase'] = combinedDf['Tumor_Sample_Barcode'] + '_' + combinedDf['chrArm']\n",
    "combinedDf['armState'] = combinedDf['armCase'].apply(lambda x: \n",
    "            armDict[x] if x in armDict else None)\n",
    "\n",
    "combinedDf = combinedDf[combinedDf['armState'].notnull()]\n",
    "combinedDf['armCNAStatus'] = combinedDf['armState'].apply(lambda x: 'DIPLOID' if x == 'DIPLOID' else 'CNA')"
   ]
  },
  {
   "cell_type": "code",
   "execution_count": 268,
   "metadata": {},
   "outputs": [
    {
     "name": "stderr",
     "output_type": "stream",
     "text": [
      "/anaconda2/lib/python2.7/site-packages/ipykernel_launcher.py:4: SettingWithCopyWarning: \n",
      "A value is trying to be set on a copy of a slice from a DataFrame.\n",
      "Try using .loc[row_indexer,col_indexer] = value instead\n",
      "\n",
      "See the caveats in the documentation: http://pandas.pydata.org/pandas-docs/stable/indexing.html#indexing-view-versus-copy\n",
      "  after removing the cwd from sys.path.\n",
      "/anaconda2/lib/python2.7/site-packages/ipykernel_launcher.py:7: SettingWithCopyWarning: \n",
      "A value is trying to be set on a copy of a slice from a DataFrame.\n",
      "Try using .loc[row_indexer,col_indexer] = value instead\n",
      "\n",
      "See the caveats in the documentation: http://pandas.pydata.org/pandas-docs/stable/indexing.html#indexing-view-versus-copy\n",
      "  import sys\n"
     ]
    }
   ],
   "source": [
    "combinedDfZ = combinedDf[['Hugo_Symbol', 'Tumor_Sample_Barcode', 'armState'\n",
    "                        , 'chrArm', 'cancerType', 'hypermutationInduced',\n",
    "                        'mutAttribution', 'armCNAStatus', 'HGVSp_Short']]\n",
    "combinedDfZ['caseGene'] = combinedDfZ['Tumor_Sample_Barcode'] + '_' + combinedDfZ['Hugo_Symbol']\n",
    "mutCountsDict = dict(combinedDfZ['caseGene'].value_counts())\n",
    "combinedDfZ['mutationCount'] = combinedDfZ.apply(lambda row: 0 if row['hypermutationInduced'] == 'WILD-TYPE'\n",
    "            else mutCountsDict[row['caseGene']], axis=1)\n",
    "combinedDfZ['isMultiplet'] = combinedDfZ['mutationCount'].apply(lambda x: True if x > 1 else False)"
   ]
  },
  {
   "cell_type": "code",
   "execution_count": 220,
   "metadata": {},
   "outputs": [],
   "source": [
    "combinedDfZ.to_csv(pathPrefix + '/juno/work/taylorlab/friedman/myAdjustedDataFiles/cnaAndMutTable.tsv', index=False, sep='\\t')"
   ]
  },
  {
   "cell_type": "code",
   "execution_count": 271,
   "metadata": {},
   "outputs": [],
   "source": [
    "combinedDfZ.to_csv(pathPrefix + '/juno/work/taylorlab/friedman/myAdjustedDataFiles/cnaAndMutTable_v2.tsv', index=False, sep='\\t')"
   ]
  },
  {
   "cell_type": "code",
   "execution_count": 251,
   "metadata": {},
   "outputs": [
    {
     "name": "stdout",
     "output_type": "stream",
     "text": [
      "not diploid  Counter({'notHyperAttributable': 19, 'hyperInduced': 13, 'WILD-TYPE': 5})\n",
      "diploid Counter({'hyperInduced': 83, 'notHyperAttributable': 72, 'WILD-TYPE': 17, 'unclear': 1})\n"
     ]
    }
   ],
   "source": [
    "\n",
    "\n",
    "eDf = combinedDfZ[combinedDfZ['cancerType'] == 'Endometrial Cancer']\n",
    "\n",
    "#print 'not diploid ', Counter(eDf[(eDf['Hugo_Symbol'] == 'PTEN') & (eDf['armState'] != 'DIPLOID')]['hypermutationInduced'])\n",
    "#print 'diploid', Counter(eDf[(eDf['Hugo_Symbol'] == 'PTEN') & (eDf['armState'] == 'DIPLOID')]['hypermutationInduced'])\n",
    "\n",
    "Counter(eDf['armState']).most_common(10)\n",
    "lossStates = set(['HETLOSS', 'CNLOH', 'LOSS AFTER', 'CNLOH & GAIN', 'LOSS BEFORE'])\n",
    "print 'not diploid ', Counter(eDf[(eDf['Hugo_Symbol'] == 'PTEN') & (eDf['armState'].isin(lossStates))]['hypermutationInduced'])\n",
    "print 'diploid', Counter(eDf[(eDf['Hugo_Symbol'] == 'PTEN') & (eDf['armState'] == 'DIPLOID')]['hypermutationInduced'])\n"
   ]
  },
  {
   "cell_type": "code",
   "execution_count": null,
   "metadata": {},
   "outputs": [],
   "source": [
    "#\n",
    "######\n",
    "##############\n",
    "######################\n",
    "##################################\n",
    "#########################################\n",
    "###################################\n",
    "#####################\n",
    "##############\n",
    "#######\n",
    "#\n",
    "\n",
    "#CNA TIMING ANALYSIS"
   ]
  },
  {
   "cell_type": "code",
   "execution_count": 191,
   "metadata": {},
   "outputs": [],
   "source": [
    "#does fisher tests to see whether there are some genes that preferentially have onc mutations before gains\n",
    "def do_onc_and_cna_timing_analysis(maf):\n",
    "    listOfDicts = []\n",
    "    cntr = 0\n",
    "    for gene in set(maf['Hugo_Symbol']):\n",
    "        \n",
    "        chrArm = None\n",
    "        if gene in armDict:\n",
    "            chrArm = armDict[gene]\n",
    "        \n",
    "        if cntr%100==0: print cntr,\n",
    "        cntr += 1\n",
    "        geneMaf = maf[maf['Hugo_Symbol'] == gene]\n",
    "        y1y2 = geneMaf[(geneMaf['oncogenic'].notnull()) & (geneMaf['mutTiming'] == 'beforeGain')].shape[0]\n",
    "        y1n2 = geneMaf[(geneMaf['oncogenic'].notnull()) & (geneMaf['mutTiming'] != 'beforeGain')].shape[0]\n",
    "        n1y2 = geneMaf[(geneMaf['oncogenic'].isnull()) & (geneMaf['mutTiming'] == 'beforeGain')].shape[0]\n",
    "        n1n2 = geneMaf[(geneMaf['oncogenic'].isnull()) & (geneMaf['mutTiming'] != 'beforeGain')].shape[0]\n",
    "        \n",
    "        table = [[y1y2, y1n2], [n1y2, n1n2]]\n",
    "        oddsratio, pvalue = stats.fisher_exact(table)\n",
    "        \n",
    "        listOfDicts.append({'gene': gene, \n",
    "                            'oddsratio': oddsratio, 'pvalue': pvalue,  'chrArm': chrArm,\n",
    "                            'contingencyTable': str(y1y2) + '_' + str(y1n2) + '\\n' + str(n1y2) + '_' + str(n1n2)})\n",
    "\n",
    "    return pd.DataFrame(listOfDicts)\n",
    "\n",
    "\n",
    "def do_onc_and_cna_timing_analysis_arm_mode(maf, armDict):\n",
    "    listOfDicts = []\n",
    "    cntr = 0\n",
    "    for gene in set(maf['Hugo_Symbol']):\n",
    "        if cntr%100==0: print cntr,\n",
    "        cntr += 1\n",
    "        if gene in armDict:\n",
    "            chrArm = armDict[gene]\n",
    "            armMaf = maf[maf['chrArm'] == chrArm]\n",
    "\n",
    "            y1y2 = armMaf[((armMaf['oncogenic'].notnull()) & (armMaf['Hugo_Symbol'] == gene)) & (armMaf['mutTiming'] == 'beforeGain')].shape[0]\n",
    "            y1n2 = armMaf[((armMaf['oncogenic'].notnull()) & (armMaf['Hugo_Symbol'] == gene))  & (armMaf['mutTiming'] != 'beforeGain')].shape[0]\n",
    "            n1y2 = armMaf[((armMaf['oncogenic'].isnull()) | (armMaf['Hugo_Symbol'] != gene)) & (armMaf['mutTiming'] == 'beforeGain')].shape[0]\n",
    "            n1n2 = armMaf[((armMaf['oncogenic'].isnull()) | (armMaf['Hugo_Symbol'] != gene)) & (armMaf['mutTiming'] != 'beforeGain')].shape[0]\n",
    "\n",
    "            table = [[y1y2, y1n2], [n1y2, n1n2]]\n",
    "            oddsratio, pvalue = stats.fisher_exact(table)\n",
    "\n",
    "            listOfDicts.append({'gene': gene, \n",
    "                                'oddsratio': oddsratio, 'pvalue': pvalue, 'chrArm': chrArm,\n",
    "                                'contingencyTable': str(y1y2) + '_' + str(y1n2) + '\\n' + str(n1y2) + '_' + str(n1n2)})\n",
    "\n",
    "    return pd.DataFrame(listOfDicts)\n",
    "  \n",
    "        "
   ]
  },
  {
   "cell_type": "code",
   "execution_count": 166,
   "metadata": {},
   "outputs": [],
   "source": [
    "def summarize_gain_info_by_case(maf):\n",
    "    for case in set(maf['Tumor_Sample_Barcode']):\n",
    "        caseMafUnbalanced = maf[(maf['Tumor_Sample_Barcode'] == case) & (maf['mcn'] != lcn)]\n",
    "        print caseMafUnbalanced[caseMafUnbalanced['mcn']].shape"
   ]
  },
  {
   "cell_type": "code",
   "execution_count": 3,
   "metadata": {},
   "outputs": [],
   "source": [
    "chrArmDict = analysis_utils.map_impact_genes_to_chromosome_arm(armFilePath = pathPrefix + '/juno/work/taylorlab/friedman/myAdjustedDataFiles/IMPACTv6_gene_cytoband.txt')\n",
    "armLevelDf = pd.read_table(pathPrefix + '/juno/work/taylorlab/friedman/myAdjustedDataFiles/feb_1_cohort_compilation.arm_level.txt')\n",
    "qcDf = pd.read_table(pathPrefix + '/juno/work/taylorlab/friedman/myAdjustedDataFiles/feb_1_cohort_compilation.cohort.txt')\n"
   ]
  },
  {
   "cell_type": "code",
   "execution_count": null,
   "metadata": {},
   "outputs": [],
   "source": [
    "clonalityAnnotatedMaf = pd.read_table(pathPrefix + '/juno/work/taylorlab/friedman/myAdjustedDataFiles/filteredMaf_Nov19_2019_hypermutantOnly_withCNCFAnnotation.maf')"
   ]
  },
  {
   "cell_type": "code",
   "execution_count": 61,
   "metadata": {},
   "outputs": [],
   "source": [
    "armLevelDf['Tumor_Sample_Barcode'] = armLevelDf['sample'].apply(lambda x: x[:17])\n",
    "armLevelDf['armCase'] = armLevelDf['Tumor_Sample_Barcode'] + '_' + armLevelDf['arm']\n",
    "armDict = dict(zip(armLevelDf['armCase'], armLevelDf['cn_state']))\n",
    "clonalityAnnotatedMaf['armCase'] = clonalityAnnotatedMaf['Tumor_Sample_Barcode'] + '_' + clonalityAnnotatedMaf['chrArm']\n",
    "clonalityAnnotatedMaf['armState'] = clonalityAnnotatedMaf['armCase'].apply(lambda x: \n",
    "            armDict[x] if x in armDict else None)"
   ]
  },
  {
   "cell_type": "code",
   "execution_count": 62,
   "metadata": {},
   "outputs": [],
   "source": [
    "clonalityAnnotatedMaf['mcn'] = clonalityAnnotatedMaf['tcn'] - clonalityAnnotatedMaf['lcn']"
   ]
  },
  {
   "cell_type": "code",
   "execution_count": 63,
   "metadata": {},
   "outputs": [],
   "source": [
    "clonalityAnnotatedMaf['chrArm'] = clonalityAnnotatedMaf['Hugo_Symbol'].apply(lambda x:\n",
    "            chrArmDict[x] if x in chrArmDict else None)"
   ]
  },
  {
   "cell_type": "code",
   "execution_count": 183,
   "metadata": {},
   "outputs": [],
   "source": [
    "clonalityAnnotatedMaf['mutTiming'] = clonalityAnnotatedMaf.apply(lambda row:\n",
    "                            'beforeGain' if row['mcn'] > 1 and row['expected_alt_copies'] > 1\n",
    "                            else 'afterGain' if row['mcn'] > 1 and row['expected_alt_copies'] == 1\n",
    "                            else 'noGain', axis=1)"
   ]
  },
  {
   "cell_type": "code",
   "execution_count": 192,
   "metadata": {},
   "outputs": [],
   "source": [
    "analyzeMaf = clonalityAnnotatedMaf[clonalityAnnotatedMaf['mutTiming'] != 'noGain']"
   ]
  },
  {
   "cell_type": "code",
   "execution_count": 193,
   "metadata": {},
   "outputs": [
    {
     "name": "stdout",
     "output_type": "stream",
     "text": [
      "0 100 200 0 100 200 0 100 200 300 0 100 200 300 0 100 200 300 0 100 200 300 0 100 0 100 0 0 0 0 0 100 0 100\n"
     ]
    }
   ],
   "source": [
    "listOfDfs1 = []\n",
    "listOfDfs2 = []\n",
    "\n",
    "topHyperCancerTypes = ['Endometrial Cancer', 'Colorectal Cancer', 'Glioma', 'Bladder Cancer',\n",
    "                      'Esophagogastric Cancer', 'Prostate Cancer', 'Bladder Cancer']\n",
    "for cancerType in topHyperCancerTypes:\n",
    "    hyperIds = get_gene_and_cohort_list_utils.get_ids_by_hypermutant_status(hypermutantIdDir= pathPrefix + '/juno/work/taylorlab/friedman/hypermutationAnalysisProj/projectDataAndConfigFiles/hypermutationStatusIds', cancerType=cancerType, hypermutantStatus = 'Hypermutated')\n",
    "    ctHyperMaf = analyzeMaf[analyzeMaf['Tumor_Sample_Barcode'].isin(hyperIds)]\n",
    "    \n",
    "    ctDf1 = do_onc_and_cna_timing_analysis_arm_mode(ctHyperMaf, chrArmDict)\n",
    "    ctDf1['cancerType'] = cancerType\n",
    "    listOfDfs1.append(ctDf1)\n",
    "    \n",
    "    ctDf2 = do_onc_and_cna_timing_analysis(ctHyperMaf)\n",
    "    ctDf2['cancerType'] = cancerType\n",
    "    listOfDfs2.append(ctDf2)\n",
    "    \n",
    "df1 = pd.concat(listOfDfs1)    \n",
    "df2 = pd.concat(listOfDfs2)"
   ]
  },
  {
   "cell_type": "code",
   "execution_count": 194,
   "metadata": {},
   "outputs": [],
   "source": [
    "df1.to_csv('/Users/friedman/Desktop/WORK/geneCNATiming_gainTiming.tsv', index=False, sep='\\t')\n",
    "df2.to_csv('/Users/friedman/Desktop/WORK/geneCNATiming_gainAndOncogenic.tsv', index=False, sep='\\t')"
   ]
  },
  {
   "cell_type": "code",
   "execution_count": 195,
   "metadata": {},
   "outputs": [
    {
     "name": "stderr",
     "output_type": "stream",
     "text": [
      "/anaconda2/lib/python2.7/site-packages/IPython/core/interactiveshell.py:2714: DtypeWarning: Columns (4,17,18,43,44,71,72,125,128,129,130,131,132,133,134,137,140,141,142) have mixed types. Specify dtype option on import or set low_memory=False.\n",
      "  interactivity=interactivity, compiler=compiler, result=result)\n"
     ]
    }
   ],
   "source": [
    "#\n",
    "##\n",
    "######\n",
    "\n",
    "mafWithAttribution = pd.read_table(pathPrefix + '/juno/work/taylorlab/friedman/myAdjustedDataFiles/mafWithMutationAttribution.tsv')\n"
   ]
  },
  {
   "cell_type": "code",
   "execution_count": 201,
   "metadata": {},
   "outputs": [],
   "source": [
    "mafWithAttribution['mutIdentifier'] = mafWithAttribution.apply(lambda row: str(row['Tumor_Sample_Barcode']) + \n",
    " '_'  + str(row['Start_Position']) + ':' + str(row['Reference_Allele']) + '->' + str(row['Tumor_Seq_Allele2']), axis=1)\n",
    "\n",
    "clonalityAnnotatedMaf['mutIdentifier'] = clonalityAnnotatedMaf.apply(lambda row: str(row['Tumor_Sample_Barcode']) + \n",
    " '_'  + str(row['Start_Position']) + ':' + str(row['Reference_Allele']) + '->' + str(row['Tumor_Seq_Allele2']), axis=1)\n"
   ]
  },
  {
   "cell_type": "code",
   "execution_count": 203,
   "metadata": {},
   "outputs": [],
   "source": [
    "attributionDict = dict(zip(mafWithAttribution['mutIdentifier'], mafWithAttribution['hypermutationInduced']))\n",
    "clonalityAnnotatedMaf['attribution'] = clonalityAnnotatedMaf['mutIdentifier'].apply(lambda x: attributionDict[x] if x in attributionDict else None)"
   ]
  },
  {
   "cell_type": "code",
   "execution_count": 221,
   "metadata": {},
   "outputs": [
    {
     "name": "stderr",
     "output_type": "stream",
     "text": [
      "/anaconda2/lib/python2.7/site-packages/ipykernel_launcher.py:2: SettingWithCopyWarning: \n",
      "A value is trying to be set on a copy of a slice from a DataFrame.\n",
      "Try using .loc[row_indexer,col_indexer] = value instead\n",
      "\n",
      "See the caveats in the documentation: http://pandas.pydata.org/pandas-docs/stable/indexing.html#indexing-view-versus-copy\n",
      "  \n",
      "/anaconda2/lib/python2.7/site-packages/ipykernel_launcher.py:9: SettingWithCopyWarning: \n",
      "A value is trying to be set on a copy of a slice from a DataFrame.\n",
      "Try using .loc[row_indexer,col_indexer] = value instead\n",
      "\n",
      "See the caveats in the documentation: http://pandas.pydata.org/pandas-docs/stable/indexing.html#indexing-view-versus-copy\n",
      "  if __name__ == '__main__':\n"
     ]
    }
   ],
   "source": [
    "analyzeMaf = clonalityAnnotatedMaf[(clonalityAnnotatedMaf['mutTiming'] != 'noGain') & (clonalityAnnotatedMaf['attribution'] != 'unclear')]\n",
    "analyzeMaf['isGained'] = analyzeMaf['mutTiming'].apply(lambda x: 1 if x == 'beforeGain' else 0)\n",
    "oncogenicAnnotations = ['Likely Oncogenic', 'Oncogenic', 'Predicted Oncogenic']\n",
    "analyzeMaf['analysisGroup'] = analyzeMaf.apply(lambda row:\n",
    "        'hyperPassenger' if row['attribution'] == 'hyperInduced' and row['oncogenic'] not in oncogenicAnnotations\n",
    "        else 'hyperDriver' if row['attribution'] == 'hyperInduced' and row['oncogenic'] in oncogenicAnnotations \n",
    "        else 'notHyperPassenger' if row['attribution'] != 'hyperInduced' and row['oncogenic'] not in oncogenicAnnotations\n",
    "        else 'notHyperDriver' if row['attribution'] != 'hyperInduced' and row['oncogenic'] in oncogenicAnnotations \n",
    "        else None, axis=1)                   \n",
    "                                               "
   ]
  },
  {
   "cell_type": "code",
   "execution_count": 222,
   "metadata": {},
   "outputs": [],
   "source": [
    "analyzeMaf = analyzeMaf[['Tumor_Sample_Barcode', 'isGained', 'Hugo_Symbol', 'analysisGroup', 'oncogenic']]"
   ]
  },
  {
   "cell_type": "code",
   "execution_count": 223,
   "metadata": {},
   "outputs": [],
   "source": [
    "cancerTypeDict = analysis_utils.get_cancer_type_information(cancerTypeDfPath = pathPrefix + '/juno/work/taylorlab/friedman/myAdjustedDataFiles/cancerTypeInfo_asOfNov192019.txt', mode='pid')\n",
    "analyzeMaf['pid'] = analyzeMaf['Tumor_Sample_Barcode'].apply(lambda x: x[:9])\n",
    "analyzeMaf['cancerType'] = analyzeMaf['pid'].apply(lambda x: cancerTypeDict[x] if x in cancerTypeDict else None)"
   ]
  },
  {
   "cell_type": "code",
   "execution_count": 224,
   "metadata": {},
   "outputs": [],
   "source": [
    "cancerTypesToPlot = set(['Colorectal Cancer', 'Endometrial Cancer', 'Glioma', 'Prostate Cancer',\n",
    "                         'Esophagogastric Cancer', 'Bladder Cancer', 'Small Bowel Cancer'])\n",
    "analyzeMaf = analyzeMaf[analyzeMaf['cancerType'].isin(cancerTypesToPlot)]"
   ]
  },
  {
   "cell_type": "code",
   "execution_count": 225,
   "metadata": {},
   "outputs": [],
   "source": [
    "analyzeMaf.to_csv('/Users/friedman/Desktop/WORK/dataForLocalPlotting/gainsByMutType.tsv', index=False, sep='\\t')"
   ]
  },
  {
   "cell_type": "code",
   "execution_count": 265,
   "metadata": {},
   "outputs": [
    {
     "name": "stdout",
     "output_type": "stream",
     "text": [
      "frac muts before gain 0.0 nmut 2 P-0009152-T01-IM5\n",
      "frac muts before gain 0.0 nmut 2 P-0025195-T01-IM6\n",
      "frac muts before gain 0.08 nmut 12 P-0003292-T01-IM5\n",
      "frac muts before gain 0.67 nmut 3 P-0020064-T01-IM6\n",
      "frac muts before gain 0.03 nmut 30 P-0002695-T01-IM3\n",
      "frac muts before gain 1.0 nmut 1 P-0029398-T01-IM6\n",
      "frac muts before gain 0.0 nmut 6 P-0034915-T01-IM6\n",
      "frac muts before gain 0.17 nmut 6 P-0005285-T01-IM5\n",
      "frac muts before gain 0.5 nmut 2 P-0021692-T01-IM6\n",
      "frac muts before gain 0.6 nmut 5 P-0001494-T01-IM3\n",
      "frac muts before gain 0.69 nmut 13 P-0017986-T02-IM6\n",
      "frac muts before gain 0.25 nmut 4 P-0013112-T02-IM6\n",
      "frac muts before gain 0.5 nmut 2 P-0026221-T01-IM6\n",
      "frac muts before gain 0.78 nmut 9 P-0023250-T01-IM6\n",
      "frac muts before gain 1.0 nmut 2 P-0025240-T01-IM6\n",
      "frac muts before gain 0.0 nmut 3 P-0036369-T01-IM6\n",
      "frac muts before gain 0.5 nmut 2 P-0012848-T01-IM5\n",
      "frac muts before gain 1.0 nmut 2 P-0017300-T01-IM6\n",
      "frac muts before gain 0.17 nmut 23 P-0028474-T01-IM6\n",
      "frac muts before gain 0.9 nmut 10 P-0000448-T01-IM3\n",
      "frac muts before gain 0.14 nmut 22 P-0025715-T01-IM6\n",
      "frac muts before gain 0.4 nmut 60 P-0034618-T01-IM6\n",
      "frac muts before gain 0.33 nmut 3 P-0032161-T02-IM6\n",
      "frac muts before gain 0.0 nmut 3 P-0031094-T01-IM6\n",
      "frac muts before gain 0.25 nmut 4 P-0004260-T01-IM5\n",
      "frac muts before gain 0.0 nmut 3 P-0025695-T01-IM6\n",
      "frac muts before gain 0.06 nmut 16 P-0004400-T01-IM5\n",
      "frac muts before gain 0.0 nmut 4 P-0009499-T01-IM5\n",
      "frac muts before gain 0.07 nmut 15 P-0032818-T01-IM6\n",
      "frac muts before gain 0.55 nmut 11 P-0033503-T01-IM6\n",
      "frac muts before gain 0.5 nmut 2 P-0023857-T01-IM6\n",
      "frac muts before gain 0.33 nmut 6 P-0001237-T01-IM3\n",
      "frac muts before gain 0.25 nmut 4 P-0016053-T01-IM6\n",
      "frac muts before gain 1.0 nmut 1 P-0009830-T01-IM5\n",
      "frac muts before gain 0.0 nmut 3 P-0029683-T01-IM6\n",
      "frac muts before gain 0.0 nmut 2 P-0008729-T01-IM5\n",
      "frac muts before gain 0.83 nmut 12 P-0023551-T01-IM6\n",
      "frac muts before gain 0.4 nmut 5 P-0032761-T01-IM6\n",
      "frac muts before gain 0.6 nmut 10 P-0028266-T01-IM6\n",
      "frac muts before gain 0.42 nmut 19 P-0019319-T01-IM6\n",
      "frac muts before gain 0.33 nmut 3 P-0019093-T01-IM6\n",
      "frac muts before gain 0.33 nmut 3 P-0030774-T01-IM6\n",
      "frac muts before gain 0.63 nmut 38 P-0035426-T01-IM6\n",
      "frac muts before gain 0.0 nmut 1 P-0019598-T01-IM6\n",
      "frac muts before gain 0.5 nmut 2 P-0031059-T01-IM6\n",
      "frac muts before gain 0.33 nmut 6 P-0013169-T01-IM5\n",
      "frac muts before gain 0.26 nmut 39 P-0001215-T01-IM3\n",
      "frac muts before gain 0.25 nmut 12 P-0022520-T01-IM6\n",
      "frac muts before gain 1.0 nmut 4 P-0033583-T01-IM6\n",
      "frac muts before gain 0.13 nmut 23 P-0033852-T01-IM6\n",
      "frac muts before gain 0.14 nmut 21 P-0017697-T01-IM6\n",
      "frac muts before gain 0.29 nmut 24 P-0008226-T02-IM5\n",
      "frac muts before gain 0.2 nmut 5 P-0035437-T01-IM6\n",
      "frac muts before gain 0.5 nmut 4 P-0009892-T01-IM5\n",
      "frac muts before gain 0.33 nmut 3 P-0013029-T01-IM5\n",
      "frac muts before gain 1.0 nmut 1 P-0005326-T01-IM5\n",
      "frac muts before gain 0.5 nmut 6 P-0003209-T01-IM5\n",
      "frac muts before gain 0.33 nmut 3 P-0013991-T01-IM5\n",
      "frac muts before gain 0.27 nmut 15 P-0007596-T01-IM5\n",
      "frac muts before gain 0.11 nmut 19 P-0028924-T01-IM6\n",
      "frac muts before gain 1.0 nmut 1 P-0013452-T01-IM5\n",
      "frac muts before gain 0.75 nmut 4 P-0010116-T01-IM5\n",
      "frac muts before gain 0.08 nmut 26 P-0006441-T02-IM5\n",
      "frac muts before gain 0.0 nmut 5 P-0019071-T01-IM6\n",
      "frac muts before gain 0.0 nmut 1 P-0036664-T01-IM6\n",
      "frac muts before gain 0.5 nmut 2 P-0013357-T01-IM5\n",
      "frac muts before gain 1.0 nmut 3 P-0017883-T01-IM6\n",
      "frac muts before gain 1.0 nmut 2 P-0026221-T02-IM6\n",
      "frac muts before gain 0.67 nmut 3 P-0025047-T01-IM6\n",
      "frac muts before gain 0.5 nmut 2 P-0020754-T01-IM6\n",
      "frac muts before gain 0.58 nmut 12 P-0011324-T01-IM5\n",
      "frac muts before gain 1.0 nmut 2 P-0014023-T01-IM5\n",
      "frac muts before gain 0.15 nmut 13 P-0026297-T01-IM6\n",
      "frac muts before gain 1.0 nmut 2 P-0015322-T01-IM6\n",
      "frac muts before gain 0.5 nmut 2 P-0025048-T01-IM6\n",
      "frac muts before gain 0.13 nmut 8 P-0032060-T01-IM6\n",
      "frac muts before gain 0.5 nmut 4 P-0013010-T01-IM5\n",
      "frac muts before gain 0.6 nmut 5 P-0016626-T01-IM6\n",
      "frac muts before gain 0.0 nmut 2 P-0028485-T01-IM6\n",
      "frac muts before gain 0.6 nmut 5 P-0028200-T01-IM6\n",
      "frac muts before gain 0.8 nmut 5 P-0017538-T01-IM5\n",
      "frac muts before gain 0.0 nmut 3 P-0010783-T01-IM5\n",
      "frac muts before gain 0.0 nmut 1 P-0021355-T01-IM6\n",
      "frac muts before gain 0.05 nmut 79 P-0003822-T03-IM6\n",
      "frac muts before gain 0.09 nmut 98 P-0000500-T01-IM3\n",
      "frac muts before gain 0.4 nmut 10 P-0000862-T01-IM3\n",
      "frac muts before gain 1.0 nmut 1 P-0005270-T02-IM6\n",
      "frac muts before gain 0.0 nmut 3 P-0012463-T03-IM6\n",
      "frac muts before gain 0.0 nmut 7 P-0002265-T02-IM5\n",
      "frac muts before gain 0.5 nmut 6 P-0005823-T01-IM5\n",
      "frac muts before gain 1.0 nmut 15 P-0011068-T01-IM5\n",
      "frac muts before gain 0.0 nmut 4 P-0018542-T01-IM6\n",
      "frac muts before gain 0.27 nmut 11 P-0011013-T01-IM5\n",
      "frac muts before gain 0.36 nmut 14 P-0029980-T01-IM6\n",
      "frac muts before gain 0.14 nmut 7 P-0010275-T01-IM5\n",
      "frac muts before gain 0.0 nmut 4 P-0036028-T01-IM6\n",
      "frac muts before gain 0.0 nmut 9 P-0021049-T01-IM6\n",
      "frac muts before gain 0.82 nmut 17 P-0017299-T01-IM6\n",
      "frac muts before gain 0.65 nmut 17 P-0032718-T01-IM6\n",
      "frac muts before gain 0.5 nmut 2 P-0028638-T01-IM6\n",
      "frac muts before gain 1.0 nmut 1 P-0010744-T01-IM5\n",
      "frac muts before gain 0.5 nmut 8 P-0030636-T01-IM6\n",
      "frac muts before gain 0.33 nmut 3 P-0003045-T01-IM5\n",
      "frac muts before gain 0.0 nmut 9 P-0002181-T02-IM5\n",
      "frac muts before gain 1.0 nmut 2 P-0005359-T01-IM5\n",
      "frac muts before gain 0.0 nmut 5 P-0007055-T01-IM5\n",
      "frac muts before gain 0.6 nmut 5 P-0017995-T01-IM6\n",
      "frac muts before gain 0.86 nmut 7 P-0002049-T01-IM3\n",
      "frac muts before gain 0.0 nmut 1 P-0033995-T01-IM6\n",
      "frac muts before gain 0.0 nmut 1 P-0028774-T01-IM6\n",
      "frac muts before gain 0.0 nmut 3 P-0030988-T01-IM6\n",
      "frac muts before gain 0.4 nmut 20 P-0007688-T01-IM5\n",
      "frac muts before gain 0.75 nmut 4 P-0015252-T01-IM6\n",
      "frac muts before gain 0.29 nmut 7 P-0021220-T01-IM6\n",
      "frac muts before gain 0.14 nmut 7 P-0030708-T01-IM6\n",
      "frac muts before gain 0.9 nmut 10 P-0014143-T01-IM5\n",
      "frac muts before gain 0.36 nmut 14 P-0002455-T01-IM3\n",
      "frac muts before gain 1.0 nmut 1 P-0034775-T01-IM6\n",
      "frac muts before gain 0.33 nmut 6 P-0028472-T01-IM6\n",
      "frac muts before gain 0.15 nmut 13 P-0021393-T01-IM6\n",
      "frac muts before gain 0.5 nmut 2 P-0018224-T01-IM6\n",
      "frac muts before gain 0.02 nmut 53 P-0024694-T02-IM6\n",
      "frac muts before gain 0.67 nmut 6 P-0021796-T01-IM6\n",
      "frac muts before gain 0.0 nmut 7 P-0002265-T04-IM5\n",
      "frac muts before gain 0.71 nmut 7 P-0026297-T02-IM6\n",
      "frac muts before gain 0.52 nmut 21 P-0020639-T01-IM6\n",
      "frac muts before gain 0.57 nmut 7 P-0028172-T02-IM6\n",
      "frac muts before gain 0.25 nmut 4 P-0005987-T01-IM5\n",
      "frac muts before gain 0.25 nmut 4 P-0020850-T01-IM6\n",
      "frac muts before gain 0.36 nmut 14 P-0005824-T01-IM5\n",
      "frac muts before gain 0.0 nmut 5 P-0008721-T01-IM5\n",
      "frac muts before gain 0.0 nmut 5 P-0008746-T01-IM5\n",
      "frac muts before gain 0.11 nmut 9 P-0031207-T01-IM6\n",
      "frac muts before gain 0.33 nmut 9 P-0036309-T01-IM6\n",
      "frac muts before gain 0.0 nmut 10 P-0012113-T01-IM5\n",
      "frac muts before gain 0.0 nmut 3 P-0001882-T02-IM5\n",
      "frac muts before gain 0.33 nmut 3 P-0020227-T01-IM6\n",
      "frac muts before gain 0.82 nmut 22 P-0035755-T01-IM6\n",
      "frac muts before gain 0.67 nmut 6 P-0012441-T01-IM5\n",
      "frac muts before gain 0.67 nmut 3 P-0002463-T02-IM5\n",
      "frac muts before gain 0.11 nmut 9 P-0027858-T01-IM6\n",
      "frac muts before gain 0.4 nmut 10 P-0013981-T01-IM5\n",
      "frac muts before gain 0.2 nmut 10 P-0012179-T01-IM5\n",
      "frac muts before gain 0.0 nmut 24 P-0003529-T01-IM5\n",
      "frac muts before gain 1.0 nmut 1 P-0011446-T01-IM5\n",
      "frac muts before gain 1.0 nmut 1 P-0014145-T01-IM5\n",
      "frac muts before gain 0.2 nmut 5 P-0028034-T01-IM6\n",
      "frac muts before gain 0.0 nmut 11 P-0019837-T01-IM6\n",
      "frac muts before gain 0.0 nmut 1 P-0019807-T03-IM6\n",
      "frac muts before gain 0.29 nmut 7 P-0012313-T01-IM5\n",
      "frac muts before gain 0.33 nmut 18 P-0026683-T01-IM6\n",
      "frac muts before gain 0.18 nmut 11 P-0035750-T01-IM6\n",
      "frac muts before gain 0.85 nmut 34 P-0011262-T01-IM5\n",
      "frac muts before gain 0.0 nmut 9 P-0029337-T01-IM6\n",
      "frac muts before gain 0.27 nmut 11 P-0005151-T01-IM5\n",
      "frac muts before gain 0.0 nmut 4 P-0018353-T01-IM6\n",
      "frac muts before gain 0.5 nmut 4 P-0003555-T01-IM5\n",
      "frac muts before gain 0.33 nmut 3 P-0008317-T01-IM5\n",
      "frac muts before gain 0.0 nmut 2 P-0018382-T01-IM6\n",
      "frac muts before gain 1.0 nmut 5 P-0000558-T01-IM3\n",
      "frac muts before gain 0.0 nmut 1 P-0025735-T01-IM6\n",
      "frac muts before gain 1.0 nmut 2 P-0000614-T01-IM3\n",
      "frac muts before gain 0.33 nmut 18 P-0002633-T01-IM3\n",
      "frac muts before gain 0.25 nmut 8 P-0002671-T01-IM3\n",
      "frac muts before gain 0.17 nmut 6 P-0035100-T01-IM6\n",
      "frac muts before gain 0.5 nmut 2 P-0031050-T01-IM6\n",
      "frac muts before gain 0.62 nmut 55 P-0015237-T01-IM6\n",
      "frac muts before gain 0.36 nmut 11 P-0032567-T01-IM6\n",
      "frac muts before gain 0.0 nmut 3 P-0028701-T01-IM6\n",
      "frac muts before gain 0.56 nmut 9 P-0014994-T01-IM6\n",
      "frac muts before gain 0.25 nmut 4 P-0036380-T01-IM6\n",
      "frac muts before gain 0.8 nmut 5 P-0023286-T01-IM6\n",
      "frac muts before gain 0.8 nmut 25 P-0018118-T02-IM6\n",
      "frac muts before gain 0.0 nmut 2 P-0032443-T01-IM6\n",
      "frac muts before gain 0.25 nmut 8 P-0025003-T01-IM6\n",
      "frac muts before gain 1.0 nmut 3 P-0029121-T01-IM6\n",
      "frac muts before gain 0.0 nmut 1 P-0036230-T01-IM6\n",
      "frac muts before gain 0.0 nmut 1 P-0020221-T01-IM6\n",
      "frac muts before gain 0.0 nmut 2 P-0031042-T01-IM6\n",
      "frac muts before gain 0.33 nmut 3 P-0034950-T01-IM6\n",
      "frac muts before gain 0.5 nmut 36 P-0016892-T01-IM6\n",
      "frac muts before gain 1.0 nmut 3 P-0032456-T01-IM6\n",
      "frac muts before gain 0.83 nmut 123 P-0030372-T01-IM6\n",
      "frac muts before gain 1.0 nmut 4 P-0028970-T01-IM6\n",
      "frac muts before gain 0.5 nmut 2 P-0005627-T02-IM5\n",
      "frac muts before gain 0.21 nmut 14 P-0010581-T01-IM5\n",
      "frac muts before gain 0.0 nmut 1 P-0006849-T01-IM5\n",
      "frac muts before gain 0.36 nmut 11 P-0019076-T01-IM6\n",
      "frac muts before gain 0.0 nmut 6 P-0003120-T01-IM5\n",
      "frac muts before gain 0.06 nmut 17 P-0013293-T02-IM6\n",
      "frac muts before gain 0.45 nmut 20 P-0005372-T01-IM5\n",
      "frac muts before gain 1.0 nmut 3 P-0005548-T01-IM5\n",
      "frac muts before gain 0.2 nmut 5 P-0003014-T01-IM3\n",
      "frac muts before gain 1.0 nmut 3 P-0012740-T01-IM5\n",
      "frac muts before gain 0.17 nmut 6 P-0015573-T01-IM6\n",
      "frac muts before gain 0.93 nmut 89 P-0007147-T01-IM5\n",
      "frac muts before gain 0.5 nmut 2 P-0020509-T01-IM6\n",
      "frac muts before gain 0.2 nmut 5 P-0009484-T01-IM5\n",
      "frac muts before gain 1.0 nmut 3 P-0001791-T01-IM3\n",
      "frac muts before gain 0.09 nmut 11 P-0015416-T01-IM6\n",
      "frac muts before gain 1.0 nmut 1 P-0023968-T01-IM6\n",
      "frac muts before gain 0.0 nmut 2 P-0016522-T01-IM6\n",
      "frac muts before gain 0.0 nmut 7 P-0020252-T01-IM6\n",
      "frac muts before gain 0.43 nmut 44 P-0018100-T01-IM6\n",
      "frac muts before gain 1.0 nmut 2 P-0020173-T01-IM6\n",
      "frac muts before gain 0.0 nmut 49 P-0000944-T01-IM3\n",
      "frac muts before gain 0.35 nmut 71 P-0006269-T01-IM5\n",
      "frac muts before gain 0.5 nmut 2 P-0019386-T01-IM6\n",
      "frac muts before gain 0.5 nmut 2 P-0021292-T01-IM6\n",
      "frac muts before gain 0.5 nmut 2 P-0021505-T01-IM6\n",
      "frac muts before gain 1.0 nmut 2 P-0019428-T01-IM6\n",
      "frac muts before gain 0.03 nmut 114 P-0002294-T02-IM5\n",
      "frac muts before gain 0.5 nmut 4 P-0020312-T01-IM6\n",
      "frac muts before gain 0.01 nmut 342 P-0023123-T01-IM6\n",
      "frac muts before gain 0.5 nmut 2 P-0021670-T01-IM6\n",
      "frac muts before gain 0.08 nmut 24 P-0033495-T01-IM6\n",
      "frac muts before gain 0.0 nmut 4 P-0001882-T01-IM3\n",
      "frac muts before gain 0.6 nmut 5 P-0037531-T01-IM6\n",
      "frac muts before gain 0.11 nmut 19 P-0001685-T01-IM3\n",
      "frac muts before gain 0.0 nmut 1 P-0006201-T01-IM5\n",
      "frac muts before gain 1.0 nmut 1 P-0005443-T01-IM5\n",
      "frac muts before gain 0.0 nmut 2 P-0025883-T01-IM6\n",
      "frac muts before gain 0.0 nmut 3 P-0030265-T01-IM6\n",
      "frac muts before gain 0.43 nmut 7 P-0015344-T01-IM6\n",
      "frac muts before gain 0.0 nmut 52 P-0003900-T01-IM5\n",
      "frac muts before gain 0.5 nmut 4 P-0031146-T01-IM6\n",
      "frac muts before gain 0.0 nmut 2 P-0019807-T04-IM6\n",
      "frac muts before gain 1.0 nmut 1 P-0029114-T01-IM6\n",
      "frac muts before gain 0.0 nmut 4 P-0011071-T01-IM5\n",
      "frac muts before gain 0.0 nmut 1 P-0031436-T01-IM6\n",
      "frac muts before gain 0.56 nmut 9 P-0035103-T01-IM6\n",
      "frac muts before gain 0.33 nmut 9 P-0022111-T01-IM6\n",
      "frac muts before gain 0.5 nmut 4 P-0002463-T01-IM3\n"
     ]
    },
    {
     "name": "stdout",
     "output_type": "stream",
     "text": [
      "frac muts before gain 0.0 nmut 7 P-0028014-T01-IM6\n",
      "frac muts before gain 1.0 nmut 3 P-0025669-T01-IM6\n",
      "frac muts before gain 1.0 nmut 1 P-0014495-T01-IM6\n",
      "frac muts before gain 0.38 nmut 66 P-0015699-T01-IM6\n",
      "frac muts before gain 0.67 nmut 3 P-0022010-T01-IM6\n",
      "frac muts before gain 0.2 nmut 15 P-0019475-T01-IM6\n",
      "frac muts before gain 1.0 nmut 1 P-0005842-T01-IM5\n",
      "frac muts before gain 1.0 nmut 2 P-0018350-T01-IM6\n",
      "frac muts before gain 0.37 nmut 30 P-0006960-T01-IM5\n",
      "frac muts before gain 0.43 nmut 7 P-0019846-T01-IM6\n",
      "frac muts before gain 0.67 nmut 3 P-0031089-T01-IM6\n",
      "frac muts before gain 0.12 nmut 33 P-0002186-T01-IM3\n",
      "frac muts before gain 0.5 nmut 14 P-0012115-T01-IM5\n",
      "frac muts before gain 0.17 nmut 6 P-0026118-T01-IM6\n",
      "frac muts before gain 0.0 nmut 1 P-0001882-T03-IM6\n",
      "frac muts before gain 0.31 nmut 13 P-0027335-T01-IM6\n",
      "frac muts before gain 0.33 nmut 3 P-0001685-T02-IM3\n",
      "frac muts before gain 0.4 nmut 15 P-0035005-T01-IM6\n",
      "frac muts before gain 1.0 nmut 1 P-0035180-T01-IM6\n",
      "frac muts before gain 0.5 nmut 8 P-0011239-T02-IM5\n",
      "frac muts before gain 0.33 nmut 3 P-0018204-T01-IM6\n",
      "frac muts before gain 0.0 nmut 5 P-0020686-T01-IM6\n",
      "frac muts before gain 0.33 nmut 3 P-0025885-T01-IM6\n",
      "frac muts before gain 0.4 nmut 5 P-0024289-T01-IM6\n",
      "frac muts before gain 0.67 nmut 3 P-0022846-T01-IM6\n",
      "frac muts before gain 1.0 nmut 1 P-0008444-T01-IM5\n",
      "frac muts before gain 0.14 nmut 14 P-0013506-T01-IM5\n",
      "frac muts before gain 0.67 nmut 3 P-0033100-T01-IM6\n",
      "frac muts before gain 0.5 nmut 4 P-0037721-T01-IM6\n",
      "frac muts before gain 1.0 nmut 2 P-0029495-T03-IM6\n",
      "frac muts before gain 0.88 nmut 26 P-0012358-T01-IM5\n",
      "frac muts before gain 0.5 nmut 2 P-0021154-T01-IM6\n",
      "frac muts before gain 0.0 nmut 5 P-0033467-T01-IM6\n",
      "frac muts before gain 0.14 nmut 7 P-0006365-T01-IM5\n",
      "frac muts before gain 0.13 nmut 8 P-0028495-T01-IM6\n",
      "frac muts before gain 0.0 nmut 1 P-0015048-T01-IM6\n",
      "frac muts before gain 0.36 nmut 14 P-0001808-T01-IM3\n",
      "frac muts before gain 0.25 nmut 4 P-0020009-T01-IM6\n",
      "frac muts before gain 0.2 nmut 10 P-0004738-T01-IM5\n",
      "frac muts before gain 0.33 nmut 3 P-0015536-T01-IM6\n",
      "frac muts before gain 0.33 nmut 6 P-0037875-T01-IM6\n",
      "frac muts before gain 0.67 nmut 6 P-0013374-T01-IM5\n",
      "frac muts before gain 1.0 nmut 7 P-0001115-T01-IM3\n",
      "frac muts before gain 0.1 nmut 20 P-0000043-T02-IM3\n",
      "frac muts before gain 0.75 nmut 4 P-0035452-T01-IM6\n",
      "frac muts before gain 0.5 nmut 6 P-0025312-T01-IM6\n",
      "frac muts before gain 0.08 nmut 37 P-0000083-T01-IM3\n",
      "frac muts before gain 0.25 nmut 12 P-0036505-T01-IM6\n",
      "frac muts before gain 0.0 nmut 1 P-0018841-T01-IM6\n",
      "frac muts before gain 0.0 nmut 1 P-0004783-T01-IM5\n",
      "frac muts before gain 0.25 nmut 4 P-0012819-T01-IM5\n",
      "frac muts before gain 0.5 nmut 6 P-0032698-T01-IM6\n",
      "frac muts before gain 0.69 nmut 16 P-0026678-T01-IM6\n",
      "frac muts before gain 1.0 nmut 2 P-0026440-T01-IM6\n",
      "frac muts before gain 0.2 nmut 5 P-0020399-T01-IM6\n",
      "frac muts before gain 0.0 nmut 1 P-0013082-T01-IM5\n",
      "frac muts before gain 0.5 nmut 2 P-0009585-T01-IM5\n",
      "frac muts before gain 0.0 nmut 1 P-0019416-T01-IM6\n",
      "frac muts before gain 0.67 nmut 3 P-0000964-T03-IM5\n",
      "frac muts before gain 0.36 nmut 11 P-0009985-T01-IM5\n",
      "frac muts before gain 0.25 nmut 8 P-0030485-T01-IM6\n",
      "frac muts before gain 0.0 nmut 29 P-0003827-T02-IM6\n",
      "frac muts before gain 1.0 nmut 2 P-0032120-T01-IM6\n",
      "frac muts before gain 0.0 nmut 1 P-0016341-T01-IM6\n",
      "frac muts before gain 0.5 nmut 2 P-0037867-T01-IM6\n",
      "frac muts before gain 0.63 nmut 8 P-0004754-T01-IM5\n",
      "frac muts before gain 0.83 nmut 6 P-0012152-T01-IM5\n",
      "frac muts before gain 0.33 nmut 3 P-0005564-T01-IM5\n",
      "frac muts before gain 1.0 nmut 8 P-0010196-T01-IM5\n",
      "frac muts before gain 0.17 nmut 12 P-0026875-T01-IM6\n",
      "frac muts before gain 0.2 nmut 5 P-0008504-T03-IM6\n",
      "frac muts before gain 0.67 nmut 3 P-0016314-T01-IM6\n",
      "frac muts before gain 0.0 nmut 2 P-0028891-T01-IM6\n",
      "frac muts before gain 1.0 nmut 1 P-0029399-T01-IM6\n",
      "frac muts before gain 0.33 nmut 3 P-0005308-T01-IM5\n",
      "frac muts before gain 0.0 nmut 1 P-0030244-T01-IM6\n",
      "frac muts before gain 0.56 nmut 9 P-0036924-T01-IM6\n",
      "frac muts before gain 0.05 nmut 110 P-0029104-T01-IM6\n",
      "frac muts before gain 0.42 nmut 12 P-0028580-T01-IM6\n",
      "frac muts before gain 0.64 nmut 25 P-0019556-T02-IM6\n",
      "frac muts before gain 0.5 nmut 2 P-0030960-T01-IM6\n",
      "frac muts before gain 0.0 nmut 1 P-0032994-T01-IM6\n",
      "frac muts before gain 0.0 nmut 1 P-0016904-T01-IM6\n",
      "frac muts before gain 0.5 nmut 4 P-0007296-T01-IM5\n",
      "frac muts before gain 0.33 nmut 12 P-0010929-T01-IM5\n",
      "frac muts before gain 0.33 nmut 3 P-0033748-T01-IM6\n",
      "frac muts before gain 0.0 nmut 2 P-0008388-T01-IM5\n",
      "frac muts before gain 0.6 nmut 5 P-0018147-T01-IM6\n",
      "frac muts before gain 0.67 nmut 3 P-0007882-T01-IM5\n",
      "frac muts before gain 0.33 nmut 3 P-0030205-T01-IM6\n",
      "frac muts before gain 0.62 nmut 13 P-0027740-T01-IM6\n",
      "frac muts before gain 0.0 nmut 7 P-0025665-T01-IM6\n",
      "frac muts before gain 0.0 nmut 1 P-0001420-T01-IM3\n",
      "frac muts before gain 0.25 nmut 4 P-0019650-T01-IM6\n",
      "frac muts before gain 0.9 nmut 21 P-0024106-T01-IM6\n",
      "frac muts before gain 0.5 nmut 2 P-0033682-T01-IM6\n",
      "frac muts before gain 0.19 nmut 16 P-0031332-T02-IM6\n",
      "frac muts before gain 0.44 nmut 9 P-0032394-T01-IM6\n",
      "frac muts before gain 0.5 nmut 2 P-0033327-T01-IM6\n"
     ]
    }
   ],
   "source": [
    "for case in set(analyzeMaf['Tumor_Sample_Barcode']):\n",
    "    caseMaf = analyzeMaf[analyzeMaf['Tumor_Sample_Barcode'] == case]\n",
    "    print 'frac muts before gain', round(1.0*(caseMaf[caseMaf['isGained'] == 1].shape[0])/caseMaf.shape[0], 2), 'nmut', caseMaf.shape[0], case\n",
    "                                         "
   ]
  },
  {
   "cell_type": "code",
   "execution_count": 268,
   "metadata": {},
   "outputs": [
    {
     "name": "stdout",
     "output_type": "stream",
     "text": [
      "      isGained Hugo_Symbol\n",
      "7624         1       KDM5A\n",
      "7625         1       KDM5A\n",
      "7626         1       CCND2\n",
      "7627         1      CDKN1B\n",
      "7628         0     PIK3C2G\n",
      "7629         1     PIK3C2G\n",
      "7630         1        KRAS\n",
      "7631         0       ARID2\n",
      "7632         1       ARID2\n",
      "7633         1       ARID2\n",
      "7634         0       KMT2D\n",
      "7635         1       KMT2D\n",
      "7636         0       KMT2D\n",
      "7637         1       KMT2D\n",
      "7638         1       KMT2D\n",
      "7639         1       KMT2D\n",
      "7640         1     SMARCD1\n",
      "7641         1     SMARCD1\n",
      "7642         1        GLI1\n",
      "7643         1        IGF1\n",
      "7644         0        IGF1\n",
      "7645         1       SH2B3\n",
      "7646         1      PTPN11\n",
      "7647         1        TBX3\n",
      "7648         1        TBX3\n",
      "7649         0       HNF1A\n",
      "7650         1       HNF1A\n",
      "7651         1        POLE\n",
      "7652         1        POLE\n",
      "7653         1        POLE\n",
      "...        ...         ...\n",
      "7946         1      NOTCH4\n",
      "7947         1        TAP2\n",
      "7948         0        TAP2\n",
      "7949         1        TAP1\n",
      "7950         1        TAP1\n",
      "7951         0        TAP1\n",
      "7952         1        DAXX\n",
      "7953         1        DAXX\n",
      "7954         1       VEGFA\n",
      "7955         0       EPHA7\n",
      "7956         1       EPHA7\n",
      "7957         1       PRDM1\n",
      "7958         1         FYN\n",
      "7959         0        ROS1\n",
      "7960         1        ROS1\n",
      "7961         1        ROS1\n",
      "7962         1        ROS1\n",
      "7963         1        ROS1\n",
      "7964         1        ROS1\n",
      "7965         1        ROS1\n",
      "7966         1        ROS1\n",
      "7967         0        ROS1\n",
      "7968         1      IFNGR1\n",
      "7969         0       LATS1\n",
      "7970         1       LATS1\n",
      "7971         1       LATS1\n",
      "7972         1       LATS1\n",
      "7973         1       LATS1\n",
      "7974         1      ARID1B\n",
      "7975         1      ARID1B\n",
      "\n",
      "[123 rows x 2 columns]\n"
     ]
    }
   ],
   "source": [
    "print analyzeMaf[analyzeMaf['Tumor_Sample_Barcode'] == 'P-0030372-T01-IM6'][['isGained', 'Hugo_Symbol']]"
   ]
  },
  {
   "cell_type": "code",
   "execution_count": null,
   "metadata": {},
   "outputs": [],
   "source": [
    "#\n",
    "######\n",
    "##############\n",
    "######################\n",
    "##################################\n",
    "#########################################\n",
    "###################################\n",
    "#####################\n",
    "##############\n",
    "#######\n",
    "#"
   ]
  },
  {
   "cell_type": "code",
   "execution_count": 238,
   "metadata": {},
   "outputs": [],
   "source": [
    "#armLevelDf = pd.read_table(pathPrefix + '/juno/work/taylorlab/friedman/myAdjustedDataFiles/feb_1_cohort_compilation.arm_level.t\n",
    "fracAlteredDict = {}\n",
    "cntr = 0\n",
    "allCases = set(armLevelDf['Tumor_Sample_Barcode'])\n",
    "nonDiploidCases = armLevelDf[armLevelDf['cn_state'] != 'DIPLOID']\n",
    "nonDiploidSegmentCounts = dict(nonDiploidCases['Tumor_Sample_Barcode'].value_counts())\n",
    "for case in allCases:\n",
    "    if case in nonDiploidSegmentCounts:\n",
    "        nNonDiploidSegments = nonDiploidSegmentCounts[case]\n",
    "        fracAlteredDict[case] = nNonDiploidSegments/46.0\n"
   ]
  },
  {
   "cell_type": "code",
   "execution_count": 242,
   "metadata": {},
   "outputs": [],
   "source": [
    "reload(get_gene_and_cohort_list_utils)\n",
    "tmbDict = get_gene_and_cohort_list_utils.get_all_tmb_info(tmbFilePath = pathPrefix + '/juno/work/taylorlab/friedman/myAdjustedDataFiles/mutations_TMB_and_MSI_stats.txt')\n"
   ]
  },
  {
   "cell_type": "code",
   "execution_count": 254,
   "metadata": {},
   "outputs": [],
   "source": [
    "#allHypermutatorIds = get_gene_and_cohort_list_utils.get_all_hypermutant_ids(hypermutantIdDir=pathPrefix + '/juno/work/taylorlab/friedman/hypermutationAnalysisProj/projectDataAndConfigFiles/hypermutationStatusIds')    \n",
    "listOfDicts = []\n",
    "for caseId in allHypermutatorIds:\n",
    "#    print caseId\n",
    "    if caseId[:9] in cancerTypeDict and caseId in tmbDict and caseId in fracAlteredDict:\n",
    "        listOfDicts.append({'Tumor_Sample_Barcode': caseId, 'TMB': tmbDict[caseId],\n",
    "                           'cancerType': cancerTypeDict[caseId[:9]], 'fracAltered': fracAlteredDict[caseId]})\n",
    "df = pd.DataFrame(listOfDicts)"
   ]
  },
  {
   "cell_type": "code",
   "execution_count": 258,
   "metadata": {},
   "outputs": [],
   "source": [
    "df.to_csv('/Users/friedman/Desktop/WORK/dataForLocalPlotting/tmbAndCNA.tsv', index=False, sep='\\t')"
   ]
  }
 ],
 "metadata": {
  "kernelspec": {
   "display_name": "Python 2",
   "language": "python",
   "name": "python2"
  },
  "language_info": {
   "codemirror_mode": {
    "name": "ipython",
    "version": 2
   },
   "file_extension": ".py",
   "mimetype": "text/x-python",
   "name": "python",
   "nbconvert_exporter": "python",
   "pygments_lexer": "ipython2",
   "version": "2.7.15"
  }
 },
 "nbformat": 4,
 "nbformat_minor": 2
}
