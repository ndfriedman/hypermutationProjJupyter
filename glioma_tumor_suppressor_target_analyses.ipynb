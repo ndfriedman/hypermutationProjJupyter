{
 "cells": [
  {
   "cell_type": "code",
   "execution_count": 1,
   "metadata": {},
   "outputs": [],
   "source": [
    "import sys\n",
    "import argparse\n",
    "import os\n",
    "import pandas as pd\n",
    "import numpy as np\n",
    "from collections import Counter\n",
    "pathPrefix = '/Users/friedman/Desktop/mnt'\n",
    "\n",
    "sys.path.append(pathPrefix + '/ifs/work/taylorlab/friedman/myUtils')\n",
    "import analysis_utils \n",
    "import mutationSigUtils \n",
    "import maf_analysis_utils\n",
    "import clonality_analysis_util"
   ]
  },
  {
   "cell_type": "markdown",
   "metadata": {},
   "source": [
    "**Note: First you need to generate gene level calls for CNA from facets**"
   ]
  },
  {
   "cell_type": "code",
   "execution_count": 57,
   "metadata": {},
   "outputs": [],
   "source": [
    "cases = set(gliomaDf['Tumor_Sample_Barcode'])\n",
    "facetsPath = '/ifs/res/taylorlab/impact_facets/facets_0.5.6/'\n",
    "rScriptPath = '/home/friedman/friedman/facets-suite/geneLevel.R'\n",
    "listOfCommands = []\n",
    "for case in cases:\n",
    "    target = None\n",
    "    if 'IM3' in case:\n",
    "        target = 'IMPACT341'\n",
    "    elif 'IM5' in case:\n",
    "        target = 'IMPACT410'\n",
    "    elif 'IM6' in case:\n",
    "        target = 'IMPACT468'\n",
    "    caseSplit = case.split('-')\n",
    "    caseSplit[2] = 'N01'\n",
    "    nString = '-'.join(caseSplit)\n",
    "    fullString = case + '_' + nString\n",
    "    \n",
    "    innerDir = 'facets_R0.5.6s100n25c50p100/'\n",
    "    cncfPath = fullString + '_hisens.cncf.txt'\n",
    "    fullPath = facetsPath + fullString + '/' + innerDir + cncfPath\n",
    "    outPath = '/ifs/work/taylorlab/friedman/myAdjustedDataFiles/facetsGeneLevelCalls/' + case + '_geneLevel.seg'\n",
    "    \n",
    "    command = 'Rscript ' + rScriptPath + ' -f ' + fullPath + ' -o ' + outPath + ' -t ' + target\n",
    "    listOfCommands.append(command)\n",
    "    "
   ]
  },
  {
   "cell_type": "code",
   "execution_count": 59,
   "metadata": {},
   "outputs": [],
   "source": [
    "#write the commands to a file on the desktop which I will then scp to luna\n",
    "f= open(\"/Users/friedman/Desktop/geneLevelCommands.txt\",\"w+\")\n",
    "for command in listOfCommands:\n",
    "    f.write(command+ '\\n')\n",
    "f.close()"
   ]
  },
  {
   "cell_type": "code",
   "execution_count": 60,
   "metadata": {},
   "outputs": [
    {
     "data": {
      "text/plain": [
       "['Rscript /home/friedman/friedman/facets-suite/geneLevel.R -f /ifs/res/taylorlab/impact_facets/facets_0.5.6/P-0003822-T03-IM6_P-0003822-N01-IM6/facets_R0.5.6s100n25c50p100/P-0003822-T03-IM6_P-0003822-N01-IM6_hisens.cncf.txt -o /ifs/work/taylorlab/friedman/myAdjustedDataFiles/facetsGeneLevelCalls/P-0003822-T03-IM6_geneLevel.seg -t IMPACT468',\n",
       " 'Rscript /home/friedman/friedman/facets-suite/geneLevel.R -f /ifs/res/taylorlab/impact_facets/facets_0.5.6/P-0020686-T01-IM6_P-0020686-N01-IM6/facets_R0.5.6s100n25c50p100/P-0020686-T01-IM6_P-0020686-N01-IM6_hisens.cncf.txt -o /ifs/work/taylorlab/friedman/myAdjustedDataFiles/facetsGeneLevelCalls/P-0020686-T01-IM6_geneLevel.seg -t IMPACT468',\n",
       " 'Rscript /home/friedman/friedman/facets-suite/geneLevel.R -f /ifs/res/taylorlab/impact_facets/facets_0.5.6/P-0000500-T01-IM3_P-0000500-N01-IM3/facets_R0.5.6s100n25c50p100/P-0000500-T01-IM3_P-0000500-N01-IM3_hisens.cncf.txt -o /ifs/work/taylorlab/friedman/myAdjustedDataFiles/facetsGeneLevelCalls/P-0000500-T01-IM3_geneLevel.seg -t IMPACT341',\n",
       " 'Rscript /home/friedman/friedman/facets-suite/geneLevel.R -f /ifs/res/taylorlab/impact_facets/facets_0.5.6/P-0003292-T01-IM5_P-0003292-N01-IM5/facets_R0.5.6s100n25c50p100/P-0003292-T01-IM5_P-0003292-N01-IM5_hisens.cncf.txt -o /ifs/work/taylorlab/friedman/myAdjustedDataFiles/facetsGeneLevelCalls/P-0003292-T01-IM5_geneLevel.seg -t IMPACT410',\n",
       " 'Rscript /home/friedman/friedman/facets-suite/geneLevel.R -f /ifs/res/taylorlab/impact_facets/facets_0.5.6/P-0013676-T01-IM5_P-0013676-N01-IM5/facets_R0.5.6s100n25c50p100/P-0013676-T01-IM5_P-0013676-N01-IM5_hisens.cncf.txt -o /ifs/work/taylorlab/friedman/myAdjustedDataFiles/facetsGeneLevelCalls/P-0013676-T01-IM5_geneLevel.seg -t IMPACT410',\n",
       " 'Rscript /home/friedman/friedman/facets-suite/geneLevel.R -f /ifs/res/taylorlab/impact_facets/facets_0.5.6/P-0004400-T01-IM5_P-0004400-N01-IM5/facets_R0.5.6s100n25c50p100/P-0004400-T01-IM5_P-0004400-N01-IM5_hisens.cncf.txt -o /ifs/work/taylorlab/friedman/myAdjustedDataFiles/facetsGeneLevelCalls/P-0004400-T01-IM5_geneLevel.seg -t IMPACT410',\n",
       " 'Rscript /home/friedman/friedman/facets-suite/geneLevel.R -f /ifs/res/taylorlab/impact_facets/facets_0.5.6/P-0018317-T02-IM6_P-0018317-N01-IM6/facets_R0.5.6s100n25c50p100/P-0018317-T02-IM6_P-0018317-N01-IM6_hisens.cncf.txt -o /ifs/work/taylorlab/friedman/myAdjustedDataFiles/facetsGeneLevelCalls/P-0018317-T02-IM6_geneLevel.seg -t IMPACT468',\n",
       " 'Rscript /home/friedman/friedman/facets-suite/geneLevel.R -f /ifs/res/taylorlab/impact_facets/facets_0.5.6/P-0013506-T01-IM5_P-0013506-N01-IM5/facets_R0.5.6s100n25c50p100/P-0013506-T01-IM5_P-0013506-N01-IM5_hisens.cncf.txt -o /ifs/work/taylorlab/friedman/myAdjustedDataFiles/facetsGeneLevelCalls/P-0013506-T01-IM5_geneLevel.seg -t IMPACT410',\n",
       " 'Rscript /home/friedman/friedman/facets-suite/geneLevel.R -f /ifs/res/taylorlab/impact_facets/facets_0.5.6/P-0002265-T02-IM5_P-0002265-N01-IM5/facets_R0.5.6s100n25c50p100/P-0002265-T02-IM5_P-0002265-N01-IM5_hisens.cncf.txt -o /ifs/work/taylorlab/friedman/myAdjustedDataFiles/facetsGeneLevelCalls/P-0002265-T02-IM5_geneLevel.seg -t IMPACT410',\n",
       " 'Rscript /home/friedman/friedman/facets-suite/geneLevel.R -f /ifs/res/taylorlab/impact_facets/facets_0.5.6/P-0010185-T01-IM5_P-0010185-N01-IM5/facets_R0.5.6s100n25c50p100/P-0010185-T01-IM5_P-0010185-N01-IM5_hisens.cncf.txt -o /ifs/work/taylorlab/friedman/myAdjustedDataFiles/facetsGeneLevelCalls/P-0010185-T01-IM5_geneLevel.seg -t IMPACT410',\n",
       " 'Rscript /home/friedman/friedman/facets-suite/geneLevel.R -f /ifs/res/taylorlab/impact_facets/facets_0.5.6/P-0002294-T02-IM5_P-0002294-N01-IM5/facets_R0.5.6s100n25c50p100/P-0002294-T02-IM5_P-0002294-N01-IM5_hisens.cncf.txt -o /ifs/work/taylorlab/friedman/myAdjustedDataFiles/facetsGeneLevelCalls/P-0002294-T02-IM5_geneLevel.seg -t IMPACT410',\n",
       " 'Rscript /home/friedman/friedman/facets-suite/geneLevel.R -f /ifs/res/taylorlab/impact_facets/facets_0.5.6/P-0019244-T01-IM6_P-0019244-N01-IM6/facets_R0.5.6s100n25c50p100/P-0019244-T01-IM6_P-0019244-N01-IM6_hisens.cncf.txt -o /ifs/work/taylorlab/friedman/myAdjustedDataFiles/facetsGeneLevelCalls/P-0019244-T01-IM6_geneLevel.seg -t IMPACT468',\n",
       " 'Rscript /home/friedman/friedman/facets-suite/geneLevel.R -f /ifs/res/taylorlab/impact_facets/facets_0.5.6/P-0031289-T02-IM6_P-0031289-N01-IM6/facets_R0.5.6s100n25c50p100/P-0031289-T02-IM6_P-0031289-N01-IM6_hisens.cncf.txt -o /ifs/work/taylorlab/friedman/myAdjustedDataFiles/facetsGeneLevelCalls/P-0031289-T02-IM6_geneLevel.seg -t IMPACT468',\n",
       " 'Rscript /home/friedman/friedman/facets-suite/geneLevel.R -f /ifs/res/taylorlab/impact_facets/facets_0.5.6/P-0003120-T01-IM5_P-0003120-N01-IM5/facets_R0.5.6s100n25c50p100/P-0003120-T01-IM5_P-0003120-N01-IM5_hisens.cncf.txt -o /ifs/work/taylorlab/friedman/myAdjustedDataFiles/facetsGeneLevelCalls/P-0003120-T01-IM5_geneLevel.seg -t IMPACT410',\n",
       " 'Rscript /home/friedman/friedman/facets-suite/geneLevel.R -f /ifs/res/taylorlab/impact_facets/facets_0.5.6/P-0002181-T02-IM5_P-0002181-N01-IM5/facets_R0.5.6s100n25c50p100/P-0002181-T02-IM5_P-0002181-N01-IM5_hisens.cncf.txt -o /ifs/work/taylorlab/friedman/myAdjustedDataFiles/facetsGeneLevelCalls/P-0002181-T02-IM5_geneLevel.seg -t IMPACT410',\n",
       " 'Rscript /home/friedman/friedman/facets-suite/geneLevel.R -f /ifs/res/taylorlab/impact_facets/facets_0.5.6/P-0001882-T02-IM5_P-0001882-N01-IM5/facets_R0.5.6s100n25c50p100/P-0001882-T02-IM5_P-0001882-N01-IM5_hisens.cncf.txt -o /ifs/work/taylorlab/friedman/myAdjustedDataFiles/facetsGeneLevelCalls/P-0001882-T02-IM5_geneLevel.seg -t IMPACT410',\n",
       " 'Rscript /home/friedman/friedman/facets-suite/geneLevel.R -f /ifs/res/taylorlab/impact_facets/facets_0.5.6/P-0034618-T01-IM6_P-0034618-N01-IM6/facets_R0.5.6s100n25c50p100/P-0034618-T01-IM6_P-0034618-N01-IM6_hisens.cncf.txt -o /ifs/work/taylorlab/friedman/myAdjustedDataFiles/facetsGeneLevelCalls/P-0034618-T01-IM6_geneLevel.seg -t IMPACT468',\n",
       " 'Rscript /home/friedman/friedman/facets-suite/geneLevel.R -f /ifs/res/taylorlab/impact_facets/facets_0.5.6/P-0008388-T01-IM5_P-0008388-N01-IM5/facets_R0.5.6s100n25c50p100/P-0008388-T01-IM5_P-0008388-N01-IM5_hisens.cncf.txt -o /ifs/work/taylorlab/friedman/myAdjustedDataFiles/facetsGeneLevelCalls/P-0008388-T01-IM5_geneLevel.seg -t IMPACT410',\n",
       " 'Rscript /home/friedman/friedman/facets-suite/geneLevel.R -f /ifs/res/taylorlab/impact_facets/facets_0.5.6/P-0015573-T01-IM6_P-0015573-N01-IM6/facets_R0.5.6s100n25c50p100/P-0015573-T01-IM6_P-0015573-N01-IM6_hisens.cncf.txt -o /ifs/work/taylorlab/friedman/myAdjustedDataFiles/facetsGeneLevelCalls/P-0015573-T01-IM6_geneLevel.seg -t IMPACT468',\n",
       " 'Rscript /home/friedman/friedman/facets-suite/geneLevel.R -f /ifs/res/taylorlab/impact_facets/facets_0.5.6/P-0002695-T01-IM3_P-0002695-N01-IM3/facets_R0.5.6s100n25c50p100/P-0002695-T01-IM3_P-0002695-N01-IM3_hisens.cncf.txt -o /ifs/work/taylorlab/friedman/myAdjustedDataFiles/facetsGeneLevelCalls/P-0002695-T01-IM3_geneLevel.seg -t IMPACT341',\n",
       " 'Rscript /home/friedman/friedman/facets-suite/geneLevel.R -f /ifs/res/taylorlab/impact_facets/facets_0.5.6/P-0009499-T01-IM5_P-0009499-N01-IM5/facets_R0.5.6s100n25c50p100/P-0009499-T01-IM5_P-0009499-N01-IM5_hisens.cncf.txt -o /ifs/work/taylorlab/friedman/myAdjustedDataFiles/facetsGeneLevelCalls/P-0009499-T01-IM5_geneLevel.seg -t IMPACT410',\n",
       " 'Rscript /home/friedman/friedman/facets-suite/geneLevel.R -f /ifs/res/taylorlab/impact_facets/facets_0.5.6/P-0014883-T02-IM6_P-0014883-N01-IM6/facets_R0.5.6s100n25c50p100/P-0014883-T02-IM6_P-0014883-N01-IM6_hisens.cncf.txt -o /ifs/work/taylorlab/friedman/myAdjustedDataFiles/facetsGeneLevelCalls/P-0014883-T02-IM6_geneLevel.seg -t IMPACT468',\n",
       " 'Rscript /home/friedman/friedman/facets-suite/geneLevel.R -f /ifs/res/taylorlab/impact_facets/facets_0.5.6/P-0025665-T01-IM6_P-0025665-N01-IM6/facets_R0.5.6s100n25c50p100/P-0025665-T01-IM6_P-0025665-N01-IM6_hisens.cncf.txt -o /ifs/work/taylorlab/friedman/myAdjustedDataFiles/facetsGeneLevelCalls/P-0025665-T01-IM6_geneLevel.seg -t IMPACT468',\n",
       " 'Rscript /home/friedman/friedman/facets-suite/geneLevel.R -f /ifs/res/taylorlab/impact_facets/facets_0.5.6/P-0019556-T02-IM6_P-0019556-N01-IM6/facets_R0.5.6s100n25c50p100/P-0019556-T02-IM6_P-0019556-N01-IM6_hisens.cncf.txt -o /ifs/work/taylorlab/friedman/myAdjustedDataFiles/facetsGeneLevelCalls/P-0019556-T02-IM6_geneLevel.seg -t IMPACT468',\n",
       " 'Rscript /home/friedman/friedman/facets-suite/geneLevel.R -f /ifs/res/taylorlab/impact_facets/facets_0.5.6/P-0006782-T02-IM5_P-0006782-N01-IM5/facets_R0.5.6s100n25c50p100/P-0006782-T02-IM5_P-0006782-N01-IM5_hisens.cncf.txt -o /ifs/work/taylorlab/friedman/myAdjustedDataFiles/facetsGeneLevelCalls/P-0006782-T02-IM5_geneLevel.seg -t IMPACT410',\n",
       " 'Rscript /home/friedman/friedman/facets-suite/geneLevel.R -f /ifs/res/taylorlab/impact_facets/facets_0.5.6/P-0010744-T01-IM5_P-0010744-N01-IM5/facets_R0.5.6s100n25c50p100/P-0010744-T01-IM5_P-0010744-N01-IM5_hisens.cncf.txt -o /ifs/work/taylorlab/friedman/myAdjustedDataFiles/facetsGeneLevelCalls/P-0010744-T01-IM5_geneLevel.seg -t IMPACT410',\n",
       " 'Rscript /home/friedman/friedman/facets-suite/geneLevel.R -f /ifs/res/taylorlab/impact_facets/facets_0.5.6/P-0001882-T01-IM3_P-0001882-N01-IM3/facets_R0.5.6s100n25c50p100/P-0001882-T01-IM3_P-0001882-N01-IM3_hisens.cncf.txt -o /ifs/work/taylorlab/friedman/myAdjustedDataFiles/facetsGeneLevelCalls/P-0001882-T01-IM3_geneLevel.seg -t IMPACT341',\n",
       " 'Rscript /home/friedman/friedman/facets-suite/geneLevel.R -f /ifs/res/taylorlab/impact_facets/facets_0.5.6/P-0003827-T02-IM6_P-0003827-N01-IM6/facets_R0.5.6s100n25c50p100/P-0003827-T02-IM6_P-0003827-N01-IM6_hisens.cncf.txt -o /ifs/work/taylorlab/friedman/myAdjustedDataFiles/facetsGeneLevelCalls/P-0003827-T02-IM6_geneLevel.seg -t IMPACT468',\n",
       " 'Rscript /home/friedman/friedman/facets-suite/geneLevel.R -f /ifs/res/taylorlab/impact_facets/facets_0.5.6/P-0024694-T02-IM6_P-0024694-N01-IM6/facets_R0.5.6s100n25c50p100/P-0024694-T02-IM6_P-0024694-N01-IM6_hisens.cncf.txt -o /ifs/work/taylorlab/friedman/myAdjustedDataFiles/facetsGeneLevelCalls/P-0024694-T02-IM6_geneLevel.seg -t IMPACT468',\n",
       " 'Rscript /home/friedman/friedman/facets-suite/geneLevel.R -f /ifs/res/taylorlab/impact_facets/facets_0.5.6/P-0017675-T01-IM5_P-0017675-N01-IM5/facets_R0.5.6s100n25c50p100/P-0017675-T01-IM5_P-0017675-N01-IM5_hisens.cncf.txt -o /ifs/work/taylorlab/friedman/myAdjustedDataFiles/facetsGeneLevelCalls/P-0017675-T01-IM5_geneLevel.seg -t IMPACT410',\n",
       " 'Rscript /home/friedman/friedman/facets-suite/geneLevel.R -f /ifs/res/taylorlab/impact_facets/facets_0.5.6/P-0003529-T01-IM5_P-0003529-N01-IM5/facets_R0.5.6s100n25c50p100/P-0003529-T01-IM5_P-0003529-N01-IM5_hisens.cncf.txt -o /ifs/work/taylorlab/friedman/myAdjustedDataFiles/facetsGeneLevelCalls/P-0003529-T01-IM5_geneLevel.seg -t IMPACT410',\n",
       " 'Rscript /home/friedman/friedman/facets-suite/geneLevel.R -f /ifs/res/taylorlab/impact_facets/facets_0.5.6/P-0030485-T01-IM6_P-0030485-N01-IM6/facets_R0.5.6s100n25c50p100/P-0030485-T01-IM6_P-0030485-N01-IM6_hisens.cncf.txt -o /ifs/work/taylorlab/friedman/myAdjustedDataFiles/facetsGeneLevelCalls/P-0030485-T01-IM6_geneLevel.seg -t IMPACT468',\n",
       " 'Rscript /home/friedman/friedman/facets-suite/geneLevel.R -f /ifs/res/taylorlab/impact_facets/facets_0.5.6/P-0012463-T03-IM6_P-0012463-N01-IM6/facets_R0.5.6s100n25c50p100/P-0012463-T03-IM6_P-0012463-N01-IM6_hisens.cncf.txt -o /ifs/work/taylorlab/friedman/myAdjustedDataFiles/facetsGeneLevelCalls/P-0012463-T03-IM6_geneLevel.seg -t IMPACT468',\n",
       " 'Rscript /home/friedman/friedman/facets-suite/geneLevel.R -f /ifs/res/taylorlab/impact_facets/facets_0.5.6/P-0023123-T01-IM6_P-0023123-N01-IM6/facets_R0.5.6s100n25c50p100/P-0023123-T01-IM6_P-0023123-N01-IM6_hisens.cncf.txt -o /ifs/work/taylorlab/friedman/myAdjustedDataFiles/facetsGeneLevelCalls/P-0023123-T01-IM6_geneLevel.seg -t IMPACT468',\n",
       " 'Rscript /home/friedman/friedman/facets-suite/geneLevel.R -f /ifs/res/taylorlab/impact_facets/facets_0.5.6/P-0015238-T02-IM6_P-0015238-N01-IM6/facets_R0.5.6s100n25c50p100/P-0015238-T02-IM6_P-0015238-N01-IM6_hisens.cncf.txt -o /ifs/work/taylorlab/friedman/myAdjustedDataFiles/facetsGeneLevelCalls/P-0015238-T02-IM6_geneLevel.seg -t IMPACT468',\n",
       " 'Rscript /home/friedman/friedman/facets-suite/geneLevel.R -f /ifs/res/taylorlab/impact_facets/facets_0.5.6/P-0029104-T01-IM6_P-0029104-N01-IM6/facets_R0.5.6s100n25c50p100/P-0029104-T01-IM6_P-0029104-N01-IM6_hisens.cncf.txt -o /ifs/work/taylorlab/friedman/myAdjustedDataFiles/facetsGeneLevelCalls/P-0029104-T01-IM6_geneLevel.seg -t IMPACT468',\n",
       " 'Rscript /home/friedman/friedman/facets-suite/geneLevel.R -f /ifs/res/taylorlab/impact_facets/facets_0.5.6/P-0002265-T04-IM5_P-0002265-N01-IM5/facets_R0.5.6s100n25c50p100/P-0002265-T04-IM5_P-0002265-N01-IM5_hisens.cncf.txt -o /ifs/work/taylorlab/friedman/myAdjustedDataFiles/facetsGeneLevelCalls/P-0002265-T04-IM5_geneLevel.seg -t IMPACT410',\n",
       " 'Rscript /home/friedman/friedman/facets-suite/geneLevel.R -f /ifs/res/taylorlab/impact_facets/facets_0.5.6/P-0012646-T01-IM5_P-0012646-N01-IM5/facets_R0.5.6s100n25c50p100/P-0012646-T01-IM5_P-0012646-N01-IM5_hisens.cncf.txt -o /ifs/work/taylorlab/friedman/myAdjustedDataFiles/facetsGeneLevelCalls/P-0012646-T01-IM5_geneLevel.seg -t IMPACT410',\n",
       " 'Rscript /home/friedman/friedman/facets-suite/geneLevel.R -f /ifs/res/taylorlab/impact_facets/facets_0.5.6/P-0009511-T03-IM6_P-0009511-N01-IM6/facets_R0.5.6s100n25c50p100/P-0009511-T03-IM6_P-0009511-N01-IM6_hisens.cncf.txt -o /ifs/work/taylorlab/friedman/myAdjustedDataFiles/facetsGeneLevelCalls/P-0009511-T03-IM6_geneLevel.seg -t IMPACT468',\n",
       " 'Rscript /home/friedman/friedman/facets-suite/geneLevel.R -f /ifs/res/taylorlab/impact_facets/facets_0.5.6/P-0006441-T02-IM5_P-0006441-N01-IM5/facets_R0.5.6s100n25c50p100/P-0006441-T02-IM5_P-0006441-N01-IM5_hisens.cncf.txt -o /ifs/work/taylorlab/friedman/myAdjustedDataFiles/facetsGeneLevelCalls/P-0006441-T02-IM5_geneLevel.seg -t IMPACT410',\n",
       " 'Rscript /home/friedman/friedman/facets-suite/geneLevel.R -f /ifs/res/taylorlab/impact_facets/facets_0.5.6/P-0018238-T01-IM6_P-0018238-N01-IM6/facets_R0.5.6s100n25c50p100/P-0018238-T01-IM6_P-0018238-N01-IM6_hisens.cncf.txt -o /ifs/work/taylorlab/friedman/myAdjustedDataFiles/facetsGeneLevelCalls/P-0018238-T01-IM6_geneLevel.seg -t IMPACT468',\n",
       " 'Rscript /home/friedman/friedman/facets-suite/geneLevel.R -f /ifs/res/taylorlab/impact_facets/facets_0.5.6/P-0013029-T01-IM5_P-0013029-N01-IM5/facets_R0.5.6s100n25c50p100/P-0013029-T01-IM5_P-0013029-N01-IM5_hisens.cncf.txt -o /ifs/work/taylorlab/friedman/myAdjustedDataFiles/facetsGeneLevelCalls/P-0013029-T01-IM5_geneLevel.seg -t IMPACT410',\n",
       " 'Rscript /home/friedman/friedman/facets-suite/geneLevel.R -f /ifs/res/taylorlab/impact_facets/facets_0.5.6/P-0035180-T03-IM6_P-0035180-N01-IM6/facets_R0.5.6s100n25c50p100/P-0035180-T03-IM6_P-0035180-N01-IM6_hisens.cncf.txt -o /ifs/work/taylorlab/friedman/myAdjustedDataFiles/facetsGeneLevelCalls/P-0035180-T03-IM6_geneLevel.seg -t IMPACT468',\n",
       " 'Rscript /home/friedman/friedman/facets-suite/geneLevel.R -f /ifs/res/taylorlab/impact_facets/facets_0.5.6/P-0019556-T01-IM6_P-0019556-N01-IM6/facets_R0.5.6s100n25c50p100/P-0019556-T01-IM6_P-0019556-N01-IM6_hisens.cncf.txt -o /ifs/work/taylorlab/friedman/myAdjustedDataFiles/facetsGeneLevelCalls/P-0019556-T01-IM6_geneLevel.seg -t IMPACT468',\n",
       " 'Rscript /home/friedman/friedman/facets-suite/geneLevel.R -f /ifs/res/taylorlab/impact_facets/facets_0.5.6/P-0013991-T01-IM5_P-0013991-N01-IM5/facets_R0.5.6s100n25c50p100/P-0013991-T01-IM5_P-0013991-N01-IM5_hisens.cncf.txt -o /ifs/work/taylorlab/friedman/myAdjustedDataFiles/facetsGeneLevelCalls/P-0013991-T01-IM5_geneLevel.seg -t IMPACT410',\n",
       " 'Rscript /home/friedman/friedman/facets-suite/geneLevel.R -f /ifs/res/taylorlab/impact_facets/facets_0.5.6/P-0003900-T01-IM5_P-0003900-N01-IM5/facets_R0.5.6s100n25c50p100/P-0003900-T01-IM5_P-0003900-N01-IM5_hisens.cncf.txt -o /ifs/work/taylorlab/friedman/myAdjustedDataFiles/facetsGeneLevelCalls/P-0003900-T01-IM5_geneLevel.seg -t IMPACT410',\n",
       " 'Rscript /home/friedman/friedman/facets-suite/geneLevel.R -f /ifs/res/taylorlab/impact_facets/facets_0.5.6/P-0019837-T01-IM6_P-0019837-N01-IM6/facets_R0.5.6s100n25c50p100/P-0019837-T01-IM6_P-0019837-N01-IM6_hisens.cncf.txt -o /ifs/work/taylorlab/friedman/myAdjustedDataFiles/facetsGeneLevelCalls/P-0019837-T01-IM6_geneLevel.seg -t IMPACT468',\n",
       " 'Rscript /home/friedman/friedman/facets-suite/geneLevel.R -f /ifs/res/taylorlab/impact_facets/facets_0.5.6/P-0001420-T02-IM5_P-0001420-N01-IM5/facets_R0.5.6s100n25c50p100/P-0001420-T02-IM5_P-0001420-N01-IM5_hisens.cncf.txt -o /ifs/work/taylorlab/friedman/myAdjustedDataFiles/facetsGeneLevelCalls/P-0001420-T02-IM5_geneLevel.seg -t IMPACT410',\n",
       " 'Rscript /home/friedman/friedman/facets-suite/geneLevel.R -f /ifs/res/taylorlab/impact_facets/facets_0.5.6/P-0007917-T02-IM5_P-0007917-N01-IM5/facets_R0.5.6s100n25c50p100/P-0007917-T02-IM5_P-0007917-N01-IM5_hisens.cncf.txt -o /ifs/work/taylorlab/friedman/myAdjustedDataFiles/facetsGeneLevelCalls/P-0007917-T02-IM5_geneLevel.seg -t IMPACT410',\n",
       " 'Rscript /home/friedman/friedman/facets-suite/geneLevel.R -f /ifs/res/taylorlab/impact_facets/facets_0.5.6/P-0021039-T02-IM6_P-0021039-N01-IM6/facets_R0.5.6s100n25c50p100/P-0021039-T02-IM6_P-0021039-N01-IM6_hisens.cncf.txt -o /ifs/work/taylorlab/friedman/myAdjustedDataFiles/facetsGeneLevelCalls/P-0021039-T02-IM6_geneLevel.seg -t IMPACT468',\n",
       " 'Rscript /home/friedman/friedman/facets-suite/geneLevel.R -f /ifs/res/taylorlab/impact_facets/facets_0.5.6/P-0005361-T04-IM6_P-0005361-N01-IM6/facets_R0.5.6s100n25c50p100/P-0005361-T04-IM6_P-0005361-N01-IM6_hisens.cncf.txt -o /ifs/work/taylorlab/friedman/myAdjustedDataFiles/facetsGeneLevelCalls/P-0005361-T04-IM6_geneLevel.seg -t IMPACT468',\n",
       " 'Rscript /home/friedman/friedman/facets-suite/geneLevel.R -f /ifs/res/taylorlab/impact_facets/facets_0.5.6/P-0000883-T02-IM5_P-0000883-N01-IM5/facets_R0.5.6s100n25c50p100/P-0000883-T02-IM5_P-0000883-N01-IM5_hisens.cncf.txt -o /ifs/work/taylorlab/friedman/myAdjustedDataFiles/facetsGeneLevelCalls/P-0000883-T02-IM5_geneLevel.seg -t IMPACT410',\n",
       " 'Rscript /home/friedman/friedman/facets-suite/geneLevel.R -f /ifs/res/taylorlab/impact_facets/facets_0.5.6/P-0001420-T01-IM3_P-0001420-N01-IM3/facets_R0.5.6s100n25c50p100/P-0001420-T01-IM3_P-0001420-N01-IM3_hisens.cncf.txt -o /ifs/work/taylorlab/friedman/myAdjustedDataFiles/facetsGeneLevelCalls/P-0001420-T01-IM3_geneLevel.seg -t IMPACT341',\n",
       " 'Rscript /home/friedman/friedman/facets-suite/geneLevel.R -f /ifs/res/taylorlab/impact_facets/facets_0.5.6/P-0001882-T03-IM6_P-0001882-N01-IM6/facets_R0.5.6s100n25c50p100/P-0001882-T03-IM6_P-0001882-N01-IM6_hisens.cncf.txt -o /ifs/work/taylorlab/friedman/myAdjustedDataFiles/facetsGeneLevelCalls/P-0001882-T03-IM6_geneLevel.seg -t IMPACT468',\n",
       " 'Rscript /home/friedman/friedman/facets-suite/geneLevel.R -f /ifs/res/taylorlab/impact_facets/facets_0.5.6/P-0006554-T01-IM5_P-0006554-N01-IM5/facets_R0.5.6s100n25c50p100/P-0006554-T01-IM5_P-0006554-N01-IM5_hisens.cncf.txt -o /ifs/work/taylorlab/friedman/myAdjustedDataFiles/facetsGeneLevelCalls/P-0006554-T01-IM5_geneLevel.seg -t IMPACT410',\n",
       " 'Rscript /home/friedman/friedman/facets-suite/geneLevel.R -f /ifs/res/taylorlab/impact_facets/facets_0.5.6/P-0013293-T02-IM6_P-0013293-N01-IM6/facets_R0.5.6s100n25c50p100/P-0013293-T02-IM6_P-0013293-N01-IM6_hisens.cncf.txt -o /ifs/work/taylorlab/friedman/myAdjustedDataFiles/facetsGeneLevelCalls/P-0013293-T02-IM6_geneLevel.seg -t IMPACT468',\n",
       " 'Rscript /home/friedman/friedman/facets-suite/geneLevel.R -f /ifs/res/taylorlab/impact_facets/facets_0.5.6/P-0009411-T01-IM5_P-0009411-N01-IM5/facets_R0.5.6s100n25c50p100/P-0009411-T01-IM5_P-0009411-N01-IM5_hisens.cncf.txt -o /ifs/work/taylorlab/friedman/myAdjustedDataFiles/facetsGeneLevelCalls/P-0009411-T01-IM5_geneLevel.seg -t IMPACT410',\n",
       " 'Rscript /home/friedman/friedman/facets-suite/geneLevel.R -f /ifs/res/taylorlab/impact_facets/facets_0.5.6/P-0035180-T01-IM6_P-0035180-N01-IM6/facets_R0.5.6s100n25c50p100/P-0035180-T01-IM6_P-0035180-N01-IM6_hisens.cncf.txt -o /ifs/work/taylorlab/friedman/myAdjustedDataFiles/facetsGeneLevelCalls/P-0035180-T01-IM6_geneLevel.seg -t IMPACT468',\n",
       " 'Rscript /home/friedman/friedman/facets-suite/geneLevel.R -f /ifs/res/taylorlab/impact_facets/facets_0.5.6/P-0000944-T01-IM3_P-0000944-N01-IM3/facets_R0.5.6s100n25c50p100/P-0000944-T01-IM3_P-0000944-N01-IM3_hisens.cncf.txt -o /ifs/work/taylorlab/friedman/myAdjustedDataFiles/facetsGeneLevelCalls/P-0000944-T01-IM3_geneLevel.seg -t IMPACT341']"
      ]
     },
     "execution_count": 60,
     "metadata": {},
     "output_type": "execute_result"
    }
   ],
   "source": [
    "listOfCommands"
   ]
  },
  {
   "cell_type": "markdown",
   "metadata": {},
   "source": [
    "**Actual Data parsing**"
   ]
  },
  {
   "cell_type": "code",
   "execution_count": 2,
   "metadata": {},
   "outputs": [
    {
     "name": "stderr",
     "output_type": "stream",
     "text": [
      "/anaconda2/lib/python2.7/site-packages/IPython/core/interactiveshell.py:2714: DtypeWarning: Columns (17,18,19,45,46,48,50,51,52,53,54,55,56,57,60,61,62,63,64,65,74,75,76,77,78,80,81,85,86,89,90,91,92,93,98,101,102,103,104,105,106,107,108,110,111,112,113,114,115,116,117,121) have mixed types. Specify dtype option on import or set low_memory=False.\n",
      "  interactivity=interactivity, compiler=compiler, result=result)\n"
     ]
    }
   ],
   "source": [
    "gliomaDf = pd.read_table(pathPrefix + '/ifs/work/taylorlab/friedman/myAdjustedDataFiles/subsettedMafs/Glioma_HypermutantCaseMuts_MAF_ANNO_trinuc.maf')"
   ]
  },
  {
   "cell_type": "code",
   "execution_count": 3,
   "metadata": {},
   "outputs": [],
   "source": [
    "#We say TMZ motifs are the top 8 tmz mutations (note this will miss ~10% of tmz muts)\n",
    "tmzMotifs = set(['ACTC', 'ACTT', 'CCTC', 'CCTT', 'GCTC', 'GCTT', 'TCTC', 'TCTT'])\n",
    "gliomaDf['quadNuc'] = gliomaDf.apply(lambda row: mutationSigUtils.create_reference_four_nuc(row['Ref_Tri'], row['Reference_Allele'], row['Tumor_Seq_Allele2'], row['Variant_Type']), axis=1)\n"
   ]
  },
  {
   "cell_type": "code",
   "execution_count": 5,
   "metadata": {},
   "outputs": [],
   "source": [
    "gliomaDfTMZOnly = gliomaDf[gliomaDf['quadNuc'].isin(tmzMotifs)]\n",
    "#gliomaDfTMZOnly = gliomaDfTMZOnly[~gliomaDfTMZOnly['Chromosome'].isin(set(['X', 'Y']))]"
   ]
  },
  {
   "cell_type": "code",
   "execution_count": 4,
   "metadata": {},
   "outputs": [],
   "source": [
    "mutSimulationSummary = pd.read_table('/Users/friedman/Desktop/workOffline/mutSimulationInfoIncludingHotspots.tsv')\n"
   ]
  },
  {
   "cell_type": "code",
   "execution_count": 6,
   "metadata": {},
   "outputs": [],
   "source": [
    "#adds a column to a maf telling you which genes are double mutated\n",
    "def mark_double_mutants_in_maf(maf, mode = 'oncogenic'):\n",
    "    countMaf = maf\n",
    "    if mode == 'oncogenic':\n",
    "        countMaf = maf[maf['oncogenic'].notnull()]\n",
    "    counts = countMaf['Hugo_Symbol'].value_counts()\n",
    "    doubles = dict(counts[counts > 1]).keys() #convoluted way to get genes mutated 2+ times\n",
    "    maf['isDouble'] = maf['Hugo_Symbol'].apply(lambda x: True if x in doubles else False)\n",
    "    return maf\n",
    "    \n",
    "#assumes we are taking a maf of TMZ motif mutations to start\n",
    "def calculate_fraction_of_tumor_suppressors_balanced(cases, geneSizeDict, maf):\n",
    "    \n",
    "    listOfDicts = []\n",
    "    tumorSuppressors = set(['ERRFI1', 'ASXL2', 'PMAIP1', 'ACTG1', 'SUFU', 'FBXO11', 'MEN1', 'FAM58A', 'B2M', 'RB1', 'DUSP22', 'SESN1', 'GPS2', 'RAD51D', 'SMG1', 'CDC73', 'MAP3K1', 'SMARCB1', 'INPP4B', 'PARK2', 'SMAD4', 'CBFB', 'CDH1', 'PPP6C', 'SETDB1', 'SETDB2', 'NF2', 'CDKN2B', 'CDKN2C', 'CDKN2A', 'DDX3X', 'PIK3R1', 'BARD1', 'PDS5B', 'KLF4', 'SPRED1', 'VHL', 'SMAD2', 'PMS1', 'PMS2', 'SETD2', 'GATA3', 'TBL1XR1', 'MUTYH', 'SOCS1', 'FAM175A', 'ROBO1', 'ARID1B', 'ARID1A', 'TCF7L2', 'STK11', 'FOXA1', 'PTEN', 'FAT1', 'FAS', 'CYLD', 'MAX', 'SH2D1A', 'APC', 'NTHL1', 'CTCF', 'KDM5C', 'KMT2C', 'ZFHX3', 'FOXP1', 'PIGA', 'CDKN1B', 'CDKN1A', 'FUBP1', 'MSH2', 'ID3', 'TNFRSF14', 'TRAF3', 'EP400', 'BRIP1', 'ARID4A', 'ARID4B', 'XRCC2', 'DAXX', 'SDHAF2', 'ASXL1', 'AMER1', 'RASA1', 'EGR1', 'MST1', 'SOX17', 'RUNX1', 'PIK3R3', 'NCOR1', 'NF1', 'JAK1', 'PTPRD', 'CHEK2', 'CHEK1', 'SMC1A', 'TMEM127', 'STAG1', 'RAD51', 'TCF3', 'STAG2', 'ARID2', 'RAD50', 'RNF43', 'PARP1', 'BLM', 'CUX1', 'RECQL', 'RAD21', 'PTPN2', 'PTPN1', 'SLX4', 'INHA', 'PAX5', 'IRF1', 'TP53', 'HLA-A', 'IRF8', 'CBL', 'TOP1', 'SHQ1', 'PRDM1', 'NSD1', 'ATXN2', 'CREBBP', 'HDAC4', 'SESN2', 'PPP2R1A', 'EPHA7', 'ATM', 'EPHA3', 'POT1', 'SMAD3', 'MOB3B', 'TBX3', 'POLE', 'ATR', 'FANCD2', 'FH', 'BCORL1', 'SOX9', 'IKZF3', 'TSC1', 'TP63', 'MRE11A', 'SDHC', 'BTG1', 'POLD1', 'CIITA', 'SMC3', 'SAMHD1', 'RTEL1', 'ECT2L', 'PIK3R2', 'CRBN', 'FANCC', 'NBN', 'FANCA', 'HLA-B', 'RECQL4', 'DUSP4', 'ERCC2', 'FBXW7', 'TGFBR2', 'TGFBR1', 'MSH3', 'RBM15', 'TET1', 'TET3', 'SESN3', 'MGA', 'LTB', 'FOXL2', 'SH2B3', 'BCOR', 'HIST1H1D', 'ATRX', 'EP300', 'RAD51C', 'RAD51B', 'HIST1H1B', 'TNFAIP3', 'DICER1', 'ARID5B', 'LATS2', 'FOXO1', 'KEAP1', 'EZH2', 'SP140', 'NKX3-1', 'PBRM1', 'PALB2', 'CIC', 'BRCA1', 'DTX1', 'FLCN', 'SPEN', 'CD58', 'ERCC3', 'ERCC4', 'MSH6', 'BCL11B', 'BMPR1A', 'ERF', 'BRCA2', 'NOTCH2', 'EED', 'MITF', 'ELF3', 'SMARCA4', 'BBC3', 'ANKRD11', 'CEBPA', 'BCL2L11', 'AXIN2', 'AXIN1', 'CDK12', 'ESCO2', 'MLH1', 'SDHB', 'MED12', 'HNF1A', 'RYBP', 'ATP6V1B2', 'DNMT3B', 'KMT2B', 'KMT2A', 'DNMT3A', 'NFKBIA', 'TRAF5', 'KMT2D', 'SPOP', 'RBM10', 'P2RY8', 'TP53BP1', 'TSC2', 'KDM6A', 'EPCAM', 'PHOX2B', 'NPM1', 'BCL10', 'LATS1', 'HOXB13', 'ARID3A', 'PTPRT', 'PTPRS', 'INPPL1', 'NOTCH4', 'TET2', 'NOTCH1', 'CASP8', 'NOTCH3', 'GRIN2A', 'MAP2K4', 'WT1', 'BACH2', 'SDHA', 'BAP1', 'PTCH1', 'SDHD'])\n",
    "    pathToGeneLevelCalls = pathPrefix + '/ifs/work/taylorlab/friedman/myAdjustedDataFiles/facetsGeneLevelCalls/'\n",
    "    cntr = 0\n",
    "    for case in cases:\n",
    "        \n",
    "        cntr += 1\n",
    "        if cntr%10 == 0: print cntr, len(cases)\n",
    "        \n",
    "        geneLevelPath = pathToGeneLevelCalls + case + '_geneLevel.seg'\n",
    "        if os.path.exists(geneLevelPath):\n",
    "            caseMaf = maf[maf['Tumor_Sample_Barcode'] == case]\n",
    "            caseMaf = mark_double_mutants_in_maf(caseMaf, mode = 'oncogenic')\n",
    "            \n",
    "            geneLevelDf = pd.read_table(geneLevelPath)\n",
    "            geneLevelDf['size'] = geneLevelDf['Hugo_Symbol'].apply(lambda x: geneSizeDict[x] if x in geneSizeDict else None)\n",
    "            geneLevelDf['balanced'] = geneLevelDf.apply(lambda row: True if row['tcn']/2.0 == row['lcn'] else False, axis=1)\n",
    "            geneLevelDfTSGs = geneLevelDf[geneLevelDf['Hugo_Symbol'].isin(tumorSuppressors)]\n",
    "\n",
    "            balancedDf = geneLevelDfTSGs[geneLevelDfTSGs['balanced'] == True]\n",
    "            unbalancedDf = geneLevelDfTSGs[geneLevelDfTSGs['balanced'] == False]\n",
    "            balancedGenes = set(balancedDf['Hugo_Symbol'])\n",
    "            unbalancedGenes = set(unbalancedDf['Hugo_Symbol'])\n",
    "            balancedSize = np.nansum(balancedDf['size'])\n",
    "            unbalancedSize = np.nansum(unbalancedDf['size'])\n",
    "\n",
    "            #Rate of mutations per balanced/unbalanced region\n",
    "            balancedMaf = caseMaf[caseMaf['Hugo_Symbol'].isin(balancedGenes)]\n",
    "            unbalancedMaf = caseMaf[caseMaf['Hugo_Symbol'].isin(unbalancedGenes)]\n",
    "            nOncBalanced = balancedMaf[balancedMaf['oncogenic'].notnull()].shape[0]\n",
    "            nOncUnbalanced = unbalancedMaf[unbalancedMaf['oncogenic'].notnull()].shape[0]\n",
    "            nBalancedVus = balancedMaf[balancedMaf['oncogenic'].isnull()].shape[0]\n",
    "            nUnbalancedVus = unbalancedMaf[unbalancedMaf['oncogenic'].isnull()].shape[0]\n",
    "            \n",
    "            #double stuff\n",
    "            nDoubleBalanced = balancedMaf[(~balancedMaf['oncogenic'].notnull()) &(balancedMaf['isDouble'] == True)].shape[0]\n",
    "            nDoubleUnbalanced = unbalancedMaf[(~unbalancedMaf['oncogenic'].notnull()) &(unbalancedMaf['isDouble'] == True)].shape[0]\n",
    "            nDoubleOncBalanced = balancedMaf[(balancedMaf['oncogenic'].notnull()) & (balancedMaf['isDouble'] == True)].shape[0]\n",
    "            nDoubleOncUnbalanced = unbalancedMaf[(unbalancedMaf['oncogenic'].notnull()) & (unbalancedMaf['isDouble'] == True)].shape[0]\n",
    "\n",
    "            listOfDicts.append({\n",
    "                'Tumor_Sample_Barcode': case, 'nBalanced': nBalancedVus, 'nOncBalanced': nOncBalanced,\n",
    "                'nUnbalanced': nUnbalancedVus, 'nOncUnbalanced': nOncUnbalanced,\n",
    "                'oncBalancedRate': (1.0*nOncBalanced)/balancedSize, 'oncUnbalancedRate': (1.0*nOncUnbalanced)/unbalancedSize,\n",
    "                'balancedRate': (1.0*nBalancedVus)/balancedSize, 'unbalancedRate': (1.0*nUnbalancedVus)/unbalancedSize,\n",
    "                'balancedOncDoubleRate': (1.0*nDoubleOncBalanced)/balancedSize, 'unbalancedOncDoubleRate': (1.0*nDoubleOncUnbalanced)/unbalancedSize,\n",
    "                'balancedDoubleRate': (1.0*nDoubleBalanced)/balancedSize, 'unbalancedDoubleRate': (1.0*nDoubleUnbalanced)/unbalancedSize\n",
    "            })\n",
    "            \n",
    "            \n",
    "         \n",
    "    return pd.DataFrame(listOfDicts)\n",
    "        \n",
    "        "
   ]
  },
  {
   "cell_type": "code",
   "execution_count": null,
   "metadata": {},
   "outputs": [],
   "source": [
    "#mark_double_mutants_in_maf(gliomaDf, mode = 'oncogenic')"
   ]
  },
  {
   "cell_type": "code",
   "execution_count": 9,
   "metadata": {},
   "outputs": [],
   "source": [
    "geneSizeDict = dict(zip(mutSimulationSummary['Hugo_Symbol'], mutSimulationSummary['nPossibleMuts']/3))"
   ]
  },
  {
   "cell_type": "code",
   "execution_count": 11,
   "metadata": {},
   "outputs": [
    {
     "name": "stderr",
     "output_type": "stream",
     "text": [
      "/anaconda2/lib/python2.7/site-packages/ipykernel_launcher.py:8: SettingWithCopyWarning: \n",
      "A value is trying to be set on a copy of a slice from a DataFrame.\n",
      "Try using .loc[row_indexer,col_indexer] = value instead\n",
      "\n",
      "See the caveats in the documentation: http://pandas.pydata.org/pandas-docs/stable/indexing.html#indexing-view-versus-copy\n",
      "  \n"
     ]
    },
    {
     "name": "stdout",
     "output_type": "stream",
     "text": [
      "10 59\n",
      "20 59\n"
     ]
    },
    {
     "name": "stderr",
     "output_type": "stream",
     "text": [
      "/anaconda2/lib/python2.7/site-packages/ipykernel_launcher.py:57: RuntimeWarning: invalid value encountered in double_scalars\n",
      "/anaconda2/lib/python2.7/site-packages/ipykernel_launcher.py:58: RuntimeWarning: invalid value encountered in double_scalars\n",
      "/anaconda2/lib/python2.7/site-packages/ipykernel_launcher.py:59: RuntimeWarning: invalid value encountered in double_scalars\n",
      "/anaconda2/lib/python2.7/site-packages/ipykernel_launcher.py:60: RuntimeWarning: invalid value encountered in double_scalars\n"
     ]
    },
    {
     "name": "stdout",
     "output_type": "stream",
     "text": [
      "30 59\n",
      "40 59\n",
      "50 59\n"
     ]
    }
   ],
   "source": [
    "df = calculate_fraction_of_tumor_suppressors_balanced(set(gliomaDf['Tumor_Sample_Barcode']), geneSizeDict, gliomaDfTMZOnly)"
   ]
  },
  {
   "cell_type": "code",
   "execution_count": 12,
   "metadata": {},
   "outputs": [
    {
     "name": "stdout",
     "output_type": "stream",
     "text": [
      "1.447374654720212e-05 1.2862728038604819e-05\n",
      "0.00017360854949382084 0.000150449377631688\n",
      "2.156136289741331e-06 1.6246426273908706e-06\n",
      "2.3901541999333142e-06 2.0127642152944027e-06\n"
     ]
    }
   ],
   "source": [
    "print np.nanmean(df['oncBalancedRate']), np.nanmean(df['oncUnbalancedRate'])\n",
    "print np.nanmean(df['balancedRate']), np.nanmean(df['unbalancedRate'])\n",
    "print np.nanmean(df['balancedOncDoubleRate']), np.nanmean(df['unbalancedOncDoubleRate'])\n",
    "print np.nanmean(df['balancedDoubleRate']), np.nanmean(df['unbalancedDoubleRate'])"
   ]
  },
  {
   "cell_type": "code",
   "execution_count": 17,
   "metadata": {},
   "outputs": [],
   "source": [
    "#TODO should we consider mutations that occur at a 2-0 regime and are double as different (likewise for 4 - 0)\n",
    "df.to_csv('/Users/friedman/Desktop/WORK/dataForLocalPlotting/gliomaMutBalance.tsv', index=False, sep='\\t')\n",
    "\n"
   ]
  }
 ],
 "metadata": {
  "kernelspec": {
   "display_name": "Python 2",
   "language": "python",
   "name": "python2"
  },
  "language_info": {
   "codemirror_mode": {
    "name": "ipython",
    "version": 2
   },
   "file_extension": ".py",
   "mimetype": "text/x-python",
   "name": "python",
   "nbconvert_exporter": "python",
   "pygments_lexer": "ipython2",
   "version": "2.7.15"
  }
 },
 "nbformat": 4,
 "nbformat_minor": 2
}
