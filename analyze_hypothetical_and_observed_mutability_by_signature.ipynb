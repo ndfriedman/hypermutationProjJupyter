{
 "cells": [
  {
   "cell_type": "code",
   "execution_count": 1,
   "metadata": {},
   "outputs": [],
   "source": [
    "#written by Noah Friedman (a template for scripts to be excuted in the spyder environment\n",
    "import sys\n",
    "import argparse\n",
    "import os\n",
    "import pandas as pd\n",
    "import numpy as np\n",
    "import re\n",
    "\n",
    "from collections import Counter\n",
    "\n",
    "pathPrefix = '/Users/friedman/Desktop/mnt'\n",
    "\n",
    "sys.path.append(pathPrefix + '/ifs/work/taylorlab/friedman/myUtils')\n",
    "import analysis_utils \n",
    "import mutationSigUtils \n",
    "import maf_analysis_utils\n",
    "import mutation_modeling_util"
   ]
  },
  {
   "cell_type": "markdown",
   "metadata": {},
   "source": [
    "**FUNCTIONS**"
   ]
  },
  {
   "cell_type": "code",
   "execution_count": 2,
   "metadata": {},
   "outputs": [],
   "source": [
    "#CALCULATES THE DIFFERENTIAL EXPECTED oncogenic mut burden as if each signature were dominant alone\n",
    "def calculate_oncogenic_mut_susceptibility_of_genes_by_signature(oncogenicSDict):\n",
    "    listOfDicts = []\n",
    "    sigNames = ['Signature.' + str(i) for i in range(1,31)]\n",
    "    for i in range(1,31):\n",
    "        curSig = 'Signature.' + str(i)\n",
    "        d = {}\n",
    "        for s in sigNames:\n",
    "            d[s] = 0\n",
    "        d[curSig] = 1\n",
    "        #PRETEND we got a case with 100% signature i on the decomposition\n",
    "        quadNucFractions = mutation_modeling_util.get_quadnuc_fracs_given_decomposition(d, spectraPath = pathPrefix + '/ifs/work/taylorlab/friedman/noahFirstProject/signature_sig_copy/mutation-signatures/Stratton_signatures30.txt')\n",
    "        v = mutation_modeling_util.get_expected_oncogenic_val_given_quadnuc_fractions(quadNucFractions, oncogenicSDict, 'IMPACT_468')\n",
    "        listOfDicts.append({'Signature_Name': curSig, 'ExpectedFracOfMutsOncogenic': v})\n",
    "    return pd.DataFrame(listOfDicts)"
   ]
  },
  {
   "cell_type": "code",
   "execution_count": 3,
   "metadata": {},
   "outputs": [],
   "source": [
    "def expand_data_for_plot(infoDict, n=1250):\n",
    "    listOfDicts = []\n",
    "    for i in range(1,n):\n",
    "        if i%50==0:print i\n",
    "        nmut_mbIM6 = (i*1000000.0)/1139322\n",
    "        for key, value in infoDict.items():\n",
    "            listOfDicts.append({'Signature': key, 'Nmut_Expected': i*value, 'Nmut_Mb': nmut_mbIM6})\n",
    "    return pd.DataFrame(listOfDicts)"
   ]
  },
  {
   "cell_type": "code",
   "execution_count": 4,
   "metadata": {},
   "outputs": [],
   "source": [
    "def get_indel_frac_by_dominant_signature(sigs, maf):\n",
    "    d = {}\n",
    "    sigNames = ['mean_' + str(i) for i in range(1,31)]\n",
    "    for sig in sigNames:\n",
    "        sigIds = set(sigs[sigs['dominantSig'] == sig]['Tumor_Sample_Barcode'])\n",
    "        sigMuts = maf[maf['Tumor_Sample_Barcode'].isin(sigIds)]\n",
    "        sigName = re.sub('mean_', 'Signature.', sig )\n",
    "        d[sigName] = 1.0*sigMuts[(sigMuts['Variant_Type'] == 'INS') | (sigMuts['Variant_Type'] == 'DEL')].shape[0]/sigMuts.shape[0]\n",
    "    return d"
   ]
  },
  {
   "cell_type": "code",
   "execution_count": 130,
   "metadata": {},
   "outputs": [],
   "source": [
    "def calculate_oncogenicity_including_indel(row, indelFracDict):\n",
    "    mmrSigs = set(['Signature.6', 'Signature.15', 'Signature.16', 'Signature.20', 'Signature.21', 'Signature.26'])\n",
    "    indelOncogenicity = .3497\n",
    "    if row['Signature_Name'] in mmrSigs:\n",
    "        indelOncogenicity = .4856\n",
    "    indelFrac = 0.156\n",
    "    if row['Signature_Name'] in indelFracDict: indelFrac = indelFracDict[row['Signature_Name']]\n",
    "    return (1 - indelFrac)*row['ExpectedFracOfMutsOncogenic'] + indelFrac*indelOncogenicity"
   ]
  },
  {
   "cell_type": "code",
   "execution_count": 146,
   "metadata": {},
   "outputs": [
    {
     "data": {
      "text/plain": [
       "<module 'maf_analysis_utils' from '/Users/friedman/Desktop/mnt/ifs/work/taylorlab/friedman/myUtils/maf_analysis_utils.py'>"
      ]
     },
     "execution_count": 146,
     "metadata": {},
     "output_type": "execute_result"
    }
   ],
   "source": [
    "#reload(mutation_modeling_util)\n",
    "reload(maf_analysis_utils)"
   ]
  },
  {
   "cell_type": "markdown",
   "metadata": {},
   "source": [
    "**WORK AREA**"
   ]
  },
  {
   "cell_type": "code",
   "execution_count": 5,
   "metadata": {},
   "outputs": [
    {
     "name": "stderr",
     "output_type": "stream",
     "text": [
      "/anaconda2/lib/python2.7/site-packages/IPython/core/interactiveshell.py:2878: DtypeWarning: Columns (36) have mixed types. Specify dtype option on import or set low_memory=False.\n",
      "  exec(code_obj, self.user_global_ns, self.user_ns)\n"
     ]
    },
    {
     "name": "stdout",
     "output_type": "stream",
     "text": [
      "3.64 percent done\n",
      "7.27 percent done\n",
      "10.91 percent done\n",
      "14.55 percent done\n",
      "18.18 percent done\n",
      "21.82 percent done\n",
      "25.45 percent done\n",
      "29.09 percent done\n",
      "32.73 percent done\n",
      "36.36 percent done\n",
      "40.0 percent done\n",
      "43.64 percent done\n",
      "47.27 percent done\n",
      "50.91 percent done\n",
      "54.55 percent done\n",
      "58.18 percent done\n",
      "61.82 percent done\n",
      "65.45 percent done\n",
      "69.09 percent done\n"
     ]
    },
    {
     "name": "stderr",
     "output_type": "stream",
     "text": [
      "/anaconda2/lib/python2.7/site-packages/IPython/core/interactiveshell.py:2878: DtypeWarning: Columns (85) have mixed types. Specify dtype option on import or set low_memory=False.\n",
      "  exec(code_obj, self.user_global_ns, self.user_ns)\n"
     ]
    },
    {
     "name": "stdout",
     "output_type": "stream",
     "text": [
      "72.73 percent done\n",
      "76.36 percent done\n",
      "80.0 percent done\n"
     ]
    },
    {
     "name": "stderr",
     "output_type": "stream",
     "text": [
      "/anaconda2/lib/python2.7/site-packages/IPython/core/interactiveshell.py:2878: DtypeWarning: Columns (36,39,136) have mixed types. Specify dtype option on import or set low_memory=False.\n",
      "  exec(code_obj, self.user_global_ns, self.user_ns)\n"
     ]
    },
    {
     "name": "stdout",
     "output_type": "stream",
     "text": [
      "83.64 percent done\n"
     ]
    },
    {
     "name": "stderr",
     "output_type": "stream",
     "text": [
      "/anaconda2/lib/python2.7/site-packages/IPython/core/interactiveshell.py:2878: DtypeWarning: Columns (13,36) have mixed types. Specify dtype option on import or set low_memory=False.\n",
      "  exec(code_obj, self.user_global_ns, self.user_ns)\n"
     ]
    },
    {
     "name": "stdout",
     "output_type": "stream",
     "text": [
      "87.27 percent done\n"
     ]
    },
    {
     "name": "stderr",
     "output_type": "stream",
     "text": [
      "/anaconda2/lib/python2.7/site-packages/IPython/core/interactiveshell.py:2878: DtypeWarning: Columns (13) have mixed types. Specify dtype option on import or set low_memory=False.\n",
      "  exec(code_obj, self.user_global_ns, self.user_ns)\n"
     ]
    },
    {
     "name": "stdout",
     "output_type": "stream",
     "text": [
      "90.91 percent done\n",
      "94.55 percent done\n"
     ]
    },
    {
     "name": "stderr",
     "output_type": "stream",
     "text": [
      "/anaconda2/lib/python2.7/site-packages/IPython/core/interactiveshell.py:2878: DtypeWarning: Columns (39) have mixed types. Specify dtype option on import or set low_memory=False.\n",
      "  exec(code_obj, self.user_global_ns, self.user_ns)\n"
     ]
    },
    {
     "name": "stdout",
     "output_type": "stream",
     "text": [
      "98.18 percent done\n",
      "101.82 percent done\n",
      "performing big concat then returning\n"
     ]
    }
   ],
   "source": [
    "allImpactMuts = analysis_utils. load_in_df_with_progress(filePath = pathPrefix + '/ifs/work/taylorlab/friedman/hypermutationAnalysisProj/projectDataAndConfigFiles/all_impact_mutations_annotated_cohort.maf', nLinesFile = 275000)\n"
   ]
  },
  {
   "cell_type": "code",
   "execution_count": 5,
   "metadata": {},
   "outputs": [],
   "source": [
    "allImpactMuts['isFrameShiftIndel'] = allImpactMuts['Consequence'].apply(lambda x: True if x == 'frameshift_variant' else False)\n"
   ]
  },
  {
   "cell_type": "markdown",
   "metadata": {},
   "source": [
    "**LOAD in data about hypothetical mutatability**"
   ]
  },
  {
   "cell_type": "code",
   "execution_count": 131,
   "metadata": {},
   "outputs": [],
   "source": [
    "simOncogenicitySummary = pd.read_table(pathPrefix + '/ifs/work/taylorlab/friedman/hypermutationAnalysisProj/projectDataAndConfigFiles/simulatedMutationSummary.tsv')\n",
    "oncogenicSusceptibilityDict = mutation_modeling_util.calculate_quadnuc_based_oncogenic_susceptibility_dict(simOncogenicitySummary)\n"
   ]
  },
  {
   "cell_type": "code",
   "execution_count": 8,
   "metadata": {},
   "outputs": [],
   "source": [
    "oncogenicFracDf = calculate_oncogenic_mut_susceptibility_of_genes_by_signature(oncogenicSusceptibilityDict)\n",
    "mmrIndelOncogenicity = mutation_modeling_util.calculate_pan_impact_likelihood_of_oncogenic_mmr_indel(repeatRegionInfo = pathPrefix + '/ifs/work/taylorlab/friedman/hypermutationAnalysisProj/projectDataAndConfigFiles/IMPACT_repeat_stats.txt')\n",
    "mmr6OncSusceptibility = float(oncogenicFracDf[oncogenicFracDf['Signature_Name'] == 'Signature.6']['ExpectedFracOfMutsOncogenic'].iloc[0])\n"
   ]
  },
  {
   "cell_type": "markdown",
   "metadata": {},
   "source": [
    "**TEMP WORK AREA**"
   ]
  },
  {
   "cell_type": "code",
   "execution_count": 11,
   "metadata": {},
   "outputs": [],
   "source": [
    "repeatRegionInfo = pd.read_table(pathPrefix + '/ifs/work/taylorlab/friedman/hypermutationAnalysisProj/projectDataAndConfigFiles/IMPACT_repeat_stats.txt')"
   ]
  },
  {
   "cell_type": "code",
   "execution_count": 153,
   "metadata": {},
   "outputs": [
    {
     "data": {
      "text/plain": [
       "<module 'maf_analysis_utils' from '/Users/friedman/Desktop/mnt/ifs/work/taylorlab/friedman/myUtils/maf_analysis_utils.py'>"
      ]
     },
     "execution_count": 153,
     "metadata": {},
     "output_type": "execute_result"
    }
   ],
   "source": [
    "reload(maf_analysis_utils)"
   ]
  },
  {
   "cell_type": "code",
   "execution_count": 155,
   "metadata": {},
   "outputs": [],
   "source": [
    "#LOAD in cancer type info and add it to the maf_analysis_utils\n",
    "cDict = analysis_utils.get_cancer_type_information(cancerTypeDfPath = pathPrefix +'/ifs/work/taylorlab/friedman/mskImpactAsOfMarch2019/dmp/mskimpact/data_clinical_sample.txt')"
   ]
  },
  {
   "cell_type": "code",
   "execution_count": 160,
   "metadata": {},
   "outputs": [],
   "source": [
    "allImpactMuts['pid'] = allImpactMuts['Tumor_Sample_Barcode'].apply(lambda x: x[:9])\n",
    "allImpactMuts['cancer_type'] = allImpactMuts['pid'].apply(lambda x: cDict[x] if x in cDict else None)"
   ]
  },
  {
   "cell_type": "code",
   "execution_count": 226,
   "metadata": {},
   "outputs": [
    {
     "name": "stdout",
     "output_type": "stream",
     "text": [
      "making dict\n",
      "Colon Adenocarcinoma\n",
      "Prostate Cancer\n",
      "Melanoma\n",
      "Colorectal Cancer\n",
      "Head and Neck Cancer\n",
      "Ovarian Cancer\n",
      "Hepatobiliary Cancer\n",
      "Small Cell Lung Cancer\n",
      "Soft Tissue Sarcoma\n",
      "Pancreatic Cancer\n",
      "Germ Cell Tumor\n",
      "Renal Cell Carcinoma\n",
      "Lung Adenocarcinoma\n",
      "Breast Cancer\n",
      "Breast Invasive Ductal Carcinoma\n",
      "Thyroid Cancer\n",
      "Prostate Adenocarcinoma\n",
      "Endometrial Cancer\n",
      "Bone Cancer\n",
      "Glioma\n",
      "Bladder Cancer\n",
      "Pancreatic Adenocarcinoma\n",
      "Non-Small Cell Lung Cancer\n",
      "Gastrointestinal Stromal Tumor\n",
      "Esophagogastric Cancer\n",
      "Colon Adenocarcinoma\n",
      "Prostate Cancer\n",
      "Melanoma\n",
      "Colorectal Cancer\n",
      "Head and Neck Cancer\n",
      "Ovarian Cancer\n",
      "Hepatobiliary Cancer\n",
      "Small Cell Lung Cancer\n",
      "Soft Tissue Sarcoma\n",
      "Pancreatic Cancer\n",
      "Germ Cell Tumor\n",
      "Renal Cell Carcinoma\n",
      "Lung Adenocarcinoma\n",
      "Breast Cancer\n",
      "Breast Invasive Ductal Carcinoma\n",
      "Thyroid Cancer\n",
      "Prostate Adenocarcinoma\n",
      "Endometrial Cancer\n",
      "Bone Cancer\n",
      "Glioma\n",
      "Bladder Cancer\n",
      "Pancreatic Adenocarcinoma\n",
      "Non-Small Cell Lung Cancer\n",
      "Gastrointestinal Stromal Tumor\n",
      "Esophagogastric Cancer\n"
     ]
    }
   ],
   "source": [
    "reload(maf_analysis_utils)\n",
    "df = maf_analysis_utils.summarize_oncogenic_mutation_info(allImpactMuts, pathPrefix='/Users/friedman/Desktop/mnt/')"
   ]
  },
  {
   "cell_type": "code",
   "execution_count": 228,
   "metadata": {},
   "outputs": [],
   "source": [
    "result.to_csv('/Users/friedman/Desktop/WORK/dataForLocalPlotting/temp.tsv', index=False, sep='\\t')"
   ]
  },
  {
   "cell_type": "code",
   "execution_count": 184,
   "metadata": {},
   "outputs": [],
   "source": [
    "observedVsExpectedDf = pd.read_table('~/Desktop/mnt/ifs/work/taylorlab/friedman/myAdjustedDataFiles/observedVsExpectedData.tsv')"
   ]
  },
  {
   "cell_type": "code",
   "execution_count": 227,
   "metadata": {
    "scrolled": true
   },
   "outputs": [],
   "source": [
    "result = pd.merge(df, observedVsExpectedDf, on='Tumor_Sample_Barcode')"
   ]
  },
  {
   "cell_type": "code",
   "execution_count": 231,
   "metadata": {},
   "outputs": [
    {
     "name": "stdout",
     "output_type": "stream",
     "text": [
      "30724\n"
     ]
    }
   ],
   "source": [
    "print len(set(allImpactMuts[allImpactMuts['oncogenic'].notnull()]['HGVSp_Short']))"
   ]
  },
  {
   "cell_type": "markdown",
   "metadata": {},
   "source": [
    "**THIS IS A TEMPORARY BORDER**"
   ]
  },
  {
   "cell_type": "code",
   "execution_count": null,
   "metadata": {
    "scrolled": false
   },
   "outputs": [],
   "source": [
    "#DONT USE THIS FILE ACTUALLY\n",
    "filepath = pathPrefix + '/ifs/work/taylorlab/friedman/myAdjustedDataFiles/simulatedMafs/allmut_impact_simulated_muts_mafAnno_trinuc_v2.maf'\n",
    "#get a realistic time estimate for read table\n",
    "\n",
    "nPossibleImpactMuts = 5008844\n",
    "allPossibleMutMaf = analysis_utils.load_in_df_with_progress(filepath, nPossibleImpactMuts)\n",
    "\n"
   ]
  },
  {
   "cell_type": "code",
   "execution_count": 15,
   "metadata": {},
   "outputs": [],
   "source": [
    "simDfSummary = pd.read_table(pathPrefix + '/ifs/work/taylorlab/friedman/hypermutationAnalysisProj/projectDataAndConfigFiles/simulatedMutationSummary.tsv')"
   ]
  },
  {
   "cell_type": "code",
   "execution_count": 22,
   "metadata": {},
   "outputs": [
    {
     "name": "stdout",
     "output_type": "stream",
     "text": [
      "3430366\n"
     ]
    }
   ],
   "source": [
    "allPossibleQuadNucs = [firstNuc + change + lastNuc for firstNuc in ['A', 'T', 'C', 'G'] for change in ['CA', 'CG', 'CT', 'TA', 'TC', 'TG'] for lastNuc in ['A', 'T', 'C', 'G']]\n",
    "s = 0\n",
    "for q in allPossibleQuadNucs:\n",
    "    s += sum(simDfSummary[q]) - sum(simDfSummary[q + '_silent'])\n",
    "print s"
   ]
  },
  {
   "cell_type": "code",
   "execution_count": 26,
   "metadata": {},
   "outputs": [],
   "source": [
    "oncogenicSusceptibilityDict = mutation_modeling_util.calculate_quadnuc_based_oncogenic_susceptibility_dict(simDfSummary)"
   ]
  },
  {
   "cell_type": "code",
   "execution_count": 30,
   "metadata": {},
   "outputs": [
    {
     "name": "stdout",
     "output_type": "stream",
     "text": [
      "{'IMPACT_410': 0.03146340591369016, 'IMPACT_368': 0.033739756146312215, 'IMPACT_468': 0.029787511406596273}\n",
      "{'IMPACT_410': 0.05564304461942257, 'IMPACT_368': 0.05762267121490423, 'IMPACT_468': 0.0538769406693935}\n",
      "{'IMPACT_410': 0.048700109849871845, 'IMPACT_368': 0.05009694164738258, 'IMPACT_468': 0.047226812642016114}\n",
      "{'IMPACT_410': 0.023026315789473683, 'IMPACT_368': 0.02422247697940165, 'IMPACT_468': 0.02186633815829997}\n",
      "{'IMPACT_410': 0.1735338531233628, 'IMPACT_368': 0.17342219804134928, 'IMPACT_468': 0.17146429484811457}\n",
      "{'IMPACT_410': 0.08825452168228372, 'IMPACT_368': 0.08839543076758834, 'IMPACT_468': 0.08616504854368932}\n",
      "{'IMPACT_410': 0.1606259922885008, 'IMPACT_368': 0.16030348718447546, 'IMPACT_468': 0.15862214708368555}\n",
      "{'IMPACT_410': 0.059239524359903616, 'IMPACT_368': 0.05973151520284577, 'IMPACT_468': 0.057668002744375835}\n",
      "{'IMPACT_410': 0.04053857350800582, 'IMPACT_368': 0.04531049250535332, 'IMPACT_468': 0.03911394931151467}\n",
      "{'IMPACT_410': 0.026258553922868813, 'IMPACT_368': 0.028180015622183502, 'IMPACT_468': 0.02528466583766123}\n",
      "{'IMPACT_410': 0.09897905678418309, 'IMPACT_368': 0.09853364396327258, 'IMPACT_468': 0.09683447533835438}\n",
      "{'IMPACT_410': 0.033130328867235076, 'IMPACT_368': 0.03412625399745915, 'IMPACT_468': 0.03237477857762032}\n",
      "{'IMPACT_410': 0.026452236576149046, 'IMPACT_368': 0.027938715076606155, 'IMPACT_468': 0.02548576349642069}\n",
      "{'IMPACT_410': 0.041180831704522476, 'IMPACT_368': 0.042741692601144465, 'IMPACT_468': 0.04084933862975552}\n",
      "{'IMPACT_410': 0.0418481201845028, 'IMPACT_368': 0.042888303447494405, 'IMPACT_468': 0.04074257776518104}\n",
      "{'IMPACT_410': 0.019615452460751456, 'IMPACT_368': 0.02080081173899469, 'IMPACT_468': 0.0190089358245329}\n",
      "{'IMPACT_410': 0.04914508296236342, 'IMPACT_368': 0.05079463132475993, 'IMPACT_468': 0.047688768040158966}\n",
      "{'IMPACT_410': 0.034227055145126035, 'IMPACT_368': 0.03647814429132631, 'IMPACT_468': 0.032941355751403244}\n",
      "{'IMPACT_410': 0.025154369291181745, 'IMPACT_368': 0.02606715292524544, 'IMPACT_468': 0.02386122812066665}\n",
      "{'IMPACT_410': 0.042598087701945266, 'IMPACT_368': 0.045550687415017374, 'IMPACT_468': 0.04077928363988383}\n",
      "{'IMPACT_410': 0.02274247491638796, 'IMPACT_368': 0.023786680782082244, 'IMPACT_468': 0.022378874342620567}\n",
      "{'IMPACT_410': 0.02214196655058257, 'IMPACT_368': 0.02353051467141652, 'IMPACT_468': 0.021649156319643426}\n",
      "{'IMPACT_410': 0.05708245243128964, 'IMPACT_368': 0.06044453384290455, 'IMPACT_468': 0.05378502047041824}\n",
      "{'IMPACT_410': 0.03382650068435117, 'IMPACT_368': 0.03479801559177888, 'IMPACT_468': 0.03306035790112223}\n",
      "{'IMPACT_410': 0.04793407174989604, 'IMPACT_368': 0.04905216258248918, 'IMPACT_468': 0.04946533287340462}\n",
      "{'IMPACT_410': 0.029076817630621605, 'IMPACT_368': 0.030875643855776305, 'IMPACT_468': 0.027857435477263416}\n",
      "{'IMPACT_410': 0.07448528290376696, 'IMPACT_368': 0.07549434792757344, 'IMPACT_468': 0.07262789067974772}\n",
      "{'IMPACT_410': 0.05109106168694923, 'IMPACT_368': 0.05465971069480673, 'IMPACT_468': 0.04853717026378897}\n",
      "{'IMPACT_410': 0.04051155284071176, 'IMPACT_368': 0.042365723938003606, 'IMPACT_468': 0.040118425244064684}\n",
      "{'IMPACT_410': 0.030123800411701603, 'IMPACT_368': 0.03114075879542029, 'IMPACT_468': 0.029321233349254364}\n",
      "{'IMPACT_410': 0.055296, 'IMPACT_368': 0.056547412295936086, 'IMPACT_468': 0.0541151284490961}\n",
      "{'IMPACT_410': 0.036904819335230835, 'IMPACT_368': 0.03883907253143736, 'IMPACT_468': 0.03529830176936072}\n",
      "{'IMPACT_410': 0.015913109371053297, 'IMPACT_368': 0.01707642000726656, 'IMPACT_468': 0.0147992238629263}\n",
      "{'IMPACT_410': 0.02240441825376491, 'IMPACT_368': 0.023370544891053415, 'IMPACT_468': 0.021482641607935265}\n",
      "{'IMPACT_410': 0.03589444599356131, 'IMPACT_368': 0.03682380753719928, 'IMPACT_468': 0.03443298489046167}\n",
      "{'IMPACT_410': 0.048497065275389814, 'IMPACT_368': 0.04897052484997182, 'IMPACT_468': 0.04908835904628331}\n",
      "{'IMPACT_410': 0.04742777691951182, 'IMPACT_368': 0.049754730203223546, 'IMPACT_468': 0.04532976701625959}\n",
      "{'IMPACT_410': 0.014161330758545922, 'IMPACT_368': 0.015156040017918471, 'IMPACT_468': 0.013177933177933178}\n",
      "{'IMPACT_410': 0.01665235232369501, 'IMPACT_368': 0.017627258010638025, 'IMPACT_468': 0.015644708017083047}\n",
      "{'IMPACT_410': 0.016410497348815358, 'IMPACT_368': 0.01730705225398469, 'IMPACT_468': 0.015750722296436672}\n",
      "{'IMPACT_410': 0.03029455429567313, 'IMPACT_368': 0.03207578927120152, 'IMPACT_468': 0.029971728514659655}\n",
      "{'IMPACT_410': 0.018140479876160992, 'IMPACT_368': 0.01898701433079828, 'IMPACT_468': 0.01742081447963801}\n",
      "{'IMPACT_410': 0.01781334710210404, 'IMPACT_368': 0.018969881402690483, 'IMPACT_468': 0.01656104973026455}\n",
      "{'IMPACT_410': 0.015800130161255335, 'IMPACT_368': 0.01653790908032144, 'IMPACT_468': 0.015030798071772898}\n",
      "{'IMPACT_410': 0.02855414398064126, 'IMPACT_368': 0.031603181247383844, 'IMPACT_468': 0.026713765316260074}\n",
      "{'IMPACT_410': 0.019451198332754428, 'IMPACT_368': 0.02091413568828689, 'IMPACT_468': 0.018333578107406864}\n",
      "{'IMPACT_410': 0.017166443430008473, 'IMPACT_368': 0.01885805697409709, 'IMPACT_468': 0.01615938574260407}\n",
      "{'IMPACT_410': 0.019133511049104362, 'IMPACT_368': 0.02044255366170336, 'IMPACT_468': 0.01812730310590282}\n",
      "{'IMPACT_410': 0.02471661412569589, 'IMPACT_368': 0.02514613433329657, 'IMPACT_468': 0.02422893874775944}\n",
      "{'IMPACT_410': 0.018352601156069365, 'IMPACT_368': 0.01964847953449444, 'IMPACT_468': 0.01754908777855038}\n",
      "{'IMPACT_410': 0.01761471461242762, 'IMPACT_368': 0.018434382996501124, 'IMPACT_468': 0.017016063163626464}\n",
      "{'IMPACT_410': 0.03192666799103215, 'IMPACT_368': 0.03423256408617273, 'IMPACT_468': 0.031190507236927893}\n",
      "{'IMPACT_410': 0.020114113180738406, 'IMPACT_368': 0.021315091580538827, 'IMPACT_468': 0.02009307972480777}\n",
      "{'IMPACT_410': 0.04986489805944486, 'IMPACT_368': 0.05399460763445438, 'IMPACT_468': 0.047958267893201706}\n",
      "{'IMPACT_410': 0.01826208056336548, 'IMPACT_368': 0.019714420025854978, 'IMPACT_468': 0.017221059720518555}\n",
      "{'IMPACT_410': 0.014823501817755365, 'IMPACT_368': 0.016338753316346634, 'IMPACT_468': 0.01386096256684492}\n",
      "{'IMPACT_410': 0.08295412940007323, 'IMPACT_368': 0.08332137424298958, 'IMPACT_468': 0.08129069322098813}\n",
      "{'IMPACT_410': 0.028233647040522673, 'IMPACT_368': 0.030789707187222716, 'IMPACT_468': 0.026000708466170742}\n",
      "{'IMPACT_410': 0.027596525497693362, 'IMPACT_368': 0.02924425227235744, 'IMPACT_468': 0.02714811354927268}\n",
      "{'IMPACT_410': 0.017089590885551526, 'IMPACT_368': 0.01824105783866058, 'IMPACT_468': 0.016433772879354457}\n",
      "{'IMPACT_410': 0.05005377678497559, 'IMPACT_368': 0.052666227781435156, 'IMPACT_468': 0.0479136799215272}\n",
      "{'IMPACT_410': 0.04997751461549992, 'IMPACT_368': 0.0505955376614662, 'IMPACT_468': 0.0504896211232645}\n",
      "{'IMPACT_410': 0.019761173660866597, 'IMPACT_368': 0.019421647402569502, 'IMPACT_468': 0.01969191471615493}\n",
      "{'IMPACT_410': 0.031733450755907826, 'IMPACT_368': 0.03290456701097902, 'IMPACT_468': 0.03081262592343855}\n",
      "{'IMPACT_410': 0.03204659489170722, 'IMPACT_368': 0.0337024825992617, 'IMPACT_468': 0.030645421633961306}\n",
      "{'IMPACT_410': 0.1245172984474742, 'IMPACT_368': 0.12566588070910836, 'IMPACT_468': 0.12375866818082973}\n",
      "{'IMPACT_410': 0.021143351325559896, 'IMPACT_368': 0.022348023565809828, 'IMPACT_468': 0.020243802218874125}\n",
      "{'IMPACT_410': 0.04103957125027531, 'IMPACT_368': 0.0450349409024243, 'IMPACT_468': 0.03934360078014661}\n",
      "{'IMPACT_410': 0.033198314083967374, 'IMPACT_368': 0.034864618192881044, 'IMPACT_468': 0.0317082341145507}\n",
      "{'IMPACT_410': 0.033060831930752585, 'IMPACT_368': 0.03570164211214292, 'IMPACT_468': 0.031622819591152665}\n",
      "{'IMPACT_410': 0.02301235499386966, 'IMPACT_368': 0.02446800031880131, 'IMPACT_468': 0.0220949263502455}\n",
      "{'IMPACT_410': 0.016169575095470585, 'IMPACT_368': 0.01730372592612434, 'IMPACT_468': 0.015141816576536807}\n",
      "{'IMPACT_410': 0.09306904112040808, 'IMPACT_368': 0.09373690567153878, 'IMPACT_468': 0.09193525341389235}\n",
      "{'IMPACT_410': 0.029613177864149548, 'IMPACT_368': 0.03122438524590164, 'IMPACT_468': 0.02819457634272449}\n",
      "{'IMPACT_410': 0.19019349780179776, 'IMPACT_368': 0.1917883883638149, 'IMPACT_468': 0.18746310034140207}\n",
      "{'IMPACT_410': 0.10247689463955638, 'IMPACT_368': 0.10219783250144776, 'IMPACT_468': 0.10217943815928567}\n",
      "{'IMPACT_410': 0.03700921816319563, 'IMPACT_368': 0.03777218189897793, 'IMPACT_468': 0.03627008829320968}\n",
      "{'IMPACT_410': 0.20230308613542147, 'IMPACT_368': 0.20191902150991142, 'IMPACT_468': 0.19929482874412358}\n",
      "{'IMPACT_410': 0.02549476868775999, 'IMPACT_368': 0.026479641807751503, 'IMPACT_468': 0.024725672428269493}\n",
      "{'IMPACT_410': 0.04022270787803101, 'IMPACT_368': 0.042252715837621496, 'IMPACT_468': 0.03856881792824853}\n",
      "{'IMPACT_410': 0.0175725696473797, 'IMPACT_368': 0.018848167539267015, 'IMPACT_468': 0.0164856685063201}\n",
      "{'IMPACT_410': 0.018133264418314168, 'IMPACT_368': 0.019100169779286927, 'IMPACT_468': 0.01715715477183367}\n",
      "{'IMPACT_410': 0.013534861043393466, 'IMPACT_368': 0.01452207819580567, 'IMPACT_468': 0.0125570366112169}\n",
      "{'IMPACT_410': 0.0857823669579031, 'IMPACT_368': 0.08566557749680352, 'IMPACT_468': 0.08454810495626822}\n",
      "{'IMPACT_410': 0.016240579986645045, 'IMPACT_368': 0.0174496644295302, 'IMPACT_468': 0.015046572725101504}\n",
      "{'IMPACT_410': 0.015272382195071321, 'IMPACT_368': 0.016303814044851858, 'IMPACT_468': 0.014319223216233908}\n",
      "{'IMPACT_410': 0.02688425620224507, 'IMPACT_368': 0.028515788009458896, 'IMPACT_468': 0.025837788124389263}\n",
      "{'IMPACT_410': 0.032103321033210334, 'IMPACT_368': 0.03299716914366596, 'IMPACT_468': 0.03144271031594975}\n",
      "{'IMPACT_410': 0.040673905684451735, 'IMPACT_368': 0.04158909288803597, 'IMPACT_468': 0.039657148314392134}\n",
      "{'IMPACT_410': 0.07657012691181256, 'IMPACT_368': 0.07656028368794326, 'IMPACT_468': 0.07452146999609363}\n",
      "{'IMPACT_410': 0.013631821858495504, 'IMPACT_368': 0.015128267248108966, 'IMPACT_468': 0.012763450713444167}\n",
      "{'IMPACT_410': 0.015125732652675365, 'IMPACT_368': 0.016499670006599867, 'IMPACT_468': 0.014172994632565732}\n",
      "{'IMPACT_410': 0.02059900601621763, 'IMPACT_368': 0.02354836235330214, 'IMPACT_468': 0.019447592912963073}\n",
      "{'IMPACT_410': 0.023849204068731682, 'IMPACT_368': 0.02464110372257784, 'IMPACT_468': 0.022644999339410755}\n",
      "{'IMPACT_410': 0.013881112355356476, 'IMPACT_368': 0.015102169459473657, 'IMPACT_468': 0.013060615745179504}\n",
      "{'IMPACT_410': 0.04864729144435378, 'IMPACT_368': 0.05016214724349686, 'IMPACT_468': 0.04862512249956765}\n"
     ]
    }
   ],
   "source": [
    "listOfDicts = []\n",
    "for key, value in oncogenicSusceptibilityDict.items():\n",
    "    print value\n"
   ]
  },
  {
   "cell_type": "code",
   "execution_count": null,
   "metadata": {},
   "outputs": [],
   "source": []
  }
 ],
 "metadata": {
  "kernelspec": {
   "display_name": "Python 2",
   "language": "python",
   "name": "python2"
  },
  "language_info": {
   "codemirror_mode": {
    "name": "ipython",
    "version": 2
   },
   "file_extension": ".py",
   "mimetype": "text/x-python",
   "name": "python",
   "nbconvert_exporter": "python",
   "pygments_lexer": "ipython2",
   "version": "2.7.15"
  }
 },
 "nbformat": 4,
 "nbformat_minor": 2
}
