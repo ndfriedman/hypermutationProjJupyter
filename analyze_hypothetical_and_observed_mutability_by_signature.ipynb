{
 "cells": [
  {
   "cell_type": "code",
   "execution_count": 1,
   "metadata": {},
   "outputs": [],
   "source": [
    "#written by Noah Friedman (a template for scripts to be excuted in the spyder environment\n",
    "import sys\n",
    "import argparse\n",
    "import os\n",
    "import pandas as pd\n",
    "import numpy as np\n",
    "import re\n",
    "\n",
    "from collections import Counter\n",
    "\n",
    "pathPrefix = '/Users/friedman/Desktop/mnt'\n",
    "\n",
    "sys.path.append(pathPrefix + '/ifs/work/taylorlab/friedman/myUtils')\n",
    "import analysis_utils \n",
    "import mutationSigUtils \n",
    "import maf_analysis_utils\n",
    "import mutation_modeling_util"
   ]
  },
  {
   "cell_type": "markdown",
   "metadata": {},
   "source": [
    "**FUNCTIONS**"
   ]
  },
  {
   "cell_type": "code",
   "execution_count": 2,
   "metadata": {},
   "outputs": [],
   "source": [
    "#CALCULATES THE DIFFERENTIAL EXPECTED oncogenic mut burden as if each signature were dominant alone\n",
    "def calculate_oncogenic_mut_susceptibility_of_genes_by_signature(oncogenicSDict, suffix='_hotspot_rate'):\n",
    "    listOfDicts = []\n",
    "    sigNames = ['Signature.' + str(i) for i in range(1,31)]\n",
    "    for i in range(1,31):\n",
    "        curSig = 'Signature.' + str(i)\n",
    "        d = {}\n",
    "        for s in sigNames:\n",
    "            d[s] = 0\n",
    "        d[curSig] = 1\n",
    "        #PRETEND we got a case with 100% signature i on the decomposition\n",
    "        quadNucFractions = mutation_modeling_util.get_quadnuc_fracs_given_decomposition(d, spectraPath = pathPrefix + '/ifs/work/taylorlab/friedman/noahFirstProject/signature_sig_copy/mutation-signatures/Stratton_signatures30.txt')\n",
    "        #v = mutation_modeling_util.get_expected_oncogenic_val_given_quadnuc_fractions(quadNucFractions, oncogenicSDict, 'IMPACT_468')\n",
    "        #ALERT NOAH I CHANGED THIS HERE\n",
    "        v = mutation_modeling_util.get_expected_oncogenic_val_given_quadnuc_fractions_v2(quadNucFractions, oncogenicSDict, suffix)\n",
    "\n",
    "        listOfDicts.append({'Signature_Name': curSig, 'ExpectedFracOfMutsOncogenic': v})\n",
    "    return pd.DataFrame(listOfDicts)"
   ]
  },
  {
   "cell_type": "code",
   "execution_count": 3,
   "metadata": {},
   "outputs": [],
   "source": [
    "def expand_data_for_plot(infoDict, n=1250):\n",
    "    listOfDicts = []\n",
    "    for i in range(1,n):\n",
    "        if i%50==0:print i\n",
    "        nmut_mbIM6 = (i*1000000.0)/1139322\n",
    "        for key, value in infoDict.items():\n",
    "            listOfDicts.append({'Signature': key, 'Nmut_Expected': i*value, 'Nmut_Mb': nmut_mbIM6})\n",
    "    return pd.DataFrame(listOfDicts)"
   ]
  },
  {
   "cell_type": "code",
   "execution_count": 4,
   "metadata": {},
   "outputs": [],
   "source": [
    "def get_indel_frac_by_dominant_signature(sigs, maf):\n",
    "    d = {}\n",
    "    sigNames = ['mean_' + str(i) for i in range(1,31)]\n",
    "    for sig in sigNames:\n",
    "        sigIds = set(sigs[sigs['dominantSig'] == sig]['Tumor_Sample_Barcode'])\n",
    "        sigMuts = maf[maf['Tumor_Sample_Barcode'].isin(sigIds)]\n",
    "        sigName = re.sub('mean_', 'Signature.', sig )\n",
    "        d[sigName] = 1.0*sigMuts[(sigMuts['Variant_Type'] == 'INS') | (sigMuts['Variant_Type'] == 'DEL')].shape[0]/sigMuts.shape[0]\n",
    "    return d"
   ]
  },
  {
   "cell_type": "code",
   "execution_count": 5,
   "metadata": {},
   "outputs": [],
   "source": [
    "def calculate_oncogenicity_including_indel(row, indelFracDict):\n",
    "    mmrSigs = set(['Signature.6', 'Signature.15', 'Signature.16', 'Signature.20', 'Signature.21', 'Signature.26'])\n",
    "    indelOncogenicity = .3497\n",
    "    if row['Signature_Name'] in mmrSigs:\n",
    "        indelOncogenicity = .4856\n",
    "    indelFrac = 0.156\n",
    "    if row['Signature_Name'] in indelFracDict: indelFrac = indelFracDict[row['Signature_Name']]\n",
    "    return (1 - indelFrac)*row['ExpectedFracOfMutsOncogenic'] + indelFrac*indelOncogenicity"
   ]
  },
  {
   "cell_type": "code",
   "execution_count": 6,
   "metadata": {},
   "outputs": [
    {
     "data": {
      "text/plain": [
       "<module 'maf_analysis_utils' from '/Users/friedman/Desktop/mnt/ifs/work/taylorlab/friedman/myUtils/maf_analysis_utils.pyc'>"
      ]
     },
     "execution_count": 6,
     "metadata": {},
     "output_type": "execute_result"
    }
   ],
   "source": [
    "#reload(mutation_modeling_util)\n",
    "reload(maf_analysis_utils)"
   ]
  },
  {
   "cell_type": "markdown",
   "metadata": {},
   "source": [
    "**WORK AREA**"
   ]
  },
  {
   "cell_type": "code",
   "execution_count": null,
   "metadata": {
    "scrolled": false
   },
   "outputs": [],
   "source": [
    "allImpactMuts = analysis_utils.load_in_df_with_progress(filePath = pathPrefix + '/ifs/work/taylorlab/friedman/hypermutationAnalysisProj/projectDataAndConfigFiles/all_impact_mutations_annotated_cohort.maf', nLinesFile = 275000)\n"
   ]
  },
  {
   "cell_type": "code",
   "execution_count": 7,
   "metadata": {},
   "outputs": [
    {
     "name": "stdout",
     "output_type": "stream",
     "text": [
      "[('missense_variant', 187649), ('frameshift_variant', 33225), ('stop_gained', 25288), ('missense_variant,splice_region_variant', 5912), ('inframe_deletion', 4517), ('splice_acceptor_variant', 4273), ('upstream_gene_variant', 3890), ('splice_donor_variant', 3486), ('inframe_insertion', 987), ('stop_gained,splice_region_variant', 860)]\n",
      "____________\n",
      "[('missense_variant', 6854), ('synonymous_variant', 1936), ('stop_gained', 471), ('missense_variant,splice_region_variant', 257), ('5_prime_UTR_variant', 150), ('splice_region_variant,intron_variant', 105), ('splice_region_variant,synonymous_variant', 68), ('intron_variant', 27), ('splice_acceptor_variant', 18), ('splice_donor_variant', 18)]\n"
     ]
    }
   ],
   "source": [
    "print Counter(allImpactMuts['Consequence']).most_common(10)\n",
    "print '____________'\n",
    "print Counter(pik3caMuts['Consequence']).most_common(10)"
   ]
  },
  {
   "cell_type": "code",
   "execution_count": 4,
   "metadata": {},
   "outputs": [
    {
     "name": "stderr",
     "output_type": "stream",
     "text": [
      "/anaconda2/lib/python2.7/site-packages/IPython/core/interactiveshell.py:2714: DtypeWarning: Columns (74,133) have mixed types. Specify dtype option on import or set low_memory=False.\n",
      "  interactivity=interactivity, compiler=compiler, result=result)\n"
     ]
    }
   ],
   "source": [
    "pik3caMuts = pd.read_table(pathPrefix + '/ifs/work/taylorlab/friedman/myAdjustedDataFiles/simulatedMafs/geneMutMafs/PIK3CA_all_possible_snps_v2.maf')"
   ]
  },
  {
   "cell_type": "code",
   "execution_count": 18,
   "metadata": {},
   "outputs": [
    {
     "name": "stdout",
     "output_type": "stream",
     "text": [
      "3569\n"
     ]
    },
    {
     "name": "stderr",
     "output_type": "stream",
     "text": [
      "/anaconda2/lib/python2.7/site-packages/ipykernel_launcher.py:4: SettingWithCopyWarning: \n",
      "A value is trying to be set on a copy of a slice from a DataFrame.\n",
      "Try using .loc[row_indexer,col_indexer] = value instead\n",
      "\n",
      "See the caveats in the documentation: http://pandas.pydata.org/pandas-docs/stable/indexing.html#indexing-view-versus-copy\n",
      "  after removing the cwd from sys.path.\n"
     ]
    }
   ],
   "source": [
    "#allImpactMuts['posChange'] = allImpactMuts.apply(lambda row: str(row['Start_Position']) + str(allImpactMuts['Tumor_Seq_Allele2']), axis=1)\n",
    "\n",
    "hotspots = allImpactMuts[allImpactMuts['is-a-hotspot'] == 'Y']\n",
    "hotspots['posChange'] = hotspots.apply(lambda row: str(row['Start_Position']) + '_' + str(row['Tumor_Seq_Allele2']), axis=1)\n",
    "\n",
    "print len(set(hotspots['posChange']))\n",
    "#print len(set(allImpactMuts['Start_Position']))\n",
    "\n",
    "\n"
   ]
  },
  {
   "cell_type": "code",
   "execution_count": 8,
   "metadata": {},
   "outputs": [],
   "source": [
    "allImpactMuts['isFrameShiftIndel'] = allImpactMuts['Consequence'].apply(lambda x: True if x == 'frameshift_variant' else False)\n"
   ]
  },
  {
   "cell_type": "markdown",
   "metadata": {},
   "source": [
    "**LOAD in data about hypothetical mutatability**"
   ]
  },
  {
   "cell_type": "code",
   "execution_count": 11,
   "metadata": {},
   "outputs": [],
   "source": [
    "simOncogenicitySummary = pd.read_table(pathPrefix + '/ifs/work/taylorlab/friedman/hypermutationAnalysisProj/projectDataAndConfigFiles/simulatedMutationSummary.tsv')\n",
    "oncogenicSusceptibilityDict = mutation_modeling_util.calculate_quadnuc_based_oncogenic_susceptibility_dict(simOncogenicitySummary)\n"
   ]
  },
  {
   "cell_type": "markdown",
   "metadata": {},
   "source": [
    "**THIS IS A TEMPORARY BORDER**\n",
    "Now it hosts noahs work on 9.11.2019"
   ]
  },
  {
   "cell_type": "code",
   "execution_count": 13,
   "metadata": {},
   "outputs": [],
   "source": [
    "def quantify_quadnuc_hotspot_susceptibility_per_mutation(simMafData, relatedGenes=None):\n",
    "    allBases = ['A', 'C', 'G', 'T']\n",
    "    changes = ['CA', 'CG', 'CT', 'TA', 'TC', 'TG'] #format: 'CA' means a change from C>A\n",
    "    allQuadNucs = [firstBase + change + lastBase for firstBase in allBases for change in changes for lastBase in allBases] #enumerate all 96 quadnucs for signatures\n",
    "    \n",
    "    #simulatedMutsRelated = simMafData[simMafData['Hugo_Symbol'].isin(relatedGenes)]\n",
    "    #simulatedMutsUnrelated = simMafData[~simMafData['Hugo_Symbol'].isin(relatedGenes)]\n",
    "    \n",
    "    d = {}\n",
    "    \n",
    "    for quadNuc in allQuadNucs:\n",
    "        nPossibleMuts = sum(simMafData[quadNuc]) - sum(simMafData[quadNuc + '_silent'])\n",
    "        nPossibleHotspotMuts = sum(simMafData[quadNuc + '_hotspot'])\n",
    "        #nPossibleMutsRelated = sum(simulatedMutsRelated[quadNuc]) - sum(simulatedMutsRelated[quadNuc + '_silent'])\n",
    "        #nPossibleMutsUnrelated = sum(simulatedMutsUnrelated[quadNuc]) - sum(simulatedMutsUnrelated[quadNuc + '_silent'])\n",
    "        #nPossibleHotspotMutRelated = sum(simulatedMutsRelated[quadNuc + '_hotspot'])\n",
    "        #nPossibleHotspotMutUnrelated = sum(simulatedMutsUnrelated[quadNuc + '_hotspot'])\n",
    "        #d[quadNuc + '_related_hotspot_rate'] = (1.0*nPossibleHotspotMutRelated)/(1.0*nPossibleMutsRelated)\n",
    "        #d[quadNuc + '_unrelated_hotspot_rate'] = (1.0*nPossibleHotspotMutUnrelated)/(1.0*nPossibleMutsUnrelated)\n",
    "        d[quadNuc + '_hotspot_rate'] = (1.0*nPossibleHotspotMuts)/(1.0*nPossibleMuts)\n",
    "        \n",
    "    return d\n",
    "\n",
    "def quantify_truncating_susceptibility_per_mutation(simMafData, relatedGenes=None):\n",
    "    allBases = ['A', 'C', 'G', 'T']\n",
    "    changes = ['CA', 'CG', 'CT', 'TA', 'TC', 'TG'] #format: 'CA' means a change from C>A\n",
    "    allQuadNucs = [firstBase + change + lastBase for firstBase in allBases for change in changes for lastBase in allBases] #enumerate all 96 quadnucs for signatures\n",
    "\n",
    "    d = {}\n",
    "    \n",
    "    for quadNuc in allQuadNucs:\n",
    "        nPossibleMuts = sum(simMafData[quadNuc]) - sum(simMafData[quadNuc + '_silent'])\n",
    "        nPossibleHotspotMuts = sum(simMafData[quadNuc + '_nonsenseMutations'])\n",
    "     \n",
    "        d[quadNuc + '_nonsense_rate'] = (1.0*nPossibleHotspotMuts)/(1.0*nPossibleMuts)  \n",
    "    return d\n",
    "\n",
    "def calculate_quadnuc_based_oncogenic_susceptibility_dict(simMafData):\n",
    "    d = {}\n",
    "    allBases = ['A', 'C', 'G', 'T']\n",
    "    changes = ['CA', 'CG', 'CT', 'TA', 'TC', 'TG'] #format: 'CA' means a change from C>A\n",
    "    allQuadNucs = [firstBase + change + lastBase for firstBase in allBases for change in changes for lastBase in allBases] #enumerate all 96 quadnucs for signatures\n",
    "    for quadNuc in allQuadNucs:\n",
    "        nPossibleMuts = sum(simMafData[quadNuc]) - sum(simMafData[quadNuc + '_silent'])\n",
    "        nPossibleOncogenicMuts = sum(simMafData[quadNuc + '_oncogenic'])\n",
    "        d[quadNuc + '_oncogenic_rate'] = (1.0*nPossibleOncogenicMuts)/(1.0*nPossibleMuts)\n",
    "    return d"
   ]
  },
  {
   "cell_type": "code",
   "execution_count": 14,
   "metadata": {},
   "outputs": [],
   "source": [
    "simulatedDataSummary = pd.read_table('/Users/friedman/Desktop/workOffline/mutSimulationInfoIncludingHotspots.tsv')"
   ]
  },
  {
   "cell_type": "code",
   "execution_count": 24,
   "metadata": {},
   "outputs": [],
   "source": [
    "impactSigs = pd.read_table(pathPrefix + '/ifs/work/taylorlab/friedman/hypermutationAnalysisProj/projectDataAndConfigFiles/signatures_from_unfiltered_maf.txt')\n",
    "impactSigs = mutationSigUtils.merge_signature_columns(impactSigs)\n",
    "impactSigs['dominantSignature'] = impactSigs.apply(lambda row: \n",
    "        mutationSigUtils.get_dominant_signature(row.to_dict(), cols=None, prefix='mean', notEnoughMuts= True), axis=1)\n",
    "\n",
    "casesWithMSISignature = set(impactSigs[(impactSigs['dominantSignature'] == 'mean_MMR')\n",
    "                                      |((impactSigs['Nmut_Mb'] >= 30) & (impactSigs['dominantSignature'].isin(set(['mean_1']))))\n",
    "                                        ]['Tumor_Sample_Barcode'])\n",
    "\n",
    "casesWithPOLESignature = set(impactSigs[(impactSigs['dominantSignature'] == 'mean_10') & (impactSigs['Nmut_Mb'] > 30)]['Tumor_Sample_Barcode'])\n",
    "casesWithTMZSignature = set(impactSigs[(impactSigs['dominantSignature'] == 'mean_11') & (impactSigs['Nmut_Mb'] > 30)]['Tumor_Sample_Barcode'])\n",
    "\n",
    "allImpactMuts = maf_analysis_utils.fix_mll_genes(allImpactMuts)\n",
    "allImpactMuts['quadNuc'] = allImpactMuts.apply(lambda row: mutationSigUtils.create_reference_four_nuc(row['Ref_Tri'], row['Reference_Allele'], row['Tumor_Seq_Allele2'], row['Variant_Type']), axis=1)\n",
    "\n",
    "poleMaf = allImpactMuts[allImpactMuts['Tumor_Sample_Barcode'].isin(casesWithPOLESignature)]\n",
    "tmzMaf = allImpactMuts[allImpactMuts['Tumor_Sample_Barcode'].isin(casesWithTMZSignature)]\n",
    "mmrMaf = allImpactMuts[allImpactMuts['Tumor_Sample_Barcode'].isin(casesWithMSISignature)]"
   ]
  },
  {
   "cell_type": "code",
   "execution_count": 16,
   "metadata": {},
   "outputs": [],
   "source": [
    "impact341Genes = set(['ABL1', 'AKT1', 'AKT2', 'AKT3', 'ALK', 'ALOX12B', 'APC', 'AR', 'ARAF', 'ARID1A', 'ARID1B', 'ARID2', 'ARID5B', 'ASXL1', 'ASXL2', 'ATM', 'ATR', 'ATRX', 'AURKA', 'AURKB', 'AXIN1', 'AXIN2', 'AXL', 'B2M', 'BAP1', 'BARD1', 'BBC3', 'BCL2', 'BCL2L1', 'BCL2L11', 'BCL6', 'BCOR', 'BLM', 'BMPR1A', 'BRAF', 'BRCA1', 'BRCA2', 'BRD4', 'BRIP1', 'BTK', 'CARD11', 'CASP8', 'CBFB', 'CBL', 'CCND1', 'CCND2', 'CCND3', 'CCNE1', 'CD274', 'CD276', 'CD79B', 'CDC73', 'CDH1', 'CDK12', 'CDK4', 'CDK6', 'CDK8', 'CDKN1A', 'CDKN1B', 'CDKN2A', 'CDKN2B', 'CDKN2C', 'CHEK1', 'CHEK2', 'CIC', 'CREBBP', 'CRKL', 'CRLF2', 'CSF1R', 'CTCF', 'CTLA4', 'CTNNB1', 'CUL3', 'DAXX', 'DCUN1D1', 'DDR2', 'DICER1', 'DIS3', 'DNMT1', 'DNMT3A', 'DNMT3B', 'DOT1L', 'E2F3', 'EED', 'EGFL7', 'EGFR', 'EIF1AX', 'EP300', 'EPCAM', 'EPHA3', 'EPHA5', 'EPHB1', 'ERBB2', 'ERBB3', 'ERBB4', 'ERCC2', 'ERCC3', 'ERCC4', 'ERCC5', 'ERG', 'ESR1', 'ETV1', 'ETV6', 'EZH2', 'FAM123B', 'FAM175A', 'FAM46C', 'FANCA', 'FANCC', 'FAT1', 'FBXW7', 'FGF19', 'FGF3', 'FGF4', 'FGFR1', 'FGFR2', 'FGFR3', 'FGFR4', 'FH', 'FLCN', 'FLT1', 'FLT3', 'FLT4', 'FOXA1', 'FOXL2', 'FOXP1', 'FUBP1', 'GATA1', 'GATA2', 'GATA3', 'GNA11', 'GNAQ', 'GNAS', 'GREM1', 'GRIN2A', 'GSK3B', 'H3F3C', 'HGF', 'HIST1H1C', 'HIST1H2BD', 'HIST1H3B', 'HNF1A', 'HRAS', 'ICOSLG', 'IDH1', 'IDH2', 'IFNGR1', 'IGF1', 'IGF1R', 'IGF2', 'IKBKE', 'IKZF1', 'IL10', 'IL7R', 'INPP4A', 'INPP4B', 'INSR', 'IRF4', 'IRS1', 'IRS2', 'JAK1', 'JAK2', 'JAK3', 'JUN', 'KDM5A', 'KDM5C', 'KDM6A', 'KDR', 'KEAP1', 'KIT', 'KLF4', 'KRAS', 'LATS1', 'LATS2', 'LMO1', 'MAP2K1', 'MAP2K2', 'MAP2K4', 'MAP3K1', 'MAP3K13', 'MAPK1', 'MAX', 'MCL1', 'MDC1', 'MDM2', 'MDM4', 'MED12', 'MEF2B', 'MEN1', 'MET', 'MITF', 'MLH1', 'MLL', 'MLL2', 'MLL3', 'MPL', 'MRE11A', 'MSH2', 'MSH6', 'MTOR', 'MUTYH', 'MYC', 'MYCL1', 'MYCN', 'MYD88', 'MYOD1', 'NBN', 'NCOR1', 'NF1', 'NF2', 'NFE2L2', 'NKX2-1', 'NKX3-1', 'NOTCH1', 'NOTCH2', 'NOTCH3', 'NOTCH4', 'NPM1', 'NRAS', 'NSD1', 'NTRK1', 'NTRK2', 'NTRK3', 'PAK1', 'PAK7', 'PALB2', 'PARK2', 'PARP1', 'PAX5', 'PBRM1', 'PDCD1', 'PDGFRA', 'PDGFRB', 'PDPK1', 'PHOX2B', 'PIK3C2G', 'PIK3C3', 'PIK3CA', 'PIK3CB', 'PIK3CD', 'PIK3CG', 'PIK3R1', 'PIK3R2', 'PIK3R3', 'PIM1', 'PLK2', 'PMAIP1', 'PMS1', 'PMS2', 'PNRC1', 'POLE', 'PPP2R1A', 'PRDM1', 'PRKAR1A', 'PTCH1', 'PTEN', 'PTPN11', 'PTPRD', 'PTPRS', 'PTPRT', 'RAC1', 'RAD50', 'RAD51', 'RAD51B', 'RAD51C', 'RAD51D', 'RAD52', 'RAD54L', 'RAF1', 'RARA', 'RASA1', 'RB1', 'RBM10', 'RECQL4', 'REL', 'RET', 'RFWD2', 'RHOA', 'RICTOR', 'RIT1', 'RNF43', 'ROS1', 'RPS6KA4', 'RPS6KB2', 'RPTOR', 'RUNX1', 'RYBP', 'SDHA', 'SDHAF2', 'SDHB', 'SDHC', 'SDHD', 'SETD2', 'SF3B1', 'SH2D1A', 'SHQ1', 'SMAD2', 'SMAD3', 'SMAD4', 'SMARCA4', 'SMARCB1', 'SMARCD1', 'SMO', 'SOCS1', 'SOX17', 'SOX2', 'SOX9', 'SPEN', 'SPOP', 'SRC', 'STAG2', 'STK11', 'STK40', 'SUFU', 'SUZ12', 'SYK', 'TBX3', 'TERT', 'TET1', 'TET2', 'TGFBR1', 'TGFBR2', 'TMEM127', 'TMPRSS2', 'TNFAIP3', 'TNFRSF14', 'TOP1', 'TP53', 'TP63', 'TRAF7', 'TSC1', 'TSC2', 'TSHR', 'U2AF1', 'VHL', 'VTCN1', 'WT1', 'XIAP', 'XPO1', 'YAP1', 'YES1'])\n",
    "simulatedDataSummary341 = simulatedDataSummary[simulatedDataSummary['Hugo_Symbol'].isin(impact341Genes)]"
   ]
  },
  {
   "cell_type": "code",
   "execution_count": null,
   "metadata": {
    "scrolled": false
   },
   "outputs": [],
   "source": [
    "reload(mutation_modeling_util)\n",
    "quadNucHotspotSusceptibilityDict = quantify_quadnuc_hotspot_susceptibility_per_mutation(simulatedDataSummary341)\n",
    "signatureHotspotSusceptibilityDf = calculate_oncogenic_mut_susceptibility_of_genes_by_signature(quadNucHotspotSusceptibilityDict)\n"
   ]
  },
  {
   "cell_type": "code",
   "execution_count": 25,
   "metadata": {},
   "outputs": [],
   "source": [
    "poleQuadNucs = set(['TCAT', 'TCAA', 'TCTG', 'TCTT', 'TTGT'])\n",
    "tmzQuadNucs = set(['ACTC', 'ACTT', 'CCTC', 'CCTT', 'GCTC', 'GCTT', 'TCTC', 'TCTT'])\n",
    "mmrQuadNucs = set([])\n",
    "signatureHotspotSusceptibilityDict = dict(zip(signatureHotspotSusceptibilityDf['Signature_Name'], signatureHotspotSusceptibilityDf['ExpectedFracOfMutsOncogenic']))"
   ]
  },
  {
   "cell_type": "code",
   "execution_count": 26,
   "metadata": {
    "scrolled": true
   },
   "outputs": [],
   "source": [
    "def calculate_hotspot_stats(maf, quadNucs, sig):\n",
    "    maf341 = maf[maf['Hugo_Symbol'].isin(impact341Genes)]\n",
    "    listOfDicts = []\n",
    "    for case in set(maf341['Tumor_Sample_Barcode']):\n",
    "        caseMaf = maf341[maf341['Tumor_Sample_Barcode'] == case]\n",
    "        hotspotMaf = caseMaf[caseMaf['is-a-hotspot'] == 'Y']\n",
    "        hotspotQuadNucMaf = hotspotMaf[hotspotMaf['quadNuc'].isin(quadNucs)]\n",
    "\n",
    "        nMutationsIM341 = caseMaf.shape[0]\n",
    "        nTotalHotspots = hotspotMaf.shape[0]\n",
    "        nHotspotsAtQuadNuc = hotspotQuadNucMaf.shape[0]\n",
    "        \n",
    "        quadnucChangeCounter = Counter(caseMaf['quadNuc'])\n",
    "        expectedHotspots = 0\n",
    "        for qChange, count in quadnucChangeCounter.items():\n",
    "            if isinstance(qChange, basestring):\n",
    "                expectedHotspots += count*quadNucHotspotSusceptibilityDict[qChange + '_hotspot_rate']\n",
    "\n",
    "        listOfDicts.append({'Tumor_Sample_Barcode': case, 'nmutIM341': nMutationsIM341,\n",
    "        'nTotalHotspots': nTotalHotspots, 'nHotspotsInducedBySig': nHotspotsAtQuadNuc,\n",
    "        'nHotspotsExpected': nMutationsIM341*signatureHotspotSusceptibilityDict[sig],\n",
    "        'nHotspotsExpected2': expectedHotspots})\n",
    "    df = pd.DataFrame(listOfDicts) \n",
    "    return df"
   ]
  },
  {
   "cell_type": "code",
   "execution_count": 36,
   "metadata": {},
   "outputs": [],
   "source": [
    "mutsDfTMZ = calculate_hotspot_stats(tmzMaf, tmzQuadNucs, 'Signature.11')\n",
    "mutsDfPOLE = calculate_hotspot_stats(poleMaf, poleQuadNucs, 'Signature.10')\n",
    "mutsDfMMR = calculate_hotspot_stats(mmrMaf, mmrQuadNucs, 'Signature.6')"
   ]
  },
  {
   "cell_type": "code",
   "execution_count": 40,
   "metadata": {},
   "outputs": [],
   "source": [
    "mutsDfTMZ['sigClass'] = 'TMZ'\n",
    "mutsDfPOLE['sigClass'] = 'POLE'\n",
    "mutsDfMMR['sigClass'] = 'MMR'\n",
    "combinedMutsDf = pd.concat([mutsDfTMZ, mutsDfPOLE, mutsDfMMR])"
   ]
  },
  {
   "cell_type": "code",
   "execution_count": 41,
   "metadata": {},
   "outputs": [],
   "source": [
    "combinedMutsDf['nHotspotsExpected'] = combinedMutsDf.apply(lambda row:\n",
    "    (row['nHotspotsExpected'] + row['nHotspotsExpected2'])/2.0, axis=1)"
   ]
  },
  {
   "cell_type": "code",
   "execution_count": 42,
   "metadata": {},
   "outputs": [],
   "source": [
    "combinedMutsDf.to_csv('/Users/friedman/Desktop/WORK/dataForLocalPlotting/hotspotObsExpected.tsv', index=False, sep='\\t')"
   ]
  },
  {
   "cell_type": "code",
   "execution_count": 23,
   "metadata": {
    "scrolled": true
   },
   "outputs": [
    {
     "data": {
      "text/html": [
       "<div>\n",
       "<style scoped>\n",
       "    .dataframe tbody tr th:only-of-type {\n",
       "        vertical-align: middle;\n",
       "    }\n",
       "\n",
       "    .dataframe tbody tr th {\n",
       "        vertical-align: top;\n",
       "    }\n",
       "\n",
       "    .dataframe thead th {\n",
       "        text-align: right;\n",
       "    }\n",
       "</style>\n",
       "<table border=\"1\" class=\"dataframe\">\n",
       "  <thead>\n",
       "    <tr style=\"text-align: right;\">\n",
       "      <th></th>\n",
       "      <th>nHotspotsExpected</th>\n",
       "      <th>nHotspotsExpected2</th>\n",
       "    </tr>\n",
       "  </thead>\n",
       "  <tbody>\n",
       "    <tr>\n",
       "      <th>0</th>\n",
       "      <td>0.130884</td>\n",
       "      <td>0.135715</td>\n",
       "    </tr>\n",
       "    <tr>\n",
       "      <th>1</th>\n",
       "      <td>0.183660</td>\n",
       "      <td>0.205330</td>\n",
       "    </tr>\n",
       "    <tr>\n",
       "      <th>2</th>\n",
       "      <td>0.217436</td>\n",
       "      <td>0.219637</td>\n",
       "    </tr>\n",
       "    <tr>\n",
       "      <th>3</th>\n",
       "      <td>0.101329</td>\n",
       "      <td>0.115528</td>\n",
       "    </tr>\n",
       "    <tr>\n",
       "      <th>4</th>\n",
       "      <td>0.107663</td>\n",
       "      <td>0.159105</td>\n",
       "    </tr>\n",
       "    <tr>\n",
       "      <th>5</th>\n",
       "      <td>0.086552</td>\n",
       "      <td>0.106091</td>\n",
       "    </tr>\n",
       "    <tr>\n",
       "      <th>6</th>\n",
       "      <td>0.185771</td>\n",
       "      <td>0.161812</td>\n",
       "    </tr>\n",
       "    <tr>\n",
       "      <th>7</th>\n",
       "      <td>0.065442</td>\n",
       "      <td>0.090883</td>\n",
       "    </tr>\n",
       "    <tr>\n",
       "      <th>8</th>\n",
       "      <td>0.263879</td>\n",
       "      <td>0.256329</td>\n",
       "    </tr>\n",
       "    <tr>\n",
       "      <th>9</th>\n",
       "      <td>0.141439</td>\n",
       "      <td>0.168513</td>\n",
       "    </tr>\n",
       "    <tr>\n",
       "      <th>10</th>\n",
       "      <td>0.164660</td>\n",
       "      <td>0.153178</td>\n",
       "    </tr>\n",
       "    <tr>\n",
       "      <th>11</th>\n",
       "      <td>0.094996</td>\n",
       "      <td>0.150630</td>\n",
       "    </tr>\n",
       "    <tr>\n",
       "      <th>12</th>\n",
       "      <td>0.084441</td>\n",
       "      <td>0.115543</td>\n",
       "    </tr>\n",
       "    <tr>\n",
       "      <th>13</th>\n",
       "      <td>0.031665</td>\n",
       "      <td>0.035231</td>\n",
       "    </tr>\n",
       "    <tr>\n",
       "      <th>14</th>\n",
       "      <td>0.075997</td>\n",
       "      <td>0.067837</td>\n",
       "    </tr>\n",
       "    <tr>\n",
       "      <th>15</th>\n",
       "      <td>0.107663</td>\n",
       "      <td>0.110980</td>\n",
       "    </tr>\n",
       "    <tr>\n",
       "      <th>16</th>\n",
       "      <td>0.221658</td>\n",
       "      <td>0.291873</td>\n",
       "    </tr>\n",
       "    <tr>\n",
       "      <th>17</th>\n",
       "      <td>0.265990</td>\n",
       "      <td>0.308143</td>\n",
       "    </tr>\n",
       "    <tr>\n",
       "      <th>18</th>\n",
       "      <td>0.054887</td>\n",
       "      <td>0.052863</td>\n",
       "    </tr>\n",
       "    <tr>\n",
       "      <th>19</th>\n",
       "      <td>0.099218</td>\n",
       "      <td>0.101681</td>\n",
       "    </tr>\n",
       "    <tr>\n",
       "      <th>20</th>\n",
       "      <td>0.151994</td>\n",
       "      <td>0.162766</td>\n",
       "    </tr>\n",
       "    <tr>\n",
       "      <th>21</th>\n",
       "      <td>0.101329</td>\n",
       "      <td>0.098344</td>\n",
       "    </tr>\n",
       "    <tr>\n",
       "      <th>22</th>\n",
       "      <td>0.037999</td>\n",
       "      <td>0.060604</td>\n",
       "    </tr>\n",
       "    <tr>\n",
       "      <th>23</th>\n",
       "      <td>0.151994</td>\n",
       "      <td>0.158196</td>\n",
       "    </tr>\n",
       "    <tr>\n",
       "      <th>24</th>\n",
       "      <td>0.084441</td>\n",
       "      <td>0.091762</td>\n",
       "    </tr>\n",
       "    <tr>\n",
       "      <th>25</th>\n",
       "      <td>0.082330</td>\n",
       "      <td>0.073545</td>\n",
       "    </tr>\n",
       "    <tr>\n",
       "      <th>26</th>\n",
       "      <td>0.162549</td>\n",
       "      <td>0.159428</td>\n",
       "    </tr>\n",
       "    <tr>\n",
       "      <th>27</th>\n",
       "      <td>0.185771</td>\n",
       "      <td>0.186263</td>\n",
       "    </tr>\n",
       "    <tr>\n",
       "      <th>28</th>\n",
       "      <td>0.061220</td>\n",
       "      <td>0.055945</td>\n",
       "    </tr>\n",
       "    <tr>\n",
       "      <th>29</th>\n",
       "      <td>0.257546</td>\n",
       "      <td>0.223018</td>\n",
       "    </tr>\n",
       "    <tr>\n",
       "      <th>...</th>\n",
       "      <td>...</td>\n",
       "      <td>...</td>\n",
       "    </tr>\n",
       "    <tr>\n",
       "      <th>33</th>\n",
       "      <td>0.120329</td>\n",
       "      <td>0.098774</td>\n",
       "    </tr>\n",
       "    <tr>\n",
       "      <th>34</th>\n",
       "      <td>0.105551</td>\n",
       "      <td>0.097405</td>\n",
       "    </tr>\n",
       "    <tr>\n",
       "      <th>35</th>\n",
       "      <td>0.569978</td>\n",
       "      <td>0.613399</td>\n",
       "    </tr>\n",
       "    <tr>\n",
       "      <th>36</th>\n",
       "      <td>0.040110</td>\n",
       "      <td>0.040807</td>\n",
       "    </tr>\n",
       "    <tr>\n",
       "      <th>37</th>\n",
       "      <td>0.242768</td>\n",
       "      <td>0.236701</td>\n",
       "    </tr>\n",
       "    <tr>\n",
       "      <th>38</th>\n",
       "      <td>0.092885</td>\n",
       "      <td>0.086870</td>\n",
       "    </tr>\n",
       "    <tr>\n",
       "      <th>39</th>\n",
       "      <td>0.185771</td>\n",
       "      <td>0.179072</td>\n",
       "    </tr>\n",
       "    <tr>\n",
       "      <th>40</th>\n",
       "      <td>0.033776</td>\n",
       "      <td>0.038048</td>\n",
       "    </tr>\n",
       "    <tr>\n",
       "      <th>41</th>\n",
       "      <td>0.048554</td>\n",
       "      <td>0.046318</td>\n",
       "    </tr>\n",
       "    <tr>\n",
       "      <th>42</th>\n",
       "      <td>0.054887</td>\n",
       "      <td>0.097507</td>\n",
       "    </tr>\n",
       "    <tr>\n",
       "      <th>43</th>\n",
       "      <td>0.080219</td>\n",
       "      <td>0.080099</td>\n",
       "    </tr>\n",
       "    <tr>\n",
       "      <th>44</th>\n",
       "      <td>0.050665</td>\n",
       "      <td>0.060968</td>\n",
       "    </tr>\n",
       "    <tr>\n",
       "      <th>45</th>\n",
       "      <td>0.276545</td>\n",
       "      <td>0.264585</td>\n",
       "    </tr>\n",
       "    <tr>\n",
       "      <th>46</th>\n",
       "      <td>0.202659</td>\n",
       "      <td>0.202618</td>\n",
       "    </tr>\n",
       "    <tr>\n",
       "      <th>47</th>\n",
       "      <td>0.187882</td>\n",
       "      <td>0.197860</td>\n",
       "    </tr>\n",
       "    <tr>\n",
       "      <th>48</th>\n",
       "      <td>0.192104</td>\n",
       "      <td>0.208509</td>\n",
       "    </tr>\n",
       "    <tr>\n",
       "      <th>49</th>\n",
       "      <td>0.040110</td>\n",
       "      <td>0.056864</td>\n",
       "    </tr>\n",
       "    <tr>\n",
       "      <th>50</th>\n",
       "      <td>0.065442</td>\n",
       "      <td>0.067029</td>\n",
       "    </tr>\n",
       "    <tr>\n",
       "      <th>51</th>\n",
       "      <td>0.035888</td>\n",
       "      <td>0.047521</td>\n",
       "    </tr>\n",
       "    <tr>\n",
       "      <th>52</th>\n",
       "      <td>0.029554</td>\n",
       "      <td>0.037508</td>\n",
       "    </tr>\n",
       "    <tr>\n",
       "      <th>53</th>\n",
       "      <td>0.128773</td>\n",
       "      <td>0.126179</td>\n",
       "    </tr>\n",
       "    <tr>\n",
       "      <th>54</th>\n",
       "      <td>0.065442</td>\n",
       "      <td>0.060164</td>\n",
       "    </tr>\n",
       "    <tr>\n",
       "      <th>55</th>\n",
       "      <td>0.075997</td>\n",
       "      <td>0.072644</td>\n",
       "    </tr>\n",
       "    <tr>\n",
       "      <th>56</th>\n",
       "      <td>0.284989</td>\n",
       "      <td>0.333491</td>\n",
       "    </tr>\n",
       "    <tr>\n",
       "      <th>57</th>\n",
       "      <td>0.069664</td>\n",
       "      <td>0.060561</td>\n",
       "    </tr>\n",
       "    <tr>\n",
       "      <th>58</th>\n",
       "      <td>0.132995</td>\n",
       "      <td>0.129663</td>\n",
       "    </tr>\n",
       "    <tr>\n",
       "      <th>59</th>\n",
       "      <td>0.350431</td>\n",
       "      <td>0.355297</td>\n",
       "    </tr>\n",
       "    <tr>\n",
       "      <th>60</th>\n",
       "      <td>0.301877</td>\n",
       "      <td>0.300281</td>\n",
       "    </tr>\n",
       "    <tr>\n",
       "      <th>61</th>\n",
       "      <td>0.122440</td>\n",
       "      <td>0.133263</td>\n",
       "    </tr>\n",
       "    <tr>\n",
       "      <th>62</th>\n",
       "      <td>0.221658</td>\n",
       "      <td>0.227989</td>\n",
       "    </tr>\n",
       "  </tbody>\n",
       "</table>\n",
       "<p>63 rows × 2 columns</p>\n",
       "</div>"
      ],
      "text/plain": [
       "    nHotspotsExpected  nHotspotsExpected2\n",
       "0            0.130884            0.135715\n",
       "1            0.183660            0.205330\n",
       "2            0.217436            0.219637\n",
       "3            0.101329            0.115528\n",
       "4            0.107663            0.159105\n",
       "5            0.086552            0.106091\n",
       "6            0.185771            0.161812\n",
       "7            0.065442            0.090883\n",
       "8            0.263879            0.256329\n",
       "9            0.141439            0.168513\n",
       "10           0.164660            0.153178\n",
       "11           0.094996            0.150630\n",
       "12           0.084441            0.115543\n",
       "13           0.031665            0.035231\n",
       "14           0.075997            0.067837\n",
       "15           0.107663            0.110980\n",
       "16           0.221658            0.291873\n",
       "17           0.265990            0.308143\n",
       "18           0.054887            0.052863\n",
       "19           0.099218            0.101681\n",
       "20           0.151994            0.162766\n",
       "21           0.101329            0.098344\n",
       "22           0.037999            0.060604\n",
       "23           0.151994            0.158196\n",
       "24           0.084441            0.091762\n",
       "25           0.082330            0.073545\n",
       "26           0.162549            0.159428\n",
       "27           0.185771            0.186263\n",
       "28           0.061220            0.055945\n",
       "29           0.257546            0.223018\n",
       "..                ...                 ...\n",
       "33           0.120329            0.098774\n",
       "34           0.105551            0.097405\n",
       "35           0.569978            0.613399\n",
       "36           0.040110            0.040807\n",
       "37           0.242768            0.236701\n",
       "38           0.092885            0.086870\n",
       "39           0.185771            0.179072\n",
       "40           0.033776            0.038048\n",
       "41           0.048554            0.046318\n",
       "42           0.054887            0.097507\n",
       "43           0.080219            0.080099\n",
       "44           0.050665            0.060968\n",
       "45           0.276545            0.264585\n",
       "46           0.202659            0.202618\n",
       "47           0.187882            0.197860\n",
       "48           0.192104            0.208509\n",
       "49           0.040110            0.056864\n",
       "50           0.065442            0.067029\n",
       "51           0.035888            0.047521\n",
       "52           0.029554            0.037508\n",
       "53           0.128773            0.126179\n",
       "54           0.065442            0.060164\n",
       "55           0.075997            0.072644\n",
       "56           0.284989            0.333491\n",
       "57           0.069664            0.060561\n",
       "58           0.132995            0.129663\n",
       "59           0.350431            0.355297\n",
       "60           0.301877            0.300281\n",
       "61           0.122440            0.133263\n",
       "62           0.221658            0.227989\n",
       "\n",
       "[63 rows x 2 columns]"
      ]
     },
     "execution_count": 23,
     "metadata": {},
     "output_type": "execute_result"
    }
   ],
   "source": [
    "mutsDf[['nHotspotsExpected', 'nHotspotsExpected2']]"
   ]
  },
  {
   "cell_type": "markdown",
   "metadata": {},
   "source": [
    "**truncating mutations analysis**"
   ]
  },
  {
   "cell_type": "code",
   "execution_count": 43,
   "metadata": {},
   "outputs": [],
   "source": [
    "tumorSuppresors = set(['ERRFI1', 'ASXL2', 'PMAIP1', 'ACTG1', 'SUFU', 'FBXO11', 'MEN1', 'FAM58A', 'B2M', 'RB1', 'DUSP22', 'SESN1', 'GPS2', 'RAD51D', 'SMG1', 'CDC73', 'MAP3K1', 'SMARCB1', 'INPP4B', 'PARK2', 'SMAD4', 'CBFB', 'CDH1', 'PPP6C', 'SETDB1', 'SETDB2', 'NF2', 'CDKN2B', 'CDKN2C', 'CDKN2A', 'DDX3X', 'PIK3R1', 'BARD1', 'PDS5B', 'KLF4', 'SPRED1', 'VHL', 'SMAD2', 'PMS1', 'PMS2', 'SETD2', 'GATA3', 'TBL1XR1', 'MUTYH', 'SOCS1', 'FAM175A', 'ROBO1', 'ARID1B', 'ARID1A', 'TCF7L2', 'STK11', 'FOXA1', 'PTEN', 'FAT1', 'FAS', 'CYLD', 'MAX', 'SH2D1A', 'APC', 'NTHL1', 'CTCF', 'KDM5C', 'KMT2C', 'ZFHX3', 'FOXP1', 'PIGA', 'CDKN1B', 'CDKN1A', 'FUBP1', 'MSH2', 'ID3', 'TNFRSF14', 'TRAF3', 'EP400', 'BRIP1', 'ARID4A', 'ARID4B', 'XRCC2', 'DAXX', 'SDHAF2', 'ASXL1', 'AMER1', 'RASA1', 'EGR1', 'MST1', 'SOX17', 'RUNX1', 'PIK3R3', 'NCOR1', 'NF1', 'JAK1', 'PTPRD', 'CHEK2', 'CHEK1', 'SMC1A', 'TMEM127', 'STAG1', 'RAD51', 'TCF3', 'STAG2', 'ARID2', 'RAD50', 'RNF43', 'PARP1', 'BLM', 'CUX1', 'RECQL', 'RAD21', 'PTPN2', 'PTPN1', 'SLX4', 'INHA', 'PAX5', 'IRF1', 'TP53', 'HLA-A', 'IRF8', 'CBL', 'TOP1', 'SHQ1', 'PRDM1', 'NSD1', 'ATXN2', 'CREBBP', 'HDAC4', 'SESN2', 'PPP2R1A', 'EPHA7', 'ATM', 'EPHA3', 'POT1', 'SMAD3', 'MOB3B', 'TBX3', 'POLE', 'ATR', 'FANCD2', 'FH', 'BCORL1', 'SOX9', 'IKZF3', 'TSC1', 'TP63', 'MRE11A', 'SDHC', 'BTG1', 'POLD1', 'CIITA', 'SMC3', 'SAMHD1', 'RTEL1', 'ECT2L', 'PIK3R2', 'CRBN', 'FANCC', 'NBN', 'FANCA', 'HLA-B', 'RECQL4', 'DUSP4', 'ERCC2', 'FBXW7', 'TGFBR2', 'TGFBR1', 'MSH3', 'RBM15', 'TET1', 'TET3', 'SESN3', 'MGA', 'LTB', 'FOXL2', 'SH2B3', 'BCOR', 'HIST1H1D', 'ATRX', 'EP300', 'RAD51C', 'RAD51B', 'HIST1H1B', 'TNFAIP3', 'DICER1', 'ARID5B', 'LATS2', 'FOXO1', 'KEAP1', 'EZH2', 'SP140', 'NKX3-1', 'PBRM1', 'PALB2', 'CIC', 'BRCA1', 'DTX1', 'FLCN', 'SPEN', 'CD58', 'ERCC3', 'ERCC4', 'MSH6', 'BCL11B', 'BMPR1A', 'ERF', 'BRCA2', 'NOTCH2', 'EED', 'MITF', 'ELF3', 'SMARCA4', 'BBC3', 'ANKRD11', 'CEBPA', 'BCL2L11', 'AXIN2', 'AXIN1', 'CDK12', 'ESCO2', 'MLH1', 'SDHB', 'MED12', 'HNF1A', 'RYBP', 'ATP6V1B2', 'DNMT3B', 'KMT2B', 'KMT2A', 'DNMT3A', 'NFKBIA', 'TRAF5', 'KMT2D', 'SPOP', 'RBM10', 'P2RY8', 'TP53BP1', 'TSC2', 'KDM6A', 'EPCAM', 'PHOX2B', 'NPM1', 'BCL10', 'LATS1', 'HOXB13', 'ARID3A', 'PTPRT', 'PTPRS', 'INPPL1', 'NOTCH4', 'TET2', 'NOTCH1', 'CASP8', 'NOTCH3', 'GRIN2A', 'MAP2K4', 'WT1', 'BACH2', 'SDHA', 'BAP1', 'PTCH1', 'SDHD'])"
   ]
  },
  {
   "cell_type": "code",
   "execution_count": 44,
   "metadata": {},
   "outputs": [],
   "source": [
    "possibleMutationsIncludingTruncating = pd.read_table(pathPrefix + '/ifs/work/taylorlab/friedman/hypermutationAnalysisProj/projectDataAndConfigFiles/simulatedMutationSummaryV3-Sep11.tsv')"
   ]
  },
  {
   "cell_type": "code",
   "execution_count": 45,
   "metadata": {},
   "outputs": [],
   "source": [
    "mergedDfIncludingTruncating = pd.merge(possibleMutationsIncludingTruncating, simulatedDataSummary)\n",
    "#I am fixing my error conservatively with a pandas merge"
   ]
  },
  {
   "cell_type": "code",
   "execution_count": 46,
   "metadata": {
    "scrolled": true
   },
   "outputs": [],
   "source": [
    "#we create seperate estimates of rates of truncating mutations based on the gene content of TSGs and Oncogenes\n",
    "mergedDfTSG = mergedDfIncludingTruncating[mergedDfIncludingTruncating['Hugo_Symbol'].isin(tumorSuppresors)]\n",
    "mergedDfOncogene = mergedDfIncludingTruncating[~mergedDfIncludingTruncating['Hugo_Symbol'].isin(tumorSuppresors)]\n",
    "\n",
    "truncatingSusceptibilityDictTSG = quantify_truncating_susceptibility_per_mutation(mergedDfTSG)\n",
    "truncatingSusceptibilityDictOncogene = quantify_truncating_susceptibility_per_mutation(mergedDfOncogene)"
   ]
  },
  {
   "cell_type": "code",
   "execution_count": null,
   "metadata": {
    "scrolled": false
   },
   "outputs": [],
   "source": [
    "#get the rate of nonsense mutations per signature\n",
    "signatureNonsenseRateTSG = calculate_oncogenic_mut_susceptibility_of_genes_by_signature(\n",
    "    truncatingSusceptibilityDictTSG, suffix='_nonsense_rate')\n",
    "signatureNonsenseRateOncogene = calculate_oncogenic_mut_susceptibility_of_genes_by_signature(\n",
    "    truncatingSusceptibilityDictOncogene, suffix='_nonsense_rate')\n",
    "#truncatingSusceptibilityDict['TCAG_nonsense_rate']\n"
   ]
  },
  {
   "cell_type": "code",
   "execution_count": 48,
   "metadata": {},
   "outputs": [],
   "source": [
    "signatureNonsenseRateDictTSG = dict(zip(signatureNonsenseRateTSG['Signature_Name'], signatureNonsenseRateTSG['ExpectedFracOfMutsOncogenic']))\n",
    "signatureNonsenseRateDictOncogene = dict(zip(signatureNonsenseRateOncogene['Signature_Name'], signatureNonsenseRateOncogene['ExpectedFracOfMutsOncogenic']))\n"
   ]
  },
  {
   "cell_type": "code",
   "execution_count": 108,
   "metadata": {},
   "outputs": [
    {
     "name": "stdout",
     "output_type": "stream",
     "text": [
      "0.0896027574912 0.0551205564433\n"
     ]
    }
   ],
   "source": [
    "\n",
    "print signatureNonsenseRateDictTSG['Signature.10'], signatureNonsenseRateDictOncogene['Signature.10']"
   ]
  },
  {
   "cell_type": "code",
   "execution_count": 58,
   "metadata": {
    "scrolled": true
   },
   "outputs": [
    {
     "ename": "NameError",
     "evalue": "name 'poleMaf341' is not defined",
     "output_type": "error",
     "traceback": [
      "\u001b[0;31m---------------------------------------------------------------------------\u001b[0m",
      "\u001b[0;31mNameError\u001b[0m                                 Traceback (most recent call last)",
      "\u001b[0;32m<ipython-input-58-4dd54f057822>\u001b[0m in \u001b[0;36m<module>\u001b[0;34m()\u001b[0m\n\u001b[0;32m----> 1\u001b[0;31m \u001b[0mpoleMaf341SNPs\u001b[0m \u001b[0;34m=\u001b[0m \u001b[0mpoleMaf341\u001b[0m\u001b[0;34m[\u001b[0m\u001b[0mpoleMaf341\u001b[0m\u001b[0;34m[\u001b[0m\u001b[0;34m'Variant_Type'\u001b[0m\u001b[0;34m]\u001b[0m \u001b[0;34m==\u001b[0m \u001b[0;34m'SNP'\u001b[0m\u001b[0;34m]\u001b[0m\u001b[0;34m\u001b[0m\u001b[0m\n\u001b[0m\u001b[1;32m      2\u001b[0m \u001b[0mlistOfDicts\u001b[0m \u001b[0;34m=\u001b[0m \u001b[0;34m[\u001b[0m\u001b[0;34m]\u001b[0m\u001b[0;34m\u001b[0m\u001b[0m\n\u001b[1;32m      3\u001b[0m \u001b[0;32mfor\u001b[0m \u001b[0mcase\u001b[0m \u001b[0;32min\u001b[0m \u001b[0mset\u001b[0m\u001b[0;34m(\u001b[0m\u001b[0mpoleMaf341SNPs\u001b[0m\u001b[0;34m[\u001b[0m\u001b[0;34m'Tumor_Sample_Barcode'\u001b[0m\u001b[0;34m]\u001b[0m\u001b[0;34m)\u001b[0m\u001b[0;34m:\u001b[0m\u001b[0;34m\u001b[0m\u001b[0m\n\u001b[1;32m      4\u001b[0m     \u001b[0mcaseMaf\u001b[0m \u001b[0;34m=\u001b[0m \u001b[0mpoleMaf341SNPs\u001b[0m\u001b[0;34m[\u001b[0m\u001b[0mpoleMaf341SNPs\u001b[0m\u001b[0;34m[\u001b[0m\u001b[0;34m'Tumor_Sample_Barcode'\u001b[0m\u001b[0;34m]\u001b[0m \u001b[0;34m==\u001b[0m \u001b[0mcase\u001b[0m\u001b[0;34m]\u001b[0m\u001b[0;34m\u001b[0m\u001b[0m\n\u001b[1;32m      5\u001b[0m     \u001b[0mnmutIM341\u001b[0m \u001b[0;34m=\u001b[0m \u001b[0mcaseMaf\u001b[0m\u001b[0;34m.\u001b[0m\u001b[0mshape\u001b[0m\u001b[0;34m[\u001b[0m\u001b[0;36m0\u001b[0m\u001b[0;34m]\u001b[0m\u001b[0;34m\u001b[0m\u001b[0m\n",
      "\u001b[0;31mNameError\u001b[0m: name 'poleMaf341' is not defined"
     ]
    }
   ],
   "source": [
    "poleMaf341SNPs = poleMaf341[poleMaf341['Variant_Type'] == 'SNP']\n",
    "listOfDicts = []\n",
    "for case in set(poleMaf341SNPs['Tumor_Sample_Barcode']):\n",
    "    caseMaf = poleMaf341SNPs[poleMaf341SNPs['Tumor_Sample_Barcode'] == case]\n",
    "    nmutIM341 = caseMaf.shape[0]\n",
    "    caseMafOncogene = caseMaf[~caseMaf['Hugo_Symbol'].isin(tumorSuppresors)]\n",
    "    caseMafTumorSuppressor = caseMaf[caseMaf['Hugo_Symbol'].isin(tumorSuppresors)]\n",
    "    \n",
    "    nOncogeneMuts = caseMafOncogene.shape[0]\n",
    "    nTSGMuts = caseMafTumorSuppressor.shape[0]\n",
    "    \n",
    "    nOncogeneTruncating = caseMafOncogene[caseMafOncogene['Consequence'] == 'stop_gained'].shape[0]\n",
    "    nTsgTruncating = caseMafTumorSuppressor[caseMafTumorSuppressor['Consequence'] == 'stop_gained'].shape[0]\n",
    "    \n",
    "    nOncogeneExpected = nOncogeneMuts*signatureNonsenseRateDictOncogene['Signature.10']\n",
    "    nTSGExpected = nTSGMuts*signatureNonsenseRateDictTSG'Signature.10']\n",
    "    \n",
    "    listOfDicts.append({\n",
    "        'Tumor_Sample_Barcode': case, 'nOncogeneTruncating': nOncogeneTruncating, 'nTsgTruncating': nTsgTruncating,\n",
    "        'nOncogeneExpected': nOncogeneExpected, 'nTSGExpected': nTSGExpected, 'nmut': nmutIM341\n",
    "    })\n",
    "    \n",
    "df = pd.DataFrame(listOfDicts)"
   ]
  },
  {
   "cell_type": "code",
   "execution_count": 132,
   "metadata": {},
   "outputs": [],
   "source": [
    "df.to_csv('/Users/friedman/Desktop/WORK/dataForLocalPlotting/truncatingObsExpectedPOLE.tsv', index=False, sep='\\t')"
   ]
  },
  {
   "cell_type": "markdown",
   "metadata": {},
   "source": [
    "**POLE-PENTA-nucleotides**"
   ]
  },
  {
   "cell_type": "code",
   "execution_count": 50,
   "metadata": {},
   "outputs": [],
   "source": [
    "pentaNucPossibleMaf = pd.read_table(pathPrefix + '/ifs/work/taylorlab/friedman/myAdjustedDataFiles/pentaNucMutationSummary.tsv')"
   ]
  },
  {
   "cell_type": "code",
   "execution_count": 51,
   "metadata": {},
   "outputs": [],
   "source": [
    "pentaNucPossibleMaf341 = pentaNucPossibleMaf[pentaNucPossibleMaf['Hugo_Symbol'].isin(impact341Genes)]"
   ]
  },
  {
   "cell_type": "code",
   "execution_count": 52,
   "metadata": {},
   "outputs": [],
   "source": [
    "#Get the changes of each mutation class at the penta nucleotide\n",
    "letters = ['A', 'C', 'G', 'T']\n",
    "changes = ['(C>A)', '(C>G)', '(C>T)', '(T>A)', '(T>C)', '(T>G)']\n",
    "truncChanceD = {}\n",
    "hotspotChanceD = {}\n",
    "for first in letters:\n",
    "    for second in letters:\n",
    "        for third in letters:\n",
    "            for fourth in letters:\n",
    "                for change in changes:\n",
    "                    penta = first + second + change + third + fourth\n",
    "                    \n",
    "                    #TRUNCATING MUTATIONS\n",
    "                    truncKey = penta + '_truncating'\n",
    "                    if truncKey not in pentaNucPossibleMaf341.columns.values:\n",
    "                        truncChanceD[penta] = 0\n",
    "                    else: \n",
    "                        truncChanceD[penta] = (1.0*np.nansum(pentaNucPossibleMaf341[truncKey]))/np.nansum(pentaNucPossibleMaf341[penta + '_nonSilent'])\n",
    "                    \n",
    "                    #HOTSPOTS\n",
    "                    hotspotKey = penta + '_hotspot'\n",
    "                    if hotspotKey not in pentaNucPossibleMaf341.columns.values:\n",
    "                        hotspotChanceD[penta] = 0\n",
    "                    else:\n",
    "                        hotspotChanceD[penta] = (1.0*np.nansum(pentaNucPossibleMaf341[hotspotKey]))/np.nansum(pentaNucPossibleMaf341[penta + '_nonSilent'])\n",
    "\n",
    "                        \n",
    "                        \n"
   ]
  },
  {
   "cell_type": "code",
   "execution_count": 53,
   "metadata": {},
   "outputs": [
    {
     "name": "stderr",
     "output_type": "stream",
     "text": [
      "/anaconda2/lib/python2.7/site-packages/IPython/core/interactiveshell.py:2714: DtypeWarning: Columns (36,39,85) have mixed types. Specify dtype option on import or set low_memory=False.\n",
      "  interactivity=interactivity, compiler=compiler, result=result)\n"
     ]
    }
   ],
   "source": [
    "poleMafWithPentaContext = pd.read_table(pathPrefix + '/ifs/work/taylorlab/friedman/myAdjustedDataFiles/poleCaseMafWithPentanucleotideContext.maf')\n",
    "poleMafWithPentaContext['pentaChange'] = poleMafWithPentaContext.apply(lambda row: \n",
    "                                    mutationSigUtils.create_strand_specific_pentanucleotide_change(row['Ref_Tri.1'], row['Reference_Allele'], row['Tumor_Seq_Allele2'], row['Variant_Type']), axis=1)\n"
   ]
  },
  {
   "cell_type": "code",
   "execution_count": 54,
   "metadata": {},
   "outputs": [],
   "source": [
    "poleMafWithPentaContext341 = poleMafWithPentaContext[poleMafWithPentaContext['Hugo_Symbol'].isin(set(pentaNucPossibleMaf341['Hugo_Symbol']))]\n",
    "poleMafWithPentaContext341 = poleMafWithPentaContext341[poleMafWithPentaContext341['pentaChange'].notnull()]"
   ]
  },
  {
   "cell_type": "code",
   "execution_count": null,
   "metadata": {
    "scrolled": true
   },
   "outputs": [],
   "source": [
    "#cdsDict = analysis_utils.get_cds_size_targeted_by_impact(infoFilePath = pathPrefix + '/ifs/work/taylorlab/friedman/myAdjustedDataFiles/impact_gene_reference_signatures.tsv')\n",
    "#for gene, count in Counter(poleMafWithPentaContext341[(poleMafWithPentaContext341['Consequence'] == 'stop_gained')\n",
    "#            & (~poleMafWithPentaContext341['Hugo_Symbol'].isin(tumorSuppresors))]['Hugo_Symbol']).most_common(30):\n",
    "#    \n",
    "#    print count, gene, 1.0*count/cdsDict[gene]\n",
    "\n",
    "\n",
    "print poleMafWithPentaContext341[(poleMafWithPentaContext341['Consequence'] == 'stop_gained') & (poleMafWithPentaContext['Hugo_Symbol'] == 'GNAQ')]"
   ]
  },
  {
   "cell_type": "code",
   "execution_count": 89,
   "metadata": {},
   "outputs": [],
   "source": [
    "listOfDicts = []\n",
    "for case in set(poleMafWithPentaContext341['Tumor_Sample_Barcode']):\n",
    "    caseMaf = poleMafWithPentaContext341[poleMafWithPentaContext341['Tumor_Sample_Barcode'] == case]\n",
    "    caseMafOncogenes = caseMaf[~caseMaf['Hugo_Symbol'].isin(tumorSuppresors)]\n",
    "    caseMafTSGs = caseMaf[caseMaf['Hugo_Symbol'].isin(tumorSuppresors)]\n",
    "    \n",
    "    pentaChangeCounterAll = Counter(caseMaf['pentaChange'])\n",
    "    pentaChangeCounterOncogenes = Counter(caseMafOncogenes['pentaChange'])\n",
    "    pentaChangeCounterTSGs = Counter(caseMafTSGs['pentaChange'])\n",
    "    \n",
    "    expectedOncogeneTrunc = 0\n",
    "    for pentaChange, count in pentaChangeCounterOncogenes.items():\n",
    "        expectedOncogeneTrunc += count*truncChanceD[pentaChange]\n",
    "    \n",
    "    expectedTSGTrunc = 0\n",
    "    for pentaChange, count in pentaChangeCounterTSGs.items():\n",
    "        expectedTSGTrunc += count*truncChanceD[pentaChange]\n",
    "        \n",
    "    #WE INCLUDE HOTSPOT INFORMATION AS WELL\n",
    "    expectedHotspots = 0\n",
    "    for pentaChange, count in pentaChangeCounterAll.items():\n",
    "        expectedHotspots += count*hotspotChanceD[pentaChange]\n",
    "        \n",
    "        \n",
    "        \n",
    "    #OTHER METHOD3##################################\n",
    "    nOncogeneExpected2 = caseMafOncogenes.shape[0]*signatureNonsenseRateDictOncogene['Signature.10']\n",
    "    nTSGExpected2 = caseMafTSGs.shape[0]*signatureNonsenseRateDictTSG['Signature.10']\n",
    "    ##################################\n",
    "\n",
    "    nOncogeneTrunc = caseMafOncogenes[caseMafOncogenes['Consequence'] == 'stop_gained'].shape[0]\n",
    "    nTSGTrunc = caseMafTSGs[caseMafTSGs['Consequence'] == 'stop_gained'].shape[0]\n",
    "    nHotspot = caseMaf[caseMaf['is-a-hotspot'] == 'Y'].shape[0]\n",
    "    nmut = caseMaf.shape[0]\n",
    "    \n",
    "    listOfDicts.append({'Tumor_Sample_Barcode': case, 'nOncogeneTrunc': nOncogeneTrunc, 'nTSGTrunc': nTSGTrunc,\n",
    "                       'expectedOncogeneTrunc1': expectedOncogeneTrunc, 'expectedTSGTrunc1': expectedTSGTrunc,\n",
    "                        'expectedOncogeneTrunc2': nOncogeneExpected2, 'expectedTSGTrunc2': nTSGExpected2,\n",
    "                        'nmut': nmut, 'nHotspots': nHotspot, 'nExpectedHotspots': expectedHotspots\n",
    "                       })\n",
    "    \n",
    "    \n",
    "df = pd.DataFrame(listOfDicts)"
   ]
  },
  {
   "cell_type": "code",
   "execution_count": 87,
   "metadata": {},
   "outputs": [],
   "source": [
    "df['expectedTruncatingOncogene'] = df.apply(lambda row: (row['expectedOncogeneTrunc1'] + row['expectedOncogeneTrunc2'])/2.0, axis=1)\n",
    "df['expectedTruncatingTSG'] = df.apply(lambda row: (row['expectedTSGTrunc1'] + row['expectedTSGTrunc2'])/2.0, axis=1)\n"
   ]
  },
  {
   "cell_type": "code",
   "execution_count": 88,
   "metadata": {},
   "outputs": [],
   "source": [
    "df.to_csv('/Users/friedman/Desktop/WORK/dataForLocalPlotting/truncatingObsExpectedPOLEPenta.tsv', index=False, sep='\\t')"
   ]
  },
  {
   "cell_type": "code",
   "execution_count": 71,
   "metadata": {},
   "outputs": [
    {
     "data": {
      "text/plain": [
       "(0.08960275749120644, 0.055120556443320756)"
      ]
     },
     "execution_count": 71,
     "metadata": {},
     "output_type": "execute_result"
    }
   ],
   "source": [
    "signatureNonsenseRateDictTSG['Signature.10'], signatureNonsenseRateDictOncogene['Signature.10']"
   ]
  },
  {
   "cell_type": "markdown",
   "metadata": {},
   "source": [
    "**Mutations at hotspot motifs**"
   ]
  },
  {
   "cell_type": "code",
   "execution_count": 46,
   "metadata": {},
   "outputs": [],
   "source": [
    "possibleHotspots = pd.read_table(pathPrefix + '/ifs/work/taylorlab/friedman/myAdjustedDataFiles/hotspotContextSummary.tsv')"
   ]
  },
  {
   "cell_type": "code",
   "execution_count": 84,
   "metadata": {},
   "outputs": [],
   "source": [
    "possibleHotspots['pentaChange'] = possibleHotspots.apply(lambda row: \n",
    "                                    mutationSigUtils.create_strand_specific_pentanucleotide_change(row['Ref_Tri.1'], row['Reference_Allele'], row['Tumor_Seq_Allele2'], row['Variant_Type']), axis=1)\n"
   ]
  },
  {
   "cell_type": "code",
   "execution_count": 60,
   "metadata": {},
   "outputs": [],
   "source": [
    "poleMotifs = ['TCAT', 'TCTG']"
   ]
  },
  {
   "cell_type": "code",
   "execution_count": 103,
   "metadata": {},
   "outputs": [],
   "source": [
    "poleMafWithPentaContext = pd.read_table(pathPrefix + '/ifs/work/taylorlab/friedman/myAdjustedDataFiles/poleCaseMafWithPentanucleotideContext.maf')\n",
    "poleMaf = poleMafWithPentaContext\n",
    "poleMaf['allele'] = poleMaf['Hugo_Symbol'] + '_' + poleMaf['HGVSp_Short']\n",
    "poleMaf['pentaChange'] = poleMaf.apply(lambda row: \n",
    "                                    mutationSigUtils.create_strand_specific_pentanucleotide_change(row['Ref_Tri.1'], row['Reference_Allele'], row['Tumor_Seq_Allele2'], row['Variant_Type']), axis=1)\n"
   ]
  },
  {
   "cell_type": "code",
   "execution_count": 139,
   "metadata": {},
   "outputs": [],
   "source": [
    "poleGreaterThanOnePercentMotifs = [x[0] for x in Counter(poleMaf['pentaChange']).most_common(100) if (1.0*x[1])/poleMaf.shape[0] > .01]"
   ]
  },
  {
   "cell_type": "code",
   "execution_count": 140,
   "metadata": {},
   "outputs": [],
   "source": [
    "polePentaMotifs = ['TT(C>A)TT', 'TT(C>T)GA', 'TT(C>A)TC', 'TT(C>T)GG', 'TT(C>T)GT']\n",
    "polePentaMotifs = poleGreaterThanOnePercentMotifs\n",
    "#polePentaMotifs = ['TT(C>A)TT', 'TT(C>T)GA']"
   ]
  },
  {
   "cell_type": "code",
   "execution_count": 141,
   "metadata": {},
   "outputs": [],
   "source": [
    "poleMotifHotspotAlleles = set(possibleHotspots[possibleHotspots['pentaChange'].isin(polePentaMotifs)]['allele'])"
   ]
  },
  {
   "cell_type": "code",
   "execution_count": 142,
   "metadata": {},
   "outputs": [],
   "source": [
    "hotspotAllelesObserved = poleMaf[(poleMaf['is-a-hotspot'] == 'Y') & (poleMaf['pentaChange'].isin(polePentaMotifs))]['allele']\n"
   ]
  },
  {
   "cell_type": "code",
   "execution_count": 143,
   "metadata": {},
   "outputs": [],
   "source": [
    "hotspotAllelesNeverObs = poleMotifHotspotAlleles - set(hotspotAllelesObserved)"
   ]
  },
  {
   "cell_type": "code",
   "execution_count": 144,
   "metadata": {},
   "outputs": [],
   "source": [
    "alleleCounter = Counter(hotspotAllelesObserved)"
   ]
  },
  {
   "cell_type": "code",
   "execution_count": 148,
   "metadata": {},
   "outputs": [],
   "source": [
    "listOfDs = []\n",
    "for v in set(hotspotAllelesObserved):\n",
    "    gene = v.split('_')[0]\n",
    "    listOfDs.append({'allele': v, 'count': alleleCounter[v], 'gene': gene})\n",
    "for allele in hotspotAllelesNeverObs:\n",
    "    gene = allele.split('_')[0]\n",
    "    listOfDs.append({'allele': allele, 'count': 0, 'gene': gene})"
   ]
  },
  {
   "cell_type": "code",
   "execution_count": 149,
   "metadata": {},
   "outputs": [],
   "source": [
    "df = pd.DataFrame(listOfDs)"
   ]
  },
  {
   "cell_type": "code",
   "execution_count": 150,
   "metadata": {},
   "outputs": [],
   "source": [
    "df.to_csv('/Users/friedman/Desktop/WORK/dataForLocalPlotting/poleAlleleCounts.tsv', index=False, sep='\\t')"
   ]
  },
  {
   "cell_type": "code",
   "execution_count": 157,
   "metadata": {},
   "outputs": [
    {
     "data": {
      "text/plain": [
       "{'ATM',\n",
       " 'BCL6',\n",
       " 'CASP8',\n",
       " 'DIS3',\n",
       " 'DNMT1',\n",
       " 'ERBB3',\n",
       " 'FBXW7',\n",
       " 'FUBP1',\n",
       " 'MTOR',\n",
       " 'PIK3CA',\n",
       " 'PIK3CB',\n",
       " 'PRKCI',\n",
       " 'PTEN',\n",
       " 'PTPRD',\n",
       " 'RICTOR',\n",
       " 'SMAD2',\n",
       " 'TGFBR1',\n",
       " 'XPO1'}"
      ]
     },
     "execution_count": 157,
     "metadata": {},
     "output_type": "execute_result"
    }
   ],
   "source": [
    "set(df[df['count'] >= 4]['gene'])"
   ]
  },
  {
   "cell_type": "code",
   "execution_count": null,
   "metadata": {
    "scrolled": true
   },
   "outputs": [],
   "source": [
    "tmzMaf['allele'] = tmzMaf['Hugo_Symbol'] + '_' + tmzMaf['HGVSp_Short']"
   ]
  },
  {
   "cell_type": "code",
   "execution_count": 163,
   "metadata": {},
   "outputs": [],
   "source": [
    "tmzMotifs = set(['ACTC', 'ACTT', 'CCTC', 'CCTT', 'GCTC', 'GCTT', 'TCTT', 'TCTC'])"
   ]
  },
  {
   "cell_type": "code",
   "execution_count": 165,
   "metadata": {},
   "outputs": [],
   "source": [
    "tmzMotifHotspotAlleles = set(possibleHotspots[possibleHotspots['quadNuc'].isin(tmzMotifs)]['allele'])"
   ]
  },
  {
   "cell_type": "code",
   "execution_count": 166,
   "metadata": {},
   "outputs": [],
   "source": [
    "hotspotAllelesObserved = tmzMaf[(tmzMaf['is-a-hotspot'] == 'Y') & (tmzMaf['quadNuc'].isin(tmzMotifs))]['allele']\n"
   ]
  },
  {
   "cell_type": "code",
   "execution_count": 167,
   "metadata": {},
   "outputs": [],
   "source": [
    "hotspotAllelesNeverObs = poleMotifHotspotAlleles - set(hotspotAllelesObserved)\n",
    "alleleCounter = Counter(hotspotAllelesObserved)\n",
    "############TMZ\n",
    "\n",
    "listOfDs = []\n",
    "for v in set(hotspotAllelesObserved):\n",
    "    gene = v.split('_')[0]\n",
    "    listOfDs.append({'allele': v, 'count': alleleCounter[v], 'gene': gene})\n",
    "for allele in hotspotAllelesNeverObs:\n",
    "    gene = allele.split('_')[0]\n",
    "    listOfDs.append({'allele': allele, 'count': 0, 'gene': gene})\n",
    "df = pd.DataFrame(listOfDs)"
   ]
  },
  {
   "cell_type": "code",
   "execution_count": 174,
   "metadata": {},
   "outputs": [],
   "source": [
    "df.to_csv('/Users/friedman/Desktop/WORK/dataForLocalPlotting/tmzAlleleCounts.tsv', index=False, sep='\\t')"
   ]
  }
 ],
 "metadata": {
  "kernelspec": {
   "display_name": "Python 2",
   "language": "python",
   "name": "python2"
  },
  "language_info": {
   "codemirror_mode": {
    "name": "ipython",
    "version": 2
   },
   "file_extension": ".py",
   "mimetype": "text/x-python",
   "name": "python",
   "nbconvert_exporter": "python",
   "pygments_lexer": "ipython2",
   "version": "2.7.15"
  }
 },
 "nbformat": 4,
 "nbformat_minor": 2
}
