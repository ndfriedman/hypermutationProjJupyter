{
 "cells": [
  {
   "cell_type": "code",
   "execution_count": 1,
   "metadata": {},
   "outputs": [],
   "source": [
    "#written by Noah Friedman (a template for scripts to be excuted in the spyder environment\n",
    "import sys\n",
    "import argparse\n",
    "import os\n",
    "import pandas as pd\n",
    "import numpy as np\n",
    "import re\n",
    "\n",
    "from collections import Counter\n",
    "\n",
    "pathPrefix = '/Users/friedman/Desktop/mnt'\n",
    "\n",
    "sys.path.append(pathPrefix + '/ifs/work/taylorlab/friedman/myUtils')\n",
    "import analysis_utils \n",
    "import mutationSigUtils \n",
    "import maf_analysis_utils\n",
    "import mutation_modeling_util"
   ]
  },
  {
   "cell_type": "markdown",
   "metadata": {},
   "source": [
    "**FUNCTIONS**"
   ]
  },
  {
   "cell_type": "code",
   "execution_count": 2,
   "metadata": {},
   "outputs": [],
   "source": [
    "#CALCULATES THE DIFFERENTIAL EXPECTED oncogenic mut burden as if each signature were dominant alone\n",
    "def calculate_oncogenic_mut_susceptibility_of_genes_by_signature(oncogenicSDict):\n",
    "    listOfDicts = []\n",
    "    sigNames = ['Signature.' + str(i) for i in range(1,31)]\n",
    "    for i in range(1,31):\n",
    "        curSig = 'Signature.' + str(i)\n",
    "        d = {}\n",
    "        for s in sigNames:\n",
    "            d[s] = 0\n",
    "        d[curSig] = 1\n",
    "        #PRETEND we got a case with 100% signature i on the decomposition\n",
    "        quadNucFractions = mutation_modeling_util.get_quadnuc_fracs_given_decomposition(d, spectraPath = pathPrefix + '/ifs/work/taylorlab/friedman/noahFirstProject/signature_sig_copy/mutation-signatures/Stratton_signatures30.txt')\n",
    "        v = mutation_modeling_util.get_expected_oncogenic_val_given_quadnuc_fractions(quadNucFractions, oncogenicSDict, 'IMPACT_468')\n",
    "        listOfDicts.append({'Signature_Name': curSig, 'ExpectedFracOfMutsOncogenic': v})\n",
    "    return pd.DataFrame(listOfDicts)"
   ]
  },
  {
   "cell_type": "code",
   "execution_count": 3,
   "metadata": {},
   "outputs": [],
   "source": [
    "def expand_data_for_plot(infoDict, n=1250):\n",
    "    listOfDicts = []\n",
    "    for i in range(1,n):\n",
    "        if i%50==0:print i\n",
    "        nmut_mbIM6 = (i*1000000.0)/1139322\n",
    "        for key, value in infoDict.items():\n",
    "            listOfDicts.append({'Signature': key, 'Nmut_Expected': i*value, 'Nmut_Mb': nmut_mbIM6})\n",
    "    return pd.DataFrame(listOfDicts)"
   ]
  },
  {
   "cell_type": "code",
   "execution_count": 4,
   "metadata": {},
   "outputs": [],
   "source": [
    "def get_indel_frac_by_dominant_signature(sigs, maf):\n",
    "    d = {}\n",
    "    sigNames = ['mean_' + str(i) for i in range(1,31)]\n",
    "    for sig in sigNames:\n",
    "        sigIds = set(sigs[sigs['dominantSig'] == sig]['Tumor_Sample_Barcode'])\n",
    "        sigMuts = maf[maf['Tumor_Sample_Barcode'].isin(sigIds)]\n",
    "        sigName = re.sub('mean_', 'Signature.', sig )\n",
    "        d[sigName] = 1.0*sigMuts[(sigMuts['Variant_Type'] == 'INS') | (sigMuts['Variant_Type'] == 'DEL')].shape[0]/sigMuts.shape[0]\n",
    "    return d"
   ]
  },
  {
   "cell_type": "code",
   "execution_count": 130,
   "metadata": {},
   "outputs": [],
   "source": [
    "def calculate_oncogenicity_including_indel(row, indelFracDict):\n",
    "    mmrSigs = set(['Signature.6', 'Signature.15', 'Signature.16', 'Signature.20', 'Signature.21', 'Signature.26'])\n",
    "    indelOncogenicity = .3497\n",
    "    if row['Signature_Name'] in mmrSigs:\n",
    "        indelOncogenicity = .4856\n",
    "    indelFrac = 0.156\n",
    "    if row['Signature_Name'] in indelFracDict: indelFrac = indelFracDict[row['Signature_Name']]\n",
    "    return (1 - indelFrac)*row['ExpectedFracOfMutsOncogenic'] + indelFrac*indelOncogenicity"
   ]
  },
  {
   "cell_type": "code",
   "execution_count": 146,
   "metadata": {},
   "outputs": [
    {
     "data": {
      "text/plain": [
       "<module 'maf_analysis_utils' from '/Users/friedman/Desktop/mnt/ifs/work/taylorlab/friedman/myUtils/maf_analysis_utils.py'>"
      ]
     },
     "execution_count": 146,
     "metadata": {},
     "output_type": "execute_result"
    }
   ],
   "source": [
    "#reload(mutation_modeling_util)\n",
    "reload(maf_analysis_utils)"
   ]
  },
  {
   "cell_type": "markdown",
   "metadata": {},
   "source": [
    "**WORK AREA**"
   ]
  },
  {
   "cell_type": "code",
   "execution_count": 5,
   "metadata": {},
   "outputs": [
    {
     "name": "stderr",
     "output_type": "stream",
     "text": [
      "/anaconda2/lib/python2.7/site-packages/IPython/core/interactiveshell.py:2878: DtypeWarning: Columns (36) have mixed types. Specify dtype option on import or set low_memory=False.\n",
      "  exec(code_obj, self.user_global_ns, self.user_ns)\n"
     ]
    },
    {
     "name": "stdout",
     "output_type": "stream",
     "text": [
      "3.64 percent done\n",
      "7.27 percent done\n",
      "10.91 percent done\n",
      "14.55 percent done\n",
      "18.18 percent done\n",
      "21.82 percent done\n",
      "25.45 percent done\n",
      "29.09 percent done\n",
      "32.73 percent done\n",
      "36.36 percent done\n",
      "40.0 percent done\n",
      "43.64 percent done\n",
      "47.27 percent done\n",
      "50.91 percent done\n",
      "54.55 percent done\n",
      "58.18 percent done\n",
      "61.82 percent done\n",
      "65.45 percent done\n",
      "69.09 percent done\n"
     ]
    },
    {
     "name": "stderr",
     "output_type": "stream",
     "text": [
      "/anaconda2/lib/python2.7/site-packages/IPython/core/interactiveshell.py:2878: DtypeWarning: Columns (85) have mixed types. Specify dtype option on import or set low_memory=False.\n",
      "  exec(code_obj, self.user_global_ns, self.user_ns)\n"
     ]
    },
    {
     "name": "stdout",
     "output_type": "stream",
     "text": [
      "72.73 percent done\n",
      "76.36 percent done\n",
      "80.0 percent done\n"
     ]
    },
    {
     "name": "stderr",
     "output_type": "stream",
     "text": [
      "/anaconda2/lib/python2.7/site-packages/IPython/core/interactiveshell.py:2878: DtypeWarning: Columns (36,39,136) have mixed types. Specify dtype option on import or set low_memory=False.\n",
      "  exec(code_obj, self.user_global_ns, self.user_ns)\n"
     ]
    },
    {
     "name": "stdout",
     "output_type": "stream",
     "text": [
      "83.64 percent done\n"
     ]
    },
    {
     "name": "stderr",
     "output_type": "stream",
     "text": [
      "/anaconda2/lib/python2.7/site-packages/IPython/core/interactiveshell.py:2878: DtypeWarning: Columns (13,36) have mixed types. Specify dtype option on import or set low_memory=False.\n",
      "  exec(code_obj, self.user_global_ns, self.user_ns)\n"
     ]
    },
    {
     "name": "stdout",
     "output_type": "stream",
     "text": [
      "87.27 percent done\n"
     ]
    },
    {
     "name": "stderr",
     "output_type": "stream",
     "text": [
      "/anaconda2/lib/python2.7/site-packages/IPython/core/interactiveshell.py:2878: DtypeWarning: Columns (13) have mixed types. Specify dtype option on import or set low_memory=False.\n",
      "  exec(code_obj, self.user_global_ns, self.user_ns)\n"
     ]
    },
    {
     "name": "stdout",
     "output_type": "stream",
     "text": [
      "90.91 percent done\n",
      "94.55 percent done\n"
     ]
    },
    {
     "name": "stderr",
     "output_type": "stream",
     "text": [
      "/anaconda2/lib/python2.7/site-packages/IPython/core/interactiveshell.py:2878: DtypeWarning: Columns (39) have mixed types. Specify dtype option on import or set low_memory=False.\n",
      "  exec(code_obj, self.user_global_ns, self.user_ns)\n"
     ]
    },
    {
     "name": "stdout",
     "output_type": "stream",
     "text": [
      "98.18 percent done\n",
      "101.82 percent done\n",
      "performing big concat then returning\n"
     ]
    }
   ],
   "source": [
    "allImpactMuts = analysis_utils. load_in_df_with_progress(filePath = pathPrefix + '/ifs/work/taylorlab/friedman/hypermutationAnalysisProj/projectDataAndConfigFiles/all_impact_mutations_annotated_cohort.maf', nLinesFile = 275000)\n"
   ]
  },
  {
   "cell_type": "code",
   "execution_count": 5,
   "metadata": {},
   "outputs": [],
   "source": [
    "allImpactMuts['isFrameShiftIndel'] = allImpactMuts['Consequence'].apply(lambda x: True if x == 'frameshift_variant' else False)\n"
   ]
  },
  {
   "cell_type": "markdown",
   "metadata": {},
   "source": [
    "**LOAD in data about hypothetical mutatability**"
   ]
  },
  {
   "cell_type": "code",
   "execution_count": 131,
   "metadata": {},
   "outputs": [],
   "source": [
    "simOncogenicitySummary = pd.read_table(pathPrefix + '/ifs/work/taylorlab/friedman/hypermutationAnalysisProj/projectDataAndConfigFiles/simulatedMutationSummary.tsv')\n",
    "oncogenicSusceptibilityDict = mutation_modeling_util.calculate_quadnuc_based_oncogenic_susceptibility_dict(simOncogenicitySummary)\n"
   ]
  },
  {
   "cell_type": "code",
   "execution_count": 8,
   "metadata": {},
   "outputs": [],
   "source": [
    "oncogenicFracDf = calculate_oncogenic_mut_susceptibility_of_genes_by_signature(oncogenicSusceptibilityDict)\n",
    "mmrIndelOncogenicity = mutation_modeling_util.calculate_pan_impact_likelihood_of_oncogenic_mmr_indel(repeatRegionInfo = pathPrefix + '/ifs/work/taylorlab/friedman/hypermutationAnalysisProj/projectDataAndConfigFiles/IMPACT_repeat_stats.txt')\n",
    "mmr6OncSusceptibility = float(oncogenicFracDf[oncogenicFracDf['Signature_Name'] == 'Signature.6']['ExpectedFracOfMutsOncogenic'].iloc[0])\n"
   ]
  },
  {
   "cell_type": "markdown",
   "metadata": {},
   "source": [
    "**TEMP WORK AREA**"
   ]
  },
  {
   "cell_type": "code",
   "execution_count": 11,
   "metadata": {},
   "outputs": [],
   "source": [
    "repeatRegionInfo = pd.read_table(pathPrefix + '/ifs/work/taylorlab/friedman/hypermutationAnalysisProj/projectDataAndConfigFiles/IMPACT_repeat_stats.txt')"
   ]
  },
  {
   "cell_type": "code",
   "execution_count": 153,
   "metadata": {},
   "outputs": [
    {
     "data": {
      "text/plain": [
       "<module 'maf_analysis_utils' from '/Users/friedman/Desktop/mnt/ifs/work/taylorlab/friedman/myUtils/maf_analysis_utils.py'>"
      ]
     },
     "execution_count": 153,
     "metadata": {},
     "output_type": "execute_result"
    }
   ],
   "source": [
    "reload(maf_analysis_utils)"
   ]
  },
  {
   "cell_type": "code",
   "execution_count": 155,
   "metadata": {},
   "outputs": [],
   "source": [
    "#LOAD in cancer type info and add it to the maf_analysis_utils\n",
    "cDict = analysis_utils.get_cancer_type_information(cancerTypeDfPath = pathPrefix +'/ifs/work/taylorlab/friedman/mskImpactAsOfMarch2019/dmp/mskimpact/data_clinical_sample.txt')"
   ]
  },
  {
   "cell_type": "code",
   "execution_count": 160,
   "metadata": {},
   "outputs": [],
   "source": [
    "allImpactMuts['pid'] = allImpactMuts['Tumor_Sample_Barcode'].apply(lambda x: x[:9])\n",
    "allImpactMuts['cancer_type'] = allImpactMuts['pid'].apply(lambda x: cDict[x] if x in cDict else None)"
   ]
  },
  {
   "cell_type": "code",
   "execution_count": null,
   "metadata": {},
   "outputs": [],
   "source": [
    "reload(maf_analysis_utils)\n",
    "df = maf_analysis_utils.summarize_oncogenic_mutation_info(allImpactMuts, pathPrefix='/Users/friedman/Desktop/mnt/')"
   ]
  },
  {
   "cell_type": "code",
   "execution_count": 228,
   "metadata": {},
   "outputs": [],
   "source": [
    "result.to_csv('/Users/friedman/Desktop/WORK/dataForLocalPlotting/temp.tsv', index=False, sep='\\t')"
   ]
  },
  {
   "cell_type": "code",
   "execution_count": 184,
   "metadata": {},
   "outputs": [],
   "source": [
    "observedVsExpectedDf = pd.read_table('~/Desktop/mnt/ifs/work/taylorlab/friedman/myAdjustedDataFiles/observedVsExpectedData.tsv')"
   ]
  },
  {
   "cell_type": "code",
   "execution_count": 227,
   "metadata": {
    "scrolled": true
   },
   "outputs": [],
   "source": [
    "result = pd.merge(df, observedVsExpectedDf, on='Tumor_Sample_Barcode')"
   ]
  },
  {
   "cell_type": "code",
   "execution_count": 231,
   "metadata": {},
   "outputs": [
    {
     "name": "stdout",
     "output_type": "stream",
     "text": [
      "30724\n"
     ]
    }
   ],
   "source": [
    "print len(set(allImpactMuts[allImpactMuts['oncogenic'].notnull()]['HGVSp_Short']))"
   ]
  },
  {
   "cell_type": "markdown",
   "metadata": {},
   "source": [
    "**THIS IS A TEMPORARY BORDER**"
   ]
  },
  {
   "cell_type": "code",
   "execution_count": null,
   "metadata": {
    "scrolled": false
   },
   "outputs": [],
   "source": [
    "#DONT USE THIS FILE ACTUALLY\n",
    "filepath = pathPrefix + '/ifs/work/taylorlab/friedman/myAdjustedDataFiles/simulatedMafs/allmut_impact_simulated_muts_mafAnno_trinuc_v2.maf'\n",
    "#get a realistic time estimate for read table\n",
    "\n",
    "nPossibleImpactMuts = 5008844\n",
    "allPossibleMutMaf = analysis_utils.load_in_df_with_progress(filepath, nPossibleImpactMuts)\n",
    "\n"
   ]
  },
  {
   "cell_type": "code",
   "execution_count": 15,
   "metadata": {},
   "outputs": [],
   "source": [
    "simDfSummary = pd.read_table(pathPrefix + '/ifs/work/taylorlab/friedman/hypermutationAnalysisProj/projectDataAndConfigFiles/simulatedMutationSummary.tsv')"
   ]
  },
  {
   "cell_type": "code",
   "execution_count": 22,
   "metadata": {},
   "outputs": [
    {
     "name": "stdout",
     "output_type": "stream",
     "text": [
      "3430366\n"
     ]
    }
   ],
   "source": [
    "allPossibleQuadNucs = [firstNuc + change + lastNuc for firstNuc in ['A', 'T', 'C', 'G'] for change in ['CA', 'CG', 'CT', 'TA', 'TC', 'TG'] for lastNuc in ['A', 'T', 'C', 'G']]\n",
    "s = 0\n",
    "for q in allPossibleQuadNucs:\n",
    "    s += sum(simDfSummary[q]) - sum(simDfSummary[q + '_silent'])\n",
    "print s"
   ]
  },
  {
   "cell_type": "code",
   "execution_count": 26,
   "metadata": {},
   "outputs": [],
   "source": [
    "oncogenicSusceptibilityDict = mutation_modeling_util.calculate_quadnuc_based_oncogenic_susceptibility_dict(simDfSummary)"
   ]
  },
  {
   "cell_type": "code",
   "execution_count": null,
   "metadata": {},
   "outputs": [],
   "source": []
  }
 ],
 "metadata": {
  "kernelspec": {
   "display_name": "Python 2",
   "language": "python",
   "name": "python2"
  },
  "language_info": {
   "codemirror_mode": {
    "name": "ipython",
    "version": 2
   },
   "file_extension": ".py",
   "mimetype": "text/x-python",
   "name": "python",
   "nbconvert_exporter": "python",
   "pygments_lexer": "ipython2",
   "version": "2.7.15"
  }
 },
 "nbformat": 4,
 "nbformat_minor": 2
}
