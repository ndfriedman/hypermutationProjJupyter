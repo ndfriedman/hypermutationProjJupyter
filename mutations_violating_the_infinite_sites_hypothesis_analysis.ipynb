{
 "cells": [
  {
   "cell_type": "code",
   "execution_count": 4,
   "metadata": {},
   "outputs": [],
   "source": [
    "import sys\n",
    "import argparse\n",
    "import os\n",
    "import pandas as pd\n",
    "import numpy as np\n",
    "import numpy\n",
    "\n",
    "from collections import Counter\n",
    "\n",
    "pathPrefix = '/Users/friedman/Desktop/mnt/'\n",
    "\n",
    "sys.path.append(pathPrefix + '/ifs/work/taylorlab/friedman/myUtils')\n",
    "import analysis_utils \n",
    "import mutationSigUtils \n",
    "import maf_analysis_utils\n",
    "import clonality_analysis_util\n"
   ]
  },
  {
   "cell_type": "code",
   "execution_count": 2,
   "metadata": {},
   "outputs": [],
   "source": [
    "def compare_vafs(maf, referenceCohortMaf):\n",
    "    \n",
    "    returnDict = {'allMutations': [], 'allOncogenicMutations':[],\n",
    "                  'allRecurrentTumorSuppressors': [], 'oncogenicRecurrentTumorSuppresors': [],\n",
    "                  'allRecurrentOncogenes': [], 'oncogenicRecurrentOncogenes': []}\n",
    "    \n",
    "    recurrentTumorSupressors, recurrentOncogenes = maf_analysis_utils.enumerate_recurrently_mutated_tumor_supressors_and_oncogenes(referenceCohortMaf, thresh=.05)\n",
    "    oncogenicMutColNames = set(['Likely Oncogenic', 'Oncogenic', 'Predicted Oncogenic'])\n",
    "    cases = set(maf['Tumor_Sample_Barcode'])\n",
    "    genes = set(maf['Hugo_Symbol'])\n",
    "    \n",
    "    print recurrentOncogenes\n",
    "    \n",
    "    for case in cases:\n",
    "        print case\n",
    "        #for gene in genes:\n",
    "         #   geneMaf = maf[maf['Hugo_Symbol'] == gene]\n",
    "            #here are all the cases/areas we look at\n",
    "        caseMafAllMuts = maf[maf['Tumor_Sample_Barcode'] == case]\n",
    "        #caseMafAllMuts = geneMaf[geneMaf['Tumor_Sample_Barcode'] == case]\n",
    "        \n",
    "        caseMafAllOncogenicMuts = caseMafAllMuts[caseMafAllMuts['oncogenic'].isin(oncogenicMutColNames)]\n",
    "        caseMafAllReccurentTumorSuppressors = caseMafAllMuts[caseMafAllMuts['Hugo_Symbol'].isin(recurrentTumorSupressors)]\n",
    "        caseMafOncogenicRecurrentTumorSuppresors = caseMafAllReccurentTumorSuppressors[caseMafAllReccurentTumorSuppressors['oncogenic'].isin(oncogenicMutColNames)]\n",
    "        caseMafAllRecurrentOncogenes = caseMafAllMuts[caseMafAllMuts['Hugo_Symbol'].isin(recurrentOncogenes)]\n",
    "        caseMafOncogenicRecurrentOncogenes = caseMafAllRecurrentOncogenes[caseMafAllRecurrentOncogenes['oncogenic'].isin(oncogenicMutColNames)]\n",
    "        \n",
    "        #add information to our return dict\n",
    "        returnDict['allMutations'] = returnDict['allMutations'] + analysis_utils.calculate_all_pairwise_differences(np.array(list(caseMafAllMuts['ccf_Mcopies'])))\n",
    "        returnDict['allOncogenicMutations'] = returnDict['allOncogenicMutations'] + analysis_utils.calculate_all_pairwise_differences(np.array(list(caseMafAllOncogenicMuts['ccf_Mcopies'])))\n",
    "        returnDict['allRecurrentTumorSuppressors'] = returnDict['allRecurrentTumorSuppressors'] + analysis_utils.calculate_all_pairwise_differences(np.array(list(caseMafAllReccurentTumorSuppressors['ccf_Mcopies'])))\n",
    "        returnDict['oncogenicRecurrentTumorSuppresors'] = returnDict['oncogenicRecurrentTumorSuppresors'] + analysis_utils.calculate_all_pairwise_differences(np.array(list(caseMafOncogenicRecurrentTumorSuppresors['ccf_Mcopies'])))\n",
    "        returnDict['allRecurrentOncogenes'] = returnDict['allRecurrentOncogenes'] + analysis_utils.calculate_all_pairwise_differences(np.array(list(caseMafAllRecurrentOncogenes['ccf_Mcopies'])))\n",
    "        returnDict['oncogenicRecurrentOncogenes'] = returnDict['oncogenicRecurrentOncogenes'] + analysis_utils.calculate_all_pairwise_differences(np.array(list(caseMafOncogenicRecurrentOncogenes['ccf_Mcopies'])))\n",
    "        \n",
    "    return returnDict"
   ]
  },
  {
   "cell_type": "code",
   "execution_count": 1,
   "metadata": {},
   "outputs": [],
   "source": [
    "def create_two_hit_mutation_summary(df, alleleCountThresh =5, doubleThresh=1.75):\n",
    "    \n",
    "    tumorSuppressors = set(['ERRFI1', 'ASXL2', 'PMAIP1', 'ACTG1', 'SUFU', 'FBXO11', 'MEN1', 'FAM58A', 'B2M', 'RB1', 'DUSP22', 'SESN1', 'GPS2', 'RAD51D', 'SMG1', 'CDC73', 'MAP3K1', 'SMARCB1', 'INPP4B', 'PARK2', 'SMAD4', 'CBFB', 'CDH1', 'PPP6C', 'SETDB1', 'SETDB2', 'NF2', 'CDKN2B', 'CDKN2C', 'CDKN2A', 'DDX3X', 'PIK3R1', 'BARD1', 'PDS5B', 'KLF4', 'SPRED1', 'VHL', 'SMAD2', 'PMS1', 'PMS2', 'SETD2', 'GATA3', 'TBL1XR1', 'MUTYH', 'SOCS1', 'FAM175A', 'ROBO1', 'ARID1B', 'ARID1A', 'TCF7L2', 'STK11', 'FOXA1', 'PTEN', 'FAT1', 'FAS', 'CYLD', 'MAX', 'SH2D1A', 'APC', 'NTHL1', 'CTCF', 'KDM5C', 'KMT2C', 'ZFHX3', 'FOXP1', 'PIGA', 'CDKN1B', 'CDKN1A', 'FUBP1', 'MSH2', 'ID3', 'TNFRSF14', 'TRAF3', 'EP400', 'BRIP1', 'ARID4A', 'ARID4B', 'XRCC2', 'DAXX', 'SDHAF2', 'ASXL1', 'AMER1', 'RASA1', 'EGR1', 'MST1', 'SOX17', 'RUNX1', 'PIK3R3', 'NCOR1', 'NF1', 'JAK1', 'PTPRD', 'CHEK2', 'CHEK1', 'SMC1A', 'TMEM127', 'STAG1', 'RAD51', 'TCF3', 'STAG2', 'ARID2', 'RAD50', 'RNF43', 'PARP1', 'BLM', 'CUX1', 'RECQL', 'RAD21', 'PTPN2', 'PTPN1', 'SLX4', 'INHA', 'PAX5', 'IRF1', 'TP53', 'HLA-A', 'IRF8', 'CBL', 'TOP1', 'SHQ1', 'PRDM1', 'NSD1', 'ATXN2', 'CREBBP', 'HDAC4', 'SESN2', 'PPP2R1A', 'EPHA7', 'ATM', 'EPHA3', 'POT1', 'SMAD3', 'MOB3B', 'TBX3', 'POLE', 'ATR', 'FANCD2', 'FH', 'BCORL1', 'SOX9', 'IKZF3', 'TSC1', 'TP63', 'MRE11A', 'SDHC', 'BTG1', 'POLD1', 'CIITA', 'SMC3', 'SAMHD1', 'RTEL1', 'ECT2L', 'PIK3R2', 'CRBN', 'FANCC', 'NBN', 'FANCA', 'HLA-B', 'RECQL4', 'DUSP4', 'ERCC2', 'FBXW7', 'TGFBR2', 'TGFBR1', 'MSH3', 'RBM15', 'TET1', 'TET3', 'SESN3', 'MGA', 'LTB', 'FOXL2', 'SH2B3', 'BCOR', 'HIST1H1D', 'ATRX', 'EP300', 'RAD51C', 'RAD51B', 'HIST1H1B', 'TNFAIP3', 'DICER1', 'ARID5B', 'LATS2', 'FOXO1', 'KEAP1', 'EZH2', 'SP140', 'NKX3-1', 'PBRM1', 'PALB2', 'CIC', 'BRCA1', 'DTX1', 'FLCN', 'SPEN', 'CD58', 'ERCC3', 'ERCC4', 'MSH6', 'BCL11B', 'BMPR1A', 'ERF', 'BRCA2', 'NOTCH2', 'EED', 'MITF', 'ELF3', 'SMARCA4', 'BBC3', 'ANKRD11', 'CEBPA', 'BCL2L11', 'AXIN2', 'AXIN1', 'CDK12', 'ESCO2', 'MLH1', 'SDHB', 'MED12', 'HNF1A', 'RYBP', 'ATP6V1B2', 'DNMT3B', 'KMT2B', 'KMT2A', 'DNMT3A', 'NFKBIA', 'TRAF5', 'KMT2D', 'SPOP', 'RBM10', 'P2RY8', 'TP53BP1', 'TSC2', 'KDM6A', 'EPCAM', 'PHOX2B', 'NPM1', 'BCL10', 'LATS1', 'HOXB13', 'ARID3A', 'PTPRT', 'PTPRS', 'INPPL1', 'NOTCH4', 'TET2', 'NOTCH1', 'CASP8', 'NOTCH3', 'GRIN2A', 'MAP2K4', 'WT1', 'BACH2', 'SDHA', 'BAP1', 'PTCH1', 'SDHD'])\n",
    "    \n",
    "    listOfDicts = []\n",
    "    #PROCESS THE MAF AS NEEDED\n",
    "    df = maf_analysis_utils.fix_mll_genes(df)\n",
    "    df = maf_analysis_utils.mark_cases_with_flat_genomes(df)\n",
    "    df = maf_analysis_utils.mark_cases_with_median_clonal_vaf_of_case(df)\n",
    "    df = df[df['oncogenic'].notnull()]\n",
    "    df = df[df['HGVSp_Short'].notnull()]\n",
    "    \n",
    "    df['isDouble'] = df.apply(lambda row: clonality_analysis_util.is_mut_double_hit(row, row['FlatGenome'], doubleThresh), axis=1)\n",
    "                                                                              \n",
    "    dictOfMuts = dict(Counter(df[df['isDouble'] == True]['Hugo_Symbol']))\n",
    "    for gene, count in dictOfMuts.items():\n",
    "        if count > 1:\n",
    "            for allele, aCount in Counter(df[(df['Hugo_Symbol'] == gene) & (df['isDouble'] == True)]['HGVSp_Short']).items():\n",
    "                indel = False\n",
    "                if '*' in allele: indel = True\n",
    "                mutType = 'oncogene'\n",
    "                if gene in tumorSuppressors: mutType = 'tumor_suppresor'\n",
    "                d = {'Gene': gene, 'Hugo_Symbol':gene, 'Allele': allele, 'AlleleCount': aCount, 'count': count, 'orderingVal': count, 'indel':indel, 'mutType': mutType}\n",
    "                listOfDicts.append(d)\n",
    "        else: #PROCESS DATA SEPARATELY FOR ONE OFF ALELLES\n",
    "            allele = df[(df['Hugo_Symbol'] == gene) & (df['isDouble'] == True)].iloc[0]['HGVSp_Short']\n",
    "            indel = False\n",
    "            if '*' in allele: indel = True\n",
    "            mutType = 'oncogene'\n",
    "            if gene in tumorSuppressors: mutType = 'tumor_suppresor'\n",
    "            d = {'Gene': 'other', 'Hugo_Symbol':gene, 'Allele': allele, 'AlleleCount': 1, 'count': 1, 'orderingVal': -1, 'indel':indel, 'mutType': mutType}\n",
    "            listOfDicts.append(d)\n",
    "    \n",
    "    df = pd.DataFrame(listOfDicts)\n",
    "    df['label'] = df.apply(lambda row: row['Allele'] if row['AlleleCount'] >= alleleCountThresh and row['Allele'] != 'various' else None, axis=1)\n",
    "    return df"
   ]
  },
  {
   "cell_type": "code",
   "execution_count": 3,
   "metadata": {},
   "outputs": [
    {
     "ename": "NameError",
     "evalue": "name 'pd' is not defined",
     "output_type": "error",
     "traceback": [
      "\u001b[0;31m---------------------------------------------------------------------------\u001b[0m",
      "\u001b[0;31mNameError\u001b[0m                                 Traceback (most recent call last)",
      "\u001b[0;32m<ipython-input-3-69e39d3a0658>\u001b[0m in \u001b[0;36m<module>\u001b[0;34m()\u001b[0m\n\u001b[0;32m----> 1\u001b[0;31m \u001b[0mcolorectalDf\u001b[0m \u001b[0;34m=\u001b[0m \u001b[0mpd\u001b[0m\u001b[0;34m.\u001b[0m\u001b[0mread_table\u001b[0m\u001b[0;34m(\u001b[0m\u001b[0mpathPrefix\u001b[0m \u001b[0;34m+\u001b[0m \u001b[0;34m'/ifs/work/taylorlab/friedman/myAdjustedDataFiles/subsettedMafs/Colorectal_HypermutantCaseMuts_MAF_ANNO_trinuc.maf'\u001b[0m\u001b[0;34m)\u001b[0m\u001b[0;34m\u001b[0m\u001b[0m\n\u001b[0m\u001b[1;32m      2\u001b[0m \u001b[0mendometrialDf\u001b[0m \u001b[0;34m=\u001b[0m \u001b[0mpd\u001b[0m\u001b[0;34m.\u001b[0m\u001b[0mread_table\u001b[0m\u001b[0;34m(\u001b[0m\u001b[0mpathPrefix\u001b[0m \u001b[0;34m+\u001b[0m \u001b[0;34m'/ifs/work/taylorlab/friedman/myAdjustedDataFiles/subsettedMafs/Endometrial_HypermutantCaseMuts_MAF_ANNO_trinuc.maf'\u001b[0m\u001b[0;34m)\u001b[0m\u001b[0;34m\u001b[0m\u001b[0m\n\u001b[1;32m      3\u001b[0m \u001b[0mgliomaDf\u001b[0m \u001b[0;34m=\u001b[0m \u001b[0mpd\u001b[0m\u001b[0;34m.\u001b[0m\u001b[0mread_table\u001b[0m\u001b[0;34m(\u001b[0m\u001b[0mpathPrefix\u001b[0m \u001b[0;34m+\u001b[0m \u001b[0;34m'/ifs/work/taylorlab/friedman/myAdjustedDataFiles/subsettedMafs/Glioma_HypermutantCaseMuts_MAF_ANNO_trinuc.maf'\u001b[0m\u001b[0;34m)\u001b[0m\u001b[0;34m\u001b[0m\u001b[0m\n",
      "\u001b[0;31mNameError\u001b[0m: name 'pd' is not defined"
     ]
    }
   ],
   "source": [
    "colorectalDf = pd.read_table(pathPrefix + '/ifs/work/taylorlab/friedman/myAdjustedDataFiles/subsettedMafs/Colorectal_HypermutantCaseMuts_MAF_ANNO_trinuc.maf')\n",
    "endometrialDf = pd.read_table(pathPrefix + '/ifs/work/taylorlab/friedman/myAdjustedDataFiles/subsettedMafs/Endometrial_HypermutantCaseMuts_MAF_ANNO_trinuc.maf')\n",
    "gliomaDf = pd.read_table(pathPrefix + '/ifs/work/taylorlab/friedman/myAdjustedDataFiles/subsettedMafs/Glioma_HypermutantCaseMuts_MAF_ANNO_trinuc.maf')\n"
   ]
  },
  {
   "cell_type": "code",
   "execution_count": 109,
   "metadata": {},
   "outputs": [],
   "source": [
    "endoSummary = create_two_hit_mutation_summary(endometrialDf)\n",
    "colorectalSummary =  create_two_hit_mutation_summary(colorectalDf)\n",
    "gliomaSummary =  create_two_hit_mutation_summary(gliomaDf)"
   ]
  },
  {
   "cell_type": "code",
   "execution_count": 58,
   "metadata": {},
   "outputs": [],
   "source": [
    "endoSummary.to_csv('~/Desktop/WORK/dataForLocalPlotting/endometrialDoubleHitPlotting.tsv', index=False, sep='\\t')\n",
    "colorectalSummary.to_csv('~/Desktop/WORK/dataForLocalPlotting/colorectalDoubleHitPlotting.tsv', index=False, sep='\\t')\n",
    "gliomaSummary.to_csv('~/Desktop/WORK/dataForLocalPlotting/gliomaDoubleHitPlotting.tsv', index=False, sep='\\t')"
   ]
  },
  {
   "cell_type": "code",
   "execution_count": 67,
   "metadata": {},
   "outputs": [],
   "source": [
    "def summarize_gene_mut_features_of_double_hit_muts(df):\n",
    "    tumorSuppressors = set(['ERRFI1', 'ASXL2', 'PMAIP1', 'ACTG1', 'SUFU', 'FBXO11', 'MEN1', 'FAM58A', 'B2M', 'RB1', 'DUSP22', 'SESN1', 'GPS2', 'RAD51D', 'SMG1', 'CDC73', 'MAP3K1', 'SMARCB1', 'INPP4B', 'PARK2', 'SMAD4', 'CBFB', 'CDH1', 'PPP6C', 'SETDB1', 'SETDB2', 'NF2', 'CDKN2B', 'CDKN2C', 'CDKN2A', 'DDX3X', 'PIK3R1', 'BARD1', 'PDS5B', 'KLF4', 'SPRED1', 'VHL', 'SMAD2', 'PMS1', 'PMS2', 'SETD2', 'GATA3', 'TBL1XR1', 'MUTYH', 'SOCS1', 'FAM175A', 'ROBO1', 'ARID1B', 'ARID1A', 'TCF7L2', 'STK11', 'FOXA1', 'PTEN', 'FAT1', 'FAS', 'CYLD', 'MAX', 'SH2D1A', 'APC', 'NTHL1', 'CTCF', 'KDM5C', 'KMT2C', 'ZFHX3', 'FOXP1', 'PIGA', 'CDKN1B', 'CDKN1A', 'FUBP1', 'MSH2', 'ID3', 'TNFRSF14', 'TRAF3', 'EP400', 'BRIP1', 'ARID4A', 'ARID4B', 'XRCC2', 'DAXX', 'SDHAF2', 'ASXL1', 'AMER1', 'RASA1', 'EGR1', 'MST1', 'SOX17', 'RUNX1', 'PIK3R3', 'NCOR1', 'NF1', 'JAK1', 'PTPRD', 'CHEK2', 'CHEK1', 'SMC1A', 'TMEM127', 'STAG1', 'RAD51', 'TCF3', 'STAG2', 'ARID2', 'RAD50', 'RNF43', 'PARP1', 'BLM', 'CUX1', 'RECQL', 'RAD21', 'PTPN2', 'PTPN1', 'SLX4', 'INHA', 'PAX5', 'IRF1', 'TP53', 'HLA-A', 'IRF8', 'CBL', 'TOP1', 'SHQ1', 'PRDM1', 'NSD1', 'ATXN2', 'CREBBP', 'HDAC4', 'SESN2', 'PPP2R1A', 'EPHA7', 'ATM', 'EPHA3', 'POT1', 'SMAD3', 'MOB3B', 'TBX3', 'POLE', 'ATR', 'FANCD2', 'FH', 'BCORL1', 'SOX9', 'IKZF3', 'TSC1', 'TP63', 'MRE11A', 'SDHC', 'BTG1', 'POLD1', 'CIITA', 'SMC3', 'SAMHD1', 'RTEL1', 'ECT2L', 'PIK3R2', 'CRBN', 'FANCC', 'NBN', 'FANCA', 'HLA-B', 'RECQL4', 'DUSP4', 'ERCC2', 'FBXW7', 'TGFBR2', 'TGFBR1', 'MSH3', 'RBM15', 'TET1', 'TET3', 'SESN3', 'MGA', 'LTB', 'FOXL2', 'SH2B3', 'BCOR', 'HIST1H1D', 'ATRX', 'EP300', 'RAD51C', 'RAD51B', 'HIST1H1B', 'TNFAIP3', 'DICER1', 'ARID5B', 'LATS2', 'FOXO1', 'KEAP1', 'EZH2', 'SP140', 'NKX3-1', 'PBRM1', 'PALB2', 'CIC', 'BRCA1', 'DTX1', 'FLCN', 'SPEN', 'CD58', 'ERCC3', 'ERCC4', 'MSH6', 'BCL11B', 'BMPR1A', 'ERF', 'BRCA2', 'NOTCH2', 'EED', 'MITF', 'ELF3', 'SMARCA4', 'BBC3', 'ANKRD11', 'CEBPA', 'BCL2L11', 'AXIN2', 'AXIN1', 'CDK12', 'ESCO2', 'MLH1', 'SDHB', 'MED12', 'HNF1A', 'RYBP', 'ATP6V1B2', 'DNMT3B', 'KMT2B', 'KMT2A', 'DNMT3A', 'NFKBIA', 'TRAF5', 'KMT2D', 'SPOP', 'RBM10', 'P2RY8', 'TP53BP1', 'TSC2', 'KDM6A', 'EPCAM', 'PHOX2B', 'NPM1', 'BCL10', 'LATS1', 'HOXB13', 'ARID3A', 'PTPRT', 'PTPRS', 'INPPL1', 'NOTCH4', 'TET2', 'NOTCH1', 'CASP8', 'NOTCH3', 'GRIN2A', 'MAP2K4', 'WT1', 'BACH2', 'SDHA', 'BAP1', 'PTCH1', 'SDHD'])\n",
    "    df = df[df['Gene'] != 'other']\n",
    "    nTumorSuppresors = df[df['Hugo_Symbol'].isin(tumorSuppressors)].shape[0]\n",
    "    print 'Oncogenes ', df.shape[0] - nTumorSuppresors, 'Tumor Suppressors: ', nTumorSuppresors\n",
    "    print Counter(df[~df['Hugo_Symbol'].isin(tumorSuppressors)]['Hugo_Symbol'])\n"
   ]
  },
  {
   "cell_type": "code",
   "execution_count": 5,
   "metadata": {},
   "outputs": [
    {
     "ename": "NameError",
     "evalue": "name 'endoSummary' is not defined",
     "output_type": "error",
     "traceback": [
      "\u001b[0;31m---------------------------------------------------------------------------\u001b[0m",
      "\u001b[0;31mNameError\u001b[0m                                 Traceback (most recent call last)",
      "\u001b[0;32m<ipython-input-5-1c2803f91c6e>\u001b[0m in \u001b[0;36m<module>\u001b[0;34m()\u001b[0m\n\u001b[0;32m----> 1\u001b[0;31m \u001b[0mcombinedDf\u001b[0m \u001b[0;34m=\u001b[0m \u001b[0mpd\u001b[0m\u001b[0;34m.\u001b[0m\u001b[0mconcat\u001b[0m\u001b[0;34m(\u001b[0m\u001b[0;34m[\u001b[0m\u001b[0mendoSummary\u001b[0m\u001b[0;34m,\u001b[0m \u001b[0mcolorectalSummary\u001b[0m\u001b[0;34m]\u001b[0m\u001b[0;34m)\u001b[0m\u001b[0;34m\u001b[0m\u001b[0m\n\u001b[0m\u001b[1;32m      2\u001b[0m \u001b[0mcombinedDf\u001b[0m\u001b[0;34m.\u001b[0m\u001b[0mto_csv\u001b[0m\u001b[0;34m(\u001b[0m\u001b[0;34m'~/Desktop/WORK/dataForLocalPlotting/combinedDoubleHitPlotting.tsv'\u001b[0m\u001b[0;34m,\u001b[0m \u001b[0mindex\u001b[0m\u001b[0;34m=\u001b[0m\u001b[0mFalse\u001b[0m\u001b[0;34m,\u001b[0m \u001b[0msep\u001b[0m\u001b[0;34m=\u001b[0m\u001b[0;34m'\\t'\u001b[0m\u001b[0;34m)\u001b[0m\u001b[0;34m\u001b[0m\u001b[0m\n",
      "\u001b[0;31mNameError\u001b[0m: name 'endoSummary' is not defined"
     ]
    }
   ],
   "source": [
    "combinedDf = pd.concat([endoSummary, colorectalSummary])\n",
    "combinedDf.to_csv('~/Desktop/WORK/dataForLocalPlotting/combinedDoubleHitPlotting.tsv', index=False, sep='\\t')"
   ]
  },
  {
   "cell_type": "code",
   "execution_count": 6,
   "metadata": {},
   "outputs": [],
   "source": [
    "endoColorectalMaf = pd.concat([colorectalDf, endometrialDf])\n",
    "endoColorectalMaf['quadNuc'] = endoColorectalMaf.apply(lambda row: mutationSigUtils.create_reference_four_nuc(row['Ref_Tri'], row['Reference_Allele'], row['Tumor_Seq_Allele2'], row['Variant_Type']), axis=1)\n"
   ]
  },
  {
   "cell_type": "code",
   "execution_count": 141,
   "metadata": {},
   "outputs": [],
   "source": [
    "def summarize_mutation_motif_info_of_mvish_muts(maf, df):\n",
    "    \n",
    "    poleMotifs = set(['TCAT', 'TCAA', 'TCTG', 'TCTT'])\n",
    "    \n",
    "    listOfDicts = []\n",
    "    for hgvs in set(df['Allele']):\n",
    "        quadNucs = maf[(maf['HGVSp_Short'] == hgvs) & (maf['isDouble'] == True)]['quadNuc']\n",
    "        for q in quadNucs:\n",
    "            if q == None:\n",
    "                listOfDicts.append({'motif': 'MSI indel', 'orderingVal': 1})\n",
    "            elif q in poleMotifs:\n",
    "                listOfDicts.append({'motif': 'POLE', 'orderingVal': 2})\n",
    "            else:\n",
    "                listOfDicts.append({'motif': 'other', 'orderingVal': 3})\n",
    "    return pd.DataFrame(listOfDicts)\n"
   ]
  },
  {
   "cell_type": "code",
   "execution_count": 7,
   "metadata": {},
   "outputs": [
    {
     "name": "stderr",
     "output_type": "stream",
     "text": [
      "/Users/friedman/Desktop/mnt//ifs/work/taylorlab/friedman/myUtils/maf_analysis_utils.py:100: SettingWithCopyWarning: \n",
      "A value is trying to be set on a copy of a slice from a DataFrame.\n",
      "Try using .loc[row_indexer,col_indexer] = value instead\n",
      "\n",
      "See the caveats in the documentation: http://pandas.pydata.org/pandas-docs/stable/indexing.html#indexing-view-versus-copy\n",
      "  caseMaf['clonal'] = caseMaf['ccf_expected_upper_em'].apply(lambda x: 1 if x > clonalThresh else 0)\n",
      "/anaconda2/lib/python2.7/site-packages/numpy/lib/nanfunctions.py:1019: RuntimeWarning: Mean of empty slice\n",
      "  return np.nanmean(a, axis, out=out, keepdims=keepdims)\n"
     ]
    }
   ],
   "source": [
    "endoColorectalMaf = maf_analysis_utils.fix_mll_genes(endoColorectalMaf)\n",
    "endoColorectalMaf = maf_analysis_utils.mark_cases_with_flat_genomes(endoColorectalMaf)\n",
    "endoColorectalMaf = maf_analysis_utils.mark_cases_with_median_clonal_vaf_of_case(endoColorectalMaf)\n",
    "endoColorectalMaf = endoColorectalMaf[endoColorectalMaf['oncogenic'].notnull()]\n",
    "endoColorectalMaf = endoColorectalMaf[endoColorectalMaf['HGVSp_Short'].notnull()]\n",
    "    \n",
    "endoColorectalMaf['isDouble'] = endoColorectalMaf.apply(lambda row: clonality_analysis_util.is_mut_double_hit(row, row['FlatGenome'], 1.75), axis=1)\n",
    "    "
   ]
  },
  {
   "cell_type": "code",
   "execution_count": 142,
   "metadata": {},
   "outputs": [],
   "source": [
    "df = summarize_mutation_motif_info_of_mvish_muts(endoColorectalMaf, combinedDf)\n"
   ]
  },
  {
   "cell_type": "code",
   "execution_count": 144,
   "metadata": {},
   "outputs": [],
   "source": [
    "df.to_csv('/Users/friedman/Desktop/WORK/dataForLocalPlotting/MVISH_by_motif.tsv', index=False, sep='\\t')"
   ]
  },
  {
   "cell_type": "markdown",
   "metadata": {},
   "source": [
    "**Do all impact summaries of double spot mutation** <br/>  <br/>"
   ]
  },
  {
   "cell_type": "code",
   "execution_count": 14,
   "metadata": {},
   "outputs": [
    {
     "name": "stdout",
     "output_type": "stream",
     "text": [
      "Counter({'RNF43_p.G659Vfs*41': 44, 'TCF7L2_p.K468Sfs*23': 14, 'MSH3_p.K383Rfs*32': 12, 'JAK1_p.K860Nfs*16': 10, 'PTEN_p.K267Rfs*9': 6, 'TGFBR2_p.K153Afs*3': 5, 'INPPL1_p.R1156Gfs*46': 4, 'ASXL1_p.G645Vfs*58': 3, 'KMT2C_p.X2481_splice': 2, 'TP53BP1_p.X1769_splice': 2, 'B2M_p.V69Wfs*34': 2, 'APC_p.T1556Nfs*3': 2, 'KMT2D_p.X2683_splice': 2, 'FLCN_p.H429Tfs*39': 2, 'ERF_p.G299Efs*12': 1, 'HLA-A_p.W157*': 1, 'EP300_p.H2324Tfs*29': 1, 'TGFBR2_p.K153Sfs*35': 1, 'APC_p.R856Nfs*6': 1, 'NF1_p.R1362*': 1, 'FUBP1_p.S11Lfs*43': 1, 'CYLD_p.N719Mfs*13': 1, 'ASXL2_p.X135_splice': 1, 'SOCS1_p.P36Vfs*75': 1, 'CIC_p.P1248Hfs*54': 1, 'NF1_p.N78Ifs*7': 1, 'ARID1A_p.P224Rfs*8': 1, 'ATM_p.K2811Sfs*46': 1, 'TSC1_p.R420Gfs*20': 1, 'KMT2C_p.K2797Rfs*26': 1, 'CREBBP_p.X608_splice': 1, 'MSH6_p.F1088Lfs*5': 1, 'APC_p.R2204*': 1, 'TP53_p.V73Wfs*50': 1, 'PIK3R1_p.R348*': 1, 'RAD50_p.K722Rfs*14': 1, 'PTEN_p.R130Q': 1, 'MSH6_p.E1322*': 1, 'MGA_p.E1249Rfs*42': 1, 'HNF1A_p.P291Qfs*51': 1, 'HLA-B_p.X25_splice': 1, 'NF1_p.I679Dfs*21': 1, 'ARID1A_p.D1850Tfs*33': 1, 'SMAD4_p.R361C': 1, 'CTNNB1_p.S45F': 1, 'B2M_p.L15Ffs*41': 1, 'PTEN_p.X267_splice': 1, 'DICER1_p.X504_splice': 1, 'PTEN_p.R173C': 1, 'DICER1_p.X301_splice': 1, 'JAK2_*505*': 1, 'B2M_p.T93Lfs*10': 1, 'NF1_p.Y628Tfs*3': 1, 'PTPRD_p.X1751_splice': 1, 'PTEN_p.D268Gfs*30': 1, 'TOP1_p.R140*': 1})\n"
     ]
    }
   ],
   "source": [
    "endoColorectalMaf['allele'] = endoColorectalMaf.apply(lambda row: row['Hugo_Symbol'] + '_' + row['HGVSp_Short'], axis=1)\n",
    "observedDoubleMuts = Counter(endoColorectalMaf[endoColorectalMaf['isDouble'] == True]['allele'])\n",
    "print observedDoubleMuts"
   ]
  }
 ],
 "metadata": {
  "kernelspec": {
   "display_name": "Python 2",
   "language": "python",
   "name": "python2"
  },
  "language_info": {
   "codemirror_mode": {
    "name": "ipython",
    "version": 2
   },
   "file_extension": ".py",
   "mimetype": "text/x-python",
   "name": "python",
   "nbconvert_exporter": "python",
   "pygments_lexer": "ipython2",
   "version": "2.7.15"
  }
 },
 "nbformat": 4,
 "nbformat_minor": 2
}
