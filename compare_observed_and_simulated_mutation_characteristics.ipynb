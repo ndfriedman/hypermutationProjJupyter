{
 "cells": [
  {
   "cell_type": "code",
   "execution_count": 2,
   "metadata": {},
   "outputs": [],
   "source": [
    "import sys\n",
    "import argparse\n",
    "import os\n",
    "import pandas as pd\n",
    "import numpy as np\n",
    "import re\n",
    "\n",
    "from collections import Counter\n",
    "\n",
    "pathPrefix = '/Users/friedman/Desktop/mnt'\n",
    "\n",
    "sys.path.append(pathPrefix + '/ifs/work/taylorlab/friedman/myUtils')\n",
    "import analysis_utils \n",
    "import mutationSigUtils \n",
    "import maf_analysis_utils\n",
    "import mutation_modeling_util\n"
   ]
  },
  {
   "cell_type": "markdown",
   "metadata": {},
   "source": [
    "**Load in data**"
   ]
  },
  {
   "cell_type": "code",
   "execution_count": 5,
   "metadata": {},
   "outputs": [],
   "source": [
    "simMafDir = pathPrefix + '/ifs/work/taylorlab/friedman/myAdjustedDataFiles/simulatedMafs/geneMutMafs'"
   ]
  },
  {
   "cell_type": "code",
   "execution_count": 7,
   "metadata": {},
   "outputs": [],
   "source": [
    "simDfSummary = pd.read_table(pathPrefix + '/ifs/work/taylorlab/friedman/hypermutationAnalysisProj/projectDataAndConfigFiles/simulatedMutationSummary.tsv')"
   ]
  },
  {
   "cell_type": "code",
   "execution_count": null,
   "metadata": {
    "scrolled": true
   },
   "outputs": [],
   "source": [
    "allImpactMuts = analysis_utils.load_in_df_with_progress(filePath = pathPrefix + '/ifs/work/taylorlab/friedman/hypermutationAnalysisProj/projectDataAndConfigFiles/all_impact_mutations_annotated_cohort.maf', nLinesFile = 275000)"
   ]
  },
  {
   "cell_type": "markdown",
   "metadata": {},
   "source": [
    "**First compare fraction of possible muts observed vs possible**"
   ]
  },
  {
   "cell_type": "code",
   "execution_count": 15,
   "metadata": {},
   "outputs": [],
   "source": [
    "allImpactMuts['mutUuid'] = allImpactMuts.apply(lambda row: \n",
    "                                               row['Hugo_Symbol'] + '_' + str(row['Start_Position']) + row['Tumor_Seq_Allele2'],\n",
    "                                               axis=1)"
   ]
  },
  {
   "cell_type": "code",
   "execution_count": 16,
   "metadata": {},
   "outputs": [],
   "source": [
    "allImpactSNPs = allImpactMuts[allImpactMuts['Variant_Type'] == 'SNP']"
   ]
  },
  {
   "cell_type": "code",
   "execution_count": null,
   "metadata": {},
   "outputs": [],
   "source": [
    "allImpactSNPs['quadNuc'] = allImpactSNPs.apply(lambda row: mutationSigUtils.create_reference_four_nuc(row['Ref_Tri'], row['Reference_Allele'], row['Tumor_Seq_Allele2'], row['Variant_Type']), axis=1)\n"
   ]
  },
  {
   "cell_type": "code",
   "execution_count": 36,
   "metadata": {},
   "outputs": [],
   "source": [
    "simDfSummary['nNonSilentMuts'] = simDfSummary['nPossibleMuts'] - simDfSummary['nSilent']"
   ]
  },
  {
   "cell_type": "code",
   "execution_count": 38,
   "metadata": {},
   "outputs": [],
   "source": [
    "listOfDicts = []\n",
    "nOncogenicPossibleDict = dict(zip(simDfSummary['Hugo_Symbol'], simDfSummary['totalNOncogenic']))\n",
    "nPossibleDict = dict(zip(simDfSummary['Hugo_Symbol'], simDfSummary['nNonSilentMuts']))\n",
    "for gene in set(simDfSummary['Hugo_Symbol']):\n",
    "    nObserved = len(set(allImpactSNPs[(allImpactSNPs['Hugo_Symbol'] == gene)]['mutUuid']))\n",
    "    nPossible = nPossibleDict[gene]\n",
    "    ratio = 1.0*nObserved/nPossible\n",
    "    nObservedOncogenic = len(set(allImpactSNPs[(allImpactSNPs['Hugo_Symbol'] == gene) & (allImpactSNPs['oncogenic'].notnull())]['mutUuid']))\n",
    "    nPossibleOncogenic = nOncogenicPossibleDict[gene]\n",
    "    ratioOnc = None \n",
    "    if nPossibleOncogenic > 0: \n",
    "        ratioOnc = 1.0*nObservedOncogenic/nOncogenicPossibleDict[gene]\n",
    "    listOfDicts.append({\n",
    "        'gene': gene,\n",
    "        'nPossibleOncogenic': nPossibleOncogenic,\n",
    "        'nObservedOncogenic': nObservedOncogenic,\n",
    "        'fractionOfPossibleOncMutsObserved': ratioOnc,\n",
    "        'nPossible': nPossible,\n",
    "        'nObserved': nObserved,\n",
    "        'ratio': ratio\n",
    "    })\n",
    "df = pd.DataFrame(listOfDicts)"
   ]
  },
  {
   "cell_type": "code",
   "execution_count": 39,
   "metadata": {},
   "outputs": [],
   "source": [
    "#we will label common genes like p53\n",
    "df['displayName'] = df['gene'].apply(lambda x: x if x in set(['TP53', 'PIK3CA', 'KRAS', 'PTEN', 'TERT', 'APC', 'KMT2D', 'ARID1A', 'EGFR', 'KMT2C', 'NF1', 'BRAF']) else None)\n",
    "df.to_csv('/Users/friedman/Desktop/WORK/dataForLocalPlotting/geneObservedFracs.tsv', index=False, sep='\\t')"
   ]
  },
  {
   "cell_type": "markdown",
   "metadata": {},
   "source": [
    "**Compare Observed Vs Possible At Quadnucs**"
   ]
  },
  {
   "cell_type": "code",
   "execution_count": 47,
   "metadata": {
    "scrolled": false
   },
   "outputs": [],
   "source": [
    "allPossibleQuadNucs = [firstNuc + change + lastNuc for firstNuc in ['A', 'T', 'C', 'G'] for change in ['CA', 'CG', 'CT', 'TA', 'TC', 'TG'] for lastNuc in ['A', 'T', 'C', 'G']]\n",
    "listOfDicts = []\n",
    "for quadNuc in allPossibleQuadNucs:\n",
    "    nPossibleMuts = sum(simDfSummary[quadNuc]) - sum(simDfSummary[quadNuc + '_silent'])\n",
    "    nPossibleOncMuts = sum(simDfSummary[quadNuc + '_oncogenic'])\n",
    "    \n",
    "    nObservedQuadNuc = len(set(allImpactSNPs[(allImpactSNPs['quadNuc'] == quadNuc)]['mutUuid']))\n",
    "    nObservedOncAtQuadNuc = len(set(allImpactSNPs[(allImpactSNPs['quadNuc'] == quadNuc) & (allImpactSNPs['oncogenic'].notnull())]['mutUuid']))\n",
    "    \n",
    "    listOfDicts.append({\n",
    "        'quadNuc': quadNuc,\n",
    "        'nPossibleMuts': nPossibleMuts,\n",
    "        'nPossibleOncMuts': nPossibleOncMuts,\n",
    "        'nObservedQuadNuc': nObservedQuadNuc,\n",
    "        'nObservedOncAtQuadNuc': nObservedOncAtQuadNuc\n",
    "    })\n",
    "    \n",
    "df = pd.DataFrame(listOfDicts)\n",
    "    "
   ]
  },
  {
   "cell_type": "code",
   "execution_count": 51,
   "metadata": {},
   "outputs": [],
   "source": [
    "df['changeType'] = df['quadNuc'].apply(lambda x: 'C>A' if x[1:3] == 'CA' else 'C>G' if x[1:3] == 'CG'\n",
    "                                      else 'C>T' if x[1:3] == 'CT' else 'T>A' if x[1:3] == 'TA'\n",
    "                                      else 'T>C' if x[1:3] == 'TC' else 'T>G')"
   ]
  },
  {
   "cell_type": "code",
   "execution_count": 54,
   "metadata": {},
   "outputs": [],
   "source": [
    "df.to_csv('/Users/friedman/Desktop/WORK/dataForLocalPlotting/quadNucObservedFracs.tsv', index=False, sep='\\t')"
   ]
  },
  {
   "cell_type": "markdown",
   "metadata": {},
   "source": [
    "**Compare gene length to mutation fraction**"
   ]
  },
  {
   "cell_type": "code",
   "execution_count": 56,
   "metadata": {},
   "outputs": [],
   "source": [
    "nPossibleDict = dict(zip(simDfSummary['Hugo_Symbol'], simDfSummary['nNonSilentMuts']))\n",
    "listOfDicts = []\n",
    "for gene in set(simDfSummary['Hugo_Symbol']):\n",
    "    listOfDicts.append({\n",
    "        'gene': gene,\n",
    "        'nPossibleNonSilentMuts': nPossibleDict[gene],\n",
    "        'nObservedDistinctNonSilentMuts': len(set(allImpactSNPs[(allImpactSNPs['Hugo_Symbol'] == gene)]['mutUuid']))\n",
    "    })\n",
    "df = pd.DataFrame(listOfDicts)"
   ]
  },
  {
   "cell_type": "code",
   "execution_count": 59,
   "metadata": {},
   "outputs": [],
   "source": [
    "df['displayName'] = df['gene'].apply(lambda x: x if x in set(['TP53', 'PIK3CA', 'KRAS', 'PTEN', 'TERT', 'APC', 'KMT2D', 'ARID1A', 'EGFR', 'KMT2C', 'NF1', 'BRAF']) else None)\n",
    "df.to_csv('/Users/friedman/Desktop/WORK/dataForLocalPlotting/mutationObservedVsPossibleMuts.tsv', index=False, sep='\\t')"
   ]
  },
  {
   "cell_type": "markdown",
   "metadata": {},
   "source": [
    "**DO OBSERVED VS POSSIBLE BY MUTATION FREQ**"
   ]
  },
  {
   "cell_type": "code",
   "execution_count": 62,
   "metadata": {},
   "outputs": [
    {
     "name": "stdout",
     "output_type": "stream",
     "text": [
      "set(['Silent', \"5'Flank\", 'Splice_Region', 'Nonstop_Mutation', \"3'Flank\", 'Targeted_Region', 'Intron', \"5'UTR\", 'IGR'])\n"
     ]
    }
   ],
   "source": [
    "print set(allImpactMuts['Variant_Classification']) - set([\"Frame_Shift_Del\", \"Frame_Shift_Ins\", \"In_Frame_Del\", \"In_Frame_Ins\", \"Missense_Mutation\", \"Nonsense_Mutation\", \"Splice_Site\", \"Translation_Start_Site\"])"
   ]
  },
  {
   "cell_type": "code",
   "execution_count": 85,
   "metadata": {
    "scrolled": false
   },
   "outputs": [],
   "source": [
    "listOfDicts = []\n",
    "varTypePossibleCounts = {'Missense_Mutation': 2404402, 'Nonsense_Mutation': 137057, 'Splice_Site': 21090, 'Translation_Start_Site': 4162}\n",
    "for varType in set(['Missense_Mutation', 'Nonsense_Mutation', 'Splice_Site', 'Translation_Start_Site']):\n",
    "    nObserved = len(set(allImpactMuts[allImpactMuts['Variant_Classification'] == varType]['mutUuid']))\n",
    "    listOfDicts.append({\n",
    "        'mutationType': varType,\n",
    "        'frac': 1.0*nObserved/varTypePossibleCounts[varType]\n",
    "    })\n",
    "df = pd.DataFrame(listOfDicts)"
   ]
  },
  {
   "cell_type": "code",
   "execution_count": 87,
   "metadata": {},
   "outputs": [],
   "source": [
    "df.to_csv('/Users/friedman/Desktop/WORK/dataForLocalPlotting/variantTypeObsVsPossible.tsv', sep='\\t', index=False)"
   ]
  },
  {
   "cell_type": "markdown",
   "metadata": {},
   "source": [
    "**SIGNATURE SPECIFIC ANALYSES**"
   ]
  },
  {
   "cell_type": "code",
   "execution_count": 89,
   "metadata": {},
   "outputs": [],
   "source": [
    "impactSigs = pd.read_table(pathPrefix + '/ifs/res/taylorlab/impact_sigs/mixedpact_data_mutations_unfiltered.sigs.tab.txt')"
   ]
  },
  {
   "cell_type": "code",
   "execution_count": 90,
   "metadata": {},
   "outputs": [],
   "source": [
    "impactSigs['pid'] = impactSigs['Tumor_Sample_Barcode'].apply(lambda x: x[:9])"
   ]
  },
  {
   "cell_type": "code",
   "execution_count": 91,
   "metadata": {},
   "outputs": [],
   "source": [
    "impactSigs = mutationSigUtils.merge_signature_columns(impactSigs)"
   ]
  },
  {
   "cell_type": "code",
   "execution_count": 97,
   "metadata": {},
   "outputs": [],
   "source": [
    "impactSigs['dominantSig'] = impactSigs.apply(lambda row: mutationSigUtils.get_dominant_signature(row.to_dict(), notEnoughMuts= False), axis=1)\n"
   ]
  },
  {
   "cell_type": "code",
   "execution_count": 124,
   "metadata": {},
   "outputs": [],
   "source": [
    "poleDominantSigIds = set(impactSigs[(impactSigs['dominantSig'] == 'mean_10') & (impactSigs['Nmut'] > 50)]['Tumor_Sample_Barcode'])\n",
    "mmrDominantSigIds = set(impactSigs[(impactSigs['dominantSig'] == 'mean_MMR') & (impactSigs['Nmut'] > 50)]['Tumor_Sample_Barcode'])\n",
    "tmzDominantSigIds = set(impactSigs[(impactSigs['dominantSig'] == 'mean_11') & (impactSigs['Nmut'] > 50)]['Tumor_Sample_Barcode'])\n",
    "apobecDominantSigIds = set(impactSigs[(impactSigs['dominantSig'] == 'mean_APOBEC') & (impactSigs['Nmut'] > 50)]['Tumor_Sample_Barcode'])\n",
    "uvDominantSigIds = set(impactSigs[(impactSigs['dominantSig'] == 'mean_7') & (impactSigs['Nmut'] > 50)]['Tumor_Sample_Barcode'])\n",
    "smokingDominantSigIds = set(impactSigs[(impactSigs['dominantSig'] == 'mean_4') & (impactSigs['Nmut'] > 50)]['Tumor_Sample_Barcode'])\n",
    "\n"
   ]
  },
  {
   "cell_type": "code",
   "execution_count": 125,
   "metadata": {},
   "outputs": [],
   "source": [
    "#FUNCTIONS TO USE\n",
    "def get_per_case_mut_info(nmutDfPath = pathPrefix + '/ifs/work/taylorlab/friedman/hypermutationAnalysisProj/projectDataAndConfigFiles/nmutInfo_impact_filtered.tsv'):\n",
    "    df = pd.read_table(nmutDfPath)\n",
    "    return dict(zip(df['Tumor_Sample_Barcode'], df['Nmut']))\n",
    "\n",
    "def get_per_case_oncogenic_mut_info(muts):\n",
    "    oncogenicMuts = muts[muts['oncogenic'].notnull()]\n",
    "    nMutOncDict = dict(oncogenicMuts['Tumor_Sample_Barcode'].value_counts())\n",
    "    return nMutOncDict"
   ]
  },
  {
   "cell_type": "code",
   "execution_count": 127,
   "metadata": {},
   "outputs": [],
   "source": [
    "nMutDict = get_per_case_mut_info()\n",
    "oncogenicMutDict = get_per_case_oncogenic_mut_info(allImpactMuts)"
   ]
  },
  {
   "cell_type": "code",
   "execution_count": 134,
   "metadata": {},
   "outputs": [],
   "source": [
    "#summarize mutation information\n",
    "listOfDicts = []\n",
    "for name, idList in [['POLE', poleDominantSigIds], ['MMR', mmrDominantSigIds], ['TMZ', tmzDominantSigIds],\n",
    "                    ['APOBEC', apobecDominantSigIds], ['UV', uvDominantSigIds], ['SMOKING', smokingDominantSigIds]]:\n",
    "    muts = allImpactMuts[allImpactMuts['Tumor_Sample_Barcode'].isin(idList)]\n",
    "    for case in set(muts['Tumor_Sample_Barcode']):\n",
    "        if case not in nMutDict: pass\n",
    "        elif case not in oncogenicMutDict: pass\n",
    "        else: \n",
    "            listOfDicts.append({'Tumor_Sample_Barcode': case,\n",
    "                            'Signature_Aetiology': name,\n",
    "                            'nmut': nMutDict[case],\n",
    "                            'nOncogenic': oncogenicMutDict[case]\n",
    "                           })\n",
    "        \n",
    "df = pd.DataFrame(listOfDicts)\n",
    "    "
   ]
  },
  {
   "cell_type": "code",
   "execution_count": 136,
   "metadata": {},
   "outputs": [],
   "source": [
    "df.to_csv('/Users/friedman/Desktop/WORK/dataForLocalPlotting/oncMutFracsBySignatures.tsv', sep='\\t', index=False)"
   ]
  },
  {
   "cell_type": "markdown",
   "metadata": {},
   "source": [
    "**QUAD NUC MUT SUSCEPTIBILITY**"
   ]
  },
  {
   "cell_type": "code",
   "execution_count": 137,
   "metadata": {},
   "outputs": [],
   "source": [
    "oncogenicSusceptibilityDict = mutation_modeling_util.calculate_quadnuc_based_oncogenic_susceptibility_dict(simDfSummary)"
   ]
  },
  {
   "cell_type": "code",
   "execution_count": 146,
   "metadata": {},
   "outputs": [],
   "source": [
    "listOfDicts = []\n",
    "for key, value in oncogenicSusceptibilityDict.items():\n",
    "    listOfDicts.append({\n",
    "        'quadNuc': key, \n",
    "        'probability': value['IMPACT_468']\n",
    "    })\n",
    "\n",
    "df = pd.DataFrame(listOfDicts)\n",
    "df['changeType'] = df['quadNuc'].apply(lambda x: 'C>A' if x[1:3] == 'CA' else 'C>G' if x[1:3] == 'CG'\n",
    "                                      else 'C>T' if x[1:3] == 'CT' else 'T>A' if x[1:3] == 'TA'\n",
    "                                      else 'T>C' if x[1:3] == 'TC' else 'T>G')\n",
    "df['motifLabel'] = df['quadNuc'].apply(lambda x: 'POLE-30%' if x == 'TCAT'\n",
    "                                       else 'POLE-20%' if x == 'TCTG'\n",
    "                                      else 'MMR-17%' if x == 'GCTG'\n",
    "                                      else 'TMZ-15%' if x == 'TCTC'\n",
    "                                      else 'TMZ-14%' if x == 'ACTC'\n",
    "                                      else 'APOBEC-36%' if x == 'TCGT'\n",
    "                                      else 'APOBEC-30%' if x == 'TCGA'\n",
    "                                      else None)"
   ]
  },
  {
   "cell_type": "code",
   "execution_count": 147,
   "metadata": {},
   "outputs": [],
   "source": [
    "df.to_csv('/Users/friedman/Desktop/WORK/dataForLocalPlotting/quadNucExpectedFracs.tsv', index=False, sep='\\t')"
   ]
  }
 ],
 "metadata": {
  "kernelspec": {
   "display_name": "Python 2",
   "language": "python",
   "name": "python2"
  },
  "language_info": {
   "codemirror_mode": {
    "name": "ipython",
    "version": 2
   },
   "file_extension": ".py",
   "mimetype": "text/x-python",
   "name": "python",
   "nbconvert_exporter": "python",
   "pygments_lexer": "ipython2",
   "version": "2.7.15"
  }
 },
 "nbformat": 4,
 "nbformat_minor": 2
}
