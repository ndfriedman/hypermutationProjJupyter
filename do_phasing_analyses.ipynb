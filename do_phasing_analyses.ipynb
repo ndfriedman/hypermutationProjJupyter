{
 "cells": [
  {
   "cell_type": "code",
   "execution_count": 112,
   "metadata": {},
   "outputs": [],
   "source": [
    "import sys\n",
    "import argparse\n",
    "import os\n",
    "import pandas as pd\n",
    "import numpy as np\n",
    "import re\n",
    "\n",
    "from collections import Counter\n",
    "\n",
    "pathPrefix = '/Users/friedman/Desktop/mnt'\n",
    "sys.path.append(pathPrefix + '/juno/work/taylorlab/friedman/myUtils')\n",
    "import analysis_utils \n",
    "import mutationSigUtils \n",
    "import maf_analysis_utils\n",
    "import mutation_modeling_util\n",
    "import get_gene_and_cohort_list_utils\n",
    "import clonality_analysis_util\n",
    "import math"
   ]
  },
  {
   "cell_type": "code",
   "execution_count": 44,
   "metadata": {},
   "outputs": [],
   "source": [
    "facetsWhitelist = set(\n",
    "['P-0000069-T01-IM3', 'P-0001248-T01-IM3', 'P-0001703-T01-IM3', 'P-0003767-T01-IM5', 'P-0004255-T01-IM5',\n",
    "'P-0004260-T02-IM5', 'P-0004688-T01-IM5', 'P-0005021-T01-IM5', 'P-0006612-T01-IM5', 'P-0006753-T01-IM5',\n",
    "'P-0009157-T01-IM5', 'P-0010308-T01-IM5', 'P-0010393-T02-IM6', 'P-0010499-T01-IM5', 'P-0010671-T01-IM5',\n",
    "'P-0011345-T01-IM5', 'P-0011385-T01-IM5', 'P-0012397-T01-IM5', 'P-0012402-T01-IM5', 'P-0012445-T01-IM5',\n",
    "'P-0012670-T01-IM5', 'P-0012726-T01-IM5', 'P-0012881-T01-IM5', 'P-0013227-T01-IM5', 'P-0013350-T01-IM5',\n",
    "'P-0013400-T01-IM5', 'P-0013676-T01-IM5', 'P-0014258-T01-IM6', 'P-0014787-T01-IM6', 'P-0015885-T01-IM6',\n",
    "'P-0016773-T01-IM6', 'P-0017675-T01-IM5', 'P-0017839-T01-IM6', 'P-0017925-T01-IM6', 'P-0018005-T01-IM6',\n",
    "'P-0018616-T01-IM6', 'P-0019264-T01-IM6', 'P-0019360-T01-IM6', 'P-0019545-T01-IM6', 'P-0019658-T01-IM6',\n",
    "'P-0019871-T01-IM6', 'P-0021090-T01-IM6', 'P-0025554-T01-IM6', 'P-0026278-T01-IM6', 'P-0026523-T01-IM6',\n",
    "'P-0026962-T01-IM6', 'P-0028144-T01-IM6', 'P-0029690-T01-IM6', 'P-0029778-T01-IM6', 'P-0032113-T01-IM6',\n",
    "'P-0032181-T01-IM6', 'P-0032660-T01-IM6', 'P-0033425-T01-IM6', 'P-0033605-T01-IM6', 'P-0034448-T01-IM6',\n",
    "'P-0035281-T01-IM6', 'P-0036123-T01-IM6', 'P-0036500-T01-IM6', 'P-0036503-T01-IM6', 'P-0036568-T01-IM6',\n",
    "'P-0036860-T01-IM6', 'P-0037288-T01-IM6', 'P-0037582-T01-IM6', 'P-0003524-T01-IM5', 'P-0004051-T01-IM5',\n",
    "'P-0004865-T01-IM5', 'P-0006207-T01-IM5', 'P-0007831-T01-IM5', 'P-0007997-T01-IM5', 'P-0008345-T01-IM5',\n",
    "'P-0010504-T01-IM5', 'P-0010828-T01-IM5', 'P-0011540-T01-IM5', 'P-0013537-T01-IM5', 'P-0014388-T01-IM6',\n",
    "'P-0014780-T01-IM6', 'P-0016023-T01-IM6', 'P-0016099-T01-IM6', 'P-0016801-T01-IM6', 'P-0017713-T01-IM6',\n",
    "'P-0019464-T01-IM6', 'P-0019649-T01-IM6', 'P-0020143-T01-IM6', 'P-0020242-T01-IM6', 'P-0020331-T01-IM6',\n",
    "'P-0021077-T01-IM6', 'P-0021572-T01-IM6', 'P-0023271-T01-IM6', 'P-0023555-T01-IM6', 'P-0024633-T01-IM6',\n",
    "'P-0025073-T01-IM6', 'P-0026456-T01-IM6', 'P-0027438-T01-IM6', 'P-0032496-T01-IM6', 'P-0034308-T01-IM6',\n",
    "'P-0035916-T01-IM6', 'P-0000157-T01-IM3', 'P-0007843-T01-IM5', 'P-0011357-T01-IM5', 'P-0021897-T01-IM6',\n",
    "'P-0020295-T01-IM6', 'P-0008646-T01-IM5', 'P-0010803-T01-IM5', 'P-0011226-T01-IM5', 'P-0013876-T01-IM5',\n",
    "'P-0015288-T01-IM6', 'P-0017681-T01-IM6', 'P-0018781-T01-IM6', 'P-0019437-T01-IM6', 'P-0020151-T01-IM6',\n",
    "'P-0020757-T01-IM6', 'P-0025648-T01-IM6', 'P-0027375-T01-IM6', 'P-0029228-T01-IM6', 'P-0030260-T01-IM6',\n",
    "'P-0032548-T01-IM6', 'P-0032602-T01-IM6', 'P-0033410-T01-IM6', 'P-0035146-T01-IM6', 'P-0035147-T01-IM6',\n",
    "'P-0006170-T01-IM5', 'P-0005197-T01-IM5', 'P-0004379-T01-IM5', 'P-0004379-T02-IM6', 'P-0011570-T01-IM5',\n",
    "'P-0012171-T02-IM6', 'P-0012333-T01-IM5', 'P-0013557-T01-IM5', 'P-0016825-T01-IM6', 'P-0016972-T01-IM6',\n",
    "'P-0017862-T01-IM6', 'P-0018437-T01-IM6', 'P-0020271-T01-IM6', 'P-0024488-T01-IM6', 'P-0025242-T01-IM6',\n",
    "'P-0025662-T01-IM6', 'P-0029972-T01-IM6', 'P-0031195-T01-IM6', 'P-0032548-T01-IM6', 'P-0032602-T01-IM6',\n",
    "'P-0035146-T01-IM6', 'P-0035147-T01-IM6', 'P-0035770-T01-IM6', 'P-0036297-T01-IM6', 'P-0009964-T02-IM5',\n",
    "'P-0013787-T01-IM5', 'P-0015626-T01-IM6', 'P-0024219-T01-IM6', 'P-0032589-T01-IM6', 'P-0037227-T01-IM6',\n",
    "'P-0024733-T01-IM6'\n",
    "])"
   ]
  },
  {
   "cell_type": "code",
   "execution_count": 4,
   "metadata": {},
   "outputs": [
    {
     "name": "stderr",
     "output_type": "stream",
     "text": [
      "/anaconda2/lib/python2.7/site-packages/IPython/core/interactiveshell.py:2714: DtypeWarning: Columns (5,45,92,93,112,113) have mixed types. Specify dtype option on import or set low_memory=False.\n",
      "  interactivity=interactivity, compiler=compiler, result=result)\n"
     ]
    }
   ],
   "source": [
    "phasingData = pd.read_table(pathPrefix + '/home/ang46/lab/projects/compound_mutations/data/processed_data/data_mutations_phased_all.txt')"
   ]
  },
  {
   "cell_type": "code",
   "execution_count": null,
   "metadata": {},
   "outputs": [],
   "source": [
    "allHypermutantIds = get_gene_and_cohort_list_utils.get_all_hypermutant_ids(hypermutantIdDir=pathPrefix + '/juno/work/taylorlab/friedman/hypermutationAnalysisProj/projectDataAndConfigFiles/hypermutationStatusIds')\n"
   ]
  },
  {
   "cell_type": "code",
   "execution_count": 31,
   "metadata": {},
   "outputs": [],
   "source": [
    "phasingHyper = phasingData[phasingData['Tumor_Sample_Barcode'].isin(allHypermutantIds)]"
   ]
  },
  {
   "cell_type": "code",
   "execution_count": 45,
   "metadata": {},
   "outputs": [
    {
     "name": "stderr",
     "output_type": "stream",
     "text": [
      "/anaconda2/lib/python2.7/site-packages/ipykernel_launcher.py:5: SettingWithCopyWarning: \n",
      "A value is trying to be set on a copy of a slice from a DataFrame.\n",
      "Try using .loc[row_indexer,col_indexer] = value instead\n",
      "\n",
      "See the caveats in the documentation: http://pandas.pydata.org/pandas-docs/stable/indexing.html#indexing-view-versus-copy\n",
      "  \"\"\"\n"
     ]
    }
   ],
   "source": [
    "#reload(clonality_analysis_util) #for some reason this isnt working\n",
    "#whitelistFlatGenomeCases = clonality_analysis_util.get_facets_whitelist()\n",
    "phasingHyper['adjPhase'] = phasingHyper.apply(lambda row: \n",
    "    'trans' if row['phase'] == 'trans or separate cells' and row['Tumor_Sample_Barcode'] in facetsWhitelist\n",
    "    else row['phase'], axis=1)"
   ]
  },
  {
   "cell_type": "code",
   "execution_count": 152,
   "metadata": {},
   "outputs": [
    {
     "name": "stderr",
     "output_type": "stream",
     "text": [
      "/anaconda2/lib/python2.7/site-packages/ipykernel_launcher.py:13: SettingWithCopyWarning: \n",
      "A value is trying to be set on a copy of a slice from a DataFrame.\n",
      "Try using .loc[row_indexer,col_indexer] = value instead\n",
      "\n",
      "See the caveats in the documentation: http://pandas.pydata.org/pandas-docs/stable/indexing.html#indexing-view-versus-copy\n",
      "  del sys.path[0]\n"
     ]
    }
   ],
   "source": [
    "#summaryDf.to_csv('/Users/friedman/Desktop/WORK/dataForLocalPlotting/phasingData.tsv', index=False, sep='\\t')\n",
    "plotThresh = 5\n",
    "genesToHighlight = [key for key, value in dict(phasingHyper[(phasingHyper['oncogenic.1'].notnull()) & (phasingHyper['oncogenic.2'].notnull()) & (phasingHyper['adjPhase'].isin(['cis', 'trans']))][\n",
    "    'Hugo_Symbol'].value_counts()).items() if value > plotThresh]\n",
    "\n",
    "phasingHyper['label'] = phasingHyper.apply(lambda row: \n",
    "                                           '1 or 2 silent' if (row['Variant_Classification.1'] == 'Silent') | (row['Variant_Classification.2'] == 'Silent')\n",
    "                                           else '1 or 2 VUS'\n",
    "                                               if (not isinstance(row['oncogenic.1'], str)) | (not isinstance(row['oncogenic.2'], str))\n",
    "                                           else row['Hugo_Symbol'] if row['Hugo_Symbol'] in genesToHighlight\n",
    "                                           else 'other_tsg' if row['Role'] == 'TSG'\n",
    "                                           else 'other_oncogene' if row['Role'] == 'Oncogene'\n",
    "                                           else 'other', axis=1)\n"
   ]
  },
  {
   "cell_type": "code",
   "execution_count": 153,
   "metadata": {},
   "outputs": [
    {
     "name": "stderr",
     "output_type": "stream",
     "text": [
      "/anaconda2/lib/python2.7/site-packages/ipykernel_launcher.py:1: SettingWithCopyWarning: \n",
      "A value is trying to be set on a copy of a slice from a DataFrame.\n",
      "Try using .loc[row_indexer,col_indexer] = value instead\n",
      "\n",
      "See the caveats in the documentation: http://pandas.pydata.org/pandas-docs/stable/indexing.html#indexing-view-versus-copy\n",
      "  \"\"\"Entry point for launching an IPython kernel.\n"
     ]
    }
   ],
   "source": [
    "phasingHyper['isTrans'] = phasingHyper['adjPhase'].apply(lambda x: 1 if x == 'trans' else 0 if x == 'cis' else None)\n",
    "phasingHyperWrite = phasingHyper[phasingHyper['isTrans'].notnull()]"
   ]
  },
  {
   "cell_type": "code",
   "execution_count": 154,
   "metadata": {},
   "outputs": [],
   "source": [
    "phasingHyperWrite.to_csv('/Users/friedman/Desktop/WORK/dataForLocalPlotting/phasingData.tsv', index=False, sep='\\t')"
   ]
  }
 ],
 "metadata": {
  "kernelspec": {
   "display_name": "Python 2",
   "language": "python",
   "name": "python2"
  },
  "language_info": {
   "codemirror_mode": {
    "name": "ipython",
    "version": 2
   },
   "file_extension": ".py",
   "mimetype": "text/x-python",
   "name": "python",
   "nbconvert_exporter": "python",
   "pygments_lexer": "ipython2",
   "version": "2.7.15"
  }
 },
 "nbformat": 4,
 "nbformat_minor": 2
}
